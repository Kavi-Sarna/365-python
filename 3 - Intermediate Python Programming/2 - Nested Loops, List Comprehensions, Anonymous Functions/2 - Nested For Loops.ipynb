{
  "nbformat": 4,
  "nbformat_minor": 0,
  "metadata": {
    "colab": {
      "provenance": [],
      "authorship_tag": "ABX9TyN7RJ2W0nv8ZvpEmjgP89L5",
      "include_colab_link": true
    },
    "kernelspec": {
      "name": "python3",
      "display_name": "Python 3"
    },
    "language_info": {
      "name": "python"
    }
  },
  "cells": [
    {
      "cell_type": "markdown",
      "metadata": {
        "id": "view-in-github",
        "colab_type": "text"
      },
      "source": [
        "<a href=\"https://colab.research.google.com/github/Kavi-Sarna/365-python/blob/main/3%20-%20Intermediate%20Python%20Programming/2%20-%20Nested%20Loops%2C%20List%20Comprehensions%2C%20Anonymous%20Functions/2%20-%20Nested%20For%20Loops.ipynb\" target=\"_parent\"><img src=\"https://colab.research.google.com/assets/colab-badge.svg\" alt=\"Open In Colab\"/></a>"
      ]
    },
    {
      "cell_type": "code",
      "source": [
        "for i in range(2):\n",
        "  print(i)"
      ],
      "metadata": {
        "colab": {
          "base_uri": "https://localhost:8080/"
        },
        "id": "tiTAQgDFaFsp",
        "outputId": "f5f6689a-352f-4247-e014-7eeac1dc4345"
      },
      "execution_count": 1,
      "outputs": [
        {
          "output_type": "stream",
          "name": "stdout",
          "text": [
            "0\n",
            "1\n"
          ]
        }
      ]
    },
    {
      "cell_type": "code",
      "source": [
        "for j in range(5):\n",
        "  print(j)"
      ],
      "metadata": {
        "colab": {
          "base_uri": "https://localhost:8080/"
        },
        "id": "Bz8VJszyaQYo",
        "outputId": "8ec6e708-3b75-4916-80ea-be5757ec82f2"
      },
      "execution_count": 2,
      "outputs": [
        {
          "output_type": "stream",
          "name": "stdout",
          "text": [
            "0\n",
            "1\n",
            "2\n",
            "3\n",
            "4\n"
          ]
        }
      ]
    },
    {
      "cell_type": "code",
      "source": [
        "for i in range(2):\n",
        "  for j in range(5):\n",
        "    print(j)"
      ],
      "metadata": {
        "colab": {
          "base_uri": "https://localhost:8080/"
        },
        "id": "-jxo-FhXaVnV",
        "outputId": "5144ad62-6100-4704-b5ef-a4fe820d34af"
      },
      "execution_count": 3,
      "outputs": [
        {
          "output_type": "stream",
          "name": "stdout",
          "text": [
            "0\n",
            "1\n",
            "2\n",
            "3\n",
            "4\n",
            "0\n",
            "1\n",
            "2\n",
            "3\n",
            "4\n"
          ]
        }
      ]
    },
    {
      "cell_type": "code",
      "source": [
        "for i in range(2):\n",
        "  for j in range(5):\n",
        "    print([i, j])"
      ],
      "metadata": {
        "colab": {
          "base_uri": "https://localhost:8080/"
        },
        "id": "6SnLzDauafM9",
        "outputId": "0ddb898d-a597-4aca-f67f-7685dd42304d"
      },
      "execution_count": 4,
      "outputs": [
        {
          "output_type": "stream",
          "name": "stdout",
          "text": [
            "[0, 0]\n",
            "[0, 1]\n",
            "[0, 2]\n",
            "[0, 3]\n",
            "[0, 4]\n",
            "[1, 0]\n",
            "[1, 1]\n",
            "[1, 2]\n",
            "[1, 3]\n",
            "[1, 4]\n"
          ]
        }
      ]
    },
    {
      "cell_type": "code",
      "source": [
        "for i in ['Product A', 'Product B']:\n",
        "  for j in range(5):\n",
        "    print([i, j])"
      ],
      "metadata": {
        "colab": {
          "base_uri": "https://localhost:8080/"
        },
        "id": "2wNwZuNjakBa",
        "outputId": "f5392f60-9b80-40e1-f689-4616e57f0810"
      },
      "execution_count": 5,
      "outputs": [
        {
          "output_type": "stream",
          "name": "stdout",
          "text": [
            "['Product A', 0]\n",
            "['Product A', 1]\n",
            "['Product A', 2]\n",
            "['Product A', 3]\n",
            "['Product A', 4]\n",
            "['Product B', 0]\n",
            "['Product B', 1]\n",
            "['Product B', 2]\n",
            "['Product B', 3]\n",
            "['Product B', 4]\n"
          ]
        }
      ]
    },
    {
      "cell_type": "code",
      "source": [
        "products = ['Product A', 'Product B']\n",
        "exp_sales = [10000, 11000, 12000, 13000, 14000]"
      ],
      "metadata": {
        "id": "YpLhyLbKbP2_"
      },
      "execution_count": 6,
      "outputs": []
    },
    {
      "cell_type": "code",
      "source": [
        "for i in products:\n",
        "  for j in exp_sales:\n",
        "    print([i, j])"
      ],
      "metadata": {
        "colab": {
          "base_uri": "https://localhost:8080/"
        },
        "id": "6RGMefVUbcHq",
        "outputId": "783ecf37-4c5e-48f8-f1a1-cb9dcfd49bfe"
      },
      "execution_count": 7,
      "outputs": [
        {
          "output_type": "stream",
          "name": "stdout",
          "text": [
            "['Product A', 10000]\n",
            "['Product A', 11000]\n",
            "['Product A', 12000]\n",
            "['Product A', 13000]\n",
            "['Product A', 14000]\n",
            "['Product B', 10000]\n",
            "['Product B', 11000]\n",
            "['Product B', 12000]\n",
            "['Product B', 13000]\n",
            "['Product B', 14000]\n"
          ]
        }
      ]
    },
    {
      "cell_type": "code",
      "source": [],
      "metadata": {
        "id": "3insnaYrbhma"
      },
      "execution_count": 7,
      "outputs": []
    },
    {
      "cell_type": "code",
      "source": [
        "products = ['Product A', 'Product B']\n",
        "exp_sales = [10000, 11000, 12000, 13000, 14000]\n",
        "time_horizon = (1, 3, 12)"
      ],
      "metadata": {
        "id": "LnDOZy17blMI"
      },
      "execution_count": 8,
      "outputs": []
    },
    {
      "cell_type": "code",
      "source": [
        "for i in products:\n",
        "  for j in exp_sales:\n",
        "    for k in time_horizon:\n",
        "      print([ i, j*k ])"
      ],
      "metadata": {
        "colab": {
          "base_uri": "https://localhost:8080/"
        },
        "id": "MKVUqy8DbxMO",
        "outputId": "7a302d13-9d6e-4303-dc0b-0fb41a82278a"
      },
      "execution_count": 9,
      "outputs": [
        {
          "output_type": "stream",
          "name": "stdout",
          "text": [
            "['Product A', 10000]\n",
            "['Product A', 30000]\n",
            "['Product A', 120000]\n",
            "['Product A', 11000]\n",
            "['Product A', 33000]\n",
            "['Product A', 132000]\n",
            "['Product A', 12000]\n",
            "['Product A', 36000]\n",
            "['Product A', 144000]\n",
            "['Product A', 13000]\n",
            "['Product A', 39000]\n",
            "['Product A', 156000]\n",
            "['Product A', 14000]\n",
            "['Product A', 42000]\n",
            "['Product A', 168000]\n",
            "['Product B', 10000]\n",
            "['Product B', 30000]\n",
            "['Product B', 120000]\n",
            "['Product B', 11000]\n",
            "['Product B', 33000]\n",
            "['Product B', 132000]\n",
            "['Product B', 12000]\n",
            "['Product B', 36000]\n",
            "['Product B', 144000]\n",
            "['Product B', 13000]\n",
            "['Product B', 39000]\n",
            "['Product B', 156000]\n",
            "['Product B', 14000]\n",
            "['Product B', 42000]\n",
            "['Product B', 168000]\n"
          ]
        }
      ]
    },
    {
      "cell_type": "code",
      "source": [
        "for prod in products:\n",
        "  for sale in exp_sales:\n",
        "    for t_hor in time_horizon:\n",
        "      print([ prod, sale * t_hor ])"
      ],
      "metadata": {
        "colab": {
          "base_uri": "https://localhost:8080/"
        },
        "id": "l8oqEH_ocAEE",
        "outputId": "da6d8fe5-dd32-49bd-9244-0f3ccce04987"
      },
      "execution_count": 10,
      "outputs": [
        {
          "output_type": "stream",
          "name": "stdout",
          "text": [
            "['Product A', 10000]\n",
            "['Product A', 30000]\n",
            "['Product A', 120000]\n",
            "['Product A', 11000]\n",
            "['Product A', 33000]\n",
            "['Product A', 132000]\n",
            "['Product A', 12000]\n",
            "['Product A', 36000]\n",
            "['Product A', 144000]\n",
            "['Product A', 13000]\n",
            "['Product A', 39000]\n",
            "['Product A', 156000]\n",
            "['Product A', 14000]\n",
            "['Product A', 42000]\n",
            "['Product A', 168000]\n",
            "['Product B', 10000]\n",
            "['Product B', 30000]\n",
            "['Product B', 120000]\n",
            "['Product B', 11000]\n",
            "['Product B', 33000]\n",
            "['Product B', 132000]\n",
            "['Product B', 12000]\n",
            "['Product B', 36000]\n",
            "['Product B', 144000]\n",
            "['Product B', 13000]\n",
            "['Product B', 39000]\n",
            "['Product B', 156000]\n",
            "['Product B', 14000]\n",
            "['Product B', 42000]\n",
            "['Product B', 168000]\n"
          ]
        }
      ]
    },
    {
      "cell_type": "code",
      "source": [
        "for prod in products:\n",
        "  for sale in exp_sales:\n",
        "    for t_hor in time_horizon:\n",
        "      print('Expected sales for a period of {0} month(s) for {1}: ${sales}'.format(t_hor, prod, sales = sale * t_hor))"
      ],
      "metadata": {
        "colab": {
          "base_uri": "https://localhost:8080/"
        },
        "id": "O4qLbysQcVdp",
        "outputId": "d0bbb224-2279-42f1-9fa8-6de4c0b29e55"
      },
      "execution_count": 11,
      "outputs": [
        {
          "output_type": "stream",
          "name": "stdout",
          "text": [
            "Expected sales for a period of 1 month(s) for Product A: $10000\n",
            "Expected sales for a period of 3 month(s) for Product A: $30000\n",
            "Expected sales for a period of 12 month(s) for Product A: $120000\n",
            "Expected sales for a period of 1 month(s) for Product A: $11000\n",
            "Expected sales for a period of 3 month(s) for Product A: $33000\n",
            "Expected sales for a period of 12 month(s) for Product A: $132000\n",
            "Expected sales for a period of 1 month(s) for Product A: $12000\n",
            "Expected sales for a period of 3 month(s) for Product A: $36000\n",
            "Expected sales for a period of 12 month(s) for Product A: $144000\n",
            "Expected sales for a period of 1 month(s) for Product A: $13000\n",
            "Expected sales for a period of 3 month(s) for Product A: $39000\n",
            "Expected sales for a period of 12 month(s) for Product A: $156000\n",
            "Expected sales for a period of 1 month(s) for Product A: $14000\n",
            "Expected sales for a period of 3 month(s) for Product A: $42000\n",
            "Expected sales for a period of 12 month(s) for Product A: $168000\n",
            "Expected sales for a period of 1 month(s) for Product B: $10000\n",
            "Expected sales for a period of 3 month(s) for Product B: $30000\n",
            "Expected sales for a period of 12 month(s) for Product B: $120000\n",
            "Expected sales for a period of 1 month(s) for Product B: $11000\n",
            "Expected sales for a period of 3 month(s) for Product B: $33000\n",
            "Expected sales for a period of 12 month(s) for Product B: $132000\n",
            "Expected sales for a period of 1 month(s) for Product B: $12000\n",
            "Expected sales for a period of 3 month(s) for Product B: $36000\n",
            "Expected sales for a period of 12 month(s) for Product B: $144000\n",
            "Expected sales for a period of 1 month(s) for Product B: $13000\n",
            "Expected sales for a period of 3 month(s) for Product B: $39000\n",
            "Expected sales for a period of 12 month(s) for Product B: $156000\n",
            "Expected sales for a period of 1 month(s) for Product B: $14000\n",
            "Expected sales for a period of 3 month(s) for Product B: $42000\n",
            "Expected sales for a period of 12 month(s) for Product B: $168000\n"
          ]
        }
      ]
    },
    {
      "cell_type": "code",
      "source": [
        "for prod in products:\n",
        "    for t_hor in time_horizon:\n",
        "        for sale in exp_sales:\n",
        "            print ('Expected sales for a period of {0} month(s) for {1}: ${sales}'.format(t_hor, prod, sales = sale * t_hor))"
      ],
      "metadata": {
        "colab": {
          "base_uri": "https://localhost:8080/"
        },
        "id": "D8qpX9AScwa7",
        "outputId": "fda9b2e0-e8c5-42f2-b26b-d66e32ce5795"
      },
      "execution_count": 12,
      "outputs": [
        {
          "output_type": "stream",
          "name": "stdout",
          "text": [
            "Expected sales for a period of 1 month(s) for Product A: $10000\n",
            "Expected sales for a period of 1 month(s) for Product A: $11000\n",
            "Expected sales for a period of 1 month(s) for Product A: $12000\n",
            "Expected sales for a period of 1 month(s) for Product A: $13000\n",
            "Expected sales for a period of 1 month(s) for Product A: $14000\n",
            "Expected sales for a period of 3 month(s) for Product A: $30000\n",
            "Expected sales for a period of 3 month(s) for Product A: $33000\n",
            "Expected sales for a period of 3 month(s) for Product A: $36000\n",
            "Expected sales for a period of 3 month(s) for Product A: $39000\n",
            "Expected sales for a period of 3 month(s) for Product A: $42000\n",
            "Expected sales for a period of 12 month(s) for Product A: $120000\n",
            "Expected sales for a period of 12 month(s) for Product A: $132000\n",
            "Expected sales for a period of 12 month(s) for Product A: $144000\n",
            "Expected sales for a period of 12 month(s) for Product A: $156000\n",
            "Expected sales for a period of 12 month(s) for Product A: $168000\n",
            "Expected sales for a period of 1 month(s) for Product B: $10000\n",
            "Expected sales for a period of 1 month(s) for Product B: $11000\n",
            "Expected sales for a period of 1 month(s) for Product B: $12000\n",
            "Expected sales for a period of 1 month(s) for Product B: $13000\n",
            "Expected sales for a period of 1 month(s) for Product B: $14000\n",
            "Expected sales for a period of 3 month(s) for Product B: $30000\n",
            "Expected sales for a period of 3 month(s) for Product B: $33000\n",
            "Expected sales for a period of 3 month(s) for Product B: $36000\n",
            "Expected sales for a period of 3 month(s) for Product B: $39000\n",
            "Expected sales for a period of 3 month(s) for Product B: $42000\n",
            "Expected sales for a period of 12 month(s) for Product B: $120000\n",
            "Expected sales for a period of 12 month(s) for Product B: $132000\n",
            "Expected sales for a period of 12 month(s) for Product B: $144000\n",
            "Expected sales for a period of 12 month(s) for Product B: $156000\n",
            "Expected sales for a period of 12 month(s) for Product B: $168000\n"
          ]
        }
      ]
    }
  ]
}