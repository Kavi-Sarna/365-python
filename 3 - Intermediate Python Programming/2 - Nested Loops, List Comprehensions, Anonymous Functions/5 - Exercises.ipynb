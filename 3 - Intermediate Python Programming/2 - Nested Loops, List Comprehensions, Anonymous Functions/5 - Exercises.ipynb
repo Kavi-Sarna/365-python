{
  "nbformat": 4,
  "nbformat_minor": 0,
  "metadata": {
    "colab": {
      "provenance": [],
      "authorship_tag": "ABX9TyPNjmk1lNnc1TjRnysvycWb",
      "include_colab_link": true
    },
    "kernelspec": {
      "name": "python3",
      "display_name": "Python 3"
    },
    "language_info": {
      "name": "python"
    }
  },
  "cells": [
    {
      "cell_type": "markdown",
      "metadata": {
        "id": "view-in-github",
        "colab_type": "text"
      },
      "source": [
        "<a href=\"https://colab.research.google.com/github/Kavi-Sarna/365-python/blob/main/3%20-%20Intermediate%20Python%20Programming/2%20-%20Nested%20Loops%2C%20List%20Comprehensions%2C%20Anonymous%20Functions/5%20-%20Exercises.ipynb\" target=\"_parent\"><img src=\"https://colab.research.google.com/assets/colab-badge.svg\" alt=\"Open In Colab\"/></a>"
      ]
    },
    {
      "cell_type": "markdown",
      "source": [
        "## Iterating Over Range Objects, <br><br> Nested For Loops - Introduction, <br><br> Triple Nested For Loops"
      ],
      "metadata": {
        "id": "8XTRGjC1Ci0Q"
      }
    },
    {
      "cell_type": "markdown",
      "source": [
        "Create a 'range' object with a stop value of 10.\n",
        "Do this operation twice - once without indicating a start value, and then by indicating the start value of 0."
      ],
      "metadata": {
        "id": "gg_gsmACCmfH"
      }
    },
    {
      "cell_type": "code",
      "source": [
        "range(10)"
      ],
      "metadata": {
        "colab": {
          "base_uri": "https://localhost:8080/"
        },
        "id": "qPQTehcGCYj4",
        "outputId": "4b1303ee-8c2c-4fa5-9c7e-b650385570cc"
      },
      "execution_count": 1,
      "outputs": [
        {
          "output_type": "execute_result",
          "data": {
            "text/plain": [
              "range(0, 10)"
            ]
          },
          "metadata": {},
          "execution_count": 1
        }
      ]
    },
    {
      "cell_type": "code",
      "source": [
        "range(0, 10)"
      ],
      "metadata": {
        "colab": {
          "base_uri": "https://localhost:8080/"
        },
        "id": "NKmofSFjCqxa",
        "outputId": "6c87f29e-1373-4a5f-ebbe-881bb3b6cf2d"
      },
      "execution_count": 2,
      "outputs": [
        {
          "output_type": "execute_result",
          "data": {
            "text/plain": [
              "range(0, 10)"
            ]
          },
          "metadata": {},
          "execution_count": 2
        }
      ]
    },
    {
      "cell_type": "markdown",
      "source": [
        "Turn this 'range' object into a list of values."
      ],
      "metadata": {
        "id": "k3xY42FyCuqK"
      }
    },
    {
      "cell_type": "code",
      "source": [
        "l = list(range(10))\n",
        "l"
      ],
      "metadata": {
        "colab": {
          "base_uri": "https://localhost:8080/"
        },
        "id": "h5cEZ0RLCsLs",
        "outputId": "b7407efb-e5f6-4a2a-b5fa-141e08a04348"
      },
      "execution_count": 3,
      "outputs": [
        {
          "output_type": "execute_result",
          "data": {
            "text/plain": [
              "[0, 1, 2, 3, 4, 5, 6, 7, 8, 9]"
            ]
          },
          "metadata": {},
          "execution_count": 3
        }
      ]
    },
    {
      "cell_type": "markdown",
      "source": [
        "Obtain all integers from 0 to 9 again, this time using a for-loop with a range() function. Let Python display the values in the output vertically."
      ],
      "metadata": {
        "id": "cobFeYA6C1gu"
      }
    },
    {
      "cell_type": "code",
      "source": [
        "for i in range(10):\n",
        "  print(i)"
      ],
      "metadata": {
        "colab": {
          "base_uri": "https://localhost:8080/"
        },
        "id": "crkgpslVCzrn",
        "outputId": "caad80a0-2121-4122-b960-935ebd6dfd01"
      },
      "execution_count": 4,
      "outputs": [
        {
          "output_type": "stream",
          "name": "stdout",
          "text": [
            "0\n",
            "1\n",
            "2\n",
            "3\n",
            "4\n",
            "5\n",
            "6\n",
            "7\n",
            "8\n",
            "9\n"
          ]
        }
      ]
    },
    {
      "cell_type": "markdown",
      "source": [
        "Repeat the same task, this time printing the values from the output on the same line."
      ],
      "metadata": {
        "id": "K1_l_BSMC-gG"
      }
    },
    {
      "cell_type": "code",
      "source": [
        "for i in range(0, 10):\n",
        "  print(i, end=\" \")"
      ],
      "metadata": {
        "colab": {
          "base_uri": "https://localhost:8080/"
        },
        "id": "hhnE-yfuC7tT",
        "outputId": "4b9fcbce-2be9-4cbf-8a48-53b96e2ca1c3"
      },
      "execution_count": 5,
      "outputs": [
        {
          "output_type": "stream",
          "name": "stdout",
          "text": [
            "0 1 2 3 4 5 6 7 8 9 "
          ]
        }
      ]
    },
    {
      "cell_type": "markdown",
      "source": [
        "Create a nested loop that delivers all possible combinations of the elements from the following two lists in the form of lists:"
      ],
      "metadata": {
        "id": "M_f04o7bDFo1"
      }
    },
    {
      "cell_type": "code",
      "source": [
        "products_on_sale = ['Chair_Type_1', 'Chair_Type_2', 'Chair_Type_3', 'Chair_Type_4']\n",
        "sale_prices = [100, 120, 135, 150]"
      ],
      "metadata": {
        "id": "Q4RriUL_DD8J"
      },
      "execution_count": 6,
      "outputs": []
    },
    {
      "cell_type": "code",
      "source": [
        "for prod in products_on_sale:\n",
        "  for price in sale_prices:\n",
        "    print([prod, price])"
      ],
      "metadata": {
        "colab": {
          "base_uri": "https://localhost:8080/"
        },
        "id": "LykxudkhDKfM",
        "outputId": "4653173c-5810-42dc-86e3-b7956f81feb7"
      },
      "execution_count": 7,
      "outputs": [
        {
          "output_type": "stream",
          "name": "stdout",
          "text": [
            "['Chair_Type_1', 100]\n",
            "['Chair_Type_1', 120]\n",
            "['Chair_Type_1', 135]\n",
            "['Chair_Type_1', 150]\n",
            "['Chair_Type_2', 100]\n",
            "['Chair_Type_2', 120]\n",
            "['Chair_Type_2', 135]\n",
            "['Chair_Type_2', 150]\n",
            "['Chair_Type_3', 100]\n",
            "['Chair_Type_3', 120]\n",
            "['Chair_Type_3', 135]\n",
            "['Chair_Type_3', 150]\n",
            "['Chair_Type_4', 100]\n",
            "['Chair_Type_4', 120]\n",
            "['Chair_Type_4', 135]\n",
            "['Chair_Type_4', 150]\n"
          ]
        }
      ]
    },
    {
      "cell_type": "markdown",
      "source": [
        "Consider the following list with data, which is our third for this exercise. It represents the possible quantities in which the relevant items can be put on sale."
      ],
      "metadata": {
        "id": "KBJ49H_jDYaL"
      }
    },
    {
      "cell_type": "code",
      "source": [
        "quantities = [1000, 1500, 1300]"
      ],
      "metadata": {
        "id": "7r4fdXauDU5k"
      },
      "execution_count": 8,
      "outputs": []
    },
    {
      "cell_type": "markdown",
      "source": [
        "Create a triple nested loop that shows the potential revenue generated from each chair type. Use iterator variables with more meaningful names than letters such as i, j, k.\n",
        "<br>Present two versions of the nested loop. Let the first one return a Python list where the chair type is the first element, while the potential revenue is the second element.\n",
        "<br>Then, let the second loop return a more presentable output, where the quantity and potential revenue have been explicitly stated."
      ],
      "metadata": {
        "id": "754x3DKKDhAU"
      }
    },
    {
      "cell_type": "code",
      "source": [
        "for prod in products_on_sale:\n",
        "  for quantity in quantities:\n",
        "    for price in sale_prices:\n",
        "      print([prod, quantity * price])"
      ],
      "metadata": {
        "colab": {
          "base_uri": "https://localhost:8080/"
        },
        "id": "OXT3xGVZDgTr",
        "outputId": "ba53a949-b781-44b6-8059-22f7d90a9db0"
      },
      "execution_count": 9,
      "outputs": [
        {
          "output_type": "stream",
          "name": "stdout",
          "text": [
            "['Chair_Type_1', 100000]\n",
            "['Chair_Type_1', 120000]\n",
            "['Chair_Type_1', 135000]\n",
            "['Chair_Type_1', 150000]\n",
            "['Chair_Type_1', 150000]\n",
            "['Chair_Type_1', 180000]\n",
            "['Chair_Type_1', 202500]\n",
            "['Chair_Type_1', 225000]\n",
            "['Chair_Type_1', 130000]\n",
            "['Chair_Type_1', 156000]\n",
            "['Chair_Type_1', 175500]\n",
            "['Chair_Type_1', 195000]\n",
            "['Chair_Type_2', 100000]\n",
            "['Chair_Type_2', 120000]\n",
            "['Chair_Type_2', 135000]\n",
            "['Chair_Type_2', 150000]\n",
            "['Chair_Type_2', 150000]\n",
            "['Chair_Type_2', 180000]\n",
            "['Chair_Type_2', 202500]\n",
            "['Chair_Type_2', 225000]\n",
            "['Chair_Type_2', 130000]\n",
            "['Chair_Type_2', 156000]\n",
            "['Chair_Type_2', 175500]\n",
            "['Chair_Type_2', 195000]\n",
            "['Chair_Type_3', 100000]\n",
            "['Chair_Type_3', 120000]\n",
            "['Chair_Type_3', 135000]\n",
            "['Chair_Type_3', 150000]\n",
            "['Chair_Type_3', 150000]\n",
            "['Chair_Type_3', 180000]\n",
            "['Chair_Type_3', 202500]\n",
            "['Chair_Type_3', 225000]\n",
            "['Chair_Type_3', 130000]\n",
            "['Chair_Type_3', 156000]\n",
            "['Chair_Type_3', 175500]\n",
            "['Chair_Type_3', 195000]\n",
            "['Chair_Type_4', 100000]\n",
            "['Chair_Type_4', 120000]\n",
            "['Chair_Type_4', 135000]\n",
            "['Chair_Type_4', 150000]\n",
            "['Chair_Type_4', 150000]\n",
            "['Chair_Type_4', 180000]\n",
            "['Chair_Type_4', 202500]\n",
            "['Chair_Type_4', 225000]\n",
            "['Chair_Type_4', 130000]\n",
            "['Chair_Type_4', 156000]\n",
            "['Chair_Type_4', 175500]\n",
            "['Chair_Type_4', 195000]\n"
          ]
        }
      ]
    },
    {
      "cell_type": "code",
      "source": [
        "for prod in products_on_sale:\n",
        "  for quantity in quantities:\n",
        "    for price in sale_prices:\n",
        "      print('Expected revenue for {} if {} chairs are to be sold: ${}.'.format(prod, quantity, quantity * price))"
      ],
      "metadata": {
        "colab": {
          "base_uri": "https://localhost:8080/"
        },
        "id": "mZF10sHrD6Jx",
        "outputId": "9883cf8e-3a0c-4545-d842-1bde5a22a49d"
      },
      "execution_count": 11,
      "outputs": [
        {
          "output_type": "stream",
          "name": "stdout",
          "text": [
            "Expected revenue for Chair_Type_1 if 1000 chairs are to be sold: $100000.\n",
            "Expected revenue for Chair_Type_1 if 1000 chairs are to be sold: $120000.\n",
            "Expected revenue for Chair_Type_1 if 1000 chairs are to be sold: $135000.\n",
            "Expected revenue for Chair_Type_1 if 1000 chairs are to be sold: $150000.\n",
            "Expected revenue for Chair_Type_1 if 1500 chairs are to be sold: $150000.\n",
            "Expected revenue for Chair_Type_1 if 1500 chairs are to be sold: $180000.\n",
            "Expected revenue for Chair_Type_1 if 1500 chairs are to be sold: $202500.\n",
            "Expected revenue for Chair_Type_1 if 1500 chairs are to be sold: $225000.\n",
            "Expected revenue for Chair_Type_1 if 1300 chairs are to be sold: $130000.\n",
            "Expected revenue for Chair_Type_1 if 1300 chairs are to be sold: $156000.\n",
            "Expected revenue for Chair_Type_1 if 1300 chairs are to be sold: $175500.\n",
            "Expected revenue for Chair_Type_1 if 1300 chairs are to be sold: $195000.\n",
            "Expected revenue for Chair_Type_2 if 1000 chairs are to be sold: $100000.\n",
            "Expected revenue for Chair_Type_2 if 1000 chairs are to be sold: $120000.\n",
            "Expected revenue for Chair_Type_2 if 1000 chairs are to be sold: $135000.\n",
            "Expected revenue for Chair_Type_2 if 1000 chairs are to be sold: $150000.\n",
            "Expected revenue for Chair_Type_2 if 1500 chairs are to be sold: $150000.\n",
            "Expected revenue for Chair_Type_2 if 1500 chairs are to be sold: $180000.\n",
            "Expected revenue for Chair_Type_2 if 1500 chairs are to be sold: $202500.\n",
            "Expected revenue for Chair_Type_2 if 1500 chairs are to be sold: $225000.\n",
            "Expected revenue for Chair_Type_2 if 1300 chairs are to be sold: $130000.\n",
            "Expected revenue for Chair_Type_2 if 1300 chairs are to be sold: $156000.\n",
            "Expected revenue for Chair_Type_2 if 1300 chairs are to be sold: $175500.\n",
            "Expected revenue for Chair_Type_2 if 1300 chairs are to be sold: $195000.\n",
            "Expected revenue for Chair_Type_3 if 1000 chairs are to be sold: $100000.\n",
            "Expected revenue for Chair_Type_3 if 1000 chairs are to be sold: $120000.\n",
            "Expected revenue for Chair_Type_3 if 1000 chairs are to be sold: $135000.\n",
            "Expected revenue for Chair_Type_3 if 1000 chairs are to be sold: $150000.\n",
            "Expected revenue for Chair_Type_3 if 1500 chairs are to be sold: $150000.\n",
            "Expected revenue for Chair_Type_3 if 1500 chairs are to be sold: $180000.\n",
            "Expected revenue for Chair_Type_3 if 1500 chairs are to be sold: $202500.\n",
            "Expected revenue for Chair_Type_3 if 1500 chairs are to be sold: $225000.\n",
            "Expected revenue for Chair_Type_3 if 1300 chairs are to be sold: $130000.\n",
            "Expected revenue for Chair_Type_3 if 1300 chairs are to be sold: $156000.\n",
            "Expected revenue for Chair_Type_3 if 1300 chairs are to be sold: $175500.\n",
            "Expected revenue for Chair_Type_3 if 1300 chairs are to be sold: $195000.\n",
            "Expected revenue for Chair_Type_4 if 1000 chairs are to be sold: $100000.\n",
            "Expected revenue for Chair_Type_4 if 1000 chairs are to be sold: $120000.\n",
            "Expected revenue for Chair_Type_4 if 1000 chairs are to be sold: $135000.\n",
            "Expected revenue for Chair_Type_4 if 1000 chairs are to be sold: $150000.\n",
            "Expected revenue for Chair_Type_4 if 1500 chairs are to be sold: $150000.\n",
            "Expected revenue for Chair_Type_4 if 1500 chairs are to be sold: $180000.\n",
            "Expected revenue for Chair_Type_4 if 1500 chairs are to be sold: $202500.\n",
            "Expected revenue for Chair_Type_4 if 1500 chairs are to be sold: $225000.\n",
            "Expected revenue for Chair_Type_4 if 1300 chairs are to be sold: $130000.\n",
            "Expected revenue for Chair_Type_4 if 1300 chairs are to be sold: $156000.\n",
            "Expected revenue for Chair_Type_4 if 1300 chairs are to be sold: $175500.\n",
            "Expected revenue for Chair_Type_4 if 1300 chairs are to be sold: $195000.\n"
          ]
        }
      ]
    },
    {
      "cell_type": "markdown",
      "source": [
        "## List Comprehensions"
      ],
      "metadata": {
        "id": "IGzjO6I9EkXm"
      }
    },
    {
      "cell_type": "markdown",
      "source": [
        "Execute the code cell below to create the following three lists: **products_on_sale**, **sale_prices**, **quantities**"
      ],
      "metadata": {
        "id": "YAp0eRIBEmXG"
      }
    },
    {
      "cell_type": "code",
      "source": [
        "products_on_sale = ['Chair_Type_1', 'Chair_Type_2', 'Chair_Type_3', 'Chair_Type_4']\n",
        "sale_prices = [100, 120, 135, 150]\n",
        "quantities = [1000, 1500, 1300]"
      ],
      "metadata": {
        "id": "TROS-Q6fEXtE"
      },
      "execution_count": 12,
      "outputs": []
    },
    {
      "cell_type": "markdown",
      "source": [
        "The following code cell will execute a nested loop that will deliver all possible combinations of the elements from the **products_on_sale**, **sale_prices** and **quantities** lists:"
      ],
      "metadata": {
        "id": "OWpJLJ9hEqCu"
      }
    },
    {
      "cell_type": "code",
      "source": [
        "for chair_type in products_on_sale:\n",
        "    for price in sale_prices:\n",
        "        for quantity in quantities:\n",
        "            print ([chair_type, price*quantity])"
      ],
      "metadata": {
        "colab": {
          "base_uri": "https://localhost:8080/"
        },
        "id": "sVaxgpyvEofs",
        "outputId": "bdf37554-2304-4869-c3f3-6881833c1d95"
      },
      "execution_count": 13,
      "outputs": [
        {
          "output_type": "stream",
          "name": "stdout",
          "text": [
            "['Chair_Type_1', 100000]\n",
            "['Chair_Type_1', 150000]\n",
            "['Chair_Type_1', 130000]\n",
            "['Chair_Type_1', 120000]\n",
            "['Chair_Type_1', 180000]\n",
            "['Chair_Type_1', 156000]\n",
            "['Chair_Type_1', 135000]\n",
            "['Chair_Type_1', 202500]\n",
            "['Chair_Type_1', 175500]\n",
            "['Chair_Type_1', 150000]\n",
            "['Chair_Type_1', 225000]\n",
            "['Chair_Type_1', 195000]\n",
            "['Chair_Type_2', 100000]\n",
            "['Chair_Type_2', 150000]\n",
            "['Chair_Type_2', 130000]\n",
            "['Chair_Type_2', 120000]\n",
            "['Chair_Type_2', 180000]\n",
            "['Chair_Type_2', 156000]\n",
            "['Chair_Type_2', 135000]\n",
            "['Chair_Type_2', 202500]\n",
            "['Chair_Type_2', 175500]\n",
            "['Chair_Type_2', 150000]\n",
            "['Chair_Type_2', 225000]\n",
            "['Chair_Type_2', 195000]\n",
            "['Chair_Type_3', 100000]\n",
            "['Chair_Type_3', 150000]\n",
            "['Chair_Type_3', 130000]\n",
            "['Chair_Type_3', 120000]\n",
            "['Chair_Type_3', 180000]\n",
            "['Chair_Type_3', 156000]\n",
            "['Chair_Type_3', 135000]\n",
            "['Chair_Type_3', 202500]\n",
            "['Chair_Type_3', 175500]\n",
            "['Chair_Type_3', 150000]\n",
            "['Chair_Type_3', 225000]\n",
            "['Chair_Type_3', 195000]\n",
            "['Chair_Type_4', 100000]\n",
            "['Chair_Type_4', 150000]\n",
            "['Chair_Type_4', 130000]\n",
            "['Chair_Type_4', 120000]\n",
            "['Chair_Type_4', 180000]\n",
            "['Chair_Type_4', 156000]\n",
            "['Chair_Type_4', 135000]\n",
            "['Chair_Type_4', 202500]\n",
            "['Chair_Type_4', 175500]\n",
            "['Chair_Type_4', 150000]\n",
            "['Chair_Type_4', 225000]\n",
            "['Chair_Type_4', 195000]\n"
          ]
        }
      ]
    },
    {
      "cell_type": "markdown",
      "source": [
        "Use a list comprehension to obtain the same output. Store it in a variable called **sales_revenue**. <br/>\n",
        "Make sure you refrain from obtaining any inexistent \"None\" values."
      ],
      "metadata": {
        "id": "g9aTVMFcEwsB"
      }
    },
    {
      "cell_type": "code",
      "source": [
        "sales_revenue = [[chair_type, price * quantity] for chair_type in products_on_sale for price in sale_prices for quantity in quantities]\n",
        "sales_revenue"
      ],
      "metadata": {
        "colab": {
          "base_uri": "https://localhost:8080/"
        },
        "id": "nBFbaK1NEuog",
        "outputId": "1b772d03-3c92-4b98-a2a9-844d1514d31e"
      },
      "execution_count": 16,
      "outputs": [
        {
          "output_type": "execute_result",
          "data": {
            "text/plain": [
              "[['Chair_Type_1', 100000],\n",
              " ['Chair_Type_1', 150000],\n",
              " ['Chair_Type_1', 130000],\n",
              " ['Chair_Type_1', 120000],\n",
              " ['Chair_Type_1', 180000],\n",
              " ['Chair_Type_1', 156000],\n",
              " ['Chair_Type_1', 135000],\n",
              " ['Chair_Type_1', 202500],\n",
              " ['Chair_Type_1', 175500],\n",
              " ['Chair_Type_1', 150000],\n",
              " ['Chair_Type_1', 225000],\n",
              " ['Chair_Type_1', 195000],\n",
              " ['Chair_Type_2', 100000],\n",
              " ['Chair_Type_2', 150000],\n",
              " ['Chair_Type_2', 130000],\n",
              " ['Chair_Type_2', 120000],\n",
              " ['Chair_Type_2', 180000],\n",
              " ['Chair_Type_2', 156000],\n",
              " ['Chair_Type_2', 135000],\n",
              " ['Chair_Type_2', 202500],\n",
              " ['Chair_Type_2', 175500],\n",
              " ['Chair_Type_2', 150000],\n",
              " ['Chair_Type_2', 225000],\n",
              " ['Chair_Type_2', 195000],\n",
              " ['Chair_Type_3', 100000],\n",
              " ['Chair_Type_3', 150000],\n",
              " ['Chair_Type_3', 130000],\n",
              " ['Chair_Type_3', 120000],\n",
              " ['Chair_Type_3', 180000],\n",
              " ['Chair_Type_3', 156000],\n",
              " ['Chair_Type_3', 135000],\n",
              " ['Chair_Type_3', 202500],\n",
              " ['Chair_Type_3', 175500],\n",
              " ['Chair_Type_3', 150000],\n",
              " ['Chair_Type_3', 225000],\n",
              " ['Chair_Type_3', 195000],\n",
              " ['Chair_Type_4', 100000],\n",
              " ['Chair_Type_4', 150000],\n",
              " ['Chair_Type_4', 130000],\n",
              " ['Chair_Type_4', 120000],\n",
              " ['Chair_Type_4', 180000],\n",
              " ['Chair_Type_4', 156000],\n",
              " ['Chair_Type_4', 135000],\n",
              " ['Chair_Type_4', 202500],\n",
              " ['Chair_Type_4', 175500],\n",
              " ['Chair_Type_4', 150000],\n",
              " ['Chair_Type_4', 225000],\n",
              " ['Chair_Type_4', 195000]]"
            ]
          },
          "metadata": {},
          "execution_count": 16
        }
      ]
    },
    {
      "cell_type": "code",
      "source": [
        "sales_revenue = filter(None, [print(chair_type, price * quantity) for chair_type in products_on_sale for price in sale_prices for quantity in quantities])"
      ],
      "metadata": {
        "colab": {
          "base_uri": "https://localhost:8080/"
        },
        "id": "G2n81UioFTQ4",
        "outputId": "55cbde60-9e95-49b3-dc9b-afe269088140"
      },
      "execution_count": 18,
      "outputs": [
        {
          "output_type": "stream",
          "name": "stdout",
          "text": [
            "Chair_Type_1 100000\n",
            "Chair_Type_1 150000\n",
            "Chair_Type_1 130000\n",
            "Chair_Type_1 120000\n",
            "Chair_Type_1 180000\n",
            "Chair_Type_1 156000\n",
            "Chair_Type_1 135000\n",
            "Chair_Type_1 202500\n",
            "Chair_Type_1 175500\n",
            "Chair_Type_1 150000\n",
            "Chair_Type_1 225000\n",
            "Chair_Type_1 195000\n",
            "Chair_Type_2 100000\n",
            "Chair_Type_2 150000\n",
            "Chair_Type_2 130000\n",
            "Chair_Type_2 120000\n",
            "Chair_Type_2 180000\n",
            "Chair_Type_2 156000\n",
            "Chair_Type_2 135000\n",
            "Chair_Type_2 202500\n",
            "Chair_Type_2 175500\n",
            "Chair_Type_2 150000\n",
            "Chair_Type_2 225000\n",
            "Chair_Type_2 195000\n",
            "Chair_Type_3 100000\n",
            "Chair_Type_3 150000\n",
            "Chair_Type_3 130000\n",
            "Chair_Type_3 120000\n",
            "Chair_Type_3 180000\n",
            "Chair_Type_3 156000\n",
            "Chair_Type_3 135000\n",
            "Chair_Type_3 202500\n",
            "Chair_Type_3 175500\n",
            "Chair_Type_3 150000\n",
            "Chair_Type_3 225000\n",
            "Chair_Type_3 195000\n",
            "Chair_Type_4 100000\n",
            "Chair_Type_4 150000\n",
            "Chair_Type_4 130000\n",
            "Chair_Type_4 120000\n",
            "Chair_Type_4 180000\n",
            "Chair_Type_4 156000\n",
            "Chair_Type_4 135000\n",
            "Chair_Type_4 202500\n",
            "Chair_Type_4 175500\n",
            "Chair_Type_4 150000\n",
            "Chair_Type_4 225000\n",
            "Chair_Type_4 195000\n"
          ]
        }
      ]
    },
    {
      "cell_type": "markdown",
      "source": [
        "**List comprehensions with Conditionals**\n",
        "<br> <br> **Conditional on the iterable**"
      ],
      "metadata": {
        "id": "B4qMLtJ3GFf5"
      }
    },
    {
      "cell_type": "markdown",
      "source": [
        "Use a list comprehension to return a list with all even numbers between 1 and 10 inclusive, multiplied by 10."
      ],
      "metadata": {
        "id": "gXlVjwZ5GHub"
      }
    },
    {
      "cell_type": "code",
      "source": [
        "[num * 10 for num in range(1, 11) if num % 2 == 0]"
      ],
      "metadata": {
        "colab": {
          "base_uri": "https://localhost:8080/"
        },
        "id": "f_Fh3FKiFtAe",
        "outputId": "2b163dd8-6eb4-4d92-86f3-a53ecf809aea"
      },
      "execution_count": 19,
      "outputs": [
        {
          "output_type": "execute_result",
          "data": {
            "text/plain": [
              "[20, 40, 60, 80, 100]"
            ]
          },
          "metadata": {},
          "execution_count": 19
        }
      ]
    },
    {
      "cell_type": "markdown",
      "source": [
        "We consider the previous answer as the Pythonic way to obtain the output because it involved the use of a list comprehension.\n",
        "Can you think of a way to obtain identical output in the \"Non-Pythonic\" way, i.e. by using a double nested loop?"
      ],
      "metadata": {
        "id": "ysWrQOwhGWj5"
      }
    },
    {
      "cell_type": "code",
      "source": [
        "for num in range(1, 11):\n",
        "  if num % 2 == 0:\n",
        "    print(num * 10, end=' ')"
      ],
      "metadata": {
        "colab": {
          "base_uri": "https://localhost:8080/"
        },
        "id": "JR94q6wXGSr0",
        "outputId": "f017e0d9-df71-403d-e3d7-95f702f97257"
      },
      "execution_count": 20,
      "outputs": [
        {
          "output_type": "stream",
          "name": "stdout",
          "text": [
            "20 40 60 80 100 "
          ]
        }
      ]
    },
    {
      "cell_type": "markdown",
      "source": [
        "**Conditional on the output**"
      ],
      "metadata": {
        "id": "8NxhVcPPGtae"
      }
    },
    {
      "cell_type": "markdown",
      "source": [
        "Return a list that contains the element from range(1, 11) multiplied by 10 if the number is even, and \"None\" if that number is odd."
      ],
      "metadata": {
        "id": "lRL3W681GvK5"
      }
    },
    {
      "cell_type": "code",
      "source": [
        "[num * 10 if num % 2 == 0 else None for num in range(1, 11)]"
      ],
      "metadata": {
        "colab": {
          "base_uri": "https://localhost:8080/"
        },
        "id": "iH7EBN1jGqvn",
        "outputId": "a44439f5-97bb-4ea2-f774-5bb62e47f71e"
      },
      "execution_count": 21,
      "outputs": [
        {
          "output_type": "execute_result",
          "data": {
            "text/plain": [
              "[None, 20, None, 40, None, 60, None, 80, None, 100]"
            ]
          },
          "metadata": {},
          "execution_count": 21
        }
      ]
    },
    {
      "cell_type": "markdown",
      "source": [
        "## Anonymous Functions"
      ],
      "metadata": {
        "id": "18EkoGydG_zO"
      }
    },
    {
      "cell_type": "markdown",
      "source": [
        "Define a function called **multiply_by_10** that will return a value ten times bigger than the argument."
      ],
      "metadata": {
        "id": "cCQmOkVKHB41"
      }
    },
    {
      "cell_type": "code",
      "source": [
        "def multiply_by_10(num):\n",
        "  return num * 10"
      ],
      "metadata": {
        "id": "M6nNtkBtG7oo"
      },
      "execution_count": 22,
      "outputs": []
    },
    {
      "cell_type": "markdown",
      "source": [
        "Apply **multiply_by_10** to the argument of 5. Clearly, you should obtain 50."
      ],
      "metadata": {
        "id": "I8TicqhkHMzT"
      }
    },
    {
      "cell_type": "code",
      "source": [
        "multiply_by_10(5)"
      ],
      "metadata": {
        "colab": {
          "base_uri": "https://localhost:8080/"
        },
        "id": "4B6FufvoHKM5",
        "outputId": "f870292f-8c22-4c97-ac44-d41caf99f6cb"
      },
      "execution_count": 23,
      "outputs": [
        {
          "output_type": "execute_result",
          "data": {
            "text/plain": [
              "50"
            ]
          },
          "metadata": {},
          "execution_count": 23
        }
      ]
    },
    {
      "cell_type": "markdown",
      "source": [
        "#### Lambda Functions"
      ],
      "metadata": {
        "id": "RObYVMbgHRoA"
      }
    },
    {
      "cell_type": "markdown",
      "source": [
        "This time, create **multiply_by_10** as a Lambda funciton. Execute it with an argument of 7."
      ],
      "metadata": {
        "id": "XgXJ_GH_HTo-"
      }
    },
    {
      "cell_type": "code",
      "source": [
        "multiply_by_10 = lambda num: num * 10\n",
        "multiply_by_10(7)"
      ],
      "metadata": {
        "colab": {
          "base_uri": "https://localhost:8080/"
        },
        "id": "fSc-ScQgHPMe",
        "outputId": "73fa94fe-a474-4e72-89b5-33182af698c7"
      },
      "execution_count": 29,
      "outputs": [
        {
          "output_type": "execute_result",
          "data": {
            "text/plain": [
              "70"
            ]
          },
          "metadata": {},
          "execution_count": 29
        }
      ]
    },
    {
      "cell_type": "code",
      "source": [
        "(lambda num: num * 10) (7)"
      ],
      "metadata": {
        "colab": {
          "base_uri": "https://localhost:8080/"
        },
        "id": "iVbVlWx3IFdA",
        "outputId": "c2d1efd9-ddd2-4643-809b-1fbeb719d8e0"
      },
      "execution_count": 30,
      "outputs": [
        {
          "output_type": "execute_result",
          "data": {
            "text/plain": [
              "70"
            ]
          },
          "metadata": {},
          "execution_count": 30
        }
      ]
    },
    {
      "cell_type": "markdown",
      "source": [
        "Define a Lambda function named **product_xy** that returns the product of two parameters, x and y. Execute it with arguments 4 and 20."
      ],
      "metadata": {
        "id": "q6T2ss3gHeLN"
      }
    },
    {
      "cell_type": "code",
      "source": [
        "product_xy = lambda x, y: x * y\n",
        "product_xy(4, 20)"
      ],
      "metadata": {
        "colab": {
          "base_uri": "https://localhost:8080/"
        },
        "id": "Dy61m2_UHbmN",
        "outputId": "29c95543-434a-4f9e-b057-3c17086c7fa3"
      },
      "execution_count": 27,
      "outputs": [
        {
          "output_type": "execute_result",
          "data": {
            "text/plain": [
              "80"
            ]
          },
          "metadata": {},
          "execution_count": 27
        }
      ]
    },
    {
      "cell_type": "code",
      "source": [
        "(lambda x, y: x * y) (4, 20)"
      ],
      "metadata": {
        "colab": {
          "base_uri": "https://localhost:8080/"
        },
        "id": "gKOxmzWBH_1V",
        "outputId": "69d729f9-78c3-45c1-ecc1-92930af06ddf"
      },
      "execution_count": 28,
      "outputs": [
        {
          "output_type": "execute_result",
          "data": {
            "text/plain": [
              "80"
            ]
          },
          "metadata": {},
          "execution_count": 28
        }
      ]
    },
    {
      "cell_type": "markdown",
      "source": [
        "Create a Lambda function that returns the output of the following mathematical expression. Execute it with an argument of 3.\n",
        "<br> $$\n",
        "\\frac{(135 - x^3)^4}{(1 + x)^5}\n",
        "$$"
      ],
      "metadata": {
        "id": "ct5vN5YrHqUm"
      }
    },
    {
      "cell_type": "code",
      "source": [
        "(lambda x: (135 - x ** 3) ** 4 / (1 + x) ** 5) (3)"
      ],
      "metadata": {
        "colab": {
          "base_uri": "https://localhost:8080/"
        },
        "id": "7D465SXtHoK9",
        "outputId": "da7d3310-bbc9-4e85-9b66-4da7cf734a63"
      },
      "execution_count": 26,
      "outputs": [
        {
          "output_type": "execute_result",
          "data": {
            "text/plain": [
              "132860.25"
            ]
          },
          "metadata": {},
          "execution_count": 26
        }
      ]
    }
  ]
}