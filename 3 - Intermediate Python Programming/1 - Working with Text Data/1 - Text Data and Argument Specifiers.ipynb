{
  "nbformat": 4,
  "nbformat_minor": 0,
  "metadata": {
    "colab": {
      "provenance": [],
      "authorship_tag": "ABX9TyOjFLEOnCg6u6+F7ia87r/w",
      "include_colab_link": true
    },
    "kernelspec": {
      "name": "python3",
      "display_name": "Python 3"
    },
    "language_info": {
      "name": "python"
    }
  },
  "cells": [
    {
      "cell_type": "markdown",
      "metadata": {
        "id": "view-in-github",
        "colab_type": "text"
      },
      "source": [
        "<a href=\"https://colab.research.google.com/github/Kavi-Sarna/365-python/blob/main/3%20-%20Intermediate%20Python%20Programming/1%20-%20Working%20with%20Text%20Data/1%20-%20Text%20Data%20and%20Argument%20Specifiers.ipynb\" target=\"_parent\"><img src=\"https://colab.research.google.com/assets/colab-badge.svg\" alt=\"Open In Colab\"/></a>"
      ]
    },
    {
      "cell_type": "code",
      "source": [
        "product_category = 'A'\n",
        "print('This item is from product category \"%s\".')"
      ],
      "metadata": {
        "colab": {
          "base_uri": "https://localhost:8080/"
        },
        "id": "Ei9vGZ2VxsvO",
        "outputId": "4a78ccf7-8324-45be-d839-24e8cea9e7c3"
      },
      "execution_count": 1,
      "outputs": [
        {
          "output_type": "stream",
          "name": "stdout",
          "text": [
            "This item is from product category \"%s\".\n"
          ]
        }
      ]
    },
    {
      "cell_type": "code",
      "source": [
        "print('This item is from product category \"%s\".' % product_category)"
      ],
      "metadata": {
        "colab": {
          "base_uri": "https://localhost:8080/"
        },
        "id": "na97ZF0KzNvg",
        "outputId": "5fdebdf0-90c1-44bc-bb1f-b90fd5e5314d"
      },
      "execution_count": 4,
      "outputs": [
        {
          "output_type": "stream",
          "name": "stdout",
          "text": [
            "This item is from product category \"A\".\n"
          ]
        }
      ]
    },
    {
      "cell_type": "code",
      "source": [
        "product_category = 'B'"
      ],
      "metadata": {
        "id": "dGH7Tic2zXkX"
      },
      "execution_count": 5,
      "outputs": []
    },
    {
      "cell_type": "code",
      "source": [
        "print('This item is from product category \"%s\".' % product_category)"
      ],
      "metadata": {
        "colab": {
          "base_uri": "https://localhost:8080/"
        },
        "id": "qBcdwIZQzqG5",
        "outputId": "d452c84e-8f27-4203-b0e0-cc3ff8942289"
      },
      "execution_count": 6,
      "outputs": [
        {
          "output_type": "stream",
          "name": "stdout",
          "text": [
            "This item is from product category \"B\".\n"
          ]
        }
      ]
    },
    {
      "cell_type": "code",
      "source": [
        "product_category = ['A', 'B']\n",
        "print('This item is from product category \"%s\".' % product_category)\n",
        "print('This item is from product category \"%s\".' % product_category[1])"
      ],
      "metadata": {
        "colab": {
          "base_uri": "https://localhost:8080/"
        },
        "id": "nymMP2QkzsMC",
        "outputId": "2311309d-0e78-4a42-baf0-6ddf94597e47"
      },
      "execution_count": 8,
      "outputs": [
        {
          "output_type": "stream",
          "name": "stdout",
          "text": [
            "This item is from product category \"['A', 'B']\".\n",
            "This item is from product category \"B\".\n"
          ]
        }
      ]
    },
    {
      "cell_type": "code",
      "source": [
        "quantities = [ 500, 600 ]\n",
        "print('This item is has quantity \"%s\".' % quantities[1])"
      ],
      "metadata": {
        "colab": {
          "base_uri": "https://localhost:8080/"
        },
        "id": "RXH2S0xqz1Cj",
        "outputId": "f08d8c00-e9fc-4c8e-d02e-1ff6b582aa16"
      },
      "execution_count": 10,
      "outputs": [
        {
          "output_type": "stream",
          "name": "stdout",
          "text": [
            "This item is has quantity \"600\".\n"
          ]
        }
      ]
    },
    {
      "cell_type": "code",
      "source": [
        "print('We currently have %d available units of the item.' % quantities[0])"
      ],
      "metadata": {
        "colab": {
          "base_uri": "https://localhost:8080/"
        },
        "id": "_018I5h60EFg",
        "outputId": "3d2bb821-9898-4978-c2ee-6b8ec54a5c39"
      },
      "execution_count": 11,
      "outputs": [
        {
          "output_type": "stream",
          "name": "stdout",
          "text": [
            "We currently have 500 available units of the item.\n"
          ]
        }
      ]
    },
    {
      "cell_type": "code",
      "source": [
        "stock_share_price_list = [ 40.50, 60.35]\n",
        "print('This stock costs $%f per share.' % stock_share_price_list[1])"
      ],
      "metadata": {
        "colab": {
          "base_uri": "https://localhost:8080/"
        },
        "id": "yXva3IQd0d5-",
        "outputId": "873adc9a-0080-4a98-c19e-93f81180d3d5"
      },
      "execution_count": 13,
      "outputs": [
        {
          "output_type": "stream",
          "name": "stdout",
          "text": [
            "This stock costs $60.350000 per share.\n"
          ]
        }
      ]
    },
    {
      "cell_type": "code",
      "source": [
        "print('This stock costs $%.f per share.' % stock_share_price_list[1])"
      ],
      "metadata": {
        "colab": {
          "base_uri": "https://localhost:8080/"
        },
        "id": "deKG5VYq0-mo",
        "outputId": "cafb4f61-4dad-467b-cf83-0deea8f3ccca"
      },
      "execution_count": 14,
      "outputs": [
        {
          "output_type": "stream",
          "name": "stdout",
          "text": [
            "This stock costs $60 per share.\n"
          ]
        }
      ]
    },
    {
      "cell_type": "code",
      "source": [
        "print('This stock costs $%.1f per share.' % stock_share_price_list[1])"
      ],
      "metadata": {
        "colab": {
          "base_uri": "https://localhost:8080/"
        },
        "id": "kAKtmbmr1LGL",
        "outputId": "cfb4c29b-5f6b-4969-d2b2-022c83f7f9a5"
      },
      "execution_count": 15,
      "outputs": [
        {
          "output_type": "stream",
          "name": "stdout",
          "text": [
            "This stock costs $60.4 per share.\n"
          ]
        }
      ]
    },
    {
      "cell_type": "code",
      "source": [
        "print('This stock costs $%.2f per share.' % stock_share_price_list[1])"
      ],
      "metadata": {
        "colab": {
          "base_uri": "https://localhost:8080/"
        },
        "id": "BkfDwWRn1Nq7",
        "outputId": "a7d5e510-df8e-493a-e1c4-265645861cfb"
      },
      "execution_count": 16,
      "outputs": [
        {
          "output_type": "stream",
          "name": "stdout",
          "text": [
            "This stock costs $60.35 per share.\n"
          ]
        }
      ]
    },
    {
      "cell_type": "code",
      "source": [
        "i = 0\n",
        "print('Currently, we have %d units of Category \"%s\" products in store.' % (quantities[i], product_category[i]))"
      ],
      "metadata": {
        "colab": {
          "base_uri": "https://localhost:8080/"
        },
        "id": "aHhq4z9M1QsR",
        "outputId": "c308cfb6-74f0-433c-8862-c9bfe3864dab"
      },
      "execution_count": 17,
      "outputs": [
        {
          "output_type": "stream",
          "name": "stdout",
          "text": [
            "Currently, we have 500 units of Category \"A\" products in store.\n"
          ]
        }
      ]
    },
    {
      "cell_type": "code",
      "source": [
        "i = 1\n",
        "print('Currently, we have %d units of Category \"%s\" products in store.' % (quantities[i], product_category[i]))"
      ],
      "metadata": {
        "colab": {
          "base_uri": "https://localhost:8080/"
        },
        "id": "m6mabWrH17Un",
        "outputId": "81690d71-d6ec-4db9-ce52-4efc4bba0f74"
      },
      "execution_count": 18,
      "outputs": [
        {
          "output_type": "stream",
          "name": "stdout",
          "text": [
            "Currently, we have 600 units of Category \"B\" products in store.\n"
          ]
        }
      ]
    }
  ]
}