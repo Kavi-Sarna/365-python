{
  "nbformat": 4,
  "nbformat_minor": 0,
  "metadata": {
    "colab": {
      "provenance": [],
      "authorship_tag": "ABX9TyMYFudsddSJyQW+iPe5lyNO",
      "include_colab_link": true
    },
    "kernelspec": {
      "name": "python3",
      "display_name": "Python 3"
    },
    "language_info": {
      "name": "python"
    }
  },
  "cells": [
    {
      "cell_type": "markdown",
      "metadata": {
        "id": "view-in-github",
        "colab_type": "text"
      },
      "source": [
        "<a href=\"https://colab.research.google.com/github/Kavi-Sarna/365-python/blob/main/3%20-%20Intermediate%20Python%20Programming/1%20-%20Working%20with%20Text%20Data/7%20-%20Exercise.ipynb\" target=\"_parent\"><img src=\"https://colab.research.google.com/assets/colab-badge.svg\" alt=\"Open In Colab\"/></a>"
      ]
    },
    {
      "cell_type": "markdown",
      "source": [
        "<hr style=\"border:5px solid #108999\"> </hr>\n",
        "\n",
        "# Working with Text Data\n",
        "\n",
        "<hr style=\"border:4.5px solid #108999\"> </hr>"
      ],
      "metadata": {
        "id": "Y4hujs0LPJc2"
      }
    },
    {
      "cell_type": "markdown",
      "source": [
        "## Working with Text Data and Argument Specifiers"
      ],
      "metadata": {
        "id": "CTjMNGCgPTJ_"
      }
    },
    {
      "cell_type": "markdown",
      "source": [
        "Execute the following code cell to create four variables containing the following information: names of local car shops, brands of cars expected to be available for sale next year, the specific number of cars to be sold, and their price."
      ],
      "metadata": {
        "id": "2AMihMu1PcAB"
      }
    },
    {
      "cell_type": "code",
      "source": [
        "car_shop = ['Fast Cars', 'Elegant Cars']\n",
        "car_brand = ['Audi', 'Ford']\n",
        "number_of_cars_for_sale = [1000, 1200]\n",
        "price_of_model = 37500.50"
      ],
      "metadata": {
        "id": "nn8gs9LUPdQw"
      },
      "execution_count": 1,
      "outputs": []
    },
    {
      "cell_type": "markdown",
      "source": [
        "Use the string and integer argument specifiers, along with indexing, to create the following sentence with the help of the four variables you just created.\n",
        "<br>\"The \"Fast Cars\" shop are expecting to sell 1000 units of the new Audi model at 37500.50 per unit next year.\""
      ],
      "metadata": {
        "id": "WQfKXIKtPjcz"
      }
    },
    {
      "cell_type": "code",
      "source": [
        "print('The \"%s\" shop are expecting to sell %d units of the new %s model at %.2f per unit next year.' % (car_shop[0], number_of_cars_for_sale[0], car_brand[0], price_of_model))"
      ],
      "metadata": {
        "colab": {
          "base_uri": "https://localhost:8080/"
        },
        "id": "eT-fyHCJPfYy",
        "outputId": "a13a56c0-c606-499a-f715-d9379857a6d7"
      },
      "execution_count": 3,
      "outputs": [
        {
          "output_type": "stream",
          "name": "stdout",
          "text": [
            "The \"Fast Cars\" shop are expecting to sell 1000 units of the new Audi model at 37500.50 per unit next year.\n"
          ]
        }
      ]
    },
    {
      "cell_type": "markdown",
      "source": [
        "Change the index value of the previous code cell to obtain the following string as an output:\n",
        "<br>\"The \"Elegant Cars\" shop are expecting to sell 1200 units of the new Ford model next year.\""
      ],
      "metadata": {
        "id": "y369p_3cQYEW"
      }
    },
    {
      "cell_type": "code",
      "source": [
        "print('The \"%s\" shop are expecting to sell %d units of the new %s model next year.' % (car_shop[1], number_of_cars_for_sale[1], car_brand[1]))"
      ],
      "metadata": {
        "colab": {
          "base_uri": "https://localhost:8080/"
        },
        "id": "SfQiTO4-QLeE",
        "outputId": "e8d382d3-978c-4d68-8cbc-d2056767831b"
      },
      "execution_count": 4,
      "outputs": [
        {
          "output_type": "stream",
          "name": "stdout",
          "text": [
            "The \"Elegant Cars\" shop are expecting to sell 1200 units of the new Ford model next year.\n"
          ]
        }
      ]
    },
    {
      "cell_type": "markdown",
      "source": [
        "## Manipulating Python Strings"
      ],
      "metadata": {
        "id": "aI2o8cyhQn45"
      }
    },
    {
      "cell_type": "markdown",
      "source": [
        "Execute the following cell to create four variables you can complete the subsequent tasks with:"
      ],
      "metadata": {
        "id": "Z1-dNwA6QqUX"
      }
    },
    {
      "cell_type": "code",
      "source": [
        "car_shop = ['Fast Cars', 'Elegant Cars']\n",
        "car_brand = ['Audi', 'Ford']\n",
        "number_of_cars_for_sale = [1000, 1200]\n",
        "price_of_model = 37500.50"
      ],
      "metadata": {
        "id": "ajA5aILCQjIY"
      },
      "execution_count": 5,
      "outputs": []
    },
    {
      "cell_type": "markdown",
      "source": [
        "Use the **print()** function, argument specifiers, the variables created above, and the combination of the escape character and the letter n, i.e. **\\n,** to display the following string, while preserving the number of lines:"
      ],
      "metadata": {
        "id": "E4ZExghTQvbO"
      }
    },
    {
      "cell_type": "markdown",
      "source": [
        "Current list of local car shops:\n",
        "<br>\"Fast Cars\"\n",
        "<br>\"Elegant Cars\""
      ],
      "metadata": {
        "id": "1zsjnvRgQ4D5"
      }
    },
    {
      "cell_type": "code",
      "source": [
        "print('Current list of local car shops:\\n\"%s\"\\n\"%s\"' % (car_shop[0], car_shop[1]))"
      ],
      "metadata": {
        "colab": {
          "base_uri": "https://localhost:8080/"
        },
        "id": "cIaHNbgVQux8",
        "outputId": "7c8cdbdc-3146-4f0f-9aa9-9ae663bf276a"
      },
      "execution_count": 6,
      "outputs": [
        {
          "output_type": "stream",
          "name": "stdout",
          "text": [
            "Current list of local car shops:\n",
            "\"Fast Cars\"\n",
            "\"Elegant Cars\"\n"
          ]
        }
      ]
    },
    {
      "cell_type": "markdown",
      "source": [
        "Use the **print()** function and carriage return to substitute \"Product A1\" with \"Category A\" and thus correct the following sentence:\n",
        "<br>\"Product A1 is our best category of products.\""
      ],
      "metadata": {
        "id": "r9g3oTvrRRh6"
      }
    },
    {
      "cell_type": "code",
      "source": [
        "print('Product A1 is our best category of products.\\rCategory A')"
      ],
      "metadata": {
        "colab": {
          "base_uri": "https://localhost:8080/"
        },
        "id": "DDAfdqZTRNxM",
        "outputId": "61a9d1f6-1579-4ce8-893f-1a9ca03b600f"
      },
      "execution_count": 7,
      "outputs": [
        {
          "output_type": "stream",
          "name": "stdout",
          "text": [
            "Product A1 is our best category of products.\rCategory A\n"
          ]
        }
      ]
    },
    {
      "cell_type": "markdown",
      "source": [
        "Use argument specifiers, the variables created above, and the plus sign (+) within the parentheses of a **print()** function, to create the following string: <br>The \"Fast Cars\" shop are expecting to sell 1000 units of the new Audi model next year. The \"Elegant Cars\" shop are expecting to sell 1200 units of the new Ford model next year.\n",
        "<br>*Hint: Please feel free to directly refer to the code you created earlier in this exercise. Also, don't forget that you can write code on several lines for better legibility!*"
      ],
      "metadata": {
        "id": "PA6KUhlMRmN7"
      }
    },
    {
      "cell_type": "code",
      "source": [
        "print('The \"%s\" shop are expecting to sell %d units of the new %s model next year. ' % (car_shop[0], number_of_cars_for_sale[0], car_brand[0]) + \\\n",
        "      'The \"%s\" shop are expecting to sell %d units of the new %s model next year.' % (car_shop[1], number_of_cars_for_sale[1], car_brand[1]))"
      ],
      "metadata": {
        "colab": {
          "base_uri": "https://localhost:8080/"
        },
        "id": "4PXkXtSKRgXM",
        "outputId": "6b0a6761-6885-4f62-f0a0-fd3b52b44d0d"
      },
      "execution_count": 10,
      "outputs": [
        {
          "output_type": "stream",
          "name": "stdout",
          "text": [
            "The \"Fast Cars\" shop are expecting to sell 1000 units of the new Audi model next year. The \"Elegant Cars\" shop are expecting to sell 1200 units of the new Ford model next year.\n"
          ]
        }
      ]
    },
    {
      "cell_type": "markdown",
      "source": [
        "In the previous code cell, place the combination **\\t** at the correct place twice in order to separate the two sentences with two tabs as opposed to just combining them. <br> *Hint: There are several possible solutions to this task.*"
      ],
      "metadata": {
        "id": "59XisAZmSvno"
      }
    },
    {
      "cell_type": "code",
      "source": [
        "print('The \"%s\" shop are expecting to sell %d units of the new %s model next year. \\t\\tThe \"%s\" shop are expecting to sell %d units of the new %s model next year.' % (car_shop[0], number_of_cars_for_sale[0], car_brand[0], car_shop[1], number_of_cars_for_sale[1], car_brand[1]))"
      ],
      "metadata": {
        "colab": {
          "base_uri": "https://localhost:8080/"
        },
        "id": "E5kKT921SYKG",
        "outputId": "3dfd98c4-fcbe-41ac-aa18-0d85bfc23ef6"
      },
      "execution_count": 11,
      "outputs": [
        {
          "output_type": "stream",
          "name": "stdout",
          "text": [
            "The \"Fast Cars\" shop are expecting to sell 1000 units of the new Audi model next year. \t\tThe \"Elegant Cars\" shop are expecting to sell 1200 units of the new Ford model next year.\n"
          ]
        }
      ]
    },
    {
      "cell_type": "markdown",
      "source": [
        "## Using Various String Methods"
      ],
      "metadata": {
        "id": "o6nMRAhKTB0v"
      }
    },
    {
      "cell_type": "markdown",
      "source": [
        "Execute the next cell to create a variable called **s** (which stands for 'string') and assign the string \"Administrative expenses\" to it."
      ],
      "metadata": {
        "id": "DYMVelULTE8K"
      }
    },
    {
      "cell_type": "code",
      "source": [
        "s = 'Administrative expenses'\n",
        "s"
      ],
      "metadata": {
        "colab": {
          "base_uri": "https://localhost:8080/",
          "height": 35
        },
        "id": "oLuQc5qLS9Lm",
        "outputId": "59d25905-e8ea-4fb5-9b62-ec628b9d6a8c"
      },
      "execution_count": 12,
      "outputs": [
        {
          "output_type": "execute_result",
          "data": {
            "text/plain": [
              "'Administrative expenses'"
            ],
            "application/vnd.google.colaboratory.intrinsic+json": {
              "type": "string"
            }
          },
          "metadata": {},
          "execution_count": 12
        }
      ]
    },
    {
      "cell_type": "markdown",
      "source": [
        "Use the **.replace()** method to change the word \"Administrative\" with \"Selling\", thus making the variable **s** contain the string \"Selling expenses\".\n",
        "<br>As you are doing that, store the output in a new variable called **s1**."
      ],
      "metadata": {
        "id": "nJwrehaGTJU8"
      }
    },
    {
      "cell_type": "code",
      "source": [
        "s1 = s.replace('Administrative', 'Selling')\n",
        "s1"
      ],
      "metadata": {
        "colab": {
          "base_uri": "https://localhost:8080/",
          "height": 35
        },
        "id": "wYiWhZ--TG6S",
        "outputId": "ff2e2e2d-8b9c-4774-ace3-daa8cd1fcad9"
      },
      "execution_count": 13,
      "outputs": [
        {
          "output_type": "execute_result",
          "data": {
            "text/plain": [
              "'Selling expenses'"
            ],
            "application/vnd.google.colaboratory.intrinsic+json": {
              "type": "string"
            }
          },
          "metadata": {},
          "execution_count": 13
        }
      ]
    },
    {
      "cell_type": "markdown",
      "source": [
        "Check if the string **s** currently starts with \"Admin\"?"
      ],
      "metadata": {
        "id": "DpXjD7MtTV11"
      }
    },
    {
      "cell_type": "code",
      "source": [
        "s.startswith('Admin')"
      ],
      "metadata": {
        "colab": {
          "base_uri": "https://localhost:8080/"
        },
        "id": "nGpRQVEcTTaP",
        "outputId": "40a88863-f84d-4cfd-a1a9-e6cb7c79dfb1"
      },
      "execution_count": 16,
      "outputs": [
        {
          "output_type": "execute_result",
          "data": {
            "text/plain": [
              "True"
            ]
          },
          "metadata": {},
          "execution_count": 16
        }
      ]
    },
    {
      "cell_type": "markdown",
      "source": [
        "Verify that the string stored in **s1** now starts with \"Sell\"."
      ],
      "metadata": {
        "id": "4jBWAg6WTazB"
      }
    },
    {
      "cell_type": "code",
      "source": [
        "s1.startswith('Sell')"
      ],
      "metadata": {
        "colab": {
          "base_uri": "https://localhost:8080/"
        },
        "id": "TJ7OuN50TXiN",
        "outputId": "e1c83d91-bceb-4746-f051-6a827af751f4"
      },
      "execution_count": 17,
      "outputs": [
        {
          "output_type": "execute_result",
          "data": {
            "text/plain": [
              "True"
            ]
          },
          "metadata": {},
          "execution_count": 17
        }
      ]
    },
    {
      "cell_type": "markdown",
      "source": [
        "Will you obtain the same output if you verified for \"sell\" instead of \"Sell\"?"
      ],
      "metadata": {
        "id": "A0aVivuFToAn"
      }
    },
    {
      "cell_type": "code",
      "source": [
        "s1.startswith('sell')"
      ],
      "metadata": {
        "colab": {
          "base_uri": "https://localhost:8080/"
        },
        "id": "qIvVQCA8Tb4H",
        "outputId": "610525f6-7273-409b-cec7-e538847744db"
      },
      "execution_count": 18,
      "outputs": [
        {
          "output_type": "execute_result",
          "data": {
            "text/plain": [
              "False"
            ]
          },
          "metadata": {},
          "execution_count": 18
        }
      ]
    },
    {
      "cell_type": "markdown",
      "source": [
        "Does the expression in **s1** end at \"diture\"?"
      ],
      "metadata": {
        "id": "gMxx1JhdTsnd"
      }
    },
    {
      "cell_type": "code",
      "source": [
        "s1.endswith('diture')"
      ],
      "metadata": {
        "colab": {
          "base_uri": "https://localhost:8080/"
        },
        "id": "kmQk2gRZTqLj",
        "outputId": "e8848584-dffc-4f73-acee-dcdc358e5380"
      },
      "execution_count": 19,
      "outputs": [
        {
          "output_type": "execute_result",
          "data": {
            "text/plain": [
              "False"
            ]
          },
          "metadata": {},
          "execution_count": 19
        }
      ]
    },
    {
      "cell_type": "markdown",
      "source": [
        "Well, then you can verify that the expression in **s1** actually ends at \"ses\". Is this True?"
      ],
      "metadata": {
        "id": "trVUocMRTxcS"
      }
    },
    {
      "cell_type": "code",
      "source": [
        "s1.endswith('ses')"
      ],
      "metadata": {
        "colab": {
          "base_uri": "https://localhost:8080/"
        },
        "id": "djKzXM3tTvp6",
        "outputId": "84e79f2c-7e9a-4a27-d0e0-02c86a5c37d9"
      },
      "execution_count": 20,
      "outputs": [
        {
          "output_type": "execute_result",
          "data": {
            "text/plain": [
              "True"
            ]
          },
          "metadata": {},
          "execution_count": 20
        }
      ]
    },
    {
      "cell_type": "markdown",
      "source": [
        "Use a Python method without passing any arguments into it to return a list containing the words from **s1** as its elements."
      ],
      "metadata": {
        "id": "0oqQDMv6T6WT"
      }
    },
    {
      "cell_type": "code",
      "source": [
        "s1.split()"
      ],
      "metadata": {
        "colab": {
          "base_uri": "https://localhost:8080/"
        },
        "id": "FMNGvpjRT3Tb",
        "outputId": "3627a93c-c404-48b2-924c-3673f0965a68"
      },
      "execution_count": 21,
      "outputs": [
        {
          "output_type": "execute_result",
          "data": {
            "text/plain": [
              "['Selling', 'expenses']"
            ]
          },
          "metadata": {},
          "execution_count": 21
        }
      ]
    },
    {
      "cell_type": "markdown",
      "source": [
        "Obtain the same output while passing an argument within the parentheses of the same method this time."
      ],
      "metadata": {
        "id": "xAnmC9yJUA26"
      }
    },
    {
      "cell_type": "code",
      "source": [
        "s1.split(' ')"
      ],
      "metadata": {
        "colab": {
          "base_uri": "https://localhost:8080/"
        },
        "id": "NbWMQ4SlT-5t",
        "outputId": "573dc3a1-df22-413e-fb41-522f6175c913"
      },
      "execution_count": 22,
      "outputs": [
        {
          "output_type": "execute_result",
          "data": {
            "text/plain": [
              "['Selling', 'expenses']"
            ]
          },
          "metadata": {},
          "execution_count": 22
        }
      ]
    },
    {
      "cell_type": "markdown",
      "source": [
        "Split the **s1** string by the letter s to explore a list with what elements you will obtain."
      ],
      "metadata": {
        "id": "tdhcSDmQUIdr"
      }
    },
    {
      "cell_type": "code",
      "source": [
        "s1.split('s')"
      ],
      "metadata": {
        "colab": {
          "base_uri": "https://localhost:8080/"
        },
        "id": "SsN-jXO-UEqo",
        "outputId": "f71ccc7d-8bf1-47d7-e597-f993409e92d0"
      },
      "execution_count": 23,
      "outputs": [
        {
          "output_type": "execute_result",
          "data": {
            "text/plain": [
              "['Selling expen', 'e', '']"
            ]
          },
          "metadata": {},
          "execution_count": 23
        }
      ]
    },
    {
      "cell_type": "markdown",
      "source": [
        "Execute the following code cell to create and display the string called **s2**."
      ],
      "metadata": {
        "id": "FyT4yyGQURsT"
      }
    },
    {
      "cell_type": "code",
      "source": [
        "s2 = \"personal ID, first name, last name, date of birth, place of birth, city of birth\"\n",
        "s2"
      ],
      "metadata": {
        "colab": {
          "base_uri": "https://localhost:8080/",
          "height": 35
        },
        "id": "cLEzx5s9UPMY",
        "outputId": "1c4e7363-002b-407b-8dbe-78e467cb3159"
      },
      "execution_count": 24,
      "outputs": [
        {
          "output_type": "execute_result",
          "data": {
            "text/plain": [
              "'personal ID, first name, last name, date of birth, place of birth, city of birth'"
            ],
            "application/vnd.google.colaboratory.intrinsic+json": {
              "type": "string"
            }
          },
          "metadata": {},
          "execution_count": 24
        }
      ]
    },
    {
      "cell_type": "markdown",
      "source": [
        "Use a Python's method to split the text of **s2** into different elements as separated by the comma symbol.\n",
        "<br>*Note: Due to the length of the output, it might be displayed on several lines as opposed to a single one. You can try to display the elements from the obtained list on a single line, with the help of the **print()** function.*"
      ],
      "metadata": {
        "id": "kRZ4kgsPUWqn"
      }
    },
    {
      "cell_type": "code",
      "source": [
        "print(s2.split(','))"
      ],
      "metadata": {
        "colab": {
          "base_uri": "https://localhost:8080/"
        },
        "id": "udApOVfHUUmR",
        "outputId": "237c02ed-2a8f-49d9-924d-c0aa7ea57c03"
      },
      "execution_count": 26,
      "outputs": [
        {
          "output_type": "stream",
          "name": "stdout",
          "text": [
            "['personal ID', ' first name', ' last name', ' date of birth', ' place of birth', ' city of birth']\n"
          ]
        }
      ]
    },
    {
      "cell_type": "markdown",
      "source": [
        "How many elements are there in the **s2** string currently?"
      ],
      "metadata": {
        "id": "lk4cg2fMUqQj"
      }
    },
    {
      "cell_type": "code",
      "source": [
        "len(s2)"
      ],
      "metadata": {
        "colab": {
          "base_uri": "https://localhost:8080/"
        },
        "id": "kaMParQfUhsS",
        "outputId": "4eec4203-44da-44f9-8111-48df8b5a515e"
      },
      "execution_count": 27,
      "outputs": [
        {
          "output_type": "execute_result",
          "data": {
            "text/plain": [
              "80"
            ]
          },
          "metadata": {},
          "execution_count": 27
        }
      ]
    },
    {
      "cell_type": "markdown",
      "source": [
        "If you've worked correctly, you should have obtained 80.\n",
        "<br>Therefore, now store the list obtained after splitting the elements from **s2** in a variable called **list_01**, and then print its output."
      ],
      "metadata": {
        "id": "mAbXYerOUyiZ"
      }
    },
    {
      "cell_type": "code",
      "source": [
        "list_01 = s2.split(',')\n",
        "print(list_01)"
      ],
      "metadata": {
        "colab": {
          "base_uri": "https://localhost:8080/"
        },
        "id": "VDM0bUiwUwUL",
        "outputId": "f442fdd0-196c-4edc-b06e-7d5a43e0c8c9"
      },
      "execution_count": 28,
      "outputs": [
        {
          "output_type": "stream",
          "name": "stdout",
          "text": [
            "['personal ID', ' first name', ' last name', ' date of birth', ' place of birth', ' city of birth']\n"
          ]
        }
      ]
    },
    {
      "cell_type": "markdown",
      "source": [
        "How many elements are there in the **list_01** list currently?"
      ],
      "metadata": {
        "id": "QDRoNzwuU8LR"
      }
    },
    {
      "cell_type": "code",
      "source": [
        "len(list_01)"
      ],
      "metadata": {
        "colab": {
          "base_uri": "https://localhost:8080/"
        },
        "id": "fTe_eIyUU6O4",
        "outputId": "aba6b485-d59d-4ccc-a296-c095fabb662c"
      },
      "execution_count": 29,
      "outputs": [
        {
          "output_type": "execute_result",
          "data": {
            "text/plain": [
              "6"
            ]
          },
          "metadata": {},
          "execution_count": 29
        }
      ]
    },
    {
      "cell_type": "markdown",
      "source": [
        "If you've worked correctly, you should have obtained the value of 6 as an output."
      ],
      "metadata": {
        "id": "6qP5tvknVA9R"
      }
    },
    {
      "cell_type": "markdown",
      "source": [
        "Execute the next cell to remember what string was contained in the variable **s**."
      ],
      "metadata": {
        "id": "GzQXbNQ4VFMz"
      }
    },
    {
      "cell_type": "code",
      "source": [
        "s"
      ],
      "metadata": {
        "colab": {
          "base_uri": "https://localhost:8080/",
          "height": 35
        },
        "id": "hHSSoADCU-Sw",
        "outputId": "8bf14388-f7f7-4ca3-eecf-f0dbd26f300c"
      },
      "execution_count": 30,
      "outputs": [
        {
          "output_type": "execute_result",
          "data": {
            "text/plain": [
              "'Administrative expenses'"
            ],
            "application/vnd.google.colaboratory.intrinsic+json": {
              "type": "string"
            }
          },
          "metadata": {},
          "execution_count": 30
        }
      ]
    },
    {
      "cell_type": "markdown",
      "source": [
        "Use a Python method to display all letters of that string in the output as lowercase."
      ],
      "metadata": {
        "id": "bn8QJ3UeVIyV"
      }
    },
    {
      "cell_type": "code",
      "source": [
        "s.lower()"
      ],
      "metadata": {
        "colab": {
          "base_uri": "https://localhost:8080/",
          "height": 35
        },
        "id": "IShbESLbVGDO",
        "outputId": "dcd32990-a00a-4b75-c1a0-f1519e297920"
      },
      "execution_count": 31,
      "outputs": [
        {
          "output_type": "execute_result",
          "data": {
            "text/plain": [
              "'administrative expenses'"
            ],
            "application/vnd.google.colaboratory.intrinsic+json": {
              "type": "string"
            }
          },
          "metadata": {},
          "execution_count": 31
        }
      ]
    },
    {
      "cell_type": "markdown",
      "source": [
        "By analogy, use another Python method to display all letters as uppercase."
      ],
      "metadata": {
        "id": "s9XUmdaJVM25"
      }
    },
    {
      "cell_type": "code",
      "source": [
        "s.upper()"
      ],
      "metadata": {
        "colab": {
          "base_uri": "https://localhost:8080/",
          "height": 35
        },
        "id": "ioC8-bqiVK2T",
        "outputId": "49b48158-d7a5-4f36-def4-03ff9719b53a"
      },
      "execution_count": 32,
      "outputs": [
        {
          "output_type": "execute_result",
          "data": {
            "text/plain": [
              "'ADMINISTRATIVE EXPENSES'"
            ],
            "application/vnd.google.colaboratory.intrinsic+json": {
              "type": "string"
            }
          },
          "metadata": {},
          "execution_count": 32
        }
      ]
    },
    {
      "cell_type": "markdown",
      "source": [
        "Apply a Python method that will return the first letter of each word of **s** as uppercase, while the rest of the letters remain lowercase."
      ],
      "metadata": {
        "id": "qTJ56-T7VRMz"
      }
    },
    {
      "cell_type": "code",
      "source": [
        "s.title()"
      ],
      "metadata": {
        "colab": {
          "base_uri": "https://localhost:8080/",
          "height": 35
        },
        "id": "mhk3pHtOVO9C",
        "outputId": "134a69cd-63e3-4f5a-acd8-8cca3e0d5565"
      },
      "execution_count": 33,
      "outputs": [
        {
          "output_type": "execute_result",
          "data": {
            "text/plain": [
              "'Administrative Expenses'"
            ],
            "application/vnd.google.colaboratory.intrinsic+json": {
              "type": "string"
            }
          },
          "metadata": {},
          "execution_count": 33
        }
      ]
    },
    {
      "cell_type": "markdown",
      "source": [
        "Execute the following code cell to create and visualise a string called **name1**."
      ],
      "metadata": {
        "id": "NVRukGOiVYYg"
      }
    },
    {
      "cell_type": "code",
      "source": [
        "name1 = 'Martin Peterson   '\n",
        "name1"
      ],
      "metadata": {
        "colab": {
          "base_uri": "https://localhost:8080/",
          "height": 35
        },
        "id": "zliA2IYNVVtv",
        "outputId": "6f0256ed-6ed6-47ae-fa3d-8e84bcdb1bce"
      },
      "execution_count": 34,
      "outputs": [
        {
          "output_type": "execute_result",
          "data": {
            "text/plain": [
              "'Martin Peterson   '"
            ],
            "application/vnd.google.colaboratory.intrinsic+json": {
              "type": "string"
            }
          },
          "metadata": {},
          "execution_count": 34
        }
      ]
    },
    {
      "cell_type": "markdown",
      "source": [
        "Use a Python's string method to remove the whitespaces at the right end of the string.\n",
        "<br>*Note that there are two solutions of this task so feel free to use any of them.*"
      ],
      "metadata": {
        "id": "8Nw-wBgNVbjQ"
      }
    },
    {
      "cell_type": "code",
      "source": [
        "name1.rstrip()"
      ],
      "metadata": {
        "colab": {
          "base_uri": "https://localhost:8080/",
          "height": 35
        },
        "id": "yu5nM4L2VZ4E",
        "outputId": "d78932ed-b01e-4f81-e3fc-1e29f70f88a8"
      },
      "execution_count": 35,
      "outputs": [
        {
          "output_type": "execute_result",
          "data": {
            "text/plain": [
              "'Martin Peterson'"
            ],
            "application/vnd.google.colaboratory.intrinsic+json": {
              "type": "string"
            }
          },
          "metadata": {},
          "execution_count": 35
        }
      ]
    },
    {
      "cell_type": "code",
      "source": [
        "name1.strip()"
      ],
      "metadata": {
        "colab": {
          "base_uri": "https://localhost:8080/",
          "height": 35
        },
        "id": "ML1bxVI4Vh5y",
        "outputId": "e2987d90-1fb3-4025-9f36-86e84d9c4fee"
      },
      "execution_count": 36,
      "outputs": [
        {
          "output_type": "execute_result",
          "data": {
            "text/plain": [
              "'Martin Peterson'"
            ],
            "application/vnd.google.colaboratory.intrinsic+json": {
              "type": "string"
            }
          },
          "metadata": {},
          "execution_count": 36
        }
      ]
    },
    {
      "cell_type": "markdown",
      "source": [
        "## String Accessors"
      ],
      "metadata": {
        "id": "4a9S1n3yVnyh"
      }
    },
    {
      "cell_type": "markdown",
      "source": [
        "In this Notebook Document, we'll be working on methods that apply to pandas objects, so you can start by importing the pandas library in the standard way."
      ],
      "metadata": {
        "id": "eav4DZJ9Vpu6"
      }
    },
    {
      "cell_type": "code",
      "source": [
        "import pandas as pd"
      ],
      "metadata": {
        "id": "2cRFM1NzVkTI"
      },
      "execution_count": 37,
      "outputs": []
    },
    {
      "cell_type": "markdown",
      "source": [
        "Execute the next cell to create and visualise a pandas Series object containing the names of 3 people."
      ],
      "metadata": {
        "id": "dw2y_9oEVtYk"
      }
    },
    {
      "cell_type": "code",
      "source": [
        "names = pd.Series([\"Martin Peterson\", \"John Fitzpatrick\", \"Kate Cruz\"])\n",
        "names"
      ],
      "metadata": {
        "colab": {
          "base_uri": "https://localhost:8080/"
        },
        "id": "5qCxrRvQVrx-",
        "outputId": "06c151ab-9c14-440c-f4f1-e08870db0528"
      },
      "execution_count": 38,
      "outputs": [
        {
          "output_type": "execute_result",
          "data": {
            "text/plain": [
              "0     Martin Peterson\n",
              "1    John Fitzpatrick\n",
              "2           Kate Cruz\n",
              "dtype: object"
            ]
          },
          "metadata": {},
          "execution_count": 38
        }
      ]
    },
    {
      "cell_type": "markdown",
      "source": [
        "Use the relevant string accessor *twice* – once with the **.split()** method and indexing (within parentheses) to remove the first names of all individuals. Store the obtained output in a new variable called **last_names**."
      ],
      "metadata": {
        "id": "ibIpAIjpVwhy"
      }
    },
    {
      "cell_type": "code",
      "source": [
        "last_names = names.str.split().str[1]\n",
        "last_names"
      ],
      "metadata": {
        "colab": {
          "base_uri": "https://localhost:8080/"
        },
        "id": "3viiO14aVvBK",
        "outputId": "b7b4d7b4-ea4d-4b68-9851-2f38fa02d597"
      },
      "execution_count": 43,
      "outputs": [
        {
          "output_type": "execute_result",
          "data": {
            "text/plain": [
              "0       Peterson\n",
              "1    Fitzpatrick\n",
              "2           Cruz\n",
              "dtype: object"
            ]
          },
          "metadata": {},
          "execution_count": 43
        }
      ]
    },
    {
      "cell_type": "markdown",
      "source": [
        "Check the type of the **last_names** object."
      ],
      "metadata": {
        "id": "iC2i806XWt4u"
      }
    },
    {
      "cell_type": "code",
      "source": [
        "type(last_names)"
      ],
      "metadata": {
        "colab": {
          "base_uri": "https://localhost:8080/"
        },
        "id": "O8ogZLrBWNpD",
        "outputId": "0f635d65-fd28-47ef-a9e3-70e8c768d1d4"
      },
      "execution_count": 44,
      "outputs": [
        {
          "output_type": "execute_result",
          "data": {
            "text/plain": [
              "pandas.core.series.Series"
            ]
          },
          "metadata": {},
          "execution_count": 44
        }
      ]
    },
    {
      "cell_type": "markdown",
      "source": [
        "Check which of the names in **last_names** contain the letter **s**.\n",
        "If you've worked correctly, you should obtain a True value only for the first element of the **last_names** Series."
      ],
      "metadata": {
        "id": "7nKz4pmhWyyO"
      }
    },
    {
      "cell_type": "code",
      "source": [
        "last_names.str.contains('s')"
      ],
      "metadata": {
        "colab": {
          "base_uri": "https://localhost:8080/"
        },
        "id": "xiR3A2M6Wvt6",
        "outputId": "238100df-025f-4a4c-f7f8-53f2d2e0cb26"
      },
      "execution_count": 45,
      "outputs": [
        {
          "output_type": "execute_result",
          "data": {
            "text/plain": [
              "0     True\n",
              "1    False\n",
              "2    False\n",
              "dtype: bool"
            ]
          },
          "metadata": {},
          "execution_count": 45
        }
      ]
    },
    {
      "cell_type": "markdown",
      "source": [
        "## Using the .format() Method"
      ],
      "metadata": {
        "id": "ZLYr1lJRXATo"
      }
    },
    {
      "cell_type": "markdown",
      "source": [
        "Consider the following string."
      ],
      "metadata": {
        "id": "xKPf8RaqXDRT"
      }
    },
    {
      "cell_type": "code",
      "source": [
        "\"{} expect their next year's sales of Q{} to {}.\""
      ],
      "metadata": {
        "colab": {
          "base_uri": "https://localhost:8080/",
          "height": 35
        },
        "id": "Jap1Zi4BW7Qj",
        "outputId": "406af46d-0fe2-4c07-875a-ecaa488a46da"
      },
      "execution_count": 46,
      "outputs": [
        {
          "output_type": "execute_result",
          "data": {
            "text/plain": [
              "\"{} expect their next year's sales of Q{} to {}.\""
            ],
            "application/vnd.google.colaboratory.intrinsic+json": {
              "type": "string"
            }
          },
          "metadata": {},
          "execution_count": 46
        }
      ]
    },
    {
      "cell_type": "markdown",
      "source": [
        "Use the **.format()** method to substitute the pairs of braces in the string with the following three values, thus obtaining information about the sales of Company A for the third quarter of next year:\n",
        "<br>'Company A'\n",
        "<br>3\n",
        "<br>'increase'"
      ],
      "metadata": {
        "id": "UHCvNDieXG2Z"
      }
    },
    {
      "cell_type": "code",
      "source": [
        "\"{} expect their next year's sales of Q{} to {}.\".format('Company A', 3, 'increase')"
      ],
      "metadata": {
        "colab": {
          "base_uri": "https://localhost:8080/",
          "height": 35
        },
        "id": "X1N6QfSIXFS6",
        "outputId": "00cac157-1310-4600-e4be-84f9e9d60c1e"
      },
      "execution_count": 47,
      "outputs": [
        {
          "output_type": "execute_result",
          "data": {
            "text/plain": [
              "\"Company A expect their next year's sales of Q3 to increase.\""
            ],
            "application/vnd.google.colaboratory.intrinsic+json": {
              "type": "string"
            }
          },
          "metadata": {},
          "execution_count": 47
        }
      ]
    },
    {
      "cell_type": "markdown",
      "source": [
        "Execute the next cell to create three variables that store information about companies, quarters and sales performance predictions, respectively."
      ],
      "metadata": {
        "id": "ioLOr57VXXao"
      }
    },
    {
      "cell_type": "code",
      "source": [
        "companies = ['Company A', 'Company B']\n",
        "quarter = [1, 2, 3, 4]\n",
        "sales_performance_prediction = ['increase', 'decrease', 'remain the same']"
      ],
      "metadata": {
        "id": "vzteEUy7XT28"
      },
      "execution_count": 48,
      "outputs": []
    },
    {
      "cell_type": "markdown",
      "source": [
        "Obtain the same output as above while referring to the three lists you just created. Help yourself with using appropriate indexing.\n",
        "<br>Here's the output you need to aim for as a reference.\n",
        "<br>\"Company A expect their next year's sales of Q3 to increase.\""
      ],
      "metadata": {
        "id": "hFbuMDM5XcXc"
      }
    },
    {
      "cell_type": "code",
      "source": [
        "\"{} expect their next year's sales of Q{} to {}.\".format(companies[0], quarter[2], sales_performance_prediction[0])"
      ],
      "metadata": {
        "colab": {
          "base_uri": "https://localhost:8080/",
          "height": 35
        },
        "id": "LzlleFU8XZJ4",
        "outputId": "e51c71a7-b91b-458b-9d5a-23bba888ca2c"
      },
      "execution_count": 49,
      "outputs": [
        {
          "output_type": "execute_result",
          "data": {
            "text/plain": [
              "\"Company A expect their next year's sales of Q3 to increase.\""
            ],
            "application/vnd.google.colaboratory.intrinsic+json": {
              "type": "string"
            }
          },
          "metadata": {},
          "execution_count": 49
        }
      ]
    },
    {
      "cell_type": "markdown",
      "source": [
        "Feel free to experiment with the same line of code while referencing different values from the three lists that have been given."
      ],
      "metadata": {
        "id": "7pTIH6qcXukv"
      }
    },
    {
      "cell_type": "markdown",
      "source": [
        "Here's an example:"
      ],
      "metadata": {
        "id": "eaPXutc9XxYz"
      }
    },
    {
      "cell_type": "code",
      "source": [
        "\"{} expect their next year's sales of Q{} to {}.\".format(companies[1], quarter[3], sales_performance_prediction[2])"
      ],
      "metadata": {
        "colab": {
          "base_uri": "https://localhost:8080/",
          "height": 35
        },
        "id": "hZxkLm1DXrNX",
        "outputId": "7463a311-4c93-41f5-a3f4-23b0a9a88301"
      },
      "execution_count": 50,
      "outputs": [
        {
          "output_type": "execute_result",
          "data": {
            "text/plain": [
              "\"Company B expect their next year's sales of Q4 to remain the same.\""
            ],
            "application/vnd.google.colaboratory.intrinsic+json": {
              "type": "string"
            }
          },
          "metadata": {},
          "execution_count": 50
        }
      ]
    }
  ]
}