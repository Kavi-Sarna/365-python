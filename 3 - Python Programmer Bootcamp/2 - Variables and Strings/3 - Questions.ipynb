{
  "nbformat": 4,
  "nbformat_minor": 0,
  "metadata": {
    "colab": {
      "provenance": [],
      "authorship_tag": "ABX9TyMb4kjaOTP3VYYdnBpTbM6R",
      "include_colab_link": true
    },
    "kernelspec": {
      "name": "python3",
      "display_name": "Python 3"
    },
    "language_info": {
      "name": "python"
    }
  },
  "cells": [
    {
      "cell_type": "markdown",
      "metadata": {
        "id": "view-in-github",
        "colab_type": "text"
      },
      "source": [
        "<a href=\"https://colab.research.google.com/github/Kavi-Sarna/365-python/blob/main/3%20-%20Python%20Programmer%20Bootcamp/2%20-%20Variables%20and%20Strings/3%20-%20Questions.ipynb\" target=\"_parent\"><img src=\"https://colab.research.google.com/assets/colab-badge.svg\" alt=\"Open In Colab\"/></a>"
      ]
    },
    {
      "cell_type": "markdown",
      "source": [
        "Ask the user for the radius of a circle and then print the area"
      ],
      "metadata": {
        "id": "QHd-Ikcw0-G5"
      }
    },
    {
      "cell_type": "code",
      "source": [
        "radius = float(input('Enter the radius of the circle: '))\n",
        "pi = 3.14159\n",
        "area = pi * radius ** 2\n",
        "print('Area of the Circle is:', area)"
      ],
      "metadata": {
        "colab": {
          "base_uri": "https://localhost:8080/"
        },
        "id": "FOh-_TBH084U",
        "outputId": "81646a02-e2cb-40e2-8846-333de1e06095"
      },
      "execution_count": 18,
      "outputs": [
        {
          "output_type": "stream",
          "name": "stdout",
          "text": [
            "Enter the radius of the circle: 3\n",
            "Area of the Circle is: 28.27431\n"
          ]
        }
      ]
    },
    {
      "cell_type": "markdown",
      "source": [
        "Convert fahrenheit to celsius"
      ],
      "metadata": {
        "id": "OghRxrJn1tl6"
      }
    },
    {
      "cell_type": "code",
      "source": [
        "fahrenheit = float(input('Enter the temperature in Fahrenheit: '))\n",
        "celcius = (fahrenheit - 32) * 5 / 9\n",
        "print(fahrenheit, 'Fahrenheit in Celcius is', celcius)"
      ],
      "metadata": {
        "colab": {
          "base_uri": "https://localhost:8080/"
        },
        "id": "1Jrp2lDq1n5D",
        "outputId": "d129a5a9-25da-4fe4-e64c-9f77ea8d3728"
      },
      "execution_count": 19,
      "outputs": [
        {
          "output_type": "stream",
          "name": "stdout",
          "text": [
            "Enter the temperature in Fahrenheit: 98\n",
            "98.0 Fahrenheit in Celcius is 36.666666666666664\n"
          ]
        }
      ]
    },
    {
      "cell_type": "markdown",
      "source": [
        "Obtain the sum of two integers"
      ],
      "metadata": {
        "id": "WBVtPlDX2kep"
      }
    },
    {
      "cell_type": "code",
      "source": [
        "num_1 = int(input('Enter the first number: '))\n",
        "num_2 = int(input('Enter the second number: '))\n",
        "sum = num_1 + num_2\n",
        "print('The sum of the two numbers is:', sum)"
      ],
      "metadata": {
        "colab": {
          "base_uri": "https://localhost:8080/"
        },
        "id": "iZ8Xv0SK2UlN",
        "outputId": "bc2719ed-27e6-4fa7-ebaa-c2135f6105f5"
      },
      "execution_count": 20,
      "outputs": [
        {
          "output_type": "stream",
          "name": "stdout",
          "text": [
            "Enter the first number: 4\n",
            "Enter the second number: 6\n",
            "The sum of the two numbers is: 10\n"
          ]
        }
      ]
    },
    {
      "cell_type": "markdown",
      "source": [
        "Obtain the product of two integers"
      ],
      "metadata": {
        "id": "fxZ5HtU93LKV"
      }
    },
    {
      "cell_type": "code",
      "source": [
        "num_1 = int(input('Enter the first number: '))\n",
        "num_2 = int(input('Enter the second number: '))\n",
        "product = num_1 * num_2\n",
        "print('Product of the two numbers is:', product)"
      ],
      "metadata": {
        "colab": {
          "base_uri": "https://localhost:8080/"
        },
        "id": "koxsJrb029hB",
        "outputId": "131c0f01-17fe-4ccf-f3f9-2de8cd31a913"
      },
      "execution_count": 21,
      "outputs": [
        {
          "output_type": "stream",
          "name": "stdout",
          "text": [
            "Enter the first number: 4\n",
            "Enter the second number: 6\n",
            "Product of the two numbers is: 24\n"
          ]
        }
      ]
    },
    {
      "cell_type": "markdown",
      "source": [
        "Bob, Ann, Jane and Ashwin want to order pizza - they know they will each eat\n",
        " 4 slices of pizza. The local pizza shop sells pizzas of only 6 slices\n",
        " What is the minimum number of pizzas needed - Use floor division"
      ],
      "metadata": {
        "id": "uLSWBCm_3vQ0"
      }
    },
    {
      "cell_type": "code",
      "source": [
        "total_slices = 4 * 4\n",
        "\n",
        "number_of_pizzas = (total_slices + 5) // 6\n",
        "print('Minimum number of Pizzas needed is:', number_of_pizzas)"
      ],
      "metadata": {
        "colab": {
          "base_uri": "https://localhost:8080/"
        },
        "id": "sGG_2e9C3lOX",
        "outputId": "6a23df41-5bda-4ab4-e69f-ed9b4766743e"
      },
      "execution_count": 22,
      "outputs": [
        {
          "output_type": "stream",
          "name": "stdout",
          "text": [
            "Minimum number of Pizzas needed is: 3\n"
          ]
        }
      ]
    }
  ]
}