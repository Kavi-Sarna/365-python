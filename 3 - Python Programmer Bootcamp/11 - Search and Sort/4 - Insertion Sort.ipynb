{
  "cells": [
    {
      "cell_type": "markdown",
      "metadata": {
        "id": "view-in-github",
        "colab_type": "text"
      },
      "source": [
        "<a href=\"https://colab.research.google.com/github/Kavi-Sarna/365-python/blob/main/3%20-%20Python%20Programmer%20Bootcamp/11%20-%20Search%20and%20Sort/4%20-%20Insertion%20Sort.ipynb\" target=\"_parent\"><img src=\"https://colab.research.google.com/assets/colab-badge.svg\" alt=\"Open In Colab\"/></a>"
      ]
    },
    {
      "cell_type": "code",
      "source": [
        "def insertion_sort(items):\n",
        "  for i in range(1, len(items)):\n",
        "    value = items[i]\n",
        "    j = i\n",
        "\n",
        "    while j > 0 and items[j-1] > value:\n",
        "      items[j] = items[j-1]\n",
        "      j -= 1\n",
        "\n",
        "    items[j] = value\n",
        "\n",
        "  return items"
      ],
      "metadata": {
        "id": "Z3xw8HcmqPnk"
      },
      "execution_count": 1,
      "outputs": []
    },
    {
      "cell_type": "code",
      "source": [
        "items = [70, 24, 87, 45, 6, 3, 2, 8, 5]\n",
        "print(insertion_sort(items))"
      ],
      "metadata": {
        "colab": {
          "base_uri": "https://localhost:8080/"
        },
        "id": "SiABPkECq227",
        "outputId": "fc070c16-9d29-43c1-af91-3c5f8cb623d7"
      },
      "execution_count": 2,
      "outputs": [
        {
          "output_type": "stream",
          "name": "stdout",
          "text": [
            "[2, 3, 5, 6, 8, 24, 45, 70, 87]\n"
          ]
        }
      ]
    }
  ],
  "metadata": {
    "colab": {
      "provenance": [],
      "authorship_tag": "ABX9TyO42DQINbh9i1nyMdGbQ1sp",
      "include_colab_link": true
    },
    "kernelspec": {
      "display_name": "Python 3",
      "name": "python3"
    },
    "language_info": {
      "name": "python"
    }
  },
  "nbformat": 4,
  "nbformat_minor": 0
}