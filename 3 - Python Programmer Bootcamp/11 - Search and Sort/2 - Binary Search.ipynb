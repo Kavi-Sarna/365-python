{
  "cells": [
    {
      "cell_type": "markdown",
      "metadata": {
        "id": "view-in-github",
        "colab_type": "text"
      },
      "source": [
        "<a href=\"https://colab.research.google.com/github/Kavi-Sarna/365-python/blob/main/3%20-%20Python%20Programmer%20Bootcamp/11%20-%20Search%20and%20Sort/2%20-%20Binary%20Search.ipynb\" target=\"_parent\"><img src=\"https://colab.research.google.com/assets/colab-badge.svg\" alt=\"Open In Colab\"/></a>"
      ]
    },
    {
      "cell_type": "code",
      "source": [
        "def binary_search(item, item_list):\n",
        "  found = False\n",
        "  first = 0\n",
        "  last = len(item_list) - 1\n",
        "\n",
        "  while first <= last and found == False:\n",
        "    midpoint = (first + last)//2\n",
        "\n",
        "    if item_list[midpoint] == item:\n",
        "      found = True\n",
        "    else:\n",
        "      if item_list[midpoint] < item:\n",
        "        first = midpoint + 1\n",
        "      else:\n",
        "        last = midpoint - 1\n",
        "\n",
        "  return found"
      ],
      "metadata": {
        "id": "l2I7Vlb1h8kv"
      },
      "execution_count": 11,
      "outputs": []
    },
    {
      "cell_type": "code",
      "source": [
        "test = [2, 3, 5, 6, 8, 24, 45, 70, 87]\n",
        "print(binary_search(87, test))\n",
        "print(binary_search(88, test))"
      ],
      "metadata": {
        "colab": {
          "base_uri": "https://localhost:8080/"
        },
        "id": "9doR9elikYXL",
        "outputId": "96c50bc1-9f2a-42a4-d890-a2882b45ba99"
      },
      "execution_count": 12,
      "outputs": [
        {
          "output_type": "stream",
          "name": "stdout",
          "text": [
            "True\n",
            "False\n"
          ]
        }
      ]
    }
  ],
  "metadata": {
    "colab": {
      "provenance": [],
      "authorship_tag": "ABX9TyPwHXYLOeViIApa0Sliynwi",
      "include_colab_link": true
    },
    "kernelspec": {
      "display_name": "Python 3",
      "name": "python3"
    },
    "language_info": {
      "name": "python"
    }
  },
  "nbformat": 4,
  "nbformat_minor": 0
}