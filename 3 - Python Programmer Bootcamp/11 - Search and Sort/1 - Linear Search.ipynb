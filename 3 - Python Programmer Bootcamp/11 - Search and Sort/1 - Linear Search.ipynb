{
  "cells": [
    {
      "cell_type": "markdown",
      "metadata": {
        "id": "view-in-github",
        "colab_type": "text"
      },
      "source": [
        "<a href=\"https://colab.research.google.com/github/Kavi-Sarna/365-python/blob/main/3%20-%20Python%20Programmer%20Bootcamp/11%20-%20Search%20and%20Sort/1%20-%20Linear%20Search.ipynb\" target=\"_parent\"><img src=\"https://colab.research.google.com/assets/colab-badge.svg\" alt=\"Open In Colab\"/></a>"
      ]
    },
    {
      "cell_type": "code",
      "source": [
        "def linear_search_while(item, item_list):\n",
        "  i = 0\n",
        "  found =  False\n",
        "\n",
        "  while i < len(item_list) and found == False:\n",
        "    if item_list[i] == item:\n",
        "      found = True\n",
        "    else:\n",
        "      i += 1\n",
        "\n",
        "  return found"
      ],
      "metadata": {
        "id": "IogpTgHMgeZY"
      },
      "execution_count": 7,
      "outputs": []
    },
    {
      "cell_type": "code",
      "source": [
        "test = [6, 5, 8, 2, 3, 45, 87, 24, 70]\n",
        "print(linear_search_while(87, test))\n",
        "print(linear_search_while(88, test))"
      ],
      "metadata": {
        "colab": {
          "base_uri": "https://localhost:8080/"
        },
        "id": "8Dswh4oFg4CT",
        "outputId": "a18ed69d-500d-45ae-bc63-9c5928490b37"
      },
      "execution_count": 8,
      "outputs": [
        {
          "output_type": "stream",
          "name": "stdout",
          "text": [
            "True\n",
            "False\n"
          ]
        }
      ]
    },
    {
      "cell_type": "code",
      "source": [
        "def linear_search_for(item, item_list):\n",
        "  for i in range(len(item_list)):\n",
        "    if item_list[i] == item:\n",
        "      return True\n",
        "\n",
        "  return False"
      ],
      "metadata": {
        "id": "lkzVAZKxg-Mn"
      },
      "execution_count": 9,
      "outputs": []
    },
    {
      "cell_type": "code",
      "source": [
        "test = [6, 5, 8, 2, 3, 45, 87, 24, 70]\n",
        "print(linear_search_for(87, test))\n",
        "print(linear_search_for(88, test))"
      ],
      "metadata": {
        "colab": {
          "base_uri": "https://localhost:8080/"
        },
        "id": "TCmmAcrkhU_F",
        "outputId": "323de4fd-c8c0-435f-bf92-975365cb3188"
      },
      "execution_count": 10,
      "outputs": [
        {
          "output_type": "stream",
          "name": "stdout",
          "text": [
            "True\n",
            "False\n"
          ]
        }
      ]
    }
  ],
  "metadata": {
    "colab": {
      "provenance": [],
      "authorship_tag": "ABX9TyOotp4cxIlUByubrvNArJux",
      "include_colab_link": true
    },
    "kernelspec": {
      "display_name": "Python 3",
      "name": "python3"
    },
    "language_info": {
      "name": "python"
    }
  },
  "nbformat": 4,
  "nbformat_minor": 0
}