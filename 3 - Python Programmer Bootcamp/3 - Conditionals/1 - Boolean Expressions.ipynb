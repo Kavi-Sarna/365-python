{
  "nbformat": 4,
  "nbformat_minor": 0,
  "metadata": {
    "colab": {
      "provenance": [],
      "authorship_tag": "ABX9TyNIcD+fofSkEhXK+sz3w3SX",
      "include_colab_link": true
    },
    "kernelspec": {
      "name": "python3",
      "display_name": "Python 3"
    },
    "language_info": {
      "name": "python"
    }
  },
  "cells": [
    {
      "cell_type": "markdown",
      "metadata": {
        "id": "view-in-github",
        "colab_type": "text"
      },
      "source": [
        "<a href=\"https://colab.research.google.com/github/Kavi-Sarna/365-python/blob/main/3%20-%20Python%20Programmer%20Bootcamp/3%20-%20Conditionals/1%20-%20Boolean%20Expressions.ipynb\" target=\"_parent\"><img src=\"https://colab.research.google.com/assets/colab-badge.svg\" alt=\"Open In Colab\"/></a>"
      ]
    },
    {
      "cell_type": "markdown",
      "source": [
        "Boolean Expressions"
      ],
      "metadata": {
        "id": "0Drxa6DfQdjf"
      }
    },
    {
      "cell_type": "code",
      "source": [
        "3 == 3"
      ],
      "metadata": {
        "colab": {
          "base_uri": "https://localhost:8080/"
        },
        "id": "hrNJAM06QhGQ",
        "outputId": "84fb7fd3-4fd3-4d06-c6d0-5e1a36cdbaf6"
      },
      "execution_count": 24,
      "outputs": [
        {
          "output_type": "execute_result",
          "data": {
            "text/plain": [
              "True"
            ]
          },
          "metadata": {},
          "execution_count": 24
        }
      ]
    },
    {
      "cell_type": "code",
      "source": [
        "3 == 2"
      ],
      "metadata": {
        "colab": {
          "base_uri": "https://localhost:8080/"
        },
        "id": "o7ZAsJzhQklV",
        "outputId": "675e0dc8-8107-4034-b9b7-ada67dbbb715"
      },
      "execution_count": 25,
      "outputs": [
        {
          "output_type": "execute_result",
          "data": {
            "text/plain": [
              "False"
            ]
          },
          "metadata": {},
          "execution_count": 25
        }
      ]
    },
    {
      "cell_type": "code",
      "source": [
        "x = 5\n",
        "y = 6"
      ],
      "metadata": {
        "id": "wcjTMg4UQn9i"
      },
      "execution_count": 26,
      "outputs": []
    },
    {
      "cell_type": "code",
      "source": [
        "print('x =', x, 'y =', y)"
      ],
      "metadata": {
        "colab": {
          "base_uri": "https://localhost:8080/"
        },
        "id": "ZHYGNfrLQ2zD",
        "outputId": "c6d18cbd-1a79-44f0-b95c-14414fc35ce7"
      },
      "execution_count": 32,
      "outputs": [
        {
          "output_type": "stream",
          "name": "stdout",
          "text": [
            "x = 5 y = 6\n"
          ]
        }
      ]
    },
    {
      "cell_type": "code",
      "source": [
        "print('Checking less than with \"<\":', x < y)\n",
        "print('Checking greater than with \">\":', x > y)"
      ],
      "metadata": {
        "colab": {
          "base_uri": "https://localhost:8080/"
        },
        "id": "MMywIP1UQ8Mb",
        "outputId": "8b489bc8-0492-4cc3-8aaf-fb2073b242c9"
      },
      "execution_count": 33,
      "outputs": [
        {
          "output_type": "stream",
          "name": "stdout",
          "text": [
            "Checking less than with \"<\": True\n",
            "Checking greater than with \">\": False\n"
          ]
        }
      ]
    },
    {
      "cell_type": "code",
      "source": [],
      "metadata": {
        "id": "zgwQTrrdSOIG"
      },
      "execution_count": 29,
      "outputs": []
    },
    {
      "cell_type": "code",
      "source": [
        "var_1 = 7\n",
        "var_2 = 7"
      ],
      "metadata": {
        "id": "2WZWyE9oST3A"
      },
      "execution_count": 30,
      "outputs": []
    },
    {
      "cell_type": "code",
      "source": [
        "print('var_1 =', var_1, 'var_2 =', var_2)\n",
        "print('Checking equality with \"==\":', var_1 == var_2)\n",
        "print('Checking not equal with \"!=\":', var_1 != var_2)\n",
        "print('Checking less than or equal with \"<=\":', var_1 <= var_2)\n",
        "print('Checking greater than or equal with \">=\":', var_1 >= var_2)"
      ],
      "metadata": {
        "colab": {
          "base_uri": "https://localhost:8080/"
        },
        "id": "csipQqW0SXW6",
        "outputId": "7057989c-8248-4a76-fbb8-8e74119b4495"
      },
      "execution_count": 31,
      "outputs": [
        {
          "output_type": "stream",
          "name": "stdout",
          "text": [
            "var_1 = 7 var_2 = 7\n",
            "Checking equality with \"==\": True\n",
            "Checking not equal with \"!=\": False\n",
            "Checking less than or equal with \"<=\": True\n",
            "Checking greater than or equal with \">=\": True\n"
          ]
        }
      ]
    },
    {
      "cell_type": "code",
      "source": [
        "print('Demonstrate that \"True\" is a Boolean in Python with \"type(True)\":', type(True))"
      ],
      "metadata": {
        "colab": {
          "base_uri": "https://localhost:8080/"
        },
        "id": "sXt28ZATS_y2",
        "outputId": "034e15ca-a5cb-4fbb-e4ed-2e3a8013930c"
      },
      "execution_count": 34,
      "outputs": [
        {
          "output_type": "stream",
          "name": "stdout",
          "text": [
            "Demonstrate that \"True\" is a Boolean in Python with \"type(True)\": <class 'bool'>\n"
          ]
        }
      ]
    }
  ]
}