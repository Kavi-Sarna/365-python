{
  "nbformat": 4,
  "nbformat_minor": 0,
  "metadata": {
    "colab": {
      "provenance": [],
      "authorship_tag": "ABX9TyMGtehsG2qtjc7wSzOSTkqV",
      "include_colab_link": true
    },
    "kernelspec": {
      "name": "python3",
      "display_name": "Python 3"
    },
    "language_info": {
      "name": "python"
    }
  },
  "cells": [
    {
      "cell_type": "markdown",
      "metadata": {
        "id": "view-in-github",
        "colab_type": "text"
      },
      "source": [
        "<a href=\"https://colab.research.google.com/github/Kavi-Sarna/365-python/blob/main/3%20-%20Python%20Programmer%20Bootcamp/3%20-%20Conditionals/2%20-%20Logical%20Operators.ipynb\" target=\"_parent\"><img src=\"https://colab.research.google.com/assets/colab-badge.svg\" alt=\"Open In Colab\"/></a>"
      ]
    },
    {
      "cell_type": "markdown",
      "source": [
        "Logical Operators"
      ],
      "metadata": {
        "id": "0Drxa6DfQdjf"
      }
    },
    {
      "cell_type": "code",
      "source": [
        "var_3, var_4, var_5 =  15, 20, 25\n",
        "print('var_3 =', var_3, 'var_4 =', var_4, 'var_5 =', var_5)"
      ],
      "metadata": {
        "colab": {
          "base_uri": "https://localhost:8080/"
        },
        "id": "_tPZnb1jUgbn",
        "outputId": "8e3c2427-e167-4ef8-b588-5c21014e771c"
      },
      "execution_count": 6,
      "outputs": [
        {
          "output_type": "stream",
          "name": "stdout",
          "text": [
            "var_3 = 15 var_4 = 20 var_5 = 25\n"
          ]
        }
      ]
    },
    {
      "cell_type": "code",
      "source": [],
      "metadata": {
        "id": "B_LLeseEVDGk"
      },
      "execution_count": 6,
      "outputs": []
    },
    {
      "cell_type": "code",
      "source": [
        "True and True"
      ],
      "metadata": {
        "colab": {
          "base_uri": "https://localhost:8080/"
        },
        "id": "Vf1CygnmUozG",
        "outputId": "eb021d7f-7f34-4ab3-b98d-dd20731eabc3"
      },
      "execution_count": 7,
      "outputs": [
        {
          "output_type": "execute_result",
          "data": {
            "text/plain": [
              "True"
            ]
          },
          "metadata": {},
          "execution_count": 7
        }
      ]
    },
    {
      "cell_type": "code",
      "source": [
        "True and False"
      ],
      "metadata": {
        "colab": {
          "base_uri": "https://localhost:8080/"
        },
        "id": "kMR63kqdU6Zv",
        "outputId": "bba3f0a4-f45b-4911-e3a7-5a74589641b4"
      },
      "execution_count": 8,
      "outputs": [
        {
          "output_type": "execute_result",
          "data": {
            "text/plain": [
              "False"
            ]
          },
          "metadata": {},
          "execution_count": 8
        }
      ]
    },
    {
      "cell_type": "code",
      "source": [
        "True or False"
      ],
      "metadata": {
        "colab": {
          "base_uri": "https://localhost:8080/"
        },
        "id": "omuuXEIaVFmX",
        "outputId": "1c78653a-7903-48d4-b38d-614e2b9ca0a5"
      },
      "execution_count": 9,
      "outputs": [
        {
          "output_type": "execute_result",
          "data": {
            "text/plain": [
              "True"
            ]
          },
          "metadata": {},
          "execution_count": 9
        }
      ]
    },
    {
      "cell_type": "code",
      "source": [],
      "metadata": {
        "id": "89J9LjqbVK9S"
      },
      "execution_count": 9,
      "outputs": []
    },
    {
      "cell_type": "code",
      "source": [
        "print('var_4 and var_5 < 100?', var_4 < 100 and var_5 < 100)\n",
        "print('var_4 and var_5 < 22?', var_4 < 22 and var_5 < 22)\n",
        "print('var_4 or var_5 < 22?', var_4 < 22 or var_5 < 22)"
      ],
      "metadata": {
        "colab": {
          "base_uri": "https://localhost:8080/"
        },
        "id": "Ehhfbu2-VREg",
        "outputId": "0923c53d-694f-4de0-b378-4283ef90bde8"
      },
      "execution_count": 10,
      "outputs": [
        {
          "output_type": "stream",
          "name": "stdout",
          "text": [
            "var_4 and var_5 < 100? True\n",
            "var_4 and var_5 < 22? False\n",
            "var_4 or var_5 < 22? True\n"
          ]
        }
      ]
    },
    {
      "cell_type": "code",
      "source": [],
      "metadata": {
        "id": "Mr_7xc6-WUrO"
      },
      "execution_count": 10,
      "outputs": []
    },
    {
      "cell_type": "code",
      "source": [
        "3 < 4 and 5 < 6"
      ],
      "metadata": {
        "colab": {
          "base_uri": "https://localhost:8080/"
        },
        "id": "UHkiMXHqV8on",
        "outputId": "88a5ce2c-9b3c-47d3-f88c-c68e65e16803"
      },
      "execution_count": 11,
      "outputs": [
        {
          "output_type": "execute_result",
          "data": {
            "text/plain": [
              "True"
            ]
          },
          "metadata": {},
          "execution_count": 11
        }
      ]
    },
    {
      "cell_type": "code",
      "source": [
        "3 < 4 and 6 < 5"
      ],
      "metadata": {
        "colab": {
          "base_uri": "https://localhost:8080/"
        },
        "id": "ukIpqfoEWZLT",
        "outputId": "9a2bc7e7-ca8f-4987-e36f-b770d290d2f0"
      },
      "execution_count": 12,
      "outputs": [
        {
          "output_type": "execute_result",
          "data": {
            "text/plain": [
              "False"
            ]
          },
          "metadata": {},
          "execution_count": 12
        }
      ]
    },
    {
      "cell_type": "code",
      "source": [
        "3 < 4 or 6 < 5"
      ],
      "metadata": {
        "colab": {
          "base_uri": "https://localhost:8080/"
        },
        "id": "dP2anJuxWcYI",
        "outputId": "cd4a82a8-1148-4eab-c9d0-55903c6ebfac"
      },
      "execution_count": 13,
      "outputs": [
        {
          "output_type": "execute_result",
          "data": {
            "text/plain": [
              "True"
            ]
          },
          "metadata": {},
          "execution_count": 13
        }
      ]
    },
    {
      "cell_type": "code",
      "source": [],
      "metadata": {
        "id": "odPV3x8IWjdX"
      },
      "execution_count": 13,
      "outputs": []
    },
    {
      "cell_type": "code",
      "source": [
        "print('not True is:', not True)\n",
        "print('not False is:', not False)"
      ],
      "metadata": {
        "colab": {
          "base_uri": "https://localhost:8080/"
        },
        "id": "orKrjNMoWjrO",
        "outputId": "66e0f4bb-dd89-44d7-dbfb-0001b45c41ce"
      },
      "execution_count": 14,
      "outputs": [
        {
          "output_type": "stream",
          "name": "stdout",
          "text": [
            "not True is: False\n",
            "not False is: True\n"
          ]
        }
      ]
    },
    {
      "cell_type": "code",
      "source": [
        "print('not(var_4 and var_5 < 100)?:', not(var_4 < 100 and var_5 < 100))\n",
        "print('not(var_4 and var_5 < 22)?:', not(var_4 < 22 and var_5 < 22))\n",
        "print('not(var_4 or var_5 < 22)?:', not(var_4 < 22 or var_5 < 22))"
      ],
      "metadata": {
        "colab": {
          "base_uri": "https://localhost:8080/"
        },
        "id": "b698ukslWIxZ",
        "outputId": "7b38aad6-79fc-4336-bd97-89989f17e798"
      },
      "execution_count": 15,
      "outputs": [
        {
          "output_type": "stream",
          "name": "stdout",
          "text": [
            "not(var_4 and var_5 < 100)?: False\n",
            "not(var_4 and var_5 < 22)?: True\n",
            "not(var_4 or var_5 < 22)?: False\n"
          ]
        }
      ]
    },
    {
      "cell_type": "code",
      "source": [],
      "metadata": {
        "id": "pOmLaCq0X0uj"
      },
      "execution_count": null,
      "outputs": []
    },
    {
      "cell_type": "code",
      "source": [
        "True and not(4 > 7)"
      ],
      "metadata": {
        "colab": {
          "base_uri": "https://localhost:8080/"
        },
        "id": "MxVhdsSyXIzg",
        "outputId": "1ce8f5d4-7d62-4693-aae3-a72d2793c5ba"
      },
      "execution_count": 16,
      "outputs": [
        {
          "output_type": "execute_result",
          "data": {
            "text/plain": [
              "True"
            ]
          },
          "metadata": {},
          "execution_count": 16
        }
      ]
    },
    {
      "cell_type": "code",
      "source": [
        "4 > 7"
      ],
      "metadata": {
        "id": "EPcp6BMbXtX4",
        "outputId": "a58dab3a-c49b-405c-955b-c371577b50e9",
        "colab": {
          "base_uri": "https://localhost:8080/"
        }
      },
      "execution_count": 17,
      "outputs": [
        {
          "output_type": "execute_result",
          "data": {
            "text/plain": [
              "False"
            ]
          },
          "metadata": {},
          "execution_count": 17
        }
      ]
    },
    {
      "cell_type": "code",
      "source": [
        "not False"
      ],
      "metadata": {
        "id": "O0xQ3FS0Xvpt",
        "outputId": "742883c7-c00a-4cc6-f155-c09af67c56ff",
        "colab": {
          "base_uri": "https://localhost:8080/"
        }
      },
      "execution_count": 18,
      "outputs": [
        {
          "output_type": "execute_result",
          "data": {
            "text/plain": [
              "True"
            ]
          },
          "metadata": {},
          "execution_count": 18
        }
      ]
    },
    {
      "cell_type": "code",
      "source": [
        "True and True"
      ],
      "metadata": {
        "id": "BcEwTh4JXx4_",
        "outputId": "d9ae5371-a76c-43f4-ca9a-588f047e9872",
        "colab": {
          "base_uri": "https://localhost:8080/"
        }
      },
      "execution_count": 19,
      "outputs": [
        {
          "output_type": "execute_result",
          "data": {
            "text/plain": [
              "True"
            ]
          },
          "metadata": {},
          "execution_count": 19
        }
      ]
    }
  ]
}