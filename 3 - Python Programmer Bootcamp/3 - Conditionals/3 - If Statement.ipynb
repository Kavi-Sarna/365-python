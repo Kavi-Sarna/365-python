{
  "nbformat": 4,
  "nbformat_minor": 0,
  "metadata": {
    "colab": {
      "provenance": [],
      "authorship_tag": "ABX9TyPmupr7nyXKbvO4BtdrwNkg",
      "include_colab_link": true
    },
    "kernelspec": {
      "name": "python3",
      "display_name": "Python 3"
    },
    "language_info": {
      "name": "python"
    }
  },
  "cells": [
    {
      "cell_type": "markdown",
      "metadata": {
        "id": "view-in-github",
        "colab_type": "text"
      },
      "source": [
        "<a href=\"https://colab.research.google.com/github/Kavi-Sarna/365-python/blob/main/3%20-%20Python%20Programmer%20Bootcamp/3%20-%20Conditionals/3%20-%20If%20Statement.ipynb\" target=\"_parent\"><img src=\"https://colab.research.google.com/assets/colab-badge.svg\" alt=\"Open In Colab\"/></a>"
      ]
    },
    {
      "cell_type": "markdown",
      "source": [
        "If Statements"
      ],
      "metadata": {
        "id": "CMhExkIXY0GA"
      }
    },
    {
      "cell_type": "code",
      "source": [
        "some_condition = True"
      ],
      "metadata": {
        "id": "tYLRDokaYWuz"
      },
      "execution_count": 22,
      "outputs": []
    },
    {
      "cell_type": "code",
      "source": [
        "if some_condition:\n",
        "  print('The variable \"some_condition\" is True')\n",
        "else:\n",
        "  print('The variable \"some_condition\" is False')"
      ],
      "metadata": {
        "id": "p4Y7sHJrY7CN",
        "outputId": "df5db73d-df41-4ffa-fb86-e258ea4a260c",
        "colab": {
          "base_uri": "https://localhost:8080/"
        }
      },
      "execution_count": 23,
      "outputs": [
        {
          "output_type": "stream",
          "name": "stdout",
          "text": [
            "The variable \"some_condition\" is True\n"
          ]
        }
      ]
    },
    {
      "cell_type": "code",
      "source": [],
      "metadata": {
        "id": "PieEC41SZKcB"
      },
      "execution_count": null,
      "outputs": []
    },
    {
      "cell_type": "code",
      "source": [
        "temp = int(input('Please enter the temperature in Celcius. An integer between 0-50: '))\n",
        "\n",
        "if temp > 30:\n",
        "  print('Wear shorts and sun cream!')\n",
        "elif temp <= 30 and temp > 20:\n",
        "  print('It\\'s warm, but not shorts weather!')\n",
        "elif temp <= 20 and temp > 10:\n",
        "  print(\"You'll probably need a vest today!\")\n",
        "else:\n",
        "  print(\"Too cold! Don't go out!\")"
      ],
      "metadata": {
        "id": "bfdYBf5dZdkL",
        "outputId": "c13be80d-105e-4f9c-a44b-cf23e34bc4e2",
        "colab": {
          "base_uri": "https://localhost:8080/"
        }
      },
      "execution_count": 24,
      "outputs": [
        {
          "output_type": "stream",
          "name": "stdout",
          "text": [
            "Please enter the temperature in Celcius. An integer between 0-50: 28\n",
            "It's warm, but not shorts weather!\n"
          ]
        }
      ]
    }
  ]
}