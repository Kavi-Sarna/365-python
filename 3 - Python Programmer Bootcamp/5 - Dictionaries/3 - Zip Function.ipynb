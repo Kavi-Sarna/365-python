{
  "cells": [
    {
      "cell_type": "markdown",
      "metadata": {
        "id": "view-in-github",
        "colab_type": "text"
      },
      "source": [
        "<a href=\"https://colab.research.google.com/github/Kavi-Sarna/365-python/blob/main/3%20-%20Python%20Programmer%20Bootcamp/5%20-%20Dictionaries/3%20-%20Zip%20Function.ipynb\" target=\"_parent\"><img src=\"https://colab.research.google.com/assets/colab-badge.svg\" alt=\"Open In Colab\"/></a>"
      ]
    },
    {
      "cell_type": "markdown",
      "source": [
        "Zip function"
      ],
      "metadata": {
        "id": "u_tEpSxFd-OT"
      }
    },
    {
      "cell_type": "code",
      "source": [
        "my_list_1 = [1, 2, 3, 4]\n",
        "my_list_2 = ['a', 'b', 'c', 'd']"
      ],
      "metadata": {
        "id": "glqX19d3i-rz"
      },
      "execution_count": 45,
      "outputs": []
    },
    {
      "cell_type": "code",
      "source": [
        "zipped = zip(my_list_1, my_list_2)\n",
        "joined = list(zipped)\n",
        "print(f'The result of the zip function is {zipped}, and it is of type {type(zipped)}')\n",
        "print(f'The result of the zip function is {joined}, and it is of type {type(joined)}')"
      ],
      "metadata": {
        "colab": {
          "base_uri": "https://localhost:8080/"
        },
        "id": "v9Rb--_fjGly",
        "outputId": "e1c3b84d-86fd-4e00-ed27-52e534ce2ff9"
      },
      "execution_count": 49,
      "outputs": [
        {
          "output_type": "stream",
          "name": "stdout",
          "text": [
            "The result of the zip function is <zip object at 0x7b87a22fe640>, and it is of type <class 'zip'>\n",
            "The result of the zip function is [(1, 'a'), (2, 'b'), (3, 'c'), (4, 'd')], and it is of type <class 'list'>\n"
          ]
        }
      ]
    },
    {
      "cell_type": "code",
      "source": [
        "i, j = zip(*joined)\n",
        "print(i)\n",
        "print(j)"
      ],
      "metadata": {
        "colab": {
          "base_uri": "https://localhost:8080/"
        },
        "id": "wiVck4XYjdnu",
        "outputId": "ade8cd06-50e0-420c-b0fd-841e143e87b3"
      },
      "execution_count": 50,
      "outputs": [
        {
          "output_type": "stream",
          "name": "stdout",
          "text": [
            "(1, 2, 3, 4)\n",
            "('a', 'b', 'c', 'd')\n"
          ]
        }
      ]
    },
    {
      "cell_type": "code",
      "source": [],
      "metadata": {
        "id": "HaE_aKgDkNN3"
      },
      "execution_count": 50,
      "outputs": []
    },
    {
      "cell_type": "code",
      "source": [
        "capitals = {\n",
        "    'France':'Paris',\n",
        "    'Spain':'Madrid',\n",
        "    'United Kingdom':'London',\n",
        "    'India':'New Delhi',\n",
        "    'United States':'Washington DC',\n",
        "    'Italy':'Rome',\n",
        "    'Denmark':'Copenhagen',\n",
        "    'Germany':'Berlin',\n",
        "    'Greece':'Athens',\n",
        "    'Bulgaria':'Sofia',\n",
        "    'Ireland':'Dublin',\n",
        "    'Mexico':'Mexico City'\n",
        "  }"
      ],
      "metadata": {
        "id": "9W2toB6RkUtL"
      },
      "execution_count": 51,
      "outputs": []
    },
    {
      "cell_type": "code",
      "source": [
        "print(capitals.items())"
      ],
      "metadata": {
        "colab": {
          "base_uri": "https://localhost:8080/"
        },
        "id": "g4pABdEhkjH1",
        "outputId": "340fd1e8-aa81-445c-ea34-a7ce03c1cd64"
      },
      "execution_count": 52,
      "outputs": [
        {
          "output_type": "stream",
          "name": "stdout",
          "text": [
            "dict_items([('France', 'Paris'), ('Spain', 'Madrid'), ('United Kingdom', 'London'), ('India', 'New Delhi'), ('United States', 'Washington DC'), ('Italy', 'Rome'), ('Denmark', 'Copenhagen'), ('Germany', 'Berlin'), ('Greece', 'Athens'), ('Bulgaria', 'Sofia'), ('Ireland', 'Dublin'), ('Mexico', 'Mexico City')])\n"
          ]
        }
      ]
    },
    {
      "cell_type": "code",
      "source": [
        "x, y = zip(*capitals.items())\n",
        "print(x)\n",
        "print(y)"
      ],
      "metadata": {
        "colab": {
          "base_uri": "https://localhost:8080/"
        },
        "id": "P6P0F67PkoPc",
        "outputId": "43952d90-762a-4921-ebee-856dfb5e520c"
      },
      "execution_count": 53,
      "outputs": [
        {
          "output_type": "stream",
          "name": "stdout",
          "text": [
            "('France', 'Spain', 'United Kingdom', 'India', 'United States', 'Italy', 'Denmark', 'Germany', 'Greece', 'Bulgaria', 'Ireland', 'Mexico')\n",
            "('Paris', 'Madrid', 'London', 'New Delhi', 'Washington DC', 'Rome', 'Copenhagen', 'Berlin', 'Athens', 'Sofia', 'Dublin', 'Mexico City')\n"
          ]
        }
      ]
    },
    {
      "cell_type": "code",
      "source": [],
      "metadata": {
        "id": "ccZmJMZCkuz6"
      },
      "execution_count": 53,
      "outputs": []
    },
    {
      "cell_type": "code",
      "source": [
        "sherlock = '''\n",
        "Mr. Sherlock Holmes, who was usually very late in the mornings, save upon those not infrequent occasions when he was up all night, was seated at the breakfast table. I stood upon the hearth-rug and picked up the stick which our visitor had left behind him the night before. It was a fine, thick piece of wood, bulbous-headed, of the sort which is known as a “Penang lawyer.” Just under the head was a broad silver band nearly an inch across. “To James Mortimer, M.R.C.S., from his friends of the C.C.H.,” was engraved upon it, with the date “1884.” It was just such a stick as the old-fashioned family practitioner used to carry—dignified, solid, and reassuring.\n",
        "\n",
        "“Well, Watson, what do you make of it?”\n",
        "\n",
        "Holmes was sitting with his back to me, and I had given him no sign of my occupation.\n",
        "\n",
        "“How did you know what I was doing? I believe you have eyes in the back of your head.”\n",
        "\n",
        "“I have, at least, a well-polished, silver-plated coffee-pot in front of me,” said he. “But, tell me, Watson, what do you make of our visitor’s stick? Since we have been so unfortunate as to miss him and have no notion of his errand, this accidental souvenir becomes of importance. Let me hear you reconstruct the man by an examination of it.”\n",
        "\n",
        "“I think,” said I, following as far as I could the methods of my companion, “that Dr. Mortimer is a successful, elderly medical man, well-esteemed since those who know him give him this mark of their appreciation.”\n",
        "\n",
        "“Good!” said Holmes. “Excellent!”\n",
        "\n",
        "“I think also that the probability is in favour of his being a country practitioner who does a great deal of his visiting on foot.”\n",
        "\n",
        "“Why so?”\n",
        "\n",
        "“Because this stick, though originally a very handsome one has been so knocked about that I can hardly imagine a town practitioner carrying it. The thick-iron ferrule is worn down, so it is evident that he has done a great amount of walking with it.”\n",
        "\n",
        "“Perfectly sound!” said Holmes.\n",
        "\n",
        "“And then again, there is the ‘friends of the C.C.H.’ I should guess that to be the Something Hunt, the local hunt to whose members he has possibly given some surgical assistance, and which has made him a small presentation in return.”\n",
        "\n",
        "“Really, Watson, you excel yourself,” said Holmes, pushing back his chair and lighting a cigarette. “I am bound to say that in all the accounts which you have been so good as to give of my own small achievements you have habitually underrated your own abilities. It may be that you are not yourself luminous, but you are a conductor of light. Some people without possessing genius have a remarkable power of stimulating it. I confess, my dear fellow, that I am very much in your debt.”\n",
        "\n",
        "He had never said as much before, and I must admit that his words gave me keen pleasure, for I had often been piqued by his indifference to my admiration and to the attempts which I had made to give publicity to his methods. I was proud, too, to think that I had so far mastered his system as to apply it in a way which earned his approval. He now took the stick from my hands and examined it for a few minutes with his naked eyes. Then with an expression of interest he laid down his cigarette, and carrying the cane to the window, he looked over it again with a convex lens.\n",
        "'''"
      ],
      "metadata": {
        "id": "a4TquhOykz6X"
      },
      "execution_count": 54,
      "outputs": []
    },
    {
      "cell_type": "code",
      "source": [
        "new_words = sherlock.split(' ')\n",
        "print(new_words)"
      ],
      "metadata": {
        "colab": {
          "base_uri": "https://localhost:8080/"
        },
        "id": "lYc8hoUBk46Y",
        "outputId": "6f942748-9d4f-4a96-8a3e-0d1da45e8673"
      },
      "execution_count": 60,
      "outputs": [
        {
          "output_type": "stream",
          "name": "stdout",
          "text": [
            "['\\nMr.', 'Sherlock', 'Holmes,', 'who', 'was', 'usually', 'very', 'late', 'in', 'the', 'mornings,', 'save', 'upon', 'those', 'not', 'infrequent', 'occasions', 'when', 'he', 'was', 'up', 'all', 'night,', 'was', 'seated', 'at', 'the', 'breakfast', 'table.', 'I', 'stood', 'upon', 'the', 'hearth-rug', 'and', 'picked', 'up', 'the', 'stick', 'which', 'our', 'visitor', 'had', 'left', 'behind', 'him', 'the', 'night', 'before.', 'It', 'was', 'a', 'fine,', 'thick', 'piece', 'of', 'wood,', 'bulbous-headed,', 'of', 'the', 'sort', 'which', 'is', 'known', 'as', 'a', '“Penang', 'lawyer.”', 'Just', 'under', 'the', 'head', 'was', 'a', 'broad', 'silver', 'band', 'nearly', 'an', 'inch', 'across.', '“To', 'James', 'Mortimer,', 'M.R.C.S.,', 'from', 'his', 'friends', 'of', 'the', 'C.C.H.,”', 'was', 'engraved', 'upon', 'it,', 'with', 'the', 'date', '“1884.”', 'It', 'was', 'just', 'such', 'a', 'stick', 'as', 'the', 'old-fashioned', 'family', 'practitioner', 'used', 'to', 'carry—dignified,', 'solid,', 'and', 'reassuring.\\n\\n“Well,', 'Watson,', 'what', 'do', 'you', 'make', 'of', 'it?”\\n\\nHolmes', 'was', 'sitting', 'with', 'his', 'back', 'to', 'me,', 'and', 'I', 'had', 'given', 'him', 'no', 'sign', 'of', 'my', 'occupation.\\n\\n“How', 'did', 'you', 'know', 'what', 'I', 'was', 'doing?', 'I', 'believe', 'you', 'have', 'eyes', 'in', 'the', 'back', 'of', 'your', 'head.”\\n\\n“I', 'have,', 'at', 'least,', 'a', 'well-polished,', 'silver-plated', 'coffee-pot', 'in', 'front', 'of', 'me,”', 'said', 'he.', '“But,', 'tell', 'me,', 'Watson,', 'what', 'do', 'you', 'make', 'of', 'our', 'visitor’s', 'stick?', 'Since', 'we', 'have', 'been', 'so', 'unfortunate', 'as', 'to', 'miss', 'him', 'and', 'have', 'no', 'notion', 'of', 'his', 'errand,', 'this', 'accidental', 'souvenir', 'becomes', 'of', 'importance.', 'Let', 'me', 'hear', 'you', 'reconstruct', 'the', 'man', 'by', 'an', 'examination', 'of', 'it.”\\n\\n“I', 'think,”', 'said', 'I,', 'following', 'as', 'far', 'as', 'I', 'could', 'the', 'methods', 'of', 'my', 'companion,', '“that', 'Dr.', 'Mortimer', 'is', 'a', 'successful,', 'elderly', 'medical', 'man,', 'well-esteemed', 'since', 'those', 'who', 'know', 'him', 'give', 'him', 'this', 'mark', 'of', 'their', 'appreciation.”\\n\\n“Good!”', 'said', 'Holmes.', '“Excellent!”\\n\\n“I', 'think', 'also', 'that', 'the', 'probability', 'is', 'in', 'favour', 'of', 'his', 'being', 'a', 'country', 'practitioner', 'who', 'does', 'a', 'great', 'deal', 'of', 'his', 'visiting', 'on', 'foot.”\\n\\n“Why', 'so?”\\n\\n“Because', 'this', 'stick,', 'though', 'originally', 'a', 'very', 'handsome', 'one', 'has', 'been', 'so', 'knocked', 'about', 'that', 'I', 'can', 'hardly', 'imagine', 'a', 'town', 'practitioner', 'carrying', 'it.', 'The', 'thick-iron', 'ferrule', 'is', 'worn', 'down,', 'so', 'it', 'is', 'evident', 'that', 'he', 'has', 'done', 'a', 'great', 'amount', 'of', 'walking', 'with', 'it.”\\n\\n“Perfectly', 'sound!”', 'said', 'Holmes.\\n\\n“And', 'then', 'again,', 'there', 'is', 'the', '‘friends', 'of', 'the', 'C.C.H.’', 'I', 'should', 'guess', 'that', 'to', 'be', 'the', 'Something', 'Hunt,', 'the', 'local', 'hunt', 'to', 'whose', 'members', 'he', 'has', 'possibly', 'given', 'some', 'surgical', 'assistance,', 'and', 'which', 'has', 'made', 'him', 'a', 'small', 'presentation', 'in', 'return.”\\n\\n“Really,', 'Watson,', 'you', 'excel', 'yourself,”', 'said', 'Holmes,', 'pushing', 'back', 'his', 'chair', 'and', 'lighting', 'a', 'cigarette.', '“I', 'am', 'bound', 'to', 'say', 'that', 'in', 'all', 'the', 'accounts', 'which', 'you', 'have', 'been', 'so', 'good', 'as', 'to', 'give', 'of', 'my', 'own', 'small', 'achievements', 'you', 'have', 'habitually', 'underrated', 'your', 'own', 'abilities.', 'It', 'may', 'be', 'that', 'you', 'are', 'not', 'yourself', 'luminous,', 'but', 'you', 'are', 'a', 'conductor', 'of', 'light.', 'Some', 'people', 'without', 'possessing', 'genius', 'have', 'a', 'remarkable', 'power', 'of', 'stimulating', 'it.', 'I', 'confess,', 'my', 'dear', 'fellow,', 'that', 'I', 'am', 'very', 'much', 'in', 'your', 'debt.”\\n\\nHe', 'had', 'never', 'said', 'as', 'much', 'before,', 'and', 'I', 'must', 'admit', 'that', 'his', 'words', 'gave', 'me', 'keen', 'pleasure,', 'for', 'I', 'had', 'often', 'been', 'piqued', 'by', 'his', 'indifference', 'to', 'my', 'admiration', 'and', 'to', 'the', 'attempts', 'which', 'I', 'had', 'made', 'to', 'give', 'publicity', 'to', 'his', 'methods.', 'I', 'was', 'proud,', 'too,', 'to', 'think', 'that', 'I', 'had', 'so', 'far', 'mastered', 'his', 'system', 'as', 'to', 'apply', 'it', 'in', 'a', 'way', 'which', 'earned', 'his', 'approval.', 'He', 'now', 'took', 'the', 'stick', 'from', 'my', 'hands', 'and', 'examined', 'it', 'for', 'a', 'few', 'minutes', 'with', 'his', 'naked', 'eyes.', 'Then', 'with', 'an', 'expression', 'of', 'interest', 'he', 'laid', 'down', 'his', 'cigarette,', 'and', 'carrying', 'the', 'cane', 'to', 'the', 'window,', 'he', 'looked', 'over', 'it', 'again', 'with', 'a', 'convex', 'lens.\\n']\n"
          ]
        }
      ]
    },
    {
      "cell_type": "code",
      "source": [
        "print('sherlock' in new_words)"
      ],
      "metadata": {
        "colab": {
          "base_uri": "https://localhost:8080/"
        },
        "id": "tuAEHerVk_Aj",
        "outputId": "c21ca307-bb70-4de9-aa46-3df8b77e1a4d"
      },
      "execution_count": 57,
      "outputs": [
        {
          "output_type": "stream",
          "name": "stdout",
          "text": [
            "False\n"
          ]
        }
      ]
    },
    {
      "cell_type": "code",
      "source": [
        "print('Sherlock' in new_words)"
      ],
      "metadata": {
        "colab": {
          "base_uri": "https://localhost:8080/"
        },
        "id": "TReiopX2lRIQ",
        "outputId": "bf767ea2-192c-45f9-e1a2-761b684a5da3"
      },
      "execution_count": 58,
      "outputs": [
        {
          "output_type": "stream",
          "name": "stdout",
          "text": [
            "True\n"
          ]
        }
      ]
    },
    {
      "cell_type": "code",
      "source": [
        "for i in range(len(new_words)):\n",
        "  new_words[i] = new_words[i].strip('\\n')\n",
        "\n",
        "print(new_words)"
      ],
      "metadata": {
        "colab": {
          "base_uri": "https://localhost:8080/"
        },
        "id": "Ns4VH0WZlUim",
        "outputId": "508aa571-e651-4a8e-c269-959c9f97a237"
      },
      "execution_count": 59,
      "outputs": [
        {
          "output_type": "stream",
          "name": "stdout",
          "text": [
            "['Mr.', 'Sherlock', 'Holmes,', 'who', 'was', 'usually', 'very', 'late', 'in', 'the', 'mornings,', 'save', 'upon', 'those', 'not', 'infrequent', 'occasions', 'when', 'he', 'was', 'up', 'all', 'night,', 'was', 'seated', 'at', 'the', 'breakfast', 'table.', 'I', 'stood', 'upon', 'the', 'hearth-rug', 'and', 'picked', 'up', 'the', 'stick', 'which', 'our', 'visitor', 'had', 'left', 'behind', 'him', 'the', 'night', 'before.', 'It', 'was', 'a', 'fine,', 'thick', 'piece', 'of', 'wood,', 'bulbous-headed,', 'of', 'the', 'sort', 'which', 'is', 'known', 'as', 'a', '“Penang', 'lawyer.”', 'Just', 'under', 'the', 'head', 'was', 'a', 'broad', 'silver', 'band', 'nearly', 'an', 'inch', 'across.', '“To', 'James', 'Mortimer,', 'M.R.C.S.,', 'from', 'his', 'friends', 'of', 'the', 'C.C.H.,”', 'was', 'engraved', 'upon', 'it,', 'with', 'the', 'date', '“1884.”', 'It', 'was', 'just', 'such', 'a', 'stick', 'as', 'the', 'old-fashioned', 'family', 'practitioner', 'used', 'to', 'carry—dignified,', 'solid,', 'and', 'reassuring.\\n\\n“Well,', 'Watson,', 'what', 'do', 'you', 'make', 'of', 'it?”\\n\\nHolmes', 'was', 'sitting', 'with', 'his', 'back', 'to', 'me,', 'and', 'I', 'had', 'given', 'him', 'no', 'sign', 'of', 'my', 'occupation.\\n\\n“How', 'did', 'you', 'know', 'what', 'I', 'was', 'doing?', 'I', 'believe', 'you', 'have', 'eyes', 'in', 'the', 'back', 'of', 'your', 'head.”\\n\\n“I', 'have,', 'at', 'least,', 'a', 'well-polished,', 'silver-plated', 'coffee-pot', 'in', 'front', 'of', 'me,”', 'said', 'he.', '“But,', 'tell', 'me,', 'Watson,', 'what', 'do', 'you', 'make', 'of', 'our', 'visitor’s', 'stick?', 'Since', 'we', 'have', 'been', 'so', 'unfortunate', 'as', 'to', 'miss', 'him', 'and', 'have', 'no', 'notion', 'of', 'his', 'errand,', 'this', 'accidental', 'souvenir', 'becomes', 'of', 'importance.', 'Let', 'me', 'hear', 'you', 'reconstruct', 'the', 'man', 'by', 'an', 'examination', 'of', 'it.”\\n\\n“I', 'think,”', 'said', 'I,', 'following', 'as', 'far', 'as', 'I', 'could', 'the', 'methods', 'of', 'my', 'companion,', '“that', 'Dr.', 'Mortimer', 'is', 'a', 'successful,', 'elderly', 'medical', 'man,', 'well-esteemed', 'since', 'those', 'who', 'know', 'him', 'give', 'him', 'this', 'mark', 'of', 'their', 'appreciation.”\\n\\n“Good!”', 'said', 'Holmes.', '“Excellent!”\\n\\n“I', 'think', 'also', 'that', 'the', 'probability', 'is', 'in', 'favour', 'of', 'his', 'being', 'a', 'country', 'practitioner', 'who', 'does', 'a', 'great', 'deal', 'of', 'his', 'visiting', 'on', 'foot.”\\n\\n“Why', 'so?”\\n\\n“Because', 'this', 'stick,', 'though', 'originally', 'a', 'very', 'handsome', 'one', 'has', 'been', 'so', 'knocked', 'about', 'that', 'I', 'can', 'hardly', 'imagine', 'a', 'town', 'practitioner', 'carrying', 'it.', 'The', 'thick-iron', 'ferrule', 'is', 'worn', 'down,', 'so', 'it', 'is', 'evident', 'that', 'he', 'has', 'done', 'a', 'great', 'amount', 'of', 'walking', 'with', 'it.”\\n\\n“Perfectly', 'sound!”', 'said', 'Holmes.\\n\\n“And', 'then', 'again,', 'there', 'is', 'the', '‘friends', 'of', 'the', 'C.C.H.’', 'I', 'should', 'guess', 'that', 'to', 'be', 'the', 'Something', 'Hunt,', 'the', 'local', 'hunt', 'to', 'whose', 'members', 'he', 'has', 'possibly', 'given', 'some', 'surgical', 'assistance,', 'and', 'which', 'has', 'made', 'him', 'a', 'small', 'presentation', 'in', 'return.”\\n\\n“Really,', 'Watson,', 'you', 'excel', 'yourself,”', 'said', 'Holmes,', 'pushing', 'back', 'his', 'chair', 'and', 'lighting', 'a', 'cigarette.', '“I', 'am', 'bound', 'to', 'say', 'that', 'in', 'all', 'the', 'accounts', 'which', 'you', 'have', 'been', 'so', 'good', 'as', 'to', 'give', 'of', 'my', 'own', 'small', 'achievements', 'you', 'have', 'habitually', 'underrated', 'your', 'own', 'abilities.', 'It', 'may', 'be', 'that', 'you', 'are', 'not', 'yourself', 'luminous,', 'but', 'you', 'are', 'a', 'conductor', 'of', 'light.', 'Some', 'people', 'without', 'possessing', 'genius', 'have', 'a', 'remarkable', 'power', 'of', 'stimulating', 'it.', 'I', 'confess,', 'my', 'dear', 'fellow,', 'that', 'I', 'am', 'very', 'much', 'in', 'your', 'debt.”\\n\\nHe', 'had', 'never', 'said', 'as', 'much', 'before,', 'and', 'I', 'must', 'admit', 'that', 'his', 'words', 'gave', 'me', 'keen', 'pleasure,', 'for', 'I', 'had', 'often', 'been', 'piqued', 'by', 'his', 'indifference', 'to', 'my', 'admiration', 'and', 'to', 'the', 'attempts', 'which', 'I', 'had', 'made', 'to', 'give', 'publicity', 'to', 'his', 'methods.', 'I', 'was', 'proud,', 'too,', 'to', 'think', 'that', 'I', 'had', 'so', 'far', 'mastered', 'his', 'system', 'as', 'to', 'apply', 'it', 'in', 'a', 'way', 'which', 'earned', 'his', 'approval.', 'He', 'now', 'took', 'the', 'stick', 'from', 'my', 'hands', 'and', 'examined', 'it', 'for', 'a', 'few', 'minutes', 'with', 'his', 'naked', 'eyes.', 'Then', 'with', 'an', 'expression', 'of', 'interest', 'he', 'laid', 'down', 'his', 'cigarette,', 'and', 'carrying', 'the', 'cane', 'to', 'the', 'window,', 'he', 'looked', 'over', 'it', 'again', 'with', 'a', 'convex', 'lens.']\n"
          ]
        }
      ]
    }
  ],
  "metadata": {
    "colab": {
      "provenance": [],
      "authorship_tag": "ABX9TyOuSqoZvSZTlWwDxXUyPiIA",
      "include_colab_link": true
    },
    "kernelspec": {
      "display_name": "Python 3",
      "name": "python3"
    },
    "language_info": {
      "name": "python"
    }
  },
  "nbformat": 4,
  "nbformat_minor": 0
}