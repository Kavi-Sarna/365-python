{
  "cells": [
    {
      "cell_type": "markdown",
      "metadata": {
        "id": "view-in-github",
        "colab_type": "text"
      },
      "source": [
        "<a href=\"https://colab.research.google.com/github/Kavi-Sarna/365-python/blob/main/3%20-%20Python%20Programmer%20Bootcamp/5%20-%20Dictionaries/6%20-%20Counters.ipynb\" target=\"_parent\"><img src=\"https://colab.research.google.com/assets/colab-badge.svg\" alt=\"Open In Colab\"/></a>"
      ]
    },
    {
      "cell_type": "markdown",
      "source": [
        "Counters"
      ],
      "metadata": {
        "id": "u_tEpSxFd-OT"
      }
    },
    {
      "cell_type": "code",
      "source": [
        "from collections import Counter"
      ],
      "metadata": {
        "id": "CXRjyjNt_DbI"
      },
      "execution_count": 81,
      "outputs": []
    },
    {
      "cell_type": "code",
      "source": [
        "sherlock = '''\n",
        "Mr. Sherlock Holmes, who was usually very late in the mornings, save upon those not infrequent occasions when he was up all night, was seated at the breakfast table. I stood upon the hearth-rug and picked up the stick which our visitor had left behind him the night before. It was a fine, thick piece of wood, bulbous-headed, of the sort which is known as a “Penang lawyer.” Just under the head was a broad silver band nearly an inch across. “To James Mortimer, M.R.C.S., from his friends of the C.C.H.,” was engraved upon it, with the date “1884.” It was just such a stick as the old-fashioned family practitioner used to carry—dignified, solid, and reassuring.\n",
        "\n",
        "“Well, Watson, what do you make of it?”\n",
        "\n",
        "Holmes was sitting with his back to me, and I had given him no sign of my occupation.\n",
        "\n",
        "“How did you know what I was doing? I believe you have eyes in the back of your head.”\n",
        "\n",
        "“I have, at least, a well-polished, silver-plated coffee-pot in front of me,” said he. “But, tell me, Watson, what do you make of our visitor’s stick? Since we have been so unfortunate as to miss him and have no notion of his errand, this accidental souvenir becomes of importance. Let me hear you reconstruct the man by an examination of it.”\n",
        "\n",
        "“I think,” said I, following as far as I could the methods of my companion, “that Dr. Mortimer is a successful, elderly medical man, well-esteemed since those who know him give him this mark of their appreciation.”\n",
        "\n",
        "“Good!” said Holmes. “Excellent!”\n",
        "\n",
        "“I think also that the probability is in favour of his being a country practitioner who does a great deal of his visiting on foot.”\n",
        "\n",
        "“Why so?”\n",
        "\n",
        "“Because this stick, though originally a very handsome one has been so knocked about that I can hardly imagine a town practitioner carrying it. The thick-iron ferrule is worn down, so it is evident that he has done a great amount of walking with it.”\n",
        "\n",
        "“Perfectly sound!” said Holmes.\n",
        "\n",
        "“And then again, there is the ‘friends of the C.C.H.’ I should guess that to be the Something Hunt, the local hunt to whose members he has possibly given some surgical assistance, and which has made him a small presentation in return.”\n",
        "\n",
        "“Really, Watson, you excel yourself,” said Holmes, pushing back his chair and lighting a cigarette. “I am bound to say that in all the accounts which you have been so good as to give of my own small achievements you have habitually underrated your own abilities. It may be that you are not yourself luminous, but you are a conductor of light. Some people without possessing genius have a remarkable power of stimulating it. I confess, my dear fellow, that I am very much in your debt.”\n",
        "\n",
        "He had never said as much before, and I must admit that his words gave me keen pleasure, for I had often been piqued by his indifference to my admiration and to the attempts which I had made to give publicity to his methods. I was proud, too, to think that I had so far mastered his system as to apply it in a way which earned his approval. He now took the stick from my hands and examined it for a few minutes with his naked eyes. Then with an expression of interest he laid down his cigarette, and carrying the cane to the window, he looked over it again with a convex lens.\n",
        "'''"
      ],
      "metadata": {
        "id": "S42QBx0l_PcE"
      },
      "execution_count": 82,
      "outputs": []
    },
    {
      "cell_type": "code",
      "source": [
        "print(Counter(sherlock.lower()))"
      ],
      "metadata": {
        "colab": {
          "base_uri": "https://localhost:8080/"
        },
        "id": "_Ku3tsFF_QHI",
        "outputId": "6fd13a21-8c43-4546-c91e-80e7afc608a4"
      },
      "execution_count": 83,
      "outputs": [
        {
          "output_type": "stream",
          "name": "stdout",
          "text": [
            "Counter({' ': 569, 'e': 257, 'a': 213, 'i': 211, 't': 206, 'o': 199, 's': 172, 'h': 161, 'n': 160, 'r': 114, 'd': 96, 'l': 87, 'c': 77, 'u': 77, 'm': 76, 'w': 61, 'f': 56, 'y': 51, ',': 46, 'g': 44, '.': 39, 'p': 38, 'b': 37, 'v': 32, 'k': 30, '\\n': 28, '“': 18, '”': 18, '-': 8, 'x': 6, '?': 4, 'j': 3, '!': 3, 'q': 2, '8': 2, '’': 2, '1': 1, '4': 1, '—': 1, '‘': 1})\n"
          ]
        }
      ]
    },
    {
      "cell_type": "code",
      "source": [
        "new_dict = dict(Counter(sherlock.lower()))\n",
        "print(new_dict)"
      ],
      "metadata": {
        "colab": {
          "base_uri": "https://localhost:8080/"
        },
        "id": "PbDQLsOy_Wbs",
        "outputId": "62b87403-5643-4888-d932-58f989f3f66a"
      },
      "execution_count": 85,
      "outputs": [
        {
          "output_type": "stream",
          "name": "stdout",
          "text": [
            "{'\\n': 28, 'm': 76, 'r': 114, '.': 39, ' ': 569, 's': 172, 'h': 161, 'e': 257, 'l': 87, 'o': 199, 'c': 77, 'k': 30, ',': 46, 'w': 61, 'a': 213, 'u': 77, 'y': 51, 'v': 32, 't': 206, 'i': 211, 'n': 160, 'g': 44, 'p': 38, 'f': 56, 'q': 2, 'd': 96, 'b': 37, '-': 8, '“': 18, '”': 18, 'j': 3, '1': 1, '8': 2, '4': 1, '—': 1, '?': 4, '’': 2, 'x': 6, '!': 3, '‘': 1}\n"
          ]
        }
      ]
    },
    {
      "cell_type": "code",
      "source": [
        "new_dict = {k:v for k, v in new_dict.items() if k.isalpha()}\n",
        "print(new_dict)"
      ],
      "metadata": {
        "colab": {
          "base_uri": "https://localhost:8080/"
        },
        "id": "UTI9k1yJ_i-_",
        "outputId": "30487190-0076-4959-9230-ffeb56016d50"
      },
      "execution_count": 86,
      "outputs": [
        {
          "output_type": "stream",
          "name": "stdout",
          "text": [
            "{'m': 76, 'r': 114, 's': 172, 'h': 161, 'e': 257, 'l': 87, 'o': 199, 'c': 77, 'k': 30, 'w': 61, 'a': 213, 'u': 77, 'y': 51, 'v': 32, 't': 206, 'i': 211, 'n': 160, 'g': 44, 'p': 38, 'f': 56, 'q': 2, 'd': 96, 'b': 37, 'j': 3, 'x': 6}\n"
          ]
        }
      ]
    },
    {
      "cell_type": "code",
      "source": [],
      "metadata": {
        "id": "HHkborH-_22x"
      },
      "execution_count": 86,
      "outputs": []
    },
    {
      "cell_type": "code",
      "source": [
        "L = [x**2 for x in range(1, 11)]\n",
        "print(L)"
      ],
      "metadata": {
        "colab": {
          "base_uri": "https://localhost:8080/"
        },
        "id": "wvTiZ0f8AHGy",
        "outputId": "9bee17c3-3dda-4aaf-f041-7a81669bbd04"
      },
      "execution_count": 87,
      "outputs": [
        {
          "output_type": "stream",
          "name": "stdout",
          "text": [
            "[1, 4, 9, 16, 25, 36, 49, 64, 81, 100]\n"
          ]
        }
      ]
    },
    {
      "cell_type": "code",
      "source": [
        "l = [x**2 for x in range(1, 11) if x % 2 == 0]\n",
        "print(l)"
      ],
      "metadata": {
        "colab": {
          "base_uri": "https://localhost:8080/"
        },
        "id": "9l1iYMJ9AMC2",
        "outputId": "1f91cc04-caab-4885-b2f8-9986c1977e3b"
      },
      "execution_count": 88,
      "outputs": [
        {
          "output_type": "stream",
          "name": "stdout",
          "text": [
            "[4, 16, 36, 64, 100]\n"
          ]
        }
      ]
    },
    {
      "cell_type": "code",
      "source": [
        "M = []\n",
        "for x in range(1, 11):\n",
        "  M.append(x**2)\n",
        "print(M)"
      ],
      "metadata": {
        "colab": {
          "base_uri": "https://localhost:8080/"
        },
        "id": "KCS1jlyiAZZp",
        "outputId": "1d2a6c4d-0ca8-457d-a96b-a22475c16e8c"
      },
      "execution_count": 90,
      "outputs": [
        {
          "output_type": "stream",
          "name": "stdout",
          "text": [
            "[1, 4, 9, 16, 25, 36, 49, 64, 81, 100]\n"
          ]
        }
      ]
    }
  ],
  "metadata": {
    "colab": {
      "provenance": [],
      "authorship_tag": "ABX9TyNx15C1XwBtS5TJBRDx2ys7",
      "include_colab_link": true
    },
    "kernelspec": {
      "display_name": "Python 3",
      "name": "python3"
    },
    "language_info": {
      "name": "python"
    }
  },
  "nbformat": 4,
  "nbformat_minor": 0
}