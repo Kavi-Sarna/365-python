{
  "cells": [
    {
      "cell_type": "markdown",
      "metadata": {
        "id": "view-in-github",
        "colab_type": "text"
      },
      "source": [
        "<a href=\"https://colab.research.google.com/github/Kavi-Sarna/365-python/blob/main/3%20-%20Python%20Programmer%20Bootcamp/4%20-%20Loops/3%20-%20While%20Loops.ipynb\" target=\"_parent\"><img src=\"https://colab.research.google.com/assets/colab-badge.svg\" alt=\"Open In Colab\"/></a>"
      ]
    },
    {
      "cell_type": "markdown",
      "source": [
        "While Loops"
      ],
      "metadata": {
        "id": "fxb2FmxR-FzH"
      }
    },
    {
      "cell_type": "code",
      "source": [
        "n = 10\n",
        "while n > 0:\n",
        "  print(n, end=' ')\n",
        "  n -= 1"
      ],
      "metadata": {
        "colab": {
          "base_uri": "https://localhost:8080/"
        },
        "id": "sc-0qfP2Jvh-",
        "outputId": "90fa1a1a-ff32-4818-fb93-3bd0c148ee9a"
      },
      "execution_count": 124,
      "outputs": [
        {
          "output_type": "stream",
          "name": "stdout",
          "text": [
            "10 9 8 7 6 5 4 3 2 1 "
          ]
        }
      ]
    },
    {
      "cell_type": "code",
      "source": [],
      "metadata": {
        "id": "6DH3T95AKoBB"
      },
      "execution_count": null,
      "outputs": []
    },
    {
      "cell_type": "code",
      "source": [
        "user_input = int(input('Please enter ages of class member. Type -1 to end:>'))\n",
        "ages = []\n",
        "while user_input > 0:\n",
        "    ages.append(user_input)\n",
        "    user_input = int(input('The next age:>'))\n",
        "print('The ages are',ages)"
      ],
      "metadata": {
        "colab": {
          "base_uri": "https://localhost:8080/"
        },
        "id": "SpEd413iJ3fk",
        "outputId": "4e34e6aa-1bd2-42d8-b556-a1eeacdd02ee"
      },
      "execution_count": 125,
      "outputs": [
        {
          "output_type": "stream",
          "name": "stdout",
          "text": [
            "Please enter ages of class member. Type -1 to end:>12\n",
            "The next age:>11\n",
            "The next age:>12\n",
            "The next age:>14\n",
            "The next age:>15\n",
            "The next age:>13\n",
            "The next age:>-1\n",
            "The ages are [12, 11, 12, 14, 15, 13]\n"
          ]
        }
      ]
    },
    {
      "cell_type": "code",
      "source": [],
      "metadata": {
        "id": "uQFmyUUqKYlt"
      },
      "execution_count": null,
      "outputs": []
    },
    {
      "cell_type": "code",
      "source": [
        "# Put a counter in a while loop\n",
        "\n",
        "count = 0\n",
        "class_names = []\n",
        "name = input('Please enter name type n to stop:> ')\n",
        "while name != 'n':\n",
        "    count +=1\n",
        "    class_names.append(name)\n",
        "    print(f'{name} has been added.')\n",
        "    name = input('Next name?:> ')\n",
        "\n",
        "print(f'There are {count} people in the class, they are {class_names}' )"
      ],
      "metadata": {
        "colab": {
          "base_uri": "https://localhost:8080/"
        },
        "id": "IRD-xCTfKvz2",
        "outputId": "e212071b-ef7d-43f2-bee7-f07019f0fd27"
      },
      "execution_count": 127,
      "outputs": [
        {
          "output_type": "stream",
          "name": "stdout",
          "text": [
            "Please enter name type n to stop:> Giles\n",
            "Giles has been added.\n",
            "Next name?:> Alex\n",
            "Alex has been added.\n",
            "Next name?:> Ashwin\n",
            "Ashwin has been added.\n",
            "Next name?:> Daisy\n",
            "Daisy has been added.\n",
            "Next name?:> Rupert\n",
            "Rupert has been added.\n",
            "Next name?:> Linda\n",
            "Linda has been added.\n",
            "Next name?:> n\n",
            "There are 6 people in the class, they are ['Giles', 'Alex', 'Ashwin', 'Daisy', 'Rupert', 'Linda']\n"
          ]
        }
      ]
    }
  ],
  "metadata": {
    "colab": {
      "provenance": [],
      "authorship_tag": "ABX9TyMh0QNnj1mv2EiZra8LDLm/",
      "include_colab_link": true
    },
    "kernelspec": {
      "display_name": "Python 3",
      "name": "python3"
    },
    "language_info": {
      "name": "python"
    }
  },
  "nbformat": 4,
  "nbformat_minor": 0
}