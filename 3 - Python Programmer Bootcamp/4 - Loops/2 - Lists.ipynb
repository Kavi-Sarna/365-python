{
  "cells": [
    {
      "cell_type": "markdown",
      "metadata": {
        "id": "view-in-github",
        "colab_type": "text"
      },
      "source": [
        "<a href=\"https://colab.research.google.com/github/Kavi-Sarna/365-python/blob/main/3%20-%20Python%20Programmer%20Bootcamp/4%20-%20Loops/2%20-%20Lists.ipynb\" target=\"_parent\"><img src=\"https://colab.research.google.com/assets/colab-badge.svg\" alt=\"Open In Colab\"/></a>"
      ]
    },
    {
      "cell_type": "markdown",
      "source": [
        "Lists"
      ],
      "metadata": {
        "id": "fxb2FmxR-FzH"
      }
    },
    {
      "cell_type": "code",
      "source": [
        "data = [53, 76, 25, 98, 56, 42, 69, 81]"
      ],
      "metadata": {
        "id": "aReXg6YsDPpi"
      },
      "execution_count": 98,
      "outputs": []
    },
    {
      "cell_type": "code",
      "source": [
        "data_1 = []"
      ],
      "metadata": {
        "id": "PUGnWKQ4D39d"
      },
      "execution_count": 99,
      "outputs": []
    },
    {
      "cell_type": "code",
      "source": [
        "data[0]"
      ],
      "metadata": {
        "colab": {
          "base_uri": "https://localhost:8080/"
        },
        "id": "kbHSOVy-DUvd",
        "outputId": "dad6abbd-48a3-4edb-89e5-f90706c84e4a"
      },
      "execution_count": 91,
      "outputs": [
        {
          "output_type": "execute_result",
          "data": {
            "text/plain": [
              "53"
            ]
          },
          "metadata": {},
          "execution_count": 91
        }
      ]
    },
    {
      "cell_type": "code",
      "source": [
        "data[2]"
      ],
      "metadata": {
        "colab": {
          "base_uri": "https://localhost:8080/"
        },
        "id": "3R_V5eCtDW01",
        "outputId": "1569e410-a46a-409c-d2f2-d6e785a0895f"
      },
      "execution_count": 92,
      "outputs": [
        {
          "output_type": "execute_result",
          "data": {
            "text/plain": [
              "25"
            ]
          },
          "metadata": {},
          "execution_count": 92
        }
      ]
    },
    {
      "cell_type": "code",
      "source": [
        "data[-1]"
      ],
      "metadata": {
        "colab": {
          "base_uri": "https://localhost:8080/"
        },
        "id": "UvTgz1lODiuU",
        "outputId": "86157233-84b1-4cdb-8cf4-cb93f8938e7c"
      },
      "execution_count": 93,
      "outputs": [
        {
          "output_type": "execute_result",
          "data": {
            "text/plain": [
              "81"
            ]
          },
          "metadata": {},
          "execution_count": 93
        }
      ]
    },
    {
      "cell_type": "code",
      "source": [
        "data[0:5]"
      ],
      "metadata": {
        "colab": {
          "base_uri": "https://localhost:8080/"
        },
        "id": "LW3H8_qYDjwv",
        "outputId": "e737250a-f0d7-4a0a-ac44-fd9af129325f"
      },
      "execution_count": 94,
      "outputs": [
        {
          "output_type": "execute_result",
          "data": {
            "text/plain": [
              "[53, 76, 25, 98, 56]"
            ]
          },
          "metadata": {},
          "execution_count": 94
        }
      ]
    },
    {
      "cell_type": "code",
      "source": [
        "data[:5]"
      ],
      "metadata": {
        "colab": {
          "base_uri": "https://localhost:8080/"
        },
        "id": "_aUW2R8IDnT5",
        "outputId": "b9eb8c60-8db9-4c55-a641-e010a2367c1f"
      },
      "execution_count": 101,
      "outputs": [
        {
          "output_type": "execute_result",
          "data": {
            "text/plain": [
              "[53, 76, 25, 98, 56]"
            ]
          },
          "metadata": {},
          "execution_count": 101
        }
      ]
    },
    {
      "cell_type": "code",
      "source": [
        "data[-4:-2]"
      ],
      "metadata": {
        "colab": {
          "base_uri": "https://localhost:8080/"
        },
        "id": "AnWLAN8_EUpt",
        "outputId": "7df1eee3-4db6-4938-8b00-2bc435e7fdc2"
      },
      "execution_count": 102,
      "outputs": [
        {
          "output_type": "execute_result",
          "data": {
            "text/plain": [
              "[56, 42]"
            ]
          },
          "metadata": {},
          "execution_count": 102
        }
      ]
    },
    {
      "cell_type": "code",
      "source": [
        "for num in data:\n",
        "  print(num, end=' ')"
      ],
      "metadata": {
        "colab": {
          "base_uri": "https://localhost:8080/"
        },
        "id": "AqZstXr4DqTr",
        "outputId": "4252d4f2-b9be-4cc2-d483-8d0e7636ed6c"
      },
      "execution_count": 96,
      "outputs": [
        {
          "output_type": "stream",
          "name": "stdout",
          "text": [
            "53 76 25 98 56 42 69 81 "
          ]
        }
      ]
    },
    {
      "cell_type": "code",
      "source": [
        "#sum contents of list\n",
        "total = 0\n",
        "for num in data:\n",
        "  total += num\n",
        "print(\"The sum of 'data' is:\", total)"
      ],
      "metadata": {
        "colab": {
          "base_uri": "https://localhost:8080/"
        },
        "id": "4CEBlR3bD0LE",
        "outputId": "39d5f318-f958-4641-9db6-cadd0072a5cb"
      },
      "execution_count": 100,
      "outputs": [
        {
          "output_type": "stream",
          "name": "stdout",
          "text": [
            "The sum of 'data' is: 500\n"
          ]
        }
      ]
    },
    {
      "cell_type": "code",
      "source": [
        "total_2 = sum(data)\n",
        "print(\"The sum of 'data' is:\", total_2)"
      ],
      "metadata": {
        "colab": {
          "base_uri": "https://localhost:8080/"
        },
        "id": "XUc_YGboEQrx",
        "outputId": "c31166ec-c57e-453a-9807-a26f5fd32d7a"
      },
      "execution_count": 103,
      "outputs": [
        {
          "output_type": "stream",
          "name": "stdout",
          "text": [
            "The sum of 'data' is: 500\n"
          ]
        }
      ]
    },
    {
      "cell_type": "code",
      "source": [],
      "metadata": {
        "id": "UvkWbipSE2oY"
      },
      "execution_count": 103,
      "outputs": []
    },
    {
      "cell_type": "code",
      "source": [
        "find_max = 0\n",
        "for num in data:\n",
        "  if num > find_max:\n",
        "    find_max = num\n",
        "print('The Max value is:', find_max)"
      ],
      "metadata": {
        "colab": {
          "base_uri": "https://localhost:8080/"
        },
        "id": "49mTP6StFEzW",
        "outputId": "1c4b6d6e-3f75-4a7c-8a4d-f6d72aee9bd8"
      },
      "execution_count": 104,
      "outputs": [
        {
          "output_type": "stream",
          "name": "stdout",
          "text": [
            "The Max value is: 98\n"
          ]
        }
      ]
    },
    {
      "cell_type": "code",
      "source": [
        "print(\"Max value using Python function 'max()':\", max(data))"
      ],
      "metadata": {
        "colab": {
          "base_uri": "https://localhost:8080/"
        },
        "id": "oqj6j5_tFUxN",
        "outputId": "a7f32ef9-97b5-4711-aa41-4d7e47083d2a"
      },
      "execution_count": 105,
      "outputs": [
        {
          "output_type": "stream",
          "name": "stdout",
          "text": [
            "Max value using Python function 'max()': 98\n"
          ]
        }
      ]
    },
    {
      "cell_type": "code",
      "source": [],
      "metadata": {
        "id": "eWIuqeJSFm6N"
      },
      "execution_count": 105,
      "outputs": []
    },
    {
      "cell_type": "code",
      "source": [
        "my_list = [1, 11, 21, 31, 41, 51]"
      ],
      "metadata": {
        "id": "xS2APOHnF3Xp"
      },
      "execution_count": 106,
      "outputs": []
    },
    {
      "cell_type": "code",
      "source": [
        "for i in range(6):\n",
        "  print(my_list[i], end=' ')"
      ],
      "metadata": {
        "colab": {
          "base_uri": "https://localhost:8080/"
        },
        "id": "4mE-MUd6F5TE",
        "outputId": "9c5d7f6d-d3e7-4e4d-bf71-b346f3bfcd58"
      },
      "execution_count": 108,
      "outputs": [
        {
          "output_type": "stream",
          "name": "stdout",
          "text": [
            "1 11 21 31 41 51 "
          ]
        }
      ]
    },
    {
      "cell_type": "code",
      "source": [
        "for i in range(5):\n",
        "  print(my_list[i], my_list[i+1])"
      ],
      "metadata": {
        "colab": {
          "base_uri": "https://localhost:8080/"
        },
        "id": "ze7ZgVC-GAEz",
        "outputId": "3d8bb3f9-84fc-4b79-a83f-ee7b979fb6da"
      },
      "execution_count": 109,
      "outputs": [
        {
          "output_type": "stream",
          "name": "stdout",
          "text": [
            "1 11\n",
            "11 21\n",
            "21 31\n",
            "31 41\n",
            "41 51\n"
          ]
        }
      ]
    },
    {
      "cell_type": "code",
      "source": [],
      "metadata": {
        "id": "CWWdEccZGPbw"
      },
      "execution_count": 109,
      "outputs": []
    },
    {
      "cell_type": "code",
      "source": [],
      "metadata": {
        "id": "eBy2_AiMGbZa"
      },
      "execution_count": 109,
      "outputs": []
    },
    {
      "cell_type": "code",
      "source": [
        "#Bubble Sort\n",
        "print(data)\n",
        "data_copy = data[:]\n",
        "for i in range(len(data_copy)):\n",
        "  for j in range(0, len(data_copy)-i-1):\n",
        "    if data_copy[j] > data_copy[j+1]:\n",
        "      data_copy[j], data_copy[j+1] = data_copy[j+1], data_copy[j]\n",
        "  print(data_copy)\n",
        "print(data_copy)"
      ],
      "metadata": {
        "colab": {
          "base_uri": "https://localhost:8080/"
        },
        "id": "GGXnAo9jGbrc",
        "outputId": "07b5d007-ec42-44c8-c550-d2bf95ab1007"
      },
      "execution_count": 113,
      "outputs": [
        {
          "output_type": "stream",
          "name": "stdout",
          "text": [
            "[53, 76, 25, 98, 56, 42, 69, 81]\n",
            "[53, 25, 76, 56, 42, 69, 81, 98]\n",
            "[25, 53, 56, 42, 69, 76, 81, 98]\n",
            "[25, 53, 42, 56, 69, 76, 81, 98]\n",
            "[25, 42, 53, 56, 69, 76, 81, 98]\n",
            "[25, 42, 53, 56, 69, 76, 81, 98]\n",
            "[25, 42, 53, 56, 69, 76, 81, 98]\n",
            "[25, 42, 53, 56, 69, 76, 81, 98]\n",
            "[25, 42, 53, 56, 69, 76, 81, 98]\n",
            "[25, 42, 53, 56, 69, 76, 81, 98]\n"
          ]
        }
      ]
    },
    {
      "cell_type": "code",
      "source": [
        "print(data)\n",
        "print(sorted(data))"
      ],
      "metadata": {
        "colab": {
          "base_uri": "https://localhost:8080/"
        },
        "id": "ZJE3OiAaHLPA",
        "outputId": "d209cae6-ce3b-4eaa-b5f3-86fae7179359"
      },
      "execution_count": 112,
      "outputs": [
        {
          "output_type": "stream",
          "name": "stdout",
          "text": [
            "[53, 76, 25, 98, 56, 42, 69, 81]\n",
            "[25, 42, 53, 56, 69, 76, 81, 98]\n"
          ]
        }
      ]
    },
    {
      "cell_type": "code",
      "source": [],
      "metadata": {
        "id": "-8_SeWjGHe90"
      },
      "execution_count": 113,
      "outputs": []
    },
    {
      "cell_type": "code",
      "source": [],
      "metadata": {
        "id": "ykQlrzNaIVhC"
      },
      "execution_count": 113,
      "outputs": []
    },
    {
      "cell_type": "code",
      "source": [
        "my_list = [34, 76, 58]"
      ],
      "metadata": {
        "id": "YkNP3RmoIV1A"
      },
      "execution_count": 116,
      "outputs": []
    },
    {
      "cell_type": "code",
      "source": [
        "my_list.append(100)\n",
        "my_list"
      ],
      "metadata": {
        "colab": {
          "base_uri": "https://localhost:8080/"
        },
        "id": "OM0xbTLgIXQL",
        "outputId": "5cf67b88-3ea9-497d-cd34-a0de17786e9f"
      },
      "execution_count": 117,
      "outputs": [
        {
          "output_type": "execute_result",
          "data": {
            "text/plain": [
              "[34, 76, 58, 100]"
            ]
          },
          "metadata": {},
          "execution_count": 117
        }
      ]
    },
    {
      "cell_type": "code",
      "source": [
        "my_list.remove(34)\n",
        "my_list"
      ],
      "metadata": {
        "colab": {
          "base_uri": "https://localhost:8080/"
        },
        "id": "WjrfkSVlIar_",
        "outputId": "aadcf49b-e18c-4d9b-dddc-19964b5893de"
      },
      "execution_count": 118,
      "outputs": [
        {
          "output_type": "execute_result",
          "data": {
            "text/plain": [
              "[76, 58, 100]"
            ]
          },
          "metadata": {},
          "execution_count": 118
        }
      ]
    },
    {
      "cell_type": "code",
      "source": [
        "my_list.reverse()\n",
        "my_list"
      ],
      "metadata": {
        "colab": {
          "base_uri": "https://localhost:8080/"
        },
        "id": "YjvQM4eVIkKU",
        "outputId": "d090855a-b28b-4f3a-aa69-37d81d4edf64"
      },
      "execution_count": 121,
      "outputs": [
        {
          "output_type": "execute_result",
          "data": {
            "text/plain": [
              "[100, 58, 76]"
            ]
          },
          "metadata": {},
          "execution_count": 121
        }
      ]
    },
    {
      "cell_type": "code",
      "source": [
        "my_list.extend([67, 68, 69])\n",
        "my_list"
      ],
      "metadata": {
        "colab": {
          "base_uri": "https://localhost:8080/"
        },
        "id": "KRCFPjJGI8RG",
        "outputId": "22e370a9-ee24-4d61-c7eb-d96318e88628"
      },
      "execution_count": 122,
      "outputs": [
        {
          "output_type": "execute_result",
          "data": {
            "text/plain": [
              "[100, 58, 76, 67, 68, 69]"
            ]
          },
          "metadata": {},
          "execution_count": 122
        }
      ]
    },
    {
      "cell_type": "code",
      "source": [
        "print(my_list.index(67))"
      ],
      "metadata": {
        "colab": {
          "base_uri": "https://localhost:8080/"
        },
        "id": "maRB1CUbJIHm",
        "outputId": "01710bb8-fa8c-4e1c-a3a9-0322e7297893"
      },
      "execution_count": 123,
      "outputs": [
        {
          "output_type": "stream",
          "name": "stdout",
          "text": [
            "3\n"
          ]
        }
      ]
    }
  ],
  "metadata": {
    "colab": {
      "provenance": [],
      "authorship_tag": "ABX9TyNBdcAhBJ746taH9hcmIfs+",
      "include_colab_link": true
    },
    "kernelspec": {
      "display_name": "Python 3",
      "name": "python3"
    },
    "language_info": {
      "name": "python"
    }
  },
  "nbformat": 4,
  "nbformat_minor": 0
}