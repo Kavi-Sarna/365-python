{
  "cells": [
    {
      "cell_type": "markdown",
      "metadata": {
        "id": "view-in-github",
        "colab_type": "text"
      },
      "source": [
        "<a href=\"https://colab.research.google.com/github/Kavi-Sarna/365-python/blob/main/3%20-%20Python%20Programmer%20Bootcamp/4%20-%20Loops/4%20-%20Modulus.ipynb\" target=\"_parent\"><img src=\"https://colab.research.google.com/assets/colab-badge.svg\" alt=\"Open In Colab\"/></a>"
      ]
    },
    {
      "cell_type": "markdown",
      "source": [
        "Modulus"
      ],
      "metadata": {
        "id": "fxb2FmxR-FzH"
      }
    },
    {
      "cell_type": "code",
      "source": [
        "10 % 2"
      ],
      "metadata": {
        "colab": {
          "base_uri": "https://localhost:8080/"
        },
        "id": "oX6wOGqZLuQj",
        "outputId": "1d32e199-3c43-4252-b63b-4060fd913b3d"
      },
      "execution_count": 128,
      "outputs": [
        {
          "output_type": "execute_result",
          "data": {
            "text/plain": [
              "0"
            ]
          },
          "metadata": {},
          "execution_count": 128
        }
      ]
    },
    {
      "cell_type": "code",
      "source": [
        "11 % 2"
      ],
      "metadata": {
        "colab": {
          "base_uri": "https://localhost:8080/"
        },
        "id": "ZtVgwpfOL0Cf",
        "outputId": "60eee774-3725-405e-d03b-8753a3de9bea"
      },
      "execution_count": 129,
      "outputs": [
        {
          "output_type": "execute_result",
          "data": {
            "text/plain": [
              "1"
            ]
          },
          "metadata": {},
          "execution_count": 129
        }
      ]
    },
    {
      "cell_type": "code",
      "source": [
        "10 % 4"
      ],
      "metadata": {
        "colab": {
          "base_uri": "https://localhost:8080/"
        },
        "id": "NGYzdUhNL21s",
        "outputId": "e5c0b43a-640f-4e1f-a25e-4c39f1a36dc7"
      },
      "execution_count": 130,
      "outputs": [
        {
          "output_type": "execute_result",
          "data": {
            "text/plain": [
              "2"
            ]
          },
          "metadata": {},
          "execution_count": 130
        }
      ]
    },
    {
      "cell_type": "code",
      "source": [
        "78 % 10"
      ],
      "metadata": {
        "colab": {
          "base_uri": "https://localhost:8080/"
        },
        "id": "zV9dKBwWL485",
        "outputId": "f37a4a4f-f5d4-4c43-f6a0-25657dc5f750"
      },
      "execution_count": 131,
      "outputs": [
        {
          "output_type": "execute_result",
          "data": {
            "text/plain": [
              "8"
            ]
          },
          "metadata": {},
          "execution_count": 131
        }
      ]
    },
    {
      "cell_type": "code",
      "source": [],
      "metadata": {
        "id": "pXYNo8cdMD0i"
      },
      "execution_count": 131,
      "outputs": []
    },
    {
      "cell_type": "code",
      "source": [
        "# Fizzbuzz\n",
        "\n",
        "n = 40\n",
        "\n",
        "for i in range(1,n+1):\n",
        "  if i % 3 == 0 and i % 5 == 0:\n",
        "    print(i,'Fizzbuzz!!!')\n",
        "  elif i % 5 == 0:\n",
        "    print(i, 'Buzz')\n",
        "  elif i % 3 == 0:\n",
        "    print(i, 'Fizz')\n",
        "  else:\n",
        "    print(i)"
      ],
      "metadata": {
        "colab": {
          "base_uri": "https://localhost:8080/"
        },
        "id": "Vhh8vSpRMPvQ",
        "outputId": "206e90df-18b2-496e-a632-1bae1b7c9ebb"
      },
      "execution_count": 135,
      "outputs": [
        {
          "output_type": "stream",
          "name": "stdout",
          "text": [
            "1\n",
            "2\n",
            "3 Fizz\n",
            "4\n",
            "5 Buzz\n",
            "6 Fizz\n",
            "7\n",
            "8\n",
            "9 Fizz\n",
            "10 Buzz\n",
            "11\n",
            "12 Fizz\n",
            "13\n",
            "14\n",
            "15 Fizzbuzz!!!\n",
            "16\n",
            "17\n",
            "18 Fizz\n",
            "19\n",
            "20 Buzz\n",
            "21 Fizz\n",
            "22\n",
            "23\n",
            "24 Fizz\n",
            "25 Buzz\n",
            "26\n",
            "27 Fizz\n",
            "28\n",
            "29\n",
            "30 Fizzbuzz!!!\n",
            "31\n",
            "32\n",
            "33 Fizz\n",
            "34\n",
            "35 Buzz\n",
            "36 Fizz\n",
            "37\n",
            "38\n",
            "39 Fizz\n",
            "40 Buzz\n"
          ]
        }
      ]
    },
    {
      "cell_type": "code",
      "source": [
        "# Order of conditionals is important - this will not work\n",
        "n = 40\n",
        "\n",
        "for i in range(1,n+1):\n",
        "  if i % 3 == 0:\n",
        "    print(i,'Fizz')\n",
        "  elif i % 5 == 0:\n",
        "    print(i, 'Buzz')\n",
        "  elif i % 3 == 0 and i % 5 == 0:\n",
        "    print(i, 'Fizzbuzz!!')\n",
        "  else:\n",
        "    print(i)"
      ],
      "metadata": {
        "colab": {
          "base_uri": "https://localhost:8080/"
        },
        "id": "_8U4tc86MbZL",
        "outputId": "75834d7a-11f0-41b8-b79a-997be6f8a16b"
      },
      "execution_count": 134,
      "outputs": [
        {
          "output_type": "stream",
          "name": "stdout",
          "text": [
            "1\n",
            "2\n",
            "3 Fizz\n",
            "4\n",
            "5 Buzz\n",
            "6 Fizz\n",
            "7\n",
            "8\n",
            "9 Fizz\n",
            "10 Buzz\n",
            "11\n",
            "12 Fizz\n",
            "13\n",
            "14\n",
            "15 Fizz\n",
            "16\n",
            "17\n",
            "18 Fizz\n",
            "19\n",
            "20 Buzz\n",
            "21 Fizz\n",
            "22\n",
            "23\n",
            "24 Fizz\n",
            "25 Buzz\n",
            "26\n",
            "27 Fizz\n",
            "28\n",
            "29\n",
            "30 Fizz\n",
            "31\n",
            "32\n",
            "33 Fizz\n",
            "34\n",
            "35 Buzz\n",
            "36 Fizz\n",
            "37\n",
            "38\n",
            "39 Fizz\n",
            "40 Buzz\n"
          ]
        }
      ]
    }
  ],
  "metadata": {
    "colab": {
      "provenance": [],
      "authorship_tag": "ABX9TyNO+SCro8VDLqkyVdS7FlGU",
      "include_colab_link": true
    },
    "kernelspec": {
      "display_name": "Python 3",
      "name": "python3"
    },
    "language_info": {
      "name": "python"
    }
  },
  "nbformat": 4,
  "nbformat_minor": 0
}