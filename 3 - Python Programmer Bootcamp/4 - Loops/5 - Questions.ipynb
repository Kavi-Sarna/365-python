{
  "cells": [
    {
      "cell_type": "markdown",
      "metadata": {
        "id": "view-in-github",
        "colab_type": "text"
      },
      "source": [
        "<a href=\"https://colab.research.google.com/github/Kavi-Sarna/365-python/blob/main/3%20-%20Python%20Programmer%20Bootcamp/4%20-%20Loops/5%20-%20Questions.ipynb\" target=\"_parent\"><img src=\"https://colab.research.google.com/assets/colab-badge.svg\" alt=\"Open In Colab\"/></a>"
      ]
    },
    {
      "cell_type": "markdown",
      "source": [
        "Question 1\n",
        "\n",
        "Ask the user for two numbers between 1 and 100.\n",
        "\n",
        "Then count from the lower number to the higher number.\n",
        "\n",
        "Print the results to the screen."
      ],
      "metadata": {
        "id": "fxb2FmxR-FzH"
      }
    },
    {
      "cell_type": "code",
      "source": [
        "num_1 = int(input('Enter the first number between 1 and 100: '))\n",
        "num_2 = int(input('Enter the second number between 1 and 100: '))\n",
        "\n",
        "if num_1 < num_2:\n",
        "  for i in range(num_1, num_2+1):\n",
        "    print(i, end=' ')\n",
        "else:\n",
        "  for i in range(num_2, num_1+1):\n",
        "    print(i, end=' ')"
      ],
      "metadata": {
        "colab": {
          "base_uri": "https://localhost:8080/"
        },
        "id": "wfRo_-VGNXN3",
        "outputId": "b7b5b4b5-4860-427e-a18e-032ffc63f93d"
      },
      "execution_count": 136,
      "outputs": [
        {
          "output_type": "stream",
          "name": "stdout",
          "text": [
            "Enter the first number between 1 and 100: 10\n",
            "Enter the second number between 1 and 100: 20\n",
            "10 11 12 13 14 15 16 17 18 19 20 "
          ]
        }
      ]
    },
    {
      "cell_type": "code",
      "source": [
        "num_1 = int(input('Please enter a number between 1-100:> '))\n",
        "num_2 = int(input('Please enter a number between 1-100:> '))\n",
        "\n",
        "while num_1 < 0 or num_2 < 0 or num_1 > 100 or num_2 > 100 or num_1 == num_2:\n",
        "  print('Numbers must be different values between 1 and 100, try again')\n",
        "  num_1 = int(input('Please enter a number between 1-100:> '))\n",
        "  num_2 = int(input('Please enter a number between 1-100:> '))\n",
        "\n",
        "if num_1 < num_2:\n",
        "  for i in range(num_1,num_2+1):\n",
        "    print(i,end=' ')\n",
        "else:\n",
        "  for i in range(num_2,num_1+1):\n",
        "    print(i,end=' ')"
      ],
      "metadata": {
        "colab": {
          "base_uri": "https://localhost:8080/"
        },
        "id": "pR8r1Xq0N9Ru",
        "outputId": "d4735131-27b8-4161-d23f-565ced093a4b"
      },
      "execution_count": 138,
      "outputs": [
        {
          "output_type": "stream",
          "name": "stdout",
          "text": [
            "Please enter a number between 1-100:> 120\n",
            "Please enter a number between 1-100:> 125\n",
            "Numbers must be different values between 1 and 100, try again\n",
            "Please enter a number between 1-100:> 23\n",
            "Please enter a number between 1-100:> 24\n",
            "23 24 "
          ]
        }
      ]
    },
    {
      "cell_type": "markdown",
      "source": [
        "Question 2\n",
        "\n",
        "Ask the user to input a string and then print it out to the screen in\n",
        "reverse order (use a for loop)."
      ],
      "metadata": {
        "id": "max7UTSEOGzv"
      }
    },
    {
      "cell_type": "code",
      "source": [
        "word = input('Enter a string: ')\n",
        "reverse_word = ''\n",
        "for char in word:\n",
        "  reverse_word = char + reverse_word\n",
        "\n",
        "print(reverse_word)"
      ],
      "metadata": {
        "colab": {
          "base_uri": "https://localhost:8080/"
        },
        "id": "WG-rQ5fpOJw-",
        "outputId": "eb8f40cf-1d63-40c8-ecfa-1a98cae69162"
      },
      "execution_count": 140,
      "outputs": [
        {
          "output_type": "stream",
          "name": "stdout",
          "text": [
            "Enter a string: Python\n",
            "nohtyP\n"
          ]
        }
      ]
    },
    {
      "cell_type": "code",
      "source": [
        "print(word[::-1])"
      ],
      "metadata": {
        "colab": {
          "base_uri": "https://localhost:8080/"
        },
        "id": "EzWzo1EJO63M",
        "outputId": "4ff9c1fb-7392-49eb-ff90-02cba5bbe76b"
      },
      "execution_count": 141,
      "outputs": [
        {
          "output_type": "stream",
          "name": "stdout",
          "text": [
            "nohtyP\n"
          ]
        }
      ]
    },
    {
      "cell_type": "markdown",
      "source": [
        "Question 3\n",
        "\n",
        "Ask the user for a number between 1 and 12 and then display a times\n",
        "table for that number."
      ],
      "metadata": {
        "id": "ANpUizVmPbHL"
      }
    },
    {
      "cell_type": "code",
      "source": [
        "user_input =  input('Enter a number between 1 and 12: ')\n",
        "\n",
        "while not(user_input.isdigit()) or int(user_input) < 1 or int(user_input) > 12:\n",
        "  print('Must be an integer between 1 and 12')\n",
        "  user_input = input('Please make selection:> ' )\n",
        "\n",
        "user_input = int(user_input)\n",
        "\n",
        "for i in range(1, 11):\n",
        "  print(f'{i} * {user_input} = {i * user_input}')"
      ],
      "metadata": {
        "colab": {
          "base_uri": "https://localhost:8080/"
        },
        "id": "zJDuNda9PSsV",
        "outputId": "cf295de0-4ba7-47e8-bbb3-a50bcd4a548c"
      },
      "execution_count": 142,
      "outputs": [
        {
          "output_type": "stream",
          "name": "stdout",
          "text": [
            "Enter a number between 1 and 12: 4\n",
            "1 * 4 = 4\n",
            "2 * 4 = 8\n",
            "3 * 4 = 12\n",
            "4 * 4 = 16\n",
            "5 * 4 = 20\n",
            "6 * 4 = 24\n",
            "7 * 4 = 28\n",
            "8 * 4 = 32\n",
            "9 * 4 = 36\n",
            "10 * 4 = 40\n"
          ]
        }
      ]
    },
    {
      "cell_type": "markdown",
      "source": [
        "Question 4\n",
        "\n",
        "Can you amend the solution to question 3 so that it just prints out all\n",
        "times tables between 1 and 12? (no  need to ask user for input)"
      ],
      "metadata": {
        "id": "k6dNZJMQQboL"
      }
    },
    {
      "cell_type": "code",
      "source": [
        "for i in range(2, 13):\n",
        "  print(f'Printing table of {i} ::')\n",
        "  print()\n",
        "  for j in range(1, 11):\n",
        "    print(f'{j} * {i} = {j * i}')\n",
        "  print()\n",
        "  print()"
      ],
      "metadata": {
        "colab": {
          "base_uri": "https://localhost:8080/"
        },
        "id": "RsKBccLQQUMr",
        "outputId": "b1a33876-b7b1-424a-9659-c2e706b44925"
      },
      "execution_count": 143,
      "outputs": [
        {
          "output_type": "stream",
          "name": "stdout",
          "text": [
            "Printing table of 2 ::\n",
            "\n",
            "1 * 2 = 2\n",
            "2 * 2 = 4\n",
            "3 * 2 = 6\n",
            "4 * 2 = 8\n",
            "5 * 2 = 10\n",
            "6 * 2 = 12\n",
            "7 * 2 = 14\n",
            "8 * 2 = 16\n",
            "9 * 2 = 18\n",
            "10 * 2 = 20\n",
            "\n",
            "\n",
            "Printing table of 3 ::\n",
            "\n",
            "1 * 3 = 3\n",
            "2 * 3 = 6\n",
            "3 * 3 = 9\n",
            "4 * 3 = 12\n",
            "5 * 3 = 15\n",
            "6 * 3 = 18\n",
            "7 * 3 = 21\n",
            "8 * 3 = 24\n",
            "9 * 3 = 27\n",
            "10 * 3 = 30\n",
            "\n",
            "\n",
            "Printing table of 4 ::\n",
            "\n",
            "1 * 4 = 4\n",
            "2 * 4 = 8\n",
            "3 * 4 = 12\n",
            "4 * 4 = 16\n",
            "5 * 4 = 20\n",
            "6 * 4 = 24\n",
            "7 * 4 = 28\n",
            "8 * 4 = 32\n",
            "9 * 4 = 36\n",
            "10 * 4 = 40\n",
            "\n",
            "\n",
            "Printing table of 5 ::\n",
            "\n",
            "1 * 5 = 5\n",
            "2 * 5 = 10\n",
            "3 * 5 = 15\n",
            "4 * 5 = 20\n",
            "5 * 5 = 25\n",
            "6 * 5 = 30\n",
            "7 * 5 = 35\n",
            "8 * 5 = 40\n",
            "9 * 5 = 45\n",
            "10 * 5 = 50\n",
            "\n",
            "\n",
            "Printing table of 6 ::\n",
            "\n",
            "1 * 6 = 6\n",
            "2 * 6 = 12\n",
            "3 * 6 = 18\n",
            "4 * 6 = 24\n",
            "5 * 6 = 30\n",
            "6 * 6 = 36\n",
            "7 * 6 = 42\n",
            "8 * 6 = 48\n",
            "9 * 6 = 54\n",
            "10 * 6 = 60\n",
            "\n",
            "\n",
            "Printing table of 7 ::\n",
            "\n",
            "1 * 7 = 7\n",
            "2 * 7 = 14\n",
            "3 * 7 = 21\n",
            "4 * 7 = 28\n",
            "5 * 7 = 35\n",
            "6 * 7 = 42\n",
            "7 * 7 = 49\n",
            "8 * 7 = 56\n",
            "9 * 7 = 63\n",
            "10 * 7 = 70\n",
            "\n",
            "\n",
            "Printing table of 8 ::\n",
            "\n",
            "1 * 8 = 8\n",
            "2 * 8 = 16\n",
            "3 * 8 = 24\n",
            "4 * 8 = 32\n",
            "5 * 8 = 40\n",
            "6 * 8 = 48\n",
            "7 * 8 = 56\n",
            "8 * 8 = 64\n",
            "9 * 8 = 72\n",
            "10 * 8 = 80\n",
            "\n",
            "\n",
            "Printing table of 9 ::\n",
            "\n",
            "1 * 9 = 9\n",
            "2 * 9 = 18\n",
            "3 * 9 = 27\n",
            "4 * 9 = 36\n",
            "5 * 9 = 45\n",
            "6 * 9 = 54\n",
            "7 * 9 = 63\n",
            "8 * 9 = 72\n",
            "9 * 9 = 81\n",
            "10 * 9 = 90\n",
            "\n",
            "\n",
            "Printing table of 10 ::\n",
            "\n",
            "1 * 10 = 10\n",
            "2 * 10 = 20\n",
            "3 * 10 = 30\n",
            "4 * 10 = 40\n",
            "5 * 10 = 50\n",
            "6 * 10 = 60\n",
            "7 * 10 = 70\n",
            "8 * 10 = 80\n",
            "9 * 10 = 90\n",
            "10 * 10 = 100\n",
            "\n",
            "\n",
            "Printing table of 11 ::\n",
            "\n",
            "1 * 11 = 11\n",
            "2 * 11 = 22\n",
            "3 * 11 = 33\n",
            "4 * 11 = 44\n",
            "5 * 11 = 55\n",
            "6 * 11 = 66\n",
            "7 * 11 = 77\n",
            "8 * 11 = 88\n",
            "9 * 11 = 99\n",
            "10 * 11 = 110\n",
            "\n",
            "\n",
            "Printing table of 12 ::\n",
            "\n",
            "1 * 12 = 12\n",
            "2 * 12 = 24\n",
            "3 * 12 = 36\n",
            "4 * 12 = 48\n",
            "5 * 12 = 60\n",
            "6 * 12 = 72\n",
            "7 * 12 = 84\n",
            "8 * 12 = 96\n",
            "9 * 12 = 108\n",
            "10 * 12 = 120\n",
            "\n",
            "\n"
          ]
        }
      ]
    },
    {
      "cell_type": "markdown",
      "source": [
        "Question 5\n",
        "\n",
        "Ask the user to input a sequence of numbers.\n",
        "\n",
        "Then calculate the mean and print the result."
      ],
      "metadata": {
        "id": "QQZatHFsRNjS"
      }
    },
    {
      "cell_type": "code",
      "source": [
        "user_input = input('Please enter a number type exit to stop:> ')\n",
        "numbers = []\n",
        "\n",
        "while user_input.lower() != 'exit':\n",
        "  while not user_input.isdigit():\n",
        "    print('That is not a number! Numbers only please:> ')\n",
        "    user_input = input('Try again:> ')\n",
        "  numbers.append(int(user_input))\n",
        "  user_input = input('Please enter next number:> ')\n",
        "\n",
        "total = 0\n",
        "\n",
        "for number in numbers:\n",
        "  total += number\n",
        "\n",
        "print(f'Mean is {total/len(numbers)}')\n",
        "print(sum(numbers)/len(numbers))"
      ],
      "metadata": {
        "colab": {
          "base_uri": "https://localhost:8080/"
        },
        "id": "572VpyVeQ7u6",
        "outputId": "1dfce2b8-08db-46bb-dda0-5d6f370c5fdc"
      },
      "execution_count": 149,
      "outputs": [
        {
          "output_type": "stream",
          "name": "stdout",
          "text": [
            "Please enter a number type exit to stop:> 1\n",
            "Please enter next number:> 2\n",
            "Please enter next number:> 3\n",
            "Please enter next number:> 4\n",
            "Please enter next number:> 5\n",
            "Please enter next number:> exit\n",
            "Mean is 3.0\n",
            "3.0\n"
          ]
        }
      ]
    },
    {
      "cell_type": "markdown",
      "source": [
        "Question 6\n",
        "\n",
        "Write code that will calculate 15 factorial.\n",
        "\n",
        "(factorial is product of positive ints up to a given number. e.g 5 factorial is 5x4x3x2x1)"
      ],
      "metadata": {
        "id": "UdR5AZXNTXQ-"
      }
    },
    {
      "cell_type": "code",
      "source": [
        "num = 15\n",
        "fact = 1\n",
        "for i in range(1, num+1):\n",
        "  fact *= i\n",
        "print(fact)"
      ],
      "metadata": {
        "colab": {
          "base_uri": "https://localhost:8080/"
        },
        "id": "3HRUOhvnRr5S",
        "outputId": "0cdc7df2-f120-4328-978d-c0e5fa61747d"
      },
      "execution_count": 151,
      "outputs": [
        {
          "output_type": "stream",
          "name": "stdout",
          "text": [
            "1307674368000\n"
          ]
        }
      ]
    },
    {
      "cell_type": "markdown",
      "source": [
        "Question 7\n",
        "\n",
        "Write code to calculate Fibonacci numbers.\n",
        "\n",
        "Create list containing first 20 Fibonacci numbers,\n",
        "\n",
        "(Fib  numbers made by sum of preceeding two. Series starts 0 1 1 2 3 5 8 13 ....)"
      ],
      "metadata": {
        "id": "MP22vh4xT1cZ"
      }
    },
    {
      "cell_type": "code",
      "source": [
        "num_1 = 0\n",
        "num_2 = 1\n",
        "\n",
        "print(num_1, end=' ')\n",
        "print(num_2, end=' ')\n",
        "\n",
        "for i in range(18):\n",
        "  print(num_1 + num_2, end=' ')\n",
        "  num_1, num_2 = num_2, num_1 + num_2\n"
      ],
      "metadata": {
        "colab": {
          "base_uri": "https://localhost:8080/"
        },
        "id": "CFKYGZcVTtX1",
        "outputId": "b161fbb1-6825-4c94-f405-a387d50ef12a"
      },
      "execution_count": 154,
      "outputs": [
        {
          "output_type": "stream",
          "name": "stdout",
          "text": [
            "0 1 1 2 3 5 8 13 21 34 55 89 144 233 377 610 987 1597 2584 4181 "
          ]
        }
      ]
    },
    {
      "cell_type": "code",
      "source": [
        "n = 20\n",
        "\n",
        "# Set a and b to the first two numbers in the sequence\n",
        "a = 0\n",
        "b = 1\n",
        "\n",
        "# List in which to store numbers\n",
        "fib_nums = []\n",
        "\n",
        "# Use a for loop to create the sequence, repeat n times\n",
        "for i in range(n):\n",
        "  fib_nums.append(a)\n",
        "  a,b = b,a+b\n",
        "\n",
        "print(f'The first {n} Fibonacci numbers are, {fib_nums}')"
      ],
      "metadata": {
        "colab": {
          "base_uri": "https://localhost:8080/"
        },
        "id": "Az4RkLEKUfVk",
        "outputId": "b41eb672-dde2-4d14-de2b-9f7db54b5cc7"
      },
      "execution_count": 155,
      "outputs": [
        {
          "output_type": "stream",
          "name": "stdout",
          "text": [
            "The first 20 Fibonacci numbers are, [0, 1, 1, 2, 3, 5, 8, 13, 21, 34, 55, 89, 144, 233, 377, 610, 987, 1597, 2584, 4181]\n"
          ]
        }
      ]
    },
    {
      "cell_type": "markdown",
      "source": [
        "Question 8\n",
        "\n",
        "     *****\n",
        "     *\n",
        "     ****\n",
        "     *\n",
        "     *\n",
        "     *\n",
        "Can you draw this using python?"
      ],
      "metadata": {
        "id": "mdCE9WXOVUNU"
      }
    },
    {
      "cell_type": "code",
      "source": [
        "star = '*'\n",
        "\n",
        "for i in range(6):\n",
        "  for j in range(5):\n",
        "    if i == 0 and j < 5:\n",
        "      print(star, end=' ')\n",
        "    elif i == 1 and j < 1:\n",
        "      print()\n",
        "      print(star, end=' ')\n",
        "      print()\n",
        "    elif i == 2 and j < 4:\n",
        "      print(star, end=' ')\n",
        "    elif (i == 3 or i == 4 or i == 5) and j < 1:\n",
        "      print()\n",
        "      print(star, end=' ')"
      ],
      "metadata": {
        "colab": {
          "base_uri": "https://localhost:8080/"
        },
        "id": "JNr1RXlNVLlK",
        "outputId": "8194f838-32f3-4848-a7db-768e140c51af"
      },
      "execution_count": 163,
      "outputs": [
        {
          "output_type": "stream",
          "name": "stdout",
          "text": [
            "* * * * * \n",
            "* \n",
            "* * * * \n",
            "* \n",
            "* \n",
            "* "
          ]
        }
      ]
    },
    {
      "cell_type": "markdown",
      "source": [
        "Question 9\n",
        "\n",
        "Write some code that will determine all odd and even numbers\n",
        "between 1 and 100.\n",
        "\n",
        "Put the odds in a list named odd and the evens in a list named even."
      ],
      "metadata": {
        "id": "mxUs8ZB5Xjgh"
      }
    },
    {
      "cell_type": "code",
      "source": [
        "n = 100\n",
        "\n",
        "even = []\n",
        "odd = []\n",
        "\n",
        "for i in range(1, n+1):\n",
        "  if i % 2 == 0:\n",
        "    even.append(i)\n",
        "  else:\n",
        "    odd.append(i)\n",
        "\n",
        "print(f'List of odd numbers: {odd}')\n",
        "print(f'List of even numbers: {even}')"
      ],
      "metadata": {
        "colab": {
          "base_uri": "https://localhost:8080/"
        },
        "id": "fGkgb7gcWZLm",
        "outputId": "8888eb1f-b7be-447e-8600-92e5e9904f55"
      },
      "execution_count": 164,
      "outputs": [
        {
          "output_type": "stream",
          "name": "stdout",
          "text": [
            "List of odd numbers: [1, 3, 5, 7, 9, 11, 13, 15, 17, 19, 21, 23, 25, 27, 29, 31, 33, 35, 37, 39, 41, 43, 45, 47, 49, 51, 53, 55, 57, 59, 61, 63, 65, 67, 69, 71, 73, 75, 77, 79, 81, 83, 85, 87, 89, 91, 93, 95, 97, 99]\n",
            "List of even numbers: [2, 4, 6, 8, 10, 12, 14, 16, 18, 20, 22, 24, 26, 28, 30, 32, 34, 36, 38, 40, 42, 44, 46, 48, 50, 52, 54, 56, 58, 60, 62, 64, 66, 68, 70, 72, 74, 76, 78, 80, 82, 84, 86, 88, 90, 92, 94, 96, 98, 100]\n"
          ]
        }
      ]
    }
  ],
  "metadata": {
    "colab": {
      "provenance": [],
      "authorship_tag": "ABX9TyMLepkhyUAi7ZRNjOjHDp/Y",
      "include_colab_link": true
    },
    "kernelspec": {
      "display_name": "Python 3",
      "name": "python3"
    },
    "language_info": {
      "name": "python"
    }
  },
  "nbformat": 4,
  "nbformat_minor": 0
}