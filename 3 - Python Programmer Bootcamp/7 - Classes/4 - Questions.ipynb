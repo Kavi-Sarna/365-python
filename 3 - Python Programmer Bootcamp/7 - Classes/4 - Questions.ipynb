{
  "cells": [
    {
      "cell_type": "markdown",
      "metadata": {
        "id": "view-in-github",
        "colab_type": "text"
      },
      "source": [
        "<a href=\"https://colab.research.google.com/github/Kavi-Sarna/365-python/blob/main/3%20-%20Python%20Programmer%20Bootcamp/7%20-%20Classes/4%20-%20Questions.ipynb\" target=\"_parent\"><img src=\"https://colab.research.google.com/assets/colab-badge.svg\" alt=\"Open In Colab\"/></a>"
      ]
    },
    {
      "cell_type": "markdown",
      "source": [
        "Question 1\n",
        "\n",
        "Create a class to represent a bank account.\n",
        "\n",
        "It will need to have a balance, a method of withdrawing money, depositing money and displaying the balance to the screen.\n",
        "\n",
        "Create an instance of the bank account and check that the methods work as expected."
      ],
      "metadata": {
        "id": "hOuKNfSANeJt"
      }
    },
    {
      "cell_type": "code",
      "source": [
        "class BankAccount(object):\n",
        "  ''' Bank Account '''\n",
        "\n",
        "  def __init__(self, balance = 0.0):\n",
        "    self.balance = balance\n",
        "\n",
        "  def deposit_money(self, amount):\n",
        "    self.balance += amount\n",
        "    print(f'Balance is now: {self.balance}.')\n",
        "\n",
        "  def withdraw_money(self, amount):\n",
        "    if amount <= self.balance:\n",
        "      self.balance -= amount\n",
        "      print(f'Balance is now: {self.balance}.')\n",
        "    else:\n",
        "      print(f'Insufficient Balance, cannot withdraw.')\n",
        "\n",
        "  def display(self):\n",
        "    print(f'Current Balance: {self.balance}')"
      ],
      "metadata": {
        "id": "A-jH5WefXDD6"
      },
      "execution_count": 9,
      "outputs": []
    },
    {
      "cell_type": "code",
      "source": [
        "account_1 = BankAccount(500)\n",
        "account_1.display()"
      ],
      "metadata": {
        "colab": {
          "base_uri": "https://localhost:8080/"
        },
        "id": "v6MkZI3RYVhs",
        "outputId": "efe54044-b4d8-43ef-a06a-6dda0cfaf30f"
      },
      "execution_count": 10,
      "outputs": [
        {
          "output_type": "stream",
          "name": "stdout",
          "text": [
            "Current Balance: 500\n"
          ]
        }
      ]
    },
    {
      "cell_type": "code",
      "source": [
        "account_1.withdraw_money(1000)"
      ],
      "metadata": {
        "colab": {
          "base_uri": "https://localhost:8080/"
        },
        "id": "Bpy4zS2jYfY6",
        "outputId": "899cc4e7-ed72-4526-e157-61f327e2ba1a"
      },
      "execution_count": 11,
      "outputs": [
        {
          "output_type": "stream",
          "name": "stdout",
          "text": [
            "Insufficient Balance, cannot withdraw.\n"
          ]
        }
      ]
    },
    {
      "cell_type": "code",
      "source": [
        "account_1.withdraw_money(200)"
      ],
      "metadata": {
        "colab": {
          "base_uri": "https://localhost:8080/"
        },
        "id": "mxsHjtdMYjRm",
        "outputId": "52646f97-4384-4279-9210-cd8479146cb3"
      },
      "execution_count": 12,
      "outputs": [
        {
          "output_type": "stream",
          "name": "stdout",
          "text": [
            "Balance is now: 300.\n"
          ]
        }
      ]
    },
    {
      "cell_type": "code",
      "source": [
        "account_1.deposit_money(1000)"
      ],
      "metadata": {
        "colab": {
          "base_uri": "https://localhost:8080/"
        },
        "id": "H5UeLYodYmeX",
        "outputId": "d58c7040-fca5-41f8-cce2-2a5b1b192878"
      },
      "execution_count": 13,
      "outputs": [
        {
          "output_type": "stream",
          "name": "stdout",
          "text": [
            "Balance is now: 1300.\n"
          ]
        }
      ]
    },
    {
      "cell_type": "markdown",
      "source": [
        "Question 2\n",
        "\n",
        "Create a circle class that will take the value of a radius and return the area of the circle"
      ],
      "metadata": {
        "id": "5yi8IkrCYruL"
      }
    },
    {
      "cell_type": "code",
      "source": [
        "from math import pi\n",
        "class Circle(object):\n",
        "  ''' Class to represent a circle '''\n",
        "\n",
        "  def __init__(self, radius):\n",
        "    self.radius = radius\n",
        "\n",
        "  def area(self):\n",
        "    area = pi * self.radius ** 2\n",
        "    print(f'Area of circle with radius {self.radius} is {area}')"
      ],
      "metadata": {
        "id": "TEAbb1bgYqOR"
      },
      "execution_count": 17,
      "outputs": []
    },
    {
      "cell_type": "code",
      "source": [
        "circle_1 = Circle(3)"
      ],
      "metadata": {
        "id": "uSO52JLMZSjN"
      },
      "execution_count": 18,
      "outputs": []
    },
    {
      "cell_type": "code",
      "source": [
        "circle_1.area()"
      ],
      "metadata": {
        "colab": {
          "base_uri": "https://localhost:8080/"
        },
        "id": "URpnHg-WZVtc",
        "outputId": "1ea4ee5c-9ac0-4825-b65a-7f8226593f50"
      },
      "execution_count": 19,
      "outputs": [
        {
          "output_type": "stream",
          "name": "stdout",
          "text": [
            "Area of circle with radius 3 is 28.274333882308138\n"
          ]
        }
      ]
    }
  ],
  "metadata": {
    "colab": {
      "provenance": [],
      "authorship_tag": "ABX9TyPpOFrH8sv7PFatEnEk+3Ta",
      "include_colab_link": true
    },
    "kernelspec": {
      "display_name": "Python 3",
      "name": "python3"
    },
    "language_info": {
      "name": "python"
    }
  },
  "nbformat": 4,
  "nbformat_minor": 0
}