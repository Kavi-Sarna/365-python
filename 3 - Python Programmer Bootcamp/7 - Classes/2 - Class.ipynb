{
  "cells": [
    {
      "cell_type": "markdown",
      "metadata": {
        "id": "view-in-github",
        "colab_type": "text"
      },
      "source": [
        "<a href=\"https://colab.research.google.com/github/Kavi-Sarna/365-python/blob/main/3%20-%20Python%20Programmer%20Bootcamp/7%20-%20Classes/2%20-%20Class.ipynb\" target=\"_parent\"><img src=\"https://colab.research.google.com/assets/colab-badge.svg\" alt=\"Open In Colab\"/></a>"
      ]
    },
    {
      "cell_type": "markdown",
      "source": [
        "Class is the blue print of an object"
      ],
      "metadata": {
        "id": "hOuKNfSANeJt"
      }
    },
    {
      "cell_type": "code",
      "source": [
        "class Patient(object):\n",
        "  ''' Medical centre Patient '''\n",
        "  pass"
      ],
      "metadata": {
        "id": "ROZBbXCRPPaf"
      },
      "execution_count": 88,
      "outputs": []
    },
    {
      "cell_type": "code",
      "source": [
        "x = Patient()\n",
        "x"
      ],
      "metadata": {
        "colab": {
          "base_uri": "https://localhost:8080/"
        },
        "id": "qUuA4BEHPdeN",
        "outputId": "ec744173-0ba2-4621-ddcc-0f8cc0abf460"
      },
      "execution_count": 90,
      "outputs": [
        {
          "output_type": "execute_result",
          "data": {
            "text/plain": [
              "<__main__.Patient at 0x7bcc9fe8ac20>"
            ]
          },
          "metadata": {},
          "execution_count": 90
        }
      ]
    },
    {
      "cell_type": "code",
      "source": [
        "x.name = 'Steven'\n",
        "x.age = 48"
      ],
      "metadata": {
        "id": "QDwsTXHnPf4f"
      },
      "execution_count": 91,
      "outputs": []
    },
    {
      "cell_type": "code",
      "source": [
        "x.name"
      ],
      "metadata": {
        "colab": {
          "base_uri": "https://localhost:8080/",
          "height": 35
        },
        "id": "ppFd64yKPtQG",
        "outputId": "654a5978-9ce8-4f14-c5ba-352e120ad2da"
      },
      "execution_count": 93,
      "outputs": [
        {
          "output_type": "execute_result",
          "data": {
            "text/plain": [
              "'Steven'"
            ],
            "application/vnd.google.colaboratory.intrinsic+json": {
              "type": "string"
            }
          },
          "metadata": {},
          "execution_count": 93
        }
      ]
    },
    {
      "cell_type": "code",
      "source": [],
      "metadata": {
        "id": "dgRA3DEPPuRj"
      },
      "execution_count": 93,
      "outputs": []
    },
    {
      "cell_type": "code",
      "source": [
        "class Patient(object):\n",
        "  ''' Medical centre Patient '''\n",
        "\n",
        "  def __init__(self, name, age):\n",
        "    self.name = name\n",
        "    self.age = age"
      ],
      "metadata": {
        "id": "9l6Z8roSPzrs"
      },
      "execution_count": 94,
      "outputs": []
    },
    {
      "cell_type": "code",
      "source": [
        "steve = Patient('Steven Hughes', 48)"
      ],
      "metadata": {
        "id": "OK93Nm0zQGlR"
      },
      "execution_count": 95,
      "outputs": []
    },
    {
      "cell_type": "code",
      "source": [
        "print(steve.name)\n",
        "print(steve.age)"
      ],
      "metadata": {
        "colab": {
          "base_uri": "https://localhost:8080/"
        },
        "id": "Z-7ixAAiQSCt",
        "outputId": "b8ff8f68-e7e7-4eb0-f095-fd86a28e30da"
      },
      "execution_count": 96,
      "outputs": [
        {
          "output_type": "stream",
          "name": "stdout",
          "text": [
            "Steven Hughes\n",
            "48\n"
          ]
        }
      ]
    },
    {
      "cell_type": "code",
      "source": [
        "abigail = Patient('Abigail Sandwick', 32)"
      ],
      "metadata": {
        "id": "TrAW87DdQWZE"
      },
      "execution_count": 97,
      "outputs": []
    },
    {
      "cell_type": "code",
      "source": [
        "print(abigail.name)\n",
        "print(abigail.age)"
      ],
      "metadata": {
        "colab": {
          "base_uri": "https://localhost:8080/"
        },
        "id": "jQp6ZhnHQXaq",
        "outputId": "bad392e1-cc36-467d-ba4a-cf2fa3e2c0fb"
      },
      "execution_count": 98,
      "outputs": [
        {
          "output_type": "stream",
          "name": "stdout",
          "text": [
            "Abigail Sandwick\n",
            "32\n"
          ]
        }
      ]
    },
    {
      "cell_type": "code",
      "source": [
        "steve.phone = 1234567"
      ],
      "metadata": {
        "id": "dmSTfhgtQbeL"
      },
      "execution_count": 99,
      "outputs": []
    },
    {
      "cell_type": "code",
      "source": [
        "steve.phone"
      ],
      "metadata": {
        "colab": {
          "base_uri": "https://localhost:8080/"
        },
        "id": "cNFSbWNpQncc",
        "outputId": "6a0c8c43-024a-40fb-955a-9d3213ccfa54"
      },
      "execution_count": 100,
      "outputs": [
        {
          "output_type": "execute_result",
          "data": {
            "text/plain": [
              "1234567"
            ]
          },
          "metadata": {},
          "execution_count": 100
        }
      ]
    },
    {
      "cell_type": "code",
      "source": [],
      "metadata": {
        "id": "nH5ouInGQpbo"
      },
      "execution_count": 100,
      "outputs": []
    },
    {
      "cell_type": "code",
      "source": [
        "class Patient(object):\n",
        "  ''' Medical centre Patient '''\n",
        "\n",
        "  status = 'patient'\n",
        "\n",
        "  def __init__(self, name, age):\n",
        "    self.name = name\n",
        "    self.age = age"
      ],
      "metadata": {
        "id": "WPlQdfQeQsuh"
      },
      "execution_count": 101,
      "outputs": []
    },
    {
      "cell_type": "code",
      "source": [
        "steve = Patient('Steven Hughes', 48)"
      ],
      "metadata": {
        "id": "VEGmeEeJQ7dy"
      },
      "execution_count": 102,
      "outputs": []
    },
    {
      "cell_type": "code",
      "source": [
        "abigail = Patient('Abigail Sandwick', 32)"
      ],
      "metadata": {
        "id": "B-gVOlDdQ-6i"
      },
      "execution_count": 103,
      "outputs": []
    },
    {
      "cell_type": "code",
      "source": [
        "print(steve.status)\n",
        "print(abigail.status)"
      ],
      "metadata": {
        "colab": {
          "base_uri": "https://localhost:8080/"
        },
        "id": "4-MScWvsRELN",
        "outputId": "fcf6e75b-f4e4-4b96-e9ec-60db04aa6bdd"
      },
      "execution_count": 105,
      "outputs": [
        {
          "output_type": "stream",
          "name": "stdout",
          "text": [
            "patient\n",
            "patient\n"
          ]
        }
      ]
    },
    {
      "cell_type": "code",
      "source": [],
      "metadata": {
        "id": "n3puYFBwRGTe"
      },
      "execution_count": 105,
      "outputs": []
    },
    {
      "cell_type": "code",
      "source": [
        "class Patient(object):\n",
        "  ''' Medical centre Patient '''\n",
        "\n",
        "  status = 'patient'\n",
        "\n",
        "  def __init__(self, name, age):\n",
        "    self.name = name\n",
        "    self.age = age\n",
        "\n",
        "  def get_details(self):\n",
        "    print(f'Patient Record: {self.name}, {self.age} years')"
      ],
      "metadata": {
        "id": "USbu_GTrRRTQ"
      },
      "execution_count": 108,
      "outputs": []
    },
    {
      "cell_type": "code",
      "source": [
        "steve = Patient('Steven Hughes',48)\n",
        "abigail = Patient('Abigail Sandwick',32)"
      ],
      "metadata": {
        "id": "VN0QuRhrRsW8"
      },
      "execution_count": 109,
      "outputs": []
    },
    {
      "cell_type": "code",
      "source": [
        "steve.get_details()"
      ],
      "metadata": {
        "colab": {
          "base_uri": "https://localhost:8080/"
        },
        "id": "7fEUepBTRy1F",
        "outputId": "457dc4d3-9757-4bd6-c756-1313443ca66b"
      },
      "execution_count": 110,
      "outputs": [
        {
          "output_type": "stream",
          "name": "stdout",
          "text": [
            "Patient Record: Steven Hughes, 48 years\n"
          ]
        }
      ]
    },
    {
      "cell_type": "code",
      "source": [
        "abigail.get_details()"
      ],
      "metadata": {
        "colab": {
          "base_uri": "https://localhost:8080/"
        },
        "id": "nRlKDqCGR_W0",
        "outputId": "c2c4c6df-2c5e-401d-bd6a-b61ebad60907"
      },
      "execution_count": 111,
      "outputs": [
        {
          "output_type": "stream",
          "name": "stdout",
          "text": [
            "Patient Record: Abigail Sandwick, 32 years\n"
          ]
        }
      ]
    },
    {
      "cell_type": "code",
      "source": [],
      "metadata": {
        "id": "GbE1IaKNSBbR"
      },
      "execution_count": 111,
      "outputs": []
    },
    {
      "cell_type": "code",
      "source": [
        "class Patient(object):\n",
        "  ''' Medical centre Patient '''\n",
        "\n",
        "  status = 'patient'\n",
        "\n",
        "  def __init__(self, name, age):\n",
        "    self.name = name\n",
        "    self.age = age\n",
        "    self.conditions = []\n",
        "\n",
        "  def get_details(self):\n",
        "    print(f'Patient Record: {self.name}, {self.age} years' \\\n",
        "          f'\\nCurrent information: {self.conditions}')\n",
        "\n",
        "  def add_info(self, information):\n",
        "    self.conditions.append(information)"
      ],
      "metadata": {
        "id": "wIueu2VJSG8I"
      },
      "execution_count": 116,
      "outputs": []
    },
    {
      "cell_type": "code",
      "source": [
        "steve = Patient('Steven Hughes',48)\n",
        "abigail = Patient('Abigail Sandwick',32)"
      ],
      "metadata": {
        "id": "YwhnAeDtS47w"
      },
      "execution_count": 117,
      "outputs": []
    },
    {
      "cell_type": "code",
      "source": [
        "steve.add_info('Patient treated for ear infection - amoxycilin prescribed')"
      ],
      "metadata": {
        "id": "6AnLX-nES7kt"
      },
      "execution_count": 118,
      "outputs": []
    },
    {
      "cell_type": "code",
      "source": [
        "steve.get_details()"
      ],
      "metadata": {
        "colab": {
          "base_uri": "https://localhost:8080/"
        },
        "id": "K2Ri-GthTwIi",
        "outputId": "2857dd83-d934-462b-a356-f10c77a7c57a"
      },
      "execution_count": 119,
      "outputs": [
        {
          "output_type": "stream",
          "name": "stdout",
          "text": [
            "Patient Record: Steven Hughes, 48 years\n",
            "Current information: ['Patient treated for ear infection - amoxycilin prescribed']\n"
          ]
        }
      ]
    }
  ],
  "metadata": {
    "colab": {
      "provenance": [],
      "authorship_tag": "ABX9TyOP77dN4YX1Z4G4oH2UTtGK",
      "include_colab_link": true
    },
    "kernelspec": {
      "display_name": "Python 3",
      "name": "python3"
    },
    "language_info": {
      "name": "python"
    }
  },
  "nbformat": 4,
  "nbformat_minor": 0
}