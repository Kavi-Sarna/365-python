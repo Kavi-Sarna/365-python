{
  "cells": [
    {
      "cell_type": "markdown",
      "metadata": {
        "id": "view-in-github",
        "colab_type": "text"
      },
      "source": [
        "<a href=\"https://colab.research.google.com/github/Kavi-Sarna/365-python/blob/main/3%20-%20Python%20Programmer%20Bootcamp/8%20-%20Problems/1%20-%20Caesar%20Cipher%20Incorrect.ipynb\" target=\"_parent\"><img src=\"https://colab.research.google.com/assets/colab-badge.svg\" alt=\"Open In Colab\"/></a>"
      ]
    },
    {
      "cell_type": "code",
      "source": [
        "def caesar_cipher(text, num):\n",
        "  cipher_text = ''\n",
        "  if (num > 26):\n",
        "    num = num % 26\n",
        "\n",
        "  for char in text:\n",
        "    if char.isalpha():\n",
        "      code = ord(char)\n",
        "      new_code = code + num\n",
        "      if code < 90 and new_code > 90:\n",
        "        diff = new_code - 90\n",
        "        char = chr(64 + diff)\n",
        "        cipher_text += char\n",
        "      elif code < 122 and new_code > 122:\n",
        "        diff = new_code - 122\n",
        "        char = chr(96 + diff)\n",
        "        cipher_text += char\n",
        "      else:\n",
        "        cipher_text += chr(new_code)\n",
        "    else:\n",
        "      cipher_text += char\n",
        "\n",
        "  return cipher_text"
      ],
      "metadata": {
        "id": "LvfwCYXVAvV2"
      },
      "execution_count": 32,
      "outputs": []
    },
    {
      "cell_type": "code",
      "source": [
        "new_string = 'Once upon'\n",
        "shift = caesar_cipher(new_string, 5)\n",
        "shift"
      ],
      "metadata": {
        "colab": {
          "base_uri": "https://localhost:8080/",
          "height": 35
        },
        "id": "pMBncsJBdR6j",
        "outputId": "cc202947-a28f-45e5-d6fa-71b0956bf7bf"
      },
      "execution_count": 33,
      "outputs": [
        {
          "output_type": "execute_result",
          "data": {
            "text/plain": [
              "'Tshj zuts'"
            ],
            "application/vnd.google.colaboratory.intrinsic+json": {
              "type": "string"
            }
          },
          "metadata": {},
          "execution_count": 33
        }
      ]
    },
    {
      "cell_type": "code",
      "source": [
        "basker = '''I confess at these words a shudder passed\n",
        "through me. There was a thrill in the doctor’s voice\n",
        "which showed that he was himself deeply moved\n",
        "by that which he told us. Holmes leaned forward\n",
        "in his excitement and his eyes had the hard, dry\n",
        "glitter which shot from them when he was keenly\n",
        "interested.'''\n",
        "\n",
        "encrypt_basker = caesar_cipher(basker, 10)\n",
        "print(encrypt_basker)"
      ],
      "metadata": {
        "colab": {
          "base_uri": "https://localhost:8080/"
        },
        "id": "-w0Qjn1wdekA",
        "outputId": "3be58713-e8a6-4607-9fa1-e2e68c464520"
      },
      "execution_count": 34,
      "outputs": [
        {
          "output_type": "stream",
          "name": "stdout",
          "text": [
            "S myxpocc kd droco gybnc k crennob zkccon\n",
            "drbyeqr wo. Drobo gkc k drbsvv sx dro nymdyb’c fysmo\n",
            "grsmr crygon drkd ro gkc rswcovp noozvi wyfon\n",
            "li drkd grsmr ro dyvn ec. Ryvwoc vokxon pybgkbn\n",
            "sx rsc ohmsdowoxd kxn rsc oioc rkn dro rkbn, nbi\n",
            "qvsddob grsmr cryd pbyw drow grox ro gkc uooxvi\n",
            "sxdobocdon.\n"
          ]
        }
      ]
    },
    {
      "cell_type": "code",
      "source": [
        "print(caesar_cipher(encrypt_basker, -10))"
      ],
      "metadata": {
        "colab": {
          "base_uri": "https://localhost:8080/"
        },
        "id": "JjcBErkyeDLQ",
        "outputId": "958a7eb0-7614-41b6-c8b0-d82aa387eb2a"
      },
      "execution_count": 35,
      "outputs": [
        {
          "output_type": "stream",
          "name": "stdout",
          "text": [
            "I confeYY aZ ZheYe ]oXdY a Yh[ddeX paYYed\n",
            "ZhXo[gh me. :heXe ]aY a ZhXill in Zhe docZoX’Y \\oice\n",
            "]hich Yho]ed ZhaZ he ]aY himYelf deepl_ mo\\ed\n",
            "b_ ZhaZ ]hich he Zold [Y. HolmeY leaned foX]aXd\n",
            "in hiY e^ciZemenZ and hiY e_eY had Zhe haXd, dX_\n",
            "gliZZeX ]hich YhoZ fXom Zhem ]hen he ]aY keenl_\n",
            "inZeXeYZed.\n"
          ]
        }
      ]
    }
  ],
  "metadata": {
    "colab": {
      "provenance": [],
      "authorship_tag": "ABX9TyNsT93LPTU2M72VUjo2rYZi",
      "include_colab_link": true
    },
    "kernelspec": {
      "display_name": "Python 3",
      "name": "python3"
    },
    "language_info": {
      "name": "python"
    }
  },
  "nbformat": 4,
  "nbformat_minor": 0
}