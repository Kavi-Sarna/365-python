{
  "cells": [
    {
      "cell_type": "markdown",
      "metadata": {
        "id": "view-in-github",
        "colab_type": "text"
      },
      "source": [
        "<a href=\"https://colab.research.google.com/github/Kavi-Sarna/365-python/blob/main/3%20-%20Python%20Programmer%20Bootcamp/8%20-%20Problems/3%20-%20Playing%20Card.ipynb\" target=\"_parent\"><img src=\"https://colab.research.google.com/assets/colab-badge.svg\" alt=\"Open In Colab\"/></a>"
      ]
    },
    {
      "cell_type": "code",
      "source": [
        "class Card(object):\n",
        "  suits = {\n",
        "      'd': 'Diamonds',\n",
        "      'h': 'Hearts',\n",
        "      'c': 'Clubs',\n",
        "      's': 'Spades'\n",
        "    }\n",
        "  values = {\n",
        "      1: 'Ace',\n",
        "      2: 'Two',\n",
        "      3: 'Three',\n",
        "      4: 'Four',\n",
        "      5: 'Five',\n",
        "      6: 'Six',\n",
        "      7: 'Seven',\n",
        "      8: 'Eight',\n",
        "      9: 'Nine',\n",
        "      10: 'Ten',\n",
        "      11: 'Jack',\n",
        "      12: 'Queen',\n",
        "      13: 'King'\n",
        "    }\n",
        "\n",
        "  def __init__(self, value, suit):\n",
        "    if suit in self.suits.keys():\n",
        "      self.suit = self.suits[suit]\n",
        "    elif suit in self.suits.values():\n",
        "      self.suit = suit\n",
        "    else:\n",
        "      print('Not a valid suit')\n",
        "\n",
        "    if value in self.values.keys():\n",
        "      self.value = self.values[value]\n",
        "    elif value in self.values.values():\n",
        "      self.value = value\n",
        "    else:\n",
        "      print('Not a valid Value')\n",
        "\n",
        "  def get_value(self):\n",
        "    return self.value\n",
        "\n",
        "  def get_suit(self):\n",
        "    return self.suit\n",
        "\n",
        "  def __str__(self):\n",
        "    return f'{self.value} of {self.suit}'"
      ],
      "metadata": {
        "id": "mYQO39w2oKgF"
      },
      "execution_count": 77,
      "outputs": []
    },
    {
      "cell_type": "code",
      "source": [
        "my_card = Card(3, 'd')\n",
        "print(my_card)"
      ],
      "metadata": {
        "colab": {
          "base_uri": "https://localhost:8080/"
        },
        "id": "iQ0-r-U4oyjd",
        "outputId": "5db16c7d-479a-4eb5-91c0-fce406fbd562"
      },
      "execution_count": 81,
      "outputs": [
        {
          "output_type": "stream",
          "name": "stdout",
          "text": [
            "Three of Diamonds\n"
          ]
        }
      ]
    },
    {
      "cell_type": "code",
      "source": [
        "my_card_2 = Card(1, 'h')\n",
        "print(my_card_2)"
      ],
      "metadata": {
        "colab": {
          "base_uri": "https://localhost:8080/"
        },
        "id": "KGGyrvCIr9jx",
        "outputId": "11a67c3e-08a3-4633-d855-351898d9f58d"
      },
      "execution_count": 82,
      "outputs": [
        {
          "output_type": "stream",
          "name": "stdout",
          "text": [
            "Ace of Hearts\n"
          ]
        }
      ]
    },
    {
      "cell_type": "code",
      "source": [
        "my_card_3 = Card(11, 's')\n",
        "print(my_card_3)"
      ],
      "metadata": {
        "colab": {
          "base_uri": "https://localhost:8080/"
        },
        "id": "xDBmNYaqsEyg",
        "outputId": "44c011d5-2020-47fc-8a41-fc09b78de220"
      },
      "execution_count": 83,
      "outputs": [
        {
          "output_type": "stream",
          "name": "stdout",
          "text": [
            "Jack of Spades\n"
          ]
        }
      ]
    }
  ],
  "metadata": {
    "colab": {
      "provenance": [],
      "authorship_tag": "ABX9TyOHkuBCQk6GmfKbNjBzTmTb",
      "include_colab_link": true
    },
    "kernelspec": {
      "display_name": "Python 3",
      "name": "python3"
    },
    "language_info": {
      "name": "python"
    }
  },
  "nbformat": 4,
  "nbformat_minor": 0
}