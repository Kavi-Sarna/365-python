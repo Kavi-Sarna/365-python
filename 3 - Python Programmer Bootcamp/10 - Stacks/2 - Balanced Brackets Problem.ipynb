{
  "cells": [
    {
      "cell_type": "markdown",
      "metadata": {
        "id": "view-in-github",
        "colab_type": "text"
      },
      "source": [
        "<a href=\"https://colab.research.google.com/github/Kavi-Sarna/365-python/blob/main/3%20-%20Python%20Programmer%20Bootcamp/10%20-%20Stacks/2%20-%20Balanced%20Brackets%20Problem.ipynb\" target=\"_parent\"><img src=\"https://colab.research.google.com/assets/colab-badge.svg\" alt=\"Open In Colab\"/></a>"
      ]
    },
    {
      "cell_type": "markdown",
      "source": [
        "Stacks Balanced Brackets Problem"
      ],
      "metadata": {
        "id": "QYMzFKvch3BZ"
      }
    },
    {
      "cell_type": "code",
      "source": [
        "def balanced_brackets(s):\n",
        "  stack = []\n",
        "  brackets = {\n",
        "      '(': ')',\n",
        "      '[': ']',\n",
        "      '{': '}'\n",
        "    }\n",
        "\n",
        "  for char in s:\n",
        "    if char in brackets.keys():\n",
        "      stack.append(char)\n",
        "    else:\n",
        "      if len(stack) == 0 or brackets[stack.pop()] != char:\n",
        "        return False\n",
        "\n",
        "  return len(stack) == 0"
      ],
      "metadata": {
        "id": "Jp1cNRdGumSr"
      },
      "execution_count": 1,
      "outputs": []
    },
    {
      "cell_type": "code",
      "source": [
        "brackets_1 = '{[({})]}'\n",
        "balanced_brackets(brackets_1)"
      ],
      "metadata": {
        "colab": {
          "base_uri": "https://localhost:8080/"
        },
        "id": "Urk5ritWv-g6",
        "outputId": "598b4dba-671a-4522-97b4-171227399569"
      },
      "execution_count": 2,
      "outputs": [
        {
          "output_type": "execute_result",
          "data": {
            "text/plain": [
              "True"
            ]
          },
          "metadata": {},
          "execution_count": 2
        }
      ]
    },
    {
      "cell_type": "code",
      "source": [
        "brackets_2 = '[[({}())][]]'\n",
        "balanced_brackets(brackets_2)"
      ],
      "metadata": {
        "colab": {
          "base_uri": "https://localhost:8080/"
        },
        "id": "STCnk2x1wDOl",
        "outputId": "595d38ee-c2d7-4a59-a050-81fda7d8e8d0"
      },
      "execution_count": 3,
      "outputs": [
        {
          "output_type": "execute_result",
          "data": {
            "text/plain": [
              "True"
            ]
          },
          "metadata": {},
          "execution_count": 3
        }
      ]
    },
    {
      "cell_type": "code",
      "source": [
        "brackets_3 = '[({)})]'\n",
        "balanced_brackets(brackets_3)"
      ],
      "metadata": {
        "colab": {
          "base_uri": "https://localhost:8080/"
        },
        "id": "SPtiy6hZTcVk",
        "outputId": "1542eefd-cc6c-49f8-9111-81b32963fdac"
      },
      "execution_count": 4,
      "outputs": [
        {
          "output_type": "execute_result",
          "data": {
            "text/plain": [
              "False"
            ]
          },
          "metadata": {},
          "execution_count": 4
        }
      ]
    },
    {
      "cell_type": "code",
      "source": [
        "brackets_4 = '][[({})]]'\n",
        "balanced_brackets(brackets_4)"
      ],
      "metadata": {
        "colab": {
          "base_uri": "https://localhost:8080/"
        },
        "id": "oLn77Y-FTjFb",
        "outputId": "4b5aaba2-6471-4c7c-9021-97197385cca3"
      },
      "execution_count": 5,
      "outputs": [
        {
          "output_type": "execute_result",
          "data": {
            "text/plain": [
              "False"
            ]
          },
          "metadata": {},
          "execution_count": 5
        }
      ]
    }
  ],
  "metadata": {
    "colab": {
      "provenance": [],
      "authorship_tag": "ABX9TyMZLMSAgLNtrZsphH2f/122",
      "include_colab_link": true
    },
    "kernelspec": {
      "display_name": "Python 3",
      "name": "python3"
    },
    "language_info": {
      "name": "python"
    }
  },
  "nbformat": 4,
  "nbformat_minor": 0
}