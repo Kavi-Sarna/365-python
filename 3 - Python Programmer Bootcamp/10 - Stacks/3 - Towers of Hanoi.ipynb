{
  "cells": [
    {
      "cell_type": "markdown",
      "metadata": {
        "id": "view-in-github",
        "colab_type": "text"
      },
      "source": [
        "<a href=\"https://colab.research.google.com/github/Kavi-Sarna/365-python/blob/main/3%20-%20Python%20Programmer%20Bootcamp/10%20-%20Stacks/3%20-%20Towers%20of%20Hanoi.ipynb\" target=\"_parent\"><img src=\"https://colab.research.google.com/assets/colab-badge.svg\" alt=\"Open In Colab\"/></a>"
      ]
    },
    {
      "cell_type": "markdown",
      "source": [
        "Towers of Hanoi"
      ],
      "metadata": {
        "id": "QYMzFKvch3BZ"
      }
    },
    {
      "cell_type": "code",
      "source": [
        "count = 0\n",
        "def towers_of_hanoi(A, B, C, n):\n",
        "  global count\n",
        "\n",
        "  if n == 1:\n",
        "    disk = A.pop()\n",
        "    C.append(disk)\n",
        "    count += 1\n",
        "  else:\n",
        "    towers_of_hanoi(A, C, B, n-1)\n",
        "\n",
        "    towers_of_hanoi(A, B, C, 1)\n",
        "\n",
        "    towers_of_hanoi(B, A, C, n-1)\n",
        "\n",
        "  return count"
      ],
      "metadata": {
        "id": "MIK8rSXvYWXc"
      },
      "execution_count": 6,
      "outputs": []
    },
    {
      "cell_type": "code",
      "source": [
        "A = [3, 2, 1]\n",
        "B = []\n",
        "C = []\n",
        "\n",
        "towers_of_hanoi(A, B, C, len(A))"
      ],
      "metadata": {
        "colab": {
          "base_uri": "https://localhost:8080/"
        },
        "id": "YHrkE931ZECS",
        "outputId": "739baf45-0bc2-4869-a9f9-09a41784ae8e"
      },
      "execution_count": 7,
      "outputs": [
        {
          "output_type": "execute_result",
          "data": {
            "text/plain": [
              "7"
            ]
          },
          "metadata": {},
          "execution_count": 7
        }
      ]
    },
    {
      "cell_type": "code",
      "source": [
        "count = 0\n",
        "A = [14, 13, 12, 11, 10, 9, 8, 7, 6, 5, 4, 3, 2, 1]\n",
        "B = []\n",
        "C = []\n",
        "\n",
        "towers_of_hanoi(A, B, C, len(A))"
      ],
      "metadata": {
        "colab": {
          "base_uri": "https://localhost:8080/"
        },
        "id": "pt5fAIGtZOjP",
        "outputId": "2eb6200e-003d-4489-d45a-9ce662788122"
      },
      "execution_count": 9,
      "outputs": [
        {
          "output_type": "execute_result",
          "data": {
            "text/plain": [
              "16383"
            ]
          },
          "metadata": {},
          "execution_count": 9
        }
      ]
    },
    {
      "cell_type": "code",
      "source": [
        "count = 0\n",
        "A = [9, 8, 7, 6, 5, 4, 3, 2, 1]\n",
        "B = []\n",
        "C = []\n",
        "\n",
        "towers_of_hanoi(A, B, C, len(A))"
      ],
      "metadata": {
        "colab": {
          "base_uri": "https://localhost:8080/"
        },
        "id": "XZLbdUE7ZaMv",
        "outputId": "f18ca582-2b3f-4616-f233-f7b454d6afda"
      },
      "execution_count": 10,
      "outputs": [
        {
          "output_type": "execute_result",
          "data": {
            "text/plain": [
              "511"
            ]
          },
          "metadata": {},
          "execution_count": 10
        }
      ]
    }
  ],
  "metadata": {
    "colab": {
      "provenance": [],
      "authorship_tag": "ABX9TyO2vW7kI/L9JsX2rRusRtYb",
      "include_colab_link": true
    },
    "kernelspec": {
      "display_name": "Python 3",
      "name": "python3"
    },
    "language_info": {
      "name": "python"
    }
  },
  "nbformat": 4,
  "nbformat_minor": 0
}