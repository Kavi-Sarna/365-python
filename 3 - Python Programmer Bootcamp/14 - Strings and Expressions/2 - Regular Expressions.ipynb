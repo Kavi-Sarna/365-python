{
  "nbformat": 4,
  "nbformat_minor": 0,
  "metadata": {
    "colab": {
      "provenance": [],
      "authorship_tag": "ABX9TyPpp8pFUGzenPQ8ihanb2qg",
      "include_colab_link": true
    },
    "kernelspec": {
      "name": "python3",
      "display_name": "Python 3"
    },
    "language_info": {
      "name": "python"
    }
  },
  "cells": [
    {
      "cell_type": "markdown",
      "metadata": {
        "id": "view-in-github",
        "colab_type": "text"
      },
      "source": [
        "<a href=\"https://colab.research.google.com/github/Kavi-Sarna/365-python/blob/main/3%20-%20Python%20Programmer%20Bootcamp/14%20-%20Strings%20and%20Expressions/2%20-%20Regular%20Expressions.ipynb\" target=\"_parent\"><img src=\"https://colab.research.google.com/assets/colab-badge.svg\" alt=\"Open In Colab\"/></a>"
      ]
    },
    {
      "cell_type": "markdown",
      "source": [
        "## Regular Expressions<br>\n",
        "<b> For more information, go to <a href ='https://docs.python.org/3/howto/regex.html'> Python Docs </a>"
      ],
      "metadata": {
        "id": "9sG-8MH6_MFq"
      }
    },
    {
      "cell_type": "markdown",
      "source": [
        "<b>[aeiou]</b>\tMatch any vowel <br>\n",
        "<b>[^aeiou]\t</b> ^ inverts selection, this matches any consonant<br>\n",
        "<b>[a-z]</b> Match any lowercase leter from a-z<br>\n",
        "<b>\\d</b> Matches any decimal digit; this is equivalent to the class [0-9]<br>\n",
        "<b>\\D</b> Matches any non-digit character; this is equivalent to the class [^0-9]<br>\n",
        "<b>\\s</b> Matches any whitespace character; this is equivalent to the class [ \\t\\n\\r\\f\\v]<br>\n",
        "<b>\\S</b> Matches any non-whitespace character; this is equivalent to the class [^ \\t\\n\\r\\f\\v]<br>\n",
        "<b>\\w</b> Matches any alphanumeric character; this is equivalent to the class [a-zA-Z0-9_]<br>\n",
        "<b>\\W</b> Matches any non-alphanumeric character; this is equivalent to the class [^a-zA-Z0-9_]"
      ],
      "metadata": {
        "id": "2nvHgrMw_Nr_"
      }
    },
    {
      "cell_type": "markdown",
      "source": [
        "## Repetition\n",
        "<b>?</b> Match 0 or 1 of the preceeding group<br>\n",
        "<b>*</b> Match 0 or more of the preceeding group<br>\n",
        "<b>+</b> Match 1 or more of the preceeding group<br>\n",
        "<b>{n}</b> Match exactly n of the preceeding group<br>\n",
        "<b>^string</b> String must begin with <i>string</i><br>\n",
        "<b>string$ </b> String must end with <i>string</i><br>"
      ],
      "metadata": {
        "id": "qyVqAHKb_QLx"
      }
    },
    {
      "cell_type": "markdown",
      "source": [
        "## re module in python\n",
        "### We first have to import the module and then compile a pattern"
      ],
      "metadata": {
        "id": "-6xVZiNW_SxK"
      }
    },
    {
      "cell_type": "code",
      "source": [
        "import re\n",
        "pattern_1 = re.compile(r'kavi')\n",
        "pattern_1"
      ],
      "metadata": {
        "colab": {
          "base_uri": "https://localhost:8080/"
        },
        "id": "SBmUFdGn-29P",
        "outputId": "a9f31ad5-1196-404b-f2a7-15457a9b6492"
      },
      "execution_count": 2,
      "outputs": [
        {
          "output_type": "execute_result",
          "data": {
            "text/plain": [
              "re.compile(r'kavi', re.UNICODE)"
            ]
          },
          "metadata": {},
          "execution_count": 2
        }
      ]
    },
    {
      "cell_type": "code",
      "source": [
        "pattern_1.match('kavi')"
      ],
      "metadata": {
        "colab": {
          "base_uri": "https://localhost:8080/"
        },
        "id": "uXQhv9UCAZY0",
        "outputId": "8541c5e3-f46f-42fc-c044-0d3cc4abbf42"
      },
      "execution_count": 3,
      "outputs": [
        {
          "output_type": "execute_result",
          "data": {
            "text/plain": [
              "<re.Match object; span=(0, 4), match='kavi'>"
            ]
          },
          "metadata": {},
          "execution_count": 3
        }
      ]
    },
    {
      "cell_type": "code",
      "source": [
        "me = pattern_1.match('kavi')\n",
        "me.group()"
      ],
      "metadata": {
        "colab": {
          "base_uri": "https://localhost:8080/",
          "height": 35
        },
        "id": "p45byGsKAeae",
        "outputId": "5e30bc9c-8a34-45a8-8fb4-773e7c60e653"
      },
      "execution_count": 4,
      "outputs": [
        {
          "output_type": "execute_result",
          "data": {
            "text/plain": [
              "'kavi'"
            ],
            "application/vnd.google.colaboratory.intrinsic+json": {
              "type": "string"
            }
          },
          "metadata": {},
          "execution_count": 4
        }
      ]
    },
    {
      "cell_type": "code",
      "source": [
        "me_2 = pattern_1.match('Hello kavi')\n",
        "me_2.group()"
      ],
      "metadata": {
        "colab": {
          "base_uri": "https://localhost:8080/",
          "height": 193
        },
        "id": "hbr5pRBVAmWM",
        "outputId": "c030ccb0-ff4f-4a03-ef89-83379a32bd11"
      },
      "execution_count": 5,
      "outputs": [
        {
          "output_type": "error",
          "ename": "AttributeError",
          "evalue": "ignored",
          "traceback": [
            "\u001b[0;31m---------------------------------------------------------------------------\u001b[0m",
            "\u001b[0;31mAttributeError\u001b[0m                            Traceback (most recent call last)",
            "\u001b[0;32m<ipython-input-5-761d9d5f68b5>\u001b[0m in \u001b[0;36m<cell line: 2>\u001b[0;34m()\u001b[0m\n\u001b[1;32m      1\u001b[0m \u001b[0mme_2\u001b[0m \u001b[0;34m=\u001b[0m \u001b[0mpattern_1\u001b[0m\u001b[0;34m.\u001b[0m\u001b[0mmatch\u001b[0m\u001b[0;34m(\u001b[0m\u001b[0;34m'Hello kavi'\u001b[0m\u001b[0;34m)\u001b[0m\u001b[0;34m\u001b[0m\u001b[0;34m\u001b[0m\u001b[0m\n\u001b[0;32m----> 2\u001b[0;31m \u001b[0mme_2\u001b[0m\u001b[0;34m.\u001b[0m\u001b[0mgroup\u001b[0m\u001b[0;34m(\u001b[0m\u001b[0;34m)\u001b[0m\u001b[0;34m\u001b[0m\u001b[0;34m\u001b[0m\u001b[0m\n\u001b[0m",
            "\u001b[0;31mAttributeError\u001b[0m: 'NoneType' object has no attribute 'group'"
          ]
        }
      ]
    },
    {
      "cell_type": "code",
      "source": [
        "me_3 = pattern_1.search('Hello kavi')\n",
        "me_3.group()"
      ],
      "metadata": {
        "colab": {
          "base_uri": "https://localhost:8080/",
          "height": 35
        },
        "id": "namQmkEGAyC2",
        "outputId": "bf60f005-c804-4f15-9998-d61e48fd1e2f"
      },
      "execution_count": 6,
      "outputs": [
        {
          "output_type": "execute_result",
          "data": {
            "text/plain": [
              "'kavi'"
            ],
            "application/vnd.google.colaboratory.intrinsic+json": {
              "type": "string"
            }
          },
          "metadata": {},
          "execution_count": 6
        }
      ]
    },
    {
      "cell_type": "code",
      "source": [
        "me_4 = pattern_1.match('kavi hello')\n",
        "me_4.group()"
      ],
      "metadata": {
        "colab": {
          "base_uri": "https://localhost:8080/",
          "height": 35
        },
        "id": "ZRJXHU8cA-rk",
        "outputId": "c444949c-f533-457b-ac71-dd59a0ed2e40"
      },
      "execution_count": 7,
      "outputs": [
        {
          "output_type": "execute_result",
          "data": {
            "text/plain": [
              "'kavi'"
            ],
            "application/vnd.google.colaboratory.intrinsic+json": {
              "type": "string"
            }
          },
          "metadata": {},
          "execution_count": 7
        }
      ]
    },
    {
      "cell_type": "code",
      "source": [],
      "metadata": {
        "id": "QMEwjf1EBF-d"
      },
      "execution_count": 7,
      "outputs": []
    },
    {
      "cell_type": "code",
      "source": [
        "pattern_2 = re.compile(r'k\\D')"
      ],
      "metadata": {
        "id": "nD3bZVBcBYqS"
      },
      "execution_count": 9,
      "outputs": []
    },
    {
      "cell_type": "code",
      "source": [
        "m_1 = pattern_2.match('kavi1234')\n",
        "print(m_1)\n",
        "m_1.group()"
      ],
      "metadata": {
        "colab": {
          "base_uri": "https://localhost:8080/",
          "height": 53
        },
        "id": "MBeU0cL_BepT",
        "outputId": "7d146c26-8f1a-4734-f166-23ffb2837a51"
      },
      "execution_count": 15,
      "outputs": [
        {
          "output_type": "stream",
          "name": "stdout",
          "text": [
            "<re.Match object; span=(0, 2), match='ka'>\n"
          ]
        },
        {
          "output_type": "execute_result",
          "data": {
            "text/plain": [
              "'ka'"
            ],
            "application/vnd.google.colaboratory.intrinsic+json": {
              "type": "string"
            }
          },
          "metadata": {},
          "execution_count": 15
        }
      ]
    },
    {
      "cell_type": "code",
      "source": [
        "m_2 = pattern_2.match('k1234')\n",
        "print(m_2)"
      ],
      "metadata": {
        "colab": {
          "base_uri": "https://localhost:8080/"
        },
        "id": "HnMzTNiABmP_",
        "outputId": "3880687e-5933-429d-98d0-5d09b8c146a6"
      },
      "execution_count": 13,
      "outputs": [
        {
          "output_type": "stream",
          "name": "stdout",
          "text": [
            "None\n"
          ]
        }
      ]
    },
    {
      "cell_type": "code",
      "source": [],
      "metadata": {
        "id": "Zy5adxDuBxJ8"
      },
      "execution_count": 15,
      "outputs": []
    },
    {
      "cell_type": "code",
      "source": [
        "pattern_3 = re.compile(r'k\\D+')"
      ],
      "metadata": {
        "id": "6wOScT54CDxc"
      },
      "execution_count": 16,
      "outputs": []
    },
    {
      "cell_type": "code",
      "source": [
        "p_1 = pattern_3.match('kavi1234')\n",
        "print(p_1)\n",
        "p_1.group()"
      ],
      "metadata": {
        "colab": {
          "base_uri": "https://localhost:8080/",
          "height": 53
        },
        "id": "Rz3Iq_gcCI28",
        "outputId": "203c27ba-1751-4960-c4c4-3d0521193693"
      },
      "execution_count": 18,
      "outputs": [
        {
          "output_type": "stream",
          "name": "stdout",
          "text": [
            "<re.Match object; span=(0, 4), match='kavi'>\n"
          ]
        },
        {
          "output_type": "execute_result",
          "data": {
            "text/plain": [
              "'kavi'"
            ],
            "application/vnd.google.colaboratory.intrinsic+json": {
              "type": "string"
            }
          },
          "metadata": {},
          "execution_count": 18
        }
      ]
    },
    {
      "cell_type": "code",
      "source": [],
      "metadata": {
        "id": "bP3-B20eCNto"
      },
      "execution_count": 18,
      "outputs": []
    },
    {
      "cell_type": "code",
      "source": [
        "pattern_4 = re.compile(r'k\\w')"
      ],
      "metadata": {
        "id": "HLC13Hb7CaWV"
      },
      "execution_count": 19,
      "outputs": []
    },
    {
      "cell_type": "code",
      "source": [
        "pattern_4.match('kavi1234')"
      ],
      "metadata": {
        "colab": {
          "base_uri": "https://localhost:8080/"
        },
        "id": "0d-VbceyCe7h",
        "outputId": "fd30cb27-6f5f-4c94-c805-108ebd97a124"
      },
      "execution_count": 20,
      "outputs": [
        {
          "output_type": "execute_result",
          "data": {
            "text/plain": [
              "<re.Match object; span=(0, 2), match='ka'>"
            ]
          },
          "metadata": {},
          "execution_count": 20
        }
      ]
    },
    {
      "cell_type": "code",
      "source": [],
      "metadata": {
        "id": "N-7EwNejCj3u"
      },
      "execution_count": 20,
      "outputs": []
    },
    {
      "cell_type": "code",
      "source": [
        "pattern_5 = re.compile(f'k\\w+')"
      ],
      "metadata": {
        "id": "01VF9I-9Clln"
      },
      "execution_count": 21,
      "outputs": []
    },
    {
      "cell_type": "code",
      "source": [
        "pattern_5.match('kavi1234')"
      ],
      "metadata": {
        "colab": {
          "base_uri": "https://localhost:8080/"
        },
        "id": "YdvBUi_RCqEp",
        "outputId": "200e1787-2206-4c7c-eab8-0fffb4dbd235"
      },
      "execution_count": 22,
      "outputs": [
        {
          "output_type": "execute_result",
          "data": {
            "text/plain": [
              "<re.Match object; span=(0, 8), match='kavi1234'>"
            ]
          },
          "metadata": {},
          "execution_count": 22
        }
      ]
    },
    {
      "cell_type": "code",
      "source": [],
      "metadata": {
        "id": "a7rkQY1XCtz7"
      },
      "execution_count": 22,
      "outputs": []
    },
    {
      "cell_type": "code",
      "source": [
        "string = '''image01.jpg,image01.png,image02.jpg,my_doc.doc,my_doc2.docx,london_bridge.gif, another_doc.doc,my_pdf.pdf'''"
      ],
      "metadata": {
        "id": "DtUIjC2WC4op"
      },
      "execution_count": 23,
      "outputs": []
    },
    {
      "cell_type": "code",
      "source": [
        "pattern_6 = re.compile(r'(\\w+)\\.(jpg|png|gif)')"
      ],
      "metadata": {
        "id": "AhSDaT8SC5gY"
      },
      "execution_count": 24,
      "outputs": []
    },
    {
      "cell_type": "code",
      "source": [
        "for m in re.finditer(pattern_6, string):\n",
        "  print(m.group())"
      ],
      "metadata": {
        "colab": {
          "base_uri": "https://localhost:8080/"
        },
        "id": "LMoJMsOkDGeK",
        "outputId": "2f43ca7b-5b7b-4294-8d4e-b5a79b5493ea"
      },
      "execution_count": 25,
      "outputs": [
        {
          "output_type": "stream",
          "name": "stdout",
          "text": [
            "image01.jpg\n",
            "image01.png\n",
            "image02.jpg\n",
            "london_bridge.gif\n"
          ]
        }
      ]
    }
  ]
}