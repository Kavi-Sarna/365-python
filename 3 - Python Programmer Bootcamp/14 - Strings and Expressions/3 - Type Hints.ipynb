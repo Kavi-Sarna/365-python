{
  "nbformat": 4,
  "nbformat_minor": 0,
  "metadata": {
    "colab": {
      "provenance": [],
      "authorship_tag": "ABX9TyMB3lQ0NfsOsVl8mLKrc0L9",
      "include_colab_link": true
    },
    "kernelspec": {
      "name": "python3",
      "display_name": "Python 3"
    },
    "language_info": {
      "name": "python"
    }
  },
  "cells": [
    {
      "cell_type": "markdown",
      "metadata": {
        "id": "view-in-github",
        "colab_type": "text"
      },
      "source": [
        "<a href=\"https://colab.research.google.com/github/Kavi-Sarna/365-python/blob/main/3%20-%20Python%20Programmer%20Bootcamp/14%20-%20Strings%20and%20Expressions/3%20-%20Type%20Hints.ipynb\" target=\"_parent\"><img src=\"https://colab.research.google.com/assets/colab-badge.svg\" alt=\"Open In Colab\"/></a>"
      ]
    },
    {
      "cell_type": "markdown",
      "source": [
        "# Type hints\n",
        "For more information see <a href='https://docs.python.org/3/library/typing.html'>Python Docs</a>"
      ],
      "metadata": {
        "id": "Tig2JhQwD-_f"
      }
    },
    {
      "cell_type": "code",
      "source": [
        "def hello_1(name):\n",
        "  return f'Hello {name}'"
      ],
      "metadata": {
        "id": "zLoKGUPmEAGU"
      },
      "execution_count": 1,
      "outputs": []
    },
    {
      "cell_type": "markdown",
      "source": [
        "### With type hints"
      ],
      "metadata": {
        "id": "edMW5LwGEXzQ"
      }
    },
    {
      "cell_type": "code",
      "source": [
        "def hello_2(name: str) -> str:\n",
        "  return f'Hello {name}'"
      ],
      "metadata": {
        "id": "NPUINiznEV3Q"
      },
      "execution_count": 2,
      "outputs": []
    },
    {
      "cell_type": "code",
      "source": [],
      "metadata": {
        "id": "SSaiPwFdEkTc"
      },
      "execution_count": 2,
      "outputs": []
    },
    {
      "cell_type": "code",
      "source": [
        "hello_1('Kavi')"
      ],
      "metadata": {
        "colab": {
          "base_uri": "https://localhost:8080/",
          "height": 35
        },
        "id": "Y-PPtqJLEo1W",
        "outputId": "d7a41284-fdcf-43a1-cb51-d13ff192980c"
      },
      "execution_count": 3,
      "outputs": [
        {
          "output_type": "execute_result",
          "data": {
            "text/plain": [
              "'Hello Kavi'"
            ],
            "application/vnd.google.colaboratory.intrinsic+json": {
              "type": "string"
            }
          },
          "metadata": {},
          "execution_count": 3
        }
      ]
    },
    {
      "cell_type": "code",
      "source": [
        "hello_2('Kavi')"
      ],
      "metadata": {
        "colab": {
          "base_uri": "https://localhost:8080/",
          "height": 35
        },
        "id": "tEUVt0tSErv7",
        "outputId": "76ac980e-08e9-4be5-d843-8d1e2aa65cc9"
      },
      "execution_count": 4,
      "outputs": [
        {
          "output_type": "execute_result",
          "data": {
            "text/plain": [
              "'Hello Kavi'"
            ],
            "application/vnd.google.colaboratory.intrinsic+json": {
              "type": "string"
            }
          },
          "metadata": {},
          "execution_count": 4
        }
      ]
    }
  ]
}