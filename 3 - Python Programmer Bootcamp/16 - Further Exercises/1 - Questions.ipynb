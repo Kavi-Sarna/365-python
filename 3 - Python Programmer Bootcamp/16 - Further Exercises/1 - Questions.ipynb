{
  "nbformat": 4,
  "nbformat_minor": 0,
  "metadata": {
    "colab": {
      "provenance": [],
      "authorship_tag": "ABX9TyPt4n8nwINOS/A0/CUEYhP+",
      "include_colab_link": true
    },
    "kernelspec": {
      "name": "python3",
      "display_name": "Python 3"
    },
    "language_info": {
      "name": "python"
    }
  },
  "cells": [
    {
      "cell_type": "markdown",
      "metadata": {
        "id": "view-in-github",
        "colab_type": "text"
      },
      "source": [
        "<a href=\"https://colab.research.google.com/github/Kavi-Sarna/365-python/blob/main/3%20-%20Python%20Programmer%20Bootcamp/16%20-%20Further%20Exercises/1%20-%20Questions.ipynb\" target=\"_parent\"><img src=\"https://colab.research.google.com/assets/colab-badge.svg\" alt=\"Open In Colab\"/></a>"
      ]
    },
    {
      "cell_type": "markdown",
      "source": [
        "Question 1\n",
        "\n",
        "Can you write a short program that will print out the version of Python\n",
        "that you are using?"
      ],
      "metadata": {
        "id": "VoDFtHfQjqW4"
      }
    },
    {
      "cell_type": "code",
      "source": [
        "%%python --version"
      ],
      "metadata": {
        "colab": {
          "base_uri": "https://localhost:8080/"
        },
        "id": "NnBXva9Qjx2N",
        "outputId": "c9be2790-badc-41d6-d2d3-cdeeead54c7e"
      },
      "execution_count": null,
      "outputs": [
        {
          "output_type": "stream",
          "name": "stdout",
          "text": [
            "Python 3.10.12\n"
          ]
        }
      ]
    },
    {
      "cell_type": "code",
      "source": [
        "import sys"
      ],
      "metadata": {
        "id": "pWSPueX7j0bs"
      },
      "execution_count": null,
      "outputs": []
    },
    {
      "cell_type": "code",
      "source": [
        "print(sys.version)"
      ],
      "metadata": {
        "colab": {
          "base_uri": "https://localhost:8080/"
        },
        "id": "uug38jwQj27P",
        "outputId": "fbf3b3fc-9885-4d88-9b9b-ed156ae4217d"
      },
      "execution_count": null,
      "outputs": [
        {
          "output_type": "stream",
          "name": "stdout",
          "text": [
            "3.10.12 (main, Nov 20 2023, 15:14:05) [GCC 11.4.0]\n"
          ]
        }
      ]
    },
    {
      "cell_type": "markdown",
      "source": [
        "Question 2\n",
        "\n",
        "Write a program that requests five names separated by commas and create a list containing those names.\n",
        "\n",
        "Print your answer.\n",
        "\n",
        "For example James,Alison,Fred,Sally,Matthew should return ['James', 'Alison', 'Fred', 'Sally', 'Matthew']"
      ],
      "metadata": {
        "id": "TYVkus23kAVH"
      }
    },
    {
      "cell_type": "code",
      "source": [
        "names = input('Please enter 5 names separated by commas')\n",
        "print(names)\n",
        "print(names.split(','))"
      ],
      "metadata": {
        "colab": {
          "base_uri": "https://localhost:8080/"
        },
        "id": "fShFzFpgj6cg",
        "outputId": "f353285d-288d-4933-b28c-82cb6f141803"
      },
      "execution_count": null,
      "outputs": [
        {
          "output_type": "stream",
          "name": "stdout",
          "text": [
            "Please enter 5 names separated by commasJames,Alison,Fred,Sally,Matthew\n",
            "James,Alison,Fred,Sally,Matthew\n",
            "['James', 'Alison', 'Fred', 'Sally', 'Matthew']\n"
          ]
        }
      ]
    },
    {
      "cell_type": "markdown",
      "source": [
        "Question 3\n",
        "\n",
        "Write a program to determine whether a given number is within 10 of 100 or 200."
      ],
      "metadata": {
        "id": "N8AJS979kpoe"
      }
    },
    {
      "cell_type": "code",
      "source": [
        "num = input('Please enter a number')\n",
        "\n",
        "while num.isalpha():\n",
        "  print('Not a number')\n",
        "  num = input('Please enter a number')\n",
        "\n",
        "num = int(num)\n",
        "\n",
        "if abs(100 - num) <= 10 or abs(200 - num) <= 10:\n",
        "  print(True)\n",
        "else:\n",
        "  print(False)"
      ],
      "metadata": {
        "colab": {
          "base_uri": "https://localhost:8080/"
        },
        "id": "TqlVLG2DkjO0",
        "outputId": "84a095f7-968b-4f60-e5bb-03a9e08b74c3"
      },
      "execution_count": null,
      "outputs": [
        {
          "output_type": "stream",
          "name": "stdout",
          "text": [
            "Please enter a number99\n",
            "True\n"
          ]
        }
      ]
    },
    {
      "cell_type": "markdown",
      "source": [
        "Question 4\n",
        "\n",
        "Write a program that takes a list of non-negative integers and prints each integer to the screen the same number of times as the value of the integer, each new value on a new line.\n",
        "\n",
        "For example\n",
        "\n",
        "[2,3,4,1] would print:\n",
        "\n",
        "22\n",
        "\n",
        "333\n",
        "\n",
        "4444\n",
        "\n",
        "1"
      ],
      "metadata": {
        "id": "83b7GSlQl5aN"
      }
    },
    {
      "cell_type": "code",
      "source": [
        "def print_num(L):\n",
        "  for i in range(len(L)):\n",
        "    for j in range(L[i]):\n",
        "      print(L[i], end = \" \")\n",
        "    print()"
      ],
      "metadata": {
        "id": "RSmqle7clp3T"
      },
      "execution_count": null,
      "outputs": []
    },
    {
      "cell_type": "code",
      "source": [
        "L = [2, 3, 4, 1]\n",
        "print_num(L)"
      ],
      "metadata": {
        "colab": {
          "base_uri": "https://localhost:8080/"
        },
        "id": "LueUbbflma8y",
        "outputId": "9cc1727b-129b-49c5-efa3-82b7e10a83ad"
      },
      "execution_count": null,
      "outputs": [
        {
          "output_type": "stream",
          "name": "stdout",
          "text": [
            "2 2 \n",
            "3 3 3 \n",
            "4 4 4 4 \n",
            "1 \n"
          ]
        }
      ]
    },
    {
      "cell_type": "markdown",
      "source": [
        "Question 5\n",
        "\n",
        "Write some code that will return the number of CPUs in the system."
      ],
      "metadata": {
        "id": "8OkxXd0Tmu-X"
      }
    },
    {
      "cell_type": "code",
      "source": [
        "import multiprocessing"
      ],
      "metadata": {
        "id": "hFcG-aAGmjqG"
      },
      "execution_count": null,
      "outputs": []
    },
    {
      "cell_type": "code",
      "source": [
        "print(multiprocessing.cpu_count())"
      ],
      "metadata": {
        "colab": {
          "base_uri": "https://localhost:8080/"
        },
        "id": "B1McmZj-nUN_",
        "outputId": "78bdc4dc-c704-40d0-b452-2dbca2a464cb"
      },
      "execution_count": null,
      "outputs": [
        {
          "output_type": "stream",
          "name": "stdout",
          "text": [
            "2\n"
          ]
        }
      ]
    },
    {
      "cell_type": "markdown",
      "source": [
        "Question 6\n",
        "\n",
        "Write a program that will return the sum of the digits of an integer."
      ],
      "metadata": {
        "id": "v1DUR3lAnvVp"
      }
    },
    {
      "cell_type": "code",
      "source": [
        "def sum_digits(num: int):\n",
        "  sum = 0\n",
        "  while num > 0:\n",
        "    sum += num % 10\n",
        "    num = num // 10\n",
        "\n",
        "  return sum"
      ],
      "metadata": {
        "id": "H0j7brU2nVRt"
      },
      "execution_count": null,
      "outputs": []
    },
    {
      "cell_type": "code",
      "source": [
        "sum_digits(123456789)"
      ],
      "metadata": {
        "colab": {
          "base_uri": "https://localhost:8080/"
        },
        "id": "hJSLYprhoYFI",
        "outputId": "0e168979-a5bf-470f-bdd1-639cae9e0996"
      },
      "execution_count": null,
      "outputs": [
        {
          "output_type": "execute_result",
          "data": {
            "text/plain": [
              "45"
            ]
          },
          "metadata": {},
          "execution_count": 37
        }
      ]
    },
    {
      "cell_type": "markdown",
      "source": [
        "Question 7\n",
        "\n",
        "Write a program that converts text into pig latin.\n",
        "\n",
        "Pig latin works as follows:\n",
        "\n",
        "All letters before initial vowel are placed at the end of the word and then 'ay'\n",
        "is added (explanation adapted from Wikipedia),\n",
        "\n",
        "so pig becomes igpay,\n",
        "\n",
        "cat becomes atcay,\n",
        "\n",
        "potential becomes otentialpay, etc."
      ],
      "metadata": {
        "id": "K_yizlcQtIrr"
      }
    },
    {
      "cell_type": "code",
      "source": [
        "def piglatin(text):\n",
        "  pigtext = None\n",
        "  vowels = ['a', 'e', 'i', 'o', 'u']\n",
        "\n",
        "  for i, char in enumerate(text):\n",
        "    char = char.lower()\n",
        "    if char in vowels:\n",
        "      pigtext = text[i:] + text[:i] + 'ay'\n",
        "      break\n",
        "\n",
        "  if not pigtext:\n",
        "    return 'No vowels found'\n",
        "  else:\n",
        "    return pigtext"
      ],
      "metadata": {
        "id": "Dc32J1wSobFv"
      },
      "execution_count": null,
      "outputs": []
    },
    {
      "cell_type": "code",
      "source": [
        "piglatin('pig')"
      ],
      "metadata": {
        "colab": {
          "base_uri": "https://localhost:8080/",
          "height": 35
        },
        "id": "t44Co7W5uz-R",
        "outputId": "d4ff6fa3-b859-484d-fd8d-f349320f3d59"
      },
      "execution_count": null,
      "outputs": [
        {
          "output_type": "execute_result",
          "data": {
            "text/plain": [
              "'igpay'"
            ],
            "application/vnd.google.colaboratory.intrinsic+json": {
              "type": "string"
            }
          },
          "metadata": {},
          "execution_count": 43
        }
      ]
    },
    {
      "cell_type": "code",
      "source": [
        "piglatin('potential')"
      ],
      "metadata": {
        "colab": {
          "base_uri": "https://localhost:8080/",
          "height": 35
        },
        "id": "vQwBltoKu2w8",
        "outputId": "efbc0991-346a-4fab-c759-406b3e16c064"
      },
      "execution_count": null,
      "outputs": [
        {
          "output_type": "execute_result",
          "data": {
            "text/plain": [
              "'otentialpay'"
            ],
            "application/vnd.google.colaboratory.intrinsic+json": {
              "type": "string"
            }
          },
          "metadata": {},
          "execution_count": 44
        }
      ]
    },
    {
      "cell_type": "code",
      "source": [
        "piglatin('cat')"
      ],
      "metadata": {
        "colab": {
          "base_uri": "https://localhost:8080/",
          "height": 35
        },
        "id": "mvB-09bzu9TY",
        "outputId": "512350b0-e280-4cdd-9fe0-3e7a1bc60cf1"
      },
      "execution_count": null,
      "outputs": [
        {
          "output_type": "execute_result",
          "data": {
            "text/plain": [
              "'atcay'"
            ],
            "application/vnd.google.colaboratory.intrinsic+json": {
              "type": "string"
            }
          },
          "metadata": {},
          "execution_count": 45
        }
      ]
    },
    {
      "cell_type": "code",
      "source": [
        "piglatin('gypsy')"
      ],
      "metadata": {
        "colab": {
          "base_uri": "https://localhost:8080/",
          "height": 35
        },
        "id": "KSEmnuFwvJcO",
        "outputId": "dd022a53-5fb7-4281-b3fa-19e5c2124734"
      },
      "execution_count": null,
      "outputs": [
        {
          "output_type": "execute_result",
          "data": {
            "text/plain": [
              "'No vowels found'"
            ],
            "application/vnd.google.colaboratory.intrinsic+json": {
              "type": "string"
            }
          },
          "metadata": {},
          "execution_count": 46
        }
      ]
    },
    {
      "cell_type": "code",
      "source": [
        "piglatin('shy')"
      ],
      "metadata": {
        "colab": {
          "base_uri": "https://localhost:8080/",
          "height": 35
        },
        "id": "w23qCBbPvX0i",
        "outputId": "53c1c334-9594-4085-9cd7-901f31619dda"
      },
      "execution_count": null,
      "outputs": [
        {
          "output_type": "execute_result",
          "data": {
            "text/plain": [
              "'No vowels found'"
            ],
            "application/vnd.google.colaboratory.intrinsic+json": {
              "type": "string"
            }
          },
          "metadata": {},
          "execution_count": 47
        }
      ]
    },
    {
      "cell_type": "markdown",
      "source": [
        "Question 8\n",
        "\n",
        "Write a function that will check for the occurrence of double letters in a string.\n",
        "\n",
        "If the string contains double letters next to each other it will return True, otherwise it will return False."
      ],
      "metadata": {
        "id": "KX7NDjujvo6m"
      }
    },
    {
      "cell_type": "code",
      "source": [
        "def double_letters(text):\n",
        "  for i in range(len(text)-1):\n",
        "    if text[i] == text[i+1]:\n",
        "      return True\n",
        "\n",
        "  return False"
      ],
      "metadata": {
        "id": "b5dclnMDvlqu"
      },
      "execution_count": null,
      "outputs": []
    },
    {
      "cell_type": "code",
      "source": [
        "double_letters('ball')"
      ],
      "metadata": {
        "colab": {
          "base_uri": "https://localhost:8080/"
        },
        "id": "dypN_HAOwKLz",
        "outputId": "398b1f81-a26b-4b38-8b45-b1ca503ed4fd"
      },
      "execution_count": null,
      "outputs": [
        {
          "output_type": "execute_result",
          "data": {
            "text/plain": [
              "True"
            ]
          },
          "metadata": {},
          "execution_count": 49
        }
      ]
    },
    {
      "cell_type": "code",
      "source": [
        "double_letters('pizza')"
      ],
      "metadata": {
        "colab": {
          "base_uri": "https://localhost:8080/"
        },
        "id": "O3LzIfCowXp0",
        "outputId": "024ba9a2-4ca1-4298-82d4-bc930362489c"
      },
      "execution_count": null,
      "outputs": [
        {
          "output_type": "execute_result",
          "data": {
            "text/plain": [
              "True"
            ]
          },
          "metadata": {},
          "execution_count": 50
        }
      ]
    },
    {
      "cell_type": "code",
      "source": [
        "double_letters('mall')"
      ],
      "metadata": {
        "colab": {
          "base_uri": "https://localhost:8080/"
        },
        "id": "dNTARXS2wZyz",
        "outputId": "e9f2c187-1aad-47ef-db02-e8c8a8953edb"
      },
      "execution_count": null,
      "outputs": [
        {
          "output_type": "execute_result",
          "data": {
            "text/plain": [
              "True"
            ]
          },
          "metadata": {},
          "execution_count": 52
        }
      ]
    },
    {
      "cell_type": "markdown",
      "source": [
        "Question 9\n",
        "\n",
        "Write a function that will check if a string is a palindrome."
      ],
      "metadata": {
        "id": "osa1rMvswi1d"
      }
    },
    {
      "cell_type": "code",
      "source": [
        "def palin(text):\n",
        "  if text == text[::-1]:\n",
        "    return True\n",
        "\n",
        "  return False"
      ],
      "metadata": {
        "id": "CfO1DpKawbm-"
      },
      "execution_count": null,
      "outputs": []
    },
    {
      "cell_type": "code",
      "source": [
        "palin('level')"
      ],
      "metadata": {
        "colab": {
          "base_uri": "https://localhost:8080/"
        },
        "id": "x43d0FoVxIt2",
        "outputId": "af80226f-9db5-4758-e6e6-c3f32dd4d33b"
      },
      "execution_count": null,
      "outputs": [
        {
          "output_type": "execute_result",
          "data": {
            "text/plain": [
              "True"
            ]
          },
          "metadata": {},
          "execution_count": 54
        }
      ]
    },
    {
      "cell_type": "code",
      "source": [
        "palin('radar')"
      ],
      "metadata": {
        "colab": {
          "base_uri": "https://localhost:8080/"
        },
        "id": "BYaYVYcjxOc7",
        "outputId": "0b79743b-c1fa-4821-f704-bd854631407d"
      },
      "execution_count": null,
      "outputs": [
        {
          "output_type": "execute_result",
          "data": {
            "text/plain": [
              "True"
            ]
          },
          "metadata": {},
          "execution_count": 55
        }
      ]
    },
    {
      "cell_type": "code",
      "source": [
        "palin('test')"
      ],
      "metadata": {
        "colab": {
          "base_uri": "https://localhost:8080/"
        },
        "id": "MsNEJOW7xPx4",
        "outputId": "18d4eb1b-a7cb-4181-82ac-9fe16fdb5480"
      },
      "execution_count": null,
      "outputs": [
        {
          "output_type": "execute_result",
          "data": {
            "text/plain": [
              "False"
            ]
          },
          "metadata": {},
          "execution_count": 56
        }
      ]
    },
    {
      "cell_type": "markdown",
      "source": [
        "Question 10\n",
        "\n",
        "Write a function def add_commas(numbers) that will add commas to an integer and return it as a string.\n",
        "\n",
        "For example add_commas(1000000) will return 1,000,000\n",
        "\n",
        "Do it first without using string fomratting or f strings."
      ],
      "metadata": {
        "id": "v0QEEeGqxVlu"
      }
    },
    {
      "cell_type": "code",
      "source": [
        "def add_commas(numbers):\n",
        "  numbers = str(numbers)\n",
        "  nums = numbers[::-1]\n",
        "  new_str = ''\n",
        "  for i, char in enumerate(nums):\n",
        "    if i != 0 and (i % 3) == 0:\n",
        "      new_str = new_str + ','\n",
        "\n",
        "    new_str = new_str + char\n",
        "\n",
        "  return new_str[::-1]"
      ],
      "metadata": {
        "id": "3ye88qqZxRnP"
      },
      "execution_count": null,
      "outputs": []
    },
    {
      "cell_type": "code",
      "source": [
        "add_commas(1000000)"
      ],
      "metadata": {
        "colab": {
          "base_uri": "https://localhost:8080/",
          "height": 35
        },
        "id": "gNvfJSVDS5F-",
        "outputId": "662d8ae1-3f62-4b73-f175-743a91a724db"
      },
      "execution_count": null,
      "outputs": [
        {
          "output_type": "execute_result",
          "data": {
            "text/plain": [
              "'1,000,000'"
            ],
            "application/vnd.google.colaboratory.intrinsic+json": {
              "type": "string"
            }
          },
          "metadata": {},
          "execution_count": 3
        }
      ]
    },
    {
      "cell_type": "code",
      "source": [
        "add_commas(10)"
      ],
      "metadata": {
        "colab": {
          "base_uri": "https://localhost:8080/",
          "height": 35
        },
        "id": "M5aH1ZpeTABS",
        "outputId": "0ba1aab6-72f2-4367-d56b-a1e8c8f9ac5f"
      },
      "execution_count": null,
      "outputs": [
        {
          "output_type": "execute_result",
          "data": {
            "text/plain": [
              "'10'"
            ],
            "application/vnd.google.colaboratory.intrinsic+json": {
              "type": "string"
            }
          },
          "metadata": {},
          "execution_count": 5
        }
      ]
    },
    {
      "cell_type": "code",
      "source": [
        "add_commas(123456789)"
      ],
      "metadata": {
        "colab": {
          "base_uri": "https://localhost:8080/",
          "height": 35
        },
        "id": "t3PLn9IwTDz6",
        "outputId": "4299ffd6-00bf-45c5-d01c-1efbffb29679"
      },
      "execution_count": null,
      "outputs": [
        {
          "output_type": "execute_result",
          "data": {
            "text/plain": [
              "'123,456,789'"
            ],
            "application/vnd.google.colaboratory.intrinsic+json": {
              "type": "string"
            }
          },
          "metadata": {},
          "execution_count": 6
        }
      ]
    },
    {
      "cell_type": "markdown",
      "source": [
        "Question 11\n",
        "\n",
        "Write a function that will convert an integer into binary."
      ],
      "metadata": {
        "id": "1BsM27uCxthN"
      }
    },
    {
      "cell_type": "code",
      "source": [
        "def to_binary(number):\n",
        "  print(f'{number} in binary is {number:08b}')"
      ],
      "metadata": {
        "id": "74bf_et7OW1y"
      },
      "execution_count": null,
      "outputs": []
    },
    {
      "cell_type": "code",
      "source": [
        "to_binary(10)"
      ],
      "metadata": {
        "colab": {
          "base_uri": "https://localhost:8080/"
        },
        "id": "rpQut9LmTfN2",
        "outputId": "65542946-f4b5-4aee-a233-6d0b695ca52f"
      },
      "execution_count": null,
      "outputs": [
        {
          "output_type": "stream",
          "name": "stdout",
          "text": [
            "10 in binary is 00001010\n"
          ]
        }
      ]
    },
    {
      "cell_type": "code",
      "source": [
        "to_binary(32)"
      ],
      "metadata": {
        "colab": {
          "base_uri": "https://localhost:8080/"
        },
        "id": "tNtxxDkdTj_Z",
        "outputId": "42016818-120b-4cd2-d61e-e64716860333"
      },
      "execution_count": null,
      "outputs": [
        {
          "output_type": "stream",
          "name": "stdout",
          "text": [
            "32 in binary is 00100000\n"
          ]
        }
      ]
    },
    {
      "cell_type": "code",
      "source": [
        "to_binary(31)"
      ],
      "metadata": {
        "colab": {
          "base_uri": "https://localhost:8080/"
        },
        "id": "__jkZ799TpaJ",
        "outputId": "c5310d6a-0375-42cd-8d2d-f34c692a14a5"
      },
      "execution_count": null,
      "outputs": [
        {
          "output_type": "stream",
          "name": "stdout",
          "text": [
            "31 in binary is 00011111\n"
          ]
        }
      ]
    },
    {
      "cell_type": "markdown",
      "source": [
        "Question 12\n",
        "\n",
        "Write a function that calculates the sum of all integers up to n.\n",
        "\n",
        "Use the iterative method and the formula and compare the results.\n",
        "\n",
        "(sum of n integers given by S = (n(n+1))/2)"
      ],
      "metadata": {
        "id": "Ll09TQYhxx13"
      }
    },
    {
      "cell_type": "code",
      "source": [
        "def sum(number):\n",
        "  s = 0\n",
        "  for i in range(number+1):\n",
        "    s += i\n",
        "\n",
        "  s_1 = (number * (number + 1)) / 2\n",
        "  return s, s_1"
      ],
      "metadata": {
        "id": "PPjw8eikOXgl"
      },
      "execution_count": null,
      "outputs": []
    },
    {
      "cell_type": "code",
      "source": [
        "sum(5)"
      ],
      "metadata": {
        "colab": {
          "base_uri": "https://localhost:8080/"
        },
        "id": "fqluYIusUaqi",
        "outputId": "a3c1f689-ef2d-406c-ca5e-4cdcb22ea4d4"
      },
      "execution_count": null,
      "outputs": [
        {
          "output_type": "execute_result",
          "data": {
            "text/plain": [
              "(15, 15.0)"
            ]
          },
          "metadata": {},
          "execution_count": 16
        }
      ]
    },
    {
      "cell_type": "code",
      "source": [
        "sum(10)"
      ],
      "metadata": {
        "colab": {
          "base_uri": "https://localhost:8080/"
        },
        "id": "L1qBlw8lUcxZ",
        "outputId": "1c7952ad-2b5b-4d55-e240-8ee9e88be97e"
      },
      "execution_count": null,
      "outputs": [
        {
          "output_type": "execute_result",
          "data": {
            "text/plain": [
              "(55, 55.0)"
            ]
          },
          "metadata": {},
          "execution_count": 17
        }
      ]
    },
    {
      "cell_type": "markdown",
      "source": [
        "Question 13\n",
        "\n",
        "Write a function that takes a positive integer n and converts it into hours and minutes.\n",
        "\n",
        "45 would return 0h:45mins\n",
        "\n",
        "135 would return 2h:15mins"
      ],
      "metadata": {
        "id": "qAp98xO-x7AC"
      }
    },
    {
      "cell_type": "code",
      "source": [
        "def convert_time(number):\n",
        "  hour = number // 60\n",
        "  min = number % 60\n",
        "\n",
        "  return f'{hour}h:{min}mins'"
      ],
      "metadata": {
        "id": "iahT0qNuOYsm"
      },
      "execution_count": null,
      "outputs": []
    },
    {
      "cell_type": "code",
      "source": [
        "convert_time(45)"
      ],
      "metadata": {
        "colab": {
          "base_uri": "https://localhost:8080/",
          "height": 35
        },
        "id": "ypIHQC1XVQ93",
        "outputId": "30a985e6-1e80-41d6-aa90-3b338eca5e24"
      },
      "execution_count": null,
      "outputs": [
        {
          "output_type": "execute_result",
          "data": {
            "text/plain": [
              "'0h:45mins'"
            ],
            "application/vnd.google.colaboratory.intrinsic+json": {
              "type": "string"
            }
          },
          "metadata": {},
          "execution_count": 19
        }
      ]
    },
    {
      "cell_type": "code",
      "source": [
        "convert_time(135)"
      ],
      "metadata": {
        "colab": {
          "base_uri": "https://localhost:8080/",
          "height": 35
        },
        "id": "bTEMiB5UVTQN",
        "outputId": "149cbb28-ca6e-47f7-9d2e-cac618f204e7"
      },
      "execution_count": null,
      "outputs": [
        {
          "output_type": "execute_result",
          "data": {
            "text/plain": [
              "'2h:15mins'"
            ],
            "application/vnd.google.colaboratory.intrinsic+json": {
              "type": "string"
            }
          },
          "metadata": {},
          "execution_count": 20
        }
      ]
    },
    {
      "cell_type": "markdown",
      "source": [
        "Question 14\n",
        "\n",
        "Write a function to determine whether all numbers in a list are unique."
      ],
      "metadata": {
        "id": "tdFYG1ACyJq8"
      }
    },
    {
      "cell_type": "code",
      "source": [
        "def unique_list(L):\n",
        "  s = set(L)\n",
        "  if len(s) == len(L):\n",
        "    return True\n",
        "  else:\n",
        "    return False"
      ],
      "metadata": {
        "id": "7mUT3AXJOZZX"
      },
      "execution_count": null,
      "outputs": []
    },
    {
      "cell_type": "code",
      "source": [
        "unique_list([1, 2, 3, 4, 5])"
      ],
      "metadata": {
        "colab": {
          "base_uri": "https://localhost:8080/"
        },
        "id": "otZm5OtTVxht",
        "outputId": "a00b620e-8898-4163-b0dc-199fe46ba569"
      },
      "execution_count": null,
      "outputs": [
        {
          "output_type": "execute_result",
          "data": {
            "text/plain": [
              "True"
            ]
          },
          "metadata": {},
          "execution_count": 24
        }
      ]
    },
    {
      "cell_type": "code",
      "source": [
        "unique_list([1, 2, 3, 4, 2, 5])"
      ],
      "metadata": {
        "colab": {
          "base_uri": "https://localhost:8080/"
        },
        "id": "S_JeWyaTV1lc",
        "outputId": "3d36270c-91f9-4794-f094-b649649b7023"
      },
      "execution_count": null,
      "outputs": [
        {
          "output_type": "execute_result",
          "data": {
            "text/plain": [
              "False"
            ]
          },
          "metadata": {},
          "execution_count": 25
        }
      ]
    },
    {
      "cell_type": "markdown",
      "source": [
        "Question 15\n",
        "\n",
        "Write a function to add two positive integers together without using the + operator.\n",
        "\n",
        "(Note, this will require some research - start here https://en.wikipedia.org/wiki/Bitwise_operation)"
      ],
      "metadata": {
        "id": "a4d3fbQ4yOFQ"
      }
    },
    {
      "cell_type": "code",
      "source": [
        "def no_plus_sum(a,b):\n",
        "  while b != 0:\n",
        "    carry = a & b\n",
        "    a = a ^ b\n",
        "    b = carry << 1\n",
        "  return a\n",
        "\n",
        "# Explanation: https://stackoverflow.com/questions/17342042/why-this-code-for-additionusing-bitwise-operation-works-in-java"
      ],
      "metadata": {
        "id": "e3kyxx4gOZ_d"
      },
      "execution_count": 4,
      "outputs": []
    },
    {
      "cell_type": "code",
      "source": [
        "no_plus_sum(4, 5)"
      ],
      "metadata": {
        "colab": {
          "base_uri": "https://localhost:8080/"
        },
        "id": "-QindsWI3VkU",
        "outputId": "d49ed9f9-3ae2-401d-8bde-de7da68ea1ed"
      },
      "execution_count": 2,
      "outputs": [
        {
          "output_type": "execute_result",
          "data": {
            "text/plain": [
              "9"
            ]
          },
          "metadata": {},
          "execution_count": 2
        }
      ]
    },
    {
      "cell_type": "code",
      "source": [
        "no_plus_sum(100, 1234)"
      ],
      "metadata": {
        "colab": {
          "base_uri": "https://localhost:8080/"
        },
        "id": "ZEi8-vDK3axT",
        "outputId": "e91f2a3c-3d4e-4725-a467-080f7cfc51b4"
      },
      "execution_count": 3,
      "outputs": [
        {
          "output_type": "execute_result",
          "data": {
            "text/plain": [
              "1334"
            ]
          },
          "metadata": {},
          "execution_count": 3
        }
      ]
    },
    {
      "cell_type": "markdown",
      "source": [
        "Question 16\n",
        "\n",
        "Write a function that will calculate the number of divisors of a positive integer and return those divisors."
      ],
      "metadata": {
        "id": "EGS4CYYYyXBX"
      }
    },
    {
      "cell_type": "code",
      "source": [
        "def num_divisors(num):\n",
        "  divisors = [i for i in range(1, num + 1) if num % i == 0]\n",
        "  return (divisors, len(divisors))"
      ],
      "metadata": {
        "id": "9oHg9aecOa8i"
      },
      "execution_count": 5,
      "outputs": []
    },
    {
      "cell_type": "code",
      "source": [
        "num_divisors(15)"
      ],
      "metadata": {
        "colab": {
          "base_uri": "https://localhost:8080/"
        },
        "id": "o1fd-u8w3z6J",
        "outputId": "01094264-a056-482d-a4c8-79e9378b78cf"
      },
      "execution_count": 6,
      "outputs": [
        {
          "output_type": "execute_result",
          "data": {
            "text/plain": [
              "([1, 3, 5, 15], 4)"
            ]
          },
          "metadata": {},
          "execution_count": 6
        }
      ]
    },
    {
      "cell_type": "code",
      "source": [
        "num_divisors(120)"
      ],
      "metadata": {
        "colab": {
          "base_uri": "https://localhost:8080/"
        },
        "id": "NSeyRmIs32sP",
        "outputId": "7d723a61-475b-459a-9e98-c7a0ab37db34"
      },
      "execution_count": 7,
      "outputs": [
        {
          "output_type": "execute_result",
          "data": {
            "text/plain": [
              "([1, 2, 3, 4, 5, 6, 8, 10, 12, 15, 20, 24, 30, 40, 60, 120], 16)"
            ]
          },
          "metadata": {},
          "execution_count": 7
        }
      ]
    },
    {
      "cell_type": "code",
      "source": [
        "num_divisors(900)"
      ],
      "metadata": {
        "colab": {
          "base_uri": "https://localhost:8080/"
        },
        "id": "dsIk5pjN35fW",
        "outputId": "06a0355b-9242-416d-c650-50fd8c914749"
      },
      "execution_count": 8,
      "outputs": [
        {
          "output_type": "execute_result",
          "data": {
            "text/plain": [
              "([1,\n",
              "  2,\n",
              "  3,\n",
              "  4,\n",
              "  5,\n",
              "  6,\n",
              "  9,\n",
              "  10,\n",
              "  12,\n",
              "  15,\n",
              "  18,\n",
              "  20,\n",
              "  25,\n",
              "  30,\n",
              "  36,\n",
              "  45,\n",
              "  50,\n",
              "  60,\n",
              "  75,\n",
              "  90,\n",
              "  100,\n",
              "  150,\n",
              "  180,\n",
              "  225,\n",
              "  300,\n",
              "  450,\n",
              "  900],\n",
              " 27)"
            ]
          },
          "metadata": {},
          "execution_count": 8
        }
      ]
    },
    {
      "cell_type": "markdown",
      "source": [
        "Question 17\n",
        "\n",
        "Write a function that uses bitwise operations to determine whether a number is odd or even."
      ],
      "metadata": {
        "id": "ycbjHyyNyeLM"
      }
    },
    {
      "cell_type": "code",
      "source": [
        "def odd_even(num):\n",
        "  if (num & 1):\n",
        "    print('Odd')\n",
        "    return\n",
        "  print('Even')"
      ],
      "metadata": {
        "id": "NgLE5-ICOb9k"
      },
      "execution_count": 11,
      "outputs": []
    },
    {
      "cell_type": "code",
      "source": [
        "odd_even(5)"
      ],
      "metadata": {
        "colab": {
          "base_uri": "https://localhost:8080/"
        },
        "id": "rF2F1Ffb4PGZ",
        "outputId": "7384bf68-3bd6-4abd-91de-f31863c6c439"
      },
      "execution_count": 12,
      "outputs": [
        {
          "output_type": "stream",
          "name": "stdout",
          "text": [
            "Odd\n"
          ]
        }
      ]
    },
    {
      "cell_type": "code",
      "source": [
        "odd_even(8)"
      ],
      "metadata": {
        "colab": {
          "base_uri": "https://localhost:8080/"
        },
        "id": "iHZNwBxa4TG3",
        "outputId": "2996ec4f-f582-4355-b248-875e6bb7c2ff"
      },
      "execution_count": 13,
      "outputs": [
        {
          "output_type": "stream",
          "name": "stdout",
          "text": [
            "Even\n"
          ]
        }
      ]
    },
    {
      "cell_type": "markdown",
      "source": [
        "Question 20\n",
        "\n",
        "Write a function which prints the prime numbers in a given range."
      ],
      "metadata": {
        "id": "qEtdcDsWykA6"
      }
    },
    {
      "cell_type": "code",
      "source": [
        "def primes(start, end):\n",
        "  primes = []\n",
        "  for i in range(start, end+1):\n",
        "    if i>1:\n",
        "      for j in range(2,i):\n",
        "        if i%j == 0:\n",
        "          break\n",
        "      else:\n",
        "        primes.append(i)\n",
        "  return primes\n",
        "\n",
        "#(Note the use of the for/else clause here - it can be extremely useful - https://stackoverflow.com/questions/9979970/why-does-python-use-else-after-for-and-while-loops)"
      ],
      "metadata": {
        "id": "14FQQQEhOc3M"
      },
      "execution_count": 18,
      "outputs": []
    },
    {
      "cell_type": "code",
      "source": [
        "primes(1, 20)"
      ],
      "metadata": {
        "colab": {
          "base_uri": "https://localhost:8080/"
        },
        "id": "1NQOwO1S4-2f",
        "outputId": "3b41ab4f-ee21-4ac0-da95-c2c1b3cd6426"
      },
      "execution_count": 19,
      "outputs": [
        {
          "output_type": "execute_result",
          "data": {
            "text/plain": [
              "[2, 3, 5, 7, 11, 13, 17, 19]"
            ]
          },
          "metadata": {},
          "execution_count": 19
        }
      ]
    },
    {
      "cell_type": "code",
      "source": [
        "primes(20, 100)"
      ],
      "metadata": {
        "colab": {
          "base_uri": "https://localhost:8080/"
        },
        "id": "fPeueXMb5C3P",
        "outputId": "761c7e03-a9f3-418a-8524-453ee17ec053"
      },
      "execution_count": 20,
      "outputs": [
        {
          "output_type": "execute_result",
          "data": {
            "text/plain": [
              "[23, 29, 31, 37, 41, 43, 47, 53, 59, 61, 67, 71, 73, 79, 83, 89, 97]"
            ]
          },
          "metadata": {},
          "execution_count": 20
        }
      ]
    }
  ]
}