{
  "cells": [
    {
      "cell_type": "markdown",
      "metadata": {
        "id": "view-in-github",
        "colab_type": "text"
      },
      "source": [
        "<a href=\"https://colab.research.google.com/github/Kavi-Sarna/365-python/blob/main/3%20-%20Python%20Programmer%20Bootcamp/6%20-%20Files%20and%20Functions/4%20-%20Questions.ipynb\" target=\"_parent\"><img src=\"https://colab.research.google.com/assets/colab-badge.svg\" alt=\"Open In Colab\"/></a>"
      ]
    },
    {
      "cell_type": "markdown",
      "source": [
        "Question 1\n",
        "\n",
        "Create a function that will calculate the sum of two numbers. Call it sum_two."
      ],
      "metadata": {
        "id": "u_tEpSxFd-OT"
      }
    },
    {
      "cell_type": "code",
      "source": [
        "def sum_two(x, y):\n",
        "  return x + y\n",
        "\n",
        "print(sum_two(3, 4))"
      ],
      "metadata": {
        "colab": {
          "base_uri": "https://localhost:8080/"
        },
        "id": "2HJKLA9mw1E7",
        "outputId": "119a3acb-863d-4dfd-e44e-929ab704446b"
      },
      "execution_count": 69,
      "outputs": [
        {
          "output_type": "stream",
          "name": "stdout",
          "text": [
            "7\n"
          ]
        }
      ]
    },
    {
      "cell_type": "markdown",
      "source": [
        "Question 2\n",
        "\n",
        "Write a function that performs multiplication of two arguments.\n",
        "\n",
        "By default the function should multiply the first argument by 2.\n",
        "\n",
        "Call it multiply."
      ],
      "metadata": {
        "id": "k1iFHbOJxEC6"
      }
    },
    {
      "cell_type": "code",
      "source": [
        "def multiply(x, y = 2):\n",
        "  return x * y\n",
        "\n",
        "print(multiply(3))\n",
        "print(multiply(3, 4))"
      ],
      "metadata": {
        "colab": {
          "base_uri": "https://localhost:8080/"
        },
        "id": "BC-AE0RCw_KC",
        "outputId": "8127d9cc-ebab-4458-a198-6c6aaaec1419"
      },
      "execution_count": 70,
      "outputs": [
        {
          "output_type": "stream",
          "name": "stdout",
          "text": [
            "6\n",
            "12\n"
          ]
        }
      ]
    },
    {
      "cell_type": "markdown",
      "source": [
        "Question 3\n",
        "\n",
        "Write a function to calculate a to the power of b.\n",
        "\n",
        "If b is not given its default value should be 2.\n",
        "\n",
        "Call it power."
      ],
      "metadata": {
        "id": "IxFUtuNfxYyT"
      }
    },
    {
      "cell_type": "code",
      "source": [
        "def power(a, b = 2):\n",
        "  return a ** b\n",
        "\n",
        "print(power(4))\n",
        "print(power(4, 4))"
      ],
      "metadata": {
        "colab": {
          "base_uri": "https://localhost:8080/"
        },
        "id": "qRNaPgAQxUso",
        "outputId": "70fed15a-81b1-494f-c398-762c4ba515e6"
      },
      "execution_count": 71,
      "outputs": [
        {
          "output_type": "stream",
          "name": "stdout",
          "text": [
            "16\n",
            "256\n"
          ]
        }
      ]
    },
    {
      "cell_type": "markdown",
      "source": [
        "Question 4\n",
        "\n",
        "Create a new file called capitals.txt, store the names of five capital cities\n",
        "in the file on the same line."
      ],
      "metadata": {
        "id": "5KfNeVk_xrve"
      }
    },
    {
      "cell_type": "code",
      "source": [
        "f = open('capitals.txt', 'w')\n",
        "\n",
        "f.write('New Delhi, Seoul, Madrid, Paris, London')\n",
        "\n",
        "f.close()"
      ],
      "metadata": {
        "id": "1a6DHlDgxl9_"
      },
      "execution_count": 72,
      "outputs": []
    },
    {
      "cell_type": "markdown",
      "source": [
        "Question 5\n",
        "\n",
        "Write some code that requests the user to input another capital city.\n",
        "\n",
        "Add that city to the list of cities in capitals.\n",
        "\n",
        "Then print the file to the screen."
      ],
      "metadata": {
        "id": "ffu9_mucyDXk"
      }
    },
    {
      "cell_type": "code",
      "source": [
        "user_input = input('Enter a capital city to add to the file: ')\n",
        "\n",
        "f = open('capitals.txt', 'a')\n",
        "\n",
        "f.write(', ' + user_input)\n",
        "\n",
        "f.close()\n",
        "\n",
        "with open('capitals.txt', 'r') as f:\n",
        "  print(f.readlines())\n"
      ],
      "metadata": {
        "colab": {
          "base_uri": "https://localhost:8080/"
        },
        "id": "272EQvgvx9A5",
        "outputId": "a4624b09-d202-4472-b1a1-293e2874735f"
      },
      "execution_count": 75,
      "outputs": [
        {
          "output_type": "stream",
          "name": "stdout",
          "text": [
            "Enter a capital city to add to the file: Washington DC\n",
            "['New Delhi, Seoul, Madrid, Paris, London, Washington DC']\n"
          ]
        }
      ]
    },
    {
      "cell_type": "markdown",
      "source": [
        "Question 6\n",
        "\n",
        "Write a function that will copy the contents of one file to a new file."
      ],
      "metadata": {
        "id": "VwgW69gVzGXi"
      }
    },
    {
      "cell_type": "code",
      "source": [
        "def copy_file(infile, outfile):\n",
        "  with open(infile, 'r') as f1:\n",
        "    with open(outfile, 'w') as f2:\n",
        "      f2.write(f1.read())\n",
        "\n",
        "copy_file('capitals.txt', 'copy.txt')\n",
        "with open('copy.txt', 'r') as f:\n",
        "  print(f.readlines())"
      ],
      "metadata": {
        "colab": {
          "base_uri": "https://localhost:8080/"
        },
        "id": "x3vGpQqUyooT",
        "outputId": "59d9a799-59e5-45c6-ab58-d2fc36dfa782"
      },
      "execution_count": 77,
      "outputs": [
        {
          "output_type": "stream",
          "name": "stdout",
          "text": [
            "['New Delhi, Seoul, Madrid, Paris, London, Washington DC']\n"
          ]
        }
      ]
    }
  ],
  "metadata": {
    "colab": {
      "provenance": [],
      "authorship_tag": "ABX9TyOFD6GnOs9qYBTP18wkrQpo",
      "include_colab_link": true
    },
    "kernelspec": {
      "display_name": "Python 3",
      "name": "python3"
    },
    "language_info": {
      "name": "python"
    }
  },
  "nbformat": 4,
  "nbformat_minor": 0
}