{
  "cells": [
    {
      "cell_type": "markdown",
      "metadata": {
        "id": "view-in-github",
        "colab_type": "text"
      },
      "source": [
        "<a href=\"https://colab.research.google.com/github/Kavi-Sarna/365-python/blob/main/7%20-%20Data%20Preprocessing%20with%20NumPy/8%20-%20Data%20Manipulation%20with%20NumPy/4%20-%20Removing%20values%20from%20Ndarrays.ipynb\" target=\"_parent\"><img src=\"https://colab.research.google.com/assets/colab-badge.svg\" alt=\"Open In Colab\"/></a>"
      ]
    },
    {
      "cell_type": "code",
      "source": [
        "import numpy as np"
      ],
      "metadata": {
        "id": "eOFFIKCyaj1u"
      },
      "execution_count": 1,
      "outputs": []
    },
    {
      "cell_type": "code",
      "source": [
        "lending_co_data_numeric = np.loadtxt('Lending-company-Numeric.csv', delimiter = ',')\n",
        "lending_co_data_numeric"
      ],
      "metadata": {
        "colab": {
          "base_uri": "https://localhost:8080/"
        },
        "id": "ps75j1gzUaH5",
        "outputId": "2211187a-f341-4056-9589-8ccf9e7e7402"
      },
      "execution_count": 2,
      "outputs": [
        {
          "output_type": "execute_result",
          "data": {
            "text/plain": [
              "array([[ 2000.,    40.,   365.,  3121.,  4241., 13621.],\n",
              "       [ 2000.,    40.,   365.,  3061.,  4171., 15041.],\n",
              "       [ 1000.,    40.,   365.,  2160.,  3280., 15340.],\n",
              "       ...,\n",
              "       [ 2000.,    40.,   365.,  4201.,  5001., 16600.],\n",
              "       [ 1000.,    40.,   365.,  2080.,  3320., 15600.],\n",
              "       [ 2000.,    40.,   365.,  4601.,  4601., 16600.]])"
            ]
          },
          "metadata": {},
          "execution_count": 2
        }
      ]
    },
    {
      "cell_type": "code",
      "source": [
        "np.delete(lending_co_data_numeric, 0)"
      ],
      "metadata": {
        "colab": {
          "base_uri": "https://localhost:8080/"
        },
        "id": "dz1km0cGfCPP",
        "outputId": "0c2aaba3-96a6-4395-fe1b-c02d26af2d54"
      },
      "execution_count": 3,
      "outputs": [
        {
          "output_type": "execute_result",
          "data": {
            "text/plain": [
              "array([   40.,   365.,  3121., ...,  4601.,  4601., 16600.])"
            ]
          },
          "metadata": {},
          "execution_count": 3
        }
      ]
    },
    {
      "cell_type": "code",
      "source": [
        "np.delete(lending_co_data_numeric, 0).shape"
      ],
      "metadata": {
        "colab": {
          "base_uri": "https://localhost:8080/"
        },
        "id": "z8yf4EdMfJWM",
        "outputId": "c1eb2309-fd28-44ef-bee6-ce7e05aff9cf"
      },
      "execution_count": 4,
      "outputs": [
        {
          "output_type": "execute_result",
          "data": {
            "text/plain": [
              "(6257,)"
            ]
          },
          "metadata": {},
          "execution_count": 4
        }
      ]
    },
    {
      "cell_type": "code",
      "source": [
        "lending_co_data_numeric.size"
      ],
      "metadata": {
        "colab": {
          "base_uri": "https://localhost:8080/"
        },
        "id": "-u4oQYj6fP_G",
        "outputId": "c9ee232f-e580-4939-c2b5-244fe7dfd362"
      },
      "execution_count": 5,
      "outputs": [
        {
          "output_type": "execute_result",
          "data": {
            "text/plain": [
              "6258"
            ]
          },
          "metadata": {},
          "execution_count": 5
        }
      ]
    },
    {
      "cell_type": "code",
      "source": [
        "lending_co_data_numeric"
      ],
      "metadata": {
        "colab": {
          "base_uri": "https://localhost:8080/"
        },
        "id": "SfAiOtEsfRr4",
        "outputId": "4f39d69b-8eb4-49ad-d0e1-7473144949ed"
      },
      "execution_count": 6,
      "outputs": [
        {
          "output_type": "execute_result",
          "data": {
            "text/plain": [
              "array([[ 2000.,    40.,   365.,  3121.,  4241., 13621.],\n",
              "       [ 2000.,    40.,   365.,  3061.,  4171., 15041.],\n",
              "       [ 1000.,    40.,   365.,  2160.,  3280., 15340.],\n",
              "       ...,\n",
              "       [ 2000.,    40.,   365.,  4201.,  5001., 16600.],\n",
              "       [ 1000.,    40.,   365.,  2080.,  3320., 15600.],\n",
              "       [ 2000.,    40.,   365.,  4601.,  4601., 16600.]])"
            ]
          },
          "metadata": {},
          "execution_count": 6
        }
      ]
    },
    {
      "cell_type": "code",
      "source": [
        "np.delete(lending_co_data_numeric, 0, axis = 0)"
      ],
      "metadata": {
        "colab": {
          "base_uri": "https://localhost:8080/"
        },
        "id": "OZfQ3bqBfS_u",
        "outputId": "569afbe9-7b9f-438d-c63b-3d6d6d92e62e"
      },
      "execution_count": 7,
      "outputs": [
        {
          "output_type": "execute_result",
          "data": {
            "text/plain": [
              "array([[ 2000.,    40.,   365.,  3061.,  4171., 15041.],\n",
              "       [ 1000.,    40.,   365.,  2160.,  3280., 15340.],\n",
              "       [ 2000.,    40.,   365.,  3041.,  4241., 15321.],\n",
              "       ...,\n",
              "       [ 2000.,    40.,   365.,  4201.,  5001., 16600.],\n",
              "       [ 1000.,    40.,   365.,  2080.,  3320., 15600.],\n",
              "       [ 2000.,    40.,   365.,  4601.,  4601., 16600.]])"
            ]
          },
          "metadata": {},
          "execution_count": 7
        }
      ]
    },
    {
      "cell_type": "code",
      "source": [
        "np.delete(lending_co_data_numeric, 0, axis = 1)"
      ],
      "metadata": {
        "colab": {
          "base_uri": "https://localhost:8080/"
        },
        "id": "0Diggs0Tfbg7",
        "outputId": "3fbc9ec8-1194-42f1-c2cb-da1736d38c75"
      },
      "execution_count": 8,
      "outputs": [
        {
          "output_type": "execute_result",
          "data": {
            "text/plain": [
              "array([[   40.,   365.,  3121.,  4241., 13621.],\n",
              "       [   40.,   365.,  3061.,  4171., 15041.],\n",
              "       [   40.,   365.,  2160.,  3280., 15340.],\n",
              "       ...,\n",
              "       [   40.,   365.,  4201.,  5001., 16600.],\n",
              "       [   40.,   365.,  2080.,  3320., 15600.],\n",
              "       [   40.,   365.,  4601.,  4601., 16600.]])"
            ]
          },
          "metadata": {},
          "execution_count": 8
        }
      ]
    },
    {
      "cell_type": "code",
      "source": [
        "np.delete(lending_co_data_numeric, 1, axis = 1)"
      ],
      "metadata": {
        "colab": {
          "base_uri": "https://localhost:8080/"
        },
        "id": "4gLT9sSWfiCf",
        "outputId": "0d037002-1b2d-45a7-fb06-ab445d83566f"
      },
      "execution_count": 9,
      "outputs": [
        {
          "output_type": "execute_result",
          "data": {
            "text/plain": [
              "array([[ 2000.,   365.,  3121.,  4241., 13621.],\n",
              "       [ 2000.,   365.,  3061.,  4171., 15041.],\n",
              "       [ 1000.,   365.,  2160.,  3280., 15340.],\n",
              "       ...,\n",
              "       [ 2000.,   365.,  4201.,  5001., 16600.],\n",
              "       [ 1000.,   365.,  2080.,  3320., 15600.],\n",
              "       [ 2000.,   365.,  4601.,  4601., 16600.]])"
            ]
          },
          "metadata": {},
          "execution_count": 9
        }
      ]
    },
    {
      "cell_type": "code",
      "source": [
        "np.delete(lending_co_data_numeric, (0, 2, 4), axis = 1)"
      ],
      "metadata": {
        "colab": {
          "base_uri": "https://localhost:8080/"
        },
        "id": "s4eT-6-ffk9B",
        "outputId": "c7e90d13-712a-43fb-faf8-5f51632561fb"
      },
      "execution_count": 10,
      "outputs": [
        {
          "output_type": "execute_result",
          "data": {
            "text/plain": [
              "array([[   40.,  3121., 13621.],\n",
              "       [   40.,  3061., 15041.],\n",
              "       [   40.,  2160., 15340.],\n",
              "       ...,\n",
              "       [   40.,  4201., 16600.],\n",
              "       [   40.,  2080., 15600.],\n",
              "       [   40.,  4601., 16600.]])"
            ]
          },
          "metadata": {},
          "execution_count": 10
        }
      ]
    },
    {
      "cell_type": "code",
      "source": [
        "np.delete(lending_co_data_numeric, [0, 2, 4], axis = 1)"
      ],
      "metadata": {
        "colab": {
          "base_uri": "https://localhost:8080/"
        },
        "id": "Gic0aX_afpmA",
        "outputId": "ed4bbe6e-a08f-4e88-cb24-80ca9d7ecd70"
      },
      "execution_count": 11,
      "outputs": [
        {
          "output_type": "execute_result",
          "data": {
            "text/plain": [
              "array([[   40.,  3121., 13621.],\n",
              "       [   40.,  3061., 15041.],\n",
              "       [   40.,  2160., 15340.],\n",
              "       ...,\n",
              "       [   40.,  4201., 16600.],\n",
              "       [   40.,  2080., 15600.],\n",
              "       [   40.,  4601., 16600.]])"
            ]
          },
          "metadata": {},
          "execution_count": 11
        }
      ]
    },
    {
      "cell_type": "code",
      "source": [
        "np.delete(np.delete(lending_co_data_numeric, [0, 2, 4], axis = 1), [0, 2, -1], axis = 0)"
      ],
      "metadata": {
        "colab": {
          "base_uri": "https://localhost:8080/"
        },
        "id": "03QhApy2fveS",
        "outputId": "9756c096-ef05-4c19-ad4a-2727cf7aa7fe"
      },
      "execution_count": 12,
      "outputs": [
        {
          "output_type": "execute_result",
          "data": {
            "text/plain": [
              "array([[   40.,  3061., 15041.],\n",
              "       [   40.,  3041., 15321.],\n",
              "       [   50.,  3470., 13720.],\n",
              "       ...,\n",
              "       [   40.,  4240., 16600.],\n",
              "       [   40.,  4201., 16600.],\n",
              "       [   40.,  2080., 15600.]])"
            ]
          },
          "metadata": {},
          "execution_count": 12
        }
      ]
    }
  ],
  "metadata": {
    "colab": {
      "provenance": [],
      "authorship_tag": "ABX9TyPxDcOCH7phzlgrbbhZvBPn",
      "include_colab_link": true
    },
    "kernelspec": {
      "display_name": "Python 3",
      "name": "python3"
    },
    "language_info": {
      "name": "python"
    }
  },
  "nbformat": 4,
  "nbformat_minor": 0
}