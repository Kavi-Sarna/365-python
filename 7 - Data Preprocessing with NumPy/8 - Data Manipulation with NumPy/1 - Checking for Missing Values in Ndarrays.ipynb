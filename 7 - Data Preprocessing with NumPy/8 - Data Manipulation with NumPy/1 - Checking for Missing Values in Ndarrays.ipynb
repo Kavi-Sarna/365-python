{
  "cells": [
    {
      "cell_type": "markdown",
      "metadata": {
        "id": "view-in-github",
        "colab_type": "text"
      },
      "source": [
        "<a href=\"https://colab.research.google.com/github/Kavi-Sarna/365-python/blob/main/7%20-%20Data%20Preprocessing%20with%20NumPy/8%20-%20Data%20Manipulation%20with%20NumPy/1%20-%20Checking%20for%20Missing%20Values%20in%20Ndarrays.ipynb\" target=\"_parent\"><img src=\"https://colab.research.google.com/assets/colab-badge.svg\" alt=\"Open In Colab\"/></a>"
      ]
    },
    {
      "cell_type": "code",
      "source": [
        "import numpy as np"
      ],
      "metadata": {
        "id": "eOFFIKCyaj1u"
      },
      "execution_count": 1,
      "outputs": []
    },
    {
      "cell_type": "code",
      "source": [
        "lending_co_data_numeric = np.loadtxt('Lending-company-Numeric.csv', delimiter = ',')\n",
        "lending_co_data_numeric"
      ],
      "metadata": {
        "colab": {
          "base_uri": "https://localhost:8080/"
        },
        "id": "ps75j1gzUaH5",
        "outputId": "63d998cf-f0b5-4d68-e022-edfa64d676b4"
      },
      "execution_count": 3,
      "outputs": [
        {
          "output_type": "execute_result",
          "data": {
            "text/plain": [
              "array([[ 2000.,    40.,   365.,  3121.,  4241., 13621.],\n",
              "       [ 2000.,    40.,   365.,  3061.,  4171., 15041.],\n",
              "       [ 1000.,    40.,   365.,  2160.,  3280., 15340.],\n",
              "       ...,\n",
              "       [ 2000.,    40.,   365.,  4201.,  5001., 16600.],\n",
              "       [ 1000.,    40.,   365.,  2080.,  3320., 15600.],\n",
              "       [ 2000.,    40.,   365.,  4601.,  4601., 16600.]])"
            ]
          },
          "metadata": {},
          "execution_count": 3
        }
      ]
    },
    {
      "cell_type": "code",
      "source": [
        "np.isnan(lending_co_data_numeric)"
      ],
      "metadata": {
        "colab": {
          "base_uri": "https://localhost:8080/"
        },
        "id": "HJcZZjuEUtey",
        "outputId": "6b5a740a-49f3-4df1-fe26-1079ff332df8"
      },
      "execution_count": 4,
      "outputs": [
        {
          "output_type": "execute_result",
          "data": {
            "text/plain": [
              "array([[False, False, False, False, False, False],\n",
              "       [False, False, False, False, False, False],\n",
              "       [False, False, False, False, False, False],\n",
              "       ...,\n",
              "       [False, False, False, False, False, False],\n",
              "       [False, False, False, False, False, False],\n",
              "       [False, False, False, False, False, False]])"
            ]
          },
          "metadata": {},
          "execution_count": 4
        }
      ]
    },
    {
      "cell_type": "code",
      "source": [
        "np.isnan(lending_co_data_numeric).sum()"
      ],
      "metadata": {
        "colab": {
          "base_uri": "https://localhost:8080/"
        },
        "id": "KYSGk7kMVAlh",
        "outputId": "31e6d475-daee-4fed-a341-11079d58bb83"
      },
      "execution_count": 5,
      "outputs": [
        {
          "output_type": "execute_result",
          "data": {
            "text/plain": [
              "0"
            ]
          },
          "metadata": {},
          "execution_count": 5
        }
      ]
    },
    {
      "cell_type": "code",
      "source": [
        "lending_co_data_numeric_NAN = np.loadtxt('Lending-company-Numeric-NAN.csv', delimiter = ';')\n",
        "lending_co_data_numeric_NAN"
      ],
      "metadata": {
        "colab": {
          "base_uri": "https://localhost:8080/",
          "height": 355
        },
        "id": "1d6fkf9sVJGZ",
        "outputId": "4692f5ef-832b-48e7-8c52-879ce2100239"
      },
      "execution_count": 6,
      "outputs": [
        {
          "output_type": "error",
          "ename": "ValueError",
          "evalue": "ignored",
          "traceback": [
            "\u001b[0;31m---------------------------------------------------------------------------\u001b[0m",
            "\u001b[0;31mValueError\u001b[0m                                Traceback (most recent call last)",
            "\u001b[0;32m<ipython-input-6-5c1b08df41d6>\u001b[0m in \u001b[0;36m<cell line: 1>\u001b[0;34m()\u001b[0m\n\u001b[0;32m----> 1\u001b[0;31m \u001b[0mlending_co_data_numeric_NAN\u001b[0m \u001b[0;34m=\u001b[0m \u001b[0mnp\u001b[0m\u001b[0;34m.\u001b[0m\u001b[0mloadtxt\u001b[0m\u001b[0;34m(\u001b[0m\u001b[0;34m'Lending-company-Numeric-NAN.csv'\u001b[0m\u001b[0;34m,\u001b[0m \u001b[0mdelimiter\u001b[0m \u001b[0;34m=\u001b[0m \u001b[0;34m';'\u001b[0m\u001b[0;34m)\u001b[0m\u001b[0;34m\u001b[0m\u001b[0;34m\u001b[0m\u001b[0m\n\u001b[0m\u001b[1;32m      2\u001b[0m \u001b[0mlending_co_data_numeric_NAN\u001b[0m\u001b[0;34m\u001b[0m\u001b[0;34m\u001b[0m\u001b[0m\n",
            "\u001b[0;32m/usr/local/lib/python3.10/dist-packages/numpy/lib/npyio.py\u001b[0m in \u001b[0;36mloadtxt\u001b[0;34m(fname, dtype, comments, delimiter, converters, skiprows, usecols, unpack, ndmin, encoding, max_rows, quotechar, like)\u001b[0m\n\u001b[1;32m   1336\u001b[0m         \u001b[0mdelimiter\u001b[0m \u001b[0;34m=\u001b[0m \u001b[0mdelimiter\u001b[0m\u001b[0;34m.\u001b[0m\u001b[0mdecode\u001b[0m\u001b[0;34m(\u001b[0m\u001b[0;34m'latin1'\u001b[0m\u001b[0;34m)\u001b[0m\u001b[0;34m\u001b[0m\u001b[0;34m\u001b[0m\u001b[0m\n\u001b[1;32m   1337\u001b[0m \u001b[0;34m\u001b[0m\u001b[0m\n\u001b[0;32m-> 1338\u001b[0;31m     arr = _read(fname, dtype=dtype, comment=comment, delimiter=delimiter,\n\u001b[0m\u001b[1;32m   1339\u001b[0m                 \u001b[0mconverters\u001b[0m\u001b[0;34m=\u001b[0m\u001b[0mconverters\u001b[0m\u001b[0;34m,\u001b[0m \u001b[0mskiplines\u001b[0m\u001b[0;34m=\u001b[0m\u001b[0mskiprows\u001b[0m\u001b[0;34m,\u001b[0m \u001b[0musecols\u001b[0m\u001b[0;34m=\u001b[0m\u001b[0musecols\u001b[0m\u001b[0;34m,\u001b[0m\u001b[0;34m\u001b[0m\u001b[0;34m\u001b[0m\u001b[0m\n\u001b[1;32m   1340\u001b[0m                 \u001b[0munpack\u001b[0m\u001b[0;34m=\u001b[0m\u001b[0munpack\u001b[0m\u001b[0;34m,\u001b[0m \u001b[0mndmin\u001b[0m\u001b[0;34m=\u001b[0m\u001b[0mndmin\u001b[0m\u001b[0;34m,\u001b[0m \u001b[0mencoding\u001b[0m\u001b[0;34m=\u001b[0m\u001b[0mencoding\u001b[0m\u001b[0;34m,\u001b[0m\u001b[0;34m\u001b[0m\u001b[0;34m\u001b[0m\u001b[0m\n",
            "\u001b[0;32m/usr/local/lib/python3.10/dist-packages/numpy/lib/npyio.py\u001b[0m in \u001b[0;36m_read\u001b[0;34m(fname, delimiter, comment, quote, imaginary_unit, usecols, skiplines, max_rows, converters, ndmin, unpack, dtype, encoding)\u001b[0m\n\u001b[1;32m    997\u001b[0m \u001b[0;34m\u001b[0m\u001b[0m\n\u001b[1;32m    998\u001b[0m         \u001b[0;32mif\u001b[0m \u001b[0mread_dtype_via_object_chunks\u001b[0m \u001b[0;32mis\u001b[0m \u001b[0;32mNone\u001b[0m\u001b[0;34m:\u001b[0m\u001b[0;34m\u001b[0m\u001b[0;34m\u001b[0m\u001b[0m\n\u001b[0;32m--> 999\u001b[0;31m             arr = _load_from_filelike(\n\u001b[0m\u001b[1;32m   1000\u001b[0m                 \u001b[0mdata\u001b[0m\u001b[0;34m,\u001b[0m \u001b[0mdelimiter\u001b[0m\u001b[0;34m=\u001b[0m\u001b[0mdelimiter\u001b[0m\u001b[0;34m,\u001b[0m \u001b[0mcomment\u001b[0m\u001b[0;34m=\u001b[0m\u001b[0mcomment\u001b[0m\u001b[0;34m,\u001b[0m \u001b[0mquote\u001b[0m\u001b[0;34m=\u001b[0m\u001b[0mquote\u001b[0m\u001b[0;34m,\u001b[0m\u001b[0;34m\u001b[0m\u001b[0;34m\u001b[0m\u001b[0m\n\u001b[1;32m   1001\u001b[0m                 \u001b[0mimaginary_unit\u001b[0m\u001b[0;34m=\u001b[0m\u001b[0mimaginary_unit\u001b[0m\u001b[0;34m,\u001b[0m\u001b[0;34m\u001b[0m\u001b[0;34m\u001b[0m\u001b[0m\n",
            "\u001b[0;31mValueError\u001b[0m: could not convert string '' to float64 at row 11, column 4."
          ]
        }
      ]
    },
    {
      "cell_type": "code",
      "source": [
        "lending_co_data_numeric_NAN = np.genfromtxt('Lending-company-Numeric-NAN.csv', delimiter = ';')\n",
        "lending_co_data_numeric_NAN"
      ],
      "metadata": {
        "colab": {
          "base_uri": "https://localhost:8080/"
        },
        "id": "C1eVZKxPVey2",
        "outputId": "e46ce833-750d-45b9-b4bf-c0071156620f"
      },
      "execution_count": 7,
      "outputs": [
        {
          "output_type": "execute_result",
          "data": {
            "text/plain": [
              "array([[ 2000.,    40.,   365.,  3121.,  4241., 13621.],\n",
              "       [ 2000.,    40.,   365.,  3061.,  4171., 15041.],\n",
              "       [ 1000.,    40.,   365.,  2160.,  3280., 15340.],\n",
              "       ...,\n",
              "       [   nan,    40.,   365.,  4201.,  5001., 16600.],\n",
              "       [ 1000.,    40.,   365.,  2080.,  3320., 15600.],\n",
              "       [ 2000.,    40.,   365.,  4601.,  4601., 16600.]])"
            ]
          },
          "metadata": {},
          "execution_count": 7
        }
      ]
    },
    {
      "cell_type": "code",
      "source": [
        "np.isnan(lending_co_data_numeric_NAN)"
      ],
      "metadata": {
        "colab": {
          "base_uri": "https://localhost:8080/"
        },
        "id": "6HH9N_cBVj52",
        "outputId": "774882ae-cd3f-425f-982b-f541341ef64c"
      },
      "execution_count": 8,
      "outputs": [
        {
          "output_type": "execute_result",
          "data": {
            "text/plain": [
              "array([[False, False, False, False, False, False],\n",
              "       [False, False, False, False, False, False],\n",
              "       [False, False, False, False, False, False],\n",
              "       ...,\n",
              "       [ True, False, False, False, False, False],\n",
              "       [False, False, False, False, False, False],\n",
              "       [False, False, False, False, False, False]])"
            ]
          },
          "metadata": {},
          "execution_count": 8
        }
      ]
    },
    {
      "cell_type": "code",
      "source": [
        "np.isnan(lending_co_data_numeric_NAN).sum()"
      ],
      "metadata": {
        "colab": {
          "base_uri": "https://localhost:8080/"
        },
        "id": "53pMRIzlVrTC",
        "outputId": "ec3423c2-fbf4-4e26-f1ed-ab1bac7235eb"
      },
      "execution_count": 9,
      "outputs": [
        {
          "output_type": "execute_result",
          "data": {
            "text/plain": [
              "260"
            ]
          },
          "metadata": {},
          "execution_count": 9
        }
      ]
    },
    {
      "cell_type": "code",
      "source": [
        "lending_co_data_numeric_NAN = np.genfromtxt('Lending-company-Numeric-NAN.csv', delimiter = ';', filling_values = 0)\n",
        "lending_co_data_numeric_NAN"
      ],
      "metadata": {
        "colab": {
          "base_uri": "https://localhost:8080/"
        },
        "id": "g-NfvXsFVuhB",
        "outputId": "ed6f1ea9-79b8-4bd0-b6f0-f598b7037bfc"
      },
      "execution_count": 10,
      "outputs": [
        {
          "output_type": "execute_result",
          "data": {
            "text/plain": [
              "array([[ 2000.,    40.,   365.,  3121.,  4241., 13621.],\n",
              "       [ 2000.,    40.,   365.,  3061.,  4171., 15041.],\n",
              "       [ 1000.,    40.,   365.,  2160.,  3280., 15340.],\n",
              "       ...,\n",
              "       [    0.,    40.,   365.,  4201.,  5001., 16600.],\n",
              "       [ 1000.,    40.,   365.,  2080.,  3320., 15600.],\n",
              "       [ 2000.,    40.,   365.,  4601.,  4601., 16600.]])"
            ]
          },
          "metadata": {},
          "execution_count": 10
        }
      ]
    },
    {
      "cell_type": "code",
      "source": [
        "np.isnan(lending_co_data_numeric_NAN).sum()"
      ],
      "metadata": {
        "colab": {
          "base_uri": "https://localhost:8080/"
        },
        "id": "Qrp3yRocWBoG",
        "outputId": "bb33914f-c4da-4af6-f408-256f39c925f2"
      },
      "execution_count": 11,
      "outputs": [
        {
          "output_type": "execute_result",
          "data": {
            "text/plain": [
              "0"
            ]
          },
          "metadata": {},
          "execution_count": 11
        }
      ]
    },
    {
      "cell_type": "code",
      "source": [
        "lending_co_data_numeric_NAN = np.genfromtxt('Lending-company-Numeric-NAN.csv', delimiter = ';')\n",
        "lending_co_data_numeric_NAN"
      ],
      "metadata": {
        "colab": {
          "base_uri": "https://localhost:8080/"
        },
        "id": "PDAQYJzTWEeX",
        "outputId": "14326de0-85da-4067-d6c1-78d1e709de23"
      },
      "execution_count": 12,
      "outputs": [
        {
          "output_type": "execute_result",
          "data": {
            "text/plain": [
              "array([[ 2000.,    40.,   365.,  3121.,  4241., 13621.],\n",
              "       [ 2000.,    40.,   365.,  3061.,  4171., 15041.],\n",
              "       [ 1000.,    40.,   365.,  2160.,  3280., 15340.],\n",
              "       ...,\n",
              "       [   nan,    40.,   365.,  4201.,  5001., 16600.],\n",
              "       [ 1000.,    40.,   365.,  2080.,  3320., 15600.],\n",
              "       [ 2000.,    40.,   365.,  4601.,  4601., 16600.]])"
            ]
          },
          "metadata": {},
          "execution_count": 12
        }
      ]
    },
    {
      "cell_type": "code",
      "source": [
        "temporary_fill = np.nanmax(lending_co_data_numeric_NAN)\n",
        "temporary_fill"
      ],
      "metadata": {
        "colab": {
          "base_uri": "https://localhost:8080/"
        },
        "id": "Fi1qIF5wWTJa",
        "outputId": "392822a5-a36b-48ec-dad6-f5a5f03baafa"
      },
      "execution_count": 14,
      "outputs": [
        {
          "output_type": "execute_result",
          "data": {
            "text/plain": [
              "64001.0"
            ]
          },
          "metadata": {},
          "execution_count": 14
        }
      ]
    },
    {
      "cell_type": "code",
      "source": [
        "temporary_fill = np.nanmax(lending_co_data_numeric_NAN).round(2)\n",
        "temporary_fill"
      ],
      "metadata": {
        "colab": {
          "base_uri": "https://localhost:8080/"
        },
        "id": "VK4z3XaAWacV",
        "outputId": "55f874db-d6ae-4a45-f358-86c45d8fba31"
      },
      "execution_count": 15,
      "outputs": [
        {
          "output_type": "execute_result",
          "data": {
            "text/plain": [
              "64001.0"
            ]
          },
          "metadata": {},
          "execution_count": 15
        }
      ]
    },
    {
      "cell_type": "code",
      "source": [
        "temporary_fill = np.nanmax(lending_co_data_numeric_NAN).round(2) + 1\n",
        "temporary_fill"
      ],
      "metadata": {
        "colab": {
          "base_uri": "https://localhost:8080/"
        },
        "id": "cHXb3QZ4WjRI",
        "outputId": "b12e3436-0159-40e1-ecd8-94f8e21d8d48"
      },
      "execution_count": 16,
      "outputs": [
        {
          "output_type": "execute_result",
          "data": {
            "text/plain": [
              "64002.0"
            ]
          },
          "metadata": {},
          "execution_count": 16
        }
      ]
    },
    {
      "cell_type": "code",
      "source": [
        "lending_co_data_numeric_NAN = np.genfromtxt('Lending-company-Numeric-NAN.csv', delimiter = ';', filling_values = temporary_fill)\n",
        "lending_co_data_numeric_NAN"
      ],
      "metadata": {
        "colab": {
          "base_uri": "https://localhost:8080/"
        },
        "id": "NDMSV3-aWmXg",
        "outputId": "fe2003fa-5586-4eee-88d7-d0bfc09848da"
      },
      "execution_count": 17,
      "outputs": [
        {
          "output_type": "execute_result",
          "data": {
            "text/plain": [
              "array([[2.0000e+03, 4.0000e+01, 3.6500e+02, 3.1210e+03, 4.2410e+03,\n",
              "        1.3621e+04],\n",
              "       [2.0000e+03, 4.0000e+01, 3.6500e+02, 3.0610e+03, 4.1710e+03,\n",
              "        1.5041e+04],\n",
              "       [1.0000e+03, 4.0000e+01, 3.6500e+02, 2.1600e+03, 3.2800e+03,\n",
              "        1.5340e+04],\n",
              "       ...,\n",
              "       [6.4002e+04, 4.0000e+01, 3.6500e+02, 4.2010e+03, 5.0010e+03,\n",
              "        1.6600e+04],\n",
              "       [1.0000e+03, 4.0000e+01, 3.6500e+02, 2.0800e+03, 3.3200e+03,\n",
              "        1.5600e+04],\n",
              "       [2.0000e+03, 4.0000e+01, 3.6500e+02, 4.6010e+03, 4.6010e+03,\n",
              "        1.6600e+04]])"
            ]
          },
          "metadata": {},
          "execution_count": 17
        }
      ]
    },
    {
      "cell_type": "code",
      "source": [
        "np.isnan(lending_co_data_numeric_NAN).sum()"
      ],
      "metadata": {
        "colab": {
          "base_uri": "https://localhost:8080/"
        },
        "id": "DKclwuMuWxfB",
        "outputId": "1ee41a7a-7f4b-4b86-cf61-299874c2f8dd"
      },
      "execution_count": 18,
      "outputs": [
        {
          "output_type": "execute_result",
          "data": {
            "text/plain": [
              "0"
            ]
          },
          "metadata": {},
          "execution_count": 18
        }
      ]
    }
  ],
  "metadata": {
    "colab": {
      "provenance": [],
      "authorship_tag": "ABX9TyO+k+6DP623n2Ry2VsuJFsT",
      "include_colab_link": true
    },
    "kernelspec": {
      "display_name": "Python 3",
      "name": "python3"
    },
    "language_info": {
      "name": "python"
    }
  },
  "nbformat": 4,
  "nbformat_minor": 0
}