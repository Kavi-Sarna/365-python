{
  "cells": [
    {
      "cell_type": "markdown",
      "metadata": {
        "id": "view-in-github",
        "colab_type": "text"
      },
      "source": [
        "<a href=\"https://colab.research.google.com/github/Kavi-Sarna/365-python/blob/main/7%20-%20Data%20Preprocessing%20with%20NumPy/8%20-%20Data%20Manipulation%20with%20NumPy/10%20-%20Striping%20Values%20from%20Ndarrays.ipynb\" target=\"_parent\"><img src=\"https://colab.research.google.com/assets/colab-badge.svg\" alt=\"Open In Colab\"/></a>"
      ]
    },
    {
      "cell_type": "code",
      "source": [
        "import numpy as np"
      ],
      "metadata": {
        "id": "eOFFIKCyaj1u"
      },
      "execution_count": 1,
      "outputs": []
    },
    {
      "cell_type": "code",
      "source": [
        "lending_co_total_price = np.genfromtxt('Lending-Company-Total-Price.csv',\n",
        "                                     delimiter = ',',\n",
        "                                     dtype = np.str_,\n",
        "                                     skip_header = 1,\n",
        "                                     usecols = [1, 2, 4])\n",
        "lending_co_total_price"
      ],
      "metadata": {
        "colab": {
          "base_uri": "https://localhost:8080/"
        },
        "id": "ps75j1gzUaH5",
        "outputId": "55f74f60-4996-41d7-f42a-c7d3fc520192"
      },
      "execution_count": 2,
      "outputs": [
        {
          "output_type": "execute_result",
          "data": {
            "text/plain": [
              "array([['id_1', 'Product B', 'Location 2'],\n",
              "       ['id_2', 'Product B', 'Location 3'],\n",
              "       ['id_3', 'Product C', 'Location 5'],\n",
              "       ...,\n",
              "       ['id_413', 'Product B', 'Location 135'],\n",
              "       ['id_414', 'Product C', 'Location 200'],\n",
              "       ['id_415', 'Product A', 'Location 8']], dtype='<U12')"
            ]
          },
          "metadata": {},
          "execution_count": 2
        }
      ]
    },
    {
      "cell_type": "code",
      "source": [
        "np.chararray.strip(lending_co_total_price[:,0], \"id_\")"
      ],
      "metadata": {
        "colab": {
          "base_uri": "https://localhost:8080/"
        },
        "id": "ai3-udDPuBoB",
        "outputId": "6b511d13-b4f3-47c6-9772-c2b6d3a8a1c3"
      },
      "execution_count": 3,
      "outputs": [
        {
          "output_type": "execute_result",
          "data": {
            "text/plain": [
              "chararray(['1', '2', '3', '4', '5', '6', '7', '8', '9', '10', '11', '12',\n",
              "           '13', '14', '15', '16', '17', '18', '19', '20', '21', '22',\n",
              "           '23', '24', '25', '26', '27', '28', '29', '30', '31', '32',\n",
              "           '33', '34', '35', '36', '37', '38', '39', '40', '41', '42',\n",
              "           '43', '44', '45', '46', '47', '48', '49', '50', '51', '52',\n",
              "           '53', '54', '55', '56', '57', '58', '59', '60', '61', '62',\n",
              "           '63', '64', '65', '66', '67', '68', '69', '70', '71', '72',\n",
              "           '73', '74', '75', '76', '77', '78', '79', '80', '81', '82',\n",
              "           '83', '84', '85', '86', '87', '88', '89', '90', '91', '92',\n",
              "           '93', '94', '95', '96', '97', '98', '99', '100', '101', '102',\n",
              "           '103', '104', '105', '106', '107', '108', '109', '110', '111',\n",
              "           '112', '113', '114', '115', '116', '117', '118', '119', '120',\n",
              "           '121', '122', '123', '124', '125', '126', '127', '128', '129',\n",
              "           '130', '131', '132', '133', '134', '135', '136', '137', '138',\n",
              "           '139', '140', '141', '142', '143', '144', '145', '146', '147',\n",
              "           '148', '149', '150', '151', '152', '153', '154', '155', '156',\n",
              "           '157', '158', '159', '160', '161', '162', '163', '164', '165',\n",
              "           '166', '167', '168', '169', '170', '171', '172', '173', '174',\n",
              "           '175', '176', '177', '178', '179', '180', '181', '182', '183',\n",
              "           '184', '185', '186', '187', '188', '189', '190', '191', '192',\n",
              "           '193', '194', '195', '196', '197', '198', '199', '200', '201',\n",
              "           '202', '203', '204', '205', '206', '207', '208', '209', '210',\n",
              "           '211', '212', '213', '214', '215', '216', '217', '218', '219',\n",
              "           '220', '221', '222', '223', '224', '225', '226', '227', '228',\n",
              "           '229', '230', '231', '232', '233', '234', '235', '236', '237',\n",
              "           '238', '239', '240', '241', '242', '243', '244', '245', '246',\n",
              "           '247', '248', '249', '250', '251', '252', '253', '254', '255',\n",
              "           '256', '257', '258', '259', '260', '261', '262', '263', '264',\n",
              "           '265', '266', '267', '268', '269', '270', '271', '272', '273',\n",
              "           '274', '275', '276', '277', '278', '279', '280', '281', '282',\n",
              "           '283', '284', '285', '286', '287', '288', '289', '290', '291',\n",
              "           '292', '293', '294', '295', '296', '297', '298', '299', '300',\n",
              "           '301', '302', '303', '304', '305', '306', '307', '308', '309',\n",
              "           '310', '311', '312', '313', '314', '315', '316', '317', '318',\n",
              "           '319', '320', '321', '322', '323', '324', '325', '326', '327',\n",
              "           '328', '329', '330', '331', '332', '333', '334', '335', '336',\n",
              "           '337', '338', '339', '340', '341', '342', '343', '344', '345',\n",
              "           '346', '347', '348', '349', '350', '351', '352', '353', '354',\n",
              "           '355', '356', '357', '358', '359', '360', '361', '362', '363',\n",
              "           '364', '365', '366', '367', '368', '369', '370', '371', '372',\n",
              "           '373', '374', '375', '376', '377', '378', '379', '380', '381',\n",
              "           '382', '383', '384', '385', '386', '387', '388', '389', '390',\n",
              "           '391', '392', '393', '394', '395', '396', '397', '398', '399',\n",
              "           '400', '401', '402', '403', '404', '405', '406', '407', '408',\n",
              "           '409', '410', '411', '412', '413', '414', '415'], dtype='<U12')"
            ]
          },
          "metadata": {},
          "execution_count": 3
        }
      ]
    },
    {
      "cell_type": "code",
      "source": [
        "lending_co_total_price[:, 0] = np.chararray.strip(lending_co_total_price[:, 0], \"id_\")\n",
        "lending_co_total_price[:, 1] = np.chararray.strip(lending_co_total_price[:, 1], \"Product \")\n",
        "lending_co_total_price[:, 2] = np.chararray.strip(lending_co_total_price[:, 2], \"Location \")\n",
        "lending_co_total_price"
      ],
      "metadata": {
        "colab": {
          "base_uri": "https://localhost:8080/"
        },
        "id": "b3LIN__4vKI2",
        "outputId": "0ff82040-6248-4dc6-ed6d-9365322c0590"
      },
      "execution_count": 4,
      "outputs": [
        {
          "output_type": "execute_result",
          "data": {
            "text/plain": [
              "array([['1', 'B', '2'],\n",
              "       ['2', 'B', '3'],\n",
              "       ['3', 'C', '5'],\n",
              "       ...,\n",
              "       ['413', 'B', '135'],\n",
              "       ['414', 'C', '200'],\n",
              "       ['415', 'A', '8']], dtype='<U12')"
            ]
          },
          "metadata": {},
          "execution_count": 4
        }
      ]
    },
    {
      "cell_type": "code",
      "source": [
        "lending_co_total_price[:, 1] = np.where(lending_co_total_price[:, 1] == 'A', 1, lending_co_total_price[:, 1])\n",
        "lending_co_total_price[:, 1] = np.where(lending_co_total_price[:, 1] == 'B', 2, lending_co_total_price[:, 1])\n",
        "lending_co_total_price[:, 1] = np.where(lending_co_total_price[:, 1] == 'C', 3, lending_co_total_price[:, 1])\n",
        "lending_co_total_price[:, 1] = np.where(lending_co_total_price[:, 1] == 'D', 4, lending_co_total_price[:, 1])\n",
        "lending_co_total_price[:, 1] = np.where(lending_co_total_price[:, 1] == 'E', 5, lending_co_total_price[:, 1])\n",
        "lending_co_total_price[:, 1] = np.where(lending_co_total_price[:, 1] == 'F', 6, lending_co_total_price[:, 1])\n",
        "\n",
        "lending_co_total_price"
      ],
      "metadata": {
        "colab": {
          "base_uri": "https://localhost:8080/"
        },
        "id": "utOkMow9vlLM",
        "outputId": "093a6ff7-e537-4157-8b7f-cfa20de1f0be"
      },
      "execution_count": 5,
      "outputs": [
        {
          "output_type": "execute_result",
          "data": {
            "text/plain": [
              "array([['1', '2', '2'],\n",
              "       ['2', '2', '3'],\n",
              "       ['3', '3', '5'],\n",
              "       ...,\n",
              "       ['413', '2', '135'],\n",
              "       ['414', '3', '200'],\n",
              "       ['415', '1', '8']], dtype='<U12')"
            ]
          },
          "metadata": {},
          "execution_count": 5
        }
      ]
    },
    {
      "cell_type": "code",
      "source": [
        "lending_co_total_price = lending_co_total_price.astype(dtype = np.int32)\n",
        "lending_co_total_price"
      ],
      "metadata": {
        "colab": {
          "base_uri": "https://localhost:8080/"
        },
        "id": "nKvCQp8YwGFJ",
        "outputId": "063e53ef-01d7-455b-9bfa-a2f4d82d71e2"
      },
      "execution_count": 6,
      "outputs": [
        {
          "output_type": "execute_result",
          "data": {
            "text/plain": [
              "array([[  1,   2,   2],\n",
              "       [  2,   2,   3],\n",
              "       [  3,   3,   5],\n",
              "       ...,\n",
              "       [413,   2, 135],\n",
              "       [414,   3, 200],\n",
              "       [415,   1,   8]], dtype=int32)"
            ]
          },
          "metadata": {},
          "execution_count": 6
        }
      ]
    }
  ],
  "metadata": {
    "colab": {
      "provenance": [],
      "authorship_tag": "ABX9TyOH1Izx7xiPxm4RIkVdnwft",
      "include_colab_link": true
    },
    "kernelspec": {
      "display_name": "Python 3",
      "name": "python3"
    },
    "language_info": {
      "name": "python"
    }
  },
  "nbformat": 4,
  "nbformat_minor": 0
}