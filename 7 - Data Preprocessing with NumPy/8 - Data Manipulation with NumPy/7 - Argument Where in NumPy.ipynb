{
  "cells": [
    {
      "cell_type": "markdown",
      "metadata": {
        "id": "view-in-github",
        "colab_type": "text"
      },
      "source": [
        "<a href=\"https://colab.research.google.com/github/Kavi-Sarna/365-python/blob/main/7%20-%20Data%20Preprocessing%20with%20NumPy/8%20-%20Data%20Manipulation%20with%20NumPy/7%20-%20Argument%20Where%20in%20NumPy.ipynb\" target=\"_parent\"><img src=\"https://colab.research.google.com/assets/colab-badge.svg\" alt=\"Open In Colab\"/></a>"
      ]
    },
    {
      "cell_type": "code",
      "source": [
        "import numpy as np"
      ],
      "metadata": {
        "id": "eOFFIKCyaj1u"
      },
      "execution_count": 1,
      "outputs": []
    },
    {
      "cell_type": "code",
      "source": [
        "lending_co_data_numeric = np.loadtxt('Lending-company-Numeric.csv', delimiter = ',')\n",
        "lending_co_data_numeric"
      ],
      "metadata": {
        "colab": {
          "base_uri": "https://localhost:8080/"
        },
        "id": "ps75j1gzUaH5",
        "outputId": "7848e8fe-5ed5-462a-ec13-332d99648b7a"
      },
      "execution_count": 2,
      "outputs": [
        {
          "output_type": "execute_result",
          "data": {
            "text/plain": [
              "array([[ 2000.,    40.,   365.,  3121.,  4241., 13621.],\n",
              "       [ 2000.,    40.,   365.,  3061.,  4171., 15041.],\n",
              "       [ 1000.,    40.,   365.,  2160.,  3280., 15340.],\n",
              "       ...,\n",
              "       [ 2000.,    40.,   365.,  4201.,  5001., 16600.],\n",
              "       [ 1000.,    40.,   365.,  2080.,  3320., 15600.],\n",
              "       [ 2000.,    40.,   365.,  4601.,  4601., 16600.]])"
            ]
          },
          "metadata": {},
          "execution_count": 2
        }
      ]
    },
    {
      "cell_type": "code",
      "source": [
        "np.argwhere(lending_co_data_numeric)"
      ],
      "metadata": {
        "colab": {
          "base_uri": "https://localhost:8080/"
        },
        "id": "DkL8ReCylX_W",
        "outputId": "e0db5250-dcdd-4036-8c92-c1907a3e1a84"
      },
      "execution_count": 3,
      "outputs": [
        {
          "output_type": "execute_result",
          "data": {
            "text/plain": [
              "array([[   0,    0],\n",
              "       [   0,    1],\n",
              "       [   0,    2],\n",
              "       ...,\n",
              "       [1042,    3],\n",
              "       [1042,    4],\n",
              "       [1042,    5]])"
            ]
          },
          "metadata": {},
          "execution_count": 3
        }
      ]
    },
    {
      "cell_type": "code",
      "source": [
        "np.argwhere(lending_co_data_numeric == False)"
      ],
      "metadata": {
        "colab": {
          "base_uri": "https://localhost:8080/"
        },
        "id": "UWkjP4kolsO0",
        "outputId": "c2752caa-2302-42c7-a218-29dd90484ce5"
      },
      "execution_count": 4,
      "outputs": [
        {
          "output_type": "execute_result",
          "data": {
            "text/plain": [
              "array([[116,   4],\n",
              "       [430,   3]])"
            ]
          },
          "metadata": {},
          "execution_count": 4
        }
      ]
    },
    {
      "cell_type": "code",
      "source": [
        "lending_co_data_numeric[116]"
      ],
      "metadata": {
        "colab": {
          "base_uri": "https://localhost:8080/"
        },
        "id": "I-xvejZZmMEb",
        "outputId": "0b582dbd-1d1e-422b-8ce5-768856ce2a69"
      },
      "execution_count": 5,
      "outputs": [
        {
          "output_type": "execute_result",
          "data": {
            "text/plain": [
              "array([ 1000.,    50.,   365., -1450.,     0., 13850.])"
            ]
          },
          "metadata": {},
          "execution_count": 5
        }
      ]
    },
    {
      "cell_type": "code",
      "source": [
        "lending_co_data_numeric[430]"
      ],
      "metadata": {
        "colab": {
          "base_uri": "https://localhost:8080/"
        },
        "id": "8VcBFjkhmPQz",
        "outputId": "ecbe5989-c627-4103-992c-dea79e9bc7cb"
      },
      "execution_count": 6,
      "outputs": [
        {
          "output_type": "execute_result",
          "data": {
            "text/plain": [
              "array([1000.,   50.,  365.,    0.,  550., 5650.])"
            ]
          },
          "metadata": {},
          "execution_count": 6
        }
      ]
    },
    {
      "cell_type": "code",
      "source": [
        "lending_co_data_numeric"
      ],
      "metadata": {
        "colab": {
          "base_uri": "https://localhost:8080/"
        },
        "id": "UGK6fERjmSrs",
        "outputId": "f5eed56d-61ca-419a-c258-237f45e97524"
      },
      "execution_count": 7,
      "outputs": [
        {
          "output_type": "execute_result",
          "data": {
            "text/plain": [
              "array([[ 2000.,    40.,   365.,  3121.,  4241., 13621.],\n",
              "       [ 2000.,    40.,   365.,  3061.,  4171., 15041.],\n",
              "       [ 1000.,    40.,   365.,  2160.,  3280., 15340.],\n",
              "       ...,\n",
              "       [ 2000.,    40.,   365.,  4201.,  5001., 16600.],\n",
              "       [ 1000.,    40.,   365.,  2080.,  3320., 15600.],\n",
              "       [ 2000.,    40.,   365.,  4601.,  4601., 16600.]])"
            ]
          },
          "metadata": {},
          "execution_count": 7
        }
      ]
    },
    {
      "cell_type": "code",
      "source": [
        "np.argwhere(lending_co_data_numeric > 1000)"
      ],
      "metadata": {
        "colab": {
          "base_uri": "https://localhost:8080/"
        },
        "id": "Qdu4D-YqmXMY",
        "outputId": "fa72f273-5eb0-40f6-9597-0b48401e9012"
      },
      "execution_count": 8,
      "outputs": [
        {
          "output_type": "execute_result",
          "data": {
            "text/plain": [
              "array([[   0,    0],\n",
              "       [   0,    3],\n",
              "       [   0,    4],\n",
              "       ...,\n",
              "       [1042,    3],\n",
              "       [1042,    4],\n",
              "       [1042,    5]])"
            ]
          },
          "metadata": {},
          "execution_count": 8
        }
      ]
    },
    {
      "cell_type": "code",
      "source": [
        "np.argwhere(lending_co_data_numeric < 1000)"
      ],
      "metadata": {
        "colab": {
          "base_uri": "https://localhost:8080/"
        },
        "id": "hJrpIyWGmc3d",
        "outputId": "06d8dc5d-2ca0-437c-8439-beabae5b7214"
      },
      "execution_count": 9,
      "outputs": [
        {
          "output_type": "execute_result",
          "data": {
            "text/plain": [
              "array([[   0,    1],\n",
              "       [   0,    2],\n",
              "       [   1,    1],\n",
              "       ...,\n",
              "       [1041,    2],\n",
              "       [1042,    1],\n",
              "       [1042,    2]])"
            ]
          },
          "metadata": {},
          "execution_count": 9
        }
      ]
    },
    {
      "cell_type": "code",
      "source": [
        "np.argwhere(lending_co_data_numeric % 2 == 0)"
      ],
      "metadata": {
        "colab": {
          "base_uri": "https://localhost:8080/"
        },
        "id": "UcrCR79emgM0",
        "outputId": "488791fc-9e30-463b-b439-d95015bcee33"
      },
      "execution_count": 10,
      "outputs": [
        {
          "output_type": "execute_result",
          "data": {
            "text/plain": [
              "array([[   0,    0],\n",
              "       [   0,    1],\n",
              "       [   1,    0],\n",
              "       ...,\n",
              "       [1042,    0],\n",
              "       [1042,    1],\n",
              "       [1042,    5]])"
            ]
          },
          "metadata": {},
          "execution_count": 10
        }
      ]
    },
    {
      "cell_type": "code",
      "source": [
        "lending_co_data_numeric.argwhere()"
      ],
      "metadata": {
        "colab": {
          "base_uri": "https://localhost:8080/",
          "height": 175
        },
        "id": "TC6BFXPsmk1_",
        "outputId": "45dedd4b-83c7-40da-f668-e82b915777ac"
      },
      "execution_count": 11,
      "outputs": [
        {
          "output_type": "error",
          "ename": "AttributeError",
          "evalue": "ignored",
          "traceback": [
            "\u001b[0;31m---------------------------------------------------------------------------\u001b[0m",
            "\u001b[0;31mAttributeError\u001b[0m                            Traceback (most recent call last)",
            "\u001b[0;32m<ipython-input-11-7e8f170e2fca>\u001b[0m in \u001b[0;36m<cell line: 1>\u001b[0;34m()\u001b[0m\n\u001b[0;32m----> 1\u001b[0;31m \u001b[0mlending_co_data_numeric\u001b[0m\u001b[0;34m.\u001b[0m\u001b[0margwhere\u001b[0m\u001b[0;34m(\u001b[0m\u001b[0;34m)\u001b[0m\u001b[0;34m\u001b[0m\u001b[0;34m\u001b[0m\u001b[0m\n\u001b[0m",
            "\u001b[0;31mAttributeError\u001b[0m: 'numpy.ndarray' object has no attribute 'argwhere'"
          ]
        }
      ]
    },
    {
      "cell_type": "code",
      "source": [
        "np.isnan(lending_co_data_numeric).sum()"
      ],
      "metadata": {
        "colab": {
          "base_uri": "https://localhost:8080/"
        },
        "id": "OivynAygmyoY",
        "outputId": "f60e204c-30c8-46bc-a3b3-d2ee4f09015a"
      },
      "execution_count": 12,
      "outputs": [
        {
          "output_type": "execute_result",
          "data": {
            "text/plain": [
              "0"
            ]
          },
          "metadata": {},
          "execution_count": 12
        }
      ]
    },
    {
      "cell_type": "code",
      "source": [
        "lending_co_data_numeric_NAN = np.genfromtxt('Lending-company-Numeric-NAN.csv', delimiter = ';')\n",
        "lending_co_data_numeric_NAN"
      ],
      "metadata": {
        "colab": {
          "base_uri": "https://localhost:8080/"
        },
        "id": "fEjwK1xDm67I",
        "outputId": "fd0060f4-87f5-45e6-d5ac-89ec34aa7a02"
      },
      "execution_count": 14,
      "outputs": [
        {
          "output_type": "execute_result",
          "data": {
            "text/plain": [
              "array([[ 2000.,    40.,   365.,  3121.,  4241., 13621.],\n",
              "       [ 2000.,    40.,   365.,  3061.,  4171., 15041.],\n",
              "       [ 1000.,    40.,   365.,  2160.,  3280., 15340.],\n",
              "       ...,\n",
              "       [   nan,    40.,   365.,  4201.,  5001., 16600.],\n",
              "       [ 1000.,    40.,   365.,  2080.,  3320., 15600.],\n",
              "       [ 2000.,    40.,   365.,  4601.,  4601., 16600.]])"
            ]
          },
          "metadata": {},
          "execution_count": 14
        }
      ]
    },
    {
      "cell_type": "code",
      "source": [
        "np.isnan(lending_co_data_numeric_NAN)"
      ],
      "metadata": {
        "colab": {
          "base_uri": "https://localhost:8080/"
        },
        "id": "qdB3FkHPnEec",
        "outputId": "a43be14e-2fcb-4686-b122-26217a302649"
      },
      "execution_count": 15,
      "outputs": [
        {
          "output_type": "execute_result",
          "data": {
            "text/plain": [
              "array([[False, False, False, False, False, False],\n",
              "       [False, False, False, False, False, False],\n",
              "       [False, False, False, False, False, False],\n",
              "       ...,\n",
              "       [ True, False, False, False, False, False],\n",
              "       [False, False, False, False, False, False],\n",
              "       [False, False, False, False, False, False]])"
            ]
          },
          "metadata": {},
          "execution_count": 15
        }
      ]
    },
    {
      "cell_type": "code",
      "source": [
        "np.argwhere(np.isnan(lending_co_data_numeric_NAN))"
      ],
      "metadata": {
        "colab": {
          "base_uri": "https://localhost:8080/"
        },
        "id": "PpBX4SFKnRDi",
        "outputId": "085edc4d-db6c-4746-e174-59ca1682a699"
      },
      "execution_count": 16,
      "outputs": [
        {
          "output_type": "execute_result",
          "data": {
            "text/plain": [
              "array([[  11,    3],\n",
              "       [  15,    3],\n",
              "       [  27,    3],\n",
              "       [  58,    3],\n",
              "       [  60,    4],\n",
              "       [  85,    4],\n",
              "       [ 117,    5],\n",
              "       [ 152,    1],\n",
              "       [ 152,    2],\n",
              "       [ 152,    4],\n",
              "       [ 172,    1],\n",
              "       [ 175,    1],\n",
              "       [ 175,    2],\n",
              "       [ 176,    3],\n",
              "       [ 177,    4],\n",
              "       [ 178,    5],\n",
              "       [ 211,    3],\n",
              "       [ 229,    0],\n",
              "       [ 230,    1],\n",
              "       [ 237,    1],\n",
              "       [ 247,    3],\n",
              "       [ 251,    5],\n",
              "       [ 252,    4],\n",
              "       [ 258,    1],\n",
              "       [ 260,    3],\n",
              "       [ 262,    4],\n",
              "       [ 271,    5],\n",
              "       [ 272,    4],\n",
              "       [ 284,    2],\n",
              "       [ 284,    3],\n",
              "       [ 297,    1],\n",
              "       [ 297,    2],\n",
              "       [ 300,    3],\n",
              "       [ 315,    3],\n",
              "       [ 315,    5],\n",
              "       [ 327,    4],\n",
              "       [ 336,    4],\n",
              "       [ 343,    0],\n",
              "       [ 344,    2],\n",
              "       [ 346,    2],\n",
              "       [ 363,    3],\n",
              "       [ 375,    3],\n",
              "       [ 377,    2],\n",
              "       [ 398,    5],\n",
              "       [ 416,    4],\n",
              "       [ 428,    0],\n",
              "       [ 432,    1],\n",
              "       [ 433,    3],\n",
              "       [ 434,    2],\n",
              "       [ 440,    3],\n",
              "       [ 441,    1],\n",
              "       [ 446,    2],\n",
              "       [ 455,    1],\n",
              "       [ 456,    2],\n",
              "       [ 458,    2],\n",
              "       [ 461,    3],\n",
              "       [ 467,    4],\n",
              "       [ 468,    0],\n",
              "       [ 469,    3],\n",
              "       [ 470,    0],\n",
              "       [ 481,    1],\n",
              "       [ 482,    3],\n",
              "       [ 484,    4],\n",
              "       [ 489,    0],\n",
              "       [ 493,    5],\n",
              "       [ 499,    0],\n",
              "       [ 504,    3],\n",
              "       [ 506,    1],\n",
              "       [ 517,    4],\n",
              "       [ 518,    0],\n",
              "       [ 521,    2],\n",
              "       [ 530,    5],\n",
              "       [ 532,    3],\n",
              "       [ 534,    5],\n",
              "       [ 547,    3],\n",
              "       [ 549,    5],\n",
              "       [ 553,    5],\n",
              "       [ 554,    5],\n",
              "       [ 559,    3],\n",
              "       [ 566,    0],\n",
              "       [ 566,    1],\n",
              "       [ 566,    2],\n",
              "       [ 567,    0],\n",
              "       [ 567,    1],\n",
              "       [ 567,    2],\n",
              "       [ 581,    1],\n",
              "       [ 581,    2],\n",
              "       [ 582,    1],\n",
              "       [ 582,    2],\n",
              "       [ 583,    1],\n",
              "       [ 583,    2],\n",
              "       [ 593,    3],\n",
              "       [ 594,    3],\n",
              "       [ 595,    3],\n",
              "       [ 596,    3],\n",
              "       [ 609,    4],\n",
              "       [ 609,    5],\n",
              "       [ 610,    4],\n",
              "       [ 610,    5],\n",
              "       [ 611,    4],\n",
              "       [ 611,    5],\n",
              "       [ 612,    4],\n",
              "       [ 612,    5],\n",
              "       [ 623,    2],\n",
              "       [ 623,    3],\n",
              "       [ 624,    2],\n",
              "       [ 624,    3],\n",
              "       [ 625,    2],\n",
              "       [ 625,    3],\n",
              "       [ 626,    2],\n",
              "       [ 626,    3],\n",
              "       [ 627,    2],\n",
              "       [ 627,    3],\n",
              "       [ 636,    0],\n",
              "       [ 637,    0],\n",
              "       [ 637,    4],\n",
              "       [ 637,    5],\n",
              "       [ 638,    0],\n",
              "       [ 638,    4],\n",
              "       [ 638,    5],\n",
              "       [ 639,    4],\n",
              "       [ 639,    5],\n",
              "       [ 640,    4],\n",
              "       [ 640,    5],\n",
              "       [ 641,    4],\n",
              "       [ 641,    5],\n",
              "       [ 653,    1],\n",
              "       [ 653,    2],\n",
              "       [ 653,    3],\n",
              "       [ 653,    4],\n",
              "       [ 654,    1],\n",
              "       [ 654,    2],\n",
              "       [ 654,    3],\n",
              "       [ 654,    4],\n",
              "       [ 655,    1],\n",
              "       [ 655,    2],\n",
              "       [ 655,    3],\n",
              "       [ 655,    4],\n",
              "       [ 685,    2],\n",
              "       [ 686,    0],\n",
              "       [ 701,    4],\n",
              "       [ 704,    2],\n",
              "       [ 724,    1],\n",
              "       [ 724,    2],\n",
              "       [ 730,    1],\n",
              "       [ 730,    2],\n",
              "       [ 730,    3],\n",
              "       [ 731,    1],\n",
              "       [ 731,    2],\n",
              "       [ 731,    3],\n",
              "       [ 732,    1],\n",
              "       [ 732,    2],\n",
              "       [ 732,    3],\n",
              "       [ 733,    1],\n",
              "       [ 733,    2],\n",
              "       [ 733,    3],\n",
              "       [ 742,    4],\n",
              "       [ 747,    3],\n",
              "       [ 755,    1],\n",
              "       [ 758,    1],\n",
              "       [ 760,    1],\n",
              "       [ 764,    0],\n",
              "       [ 764,    1],\n",
              "       [ 764,    2],\n",
              "       [ 764,    3],\n",
              "       [ 764,    4],\n",
              "       [ 764,    5],\n",
              "       [ 765,    3],\n",
              "       [ 775,    1],\n",
              "       [ 775,    2],\n",
              "       [ 775,    3],\n",
              "       [ 776,    1],\n",
              "       [ 776,    2],\n",
              "       [ 776,    3],\n",
              "       [ 777,    1],\n",
              "       [ 777,    2],\n",
              "       [ 777,    3],\n",
              "       [ 778,    1],\n",
              "       [ 778,    2],\n",
              "       [ 778,    3],\n",
              "       [ 787,    4],\n",
              "       [ 788,    1],\n",
              "       [ 790,    2],\n",
              "       [ 794,    3],\n",
              "       [ 795,    5],\n",
              "       [ 796,    1],\n",
              "       [ 796,    4],\n",
              "       [ 800,    0],\n",
              "       [ 801,    1],\n",
              "       [ 802,    1],\n",
              "       [ 803,    2],\n",
              "       [ 805,    0],\n",
              "       [ 809,    0],\n",
              "       [ 810,    0],\n",
              "       [ 811,    0],\n",
              "       [ 812,    1],\n",
              "       [ 820,    0],\n",
              "       [ 820,    3],\n",
              "       [ 820,    4],\n",
              "       [ 822,    2],\n",
              "       [ 823,    2],\n",
              "       [ 825,    0],\n",
              "       [ 830,    1],\n",
              "       [ 830,    2],\n",
              "       [ 836,    3],\n",
              "       [ 837,    3],\n",
              "       [ 838,    3],\n",
              "       [ 839,    4],\n",
              "       [ 843,    2],\n",
              "       [ 856,    0],\n",
              "       [ 856,    1],\n",
              "       [ 856,    3],\n",
              "       [ 856,    4],\n",
              "       [ 856,    5],\n",
              "       [ 857,    0],\n",
              "       [ 858,    1],\n",
              "       [ 870,    0],\n",
              "       [ 870,    2],\n",
              "       [ 870,    3],\n",
              "       [ 872,    0],\n",
              "       [ 873,    0],\n",
              "       [ 874,    1],\n",
              "       [ 890,    1],\n",
              "       [ 890,    2],\n",
              "       [ 890,    3],\n",
              "       [ 909,    1],\n",
              "       [ 910,    0],\n",
              "       [ 912,    0],\n",
              "       [ 912,    2],\n",
              "       [ 912,    3],\n",
              "       [ 912,    4],\n",
              "       [ 928,    1],\n",
              "       [ 928,    2],\n",
              "       [ 928,    3],\n",
              "       [ 929,    1],\n",
              "       [ 929,    2],\n",
              "       [ 929,    3],\n",
              "       [ 930,    3],\n",
              "       [ 958,    2],\n",
              "       [ 959,    3],\n",
              "       [ 960,    3],\n",
              "       [1024,    0],\n",
              "       [1024,    2],\n",
              "       [1026,    2],\n",
              "       [1026,    4],\n",
              "       [1028,    0],\n",
              "       [1028,    3],\n",
              "       [1028,    4],\n",
              "       [1029,    0],\n",
              "       [1030,    1],\n",
              "       [1030,    5],\n",
              "       [1032,    0],\n",
              "       [1032,    5],\n",
              "       [1034,    3],\n",
              "       [1035,    4],\n",
              "       [1036,    2],\n",
              "       [1037,    1],\n",
              "       [1038,    4],\n",
              "       [1039,    3],\n",
              "       [1040,    0]])"
            ]
          },
          "metadata": {},
          "execution_count": 16
        }
      ]
    },
    {
      "cell_type": "code",
      "source": [
        "lending_co_data_numeric_NAN[11]"
      ],
      "metadata": {
        "colab": {
          "base_uri": "https://localhost:8080/"
        },
        "id": "e48lv0ernayM",
        "outputId": "83267af0-82d6-42bc-986d-1b3f1b2769ff"
      },
      "execution_count": 17,
      "outputs": [
        {
          "output_type": "execute_result",
          "data": {
            "text/plain": [
              "array([ 2000.,    50.,   365.,    nan,  4190., 10790.])"
            ]
          },
          "metadata": {},
          "execution_count": 17
        }
      ]
    },
    {
      "cell_type": "code",
      "source": [
        "lending_co_data_numeric_NAN[152]"
      ],
      "metadata": {
        "colab": {
          "base_uri": "https://localhost:8080/"
        },
        "id": "O5vpnQhPnhSu",
        "outputId": "42e73474-180d-4bd5-b8c0-0cdd579398ad"
      },
      "execution_count": 18,
      "outputs": [
        {
          "output_type": "execute_result",
          "data": {
            "text/plain": [
              "array([ 9000.,    nan,    nan, 12251.,    nan, 34514.])"
            ]
          },
          "metadata": {},
          "execution_count": 18
        }
      ]
    },
    {
      "cell_type": "code",
      "source": [
        "lending_co_data_numeric_NAN[175]"
      ],
      "metadata": {
        "colab": {
          "base_uri": "https://localhost:8080/"
        },
        "id": "4gp2RsF_niaN",
        "outputId": "82db16cc-8f6a-423b-d280-5fb35bb26622"
      },
      "execution_count": 19,
      "outputs": [
        {
          "output_type": "execute_result",
          "data": {
            "text/plain": [
              "array([ 2000.,    nan,    nan,  1851.,  3051., 13561.])"
            ]
          },
          "metadata": {},
          "execution_count": 19
        }
      ]
    },
    {
      "cell_type": "code",
      "source": [
        "for array_index in np.argwhere(np.isnan(lending_co_data_numeric_NAN)):\n",
        "  lending_co_data_numeric_NAN[array_index[0], array_index[1]] = 0"
      ],
      "metadata": {
        "id": "p54oCD-Znj6b"
      },
      "execution_count": 20,
      "outputs": []
    },
    {
      "cell_type": "code",
      "source": [
        "lending_co_data_numeric_NAN[175]"
      ],
      "metadata": {
        "colab": {
          "base_uri": "https://localhost:8080/"
        },
        "id": "X_q_6vE9oD2i",
        "outputId": "b2f61030-d116-4f83-a170-90f8b7721c49"
      },
      "execution_count": 21,
      "outputs": [
        {
          "output_type": "execute_result",
          "data": {
            "text/plain": [
              "array([ 2000.,     0.,     0.,  1851.,  3051., 13561.])"
            ]
          },
          "metadata": {},
          "execution_count": 21
        }
      ]
    },
    {
      "cell_type": "code",
      "source": [
        "np.isnan(lending_co_data_numeric_NAN).sum()"
      ],
      "metadata": {
        "colab": {
          "base_uri": "https://localhost:8080/"
        },
        "id": "VsoELRpvoLn1",
        "outputId": "2fb22a43-0934-407c-a7e1-35cc95ad3610"
      },
      "execution_count": 22,
      "outputs": [
        {
          "output_type": "execute_result",
          "data": {
            "text/plain": [
              "0"
            ]
          },
          "metadata": {},
          "execution_count": 22
        }
      ]
    }
  ],
  "metadata": {
    "colab": {
      "provenance": [],
      "authorship_tag": "ABX9TyM6X7AiEYLzKkgRGxs2CY+U",
      "include_colab_link": true
    },
    "kernelspec": {
      "display_name": "Python 3",
      "name": "python3"
    },
    "language_info": {
      "name": "python"
    }
  },
  "nbformat": 4,
  "nbformat_minor": 0
}