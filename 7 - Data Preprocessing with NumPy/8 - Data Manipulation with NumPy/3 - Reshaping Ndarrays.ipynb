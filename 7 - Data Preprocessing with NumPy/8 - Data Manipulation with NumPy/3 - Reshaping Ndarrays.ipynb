{
  "cells": [
    {
      "cell_type": "markdown",
      "metadata": {
        "id": "view-in-github",
        "colab_type": "text"
      },
      "source": [
        "<a href=\"https://colab.research.google.com/github/Kavi-Sarna/365-python/blob/main/7%20-%20Data%20Preprocessing%20with%20NumPy/8%20-%20Data%20Manipulation%20with%20NumPy/3%20-%20Reshaping%20Ndarrays.ipynb\" target=\"_parent\"><img src=\"https://colab.research.google.com/assets/colab-badge.svg\" alt=\"Open In Colab\"/></a>"
      ]
    },
    {
      "cell_type": "code",
      "source": [
        "import numpy as np"
      ],
      "metadata": {
        "id": "eOFFIKCyaj1u"
      },
      "execution_count": 1,
      "outputs": []
    },
    {
      "cell_type": "code",
      "source": [
        "lending_co_data_numeric = np.loadtxt('Lending-company-Numeric.csv', delimiter = ',')\n",
        "lending_co_data_numeric"
      ],
      "metadata": {
        "colab": {
          "base_uri": "https://localhost:8080/"
        },
        "id": "ps75j1gzUaH5",
        "outputId": "34f7d393-bf85-4280-dbb8-742ef8a35471"
      },
      "execution_count": 2,
      "outputs": [
        {
          "output_type": "execute_result",
          "data": {
            "text/plain": [
              "array([[ 2000.,    40.,   365.,  3121.,  4241., 13621.],\n",
              "       [ 2000.,    40.,   365.,  3061.,  4171., 15041.],\n",
              "       [ 1000.,    40.,   365.,  2160.,  3280., 15340.],\n",
              "       ...,\n",
              "       [ 2000.,    40.,   365.,  4201.,  5001., 16600.],\n",
              "       [ 1000.,    40.,   365.,  2080.,  3320., 15600.],\n",
              "       [ 2000.,    40.,   365.,  4601.,  4601., 16600.]])"
            ]
          },
          "metadata": {},
          "execution_count": 2
        }
      ]
    },
    {
      "cell_type": "code",
      "source": [
        "lending_co_data_numeric.shape"
      ],
      "metadata": {
        "colab": {
          "base_uri": "https://localhost:8080/"
        },
        "id": "n9vW8DaAco54",
        "outputId": "8810f798-526d-4e4d-8601-f746a3cb62a4"
      },
      "execution_count": 3,
      "outputs": [
        {
          "output_type": "execute_result",
          "data": {
            "text/plain": [
              "(1043, 6)"
            ]
          },
          "metadata": {},
          "execution_count": 3
        }
      ]
    },
    {
      "cell_type": "code",
      "source": [
        "np.reshape(lending_co_data_numeric, (6, 1043))"
      ],
      "metadata": {
        "colab": {
          "base_uri": "https://localhost:8080/"
        },
        "id": "vl5Av4sMditv",
        "outputId": "3605fee5-f3d5-4619-8e0f-25d503a9cdbc"
      },
      "execution_count": 4,
      "outputs": [
        {
          "output_type": "execute_result",
          "data": {
            "text/plain": [
              "array([[ 2000.,    40.,   365., ...,   365.,  1581.,  3041.],\n",
              "       [12277.,  2000.,    40., ...,    50.,   365.,  5350.],\n",
              "       [ 6850., 15150.,  1000., ...,  2000.,    40.,   365.],\n",
              "       [ 3101.,  4351., 16600., ..., 16600.,  2000.,    40.],\n",
              "       [  365.,  3441.,  4661., ...,  8450., 22250.,  2000.],\n",
              "       [   40.,   365.,  3701., ...,  4601.,  4601., 16600.]])"
            ]
          },
          "metadata": {},
          "execution_count": 4
        }
      ]
    },
    {
      "cell_type": "code",
      "source": [
        "np.transpose(lending_co_data_numeric)"
      ],
      "metadata": {
        "colab": {
          "base_uri": "https://localhost:8080/"
        },
        "id": "AzYn0npYdpST",
        "outputId": "a43b7b7b-dca9-4a83-a8ad-5d0df898efc7"
      },
      "execution_count": 5,
      "outputs": [
        {
          "output_type": "execute_result",
          "data": {
            "text/plain": [
              "array([[ 2000.,  2000.,  1000., ...,  2000.,  1000.,  2000.],\n",
              "       [   40.,    40.,    40., ...,    40.,    40.,    40.],\n",
              "       [  365.,   365.,   365., ...,   365.,   365.,   365.],\n",
              "       [ 3121.,  3061.,  2160., ...,  4201.,  2080.,  4601.],\n",
              "       [ 4241.,  4171.,  3280., ...,  5001.,  3320.,  4601.],\n",
              "       [13621., 15041., 15340., ..., 16600., 15600., 16600.]])"
            ]
          },
          "metadata": {},
          "execution_count": 5
        }
      ]
    },
    {
      "cell_type": "code",
      "source": [
        "np.reshape(lending_co_data_numeric, (3, 500))"
      ],
      "metadata": {
        "colab": {
          "base_uri": "https://localhost:8080/",
          "height": 321
        },
        "id": "FcySpcJWd5ev",
        "outputId": "51e2469a-6b7e-4ead-daaa-b062d8f10e9d"
      },
      "execution_count": 6,
      "outputs": [
        {
          "output_type": "error",
          "ename": "ValueError",
          "evalue": "ignored",
          "traceback": [
            "\u001b[0;31m---------------------------------------------------------------------------\u001b[0m",
            "\u001b[0;31mValueError\u001b[0m                                Traceback (most recent call last)",
            "\u001b[0;32m<ipython-input-6-f6af895a638f>\u001b[0m in \u001b[0;36m<cell line: 1>\u001b[0;34m()\u001b[0m\n\u001b[0;32m----> 1\u001b[0;31m \u001b[0mnp\u001b[0m\u001b[0;34m.\u001b[0m\u001b[0mreshape\u001b[0m\u001b[0;34m(\u001b[0m\u001b[0mlending_co_data_numeric\u001b[0m\u001b[0;34m,\u001b[0m \u001b[0;34m(\u001b[0m\u001b[0;36m3\u001b[0m\u001b[0;34m,\u001b[0m \u001b[0;36m500\u001b[0m\u001b[0;34m)\u001b[0m\u001b[0;34m)\u001b[0m\u001b[0;34m\u001b[0m\u001b[0;34m\u001b[0m\u001b[0m\n\u001b[0m",
            "\u001b[0;32m/usr/local/lib/python3.10/dist-packages/numpy/core/overrides.py\u001b[0m in \u001b[0;36mreshape\u001b[0;34m(*args, **kwargs)\u001b[0m\n",
            "\u001b[0;32m/usr/local/lib/python3.10/dist-packages/numpy/core/fromnumeric.py\u001b[0m in \u001b[0;36mreshape\u001b[0;34m(a, newshape, order)\u001b[0m\n\u001b[1;32m    296\u001b[0m            [5, 6]])\n\u001b[1;32m    297\u001b[0m     \"\"\"\n\u001b[0;32m--> 298\u001b[0;31m     \u001b[0;32mreturn\u001b[0m \u001b[0m_wrapfunc\u001b[0m\u001b[0;34m(\u001b[0m\u001b[0ma\u001b[0m\u001b[0;34m,\u001b[0m \u001b[0;34m'reshape'\u001b[0m\u001b[0;34m,\u001b[0m \u001b[0mnewshape\u001b[0m\u001b[0;34m,\u001b[0m \u001b[0morder\u001b[0m\u001b[0;34m=\u001b[0m\u001b[0morder\u001b[0m\u001b[0;34m)\u001b[0m\u001b[0;34m\u001b[0m\u001b[0;34m\u001b[0m\u001b[0m\n\u001b[0m\u001b[1;32m    299\u001b[0m \u001b[0;34m\u001b[0m\u001b[0m\n\u001b[1;32m    300\u001b[0m \u001b[0;34m\u001b[0m\u001b[0m\n",
            "\u001b[0;32m/usr/local/lib/python3.10/dist-packages/numpy/core/fromnumeric.py\u001b[0m in \u001b[0;36m_wrapfunc\u001b[0;34m(obj, method, *args, **kwds)\u001b[0m\n\u001b[1;32m     55\u001b[0m \u001b[0;34m\u001b[0m\u001b[0m\n\u001b[1;32m     56\u001b[0m     \u001b[0;32mtry\u001b[0m\u001b[0;34m:\u001b[0m\u001b[0;34m\u001b[0m\u001b[0;34m\u001b[0m\u001b[0m\n\u001b[0;32m---> 57\u001b[0;31m         \u001b[0;32mreturn\u001b[0m \u001b[0mbound\u001b[0m\u001b[0;34m(\u001b[0m\u001b[0;34m*\u001b[0m\u001b[0margs\u001b[0m\u001b[0;34m,\u001b[0m \u001b[0;34m**\u001b[0m\u001b[0mkwds\u001b[0m\u001b[0;34m)\u001b[0m\u001b[0;34m\u001b[0m\u001b[0;34m\u001b[0m\u001b[0m\n\u001b[0m\u001b[1;32m     58\u001b[0m     \u001b[0;32mexcept\u001b[0m \u001b[0mTypeError\u001b[0m\u001b[0;34m:\u001b[0m\u001b[0;34m\u001b[0m\u001b[0;34m\u001b[0m\u001b[0m\n\u001b[1;32m     59\u001b[0m         \u001b[0;31m# A TypeError occurs if the object does have such a method in its\u001b[0m\u001b[0;34m\u001b[0m\u001b[0;34m\u001b[0m\u001b[0m\n",
            "\u001b[0;31mValueError\u001b[0m: cannot reshape array of size 6258 into shape (3,500)"
          ]
        }
      ]
    },
    {
      "cell_type": "code",
      "source": [
        "np.reshape(lending_co_data_numeric, (3, 2086))"
      ],
      "metadata": {
        "colab": {
          "base_uri": "https://localhost:8080/"
        },
        "id": "D0Fk0e3Gd-Ug",
        "outputId": "5991a103-4255-4c53-954c-80fcca5243fc"
      },
      "execution_count": 7,
      "outputs": [
        {
          "output_type": "execute_result",
          "data": {
            "text/plain": [
              "array([[ 2000.,    40.,   365., ...,    50.,   365.,  5350.],\n",
              "       [ 6850., 15150.,  1000., ..., 16600.,  2000.,    40.],\n",
              "       [  365.,  3441.,  4661., ...,  4601.,  4601., 16600.]])"
            ]
          },
          "metadata": {},
          "execution_count": 7
        }
      ]
    },
    {
      "cell_type": "code",
      "source": [
        "np.reshape(lending_co_data_numeric, (2, 3, 1043))"
      ],
      "metadata": {
        "colab": {
          "base_uri": "https://localhost:8080/"
        },
        "id": "aIVFD07QeKbr",
        "outputId": "8bc9ba00-e365-43e6-e901-54c79aefe439"
      },
      "execution_count": 8,
      "outputs": [
        {
          "output_type": "execute_result",
          "data": {
            "text/plain": [
              "array([[[ 2000.,    40.,   365., ...,   365.,  1581.,  3041.],\n",
              "        [12277.,  2000.,    40., ...,    50.,   365.,  5350.],\n",
              "        [ 6850., 15150.,  1000., ...,  2000.,    40.,   365.]],\n",
              "\n",
              "       [[ 3101.,  4351., 16600., ..., 16600.,  2000.,    40.],\n",
              "        [  365.,  3441.,  4661., ...,  8450., 22250.,  2000.],\n",
              "        [   40.,   365.,  3701., ...,  4601.,  4601., 16600.]]])"
            ]
          },
          "metadata": {},
          "execution_count": 8
        }
      ]
    },
    {
      "cell_type": "code",
      "source": [
        "np.reshape(lending_co_data_numeric, (1, 1, 2, 3, 1043))"
      ],
      "metadata": {
        "colab": {
          "base_uri": "https://localhost:8080/"
        },
        "id": "QtIT40g-eQFI",
        "outputId": "8b27d1ad-11c3-4f6f-a190-cae1988d6238"
      },
      "execution_count": 9,
      "outputs": [
        {
          "output_type": "execute_result",
          "data": {
            "text/plain": [
              "array([[[[[ 2000.,    40.,   365., ...,   365.,  1581.,  3041.],\n",
              "          [12277.,  2000.,    40., ...,    50.,   365.,  5350.],\n",
              "          [ 6850., 15150.,  1000., ...,  2000.,    40.,   365.]],\n",
              "\n",
              "         [[ 3101.,  4351., 16600., ..., 16600.,  2000.,    40.],\n",
              "          [  365.,  3441.,  4661., ...,  8450., 22250.,  2000.],\n",
              "          [   40.,   365.,  3701., ...,  4601.,  4601., 16600.]]]]])"
            ]
          },
          "metadata": {},
          "execution_count": 9
        }
      ]
    },
    {
      "cell_type": "code",
      "source": [
        "lending_co_data_numeric"
      ],
      "metadata": {
        "colab": {
          "base_uri": "https://localhost:8080/"
        },
        "id": "KTucdBjdeX-W",
        "outputId": "32616b44-d7e6-491c-802f-8d1d5004cce4"
      },
      "execution_count": 10,
      "outputs": [
        {
          "output_type": "execute_result",
          "data": {
            "text/plain": [
              "array([[ 2000.,    40.,   365.,  3121.,  4241., 13621.],\n",
              "       [ 2000.,    40.,   365.,  3061.,  4171., 15041.],\n",
              "       [ 1000.,    40.,   365.,  2160.,  3280., 15340.],\n",
              "       ...,\n",
              "       [ 2000.,    40.,   365.,  4201.,  5001., 16600.],\n",
              "       [ 1000.,    40.,   365.,  2080.,  3320., 15600.],\n",
              "       [ 2000.,    40.,   365.,  4601.,  4601., 16600.]])"
            ]
          },
          "metadata": {},
          "execution_count": 10
        }
      ]
    },
    {
      "cell_type": "code",
      "source": [
        "lending_co_data_numeric_2 = np.reshape(lending_co_data_numeric, (6, 1043))\n",
        "lending_co_data_numeric_2"
      ],
      "metadata": {
        "colab": {
          "base_uri": "https://localhost:8080/"
        },
        "id": "y7xCOV9qea7u",
        "outputId": "47ae3c36-516f-4e40-c3c5-745addc14d75"
      },
      "execution_count": 11,
      "outputs": [
        {
          "output_type": "execute_result",
          "data": {
            "text/plain": [
              "array([[ 2000.,    40.,   365., ...,   365.,  1581.,  3041.],\n",
              "       [12277.,  2000.,    40., ...,    50.,   365.,  5350.],\n",
              "       [ 6850., 15150.,  1000., ...,  2000.,    40.,   365.],\n",
              "       [ 3101.,  4351., 16600., ..., 16600.,  2000.,    40.],\n",
              "       [  365.,  3441.,  4661., ...,  8450., 22250.,  2000.],\n",
              "       [   40.,   365.,  3701., ...,  4601.,  4601., 16600.]])"
            ]
          },
          "metadata": {},
          "execution_count": 11
        }
      ]
    },
    {
      "cell_type": "code",
      "source": [
        "lending_co_data_numeric.reshape(6, 1043)"
      ],
      "metadata": {
        "colab": {
          "base_uri": "https://localhost:8080/"
        },
        "id": "HtrYjs-eei2H",
        "outputId": "de1b0c41-acaf-4b23-9cee-7c822919a213"
      },
      "execution_count": 12,
      "outputs": [
        {
          "output_type": "execute_result",
          "data": {
            "text/plain": [
              "array([[ 2000.,    40.,   365., ...,   365.,  1581.,  3041.],\n",
              "       [12277.,  2000.,    40., ...,    50.,   365.,  5350.],\n",
              "       [ 6850., 15150.,  1000., ...,  2000.,    40.,   365.],\n",
              "       [ 3101.,  4351., 16600., ..., 16600.,  2000.,    40.],\n",
              "       [  365.,  3441.,  4661., ...,  8450., 22250.,  2000.],\n",
              "       [   40.,   365.,  3701., ...,  4601.,  4601., 16600.]])"
            ]
          },
          "metadata": {},
          "execution_count": 12
        }
      ]
    }
  ],
  "metadata": {
    "colab": {
      "provenance": [],
      "authorship_tag": "ABX9TyNCeTTMOin1wg4P10e5LkQ6",
      "include_colab_link": true
    },
    "kernelspec": {
      "display_name": "Python 3",
      "name": "python3"
    },
    "language_info": {
      "name": "python"
    }
  },
  "nbformat": 4,
  "nbformat_minor": 0
}