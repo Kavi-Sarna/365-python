{
  "cells": [
    {
      "cell_type": "markdown",
      "metadata": {
        "id": "view-in-github",
        "colab_type": "text"
      },
      "source": [
        "<a href=\"https://colab.research.google.com/github/Kavi-Sarna/365-python/blob/main/7%20-%20Data%20Preprocessing%20with%20NumPy/8%20-%20Data%20Manipulation%20with%20NumPy/8%20-%20Shuffling%20Ndarrays.ipynb\" target=\"_parent\"><img src=\"https://colab.research.google.com/assets/colab-badge.svg\" alt=\"Open In Colab\"/></a>"
      ]
    },
    {
      "cell_type": "code",
      "source": [
        "import numpy as np"
      ],
      "metadata": {
        "id": "eOFFIKCyaj1u"
      },
      "execution_count": 1,
      "outputs": []
    },
    {
      "cell_type": "code",
      "source": [
        "lending_co_data_numeric = np.loadtxt('Lending-company-Numeric.csv', delimiter = ',')\n",
        "lending_co_data_numeric"
      ],
      "metadata": {
        "colab": {
          "base_uri": "https://localhost:8080/"
        },
        "id": "ps75j1gzUaH5",
        "outputId": "c26594a4-fb40-4c41-f745-41e686fd18b1"
      },
      "execution_count": 2,
      "outputs": [
        {
          "output_type": "execute_result",
          "data": {
            "text/plain": [
              "array([[ 2000.,    40.,   365.,  3121.,  4241., 13621.],\n",
              "       [ 2000.,    40.,   365.,  3061.,  4171., 15041.],\n",
              "       [ 1000.,    40.,   365.,  2160.,  3280., 15340.],\n",
              "       ...,\n",
              "       [ 2000.,    40.,   365.,  4201.,  5001., 16600.],\n",
              "       [ 1000.,    40.,   365.,  2080.,  3320., 15600.],\n",
              "       [ 2000.,    40.,   365.,  4601.,  4601., 16600.]])"
            ]
          },
          "metadata": {},
          "execution_count": 2
        }
      ]
    },
    {
      "cell_type": "code",
      "source": [
        "lending_co_data_numeric = np.loadtxt('Lending-company-Numeric.csv', delimiter = ',')[:8]\n",
        "lending_co_data_numeric"
      ],
      "metadata": {
        "colab": {
          "base_uri": "https://localhost:8080/"
        },
        "id": "Nk23DA6rpDBt",
        "outputId": "cde84460-53a8-4110-be47-13e513c938a7"
      },
      "execution_count": 3,
      "outputs": [
        {
          "output_type": "execute_result",
          "data": {
            "text/plain": [
              "array([[ 2000.,    40.,   365.,  3121.,  4241., 13621.],\n",
              "       [ 2000.,    40.,   365.,  3061.,  4171., 15041.],\n",
              "       [ 1000.,    40.,   365.,  2160.,  3280., 15340.],\n",
              "       [ 2000.,    40.,   365.,  3041.,  4241., 15321.],\n",
              "       [ 2000.,    50.,   365.,  3470.,  4820., 13720.],\n",
              "       [ 2000.,    40.,   365.,  3201.,  4141., 14141.],\n",
              "       [ 2000.,    50.,   365.,  1851.,  3251., 17701.],\n",
              "       [ 2000.,    40.,   365.,  3971.,  4131., 15351.]])"
            ]
          },
          "metadata": {},
          "execution_count": 3
        }
      ]
    },
    {
      "cell_type": "code",
      "source": [
        "np.random.shuffle(lending_co_data_numeric)"
      ],
      "metadata": {
        "id": "fEjwK1xDm67I"
      },
      "execution_count": 4,
      "outputs": []
    },
    {
      "cell_type": "code",
      "source": [
        "lending_co_data_numeric"
      ],
      "metadata": {
        "colab": {
          "base_uri": "https://localhost:8080/"
        },
        "id": "slH1AWXOpdLQ",
        "outputId": "0a734df2-2d73-4b4b-a755-f717e2b32ea4"
      },
      "execution_count": 5,
      "outputs": [
        {
          "output_type": "execute_result",
          "data": {
            "text/plain": [
              "array([[ 2000.,    40.,   365.,  3061.,  4171., 15041.],\n",
              "       [ 2000.,    40.,   365.,  3201.,  4141., 14141.],\n",
              "       [ 1000.,    40.,   365.,  2160.,  3280., 15340.],\n",
              "       [ 2000.,    40.,   365.,  3121.,  4241., 13621.],\n",
              "       [ 2000.,    40.,   365.,  3041.,  4241., 15321.],\n",
              "       [ 2000.,    40.,   365.,  3971.,  4131., 15351.],\n",
              "       [ 2000.,    50.,   365.,  1851.,  3251., 17701.],\n",
              "       [ 2000.,    50.,   365.,  3470.,  4820., 13720.]])"
            ]
          },
          "metadata": {},
          "execution_count": 5
        }
      ]
    },
    {
      "cell_type": "code",
      "source": [
        "np.random.shuffle(lending_co_data_numeric)\n",
        "lending_co_data_numeric"
      ],
      "metadata": {
        "colab": {
          "base_uri": "https://localhost:8080/"
        },
        "id": "pA0cTYBapgs7",
        "outputId": "36aa68ae-40c6-428c-c109-e36fe801d387"
      },
      "execution_count": 7,
      "outputs": [
        {
          "output_type": "execute_result",
          "data": {
            "text/plain": [
              "array([[ 2000.,    50.,   365.,  3470.,  4820., 13720.],\n",
              "       [ 2000.,    40.,   365.,  3971.,  4131., 15351.],\n",
              "       [ 2000.,    40.,   365.,  3201.,  4141., 14141.],\n",
              "       [ 2000.,    40.,   365.,  3061.,  4171., 15041.],\n",
              "       [ 1000.,    40.,   365.,  2160.,  3280., 15340.],\n",
              "       [ 2000.,    40.,   365.,  3041.,  4241., 15321.],\n",
              "       [ 2000.,    40.,   365.,  3121.,  4241., 13621.],\n",
              "       [ 2000.,    50.,   365.,  1851.,  3251., 17701.]])"
            ]
          },
          "metadata": {},
          "execution_count": 7
        }
      ]
    },
    {
      "cell_type": "code",
      "source": [
        "lending_co_data_numeric = np.loadtxt('Lending-company-Numeric.csv', delimiter = ',')\n",
        "lending_co_data_numeric"
      ],
      "metadata": {
        "colab": {
          "base_uri": "https://localhost:8080/"
        },
        "id": "DYa9QYuspqD9",
        "outputId": "69f01ea0-cfec-495d-ed3b-5093d9e820f8"
      },
      "execution_count": 8,
      "outputs": [
        {
          "output_type": "execute_result",
          "data": {
            "text/plain": [
              "array([[ 2000.,    40.,   365.,  3121.,  4241., 13621.],\n",
              "       [ 2000.,    40.,   365.,  3061.,  4171., 15041.],\n",
              "       [ 1000.,    40.,   365.,  2160.,  3280., 15340.],\n",
              "       ...,\n",
              "       [ 2000.,    40.,   365.,  4201.,  5001., 16600.],\n",
              "       [ 1000.,    40.,   365.,  2080.,  3320., 15600.],\n",
              "       [ 2000.,    40.,   365.,  4601.,  4601., 16600.]])"
            ]
          },
          "metadata": {},
          "execution_count": 8
        }
      ]
    },
    {
      "cell_type": "code",
      "source": [
        "from numpy.random import shuffle"
      ],
      "metadata": {
        "id": "y3HmSiLwp30R"
      },
      "execution_count": 9,
      "outputs": []
    },
    {
      "cell_type": "code",
      "source": [
        "shuffle(lending_co_data_numeric)\n",
        "lending_co_data_numeric"
      ],
      "metadata": {
        "colab": {
          "base_uri": "https://localhost:8080/"
        },
        "id": "tm46IvSzp7o1",
        "outputId": "1bccf13c-767b-4be8-ed93-60141ba7c8e4"
      },
      "execution_count": 10,
      "outputs": [
        {
          "output_type": "execute_result",
          "data": {
            "text/plain": [
              "array([[ 2000.,    40.,   365.,  3461.,  4261., 16600.],\n",
              "       [ 1000.,    50.,   365., -1860.,  -440., 12200.],\n",
              "       [ 2000.,    50.,   365.,  3751.,  5251., 20250.],\n",
              "       ...,\n",
              "       [ 2000.,    40.,   365.,  3080.,  4280., 14400.],\n",
              "       [ 1000.,    40.,   365.,  3400.,  4600., 15600.],\n",
              "       [ 2500.,    50.,   365.,  1850.,  2650., 11250.]])"
            ]
          },
          "metadata": {},
          "execution_count": 10
        }
      ]
    },
    {
      "cell_type": "code",
      "source": [
        "from numpy.random import Generator as gen\n",
        "from numpy.random import PCG64 as pcg"
      ],
      "metadata": {
        "id": "q7RVMfPOp9yz"
      },
      "execution_count": 11,
      "outputs": []
    },
    {
      "cell_type": "code",
      "source": [
        "array_RG = gen(pcg())\n",
        "array_RG.shuffle(lending_co_data_numeric)\n",
        "lending_co_data_numeric"
      ],
      "metadata": {
        "colab": {
          "base_uri": "https://localhost:8080/"
        },
        "id": "soGhNl0EqQda",
        "outputId": "fb38695e-56cd-4832-de6b-681ef025d3db"
      },
      "execution_count": 12,
      "outputs": [
        {
          "output_type": "execute_result",
          "data": {
            "text/plain": [
              "array([[ 1000.,    40.,   365.,  2000.,  3950., 15600.],\n",
              "       [ 1000.,    40.,   365.,  3430.,  3430., 15600.],\n",
              "       [ 2000.,    40.,   365.,  5201.,  5201., 16600.],\n",
              "       ...,\n",
              "       [ 1000.,    40.,   365.,  3440.,  3440., 15600.],\n",
              "       [ 2000.,    40.,   365.,  3481.,  4261., 15631.],\n",
              "       [ 2000.,    50.,   365.,  3521.,  4871., 20250.]])"
            ]
          },
          "metadata": {},
          "execution_count": 12
        }
      ]
    },
    {
      "cell_type": "code",
      "source": [
        "array_RG = gen(pcg(seed = 365))\n",
        "array_RG.shuffle(lending_co_data_numeric)\n",
        "lending_co_data_numeric"
      ],
      "metadata": {
        "colab": {
          "base_uri": "https://localhost:8080/"
        },
        "id": "2m_g0-WdqgEa",
        "outputId": "73be7f9f-f4a2-4a06-bf76-532ae2a7f464"
      },
      "execution_count": 14,
      "outputs": [
        {
          "output_type": "execute_result",
          "data": {
            "text/plain": [
              "array([[ 1000.,    50.,   365.,   350.,  1750.,  7500.],\n",
              "       [ 2000.,    40.,   365.,  3040.,  4320., 13240.],\n",
              "       [ 2000.,    50.,   365.,  3400.,  4850., 19750.],\n",
              "       ...,\n",
              "       [ 9000.,   125.,   365., 12251., 14251., 25626.],\n",
              "       [ 2000.,    40.,   365.,  3681.,  6081., 16241.],\n",
              "       [ 1000.,    50.,   365.,   750.,  2100., 12100.]])"
            ]
          },
          "metadata": {},
          "execution_count": 14
        }
      ]
    }
  ],
  "metadata": {
    "colab": {
      "provenance": [],
      "authorship_tag": "ABX9TyNKKj7GXGz5e1hhzF7fgZ02",
      "include_colab_link": true
    },
    "kernelspec": {
      "display_name": "Python 3",
      "name": "python3"
    },
    "language_info": {
      "name": "python"
    }
  },
  "nbformat": 4,
  "nbformat_minor": 0
}