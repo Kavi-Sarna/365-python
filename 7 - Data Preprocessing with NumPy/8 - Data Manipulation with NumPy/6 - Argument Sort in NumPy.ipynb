{
  "cells": [
    {
      "cell_type": "markdown",
      "metadata": {
        "id": "view-in-github",
        "colab_type": "text"
      },
      "source": [
        "<a href=\"https://colab.research.google.com/github/Kavi-Sarna/365-python/blob/main/7%20-%20Data%20Preprocessing%20with%20NumPy/8%20-%20Data%20Manipulation%20with%20NumPy/6%20-%20Argument%20Sort%20in%20NumPy.ipynb\" target=\"_parent\"><img src=\"https://colab.research.google.com/assets/colab-badge.svg\" alt=\"Open In Colab\"/></a>"
      ]
    },
    {
      "cell_type": "code",
      "source": [
        "import numpy as np"
      ],
      "metadata": {
        "id": "eOFFIKCyaj1u"
      },
      "execution_count": 1,
      "outputs": []
    },
    {
      "cell_type": "code",
      "source": [
        "lending_co_data_numeric = np.loadtxt('Lending-company-Numeric.csv', delimiter = ',')\n",
        "lending_co_data_numeric"
      ],
      "metadata": {
        "colab": {
          "base_uri": "https://localhost:8080/"
        },
        "id": "ps75j1gzUaH5",
        "outputId": "ddef0760-2a80-4544-caaf-30afbf5c3b71"
      },
      "execution_count": 2,
      "outputs": [
        {
          "output_type": "execute_result",
          "data": {
            "text/plain": [
              "array([[ 2000.,    40.,   365.,  3121.,  4241., 13621.],\n",
              "       [ 2000.,    40.,   365.,  3061.,  4171., 15041.],\n",
              "       [ 1000.,    40.,   365.,  2160.,  3280., 15340.],\n",
              "       ...,\n",
              "       [ 2000.,    40.,   365.,  4201.,  5001., 16600.],\n",
              "       [ 1000.,    40.,   365.,  2080.,  3320., 15600.],\n",
              "       [ 2000.,    40.,   365.,  4601.,  4601., 16600.]])"
            ]
          },
          "metadata": {},
          "execution_count": 2
        }
      ]
    },
    {
      "cell_type": "code",
      "source": [
        "np.argsort(lending_co_data_numeric)"
      ],
      "metadata": {
        "colab": {
          "base_uri": "https://localhost:8080/"
        },
        "id": "TBIBgI0bjR5i",
        "outputId": "129ca923-f851-4ca1-815d-ef4a4a5785ad"
      },
      "execution_count": 3,
      "outputs": [
        {
          "output_type": "execute_result",
          "data": {
            "text/plain": [
              "array([[1, 2, 0, 3, 4, 5],\n",
              "       [1, 2, 0, 3, 4, 5],\n",
              "       [1, 2, 0, 3, 4, 5],\n",
              "       ...,\n",
              "       [1, 2, 0, 3, 4, 5],\n",
              "       [1, 2, 0, 3, 4, 5],\n",
              "       [1, 2, 0, 3, 4, 5]])"
            ]
          },
          "metadata": {},
          "execution_count": 3
        }
      ]
    },
    {
      "cell_type": "code",
      "source": [
        "np.sort(lending_co_data_numeric)"
      ],
      "metadata": {
        "colab": {
          "base_uri": "https://localhost:8080/"
        },
        "id": "YLc6MDmJjY3S",
        "outputId": "598b5d9f-7831-4297-c35b-8da61e244f63"
      },
      "execution_count": 4,
      "outputs": [
        {
          "output_type": "execute_result",
          "data": {
            "text/plain": [
              "array([[   40.,   365.,  2000.,  3121.,  4241., 13621.],\n",
              "       [   40.,   365.,  2000.,  3061.,  4171., 15041.],\n",
              "       [   40.,   365.,  1000.,  2160.,  3280., 15340.],\n",
              "       ...,\n",
              "       [   40.,   365.,  2000.,  4201.,  5001., 16600.],\n",
              "       [   40.,   365.,  1000.,  2080.,  3320., 15600.],\n",
              "       [   40.,   365.,  2000.,  4601.,  4601., 16600.]])"
            ]
          },
          "metadata": {},
          "execution_count": 4
        }
      ]
    },
    {
      "cell_type": "code",
      "source": [
        "np.argsort(lending_co_data_numeric, axis = 0)"
      ],
      "metadata": {
        "colab": {
          "base_uri": "https://localhost:8080/"
        },
        "id": "OdsPOjOtjmA7",
        "outputId": "5c4084f3-33c9-42f3-d6c6-492d1389b89f"
      },
      "execution_count": 5,
      "outputs": [
        {
          "output_type": "execute_result",
          "data": {
            "text/plain": [
              "array([[ 537,  443,    0,   32,   32,  482],\n",
              "       [ 639,  327,  687,  166,  166,  493],\n",
              "       [ 849,  432,  688,   85,   85,  166],\n",
              "       ...,\n",
              "       [  27,  326,  355,  568, 1019,  568],\n",
              "       [ 277,   27,  357,  718, 1033,  534],\n",
              "       [ 420,  408, 1042,  912,  912,   27]])"
            ]
          },
          "metadata": {},
          "execution_count": 5
        }
      ]
    },
    {
      "cell_type": "code",
      "source": [
        "lending_co_data_numeric[482, 5]"
      ],
      "metadata": {
        "colab": {
          "base_uri": "https://localhost:8080/"
        },
        "id": "viIsn9VFjsgm",
        "outputId": "a36401aa-99a1-48f4-e68d-31a5cc47c5fa"
      },
      "execution_count": 6,
      "outputs": [
        {
          "output_type": "execute_result",
          "data": {
            "text/plain": [
              "-350.0"
            ]
          },
          "metadata": {},
          "execution_count": 6
        }
      ]
    },
    {
      "cell_type": "code",
      "source": [
        "np.set_printoptions(suppress = True)"
      ],
      "metadata": {
        "id": "BJ5XwLgaj0eJ"
      },
      "execution_count": 8,
      "outputs": []
    },
    {
      "cell_type": "code",
      "source": [
        "np.sort(lending_co_data_numeric, axis = 0)"
      ],
      "metadata": {
        "colab": {
          "base_uri": "https://localhost:8080/"
        },
        "id": "a5s_SLGGj5QZ",
        "outputId": "33f775e6-40da-470f-98b5-dba2b47623e5"
      },
      "execution_count": 9,
      "outputs": [
        {
          "output_type": "execute_result",
          "data": {
            "text/plain": [
              "array([[ 1000.,    35.,   365., -2870., -2870.,  -350.],\n",
              "       [ 1000.,    35.,   365., -2550., -2100.,   150.],\n",
              "       [ 1000.,    35.,   365., -2450., -2000.,  1100.],\n",
              "       ...,\n",
              "       [ 9000.,   125.,   365., 16751., 18751., 54625.],\n",
              "       [ 9000.,   165.,   365., 17650., 20001., 54625.],\n",
              "       [ 9000.,   165.,   365., 19001., 22001., 64001.]])"
            ]
          },
          "metadata": {},
          "execution_count": 9
        }
      ]
    },
    {
      "cell_type": "code",
      "source": [
        "np.argsort(lending_co_data_numeric[:, 0])"
      ],
      "metadata": {
        "colab": {
          "base_uri": "https://localhost:8080/"
        },
        "id": "SIXEy-m7kCQf",
        "outputId": "5dcdf645-1391-4826-971f-19b3d3100be1"
      },
      "execution_count": 10,
      "outputs": [
        {
          "output_type": "execute_result",
          "data": {
            "text/plain": [
              "array([537, 639, 849, ...,  27, 277, 420])"
            ]
          },
          "metadata": {},
          "execution_count": 10
        }
      ]
    },
    {
      "cell_type": "code",
      "source": [
        "lending_co_data_numeric = lending_co_data_numeric[np.argsort(lending_co_data_numeric[:, 0])]\n",
        "lending_co_data_numeric"
      ],
      "metadata": {
        "colab": {
          "base_uri": "https://localhost:8080/"
        },
        "id": "YcQtr0i0kJbI",
        "outputId": "fc4d978a-4e58-4329-9eb7-c699cc88d597"
      },
      "execution_count": 11,
      "outputs": [
        {
          "output_type": "execute_result",
          "data": {
            "text/plain": [
              "array([[ 1000.,    40.,   365.,  2200.,  3400., 15600.],\n",
              "       [ 1000.,    40.,   365.,  2200.,  3800., 15600.],\n",
              "       [ 1000.,    40.,   365.,  2000.,  3950., 15600.],\n",
              "       ...,\n",
              "       [ 9000.,   165.,   365., 14501., 16846., 64001.],\n",
              "       [ 9000.,   125.,   365., 12001., 15751., 38626.],\n",
              "       [ 9000.,   125.,   365., 12251., 14251., 25626.]])"
            ]
          },
          "metadata": {},
          "execution_count": 11
        }
      ]
    },
    {
      "cell_type": "code",
      "source": [
        "lending_co_data_numeric.argsort(axis = 0)"
      ],
      "metadata": {
        "colab": {
          "base_uri": "https://localhost:8080/"
        },
        "id": "6j_iV1rCkiJ2",
        "outputId": "c67f075e-0730-4a47-95a1-eed2398a682c"
      },
      "execution_count": 12,
      "outputs": [
        {
          "output_type": "execute_result",
          "data": {
            "text/plain": [
              "array([[   0,   22,    0,  199,  199,  172],\n",
              "       [ 155,   62,  687,   53,   53,  160],\n",
              "       [ 156,   38,  688,  169,  169,   53],\n",
              "       ...,\n",
              "       [1022, 1042,  355, 1024, 1037, 1023],\n",
              "       [1031, 1039,  357,  941, 1029, 1024],\n",
              "       [1042, 1040, 1042, 1027, 1027, 1040]])"
            ]
          },
          "metadata": {},
          "execution_count": 12
        }
      ]
    },
    {
      "cell_type": "code",
      "source": [
        "lending_co_data_numeric"
      ],
      "metadata": {
        "colab": {
          "base_uri": "https://localhost:8080/"
        },
        "id": "mgiIil60k2pV",
        "outputId": "621e0d70-b2d2-4edb-b450-080d53cc40f2"
      },
      "execution_count": 13,
      "outputs": [
        {
          "output_type": "execute_result",
          "data": {
            "text/plain": [
              "array([[ 1000.,    40.,   365.,  2200.,  3400., 15600.],\n",
              "       [ 1000.,    40.,   365.,  2200.,  3800., 15600.],\n",
              "       [ 1000.,    40.,   365.,  2000.,  3950., 15600.],\n",
              "       ...,\n",
              "       [ 9000.,   165.,   365., 14501., 16846., 64001.],\n",
              "       [ 9000.,   125.,   365., 12001., 15751., 38626.],\n",
              "       [ 9000.,   125.,   365., 12251., 14251., 25626.]])"
            ]
          },
          "metadata": {},
          "execution_count": 13
        }
      ]
    }
  ],
  "metadata": {
    "colab": {
      "provenance": [],
      "authorship_tag": "ABX9TyONGU8dPDoN9C7CM41idrEX",
      "include_colab_link": true
    },
    "kernelspec": {
      "display_name": "Python 3",
      "name": "python3"
    },
    "language_info": {
      "name": "python"
    }
  },
  "nbformat": 4,
  "nbformat_minor": 0
}