{
  "cells": [
    {
      "cell_type": "markdown",
      "metadata": {
        "id": "view-in-github",
        "colab_type": "text"
      },
      "source": [
        "<a href=\"https://colab.research.google.com/github/Kavi-Sarna/365-python/blob/main/7%20-%20Data%20Preprocessing%20with%20NumPy/8%20-%20Data%20Manipulation%20with%20NumPy/9%20-%20Casting%20Ndarrays.ipynb\" target=\"_parent\"><img src=\"https://colab.research.google.com/assets/colab-badge.svg\" alt=\"Open In Colab\"/></a>"
      ]
    },
    {
      "cell_type": "code",
      "source": [
        "import numpy as np"
      ],
      "metadata": {
        "id": "eOFFIKCyaj1u"
      },
      "execution_count": 1,
      "outputs": []
    },
    {
      "cell_type": "code",
      "source": [
        "lending_co_data_numeric = np.loadtxt('Lending-company-Numeric.csv', delimiter = ',')\n",
        "lending_co_data_numeric"
      ],
      "metadata": {
        "colab": {
          "base_uri": "https://localhost:8080/"
        },
        "id": "ps75j1gzUaH5",
        "outputId": "484d1c76-b93f-40d7-c504-20a2fa2bfdc4"
      },
      "execution_count": 2,
      "outputs": [
        {
          "output_type": "execute_result",
          "data": {
            "text/plain": [
              "array([[ 2000.,    40.,   365.,  3121.,  4241., 13621.],\n",
              "       [ 2000.,    40.,   365.,  3061.,  4171., 15041.],\n",
              "       [ 1000.,    40.,   365.,  2160.,  3280., 15340.],\n",
              "       ...,\n",
              "       [ 2000.,    40.,   365.,  4201.,  5001., 16600.],\n",
              "       [ 1000.,    40.,   365.,  2080.,  3320., 15600.],\n",
              "       [ 2000.,    40.,   365.,  4601.,  4601., 16600.]])"
            ]
          },
          "metadata": {},
          "execution_count": 2
        }
      ]
    },
    {
      "cell_type": "code",
      "source": [
        "lending_co_data_numeric.astype(dtype = np.int32)"
      ],
      "metadata": {
        "colab": {
          "base_uri": "https://localhost:8080/"
        },
        "id": "aeSWinGLrEfC",
        "outputId": "f97d2bbd-7a85-45de-bc5e-355d0f06f367"
      },
      "execution_count": 3,
      "outputs": [
        {
          "output_type": "execute_result",
          "data": {
            "text/plain": [
              "array([[ 2000,    40,   365,  3121,  4241, 13621],\n",
              "       [ 2000,    40,   365,  3061,  4171, 15041],\n",
              "       [ 1000,    40,   365,  2160,  3280, 15340],\n",
              "       ...,\n",
              "       [ 2000,    40,   365,  4201,  5001, 16600],\n",
              "       [ 1000,    40,   365,  2080,  3320, 15600],\n",
              "       [ 2000,    40,   365,  4601,  4601, 16600]], dtype=int32)"
            ]
          },
          "metadata": {},
          "execution_count": 3
        }
      ]
    },
    {
      "cell_type": "code",
      "source": [
        "lending_co_data_numeric.astype(dtype = np.str_)"
      ],
      "metadata": {
        "colab": {
          "base_uri": "https://localhost:8080/"
        },
        "id": "BHIj-vFwru5I",
        "outputId": "429d0980-ef78-4a57-fbcb-599d6d65e9c3"
      },
      "execution_count": 4,
      "outputs": [
        {
          "output_type": "execute_result",
          "data": {
            "text/plain": [
              "array([['2000.0', '40.0', '365.0', '3121.0', '4241.0', '13621.0'],\n",
              "       ['2000.0', '40.0', '365.0', '3061.0', '4171.0', '15041.0'],\n",
              "       ['1000.0', '40.0', '365.0', '2160.0', '3280.0', '15340.0'],\n",
              "       ...,\n",
              "       ['2000.0', '40.0', '365.0', '4201.0', '5001.0', '16600.0'],\n",
              "       ['1000.0', '40.0', '365.0', '2080.0', '3320.0', '15600.0'],\n",
              "       ['2000.0', '40.0', '365.0', '4601.0', '4601.0', '16600.0']],\n",
              "      dtype='<U32')"
            ]
          },
          "metadata": {},
          "execution_count": 4
        }
      ]
    },
    {
      "cell_type": "code",
      "source": [
        "lending_co_data_numeric"
      ],
      "metadata": {
        "colab": {
          "base_uri": "https://localhost:8080/"
        },
        "id": "L9nEu5GBr-YA",
        "outputId": "54eaca94-cfa2-4a0d-c55c-ab1dfe1a9448"
      },
      "execution_count": 5,
      "outputs": [
        {
          "output_type": "execute_result",
          "data": {
            "text/plain": [
              "array([[ 2000.,    40.,   365.,  3121.,  4241., 13621.],\n",
              "       [ 2000.,    40.,   365.,  3061.,  4171., 15041.],\n",
              "       [ 1000.,    40.,   365.,  2160.,  3280., 15340.],\n",
              "       ...,\n",
              "       [ 2000.,    40.,   365.,  4201.,  5001., 16600.],\n",
              "       [ 1000.,    40.,   365.,  2080.,  3320., 15600.],\n",
              "       [ 2000.,    40.,   365.,  4601.,  4601., 16600.]])"
            ]
          },
          "metadata": {},
          "execution_count": 5
        }
      ]
    },
    {
      "cell_type": "code",
      "source": [
        "lending_co_data_numeric = lending_co_data_numeric.astype(dtype = np.str_)\n",
        "lending_co_data_numeric"
      ],
      "metadata": {
        "colab": {
          "base_uri": "https://localhost:8080/"
        },
        "id": "piMpISEBsDJt",
        "outputId": "a15a0d4f-c30c-46e5-abb8-8e4409a3fc1a"
      },
      "execution_count": 7,
      "outputs": [
        {
          "output_type": "execute_result",
          "data": {
            "text/plain": [
              "array([['2000.0', '40.0', '365.0', '3121.0', '4241.0', '13621.0'],\n",
              "       ['2000.0', '40.0', '365.0', '3061.0', '4171.0', '15041.0'],\n",
              "       ['1000.0', '40.0', '365.0', '2160.0', '3280.0', '15340.0'],\n",
              "       ...,\n",
              "       ['2000.0', '40.0', '365.0', '4201.0', '5001.0', '16600.0'],\n",
              "       ['1000.0', '40.0', '365.0', '2080.0', '3320.0', '15600.0'],\n",
              "       ['2000.0', '40.0', '365.0', '4601.0', '4601.0', '16600.0']],\n",
              "      dtype='<U32')"
            ]
          },
          "metadata": {},
          "execution_count": 7
        }
      ]
    },
    {
      "cell_type": "code",
      "source": [
        "type(lending_co_data_numeric)"
      ],
      "metadata": {
        "colab": {
          "base_uri": "https://localhost:8080/"
        },
        "id": "TKM4Rx4ZsHtn",
        "outputId": "f259308a-daf1-4d17-f373-d0ad4076ada3"
      },
      "execution_count": 8,
      "outputs": [
        {
          "output_type": "execute_result",
          "data": {
            "text/plain": [
              "numpy.ndarray"
            ]
          },
          "metadata": {},
          "execution_count": 8
        }
      ]
    },
    {
      "cell_type": "code",
      "source": [
        "lending_co_data_numeric.astype(dtype = np.int32)"
      ],
      "metadata": {
        "colab": {
          "base_uri": "https://localhost:8080/",
          "height": 175
        },
        "id": "MU3hoB1WsNHB",
        "outputId": "cc82cd5c-7e97-4e51-a6b9-e8c785478116"
      },
      "execution_count": 9,
      "outputs": [
        {
          "output_type": "error",
          "ename": "ValueError",
          "evalue": "ignored",
          "traceback": [
            "\u001b[0;31m---------------------------------------------------------------------------\u001b[0m",
            "\u001b[0;31mValueError\u001b[0m                                Traceback (most recent call last)",
            "\u001b[0;32m<ipython-input-9-5ba46999d6a1>\u001b[0m in \u001b[0;36m<cell line: 1>\u001b[0;34m()\u001b[0m\n\u001b[0;32m----> 1\u001b[0;31m \u001b[0mlending_co_data_numeric\u001b[0m\u001b[0;34m.\u001b[0m\u001b[0mastype\u001b[0m\u001b[0;34m(\u001b[0m\u001b[0mdtype\u001b[0m \u001b[0;34m=\u001b[0m \u001b[0mnp\u001b[0m\u001b[0;34m.\u001b[0m\u001b[0mint32\u001b[0m\u001b[0;34m)\u001b[0m\u001b[0;34m\u001b[0m\u001b[0;34m\u001b[0m\u001b[0m\n\u001b[0m",
            "\u001b[0;31mValueError\u001b[0m: invalid literal for int() with base 10: '2000.0'"
          ]
        }
      ]
    },
    {
      "cell_type": "code",
      "source": [
        "lending_co_data_numeric.astype(dtype = np.float32)"
      ],
      "metadata": {
        "colab": {
          "base_uri": "https://localhost:8080/"
        },
        "id": "EBEMJ5ojsSiw",
        "outputId": "49a7c277-6605-448f-9e12-08f722698600"
      },
      "execution_count": 10,
      "outputs": [
        {
          "output_type": "execute_result",
          "data": {
            "text/plain": [
              "array([[ 2000.,    40.,   365.,  3121.,  4241., 13621.],\n",
              "       [ 2000.,    40.,   365.,  3061.,  4171., 15041.],\n",
              "       [ 1000.,    40.,   365.,  2160.,  3280., 15340.],\n",
              "       ...,\n",
              "       [ 2000.,    40.,   365.,  4201.,  5001., 16600.],\n",
              "       [ 1000.,    40.,   365.,  2080.,  3320., 15600.],\n",
              "       [ 2000.,    40.,   365.,  4601.,  4601., 16600.]], dtype=float32)"
            ]
          },
          "metadata": {},
          "execution_count": 10
        }
      ]
    },
    {
      "cell_type": "code",
      "source": [
        "lending_co_data_numeric = lending_co_data_numeric.astype(dtype = np.float32)\n",
        "lending_co_data_numeric"
      ],
      "metadata": {
        "colab": {
          "base_uri": "https://localhost:8080/"
        },
        "id": "-yD2irZRsZaT",
        "outputId": "1b4acef1-684f-4dc6-f72c-39fb93303a74"
      },
      "execution_count": 11,
      "outputs": [
        {
          "output_type": "execute_result",
          "data": {
            "text/plain": [
              "array([[ 2000.,    40.,   365.,  3121.,  4241., 13621.],\n",
              "       [ 2000.,    40.,   365.,  3061.,  4171., 15041.],\n",
              "       [ 1000.,    40.,   365.,  2160.,  3280., 15340.],\n",
              "       ...,\n",
              "       [ 2000.,    40.,   365.,  4201.,  5001., 16600.],\n",
              "       [ 1000.,    40.,   365.,  2080.,  3320., 15600.],\n",
              "       [ 2000.,    40.,   365.,  4601.,  4601., 16600.]], dtype=float32)"
            ]
          },
          "metadata": {},
          "execution_count": 11
        }
      ]
    },
    {
      "cell_type": "code",
      "source": [
        "lending_co_data_numeric = lending_co_data_numeric.astype(dtype = np.int32)\n",
        "lending_co_data_numeric"
      ],
      "metadata": {
        "colab": {
          "base_uri": "https://localhost:8080/"
        },
        "id": "brT_tLPKshRM",
        "outputId": "23f311c0-faa3-4dee-fc98-a5742fc755dd"
      },
      "execution_count": 12,
      "outputs": [
        {
          "output_type": "execute_result",
          "data": {
            "text/plain": [
              "array([[ 2000,    40,   365,  3121,  4241, 13621],\n",
              "       [ 2000,    40,   365,  3061,  4171, 15041],\n",
              "       [ 1000,    40,   365,  2160,  3280, 15340],\n",
              "       ...,\n",
              "       [ 2000,    40,   365,  4201,  5001, 16600],\n",
              "       [ 1000,    40,   365,  2080,  3320, 15600],\n",
              "       [ 2000,    40,   365,  4601,  4601, 16600]], dtype=int32)"
            ]
          },
          "metadata": {},
          "execution_count": 12
        }
      ]
    },
    {
      "cell_type": "code",
      "source": [
        "lending_co_data_numeric = np.loadtxt('Lending-company-Numeric.csv', delimiter = ',')\n",
        "lending_co_data_numeric = lending_co_data_numeric.astype(dtype = np.str_)\n",
        "lending_co_data_numeric"
      ],
      "metadata": {
        "colab": {
          "base_uri": "https://localhost:8080/"
        },
        "id": "8CRhk32gso86",
        "outputId": "3c4e1766-d665-4044-9191-f4be6d8db54b"
      },
      "execution_count": 13,
      "outputs": [
        {
          "output_type": "execute_result",
          "data": {
            "text/plain": [
              "array([['2000.0', '40.0', '365.0', '3121.0', '4241.0', '13621.0'],\n",
              "       ['2000.0', '40.0', '365.0', '3061.0', '4171.0', '15041.0'],\n",
              "       ['1000.0', '40.0', '365.0', '2160.0', '3280.0', '15340.0'],\n",
              "       ...,\n",
              "       ['2000.0', '40.0', '365.0', '4201.0', '5001.0', '16600.0'],\n",
              "       ['1000.0', '40.0', '365.0', '2080.0', '3320.0', '15600.0'],\n",
              "       ['2000.0', '40.0', '365.0', '4601.0', '4601.0', '16600.0']],\n",
              "      dtype='<U32')"
            ]
          },
          "metadata": {},
          "execution_count": 13
        }
      ]
    },
    {
      "cell_type": "code",
      "source": [
        "lending_co_data_numeric.astype(dtype = np.float32).astype(dtype = np.int32)"
      ],
      "metadata": {
        "colab": {
          "base_uri": "https://localhost:8080/"
        },
        "id": "w5-3mza0tAW3",
        "outputId": "3d5270af-7ca0-4fd2-ce54-0c0a8c04be44"
      },
      "execution_count": 15,
      "outputs": [
        {
          "output_type": "execute_result",
          "data": {
            "text/plain": [
              "array([[ 2000,    40,   365,  3121,  4241, 13621],\n",
              "       [ 2000,    40,   365,  3061,  4171, 15041],\n",
              "       [ 1000,    40,   365,  2160,  3280, 15340],\n",
              "       ...,\n",
              "       [ 2000,    40,   365,  4201,  5001, 16600],\n",
              "       [ 1000,    40,   365,  2080,  3320, 15600],\n",
              "       [ 2000,    40,   365,  4601,  4601, 16600]], dtype=int32)"
            ]
          },
          "metadata": {},
          "execution_count": 15
        }
      ]
    },
    {
      "cell_type": "code",
      "source": [
        "lending_co_data_numeric"
      ],
      "metadata": {
        "colab": {
          "base_uri": "https://localhost:8080/"
        },
        "id": "5ky5q88FtPJP",
        "outputId": "6c0dc533-d9e1-4d97-bb57-f55926ea81aa"
      },
      "execution_count": 16,
      "outputs": [
        {
          "output_type": "execute_result",
          "data": {
            "text/plain": [
              "array([['2000.0', '40.0', '365.0', '3121.0', '4241.0', '13621.0'],\n",
              "       ['2000.0', '40.0', '365.0', '3061.0', '4171.0', '15041.0'],\n",
              "       ['1000.0', '40.0', '365.0', '2160.0', '3280.0', '15340.0'],\n",
              "       ...,\n",
              "       ['2000.0', '40.0', '365.0', '4201.0', '5001.0', '16600.0'],\n",
              "       ['1000.0', '40.0', '365.0', '2080.0', '3320.0', '15600.0'],\n",
              "       ['2000.0', '40.0', '365.0', '4601.0', '4601.0', '16600.0']],\n",
              "      dtype='<U32')"
            ]
          },
          "metadata": {},
          "execution_count": 16
        }
      ]
    }
  ],
  "metadata": {
    "colab": {
      "provenance": [],
      "authorship_tag": "ABX9TyMQzZUsxCXwfQNvtw1B/ORg",
      "include_colab_link": true
    },
    "kernelspec": {
      "display_name": "Python 3",
      "name": "python3"
    },
    "language_info": {
      "name": "python"
    }
  },
  "nbformat": 4,
  "nbformat_minor": 0
}