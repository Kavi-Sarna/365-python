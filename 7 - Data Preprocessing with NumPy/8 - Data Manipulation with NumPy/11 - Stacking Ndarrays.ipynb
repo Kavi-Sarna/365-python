{
  "cells": [
    {
      "cell_type": "markdown",
      "metadata": {
        "id": "view-in-github",
        "colab_type": "text"
      },
      "source": [
        "<a href=\"https://colab.research.google.com/github/Kavi-Sarna/365-python/blob/main/7%20-%20Data%20Preprocessing%20with%20NumPy/8%20-%20Data%20Manipulation%20with%20NumPy/11%20-%20Stacking%20Ndarrays.ipynb\" target=\"_parent\"><img src=\"https://colab.research.google.com/assets/colab-badge.svg\" alt=\"Open In Colab\"/></a>"
      ]
    },
    {
      "cell_type": "code",
      "source": [
        "import numpy as np"
      ],
      "metadata": {
        "id": "eOFFIKCyaj1u"
      },
      "execution_count": 1,
      "outputs": []
    },
    {
      "cell_type": "code",
      "source": [
        "lending_co_data_numeric = np.loadtxt('Lending-company-Numeric.csv', delimiter = ',')\n",
        "lending_co_data_numeric"
      ],
      "metadata": {
        "colab": {
          "base_uri": "https://localhost:8080/"
        },
        "id": "ps75j1gzUaH5",
        "outputId": "c4e9a8c1-13e0-45db-f024-01d03f8fe8e1"
      },
      "execution_count": 2,
      "outputs": [
        {
          "output_type": "execute_result",
          "data": {
            "text/plain": [
              "array([[ 2000.,    40.,   365.,  3121.,  4241., 13621.],\n",
              "       [ 2000.,    40.,   365.,  3061.,  4171., 15041.],\n",
              "       [ 1000.,    40.,   365.,  2160.,  3280., 15340.],\n",
              "       ...,\n",
              "       [ 2000.,    40.,   365.,  4201.,  5001., 16600.],\n",
              "       [ 1000.,    40.,   365.,  2080.,  3320., 15600.],\n",
              "       [ 2000.,    40.,   365.,  4601.,  4601., 16600.]])"
            ]
          },
          "metadata": {},
          "execution_count": 2
        }
      ]
    },
    {
      "cell_type": "code",
      "source": [
        "lending_co_data_numeric_NAN = np.genfromtxt('Lending-company-Numeric-NAN.csv', delimiter = ';')\n",
        "\n",
        "temporary_fill = np.nanmax(lending_co_data_numeric_NAN).round(2) + 1\n",
        "temporary_mean = np.nanmean(lending_co_data_numeric_NAN, axis = 0).round(2)\n",
        "\n",
        "lending_co_data_numeric_NAN = np.genfromtxt('Lending-company-Numeric-NAN.csv',\n",
        "                                            delimiter = ';',\n",
        "                                            filling_values = temporary_fill)\n",
        "\n",
        "for i in range(lending_co_data_numeric_NAN.shape[1]):\n",
        "  lending_co_data_numeric_NAN[:, i] = np.where(lending_co_data_numeric_NAN[:, i] == temporary_fill,\n",
        "                                               temporary_mean[i],\n",
        "                                               lending_co_data_numeric_NAN[:, i])\n",
        "\n",
        "lending_co_data_numeric_NAN"
      ],
      "metadata": {
        "colab": {
          "base_uri": "https://localhost:8080/"
        },
        "id": "FpS0o2Wqwy6U",
        "outputId": "3db95ff6-729c-41a7-bb2c-438ce6de0a09"
      },
      "execution_count": 5,
      "outputs": [
        {
          "output_type": "execute_result",
          "data": {
            "text/plain": [
              "array([[ 2000.  ,    40.  ,   365.  ,  3121.  ,  4241.  , 13621.  ],\n",
              "       [ 2000.  ,    40.  ,   365.  ,  3061.  ,  4171.  , 15041.  ],\n",
              "       [ 1000.  ,    40.  ,   365.  ,  2160.  ,  3280.  , 15340.  ],\n",
              "       ...,\n",
              "       [ 2250.25,    40.  ,   365.  ,  4201.  ,  5001.  , 16600.  ],\n",
              "       [ 1000.  ,    40.  ,   365.  ,  2080.  ,  3320.  , 15600.  ],\n",
              "       [ 2000.  ,    40.  ,   365.  ,  4601.  ,  4601.  , 16600.  ]])"
            ]
          },
          "metadata": {},
          "execution_count": 5
        }
      ]
    },
    {
      "cell_type": "code",
      "source": [
        "np.stack((lending_co_data_numeric[:, 0], lending_co_data_numeric[:, 1]))"
      ],
      "metadata": {
        "colab": {
          "base_uri": "https://localhost:8080/"
        },
        "id": "H5m4c3kTyVqj",
        "outputId": "201445a1-89ba-437f-bcfc-2a0267baa6be"
      },
      "execution_count": 6,
      "outputs": [
        {
          "output_type": "execute_result",
          "data": {
            "text/plain": [
              "array([[2000., 2000., 1000., ..., 2000., 1000., 2000.],\n",
              "       [  40.,   40.,   40., ...,   40.,   40.,   40.]])"
            ]
          },
          "metadata": {},
          "execution_count": 6
        }
      ]
    },
    {
      "cell_type": "code",
      "source": [
        "np.transpose(lending_co_data_numeric[:, :2])"
      ],
      "metadata": {
        "colab": {
          "base_uri": "https://localhost:8080/"
        },
        "id": "eFVkU4w4y6jL",
        "outputId": "957c4d59-7c3b-4ed0-ae5e-df31651429c0"
      },
      "execution_count": 7,
      "outputs": [
        {
          "output_type": "execute_result",
          "data": {
            "text/plain": [
              "array([[2000., 2000., 1000., ..., 2000., 1000., 2000.],\n",
              "       [  40.,   40.,   40., ...,   40.,   40.,   40.]])"
            ]
          },
          "metadata": {},
          "execution_count": 7
        }
      ]
    },
    {
      "cell_type": "code",
      "source": [
        "np.stack((lending_co_data_numeric[:, 1], lending_co_data_numeric[:, 0]))"
      ],
      "metadata": {
        "colab": {
          "base_uri": "https://localhost:8080/"
        },
        "id": "7UmRKUm4zCYo",
        "outputId": "daaef8b6-d665-4624-c0be-b892243b3ff3"
      },
      "execution_count": 9,
      "outputs": [
        {
          "output_type": "execute_result",
          "data": {
            "text/plain": [
              "array([[  40.,   40.,   40., ...,   40.,   40.,   40.],\n",
              "       [2000., 2000., 1000., ..., 2000., 1000., 2000.]])"
            ]
          },
          "metadata": {},
          "execution_count": 9
        }
      ]
    },
    {
      "cell_type": "code",
      "source": [
        "np.stack((lending_co_data_numeric[:, 0], lending_co_data_numeric[:, 1]), axis = 1)"
      ],
      "metadata": {
        "colab": {
          "base_uri": "https://localhost:8080/"
        },
        "id": "FaoKyztJzMUI",
        "outputId": "39619fea-f0a7-4f94-c311-beeb27e0a804"
      },
      "execution_count": 10,
      "outputs": [
        {
          "output_type": "execute_result",
          "data": {
            "text/plain": [
              "array([[2000.,   40.],\n",
              "       [2000.,   40.],\n",
              "       [1000.,   40.],\n",
              "       ...,\n",
              "       [2000.,   40.],\n",
              "       [1000.,   40.],\n",
              "       [2000.,   40.]])"
            ]
          },
          "metadata": {},
          "execution_count": 10
        }
      ]
    },
    {
      "cell_type": "code",
      "source": [
        "np.stack((lending_co_data_numeric[:, 0], lending_co_data_numeric[:, 1], lending_co_data_numeric[:, 2]), axis = 1)"
      ],
      "metadata": {
        "colab": {
          "base_uri": "https://localhost:8080/"
        },
        "id": "eUIv1pbHzZSt",
        "outputId": "f0a0cc92-659a-4f81-8716-83e52fc5c421"
      },
      "execution_count": 11,
      "outputs": [
        {
          "output_type": "execute_result",
          "data": {
            "text/plain": [
              "array([[2000.,   40.,  365.],\n",
              "       [2000.,   40.,  365.],\n",
              "       [1000.,   40.,  365.],\n",
              "       ...,\n",
              "       [2000.,   40.,  365.],\n",
              "       [1000.,   40.,  365.],\n",
              "       [2000.,   40.,  365.]])"
            ]
          },
          "metadata": {},
          "execution_count": 11
        }
      ]
    },
    {
      "cell_type": "code",
      "source": [
        "np.stack((lending_co_data_numeric[:, 0], lending_co_data_numeric[:, 1], lending_co_data_numeric[:, :2]), axis = 1)"
      ],
      "metadata": {
        "colab": {
          "base_uri": "https://localhost:8080/",
          "height": 321
        },
        "id": "W_Jrs0jvznGh",
        "outputId": "1470075f-215f-4d65-db08-85abc173a28c"
      },
      "execution_count": 12,
      "outputs": [
        {
          "output_type": "error",
          "ename": "ValueError",
          "evalue": "ignored",
          "traceback": [
            "\u001b[0;31m---------------------------------------------------------------------------\u001b[0m",
            "\u001b[0;31mValueError\u001b[0m                                Traceback (most recent call last)",
            "\u001b[0;32m<ipython-input-12-b3b7970aa336>\u001b[0m in \u001b[0;36m<cell line: 1>\u001b[0;34m()\u001b[0m\n\u001b[0;32m----> 1\u001b[0;31m \u001b[0mnp\u001b[0m\u001b[0;34m.\u001b[0m\u001b[0mstack\u001b[0m\u001b[0;34m(\u001b[0m\u001b[0;34m(\u001b[0m\u001b[0mlending_co_data_numeric\u001b[0m\u001b[0;34m[\u001b[0m\u001b[0;34m:\u001b[0m\u001b[0;34m,\u001b[0m \u001b[0;36m0\u001b[0m\u001b[0;34m]\u001b[0m\u001b[0;34m,\u001b[0m \u001b[0mlending_co_data_numeric\u001b[0m\u001b[0;34m[\u001b[0m\u001b[0;34m:\u001b[0m\u001b[0;34m,\u001b[0m \u001b[0;36m1\u001b[0m\u001b[0;34m]\u001b[0m\u001b[0;34m,\u001b[0m \u001b[0mlending_co_data_numeric\u001b[0m\u001b[0;34m[\u001b[0m\u001b[0;34m:\u001b[0m\u001b[0;34m,\u001b[0m \u001b[0;34m:\u001b[0m\u001b[0;36m2\u001b[0m\u001b[0;34m]\u001b[0m\u001b[0;34m)\u001b[0m\u001b[0;34m,\u001b[0m \u001b[0maxis\u001b[0m \u001b[0;34m=\u001b[0m \u001b[0;36m1\u001b[0m\u001b[0;34m)\u001b[0m\u001b[0;34m\u001b[0m\u001b[0;34m\u001b[0m\u001b[0m\n\u001b[0m",
            "\u001b[0;32m/usr/local/lib/python3.10/dist-packages/numpy/core/overrides.py\u001b[0m in \u001b[0;36mstack\u001b[0;34m(*args, **kwargs)\u001b[0m\n",
            "\u001b[0;32m/usr/local/lib/python3.10/dist-packages/numpy/core/shape_base.py\u001b[0m in \u001b[0;36mstack\u001b[0;34m(arrays, axis, out)\u001b[0m\n\u001b[1;32m    424\u001b[0m     \u001b[0mshapes\u001b[0m \u001b[0;34m=\u001b[0m \u001b[0;34m{\u001b[0m\u001b[0marr\u001b[0m\u001b[0;34m.\u001b[0m\u001b[0mshape\u001b[0m \u001b[0;32mfor\u001b[0m \u001b[0marr\u001b[0m \u001b[0;32min\u001b[0m \u001b[0marrays\u001b[0m\u001b[0;34m}\u001b[0m\u001b[0;34m\u001b[0m\u001b[0;34m\u001b[0m\u001b[0m\n\u001b[1;32m    425\u001b[0m     \u001b[0;32mif\u001b[0m \u001b[0mlen\u001b[0m\u001b[0;34m(\u001b[0m\u001b[0mshapes\u001b[0m\u001b[0;34m)\u001b[0m \u001b[0;34m!=\u001b[0m \u001b[0;36m1\u001b[0m\u001b[0;34m:\u001b[0m\u001b[0;34m\u001b[0m\u001b[0;34m\u001b[0m\u001b[0m\n\u001b[0;32m--> 426\u001b[0;31m         \u001b[0;32mraise\u001b[0m \u001b[0mValueError\u001b[0m\u001b[0;34m(\u001b[0m\u001b[0;34m'all input arrays must have the same shape'\u001b[0m\u001b[0;34m)\u001b[0m\u001b[0;34m\u001b[0m\u001b[0;34m\u001b[0m\u001b[0m\n\u001b[0m\u001b[1;32m    427\u001b[0m \u001b[0;34m\u001b[0m\u001b[0m\n\u001b[1;32m    428\u001b[0m     \u001b[0mresult_ndim\u001b[0m \u001b[0;34m=\u001b[0m \u001b[0marrays\u001b[0m\u001b[0;34m[\u001b[0m\u001b[0;36m0\u001b[0m\u001b[0;34m]\u001b[0m\u001b[0;34m.\u001b[0m\u001b[0mndim\u001b[0m \u001b[0;34m+\u001b[0m \u001b[0;36m1\u001b[0m\u001b[0;34m\u001b[0m\u001b[0;34m\u001b[0m\u001b[0m\n",
            "\u001b[0;31mValueError\u001b[0m: all input arrays must have the same shape"
          ]
        }
      ]
    },
    {
      "cell_type": "code",
      "source": [
        "lending_co_data_numeric.shape"
      ],
      "metadata": {
        "colab": {
          "base_uri": "https://localhost:8080/"
        },
        "id": "iuqYj2oAzzxZ",
        "outputId": "1386e3a0-3022-454e-c9b6-8da1da986686"
      },
      "execution_count": 13,
      "outputs": [
        {
          "output_type": "execute_result",
          "data": {
            "text/plain": [
              "(1043, 6)"
            ]
          },
          "metadata": {},
          "execution_count": 13
        }
      ]
    },
    {
      "cell_type": "code",
      "source": [
        "lending_co_data_numeric_NAN.shape"
      ],
      "metadata": {
        "colab": {
          "base_uri": "https://localhost:8080/"
        },
        "id": "uxRjkPBS0A62",
        "outputId": "464b6ecd-b776-4da2-ae53-a0901a34085f"
      },
      "execution_count": 14,
      "outputs": [
        {
          "output_type": "execute_result",
          "data": {
            "text/plain": [
              "(1043, 6)"
            ]
          },
          "metadata": {},
          "execution_count": 14
        }
      ]
    },
    {
      "cell_type": "code",
      "source": [
        "np.vstack((lending_co_data_numeric, lending_co_data_numeric_NAN))"
      ],
      "metadata": {
        "colab": {
          "base_uri": "https://localhost:8080/"
        },
        "id": "_t19e6ps0CI2",
        "outputId": "2f62e684-f929-41d2-db91-12e0c61eb7ec"
      },
      "execution_count": 15,
      "outputs": [
        {
          "output_type": "execute_result",
          "data": {
            "text/plain": [
              "array([[ 2000.  ,    40.  ,   365.  ,  3121.  ,  4241.  , 13621.  ],\n",
              "       [ 2000.  ,    40.  ,   365.  ,  3061.  ,  4171.  , 15041.  ],\n",
              "       [ 1000.  ,    40.  ,   365.  ,  2160.  ,  3280.  , 15340.  ],\n",
              "       ...,\n",
              "       [ 2250.25,    40.  ,   365.  ,  4201.  ,  5001.  , 16600.  ],\n",
              "       [ 1000.  ,    40.  ,   365.  ,  2080.  ,  3320.  , 15600.  ],\n",
              "       [ 2000.  ,    40.  ,   365.  ,  4601.  ,  4601.  , 16600.  ]])"
            ]
          },
          "metadata": {},
          "execution_count": 15
        }
      ]
    },
    {
      "cell_type": "code",
      "source": [
        "np.vstack((lending_co_data_numeric, lending_co_data_numeric_NAN)).shape"
      ],
      "metadata": {
        "colab": {
          "base_uri": "https://localhost:8080/"
        },
        "id": "O72bIPi80J2f",
        "outputId": "25d24f74-b61e-411a-cc23-6f6fd9e73dca"
      },
      "execution_count": 16,
      "outputs": [
        {
          "output_type": "execute_result",
          "data": {
            "text/plain": [
              "(2086, 6)"
            ]
          },
          "metadata": {},
          "execution_count": 16
        }
      ]
    },
    {
      "cell_type": "code",
      "source": [
        "np.hstack((lending_co_data_numeric, lending_co_data_numeric_NAN))"
      ],
      "metadata": {
        "colab": {
          "base_uri": "https://localhost:8080/"
        },
        "id": "Eo_waZzf0P_K",
        "outputId": "16371d2b-b021-417a-ec3d-7a21f0cf5a64"
      },
      "execution_count": 17,
      "outputs": [
        {
          "output_type": "execute_result",
          "data": {
            "text/plain": [
              "array([[ 2000.,    40.,   365., ...,  3121.,  4241., 13621.],\n",
              "       [ 2000.,    40.,   365., ...,  3061.,  4171., 15041.],\n",
              "       [ 1000.,    40.,   365., ...,  2160.,  3280., 15340.],\n",
              "       ...,\n",
              "       [ 2000.,    40.,   365., ...,  4201.,  5001., 16600.],\n",
              "       [ 1000.,    40.,   365., ...,  2080.,  3320., 15600.],\n",
              "       [ 2000.,    40.,   365., ...,  4601.,  4601., 16600.]])"
            ]
          },
          "metadata": {},
          "execution_count": 17
        }
      ]
    },
    {
      "cell_type": "code",
      "source": [
        "np.hstack((lending_co_data_numeric, lending_co_data_numeric_NAN)).shape"
      ],
      "metadata": {
        "colab": {
          "base_uri": "https://localhost:8080/"
        },
        "id": "iRB42MNW0VwI",
        "outputId": "c24456d8-a0af-4666-f119-4dace0c89f0c"
      },
      "execution_count": 18,
      "outputs": [
        {
          "output_type": "execute_result",
          "data": {
            "text/plain": [
              "(1043, 12)"
            ]
          },
          "metadata": {},
          "execution_count": 18
        }
      ]
    },
    {
      "cell_type": "code",
      "source": [
        "np.dstack((lending_co_data_numeric, lending_co_data_numeric_NAN))"
      ],
      "metadata": {
        "colab": {
          "base_uri": "https://localhost:8080/"
        },
        "id": "_jlsDo7v0acd",
        "outputId": "8faf7678-9644-4947-803a-6369534848cf"
      },
      "execution_count": 19,
      "outputs": [
        {
          "output_type": "execute_result",
          "data": {
            "text/plain": [
              "array([[[ 2000.  ,  2000.  ],\n",
              "        [   40.  ,    40.  ],\n",
              "        [  365.  ,   365.  ],\n",
              "        [ 3121.  ,  3121.  ],\n",
              "        [ 4241.  ,  4241.  ],\n",
              "        [13621.  , 13621.  ]],\n",
              "\n",
              "       [[ 2000.  ,  2000.  ],\n",
              "        [   40.  ,    40.  ],\n",
              "        [  365.  ,   365.  ],\n",
              "        [ 3061.  ,  3061.  ],\n",
              "        [ 4171.  ,  4171.  ],\n",
              "        [15041.  , 15041.  ]],\n",
              "\n",
              "       [[ 1000.  ,  1000.  ],\n",
              "        [   40.  ,    40.  ],\n",
              "        [  365.  ,   365.  ],\n",
              "        [ 2160.  ,  2160.  ],\n",
              "        [ 3280.  ,  3280.  ],\n",
              "        [15340.  , 15340.  ]],\n",
              "\n",
              "       ...,\n",
              "\n",
              "       [[ 2000.  ,  2250.25],\n",
              "        [   40.  ,    40.  ],\n",
              "        [  365.  ,   365.  ],\n",
              "        [ 4201.  ,  4201.  ],\n",
              "        [ 5001.  ,  5001.  ],\n",
              "        [16600.  , 16600.  ]],\n",
              "\n",
              "       [[ 1000.  ,  1000.  ],\n",
              "        [   40.  ,    40.  ],\n",
              "        [  365.  ,   365.  ],\n",
              "        [ 2080.  ,  2080.  ],\n",
              "        [ 3320.  ,  3320.  ],\n",
              "        [15600.  , 15600.  ]],\n",
              "\n",
              "       [[ 2000.  ,  2000.  ],\n",
              "        [   40.  ,    40.  ],\n",
              "        [  365.  ,   365.  ],\n",
              "        [ 4601.  ,  4601.  ],\n",
              "        [ 4601.  ,  4601.  ],\n",
              "        [16600.  , 16600.  ]]])"
            ]
          },
          "metadata": {},
          "execution_count": 19
        }
      ]
    },
    {
      "cell_type": "code",
      "source": [
        "np.dstack((lending_co_data_numeric, lending_co_data_numeric_NAN)).shape"
      ],
      "metadata": {
        "colab": {
          "base_uri": "https://localhost:8080/"
        },
        "id": "_M9pkti-0hbf",
        "outputId": "314d8860-b72c-4907-eaba-d51e1baf5362"
      },
      "execution_count": 20,
      "outputs": [
        {
          "output_type": "execute_result",
          "data": {
            "text/plain": [
              "(1043, 6, 2)"
            ]
          },
          "metadata": {},
          "execution_count": 20
        }
      ]
    },
    {
      "cell_type": "code",
      "source": [
        "np.dstack((lending_co_data_numeric, lending_co_data_numeric_NAN))[0]"
      ],
      "metadata": {
        "colab": {
          "base_uri": "https://localhost:8080/"
        },
        "id": "To-1Mg7z0koO",
        "outputId": "a1302a14-c8bc-4f33-f120-e8218a7c3fed"
      },
      "execution_count": 21,
      "outputs": [
        {
          "output_type": "execute_result",
          "data": {
            "text/plain": [
              "array([[ 2000.,  2000.],\n",
              "       [   40.,    40.],\n",
              "       [  365.,   365.],\n",
              "       [ 3121.,  3121.],\n",
              "       [ 4241.,  4241.],\n",
              "       [13621., 13621.]])"
            ]
          },
          "metadata": {},
          "execution_count": 21
        }
      ]
    },
    {
      "cell_type": "code",
      "source": [
        "np.dstack((lending_co_data_numeric, lending_co_data_numeric_NAN))[0, 0]"
      ],
      "metadata": {
        "colab": {
          "base_uri": "https://localhost:8080/"
        },
        "id": "M-6F0EVP0yfZ",
        "outputId": "3cd2970c-f4b4-4cdf-f9cf-cf6d1f02764d"
      },
      "execution_count": 22,
      "outputs": [
        {
          "output_type": "execute_result",
          "data": {
            "text/plain": [
              "array([2000., 2000.])"
            ]
          },
          "metadata": {},
          "execution_count": 22
        }
      ]
    },
    {
      "cell_type": "code",
      "source": [
        "np.dstack((lending_co_data_numeric, lending_co_data_numeric_NAN))[0, :, 0]"
      ],
      "metadata": {
        "colab": {
          "base_uri": "https://localhost:8080/"
        },
        "id": "o2Q1GJvL01Fn",
        "outputId": "727bc4b3-e502-4acf-bb0b-545fa3ecc879"
      },
      "execution_count": 23,
      "outputs": [
        {
          "output_type": "execute_result",
          "data": {
            "text/plain": [
              "array([ 2000.,    40.,   365.,  3121.,  4241., 13621.])"
            ]
          },
          "metadata": {},
          "execution_count": 23
        }
      ]
    },
    {
      "cell_type": "code",
      "source": [
        "np.stack((lending_co_data_numeric, lending_co_data_numeric_NAN), axis = -1)"
      ],
      "metadata": {
        "colab": {
          "base_uri": "https://localhost:8080/"
        },
        "id": "W9NCxNrF060O",
        "outputId": "6d0d5c9b-5033-49af-f7e0-41256236b21c"
      },
      "execution_count": 24,
      "outputs": [
        {
          "output_type": "execute_result",
          "data": {
            "text/plain": [
              "array([[[ 2000.  ,  2000.  ],\n",
              "        [   40.  ,    40.  ],\n",
              "        [  365.  ,   365.  ],\n",
              "        [ 3121.  ,  3121.  ],\n",
              "        [ 4241.  ,  4241.  ],\n",
              "        [13621.  , 13621.  ]],\n",
              "\n",
              "       [[ 2000.  ,  2000.  ],\n",
              "        [   40.  ,    40.  ],\n",
              "        [  365.  ,   365.  ],\n",
              "        [ 3061.  ,  3061.  ],\n",
              "        [ 4171.  ,  4171.  ],\n",
              "        [15041.  , 15041.  ]],\n",
              "\n",
              "       [[ 1000.  ,  1000.  ],\n",
              "        [   40.  ,    40.  ],\n",
              "        [  365.  ,   365.  ],\n",
              "        [ 2160.  ,  2160.  ],\n",
              "        [ 3280.  ,  3280.  ],\n",
              "        [15340.  , 15340.  ]],\n",
              "\n",
              "       ...,\n",
              "\n",
              "       [[ 2000.  ,  2250.25],\n",
              "        [   40.  ,    40.  ],\n",
              "        [  365.  ,   365.  ],\n",
              "        [ 4201.  ,  4201.  ],\n",
              "        [ 5001.  ,  5001.  ],\n",
              "        [16600.  , 16600.  ]],\n",
              "\n",
              "       [[ 1000.  ,  1000.  ],\n",
              "        [   40.  ,    40.  ],\n",
              "        [  365.  ,   365.  ],\n",
              "        [ 2080.  ,  2080.  ],\n",
              "        [ 3320.  ,  3320.  ],\n",
              "        [15600.  , 15600.  ]],\n",
              "\n",
              "       [[ 2000.  ,  2000.  ],\n",
              "        [   40.  ,    40.  ],\n",
              "        [  365.  ,   365.  ],\n",
              "        [ 4601.  ,  4601.  ],\n",
              "        [ 4601.  ,  4601.  ],\n",
              "        [16600.  , 16600.  ]]])"
            ]
          },
          "metadata": {},
          "execution_count": 24
        }
      ]
    },
    {
      "cell_type": "code",
      "source": [],
      "metadata": {
        "id": "-AbHXhHT1IXl"
      },
      "execution_count": 24,
      "outputs": []
    },
    {
      "cell_type": "code",
      "source": [
        "array_example_1 = np.array([ [ [1, 2, 3, 4], [5, 6, 7, 8], [9, 10, 11, 12] ], [ [21, 22, 23, 24], [25, 26, 27, 28], [29, 30, 31, 32] ] ])\n",
        "array_example_2 = array_example_1 * 2"
      ],
      "metadata": {
        "id": "1w0bWS4d1Xy0"
      },
      "execution_count": 25,
      "outputs": []
    },
    {
      "cell_type": "code",
      "source": [
        "np.dstack((array_example_1, array_example_2))"
      ],
      "metadata": {
        "colab": {
          "base_uri": "https://localhost:8080/"
        },
        "id": "GYhCNUku1jL4",
        "outputId": "0a2c0893-d285-493e-b103-3debf4c485c3"
      },
      "execution_count": 26,
      "outputs": [
        {
          "output_type": "execute_result",
          "data": {
            "text/plain": [
              "array([[[ 1,  2,  3,  4,  2,  4,  6,  8],\n",
              "        [ 5,  6,  7,  8, 10, 12, 14, 16],\n",
              "        [ 9, 10, 11, 12, 18, 20, 22, 24]],\n",
              "\n",
              "       [[21, 22, 23, 24, 42, 44, 46, 48],\n",
              "        [25, 26, 27, 28, 50, 52, 54, 56],\n",
              "        [29, 30, 31, 32, 58, 60, 62, 64]]])"
            ]
          },
          "metadata": {},
          "execution_count": 26
        }
      ]
    },
    {
      "cell_type": "code",
      "source": [
        "np.stack((array_example_1, array_example_2), axis = -1)"
      ],
      "metadata": {
        "colab": {
          "base_uri": "https://localhost:8080/"
        },
        "id": "0ZNKkVjm1p4d",
        "outputId": "61aebb2b-7e74-4527-b0e1-3a2adb8d1759"
      },
      "execution_count": 27,
      "outputs": [
        {
          "output_type": "execute_result",
          "data": {
            "text/plain": [
              "array([[[[ 1,  2],\n",
              "         [ 2,  4],\n",
              "         [ 3,  6],\n",
              "         [ 4,  8]],\n",
              "\n",
              "        [[ 5, 10],\n",
              "         [ 6, 12],\n",
              "         [ 7, 14],\n",
              "         [ 8, 16]],\n",
              "\n",
              "        [[ 9, 18],\n",
              "         [10, 20],\n",
              "         [11, 22],\n",
              "         [12, 24]]],\n",
              "\n",
              "\n",
              "       [[[21, 42],\n",
              "         [22, 44],\n",
              "         [23, 46],\n",
              "         [24, 48]],\n",
              "\n",
              "        [[25, 50],\n",
              "         [26, 52],\n",
              "         [27, 54],\n",
              "         [28, 56]],\n",
              "\n",
              "        [[29, 58],\n",
              "         [30, 60],\n",
              "         [31, 62],\n",
              "         [32, 64]]]])"
            ]
          },
          "metadata": {},
          "execution_count": 27
        }
      ]
    },
    {
      "cell_type": "code",
      "source": [
        "np.dstack((array_example_1, array_example_2)).shape"
      ],
      "metadata": {
        "colab": {
          "base_uri": "https://localhost:8080/"
        },
        "id": "TOrTOnoX1uMD",
        "outputId": "a00e703e-64c6-42f0-c5b2-727e818be1e2"
      },
      "execution_count": 28,
      "outputs": [
        {
          "output_type": "execute_result",
          "data": {
            "text/plain": [
              "(2, 3, 8)"
            ]
          },
          "metadata": {},
          "execution_count": 28
        }
      ]
    },
    {
      "cell_type": "code",
      "source": [
        "np.stack((array_example_1, array_example_2), axis = -1).shape"
      ],
      "metadata": {
        "colab": {
          "base_uri": "https://localhost:8080/"
        },
        "id": "brOzECyH1xWa",
        "outputId": "794e7d2e-9207-40ce-d649-77f276695b88"
      },
      "execution_count": 29,
      "outputs": [
        {
          "output_type": "execute_result",
          "data": {
            "text/plain": [
              "(2, 3, 4, 2)"
            ]
          },
          "metadata": {},
          "execution_count": 29
        }
      ]
    }
  ],
  "metadata": {
    "colab": {
      "provenance": [],
      "authorship_tag": "ABX9TyMOFX/rIi48XcYQn490N4pu",
      "include_colab_link": true
    },
    "kernelspec": {
      "display_name": "Python 3",
      "name": "python3"
    },
    "language_info": {
      "name": "python"
    }
  },
  "nbformat": 4,
  "nbformat_minor": 0
}