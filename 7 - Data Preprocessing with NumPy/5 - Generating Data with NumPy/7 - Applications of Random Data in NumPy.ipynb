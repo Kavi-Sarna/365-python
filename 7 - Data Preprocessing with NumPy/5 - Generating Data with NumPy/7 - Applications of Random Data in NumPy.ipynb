{
  "cells": [
    {
      "cell_type": "markdown",
      "metadata": {
        "id": "view-in-github",
        "colab_type": "text"
      },
      "source": [
        "<a href=\"https://colab.research.google.com/github/Kavi-Sarna/365-python/blob/main/7%20-%20Data%20Preprocessing%20with%20NumPy/5%20-%20Generating%20Data%20with%20NumPy/7%20-%20Applications%20of%20Random%20Data%20in%20NumPy.ipynb\" target=\"_parent\"><img src=\"https://colab.research.google.com/assets/colab-badge.svg\" alt=\"Open In Colab\"/></a>"
      ]
    },
    {
      "cell_type": "code",
      "source": [
        "import numpy as np"
      ],
      "metadata": {
        "id": "eOFFIKCyaj1u"
      },
      "execution_count": 1,
      "outputs": []
    },
    {
      "cell_type": "code",
      "source": [
        "from numpy.random import Generator as gen\n",
        "from numpy.random import PCG64 as pcg"
      ],
      "metadata": {
        "id": "Ddo0NgeeamSt"
      },
      "execution_count": 2,
      "outputs": []
    },
    {
      "cell_type": "code",
      "source": [
        "array_RG = gen(pcg(seed = 365))\n",
        "\n",
        "array_column_1 = array_RG.normal(loc = 2, scale = 3, size = (1000))\n",
        "array_column_2 = array_RG.normal(loc = 7, scale = 2, size = (1000))\n",
        "array_column_3 = array_RG.logistic(loc = 11, scale = 3, size = (1000))\n",
        "array_column_4 = array_RG.exponential(scale = 4, size = (1000))\n",
        "array_column_5 = array_RG.geometric(p = 0.7, size = (1000))"
      ],
      "metadata": {
        "id": "OYsE7PERdxin"
      },
      "execution_count": 4,
      "outputs": []
    },
    {
      "cell_type": "code",
      "source": [
        "random_test_data = np.array([ array_column_1, array_column_2, array_column_3, array_column_4, array_column_5])\n",
        "random_test_data"
      ],
      "metadata": {
        "colab": {
          "base_uri": "https://localhost:8080/"
        },
        "id": "EVwt3ZQJfjb4",
        "outputId": "7f35d1cf-ba85-4034-9725-746f6531a9f5"
      },
      "execution_count": 5,
      "outputs": [
        {
          "output_type": "execute_result",
          "data": {
            "text/plain": [
              "array([[ 1.59077303,  2.28243293,  1.81098674, ...,  0.1973629 ,\n",
              "        -2.21015722,  2.91161235],\n",
              "       [ 6.42174295,  8.57902322,  5.17270135, ...,  4.3465854 ,\n",
              "         8.2176402 ,  7.90337695],\n",
              "       [10.14698427, 15.93309953, -0.46878789, ...,  2.66485989,\n",
              "        12.69328115, 11.79840961],\n",
              "       [ 6.91500737,  6.243605  ,  2.44997251, ...,  0.80935387,\n",
              "         0.50644607,  4.86816939],\n",
              "       [ 1.        ,  1.        ,  1.        , ...,  1.        ,\n",
              "         2.        ,  1.        ]])"
            ]
          },
          "metadata": {},
          "execution_count": 5
        }
      ]
    },
    {
      "cell_type": "code",
      "source": [
        "random_test_data.shape"
      ],
      "metadata": {
        "colab": {
          "base_uri": "https://localhost:8080/"
        },
        "id": "DCSJ8UgigyXL",
        "outputId": "d58c584c-56d6-489c-826b-ee2405690229"
      },
      "execution_count": 7,
      "outputs": [
        {
          "output_type": "execute_result",
          "data": {
            "text/plain": [
              "(5, 1000)"
            ]
          },
          "metadata": {},
          "execution_count": 7
        }
      ]
    },
    {
      "cell_type": "code",
      "source": [
        "random_test_data = np.array([ array_column_1, array_column_2, array_column_3, array_column_4, array_column_5]).transpose()\n",
        "random_test_data"
      ],
      "metadata": {
        "colab": {
          "base_uri": "https://localhost:8080/"
        },
        "id": "acTG7notg0yo",
        "outputId": "ca6bc773-76df-41b7-c912-669bc0ca07a2"
      },
      "execution_count": 10,
      "outputs": [
        {
          "output_type": "execute_result",
          "data": {
            "text/plain": [
              "array([[ 1.59077303,  6.42174295, 10.14698427,  6.91500737,  1.        ],\n",
              "       [ 2.28243293,  8.57902322, 15.93309953,  6.243605  ,  1.        ],\n",
              "       [ 1.81098674,  5.17270135, -0.46878789,  2.44997251,  1.        ],\n",
              "       ...,\n",
              "       [ 0.1973629 ,  4.3465854 ,  2.66485989,  0.80935387,  1.        ],\n",
              "       [-2.21015722,  8.2176402 , 12.69328115,  0.50644607,  2.        ],\n",
              "       [ 2.91161235,  7.90337695, 11.79840961,  4.86816939,  1.        ]])"
            ]
          },
          "metadata": {},
          "execution_count": 10
        }
      ]
    },
    {
      "cell_type": "code",
      "source": [
        "random_test_data.shape"
      ],
      "metadata": {
        "colab": {
          "base_uri": "https://localhost:8080/"
        },
        "id": "kAF4YNP4g5Bp",
        "outputId": "ffcc47bd-ae47-4a45-9597-59d0192788fe"
      },
      "execution_count": 11,
      "outputs": [
        {
          "output_type": "execute_result",
          "data": {
            "text/plain": [
              "(1000, 5)"
            ]
          },
          "metadata": {},
          "execution_count": 11
        }
      ]
    },
    {
      "cell_type": "code",
      "source": [
        "np.savetxt('Random-Test-from-NumPy.csv', random_test_data, fmt = '%s', delimiter = ',')"
      ],
      "metadata": {
        "id": "08WcqGzlg85_"
      },
      "execution_count": 12,
      "outputs": []
    },
    {
      "cell_type": "code",
      "source": [
        "np.genfromtxt('Random-Test-from-NumPy.csv', delimiter = ',')"
      ],
      "metadata": {
        "colab": {
          "base_uri": "https://localhost:8080/"
        },
        "id": "DRRwTdTGhbLZ",
        "outputId": "d97ebcfe-1b85-497e-b918-93c7fde63f1c"
      },
      "execution_count": 14,
      "outputs": [
        {
          "output_type": "execute_result",
          "data": {
            "text/plain": [
              "array([[ 1.59077303,  6.42174295, 10.14698427,  6.91500737,  1.        ],\n",
              "       [ 2.28243293,  8.57902322, 15.93309953,  6.243605  ,  1.        ],\n",
              "       [ 1.81098674,  5.17270135, -0.46878789,  2.44997251,  1.        ],\n",
              "       ...,\n",
              "       [ 0.1973629 ,  4.3465854 ,  2.66485989,  0.80935387,  1.        ],\n",
              "       [-2.21015722,  8.2176402 , 12.69328115,  0.50644607,  2.        ],\n",
              "       [ 2.91161235,  7.90337695, 11.79840961,  4.86816939,  1.        ]])"
            ]
          },
          "metadata": {},
          "execution_count": 14
        }
      ]
    }
  ],
  "metadata": {
    "colab": {
      "provenance": [],
      "authorship_tag": "ABX9TyPF4OsMGwD8iVL+rruP9Dmv",
      "include_colab_link": true
    },
    "kernelspec": {
      "display_name": "Python 3",
      "name": "python3"
    },
    "language_info": {
      "name": "python"
    }
  },
  "nbformat": 4,
  "nbformat_minor": 0
}