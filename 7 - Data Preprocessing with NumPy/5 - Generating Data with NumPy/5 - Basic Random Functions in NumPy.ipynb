{
  "cells": [
    {
      "cell_type": "markdown",
      "metadata": {
        "id": "view-in-github",
        "colab_type": "text"
      },
      "source": [
        "<a href=\"https://colab.research.google.com/github/Kavi-Sarna/365-python/blob/main/7%20-%20Data%20Preprocessing%20with%20NumPy/5%20-%20Generating%20Data%20with%20NumPy/5%20-%20Basic%20Random%20Functions%20in%20NumPy.ipynb\" target=\"_parent\"><img src=\"https://colab.research.google.com/assets/colab-badge.svg\" alt=\"Open In Colab\"/></a>"
      ]
    },
    {
      "cell_type": "code",
      "source": [
        "import numpy as np"
      ],
      "metadata": {
        "id": "eOFFIKCyaj1u"
      },
      "execution_count": 1,
      "outputs": []
    },
    {
      "cell_type": "code",
      "source": [
        "from numpy.random import Generator as gen\n",
        "from numpy.random import PCG64 as pcg"
      ],
      "metadata": {
        "id": "Ddo0NgeeamSt"
      },
      "execution_count": 2,
      "outputs": []
    },
    {
      "cell_type": "code",
      "source": [
        "array_RG = gen(pcg(seed = 365))\n",
        "array_RG.integers(10, size = (5, 5))"
      ],
      "metadata": {
        "colab": {
          "base_uri": "https://localhost:8080/"
        },
        "id": "6feOv48McWPz",
        "outputId": "6921bcc3-34c4-43d1-9d05-723d2ded2725"
      },
      "execution_count": 3,
      "outputs": [
        {
          "output_type": "execute_result",
          "data": {
            "text/plain": [
              "array([[0, 7, 6, 7, 8],\n",
              "       [6, 6, 2, 0, 6],\n",
              "       [3, 0, 3, 7, 9],\n",
              "       [1, 1, 8, 7, 4],\n",
              "       [4, 8, 6, 4, 9]])"
            ]
          },
          "metadata": {},
          "execution_count": 3
        }
      ]
    },
    {
      "cell_type": "code",
      "source": [
        "array_RG = gen(pcg(seed = 365))\n",
        "array_RG.integers(low = 10, high = 100, size = (5, 5))"
      ],
      "metadata": {
        "colab": {
          "base_uri": "https://localhost:8080/"
        },
        "id": "aNMevF6wclj9",
        "outputId": "30c63e6d-d8d8-40b7-9890-449c2a233ae7"
      },
      "execution_count": 4,
      "outputs": [
        {
          "output_type": "execute_result",
          "data": {
            "text/plain": [
              "array([[18, 78, 64, 78, 84],\n",
              "       [66, 67, 28, 10, 69],\n",
              "       [45, 15, 37, 74, 96],\n",
              "       [19, 21, 89, 73, 54],\n",
              "       [53, 84, 66, 51, 92]])"
            ]
          },
          "metadata": {},
          "execution_count": 4
        }
      ]
    },
    {
      "cell_type": "code",
      "source": [
        "array_RG = gen(pcg(seed = 365))\n",
        "array_RG.random(size = (5, 5))"
      ],
      "metadata": {
        "colab": {
          "base_uri": "https://localhost:8080/"
        },
        "id": "Fv2eNWVNcrpf",
        "outputId": "e7142b02-ac5c-493f-84fa-0194f9b373e6"
      },
      "execution_count": 5,
      "outputs": [
        {
          "output_type": "execute_result",
          "data": {
            "text/plain": [
              "array([[0.75915734, 0.7662218 , 0.6291028 , 0.20336599, 0.66501486],\n",
              "       [0.06559111, 0.71326309, 0.10812106, 0.87969046, 0.49405844],\n",
              "       [0.82472673, 0.45652944, 0.07367232, 0.69628564, 0.36690736],\n",
              "       [0.29787156, 0.4996155 , 0.4865245 , 0.62740703, 0.54952637],\n",
              "       [0.64894629, 0.04411757, 0.7206516 , 0.84594003, 0.17159792]])"
            ]
          },
          "metadata": {},
          "execution_count": 5
        }
      ]
    },
    {
      "cell_type": "code",
      "source": [
        "array_RG = gen(pcg(seed = 365))\n",
        "array_RG.choice([1, 2, 3, 4, 5], size = (5, 5))"
      ],
      "metadata": {
        "colab": {
          "base_uri": "https://localhost:8080/"
        },
        "id": "n6Smcot5cwos",
        "outputId": "0a938ebe-3e5b-48af-ced6-28bbaad6199f"
      },
      "execution_count": 6,
      "outputs": [
        {
          "output_type": "execute_result",
          "data": {
            "text/plain": [
              "array([[1, 4, 4, 4, 5],\n",
              "       [4, 4, 2, 1, 4],\n",
              "       [2, 1, 2, 4, 5],\n",
              "       [1, 1, 5, 4, 3],\n",
              "       [3, 5, 4, 3, 5]])"
            ]
          },
          "metadata": {},
          "execution_count": 6
        }
      ]
    },
    {
      "cell_type": "code",
      "source": [
        "array_RG = gen(pcg(seed = 365))\n",
        "array_RG.choice([1, 2, 3, 4, 5], p = [ 0.1, 0.1, 0.1, 0.1, 0.6 ], size = (5, 5))"
      ],
      "metadata": {
        "colab": {
          "base_uri": "https://localhost:8080/"
        },
        "id": "XZS0wlASdFGx",
        "outputId": "d933d185-05cf-468c-e473-99a8dbc23ff3"
      },
      "execution_count": 8,
      "outputs": [
        {
          "output_type": "execute_result",
          "data": {
            "text/plain": [
              "array([[5, 5, 5, 3, 5],\n",
              "       [1, 5, 2, 5, 5],\n",
              "       [5, 5, 1, 5, 4],\n",
              "       [3, 5, 5, 5, 5],\n",
              "       [5, 1, 5, 5, 2]])"
            ]
          },
          "metadata": {},
          "execution_count": 8
        }
      ]
    }
  ],
  "metadata": {
    "colab": {
      "provenance": [],
      "authorship_tag": "ABX9TyPN+nPsHRdD+g3ka632EFS6",
      "include_colab_link": true
    },
    "kernelspec": {
      "display_name": "Python 3",
      "name": "python3"
    },
    "language_info": {
      "name": "python"
    }
  },
  "nbformat": 4,
  "nbformat_minor": 0
}