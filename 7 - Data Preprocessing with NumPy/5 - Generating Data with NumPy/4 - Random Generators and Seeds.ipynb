{
  "cells": [
    {
      "cell_type": "markdown",
      "metadata": {
        "id": "view-in-github",
        "colab_type": "text"
      },
      "source": [
        "<a href=\"https://colab.research.google.com/github/Kavi-Sarna/365-python/blob/main/7%20-%20Data%20Preprocessing%20with%20NumPy/5%20-%20Generating%20Data%20with%20NumPy/4%20-%20Random%20Generators%20and%20Seeds.ipynb\" target=\"_parent\"><img src=\"https://colab.research.google.com/assets/colab-badge.svg\" alt=\"Open In Colab\"/></a>"
      ]
    },
    {
      "cell_type": "code",
      "source": [
        "import numpy as np"
      ],
      "metadata": {
        "id": "eOFFIKCyaj1u"
      },
      "execution_count": 1,
      "outputs": []
    },
    {
      "cell_type": "code",
      "source": [
        "from numpy.random import Generator as gen\n",
        "from numpy.random import PCG64 as pcg"
      ],
      "metadata": {
        "id": "Ddo0NgeeamSt"
      },
      "execution_count": 2,
      "outputs": []
    },
    {
      "cell_type": "code",
      "source": [
        "array_RG = gen(pcg())\n",
        "array_RG"
      ],
      "metadata": {
        "colab": {
          "base_uri": "https://localhost:8080/"
        },
        "id": "Uhy7sb7ZazE4",
        "outputId": "f9b7175a-2893-4059-ff80-12b61ca4e43f"
      },
      "execution_count": 3,
      "outputs": [
        {
          "output_type": "execute_result",
          "data": {
            "text/plain": [
              "Generator(PCG64) at 0x7A6CF0407A00"
            ]
          },
          "metadata": {},
          "execution_count": 3
        }
      ]
    },
    {
      "cell_type": "code",
      "source": [
        "array_RG.normal()"
      ],
      "metadata": {
        "colab": {
          "base_uri": "https://localhost:8080/"
        },
        "id": "0XhlME68a8tu",
        "outputId": "02ed7792-cf7c-45cc-81b3-84411a05f529"
      },
      "execution_count": 4,
      "outputs": [
        {
          "output_type": "execute_result",
          "data": {
            "text/plain": [
              "0.7012565085543303"
            ]
          },
          "metadata": {},
          "execution_count": 4
        }
      ]
    },
    {
      "cell_type": "code",
      "source": [
        "array_RG.normal(size = 5)"
      ],
      "metadata": {
        "colab": {
          "base_uri": "https://localhost:8080/"
        },
        "id": "PdMpuwFSbGXv",
        "outputId": "9d781c59-f93b-4583-b112-c8bf4267aad3"
      },
      "execution_count": 5,
      "outputs": [
        {
          "output_type": "execute_result",
          "data": {
            "text/plain": [
              "array([-1.37712838, -0.88668642, -0.71849673, -0.3967052 ,  0.24848124])"
            ]
          },
          "metadata": {},
          "execution_count": 5
        }
      ]
    },
    {
      "cell_type": "code",
      "source": [
        "array_RG.normal(size = (5, 5))"
      ],
      "metadata": {
        "colab": {
          "base_uri": "https://localhost:8080/"
        },
        "id": "G5SNUaHWbQAK",
        "outputId": "26cbb862-7efe-48bb-94c3-6bf6a25e1375"
      },
      "execution_count": 6,
      "outputs": [
        {
          "output_type": "execute_result",
          "data": {
            "text/plain": [
              "array([[ 1.24135768,  1.39761134, -0.58911195, -1.13668311,  0.94668176],\n",
              "       [-0.07060214, -1.01061468,  1.5661254 , -0.78818442, -0.3664216 ],\n",
              "       [ 0.48011906,  0.19357953,  0.13473709,  0.99967557, -0.45630312],\n",
              "       [ 0.73596769,  0.04805788,  0.81392918,  1.29248181, -0.14981643],\n",
              "       [ 0.21900755, -0.36028768, -1.78438884,  1.92017641,  1.29700843]])"
            ]
          },
          "metadata": {},
          "execution_count": 6
        }
      ]
    },
    {
      "cell_type": "code",
      "source": [],
      "metadata": {
        "id": "vlqpCpnCbUfm"
      },
      "execution_count": 6,
      "outputs": []
    },
    {
      "cell_type": "code",
      "source": [
        "array_RG = gen(pcg(seed = 365))\n",
        "array_RG.normal(size = (5, 5))"
      ],
      "metadata": {
        "colab": {
          "base_uri": "https://localhost:8080/"
        },
        "id": "-yGy-sGrbcLp",
        "outputId": "70630727-2f4f-4622-e962-32e5e40bbb2c"
      },
      "execution_count": 9,
      "outputs": [
        {
          "output_type": "execute_result",
          "data": {
            "text/plain": [
              "array([[-0.13640899,  0.09414431, -0.06300442,  1.05391641, -0.6866818 ],\n",
              "       [-0.50922173, -0.7999526 ,  0.73041825,  0.08825439, -2.1177576 ],\n",
              "       [ 0.65526774, -0.48095012, -0.5519114 , -0.58578662, -0.98257896],\n",
              "       [ 1.12378166, -1.30984316, -0.04703774,  0.955272  ,  0.26071745],\n",
              "       [-0.20023668, -1.50172484, -1.4929163 ,  0.96535084,  1.18694633]])"
            ]
          },
          "metadata": {},
          "execution_count": 9
        }
      ]
    },
    {
      "cell_type": "code",
      "source": [
        "array_RG.normal(size = (5, 5))"
      ],
      "metadata": {
        "colab": {
          "base_uri": "https://localhost:8080/"
        },
        "id": "p6U9D6xkb2f2",
        "outputId": "cff0b2d6-2b16-40ad-9044-26996e38aadb"
      },
      "execution_count": 10,
      "outputs": [
        {
          "output_type": "execute_result",
          "data": {
            "text/plain": [
              "array([[-0.76065577,  1.48158358,  0.01200258, -0.06846959,  0.25301664],\n",
              "       [-0.52640788,  0.79613109,  0.28203421,  1.80238008,  0.93932117],\n",
              "       [-0.53693283, -0.26317689, -1.77723035,  1.14900013, -2.20733915],\n",
              "       [ 1.54116775, -0.5124932 , -2.14564563,  1.98878673,  0.32208907],\n",
              "       [-1.2651495 ,  3.2714633 ,  1.78650493, -0.20233675,  0.20427467]])"
            ]
          },
          "metadata": {},
          "execution_count": 10
        }
      ]
    }
  ],
  "metadata": {
    "colab": {
      "provenance": [],
      "authorship_tag": "ABX9TyO7IvXkoB7NIgqUULUVt+sQ",
      "include_colab_link": true
    },
    "kernelspec": {
      "display_name": "Python 3",
      "name": "python3"
    },
    "language_info": {
      "name": "python"
    }
  },
  "nbformat": 4,
  "nbformat_minor": 0
}