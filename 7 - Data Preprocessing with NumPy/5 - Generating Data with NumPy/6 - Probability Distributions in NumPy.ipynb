{
  "cells": [
    {
      "cell_type": "markdown",
      "metadata": {
        "id": "view-in-github",
        "colab_type": "text"
      },
      "source": [
        "<a href=\"https://colab.research.google.com/github/Kavi-Sarna/365-python/blob/main/7%20-%20Data%20Preprocessing%20with%20NumPy/5%20-%20Generating%20Data%20with%20NumPy/6%20-%20Probability%20Distributions%20in%20NumPy.ipynb\" target=\"_parent\"><img src=\"https://colab.research.google.com/assets/colab-badge.svg\" alt=\"Open In Colab\"/></a>"
      ]
    },
    {
      "cell_type": "code",
      "source": [
        "import numpy as np"
      ],
      "metadata": {
        "id": "eOFFIKCyaj1u"
      },
      "execution_count": 2,
      "outputs": []
    },
    {
      "cell_type": "code",
      "source": [
        "from numpy.random import Generator as gen\n",
        "from numpy.random import PCG64 as pcg"
      ],
      "metadata": {
        "id": "Ddo0NgeeamSt"
      },
      "execution_count": 3,
      "outputs": []
    },
    {
      "cell_type": "code",
      "source": [
        "array_RG = gen(pcg(seed = 365))\n",
        "array_RG.poisson(size = (5, 5))"
      ],
      "metadata": {
        "colab": {
          "base_uri": "https://localhost:8080/"
        },
        "id": "OYsE7PERdxin",
        "outputId": "9f2ddcf2-e378-4c66-84cb-67a696c73d21"
      },
      "execution_count": 4,
      "outputs": [
        {
          "output_type": "execute_result",
          "data": {
            "text/plain": [
              "array([[2, 0, 1, 1, 2],\n",
              "       [1, 1, 0, 1, 1],\n",
              "       [1, 2, 1, 1, 0],\n",
              "       [0, 1, 0, 2, 1],\n",
              "       [0, 1, 0, 0, 2]])"
            ]
          },
          "metadata": {},
          "execution_count": 4
        }
      ]
    },
    {
      "cell_type": "code",
      "source": [
        "array_RG = gen(pcg(seed = 365))\n",
        "array_RG.poisson(lam = 10, size = (5, 5))"
      ],
      "metadata": {
        "colab": {
          "base_uri": "https://localhost:8080/"
        },
        "id": "bjKWrvKheA87",
        "outputId": "fd80ef74-6a4a-433a-e915-cd2944a84b7a"
      },
      "execution_count": 5,
      "outputs": [
        {
          "output_type": "execute_result",
          "data": {
            "text/plain": [
              "array([[11, 12, 12, 14, 13],\n",
              "       [ 9, 10, 11, 11,  8],\n",
              "       [11,  8, 10,  9, 14],\n",
              "       [ 7,  8,  9, 15, 15],\n",
              "       [13,  8,  8,  7,  9]])"
            ]
          },
          "metadata": {},
          "execution_count": 5
        }
      ]
    },
    {
      "cell_type": "code",
      "source": [
        "array_RG = gen(pcg(seed = 365))\n",
        "array_RG.binomial(n = 100,  p = 0.4, size = (5, 5))"
      ],
      "metadata": {
        "colab": {
          "base_uri": "https://localhost:8080/"
        },
        "id": "3e74QOP3eShG",
        "outputId": "ed171d91-5833-419e-e647-283c9841f8c6"
      },
      "execution_count": 6,
      "outputs": [
        {
          "output_type": "execute_result",
          "data": {
            "text/plain": [
              "array([[42, 44, 30, 36, 45],\n",
              "       [36, 41, 38, 42, 41],\n",
              "       [35, 31, 35, 46, 29],\n",
              "       [41, 41, 46, 34, 48],\n",
              "       [45, 45, 45, 40, 43]])"
            ]
          },
          "metadata": {},
          "execution_count": 6
        }
      ]
    },
    {
      "cell_type": "code",
      "source": [
        "array_RG = gen(pcg(seed = 365))\n",
        "array_RG.logistic(loc = 9, scale = 1.2, size = (5, 5))"
      ],
      "metadata": {
        "colab": {
          "base_uri": "https://localhost:8080/"
        },
        "id": "hsUiSPnze1l2",
        "outputId": "2dc802f1-b7d4-4e18-bfab-c3260388fbc7"
      },
      "execution_count": 7,
      "outputs": [
        {
          "output_type": "execute_result",
          "data": {
            "text/plain": [
              "array([[10.37767822, 10.42451863,  9.63404367,  7.36153427,  9.82286787],\n",
              "       [ 5.81223125, 10.09354231,  6.46790532, 11.38740256,  8.97147918],\n",
              "       [10.85844698,  8.79081317,  5.962079  ,  9.99560681,  8.34539118],\n",
              "       [ 7.97105522,  8.9981544 ,  8.93530194,  9.6253307 ,  9.23850869],\n",
              "       [ 9.73729284,  5.3090678 , 10.13723528, 11.04372782,  7.11078651]])"
            ]
          },
          "metadata": {},
          "execution_count": 7
        }
      ]
    }
  ],
  "metadata": {
    "colab": {
      "provenance": [],
      "authorship_tag": "ABX9TyOwCCjoO8Aq9q1hQP8747W2",
      "include_colab_link": true
    },
    "kernelspec": {
      "display_name": "Python 3",
      "name": "python3"
    },
    "language_info": {
      "name": "python"
    }
  },
  "nbformat": 4,
  "nbformat_minor": 0
}