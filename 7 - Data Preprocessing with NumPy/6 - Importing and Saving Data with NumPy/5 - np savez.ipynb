{
  "cells": [
    {
      "cell_type": "markdown",
      "metadata": {
        "id": "view-in-github",
        "colab_type": "text"
      },
      "source": [
        "<a href=\"https://colab.research.google.com/github/Kavi-Sarna/365-python/blob/main/7%20-%20Data%20Preprocessing%20with%20NumPy/6%20-%20Importing%20and%20Saving%20Data%20with%20NumPy/5%20-%20np%20savez.ipynb\" target=\"_parent\"><img src=\"https://colab.research.google.com/assets/colab-badge.svg\" alt=\"Open In Colab\"/></a>"
      ]
    },
    {
      "cell_type": "code",
      "source": [
        "import numpy as np"
      ],
      "metadata": {
        "id": "eOFFIKCyaj1u"
      },
      "execution_count": 1,
      "outputs": []
    },
    {
      "cell_type": "code",
      "source": [
        "lending_co = np.genfromtxt(\"Lending-Company-Saving.csv\", delimiter = ',', dtype = np.str_)\n",
        "print(lending_co)"
      ],
      "metadata": {
        "colab": {
          "base_uri": "https://localhost:8080/"
        },
        "id": "xyIsNExhoDoq",
        "outputId": "48a061e8-7424-49e2-e505-64712d2daa5a"
      },
      "execution_count": 2,
      "outputs": [
        {
          "output_type": "stream",
          "name": "stdout",
          "text": [
            "[['LoanID' 'StringID' 'Product' ... 'Location' 'Region' 'TotalPrice']\n",
            " ['1' 'id_1' 'Product B' ... 'Location 2' 'Region 2' '16600.0']\n",
            " ['2' 'id_2' 'Product B' ... 'Location 3' '' '16600.0']\n",
            " ...\n",
            " ['1041' 'id_1041' 'Product B' ... 'Location 23' 'Region 4' '16600.0']\n",
            " ['1042' 'id_1042' 'Product C' ... 'Location 52' 'Region 6' '15600.0']\n",
            " ['1043' 'id_1043' 'Product B' ... 'Location 142' 'Region 6' '16600.0']]\n"
          ]
        }
      ]
    },
    {
      "cell_type": "code",
      "source": [
        "lending_data_save = np.load('Lending-Company-Saving.npy')\n",
        "print(lending_data_save)"
      ],
      "metadata": {
        "colab": {
          "base_uri": "https://localhost:8080/"
        },
        "id": "wZdaU3H9EZIK",
        "outputId": "c07a81bb-70bf-433e-df3b-f154a0f995b0"
      },
      "execution_count": 3,
      "outputs": [
        {
          "output_type": "stream",
          "name": "stdout",
          "text": [
            "[['LoanID' 'StringID' 'Product' ... 'Location' 'Region' 'TotalPrice']\n",
            " ['1' 'id_1' 'Product B' ... 'Location 2' 'Region 2' '16600.0']\n",
            " ['2' 'id_2' 'Product B' ... 'Location 3' '' '16600.0']\n",
            " ...\n",
            " ['1041' 'id_1041' 'Product B' ... 'Location 23' 'Region 4' '16600.0']\n",
            " ['1042' 'id_1042' 'Product C' ... 'Location 52' 'Region 6' '15600.0']\n",
            " ['1043' 'id_1043' 'Product B' ... 'Location 142' 'Region 6' '16600.0']]\n"
          ]
        }
      ]
    },
    {
      "cell_type": "code",
      "source": [
        "np.savez('Lending-Company-Saving', lending_co, lending_data_save)"
      ],
      "metadata": {
        "id": "YkQnWJ5GEu0t"
      },
      "execution_count": 4,
      "outputs": []
    },
    {
      "cell_type": "code",
      "source": [
        "lending_data_savez = np.load('Lending-Company-Saving.npz')\n",
        "print(lending_data_savez)"
      ],
      "metadata": {
        "colab": {
          "base_uri": "https://localhost:8080/"
        },
        "id": "fAan3E3ZFmt6",
        "outputId": "0f9f22b2-18d1-42ac-d28b-ad66b5c8ef6a"
      },
      "execution_count": 5,
      "outputs": [
        {
          "output_type": "stream",
          "name": "stdout",
          "text": [
            "<numpy.lib.npyio.NpzFile object at 0x7ebae05937c0>\n"
          ]
        }
      ]
    },
    {
      "cell_type": "code",
      "source": [
        "print(lending_data_savez['arr_0'])"
      ],
      "metadata": {
        "colab": {
          "base_uri": "https://localhost:8080/"
        },
        "id": "KHkW0fnGF2zF",
        "outputId": "29bb1ea2-e5f7-409e-ccff-a6b931c35194"
      },
      "execution_count": 6,
      "outputs": [
        {
          "output_type": "stream",
          "name": "stdout",
          "text": [
            "[['LoanID' 'StringID' 'Product' ... 'Location' 'Region' 'TotalPrice']\n",
            " ['1' 'id_1' 'Product B' ... 'Location 2' 'Region 2' '16600.0']\n",
            " ['2' 'id_2' 'Product B' ... 'Location 3' '' '16600.0']\n",
            " ...\n",
            " ['1041' 'id_1041' 'Product B' ... 'Location 23' 'Region 4' '16600.0']\n",
            " ['1042' 'id_1042' 'Product C' ... 'Location 52' 'Region 6' '15600.0']\n",
            " ['1043' 'id_1043' 'Product B' ... 'Location 142' 'Region 6' '16600.0']]\n"
          ]
        }
      ]
    },
    {
      "cell_type": "code",
      "source": [
        "print(lending_data_savez['arr_1'])"
      ],
      "metadata": {
        "colab": {
          "base_uri": "https://localhost:8080/"
        },
        "id": "XB3j0kwDF9lw",
        "outputId": "fed0d05a-36e5-4e76-c793-62c27b583e1f"
      },
      "execution_count": 7,
      "outputs": [
        {
          "output_type": "stream",
          "name": "stdout",
          "text": [
            "[['LoanID' 'StringID' 'Product' ... 'Location' 'Region' 'TotalPrice']\n",
            " ['1' 'id_1' 'Product B' ... 'Location 2' 'Region 2' '16600.0']\n",
            " ['2' 'id_2' 'Product B' ... 'Location 3' '' '16600.0']\n",
            " ...\n",
            " ['1041' 'id_1041' 'Product B' ... 'Location 23' 'Region 4' '16600.0']\n",
            " ['1042' 'id_1042' 'Product C' ... 'Location 52' 'Region 6' '15600.0']\n",
            " ['1043' 'id_1043' 'Product B' ... 'Location 142' 'Region 6' '16600.0']]\n"
          ]
        }
      ]
    },
    {
      "cell_type": "code",
      "source": [
        "np.savez('Lending-Company-Saving', company = lending_co, data_save = lending_data_save)"
      ],
      "metadata": {
        "id": "fUipHFbkGCra"
      },
      "execution_count": 8,
      "outputs": []
    },
    {
      "cell_type": "code",
      "source": [
        "lending_data_savez = np.load('Lending-Company-Saving.npz')\n",
        "print(lending_data_savez)"
      ],
      "metadata": {
        "colab": {
          "base_uri": "https://localhost:8080/"
        },
        "id": "y7fSNaxnGR9N",
        "outputId": "39522008-0b3b-423c-fce2-d379b80219b3"
      },
      "execution_count": 9,
      "outputs": [
        {
          "output_type": "stream",
          "name": "stdout",
          "text": [
            "<numpy.lib.npyio.NpzFile object at 0x7ebae05c3970>\n"
          ]
        }
      ]
    },
    {
      "cell_type": "code",
      "source": [
        "print(lending_data_savez.files)"
      ],
      "metadata": {
        "colab": {
          "base_uri": "https://localhost:8080/"
        },
        "id": "jENGciZQGUwL",
        "outputId": "d94adf3a-84f1-47e8-f050-100288a8bf18"
      },
      "execution_count": 10,
      "outputs": [
        {
          "output_type": "stream",
          "name": "stdout",
          "text": [
            "['company', 'data_save']\n"
          ]
        }
      ]
    },
    {
      "cell_type": "code",
      "source": [
        "print(lending_data_savez['company'])"
      ],
      "metadata": {
        "colab": {
          "base_uri": "https://localhost:8080/"
        },
        "id": "qeJEaZKoGcsB",
        "outputId": "cbed5155-7808-4cca-a40b-71afa810cb4a"
      },
      "execution_count": 11,
      "outputs": [
        {
          "output_type": "stream",
          "name": "stdout",
          "text": [
            "[['LoanID' 'StringID' 'Product' ... 'Location' 'Region' 'TotalPrice']\n",
            " ['1' 'id_1' 'Product B' ... 'Location 2' 'Region 2' '16600.0']\n",
            " ['2' 'id_2' 'Product B' ... 'Location 3' '' '16600.0']\n",
            " ...\n",
            " ['1041' 'id_1041' 'Product B' ... 'Location 23' 'Region 4' '16600.0']\n",
            " ['1042' 'id_1042' 'Product C' ... 'Location 52' 'Region 6' '15600.0']\n",
            " ['1043' 'id_1043' 'Product B' ... 'Location 142' 'Region 6' '16600.0']]\n"
          ]
        }
      ]
    },
    {
      "cell_type": "code",
      "source": [
        "print(lending_data_savez['data_save'])"
      ],
      "metadata": {
        "colab": {
          "base_uri": "https://localhost:8080/"
        },
        "id": "SIUypAT8GlCz",
        "outputId": "a9b7c007-2762-40db-f044-fb99699d1730"
      },
      "execution_count": 12,
      "outputs": [
        {
          "output_type": "stream",
          "name": "stdout",
          "text": [
            "[['LoanID' 'StringID' 'Product' ... 'Location' 'Region' 'TotalPrice']\n",
            " ['1' 'id_1' 'Product B' ... 'Location 2' 'Region 2' '16600.0']\n",
            " ['2' 'id_2' 'Product B' ... 'Location 3' '' '16600.0']\n",
            " ...\n",
            " ['1041' 'id_1041' 'Product B' ... 'Location 23' 'Region 4' '16600.0']\n",
            " ['1042' 'id_1042' 'Product C' ... 'Location 52' 'Region 6' '15600.0']\n",
            " ['1043' 'id_1043' 'Product B' ... 'Location 142' 'Region 6' '16600.0']]\n"
          ]
        }
      ]
    },
    {
      "cell_type": "code",
      "source": [
        "np.array_equal(lending_data_savez['company'], lending_data_savez['data_save'])"
      ],
      "metadata": {
        "colab": {
          "base_uri": "https://localhost:8080/"
        },
        "id": "Xt3Um3nmGnpR",
        "outputId": "c3076487-c353-4c3f-d210-315e8c34d591"
      },
      "execution_count": 13,
      "outputs": [
        {
          "output_type": "execute_result",
          "data": {
            "text/plain": [
              "True"
            ]
          },
          "metadata": {},
          "execution_count": 13
        }
      ]
    }
  ],
  "metadata": {
    "colab": {
      "provenance": [],
      "authorship_tag": "ABX9TyPrqcSvk/ArKZ3jQZnf7p/3",
      "include_colab_link": true
    },
    "kernelspec": {
      "display_name": "Python 3",
      "name": "python3"
    },
    "language_info": {
      "name": "python"
    }
  },
  "nbformat": 4,
  "nbformat_minor": 0
}