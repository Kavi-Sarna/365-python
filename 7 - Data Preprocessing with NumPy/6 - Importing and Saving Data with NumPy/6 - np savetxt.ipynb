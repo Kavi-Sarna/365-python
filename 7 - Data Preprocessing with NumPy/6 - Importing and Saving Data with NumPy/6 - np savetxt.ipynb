{
  "cells": [
    {
      "cell_type": "markdown",
      "metadata": {
        "id": "view-in-github",
        "colab_type": "text"
      },
      "source": [
        "<a href=\"https://colab.research.google.com/github/Kavi-Sarna/365-python/blob/main/7%20-%20Data%20Preprocessing%20with%20NumPy/6%20-%20Importing%20and%20Saving%20Data%20with%20NumPy/6%20-%20np%20savetxt.ipynb\" target=\"_parent\"><img src=\"https://colab.research.google.com/assets/colab-badge.svg\" alt=\"Open In Colab\"/></a>"
      ]
    },
    {
      "cell_type": "code",
      "source": [
        "import numpy as np"
      ],
      "metadata": {
        "id": "eOFFIKCyaj1u"
      },
      "execution_count": 1,
      "outputs": []
    },
    {
      "cell_type": "code",
      "source": [
        "lending_co = np.genfromtxt(\"Lending-Company-Saving.csv\", delimiter = ',', dtype = np.str_)\n",
        "print(lending_co)"
      ],
      "metadata": {
        "colab": {
          "base_uri": "https://localhost:8080/"
        },
        "id": "xyIsNExhoDoq",
        "outputId": "5c0edb42-14f1-4a18-d469-1ff2d4e40b6c"
      },
      "execution_count": 2,
      "outputs": [
        {
          "output_type": "stream",
          "name": "stdout",
          "text": [
            "[['LoanID' 'StringID' 'Product' ... 'Location' 'Region' 'TotalPrice']\n",
            " ['1' 'id_1' 'Product B' ... 'Location 2' 'Region 2' '16600.0']\n",
            " ['2' 'id_2' 'Product B' ... 'Location 3' '' '16600.0']\n",
            " ...\n",
            " ['1041' 'id_1041' 'Product B' ... 'Location 23' 'Region 4' '16600.0']\n",
            " ['1042' 'id_1042' 'Product C' ... 'Location 52' 'Region 6' '15600.0']\n",
            " ['1043' 'id_1043' 'Product B' ... 'Location 142' 'Region 6' '16600.0']]\n"
          ]
        }
      ]
    },
    {
      "cell_type": "code",
      "source": [
        "np.savetxt('Lending-Company-Saving.txt', lending_co, fmt = '%s', delimiter = ',')"
      ],
      "metadata": {
        "id": "YkQnWJ5GEu0t"
      },
      "execution_count": 3,
      "outputs": []
    },
    {
      "cell_type": "code",
      "source": [
        "lending_data_savetxt = np.genfromtxt('Lending-Company-Saving.txt', delimiter =',', dtype = np.str_)\n",
        "print(lending_data_savetxt)"
      ],
      "metadata": {
        "colab": {
          "base_uri": "https://localhost:8080/"
        },
        "id": "fAan3E3ZFmt6",
        "outputId": "cf49de4f-8da7-4bf7-8147-bc77817ebb8f"
      },
      "execution_count": 4,
      "outputs": [
        {
          "output_type": "stream",
          "name": "stdout",
          "text": [
            "[['LoanID' 'StringID' 'Product' ... 'Location' 'Region' 'TotalPrice']\n",
            " ['1' 'id_1' 'Product B' ... 'Location 2' 'Region 2' '16600.0']\n",
            " ['2' 'id_2' 'Product B' ... 'Location 3' '' '16600.0']\n",
            " ...\n",
            " ['1041' 'id_1041' 'Product B' ... 'Location 23' 'Region 4' '16600.0']\n",
            " ['1042' 'id_1042' 'Product C' ... 'Location 52' 'Region 6' '15600.0']\n",
            " ['1043' 'id_1043' 'Product B' ... 'Location 142' 'Region 6' '16600.0']]\n"
          ]
        }
      ]
    },
    {
      "cell_type": "code",
      "source": [
        "lending_data_save = np.load('Lending-Company-Saving.npy')"
      ],
      "metadata": {
        "id": "KHkW0fnGF2zF"
      },
      "execution_count": 6,
      "outputs": []
    },
    {
      "cell_type": "code",
      "source": [
        "np.array_equal(lending_data_savetxt, lending_data_save)"
      ],
      "metadata": {
        "colab": {
          "base_uri": "https://localhost:8080/"
        },
        "id": "Xt3Um3nmGnpR",
        "outputId": "839ce4f6-ebde-4533-8ccb-2d22d749ee52"
      },
      "execution_count": 7,
      "outputs": [
        {
          "output_type": "execute_result",
          "data": {
            "text/plain": [
              "True"
            ]
          },
          "metadata": {},
          "execution_count": 7
        }
      ]
    }
  ],
  "metadata": {
    "colab": {
      "provenance": [],
      "authorship_tag": "ABX9TyMl198S6O2XWiHR1dpcky0W",
      "include_colab_link": true
    },
    "kernelspec": {
      "display_name": "Python 3",
      "name": "python3"
    },
    "language_info": {
      "name": "python"
    }
  },
  "nbformat": 4,
  "nbformat_minor": 0
}