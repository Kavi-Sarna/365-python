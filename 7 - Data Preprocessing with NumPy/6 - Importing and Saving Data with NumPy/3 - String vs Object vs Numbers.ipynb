{
  "cells": [
    {
      "cell_type": "markdown",
      "metadata": {
        "id": "view-in-github",
        "colab_type": "text"
      },
      "source": [
        "<a href=\"https://colab.research.google.com/github/Kavi-Sarna/365-python/blob/main/7%20-%20Data%20Preprocessing%20with%20NumPy/6%20-%20Importing%20and%20Saving%20Data%20with%20NumPy/3%20-%20String%20vs%20Object%20vs%20Numbers.ipynb\" target=\"_parent\"><img src=\"https://colab.research.google.com/assets/colab-badge.svg\" alt=\"Open In Colab\"/></a>"
      ]
    },
    {
      "cell_type": "code",
      "source": [
        "import numpy as np"
      ],
      "metadata": {
        "id": "eOFFIKCyaj1u"
      },
      "execution_count": 1,
      "outputs": []
    },
    {
      "cell_type": "code",
      "source": [
        "lending_co_lt = np.genfromtxt(\"lending-co-LT.csv\", delimiter = ',')\n",
        "print(lending_co_lt)"
      ],
      "metadata": {
        "colab": {
          "base_uri": "https://localhost:8080/"
        },
        "id": "xyIsNExhoDoq",
        "outputId": "564095b9-c999-409b-b146-c6e1dffb3bb5"
      },
      "execution_count": 5,
      "outputs": [
        {
          "output_type": "stream",
          "name": "stdout",
          "text": [
            "[[      nan       nan       nan ...       nan       nan       nan]\n",
            " [1.000e+00       nan       nan ...       nan       nan 1.660e+04]\n",
            " [2.000e+00       nan       nan ...       nan       nan 1.660e+04]\n",
            " ...\n",
            " [1.041e+03       nan       nan ...       nan       nan 1.660e+04]\n",
            " [1.042e+03       nan       nan ...       nan       nan 1.560e+04]\n",
            " [1.043e+03       nan       nan ...       nan       nan 1.660e+04]]\n"
          ]
        }
      ]
    },
    {
      "cell_type": "code",
      "source": [
        "lending_co_lt = np.genfromtxt(\"lending-co-LT.csv\", delimiter = ',', dtype = np.int32)\n",
        "print(lending_co_lt)"
      ],
      "metadata": {
        "colab": {
          "base_uri": "https://localhost:8080/"
        },
        "id": "sibdkCjFB6ku",
        "outputId": "72f4ff85-0959-4abd-a16f-f424b0e08370"
      },
      "execution_count": 6,
      "outputs": [
        {
          "output_type": "stream",
          "name": "stdout",
          "text": [
            "[[   -1    -1    -1 ...    -1    -1    -1]\n",
            " [    1    -1    -1 ...    -1    -1 16600]\n",
            " [    2    -1    -1 ...    -1    -1 16600]\n",
            " ...\n",
            " [ 1041    -1    -1 ...    -1    -1 16600]\n",
            " [ 1042    -1    -1 ...    -1    -1 15600]\n",
            " [ 1043    -1    -1 ...    -1    -1 16600]]\n"
          ]
        }
      ]
    },
    {
      "cell_type": "code",
      "source": [
        "lending_co_lt[0, 0] + lending_co_lt[0, 1]"
      ],
      "metadata": {
        "colab": {
          "base_uri": "https://localhost:8080/"
        },
        "id": "Pf-8FGIKCVIp",
        "outputId": "43ca1ebd-0815-47fb-950c-23fa83363802"
      },
      "execution_count": 7,
      "outputs": [
        {
          "output_type": "execute_result",
          "data": {
            "text/plain": [
              "-2"
            ]
          },
          "metadata": {},
          "execution_count": 7
        }
      ]
    },
    {
      "cell_type": "code",
      "source": [
        "lending_co_lt = np.genfromtxt(\"lending-co-LT.csv\", delimiter = ',', dtype = np.str_)\n",
        "print(lending_co_lt)"
      ],
      "metadata": {
        "colab": {
          "base_uri": "https://localhost:8080/"
        },
        "id": "WvXbFndmCcaH",
        "outputId": "29e7ed7a-ca6f-4741-c9f6-22676aedd7f3"
      },
      "execution_count": 8,
      "outputs": [
        {
          "output_type": "stream",
          "name": "stdout",
          "text": [
            "[['LoanID' 'StringID' 'Product' ... 'Location' 'Region' 'TotalPrice']\n",
            " ['1' 'id_1' 'Product B' ... 'Location 2' 'Region 2' '16600.0']\n",
            " ['2' 'id_2' 'Product B' ... 'Location 3' '' '16600.0']\n",
            " ...\n",
            " ['1041' 'id_1041' 'Product B' ... 'Location 23' 'Region 4' '16600.0']\n",
            " ['1042' 'id_1042' 'Product C' ... 'Location 52' 'Region 6' '15600.0']\n",
            " ['1043' 'id_1043' 'Product B' ... 'Location 142' 'Region 6' '16600.0']]\n"
          ]
        }
      ]
    },
    {
      "cell_type": "code",
      "source": [
        "lending_co_lt = np.genfromtxt(\"lending-co-LT.csv\", delimiter = ',', dtype = np.object_)\n",
        "print(lending_co_lt)"
      ],
      "metadata": {
        "colab": {
          "base_uri": "https://localhost:8080/"
        },
        "id": "_hxd3yVqCfx3",
        "outputId": "5fca7751-b845-42ee-a6e2-bed495acaccd"
      },
      "execution_count": 9,
      "outputs": [
        {
          "output_type": "stream",
          "name": "stdout",
          "text": [
            "[[b'LoanID' b'StringID' b'Product' ... b'Location' b'Region'\n",
            "  b'TotalPrice']\n",
            " [b'1' b'id_1' b'Product B' ... b'Location 2' b'Region 2' b'16600.0']\n",
            " [b'2' b'id_2' b'Product B' ... b'Location 3' b'' b'16600.0']\n",
            " ...\n",
            " [b'1041' b'id_1041' b'Product B' ... b'Location 23' b'Region 4'\n",
            "  b'16600.0']\n",
            " [b'1042' b'id_1042' b'Product C' ... b'Location 52' b'Region 6'\n",
            "  b'15600.0']\n",
            " [b'1043' b'id_1043' b'Product B' ... b'Location 142' b'Region 6'\n",
            "  b'16600.0']]\n"
          ]
        }
      ]
    },
    {
      "cell_type": "code",
      "source": [
        "lending_co_lt = np.genfromtxt(\"lending-co-LT.csv\", delimiter = ',', dtype = (np.int32, np.str_, np.str_, np.str_, np.str_, np.str_, np.int32, np.int32))\n",
        "print(lending_co_lt)"
      ],
      "metadata": {
        "colab": {
          "base_uri": "https://localhost:8080/",
          "height": 349
        },
        "id": "F_jyw_PiCypg",
        "outputId": "df8d5acc-fb64-4ed4-a20e-56a0d4683b97"
      },
      "execution_count": 11,
      "outputs": [
        {
          "output_type": "error",
          "ename": "ValueError",
          "evalue": "ignored",
          "traceback": [
            "\u001b[0;31m---------------------------------------------------------------------------\u001b[0m",
            "\u001b[0;31mValueError\u001b[0m                                Traceback (most recent call last)",
            "\u001b[0;32m<ipython-input-11-9cd36fd3c588>\u001b[0m in \u001b[0;36m<cell line: 1>\u001b[0;34m()\u001b[0m\n\u001b[0;32m----> 1\u001b[0;31m \u001b[0mlending_co_lt\u001b[0m \u001b[0;34m=\u001b[0m \u001b[0mnp\u001b[0m\u001b[0;34m.\u001b[0m\u001b[0mgenfromtxt\u001b[0m\u001b[0;34m(\u001b[0m\u001b[0;34m\"lending-co-LT.csv\"\u001b[0m\u001b[0;34m,\u001b[0m \u001b[0mdelimiter\u001b[0m \u001b[0;34m=\u001b[0m \u001b[0;34m','\u001b[0m\u001b[0;34m,\u001b[0m \u001b[0mdtype\u001b[0m \u001b[0;34m=\u001b[0m \u001b[0;34m(\u001b[0m\u001b[0mnp\u001b[0m\u001b[0;34m.\u001b[0m\u001b[0mint32\u001b[0m\u001b[0;34m,\u001b[0m \u001b[0mnp\u001b[0m\u001b[0;34m.\u001b[0m\u001b[0mstr_\u001b[0m\u001b[0;34m,\u001b[0m \u001b[0mnp\u001b[0m\u001b[0;34m.\u001b[0m\u001b[0mstr_\u001b[0m\u001b[0;34m,\u001b[0m \u001b[0mnp\u001b[0m\u001b[0;34m.\u001b[0m\u001b[0mstr_\u001b[0m\u001b[0;34m,\u001b[0m \u001b[0mnp\u001b[0m\u001b[0;34m.\u001b[0m\u001b[0mstr_\u001b[0m\u001b[0;34m,\u001b[0m \u001b[0mnp\u001b[0m\u001b[0;34m.\u001b[0m\u001b[0mstr_\u001b[0m\u001b[0;34m,\u001b[0m \u001b[0mnp\u001b[0m\u001b[0;34m.\u001b[0m\u001b[0mint32\u001b[0m\u001b[0;34m,\u001b[0m \u001b[0mnp\u001b[0m\u001b[0;34m.\u001b[0m\u001b[0mint32\u001b[0m\u001b[0;34m)\u001b[0m\u001b[0;34m)\u001b[0m\u001b[0;34m\u001b[0m\u001b[0;34m\u001b[0m\u001b[0m\n\u001b[0m\u001b[1;32m      2\u001b[0m \u001b[0mprint\u001b[0m\u001b[0;34m(\u001b[0m\u001b[0mlending_co_lt\u001b[0m\u001b[0;34m)\u001b[0m\u001b[0;34m\u001b[0m\u001b[0;34m\u001b[0m\u001b[0m\n",
            "\u001b[0;32m/usr/local/lib/python3.10/dist-packages/numpy/lib/npyio.py\u001b[0m in \u001b[0;36mgenfromtxt\u001b[0;34m(fname, dtype, comments, delimiter, skip_header, skip_footer, converters, missing_values, filling_values, usecols, names, excludelist, deletechars, replace_space, autostrip, case_sensitive, defaultfmt, unpack, usemask, loose, invalid_raise, max_rows, encoding, ndmin, like)\u001b[0m\n\u001b[1;32m   2386\u001b[0m                     \u001b[0moutput\u001b[0m \u001b[0;34m=\u001b[0m \u001b[0mnp\u001b[0m\u001b[0;34m.\u001b[0m\u001b[0marray\u001b[0m\u001b[0;34m(\u001b[0m\u001b[0mdata\u001b[0m\u001b[0;34m,\u001b[0m \u001b[0mdtype\u001b[0m\u001b[0;34m=\u001b[0m\u001b[0mdtype\u001b[0m\u001b[0;34m)\u001b[0m\u001b[0;34m\u001b[0m\u001b[0;34m\u001b[0m\u001b[0m\n\u001b[1;32m   2387\u001b[0m             \u001b[0;32melse\u001b[0m\u001b[0;34m:\u001b[0m\u001b[0;34m\u001b[0m\u001b[0;34m\u001b[0m\u001b[0m\n\u001b[0;32m-> 2388\u001b[0;31m                 \u001b[0mrows\u001b[0m \u001b[0;34m=\u001b[0m \u001b[0mnp\u001b[0m\u001b[0;34m.\u001b[0m\u001b[0marray\u001b[0m\u001b[0;34m(\u001b[0m\u001b[0mdata\u001b[0m\u001b[0;34m,\u001b[0m \u001b[0mdtype\u001b[0m\u001b[0;34m=\u001b[0m\u001b[0;34m[\u001b[0m\u001b[0;34m(\u001b[0m\u001b[0;34m''\u001b[0m\u001b[0;34m,\u001b[0m \u001b[0m_\u001b[0m\u001b[0;34m)\u001b[0m \u001b[0;32mfor\u001b[0m \u001b[0m_\u001b[0m \u001b[0;32min\u001b[0m \u001b[0mdtype_flat\u001b[0m\u001b[0;34m]\u001b[0m\u001b[0;34m)\u001b[0m\u001b[0;34m\u001b[0m\u001b[0;34m\u001b[0m\u001b[0m\n\u001b[0m\u001b[1;32m   2389\u001b[0m                 \u001b[0moutput\u001b[0m \u001b[0;34m=\u001b[0m \u001b[0mrows\u001b[0m\u001b[0;34m.\u001b[0m\u001b[0mview\u001b[0m\u001b[0;34m(\u001b[0m\u001b[0mdtype\u001b[0m\u001b[0;34m)\u001b[0m\u001b[0;34m\u001b[0m\u001b[0;34m\u001b[0m\u001b[0m\n\u001b[1;32m   2390\u001b[0m             \u001b[0;31m# Now, process the rowmasks the same way\u001b[0m\u001b[0;34m\u001b[0m\u001b[0;34m\u001b[0m\u001b[0m\n",
            "\u001b[0;31mValueError\u001b[0m: could not assign tuple of length 7 to structure with 8 fields."
          ]
        }
      ]
    },
    {
      "cell_type": "code",
      "source": [
        "lending_co_lt = np.genfromtxt(\"lending-co-LT.csv\", delimiter = ',', dtype = (np.int32, np.str_, np.str_, np.str_, np.str_, np.str_, np.int32))\n",
        "print(lending_co_lt)"
      ],
      "metadata": {
        "colab": {
          "base_uri": "https://localhost:8080/"
        },
        "id": "HNqgZNcyDJTr",
        "outputId": "1e92de51-446b-4597-d2c7-48fd491305e1"
      },
      "execution_count": 12,
      "outputs": [
        {
          "output_type": "stream",
          "name": "stdout",
          "text": [
            "[(  -1, '', '', '', '', '',    -1) (   1, '', '', '', '', '', 16600)\n",
            " (   2, '', '', '', '', '', 16600) ... (1041, '', '', '', '', '', 16600)\n",
            " (1042, '', '', '', '', '', 15600) (1043, '', '', '', '', '', 16600)]\n"
          ]
        }
      ]
    }
  ],
  "metadata": {
    "colab": {
      "provenance": [],
      "authorship_tag": "ABX9TyO34A+f6MiXUOgxsKZRIsJ+",
      "include_colab_link": true
    },
    "kernelspec": {
      "display_name": "Python 3",
      "name": "python3"
    },
    "language_info": {
      "name": "python"
    }
  },
  "nbformat": 4,
  "nbformat_minor": 0
}