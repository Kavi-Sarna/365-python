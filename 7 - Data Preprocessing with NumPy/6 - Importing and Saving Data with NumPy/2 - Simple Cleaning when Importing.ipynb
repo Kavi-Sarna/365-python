{
  "cells": [
    {
      "cell_type": "markdown",
      "metadata": {
        "id": "view-in-github",
        "colab_type": "text"
      },
      "source": [
        "<a href=\"https://colab.research.google.com/github/Kavi-Sarna/365-python/blob/main/7%20-%20Data%20Preprocessing%20with%20NumPy/6%20-%20Importing%20and%20Saving%20Data%20with%20NumPy/2%20-%20Simple%20Cleaning%20when%20Importing.ipynb\" target=\"_parent\"><img src=\"https://colab.research.google.com/assets/colab-badge.svg\" alt=\"Open In Colab\"/></a>"
      ]
    },
    {
      "cell_type": "code",
      "source": [
        "import numpy as np"
      ],
      "metadata": {
        "id": "eOFFIKCyaj1u"
      },
      "execution_count": 1,
      "outputs": []
    },
    {
      "cell_type": "code",
      "source": [
        "lending_co_data_numeric_NAN = np.genfromtxt(\"Lending-Company-Numeric-Data-NAN.csv\", delimiter = ';')\n",
        "lending_co_data_numeric_NAN"
      ],
      "metadata": {
        "colab": {
          "base_uri": "https://localhost:8080/"
        },
        "id": "xyIsNExhoDoq",
        "outputId": "93efa29d-b65d-4284-8349-0682e916c758"
      },
      "execution_count": 2,
      "outputs": [
        {
          "output_type": "execute_result",
          "data": {
            "text/plain": [
              "array([[ 2000.,    40.,   365.,  3121.,  4241., 13621.],\n",
              "       [ 2000.,    40.,   365.,  3061.,  4171., 15041.],\n",
              "       [ 1000.,    40.,   365.,  2160.,  3280., 15340.],\n",
              "       ...,\n",
              "       [   nan,    40.,   365.,  4201.,  5001., 16600.],\n",
              "       [ 1000.,    40.,   365.,  2080.,  3320., 15600.],\n",
              "       [ 2000.,    40.,   365.,  4601.,  4601., 16600.]])"
            ]
          },
          "metadata": {},
          "execution_count": 2
        }
      ]
    },
    {
      "cell_type": "code",
      "source": [
        "lending_co_data_numeric_NAN = np.genfromtxt(\"Lending-Company-Numeric-Data-NAN.csv\", delimiter = ';', skip_header = 2)\n",
        "lending_co_data_numeric_NAN"
      ],
      "metadata": {
        "colab": {
          "base_uri": "https://localhost:8080/"
        },
        "id": "U-HD8mUI_yIq",
        "outputId": "df7e6e8d-0794-4455-ab20-6c0f2b37ea1f"
      },
      "execution_count": 3,
      "outputs": [
        {
          "output_type": "execute_result",
          "data": {
            "text/plain": [
              "array([[ 1000.,    40.,   365.,  2160.,  3280., 15340.],\n",
              "       [ 2000.,    40.,   365.,  3041.,  4241., 15321.],\n",
              "       [ 2000.,    50.,   365.,  3470.,  4820., 13720.],\n",
              "       ...,\n",
              "       [   nan,    40.,   365.,  4201.,  5001., 16600.],\n",
              "       [ 1000.,    40.,   365.,  2080.,  3320., 15600.],\n",
              "       [ 2000.,    40.,   365.,  4601.,  4601., 16600.]])"
            ]
          },
          "metadata": {},
          "execution_count": 3
        }
      ]
    },
    {
      "cell_type": "code",
      "source": [
        "lending_co_data_numeric_NAN = np.genfromtxt(\"Lending-Company-Numeric-Data-NAN.csv\", delimiter = ';', skip_footer = 2)\n",
        "lending_co_data_numeric_NAN"
      ],
      "metadata": {
        "colab": {
          "base_uri": "https://localhost:8080/"
        },
        "id": "IeMjSBs4_6Yj",
        "outputId": "9bf67d72-f846-42a3-b605-f8ed7ed17248"
      },
      "execution_count": 4,
      "outputs": [
        {
          "output_type": "execute_result",
          "data": {
            "text/plain": [
              "array([[ 2000.,    40.,   365.,  3121.,  4241., 13621.],\n",
              "       [ 2000.,    40.,   365.,  3061.,  4171., 15041.],\n",
              "       [ 1000.,    40.,   365.,  2160.,  3280., 15340.],\n",
              "       ...,\n",
              "       [ 2000.,    40.,   365.,  3401.,    nan, 16600.],\n",
              "       [ 2000.,    40.,   365.,    nan,  5440., 16600.],\n",
              "       [   nan,    40.,   365.,  4201.,  5001., 16600.]])"
            ]
          },
          "metadata": {},
          "execution_count": 4
        }
      ]
    },
    {
      "cell_type": "code",
      "source": [
        "lending_co_data_numeric_NAN = np.genfromtxt(\"Lending-Company-Numeric-Data-NAN.csv\", delimiter = ';', usecols= (0, 1, 5))\n",
        "lending_co_data_numeric_NAN"
      ],
      "metadata": {
        "colab": {
          "base_uri": "https://localhost:8080/"
        },
        "id": "JGRzJ5pgAHTW",
        "outputId": "6d522679-bea1-476a-f95a-7b0f3a25f78a"
      },
      "execution_count": 5,
      "outputs": [
        {
          "output_type": "execute_result",
          "data": {
            "text/plain": [
              "array([[ 2000.,    40., 13621.],\n",
              "       [ 2000.,    40., 15041.],\n",
              "       [ 1000.,    40., 15340.],\n",
              "       ...,\n",
              "       [   nan,    40., 16600.],\n",
              "       [ 1000.,    40., 15600.],\n",
              "       [ 2000.,    40., 16600.]])"
            ]
          },
          "metadata": {},
          "execution_count": 5
        }
      ]
    },
    {
      "cell_type": "code",
      "source": [
        "lending_co_data_numeric_NAN = np.genfromtxt(\"Lending-Company-Numeric-Data-NAN.csv\", delimiter = ';', usecols = (5, 0, 1))\n",
        "lending_co_data_numeric_NAN"
      ],
      "metadata": {
        "colab": {
          "base_uri": "https://localhost:8080/"
        },
        "id": "TBgBolo3AV_t",
        "outputId": "fac51ae7-69e1-4287-e6c7-3307f24d2e8a"
      },
      "execution_count": 6,
      "outputs": [
        {
          "output_type": "execute_result",
          "data": {
            "text/plain": [
              "array([[13621.,  2000.,    40.],\n",
              "       [15041.,  2000.,    40.],\n",
              "       [15340.,  1000.,    40.],\n",
              "       ...,\n",
              "       [16600.,    nan,    40.],\n",
              "       [15600.,  1000.,    40.],\n",
              "       [16600.,  2000.,    40.]])"
            ]
          },
          "metadata": {},
          "execution_count": 6
        }
      ]
    },
    {
      "cell_type": "code",
      "source": [
        "lending_co_data_numeric_NAN = np.genfromtxt(\"Lending-Company-Numeric-Data-NAN.csv\", delimiter = ';', skip_header = 2, skip_footer = 2, usecols = (5, 0, 1))\n",
        "lending_co_data_numeric_NAN"
      ],
      "metadata": {
        "colab": {
          "base_uri": "https://localhost:8080/"
        },
        "id": "Djmk2-QWAfs9",
        "outputId": "a48e3290-1cd3-4fe4-92d3-5ebea300ce98"
      },
      "execution_count": 7,
      "outputs": [
        {
          "output_type": "execute_result",
          "data": {
            "text/plain": [
              "array([[15340.,  1000.,    40.],\n",
              "       [15321.,  2000.,    40.],\n",
              "       [13720.,  2000.,    50.],\n",
              "       ...,\n",
              "       [16600.,  2000.,    40.],\n",
              "       [16600.,  2000.,    40.],\n",
              "       [16600.,    nan,    40.]])"
            ]
          },
          "metadata": {},
          "execution_count": 7
        }
      ]
    },
    {
      "cell_type": "code",
      "source": [
        "lending_co_data_5, lending_co_data_0, lending_co_data_1 = np.genfromtxt(\"Lending-Company-Numeric-Data-NAN.csv\", delimiter = ';',\n",
        "                                                                        skip_header = 2,\n",
        "                                                                        skip_footer = 2,\n",
        "                                                                        usecols = (5, 0, 1))\n",
        "print(lending_co_data_5)\n",
        "print(lending_co_data_0)\n",
        "print(lending_co_data_1)"
      ],
      "metadata": {
        "colab": {
          "base_uri": "https://localhost:8080/",
          "height": 245
        },
        "id": "nULUFFZgApfO",
        "outputId": "d38b5688-52d7-4d8e-b3b7-73bc5aa3bc25"
      },
      "execution_count": 8,
      "outputs": [
        {
          "output_type": "error",
          "ename": "ValueError",
          "evalue": "ignored",
          "traceback": [
            "\u001b[0;31m---------------------------------------------------------------------------\u001b[0m",
            "\u001b[0;31mValueError\u001b[0m                                Traceback (most recent call last)",
            "\u001b[0;32m<ipython-input-8-811172710895>\u001b[0m in \u001b[0;36m<cell line: 1>\u001b[0;34m()\u001b[0m\n\u001b[0;32m----> 1\u001b[0;31m lending_co_data_5, lending_co_data_0, lending_co_data_1 = np.genfromtxt(\"Lending-Company-Numeric-Data-NAN.csv\", delimiter = ';', \n\u001b[0m\u001b[1;32m      2\u001b[0m                                                                         \u001b[0mskip_header\u001b[0m \u001b[0;34m=\u001b[0m \u001b[0;36m2\u001b[0m\u001b[0;34m,\u001b[0m\u001b[0;34m\u001b[0m\u001b[0;34m\u001b[0m\u001b[0m\n\u001b[1;32m      3\u001b[0m                                                                         \u001b[0mskip_footer\u001b[0m \u001b[0;34m=\u001b[0m \u001b[0;36m2\u001b[0m\u001b[0;34m,\u001b[0m\u001b[0;34m\u001b[0m\u001b[0;34m\u001b[0m\u001b[0m\n\u001b[1;32m      4\u001b[0m                                                                         usecols = (5, 0, 1))\n\u001b[1;32m      5\u001b[0m \u001b[0mprint\u001b[0m\u001b[0;34m(\u001b[0m\u001b[0mlending_co_data_5\u001b[0m\u001b[0;34m)\u001b[0m\u001b[0;34m\u001b[0m\u001b[0;34m\u001b[0m\u001b[0m\n",
            "\u001b[0;31mValueError\u001b[0m: too many values to unpack (expected 3)"
          ]
        }
      ]
    },
    {
      "cell_type": "code",
      "source": [
        "lending_co_data_5, lending_co_data_0, lending_co_data_1 = np.genfromtxt(\"Lending-Company-Numeric-Data-NAN.csv\", delimiter = ';',\n",
        "                                                                        skip_header = 2,\n",
        "                                                                        skip_footer = 2,\n",
        "                                                                        usecols = (5, 0, 1),\n",
        "                                                                        unpack = True)\n",
        "print(lending_co_data_5)\n",
        "print(lending_co_data_0)\n",
        "print(lending_co_data_1)"
      ],
      "metadata": {
        "colab": {
          "base_uri": "https://localhost:8080/"
        },
        "id": "si02MwllBGn6",
        "outputId": "436a79ad-d524-4bc8-9b27-28e680ed723c"
      },
      "execution_count": 9,
      "outputs": [
        {
          "output_type": "stream",
          "name": "stdout",
          "text": [
            "[15340. 15321. 13720. ... 16600. 16600. 16600.]\n",
            "[1000. 2000. 2000. ... 2000. 2000.   nan]\n",
            "[40. 40. 50. ... 40. 40. 40.]\n"
          ]
        }
      ]
    }
  ],
  "metadata": {
    "colab": {
      "provenance": [],
      "authorship_tag": "ABX9TyOEFm/Bb2NuNWpDRTiOvYB6",
      "include_colab_link": true
    },
    "kernelspec": {
      "display_name": "Python 3",
      "name": "python3"
    },
    "language_info": {
      "name": "python"
    }
  },
  "nbformat": 4,
  "nbformat_minor": 0
}