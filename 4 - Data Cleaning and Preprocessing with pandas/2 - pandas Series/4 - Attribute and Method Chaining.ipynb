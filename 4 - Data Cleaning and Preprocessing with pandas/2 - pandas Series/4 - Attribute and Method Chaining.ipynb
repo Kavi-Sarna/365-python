{
  "cells": [
    {
      "cell_type": "markdown",
      "metadata": {
        "id": "view-in-github",
        "colab_type": "text"
      },
      "source": [
        "<a href=\"https://colab.research.google.com/github/Kavi-Sarna/365-python/blob/main/4%20-%20Data%20Cleaning%20and%20Preprocessing%20with%20pandas/2%20-%20pandas%20Series/4%20-%20Attribute%20and%20Method%20Chaining.ipynb\" target=\"_parent\"><img src=\"https://colab.research.google.com/assets/colab-badge.svg\" alt=\"Open In Colab\"/></a>"
      ]
    },
    {
      "cell_type": "code",
      "source": [
        "import pandas as pd"
      ],
      "metadata": {
        "id": "KSVBP4W-rih1"
      },
      "execution_count": 1,
      "outputs": []
    },
    {
      "cell_type": "code",
      "source": [
        "data = pd.read_csv('Location.csv').squeeze('columns')\n",
        "location_data = data.copy()\n",
        "location_data.head()"
      ],
      "metadata": {
        "colab": {
          "base_uri": "https://localhost:8080/"
        },
        "id": "cEZ7QGQQr_qt",
        "outputId": "fbd4c93c-d1dc-4ed4-e67f-2207dd974c73"
      },
      "execution_count": 2,
      "outputs": [
        {
          "output_type": "execute_result",
          "data": {
            "text/plain": [
              "0     Location 3\n",
              "1     Location 6\n",
              "2     Location 8\n",
              "3    Location 26\n",
              "4    Location 34\n",
              "Name: Location, dtype: object"
            ]
          },
          "metadata": {},
          "execution_count": 2
        }
      ]
    },
    {
      "cell_type": "code",
      "source": [
        "location_data.index"
      ],
      "metadata": {
        "colab": {
          "base_uri": "https://localhost:8080/"
        },
        "id": "G0f1UEymtBlO",
        "outputId": "3cf7f084-5703-4004-b6ed-e29c2f261821"
      },
      "execution_count": 3,
      "outputs": [
        {
          "output_type": "execute_result",
          "data": {
            "text/plain": [
              "RangeIndex(start=0, stop=1043, step=1)"
            ]
          },
          "metadata": {},
          "execution_count": 3
        }
      ]
    },
    {
      "cell_type": "code",
      "source": [
        "location_data.name"
      ],
      "metadata": {
        "colab": {
          "base_uri": "https://localhost:8080/",
          "height": 35
        },
        "id": "2F3605WZtFGC",
        "outputId": "dc21f301-4ab9-4d3c-e0dc-9ca33bc251db"
      },
      "execution_count": 4,
      "outputs": [
        {
          "output_type": "execute_result",
          "data": {
            "text/plain": [
              "'Location'"
            ],
            "application/vnd.google.colaboratory.intrinsic+json": {
              "type": "string"
            }
          },
          "metadata": {},
          "execution_count": 4
        }
      ]
    },
    {
      "cell_type": "code",
      "source": [
        "location_data.index.name"
      ],
      "metadata": {
        "id": "Lr2opz3EtF2b"
      },
      "execution_count": 5,
      "outputs": []
    },
    {
      "cell_type": "code",
      "source": [
        "location_data.index.name = 'Index'"
      ],
      "metadata": {
        "id": "dUyXqkKHtKQ_"
      },
      "execution_count": 6,
      "outputs": []
    },
    {
      "cell_type": "code",
      "source": [
        "location_data"
      ],
      "metadata": {
        "colab": {
          "base_uri": "https://localhost:8080/"
        },
        "id": "z1MrdNLStOyB",
        "outputId": "359493a6-339c-472e-9afb-525f9b0ca386"
      },
      "execution_count": 7,
      "outputs": [
        {
          "output_type": "execute_result",
          "data": {
            "text/plain": [
              "Index\n",
              "0        Location 3\n",
              "1        Location 6\n",
              "2        Location 8\n",
              "3       Location 26\n",
              "4       Location 34\n",
              "           ...     \n",
              "1038    Location 73\n",
              "1039    Location 82\n",
              "1040    Location 11\n",
              "1041    Location 26\n",
              "1042    Location 94\n",
              "Name: Location, Length: 1043, dtype: object"
            ]
          },
          "metadata": {},
          "execution_count": 7
        }
      ]
    },
    {
      "cell_type": "code",
      "source": [
        "location_data.index.name"
      ],
      "metadata": {
        "colab": {
          "base_uri": "https://localhost:8080/",
          "height": 35
        },
        "id": "YFLKVxuTtQyf",
        "outputId": "3b771f07-188b-4d7b-bd25-4f3ebfb13d8b"
      },
      "execution_count": 8,
      "outputs": [
        {
          "output_type": "execute_result",
          "data": {
            "text/plain": [
              "'Index'"
            ],
            "application/vnd.google.colaboratory.intrinsic+json": {
              "type": "string"
            }
          },
          "metadata": {},
          "execution_count": 8
        }
      ]
    },
    {
      "cell_type": "code",
      "source": [
        "location_data.sort_values()"
      ],
      "metadata": {
        "colab": {
          "base_uri": "https://localhost:8080/"
        },
        "id": "J-ubEG0HtUpo",
        "outputId": "134810f2-4474-4985-92c3-c41faf4a5076"
      },
      "execution_count": 9,
      "outputs": [
        {
          "output_type": "execute_result",
          "data": {
            "text/plain": [
              "Index\n",
              "637     Location 1\n",
              "884     Location 1\n",
              "465     Location 1\n",
              "716    Location 10\n",
              "623    Location 10\n",
              "          ...     \n",
              "482    Location 97\n",
              "128    Location 97\n",
              "669    Location 97\n",
              "757    Location 98\n",
              "372    Location 99\n",
              "Name: Location, Length: 1043, dtype: object"
            ]
          },
          "metadata": {},
          "execution_count": 9
        }
      ]
    },
    {
      "cell_type": "code",
      "source": [
        "location_data.sort_values().head()"
      ],
      "metadata": {
        "colab": {
          "base_uri": "https://localhost:8080/"
        },
        "id": "9zzMFuQvtb8G",
        "outputId": "46a309b1-bd50-42d8-b3f6-0562956961e5"
      },
      "execution_count": 10,
      "outputs": [
        {
          "output_type": "execute_result",
          "data": {
            "text/plain": [
              "Index\n",
              "637     Location 1\n",
              "884     Location 1\n",
              "465     Location 1\n",
              "716    Location 10\n",
              "623    Location 10\n",
              "Name: Location, dtype: object"
            ]
          },
          "metadata": {},
          "execution_count": 10
        }
      ]
    },
    {
      "cell_type": "code",
      "source": [
        "location_data.sort_values().tail()"
      ],
      "metadata": {
        "colab": {
          "base_uri": "https://localhost:8080/"
        },
        "id": "0Oq_hAn6tfoz",
        "outputId": "de9e494a-f889-44de-f551-0cf4f8099cd3"
      },
      "execution_count": 11,
      "outputs": [
        {
          "output_type": "execute_result",
          "data": {
            "text/plain": [
              "Index\n",
              "482    Location 97\n",
              "128    Location 97\n",
              "669    Location 97\n",
              "757    Location 98\n",
              "372    Location 99\n",
              "Name: Location, dtype: object"
            ]
          },
          "metadata": {},
          "execution_count": 11
        }
      ]
    },
    {
      "cell_type": "code",
      "source": [
        "location_data.index"
      ],
      "metadata": {
        "colab": {
          "base_uri": "https://localhost:8080/"
        },
        "id": "7werQJ5itje8",
        "outputId": "28a2d8f4-1eb5-48ff-a4d7-04d0e2a0e9cd"
      },
      "execution_count": 12,
      "outputs": [
        {
          "output_type": "execute_result",
          "data": {
            "text/plain": [
              "RangeIndex(start=0, stop=1043, step=1, name='Index')"
            ]
          },
          "metadata": {},
          "execution_count": 12
        }
      ]
    },
    {
      "cell_type": "code",
      "source": [
        "type(location_data.index)"
      ],
      "metadata": {
        "colab": {
          "base_uri": "https://localhost:8080/"
        },
        "id": "tYsjmZ-EtrPE",
        "outputId": "3292125b-d48a-45ad-a78d-672eba1bb519"
      },
      "execution_count": 13,
      "outputs": [
        {
          "output_type": "execute_result",
          "data": {
            "text/plain": [
              "pandas.core.indexes.range.RangeIndex"
            ]
          },
          "metadata": {},
          "execution_count": 13
        }
      ]
    },
    {
      "cell_type": "code",
      "source": [
        "location_data.index.to_numpy()"
      ],
      "metadata": {
        "colab": {
          "base_uri": "https://localhost:8080/"
        },
        "id": "WYQOaXpttsoE",
        "outputId": "dc9f7836-033c-4f1d-a6dd-e6c818c662cb"
      },
      "execution_count": 14,
      "outputs": [
        {
          "output_type": "execute_result",
          "data": {
            "text/plain": [
              "array([   0,    1,    2, ..., 1040, 1041, 1042])"
            ]
          },
          "metadata": {},
          "execution_count": 14
        }
      ]
    }
  ],
  "metadata": {
    "colab": {
      "provenance": [],
      "authorship_tag": "ABX9TyN9XKbP6TSD/12njJwe7VJM",
      "include_colab_link": true
    },
    "kernelspec": {
      "display_name": "Python 3",
      "name": "python3"
    },
    "language_info": {
      "name": "python"
    }
  },
  "nbformat": 4,
  "nbformat_minor": 0
}