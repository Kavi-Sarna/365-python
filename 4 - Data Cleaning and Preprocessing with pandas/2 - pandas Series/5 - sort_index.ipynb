{
  "cells": [
    {
      "cell_type": "markdown",
      "metadata": {
        "id": "view-in-github",
        "colab_type": "text"
      },
      "source": [
        "<a href=\"https://colab.research.google.com/github/Kavi-Sarna/365-python/blob/main/4%20-%20Data%20Cleaning%20and%20Preprocessing%20with%20pandas/2%20-%20pandas%20Series/5%20-%20sort_index.ipynb\" target=\"_parent\"><img src=\"https://colab.research.google.com/assets/colab-badge.svg\" alt=\"Open In Colab\"/></a>"
      ]
    },
    {
      "cell_type": "code",
      "source": [
        "import pandas as pd"
      ],
      "metadata": {
        "id": "KSVBP4W-rih1"
      },
      "execution_count": 1,
      "outputs": []
    },
    {
      "cell_type": "code",
      "source": [
        "data = pd.read_csv('Location.csv').squeeze('columns')\n",
        "location_data = data.copy()\n",
        "location_data.head()"
      ],
      "metadata": {
        "colab": {
          "base_uri": "https://localhost:8080/"
        },
        "id": "cEZ7QGQQr_qt",
        "outputId": "b54c3ffa-ffda-4e04-d4e8-cb41a9897725"
      },
      "execution_count": 2,
      "outputs": [
        {
          "output_type": "execute_result",
          "data": {
            "text/plain": [
              "0     Location 3\n",
              "1     Location 6\n",
              "2     Location 8\n",
              "3    Location 26\n",
              "4    Location 34\n",
              "Name: Location, dtype: object"
            ]
          },
          "metadata": {},
          "execution_count": 2
        }
      ]
    },
    {
      "cell_type": "code",
      "source": [
        "location_data.sort_values(ascending = False)"
      ],
      "metadata": {
        "colab": {
          "base_uri": "https://localhost:8080/"
        },
        "id": "VlbgfUZ5uPue",
        "outputId": "1511d96d-f8fe-459f-c9d4-a5786c7a43ad"
      },
      "execution_count": 3,
      "outputs": [
        {
          "output_type": "execute_result",
          "data": {
            "text/plain": [
              "372    Location 99\n",
              "757    Location 98\n",
              "128    Location 97\n",
              "482    Location 97\n",
              "271    Location 97\n",
              "          ...     \n",
              "202    Location 10\n",
              "298    Location 10\n",
              "637     Location 1\n",
              "884     Location 1\n",
              "465     Location 1\n",
              "Name: Location, Length: 1043, dtype: object"
            ]
          },
          "metadata": {},
          "execution_count": 3
        }
      ]
    },
    {
      "cell_type": "code",
      "source": [
        "location_data_sv = location_data.sort_values(ascending = False)\n",
        "location_data_sv.head()"
      ],
      "metadata": {
        "colab": {
          "base_uri": "https://localhost:8080/"
        },
        "id": "K3aMcAVGuVLw",
        "outputId": "7ec7b325-50c5-49da-870b-3ab1484bf068"
      },
      "execution_count": 4,
      "outputs": [
        {
          "output_type": "execute_result",
          "data": {
            "text/plain": [
              "372    Location 99\n",
              "757    Location 98\n",
              "128    Location 97\n",
              "482    Location 97\n",
              "271    Location 97\n",
              "Name: Location, dtype: object"
            ]
          },
          "metadata": {},
          "execution_count": 4
        }
      ]
    },
    {
      "cell_type": "code",
      "source": [
        "location_data_sv.index"
      ],
      "metadata": {
        "colab": {
          "base_uri": "https://localhost:8080/"
        },
        "id": "jE--4TWNugOe",
        "outputId": "ed003f96-d325-4b94-cbd3-ce9d1279123f"
      },
      "execution_count": 5,
      "outputs": [
        {
          "output_type": "execute_result",
          "data": {
            "text/plain": [
              "Int64Index([ 372,  757,  128,  482,  271,  669,  612,   29,  518,  598,\n",
              "            ...\n",
              "             904,  912, 1010,   14,  716,  202,  298,  637,  884,  465],\n",
              "           dtype='int64', length=1043)"
            ]
          },
          "metadata": {},
          "execution_count": 5
        }
      ]
    },
    {
      "cell_type": "code",
      "source": [
        "location_data_sv.index.sort_values()"
      ],
      "metadata": {
        "colab": {
          "base_uri": "https://localhost:8080/"
        },
        "id": "9eybhOxeukKi",
        "outputId": "731c228a-f66c-4639-f887-4a8552fe43a9"
      },
      "execution_count": 6,
      "outputs": [
        {
          "output_type": "execute_result",
          "data": {
            "text/plain": [
              "Int64Index([   0,    1,    2,    3,    4,    5,    6,    7,    8,    9,\n",
              "            ...\n",
              "            1033, 1034, 1035, 1036, 1037, 1038, 1039, 1040, 1041, 1042],\n",
              "           dtype='int64', length=1043)"
            ]
          },
          "metadata": {},
          "execution_count": 6
        }
      ]
    },
    {
      "cell_type": "code",
      "source": [
        "location_data_sv.head()"
      ],
      "metadata": {
        "colab": {
          "base_uri": "https://localhost:8080/"
        },
        "id": "NsqEJL-MutJl",
        "outputId": "f7e1110c-0282-40eb-982d-13230a7e8cf8"
      },
      "execution_count": 7,
      "outputs": [
        {
          "output_type": "execute_result",
          "data": {
            "text/plain": [
              "372    Location 99\n",
              "757    Location 98\n",
              "128    Location 97\n",
              "482    Location 97\n",
              "271    Location 97\n",
              "Name: Location, dtype: object"
            ]
          },
          "metadata": {},
          "execution_count": 7
        }
      ]
    },
    {
      "cell_type": "code",
      "source": [
        "location_data_sv.index = location_data_sv.index.sort_values()"
      ],
      "metadata": {
        "id": "D1ZqQ7Gwu0Su"
      },
      "execution_count": 8,
      "outputs": []
    },
    {
      "cell_type": "code",
      "source": [
        "location_data_sv"
      ],
      "metadata": {
        "colab": {
          "base_uri": "https://localhost:8080/"
        },
        "id": "i0PdPY3Eu8Qw",
        "outputId": "52fb80dc-b374-461b-f950-d50c363cfc9e"
      },
      "execution_count": 9,
      "outputs": [
        {
          "output_type": "execute_result",
          "data": {
            "text/plain": [
              "0       Location 99\n",
              "1       Location 98\n",
              "2       Location 97\n",
              "3       Location 97\n",
              "4       Location 97\n",
              "           ...     \n",
              "1038    Location 10\n",
              "1039    Location 10\n",
              "1040     Location 1\n",
              "1041     Location 1\n",
              "1042     Location 1\n",
              "Name: Location, Length: 1043, dtype: object"
            ]
          },
          "metadata": {},
          "execution_count": 9
        }
      ]
    },
    {
      "cell_type": "code",
      "source": [
        "location_data_sv = location_data.sort_values(ascending=False)\n",
        "location_data_sv.head()"
      ],
      "metadata": {
        "colab": {
          "base_uri": "https://localhost:8080/"
        },
        "id": "R8pyvXaXvaJu",
        "outputId": "3953d784-449e-47f6-cf80-2fb2d807b737"
      },
      "execution_count": 10,
      "outputs": [
        {
          "output_type": "execute_result",
          "data": {
            "text/plain": [
              "372    Location 99\n",
              "757    Location 98\n",
              "128    Location 97\n",
              "482    Location 97\n",
              "271    Location 97\n",
              "Name: Location, dtype: object"
            ]
          },
          "metadata": {},
          "execution_count": 10
        }
      ]
    },
    {
      "cell_type": "code",
      "source": [
        "location_data_sv.sort_index()"
      ],
      "metadata": {
        "colab": {
          "base_uri": "https://localhost:8080/"
        },
        "id": "KvEferEpvzsh",
        "outputId": "ccde15bc-a93a-45db-8fcd-d945e2ea05fd"
      },
      "execution_count": 11,
      "outputs": [
        {
          "output_type": "execute_result",
          "data": {
            "text/plain": [
              "0        Location 3\n",
              "1        Location 6\n",
              "2        Location 8\n",
              "3       Location 26\n",
              "4       Location 34\n",
              "           ...     \n",
              "1038    Location 73\n",
              "1039    Location 82\n",
              "1040    Location 11\n",
              "1041    Location 26\n",
              "1042    Location 94\n",
              "Name: Location, Length: 1043, dtype: object"
            ]
          },
          "metadata": {},
          "execution_count": 11
        }
      ]
    },
    {
      "cell_type": "code",
      "source": [
        "location_data_sv"
      ],
      "metadata": {
        "colab": {
          "base_uri": "https://localhost:8080/"
        },
        "id": "Qd_ITIm0v7gr",
        "outputId": "15466e8b-0dc8-4836-8368-0983fa6f86b3"
      },
      "execution_count": 12,
      "outputs": [
        {
          "output_type": "execute_result",
          "data": {
            "text/plain": [
              "372    Location 99\n",
              "757    Location 98\n",
              "128    Location 97\n",
              "482    Location 97\n",
              "271    Location 97\n",
              "          ...     \n",
              "202    Location 10\n",
              "298    Location 10\n",
              "637     Location 1\n",
              "884     Location 1\n",
              "465     Location 1\n",
              "Name: Location, Length: 1043, dtype: object"
            ]
          },
          "metadata": {},
          "execution_count": 12
        }
      ]
    },
    {
      "cell_type": "code",
      "source": [
        "location_data_sv = location_data_sv.sort_index(ascending=True)\n",
        "location_data_sv"
      ],
      "metadata": {
        "colab": {
          "base_uri": "https://localhost:8080/"
        },
        "id": "xVgdOX-2v-v9",
        "outputId": "a7957035-fa57-40a4-fd26-b7d4e1579426"
      },
      "execution_count": 13,
      "outputs": [
        {
          "output_type": "execute_result",
          "data": {
            "text/plain": [
              "0        Location 3\n",
              "1        Location 6\n",
              "2        Location 8\n",
              "3       Location 26\n",
              "4       Location 34\n",
              "           ...     \n",
              "1038    Location 73\n",
              "1039    Location 82\n",
              "1040    Location 11\n",
              "1041    Location 26\n",
              "1042    Location 94\n",
              "Name: Location, Length: 1043, dtype: object"
            ]
          },
          "metadata": {},
          "execution_count": 13
        }
      ]
    }
  ],
  "metadata": {
    "colab": {
      "provenance": [],
      "authorship_tag": "ABX9TyN54BTaPDtUPHp8bMkQUhL0",
      "include_colab_link": true
    },
    "kernelspec": {
      "display_name": "Python 3",
      "name": "python3"
    },
    "language_info": {
      "name": "python"
    }
  },
  "nbformat": 4,
  "nbformat_minor": 0
}