{
  "cells": [
    {
      "cell_type": "markdown",
      "metadata": {
        "id": "view-in-github",
        "colab_type": "text"
      },
      "source": [
        "<a href=\"https://colab.research.google.com/github/Kavi-Sarna/365-python/blob/main/4%20-%20Data%20Cleaning%20and%20Preprocessing%20with%20pandas/2%20-%20pandas%20Series/6%20-%20Exercises.ipynb\" target=\"_parent\"><img src=\"https://colab.research.google.com/assets/colab-badge.svg\" alt=\"Open In Colab\"/></a>"
      ]
    },
    {
      "cell_type": "markdown",
      "source": [
        "<hr style=\"border:5px solid #108999\"> </hr>"
      ],
      "metadata": {
        "id": "RArUEAJimhQx"
      }
    },
    {
      "cell_type": "markdown",
      "source": [
        "# pandas Series <hr style=\"border:4.5px solid #108999\"> </hr>"
      ],
      "metadata": {
        "id": "JzA_UlKrmix5"
      }
    },
    {
      "cell_type": "markdown",
      "source": [
        "For starters, import the pandas library, using the relevant well-known convention."
      ],
      "metadata": {
        "id": "XlHowWAGmmCO"
      }
    },
    {
      "cell_type": "code",
      "source": [
        "import pandas as pd"
      ],
      "metadata": {
        "id": "zq9OLuPhmagk"
      },
      "execution_count": 1,
      "outputs": []
    },
    {
      "cell_type": "markdown",
      "source": [
        "## .unique() & .nunique()"
      ],
      "metadata": {
        "id": "ckKY71dlms2V"
      }
    },
    {
      "cell_type": "markdown",
      "source": [
        "Load the \"Region.csv\" file and set the *squeeze* option to *True*. Store the information in a variable called **region_data**. Preview the data with the pandas *.head()* method."
      ],
      "metadata": {
        "id": "vN2ILGZrmuxa"
      }
    },
    {
      "cell_type": "code",
      "source": [
        "region_data = pd.read_csv('Region.csv').squeeze('columns')\n",
        "region_data.head()"
      ],
      "metadata": {
        "colab": {
          "base_uri": "https://localhost:8080/"
        },
        "id": "ywjmn1kNmqU1",
        "outputId": "ff6a6c2a-7a7e-47c7-cbf7-90bc6c92bf6e"
      },
      "execution_count": 2,
      "outputs": [
        {
          "output_type": "execute_result",
          "data": {
            "text/plain": [
              "0    Region 2\n",
              "1    Region 6\n",
              "2    Region 3\n",
              "3    Region 2\n",
              "4    Region 3\n",
              "Name: Region, dtype: object"
            ]
          },
          "metadata": {},
          "execution_count": 2
        }
      ]
    },
    {
      "cell_type": "markdown",
      "source": [
        "Verify that **region_data** is a Series object."
      ],
      "metadata": {
        "id": "QLLuwY_knN3C"
      }
    },
    {
      "cell_type": "code",
      "source": [
        "type(region_data)"
      ],
      "metadata": {
        "colab": {
          "base_uri": "https://localhost:8080/"
        },
        "id": "oDWhBWsunJ21",
        "outputId": "58434f8d-611c-4686-eb59-9ddb2d6d2edf"
      },
      "execution_count": 3,
      "outputs": [
        {
          "output_type": "execute_result",
          "data": {
            "text/plain": [
              "pandas.core.series.Series"
            ]
          },
          "metadata": {},
          "execution_count": 3
        }
      ]
    },
    {
      "cell_type": "markdown",
      "source": [
        "Use the *.describe()* method to obtain descriptive statistics on the **region_data** Series.\n",
        "<br>Think of how many unique values there are in the data set.\n",
        "<br>*Please note that the statistics provided in the output exclude missing data.*"
      ],
      "metadata": {
        "id": "JX4wFyQPnVMg"
      }
    },
    {
      "cell_type": "code",
      "source": [
        "region_data.describe()"
      ],
      "metadata": {
        "colab": {
          "base_uri": "https://localhost:8080/"
        },
        "id": "M2sPNn7dnRHt",
        "outputId": "ea01a8f5-3176-4ebb-ca15-9712945881c5"
      },
      "execution_count": 4,
      "outputs": [
        {
          "output_type": "execute_result",
          "data": {
            "text/plain": [
              "count         1042\n",
              "unique          18\n",
              "top       Region 6\n",
              "freq           326\n",
              "Name: Region, dtype: object"
            ]
          },
          "metadata": {},
          "execution_count": 4
        }
      ]
    },
    {
      "cell_type": "markdown",
      "source": [
        "You can obtain some of the values from the previous output by using Python built-in functions or methods. Please extract the total number of values from the **region_data** Series, then the number of unique values. Finally, obtain a list containing all unique values from this Series."
      ],
      "metadata": {
        "id": "hUKcv_C1nhUb"
      }
    },
    {
      "cell_type": "code",
      "source": [
        "len(region_data)"
      ],
      "metadata": {
        "colab": {
          "base_uri": "https://localhost:8080/"
        },
        "id": "7SFpzOnKneZW",
        "outputId": "17c4b34b-bd94-4efb-eb6c-e125db14009f"
      },
      "execution_count": 5,
      "outputs": [
        {
          "output_type": "execute_result",
          "data": {
            "text/plain": [
              "1042"
            ]
          },
          "metadata": {},
          "execution_count": 5
        }
      ]
    },
    {
      "cell_type": "code",
      "source": [
        "region_data.nunique()"
      ],
      "metadata": {
        "colab": {
          "base_uri": "https://localhost:8080/"
        },
        "id": "gGgZn7pWpk4Q",
        "outputId": "6c9d4dfa-3a45-45cd-a45b-14979832eebb"
      },
      "execution_count": 6,
      "outputs": [
        {
          "output_type": "execute_result",
          "data": {
            "text/plain": [
              "18"
            ]
          },
          "metadata": {},
          "execution_count": 6
        }
      ]
    },
    {
      "cell_type": "code",
      "source": [
        "region_data.unique()"
      ],
      "metadata": {
        "colab": {
          "base_uri": "https://localhost:8080/"
        },
        "id": "1Qm6L_6RppBH",
        "outputId": "64d9243b-fb5f-429e-f74e-f50d0ce17042"
      },
      "execution_count": 7,
      "outputs": [
        {
          "output_type": "execute_result",
          "data": {
            "text/plain": [
              "array(['Region 2', 'Region 6', 'Region 3', 'Region 1', 'Region 5',\n",
              "       'Region 9', 'Region 7', 'Region 4', 'Region 12', 'Region 16',\n",
              "       'Region 8', 'Region 10', 'Region 13', 'Region 15', 'Region 11',\n",
              "       'Region 14', 'Region 17', 'Region 18'], dtype=object)"
            ]
          },
          "metadata": {},
          "execution_count": 7
        }
      ]
    },
    {
      "cell_type": "markdown",
      "source": [
        "## .sort_values()"
      ],
      "metadata": {
        "id": "PeTSD6Rvpx6d"
      }
    },
    {
      "cell_type": "markdown",
      "source": [
        "Load the \"Region.csv\" file and set the *squeeze* option to *True*. Store the information in a variable called **region_data**. Preview the data with the pandas *.head()* method."
      ],
      "metadata": {
        "id": "sqMMX7HJp06J"
      }
    },
    {
      "cell_type": "code",
      "source": [
        "region_data = pd.read_csv('Region.csv').squeeze('columns')\n",
        "region_data.head()"
      ],
      "metadata": {
        "colab": {
          "base_uri": "https://localhost:8080/"
        },
        "id": "Wnur5zHopvfd",
        "outputId": "f1278b61-ad4c-4e54-b706-cde819d1f811"
      },
      "execution_count": 8,
      "outputs": [
        {
          "output_type": "execute_result",
          "data": {
            "text/plain": [
              "0    Region 2\n",
              "1    Region 6\n",
              "2    Region 3\n",
              "3    Region 2\n",
              "4    Region 3\n",
              "Name: Region, dtype: object"
            ]
          },
          "metadata": {},
          "execution_count": 8
        }
      ]
    },
    {
      "cell_type": "markdown",
      "source": [
        "Sort the values without specifying any arguments."
      ],
      "metadata": {
        "id": "jWCO8_jKqBc9"
      }
    },
    {
      "cell_type": "markdown",
      "source": [
        "*Please note that the numbers go from 1 to 18, but we are currently ordering the values as labels, not integers. 1 is succeeded by 10, then 11, and so on until 18. Then we have 2, 3, 4, etc., until 8, and eventually - 9.*"
      ],
      "metadata": {
        "id": "l0eh-zjRqEC-"
      }
    },
    {
      "cell_type": "code",
      "source": [
        "region_data.sort_values()"
      ],
      "metadata": {
        "colab": {
          "base_uri": "https://localhost:8080/"
        },
        "id": "hyPlcZqNp_pa",
        "outputId": "f787834f-115b-4929-f9bc-7377b715083a"
      },
      "execution_count": 10,
      "outputs": [
        {
          "output_type": "execute_result",
          "data": {
            "text/plain": [
              "462    Region 1\n",
              "347    Region 1\n",
              "609    Region 1\n",
              "610    Region 1\n",
              "339    Region 1\n",
              "         ...   \n",
              "536    Region 9\n",
              "450    Region 9\n",
              "8      Region 9\n",
              "842    Region 9\n",
              "940    Region 9\n",
              "Name: Region, Length: 1042, dtype: object"
            ]
          },
          "metadata": {},
          "execution_count": 10
        }
      ]
    },
    {
      "cell_type": "markdown",
      "source": [
        "Sort the values, setting the *ascending* parameter equal to *True*."
      ],
      "metadata": {
        "id": "WTCJmaSuqSM3"
      }
    },
    {
      "cell_type": "code",
      "source": [
        "region_data.sort_values(ascending = True)"
      ],
      "metadata": {
        "colab": {
          "base_uri": "https://localhost:8080/"
        },
        "id": "iN4QS1xyqJwq",
        "outputId": "48e5f232-c095-42d8-c879-b41eb7a7470f"
      },
      "execution_count": 11,
      "outputs": [
        {
          "output_type": "execute_result",
          "data": {
            "text/plain": [
              "462    Region 1\n",
              "347    Region 1\n",
              "609    Region 1\n",
              "610    Region 1\n",
              "339    Region 1\n",
              "         ...   \n",
              "536    Region 9\n",
              "450    Region 9\n",
              "8      Region 9\n",
              "842    Region 9\n",
              "940    Region 9\n",
              "Name: Region, Length: 1042, dtype: object"
            ]
          },
          "metadata": {},
          "execution_count": 11
        }
      ]
    },
    {
      "cell_type": "markdown",
      "source": [
        "Sort the values in **region_data** in descending order."
      ],
      "metadata": {
        "id": "l_Wq5uklqZ24"
      }
    },
    {
      "cell_type": "code",
      "source": [
        "region_data.sort_values(ascending = False)"
      ],
      "metadata": {
        "colab": {
          "base_uri": "https://localhost:8080/"
        },
        "id": "xhBL7AMhqXKU",
        "outputId": "41ade9c3-9983-472b-a346-35eba9f97c54"
      },
      "execution_count": 12,
      "outputs": [
        {
          "output_type": "execute_result",
          "data": {
            "text/plain": [
              "450    Region 9\n",
              "842    Region 9\n",
              "141    Region 9\n",
              "940    Region 9\n",
              "8      Region 9\n",
              "         ...   \n",
              "569    Region 1\n",
              "892    Region 1\n",
              "558    Region 1\n",
              "557    Region 1\n",
              "309    Region 1\n",
              "Name: Region, Length: 1042, dtype: object"
            ]
          },
          "metadata": {},
          "execution_count": 12
        }
      ]
    },
    {
      "cell_type": "markdown",
      "source": [
        "## Attribute and Method Chaining"
      ],
      "metadata": {
        "id": "XTlXN2jtqhDo"
      }
    },
    {
      "cell_type": "markdown",
      "source": [
        "Load the \"Region.csv\" file and set the *squeeze* option to *True*. Store the information in a variable called **region_data**. Preview the data with the pandas *.head()* method."
      ],
      "metadata": {
        "id": "xE7wNQPnqjwi"
      }
    },
    {
      "cell_type": "code",
      "source": [
        "region_data = pd.read_csv('Region.csv').squeeze('columns')\n",
        "region_data.head()"
      ],
      "metadata": {
        "colab": {
          "base_uri": "https://localhost:8080/"
        },
        "id": "BDxWC-Dcqe_-",
        "outputId": "cae80122-054a-408e-d7d6-4a5cf687b5d9"
      },
      "execution_count": 13,
      "outputs": [
        {
          "output_type": "execute_result",
          "data": {
            "text/plain": [
              "0    Region 2\n",
              "1    Region 6\n",
              "2    Region 3\n",
              "3    Region 2\n",
              "4    Region 3\n",
              "Name: Region, dtype: object"
            ]
          },
          "metadata": {},
          "execution_count": 13
        }
      ]
    },
    {
      "cell_type": "markdown",
      "source": [
        "Use method chaining to obtain the first five rows from the values of **region_data** sorted in ascending order."
      ],
      "metadata": {
        "id": "2dhuIKz8rAfZ"
      }
    },
    {
      "cell_type": "code",
      "source": [
        "region_data.sort_values().head()"
      ],
      "metadata": {
        "colab": {
          "base_uri": "https://localhost:8080/"
        },
        "id": "QvkAf0HSq8im",
        "outputId": "f6a0792d-37ae-4d7f-90e7-4bc77f1adaf9"
      },
      "execution_count": 14,
      "outputs": [
        {
          "output_type": "execute_result",
          "data": {
            "text/plain": [
              "462    Region 1\n",
              "347    Region 1\n",
              "609    Region 1\n",
              "610    Region 1\n",
              "339    Region 1\n",
              "Name: Region, dtype: object"
            ]
          },
          "metadata": {},
          "execution_count": 14
        }
      ]
    },
    {
      "cell_type": "markdown",
      "source": [
        "Use method chaining to obtain the first five rows from the values of **region_data** sorted in descending order."
      ],
      "metadata": {
        "id": "zgjbcjjSrUuK"
      }
    },
    {
      "cell_type": "code",
      "source": [
        "region_data.sort_values(ascending = False).head()"
      ],
      "metadata": {
        "colab": {
          "base_uri": "https://localhost:8080/"
        },
        "id": "XCOtWmw0rR7S",
        "outputId": "1e1c8b17-9538-4071-befe-a4138b05ebd7"
      },
      "execution_count": 15,
      "outputs": [
        {
          "output_type": "execute_result",
          "data": {
            "text/plain": [
              "450    Region 9\n",
              "842    Region 9\n",
              "141    Region 9\n",
              "940    Region 9\n",
              "8      Region 9\n",
              "Name: Region, dtype: object"
            ]
          },
          "metadata": {},
          "execution_count": 15
        }
      ]
    },
    {
      "cell_type": "markdown",
      "source": [
        "Execute the next code cell to create a Series object called **emp_birth_date** that contains the employee numbers and the dates of birth of certain 4 employees."
      ],
      "metadata": {
        "id": "-J-B9c4drgXT"
      }
    },
    {
      "cell_type": "code",
      "source": [
        "emp_birth_date = pd.Series({'No_0001':'1963-08-02', 'No_0002':'1964-06-13', 'No_0003':'1989-12-04', 'No_0004':'1996-04-08'})\n",
        "emp_birth_date"
      ],
      "metadata": {
        "colab": {
          "base_uri": "https://localhost:8080/"
        },
        "id": "VpuLMEcercAP",
        "outputId": "437eafa7-aff5-41af-8a35-a761c87a1bc8"
      },
      "execution_count": 16,
      "outputs": [
        {
          "output_type": "execute_result",
          "data": {
            "text/plain": [
              "No_0001    1963-08-02\n",
              "No_0002    1964-06-13\n",
              "No_0003    1989-12-04\n",
              "No_0004    1996-04-08\n",
              "dtype: object"
            ]
          },
          "metadata": {},
          "execution_count": 16
        }
      ]
    },
    {
      "cell_type": "markdown",
      "source": [
        "Obtain just the index of **emp_birth_date**."
      ],
      "metadata": {
        "id": "WJEOXDQ3rkph"
      }
    },
    {
      "cell_type": "code",
      "source": [
        "emp_birth_date.index"
      ],
      "metadata": {
        "colab": {
          "base_uri": "https://localhost:8080/"
        },
        "id": "rcUnWhY4rjHL",
        "outputId": "706c43fc-0709-4660-af2e-b7b66281763f"
      },
      "execution_count": 17,
      "outputs": [
        {
          "output_type": "execute_result",
          "data": {
            "text/plain": [
              "Index(['No_0001', 'No_0002', 'No_0003', 'No_0004'], dtype='object')"
            ]
          },
          "metadata": {},
          "execution_count": 17
        }
      ]
    },
    {
      "cell_type": "markdown",
      "source": [
        "Obtain the row labels of the index, i.e. its values, stored in an array."
      ],
      "metadata": {
        "id": "-8DcEd0QrtDC"
      }
    },
    {
      "cell_type": "code",
      "source": [
        "emp_birth_date.index.to_numpy()"
      ],
      "metadata": {
        "colab": {
          "base_uri": "https://localhost:8080/"
        },
        "id": "Bwhv1gmArolr",
        "outputId": "0296d742-3995-4e08-9790-8fa2ccb74c36"
      },
      "execution_count": 18,
      "outputs": [
        {
          "output_type": "execute_result",
          "data": {
            "text/plain": [
              "array(['No_0001', 'No_0002', 'No_0003', 'No_0004'], dtype=object)"
            ]
          },
          "metadata": {},
          "execution_count": 18
        }
      ]
    },
    {
      "cell_type": "markdown",
      "source": [
        "## .sort_index()"
      ],
      "metadata": {
        "id": "BbKNLKh1r-hv"
      }
    },
    {
      "cell_type": "markdown",
      "source": [
        "Load the \"Region.csv\" file and set the *squeeze* option to *True*. Store the information in a variable called **region_data**. Preview the data with the pandas *.head()* method."
      ],
      "metadata": {
        "id": "UQq3k3qfsAZy"
      }
    },
    {
      "cell_type": "code",
      "source": [
        "region_data = pd.read_csv('Region.csv').squeeze('columns')\n",
        "region_data.head()"
      ],
      "metadata": {
        "colab": {
          "base_uri": "https://localhost:8080/"
        },
        "id": "n47MwVRfr7aq",
        "outputId": "b171c70e-3360-417a-b531-a07f48832377"
      },
      "execution_count": 19,
      "outputs": [
        {
          "output_type": "execute_result",
          "data": {
            "text/plain": [
              "0    Region 2\n",
              "1    Region 6\n",
              "2    Region 3\n",
              "3    Region 2\n",
              "4    Region 3\n",
              "Name: Region, dtype: object"
            ]
          },
          "metadata": {},
          "execution_count": 19
        }
      ]
    },
    {
      "cell_type": "markdown",
      "source": [
        "Overwrite the content of the **region_data** Series as you sort the values in *descending* order. Observe the index of the Series. Is it ordered correctly?"
      ],
      "metadata": {
        "id": "Hx6yH764sNVv"
      }
    },
    {
      "cell_type": "code",
      "source": [
        "region_data = region_data.sort_values(ascending = False)\n",
        "region_data"
      ],
      "metadata": {
        "colab": {
          "base_uri": "https://localhost:8080/"
        },
        "id": "3mugvWaTsLNo",
        "outputId": "01f2d135-649c-4851-ba7e-a913e7a75c61"
      },
      "execution_count": 20,
      "outputs": [
        {
          "output_type": "execute_result",
          "data": {
            "text/plain": [
              "450    Region 9\n",
              "842    Region 9\n",
              "141    Region 9\n",
              "940    Region 9\n",
              "8      Region 9\n",
              "         ...   \n",
              "569    Region 1\n",
              "892    Region 1\n",
              "558    Region 1\n",
              "557    Region 1\n",
              "309    Region 1\n",
              "Name: Region, Length: 1042, dtype: object"
            ]
          },
          "metadata": {},
          "execution_count": 20
        }
      ]
    },
    {
      "cell_type": "markdown",
      "source": [
        "Sort the index of the new version of the **region_data** Series object."
      ],
      "metadata": {
        "id": "urdqXiUgsex4"
      }
    },
    {
      "cell_type": "code",
      "source": [
        "region_data.sort_index()"
      ],
      "metadata": {
        "colab": {
          "base_uri": "https://localhost:8080/"
        },
        "id": "8JQL6sK-sa00",
        "outputId": "17c96d77-4759-4493-b395-0bc0e9c20f9c"
      },
      "execution_count": 21,
      "outputs": [
        {
          "output_type": "execute_result",
          "data": {
            "text/plain": [
              "0       Region 2\n",
              "1       Region 6\n",
              "2       Region 3\n",
              "3       Region 2\n",
              "4       Region 3\n",
              "          ...   \n",
              "1037    Region 6\n",
              "1038    Region 1\n",
              "1039    Region 4\n",
              "1040    Region 6\n",
              "1041    Region 6\n",
              "Name: Region, Length: 1042, dtype: object"
            ]
          },
          "metadata": {},
          "execution_count": 21
        }
      ]
    },
    {
      "cell_type": "markdown",
      "source": [
        "Sort the index of the **region_data** Series in opposite direction. You can do that by setting the *ascending* parameter equal to *False*."
      ],
      "metadata": {
        "id": "Ge7YVFWqssOr"
      }
    },
    {
      "cell_type": "code",
      "source": [
        "region_data.sort_index(ascending = False)"
      ],
      "metadata": {
        "colab": {
          "base_uri": "https://localhost:8080/"
        },
        "id": "0uCJRCrhsmv1",
        "outputId": "9023c91f-64e1-4ebc-920f-5321eb94ad4a"
      },
      "execution_count": 22,
      "outputs": [
        {
          "output_type": "execute_result",
          "data": {
            "text/plain": [
              "1041    Region 6\n",
              "1040    Region 6\n",
              "1039    Region 4\n",
              "1038    Region 1\n",
              "1037    Region 6\n",
              "          ...   \n",
              "4       Region 3\n",
              "3       Region 2\n",
              "2       Region 3\n",
              "1       Region 6\n",
              "0       Region 2\n",
              "Name: Region, Length: 1042, dtype: object"
            ]
          },
          "metadata": {},
          "execution_count": 22
        }
      ]
    }
  ],
  "metadata": {
    "colab": {
      "provenance": [],
      "authorship_tag": "ABX9TyMwZshjBMw2tn+m8+7aNJ1r",
      "include_colab_link": true
    },
    "kernelspec": {
      "display_name": "Python 3",
      "name": "python3"
    },
    "language_info": {
      "name": "python"
    }
  },
  "nbformat": 4,
  "nbformat_minor": 0
}