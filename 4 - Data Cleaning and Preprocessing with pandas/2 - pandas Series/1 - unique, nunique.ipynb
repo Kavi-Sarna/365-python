{
  "cells": [
    {
      "cell_type": "markdown",
      "metadata": {
        "id": "view-in-github",
        "colab_type": "text"
      },
      "source": [
        "<a href=\"https://colab.research.google.com/github/Kavi-Sarna/365-python/blob/main/4%20-%20Data%20Cleaning%20and%20Preprocessing%20with%20pandas/2%20-%20pandas%20Series/1%20-%20unique%2C%20nunique.ipynb\" target=\"_parent\"><img src=\"https://colab.research.google.com/assets/colab-badge.svg\" alt=\"Open In Colab\"/></a>"
      ]
    },
    {
      "cell_type": "code",
      "source": [
        "import pandas as pd"
      ],
      "metadata": {
        "id": "gCpBU3q2mRqN"
      },
      "execution_count": 1,
      "outputs": []
    },
    {
      "cell_type": "code",
      "source": [
        "data = pd.read_csv('Location.csv', squeeze = True)\n",
        "location_data = data.copy()\n",
        "location_data.head()"
      ],
      "metadata": {
        "colab": {
          "base_uri": "https://localhost:8080/"
        },
        "id": "N5whDtoUnryk",
        "outputId": "d4f3a60b-3446-4ffa-e806-2e1b7c4a62a5"
      },
      "execution_count": 2,
      "outputs": [
        {
          "output_type": "stream",
          "name": "stderr",
          "text": [
            "<ipython-input-2-a32c82d7ffba>:1: FutureWarning: The squeeze argument has been deprecated and will be removed in a future version. Append .squeeze(\"columns\") to the call to squeeze.\n",
            "\n",
            "\n",
            "  data = pd.read_csv('Location.csv', squeeze = True)\n"
          ]
        },
        {
          "output_type": "execute_result",
          "data": {
            "text/plain": [
              "0     Location 3\n",
              "1     Location 6\n",
              "2     Location 8\n",
              "3    Location 26\n",
              "4    Location 34\n",
              "Name: Location, dtype: object"
            ]
          },
          "metadata": {},
          "execution_count": 2
        }
      ]
    },
    {
      "cell_type": "code",
      "source": [
        "data = pd.read_csv('Location.csv').squeeze('columns')\n",
        "location_data = data.copy()\n",
        "location_data.head()"
      ],
      "metadata": {
        "colab": {
          "base_uri": "https://localhost:8080/"
        },
        "id": "rrNF6KQBn67-",
        "outputId": "2f65ffce-02c8-41ad-ebf1-6aa02dd82031"
      },
      "execution_count": 3,
      "outputs": [
        {
          "output_type": "execute_result",
          "data": {
            "text/plain": [
              "0     Location 3\n",
              "1     Location 6\n",
              "2     Location 8\n",
              "3    Location 26\n",
              "4    Location 34\n",
              "Name: Location, dtype: object"
            ]
          },
          "metadata": {},
          "execution_count": 3
        }
      ]
    },
    {
      "cell_type": "code",
      "source": [
        "type(location_data)"
      ],
      "metadata": {
        "colab": {
          "base_uri": "https://localhost:8080/"
        },
        "id": "0-7VNk2boFGe",
        "outputId": "e0e6e9a3-2254-4d82-9dd7-d9cbe457c61f"
      },
      "execution_count": 4,
      "outputs": [
        {
          "output_type": "execute_result",
          "data": {
            "text/plain": [
              "pandas.core.series.Series"
            ]
          },
          "metadata": {},
          "execution_count": 4
        }
      ]
    },
    {
      "cell_type": "code",
      "source": [
        "location_data.describe()"
      ],
      "metadata": {
        "colab": {
          "base_uri": "https://localhost:8080/"
        },
        "id": "ZydkhjrkoJbW",
        "outputId": "de9d74cf-4fd0-4acd-dfea-e806d2df5149"
      },
      "execution_count": 5,
      "outputs": [
        {
          "output_type": "execute_result",
          "data": {
            "text/plain": [
              "count            1043\n",
              "unique            296\n",
              "top       Location 25\n",
              "freq               31\n",
              "Name: Location, dtype: object"
            ]
          },
          "metadata": {},
          "execution_count": 5
        }
      ]
    },
    {
      "cell_type": "code",
      "source": [
        "len(location_data)"
      ],
      "metadata": {
        "colab": {
          "base_uri": "https://localhost:8080/"
        },
        "id": "LJdhLvwpoOG-",
        "outputId": "0d087dba-bdef-4ea1-8ee6-c988db31a914"
      },
      "execution_count": 6,
      "outputs": [
        {
          "output_type": "execute_result",
          "data": {
            "text/plain": [
              "1043"
            ]
          },
          "metadata": {},
          "execution_count": 6
        }
      ]
    },
    {
      "cell_type": "code",
      "source": [
        "location_data.nunique()"
      ],
      "metadata": {
        "colab": {
          "base_uri": "https://localhost:8080/"
        },
        "id": "3UIRWl9zoUoM",
        "outputId": "da4ec516-ea5b-4acc-ec71-dd1a130cbf3b"
      },
      "execution_count": 7,
      "outputs": [
        {
          "output_type": "execute_result",
          "data": {
            "text/plain": [
              "296"
            ]
          },
          "metadata": {},
          "execution_count": 7
        }
      ]
    },
    {
      "cell_type": "code",
      "source": [
        "type(location_data.nunique())"
      ],
      "metadata": {
        "colab": {
          "base_uri": "https://localhost:8080/"
        },
        "id": "he26CQ85oZP8",
        "outputId": "c177f7fc-c32f-4134-b468-75770e535c1e"
      },
      "execution_count": 8,
      "outputs": [
        {
          "output_type": "execute_result",
          "data": {
            "text/plain": [
              "int"
            ]
          },
          "metadata": {},
          "execution_count": 8
        }
      ]
    },
    {
      "cell_type": "code",
      "source": [
        "location_data.unique()"
      ],
      "metadata": {
        "colab": {
          "base_uri": "https://localhost:8080/"
        },
        "id": "ycEFm2WMod0c",
        "outputId": "23b4023b-2766-406d-b471-f1806c40e906"
      },
      "execution_count": 9,
      "outputs": [
        {
          "output_type": "execute_result",
          "data": {
            "text/plain": [
              "array(['Location 3', 'Location 6', 'Location 8', 'Location 26',\n",
              "       'Location 34', 'Location 25', 'Location 46', 'Location 156',\n",
              "       'Location 21', 'Location 13', 'Location 579', 'Location 602',\n",
              "       'Location 10', 'Location 44', 'Location 30', 'Location 48',\n",
              "       'Location 196', 'Location 64', 'Location 91', 'Location 62',\n",
              "       'Location 75', 'Location 42', 'Location 233', 'Location 95',\n",
              "       'Location 78', 'Location 61', 'Location 87', 'Location 19',\n",
              "       'Location 115', 'Location 350', 'Location 377', 'Location 17',\n",
              "       'Location 113', 'Location 81', 'Location 58', 'Location 212',\n",
              "       'Location 53', 'Location 337', 'Location 41', 'Location 632',\n",
              "       'Location 73', 'Location 214', 'Location 218', 'Location 38',\n",
              "       'Location 172', 'Location 197', 'Location 101', 'Location 185',\n",
              "       'Location 129', 'Location 235', 'Location 142', 'Location 50',\n",
              "       'Location 76', 'Location 11', 'Location 33', 'Location 22',\n",
              "       'Location 145', 'Location 203', 'Location 94', 'Location 573',\n",
              "       'Location 27', 'Location 186', 'Location 4', 'Location 70',\n",
              "       'Location 45', 'Location 262', 'Location 111', 'Location 84',\n",
              "       'Location 108', 'Location 7', 'Location 74', 'Location 450',\n",
              "       'Location 47', 'Location 37', 'Location 43', 'Location 286',\n",
              "       'Location 89', 'Location 24', 'Location 97', 'Location 144',\n",
              "       'Location 40', 'Location 128', 'Location 169', 'Location 399',\n",
              "       'Location 23', 'Location 191', 'Location 178', 'Location 510',\n",
              "       'Location 600', 'Location 188', 'Location 67', 'Location 49',\n",
              "       'Location 29', 'Location 222', 'Location 386', 'Location 88',\n",
              "       'Location 104', 'Location 405', 'Location 114', 'Location 259',\n",
              "       'Location 182', 'Location 12', 'Location 228', 'Location 149',\n",
              "       'Location 90', 'Location 109', 'Location 441', 'Location 421',\n",
              "       'Location 641', 'Location 195', 'Location 20', 'Location 161',\n",
              "       'Location 117', 'Location 200', 'Location 106', 'Location 31',\n",
              "       'Location 122', 'Location 541', 'Location 495', 'Location 193',\n",
              "       'Location 39', 'Location 9', 'Location 86', 'Location 107',\n",
              "       'Location 198', 'Location 318', 'Location 135', 'Location 177',\n",
              "       'Location 32', 'Location 591', 'Location 488', 'Location 418',\n",
              "       'Location 587', 'Location 454', 'Location 543', 'Location 489',\n",
              "       'Location 60', 'Location 52', 'Location 548', 'Location 15',\n",
              "       'Location 240', 'Location 658', 'Location 209', 'Location 151',\n",
              "       'Location 192', 'Location 364', 'Location 18', 'Location 503',\n",
              "       'Location 482', 'Location 460', 'Location 71', 'Location 69',\n",
              "       'Location 258', 'Location 204', 'Location 124', 'Location 168',\n",
              "       'Location 35', 'Location 296', 'Location 136', 'Location 28',\n",
              "       'Location 153', 'Location 99', 'Location 132', 'Location 427',\n",
              "       'Location 118', 'Location 127', 'Location 159', 'Location 154',\n",
              "       'Location 175', 'Location 120', 'Location 82', 'Location 152',\n",
              "       'Location 56', 'Location 282', 'Location 566', 'Location 365',\n",
              "       'Location 353', 'Location 66', 'Location 2', 'Location 323',\n",
              "       'Location 473', 'Location 206', 'Location 57', 'Location 68',\n",
              "       'Location 166', 'Location 1', 'Location 227', 'Location 79',\n",
              "       'Location 642', 'Location 105', 'Location 644', 'Location 547',\n",
              "       'Location 637', 'Location 59', 'Location 574', 'Location 529',\n",
              "       'Location 554', 'Location 275', 'Location 589', 'Location 160',\n",
              "       'Location 410', 'Location 146', 'Location 221', 'Location 265',\n",
              "       'Location 569', 'Location 157', 'Location 648', 'Location 165',\n",
              "       'Location 651', 'Location 266', 'Location 77', 'Location 158',\n",
              "       'Location 336', 'Location 72', 'Location 463', 'Location 253',\n",
              "       'Location 5', 'Location 431', 'Location 515', 'Location 226',\n",
              "       'Location 140', 'Location 110', 'Location 202', 'Location 634',\n",
              "       'Location 138', 'Location 217', 'Location 443', 'Location 627',\n",
              "       'Location 123', 'Location 528', 'Location 357', 'Location 187',\n",
              "       'Location 315', 'Location 112', 'Location 302', 'Location 194',\n",
              "       'Location 332', 'Location 208', 'Location 179', 'Location 199',\n",
              "       'Location 201', 'Location 174', 'Location 474', 'Location 184',\n",
              "       'Location 63', 'Location 512', 'Location 403', 'Location 436',\n",
              "       'Location 210', 'Location 468', 'Location 464', 'Location 98',\n",
              "       'Location 102', 'Location 325', 'Location 267', 'Location 173',\n",
              "       'Location 617', 'Location 141', 'Location 300', 'Location 216',\n",
              "       'Location 506', 'Location 647', 'Location 402', 'Location 239',\n",
              "       'Location 54', 'Location 137', 'Location 477', 'Location 586',\n",
              "       'Location 472', 'Location 374', 'Location 458', 'Location 180',\n",
              "       'Location 653', 'Location 16', 'Location 612', 'Location 505',\n",
              "       'Location 631', 'Location 299', 'Location 65', 'Location 342',\n",
              "       'Location 155', 'Location 511', 'Location 461', 'Location 244',\n",
              "       'Location 207', 'Location 597', 'Location 352', 'Location 533',\n",
              "       'Location 384', 'Location 80', 'Location 171', 'Location 143',\n",
              "       'Location 576', 'Location 139', 'Location 125', 'Location 181'],\n",
              "      dtype=object)"
            ]
          },
          "metadata": {},
          "execution_count": 9
        }
      ]
    },
    {
      "cell_type": "code",
      "source": [
        "type(location_data.unique())"
      ],
      "metadata": {
        "colab": {
          "base_uri": "https://localhost:8080/"
        },
        "id": "jPrmt7ecojbT",
        "outputId": "7ef76968-7ebd-49d5-b05d-effbd98695bf"
      },
      "execution_count": 10,
      "outputs": [
        {
          "output_type": "execute_result",
          "data": {
            "text/plain": [
              "numpy.ndarray"
            ]
          },
          "metadata": {},
          "execution_count": 10
        }
      ]
    },
    {
      "cell_type": "code",
      "source": [
        "location_data.unique"
      ],
      "metadata": {
        "colab": {
          "base_uri": "https://localhost:8080/"
        },
        "id": "xGJCZT1yoo5p",
        "outputId": "90a6bc93-9ff9-4794-d861-87d37a4688fa"
      },
      "execution_count": 11,
      "outputs": [
        {
          "output_type": "execute_result",
          "data": {
            "text/plain": [
              "<bound method Series.unique of 0        Location 3\n",
              "1        Location 6\n",
              "2        Location 8\n",
              "3       Location 26\n",
              "4       Location 34\n",
              "           ...     \n",
              "1038    Location 73\n",
              "1039    Location 82\n",
              "1040    Location 11\n",
              "1041    Location 26\n",
              "1042    Location 94\n",
              "Name: Location, Length: 1043, dtype: object>"
            ]
          },
          "metadata": {},
          "execution_count": 11
        }
      ]
    },
    {
      "cell_type": "code",
      "source": [
        "type(location_data.unique)"
      ],
      "metadata": {
        "colab": {
          "base_uri": "https://localhost:8080/"
        },
        "id": "Hv0kM1mwosUG",
        "outputId": "574583da-d75d-415c-d424-cd8945230bdc"
      },
      "execution_count": 12,
      "outputs": [
        {
          "output_type": "execute_result",
          "data": {
            "text/plain": [
              "method"
            ]
          },
          "metadata": {},
          "execution_count": 12
        }
      ]
    }
  ],
  "metadata": {
    "colab": {
      "provenance": [],
      "authorship_tag": "ABX9TyMaJEtYJNQblsZ6sJ7zkewW",
      "include_colab_link": true
    },
    "kernelspec": {
      "display_name": "Python 3",
      "name": "python3"
    },
    "language_info": {
      "name": "python"
    }
  },
  "nbformat": 4,
  "nbformat_minor": 0
}