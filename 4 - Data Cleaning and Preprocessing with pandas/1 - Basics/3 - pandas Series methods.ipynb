{
  "cells": [
    {
      "cell_type": "markdown",
      "metadata": {
        "id": "view-in-github",
        "colab_type": "text"
      },
      "source": [
        "<a href=\"https://colab.research.google.com/github/Kavi-Sarna/365-python/blob/main/4%20-%20Data%20Cleaning%20and%20Preprocessing%20with%20pandas/1%20-%20Basics/3%20-%20pandas%20Series%20methods.ipynb\" target=\"_parent\"><img src=\"https://colab.research.google.com/assets/colab-badge.svg\" alt=\"Open In Colab\"/></a>"
      ]
    },
    {
      "cell_type": "code",
      "source": [
        "import pandas as pd"
      ],
      "metadata": {
        "id": "PyCik6ajFy7C"
      },
      "execution_count": 1,
      "outputs": []
    },
    {
      "cell_type": "code",
      "source": [
        "start_date_deposits = pd.Series({\n",
        "    '7/4/2014'   : 2000,\n",
        "    '1/2/2015'   : 2000,\n",
        "    '12/8/2012'  : 1000,\n",
        "    '2/20/2015'  : 2000,\n",
        "    '10/28/2013' : 2000,\n",
        "    '4/19/2015'  : 2000,\n",
        "    '7/4/2016'   : 2000,\n",
        "    '4/24/2014'  : 2000,\n",
        "    '9/3/2015'   : 4000,\n",
        "    '7/25/2016'  : 2000,\n",
        "    '5/1/2014'   : 2000,\n",
        "    '3/29/2013'  : 2000,\n",
        "    '10/3/2014'  : 2000,\n",
        "    '9/18/2015'  : 2500\n",
        "})"
      ],
      "metadata": {
        "id": "e4s8wq2LF0lQ"
      },
      "execution_count": 2,
      "outputs": []
    },
    {
      "cell_type": "code",
      "source": [
        "start_date_deposits"
      ],
      "metadata": {
        "colab": {
          "base_uri": "https://localhost:8080/"
        },
        "id": "-WhZa8WxGD72",
        "outputId": "6303a47c-f911-4c9c-cfa2-f1cebd2bdbed"
      },
      "execution_count": 3,
      "outputs": [
        {
          "output_type": "execute_result",
          "data": {
            "text/plain": [
              "7/4/2014      2000\n",
              "1/2/2015      2000\n",
              "12/8/2012     1000\n",
              "2/20/2015     2000\n",
              "10/28/2013    2000\n",
              "4/19/2015     2000\n",
              "7/4/2016      2000\n",
              "4/24/2014     2000\n",
              "9/3/2015      4000\n",
              "7/25/2016     2000\n",
              "5/1/2014      2000\n",
              "3/29/2013     2000\n",
              "10/3/2014     2000\n",
              "9/18/2015     2500\n",
              "dtype: int64"
            ]
          },
          "metadata": {},
          "execution_count": 3
        }
      ]
    },
    {
      "cell_type": "code",
      "source": [
        "start_date_deposits.sum"
      ],
      "metadata": {
        "colab": {
          "base_uri": "https://localhost:8080/"
        },
        "id": "D3UAY60pCyQF",
        "outputId": "52d3d9fe-6f49-476d-be06-6abeb7174580"
      },
      "execution_count": 4,
      "outputs": [
        {
          "output_type": "execute_result",
          "data": {
            "text/plain": [
              "<bound method NDFrame._add_numeric_operations.<locals>.sum of 7/4/2014      2000\n",
              "1/2/2015      2000\n",
              "12/8/2012     1000\n",
              "2/20/2015     2000\n",
              "10/28/2013    2000\n",
              "4/19/2015     2000\n",
              "7/4/2016      2000\n",
              "4/24/2014     2000\n",
              "9/3/2015      4000\n",
              "7/25/2016     2000\n",
              "5/1/2014      2000\n",
              "3/29/2013     2000\n",
              "10/3/2014     2000\n",
              "9/18/2015     2500\n",
              "dtype: int64>"
            ]
          },
          "metadata": {},
          "execution_count": 4
        }
      ]
    },
    {
      "cell_type": "code",
      "source": [
        "start_date_deposits.sum()"
      ],
      "metadata": {
        "colab": {
          "base_uri": "https://localhost:8080/"
        },
        "id": "aGy2GlJsC-kC",
        "outputId": "38720875-7390-4aa4-c41c-be8359407379"
      },
      "execution_count": 5,
      "outputs": [
        {
          "output_type": "execute_result",
          "data": {
            "text/plain": [
              "29500"
            ]
          },
          "metadata": {},
          "execution_count": 5
        }
      ]
    },
    {
      "cell_type": "code",
      "source": [
        "start_date_deposits.min()"
      ],
      "metadata": {
        "colab": {
          "base_uri": "https://localhost:8080/"
        },
        "id": "13EU1ICNDCMy",
        "outputId": "967b9b16-a2f0-43f3-8bc2-b33ce469e335"
      },
      "execution_count": 6,
      "outputs": [
        {
          "output_type": "execute_result",
          "data": {
            "text/plain": [
              "1000"
            ]
          },
          "metadata": {},
          "execution_count": 6
        }
      ]
    },
    {
      "cell_type": "code",
      "source": [
        "start_date_deposits.max()"
      ],
      "metadata": {
        "colab": {
          "base_uri": "https://localhost:8080/"
        },
        "id": "tNSXvZNpDOIw",
        "outputId": "d4726224-17bc-4871-add1-826d9887c614"
      },
      "execution_count": 7,
      "outputs": [
        {
          "output_type": "execute_result",
          "data": {
            "text/plain": [
              "4000"
            ]
          },
          "metadata": {},
          "execution_count": 7
        }
      ]
    },
    {
      "cell_type": "code",
      "source": [
        "start_date_deposits.idxmax()"
      ],
      "metadata": {
        "colab": {
          "base_uri": "https://localhost:8080/",
          "height": 35
        },
        "id": "C_GIGjb4DPuj",
        "outputId": "8fc9a211-4d78-42cc-9f42-9e02f797905c"
      },
      "execution_count": 10,
      "outputs": [
        {
          "output_type": "execute_result",
          "data": {
            "text/plain": [
              "'9/3/2015'"
            ],
            "application/vnd.google.colaboratory.intrinsic+json": {
              "type": "string"
            }
          },
          "metadata": {},
          "execution_count": 10
        }
      ]
    },
    {
      "cell_type": "code",
      "source": [
        "start_date_deposits.idxmin()"
      ],
      "metadata": {
        "colab": {
          "base_uri": "https://localhost:8080/",
          "height": 35
        },
        "id": "3klpnTGxDUoO",
        "outputId": "c0c4f4bd-7e6f-4d95-a3ea-ac8027b9cc23"
      },
      "execution_count": 11,
      "outputs": [
        {
          "output_type": "execute_result",
          "data": {
            "text/plain": [
              "'12/8/2012'"
            ],
            "application/vnd.google.colaboratory.intrinsic+json": {
              "type": "string"
            }
          },
          "metadata": {},
          "execution_count": 11
        }
      ]
    },
    {
      "cell_type": "code",
      "source": [
        "start_date_deposits.head()"
      ],
      "metadata": {
        "colab": {
          "base_uri": "https://localhost:8080/"
        },
        "id": "gbDo-VHbDcJ7",
        "outputId": "d212f373-034c-4131-e94b-32420c3d05e9"
      },
      "execution_count": 12,
      "outputs": [
        {
          "output_type": "execute_result",
          "data": {
            "text/plain": [
              "7/4/2014      2000\n",
              "1/2/2015      2000\n",
              "12/8/2012     1000\n",
              "2/20/2015     2000\n",
              "10/28/2013    2000\n",
              "dtype: int64"
            ]
          },
          "metadata": {},
          "execution_count": 12
        }
      ]
    },
    {
      "cell_type": "code",
      "source": [
        "start_date_deposits.tail()"
      ],
      "metadata": {
        "colab": {
          "base_uri": "https://localhost:8080/"
        },
        "id": "x4FcMm4MDvz3",
        "outputId": "621ceaf9-4152-4420-8b68-678786294622"
      },
      "execution_count": 13,
      "outputs": [
        {
          "output_type": "execute_result",
          "data": {
            "text/plain": [
              "7/25/2016    2000\n",
              "5/1/2014     2000\n",
              "3/29/2013    2000\n",
              "10/3/2014    2000\n",
              "9/18/2015    2500\n",
              "dtype: int64"
            ]
          },
          "metadata": {},
          "execution_count": 13
        }
      ]
    },
    {
      "cell_type": "code",
      "source": [
        "start_date_deposits.head(3)"
      ],
      "metadata": {
        "colab": {
          "base_uri": "https://localhost:8080/"
        },
        "id": "cKaEF19fDyTc",
        "outputId": "61ccd5c3-8270-4928-dd31-b6ac6eec3bea"
      },
      "execution_count": 14,
      "outputs": [
        {
          "output_type": "execute_result",
          "data": {
            "text/plain": [
              "7/4/2014     2000\n",
              "1/2/2015     2000\n",
              "12/8/2012    1000\n",
              "dtype: int64"
            ]
          },
          "metadata": {},
          "execution_count": 14
        }
      ]
    },
    {
      "cell_type": "code",
      "source": [
        "start_date_deposits.head(10)"
      ],
      "metadata": {
        "colab": {
          "base_uri": "https://localhost:8080/"
        },
        "id": "636cxYWXEYNK",
        "outputId": "ed06bae5-213f-48f3-9b60-699feda01ece"
      },
      "execution_count": 15,
      "outputs": [
        {
          "output_type": "execute_result",
          "data": {
            "text/plain": [
              "7/4/2014      2000\n",
              "1/2/2015      2000\n",
              "12/8/2012     1000\n",
              "2/20/2015     2000\n",
              "10/28/2013    2000\n",
              "4/19/2015     2000\n",
              "7/4/2016      2000\n",
              "4/24/2014     2000\n",
              "9/3/2015      4000\n",
              "7/25/2016     2000\n",
              "dtype: int64"
            ]
          },
          "metadata": {},
          "execution_count": 15
        }
      ]
    },
    {
      "cell_type": "code",
      "source": [
        "start_date_deposits.head()"
      ],
      "metadata": {
        "colab": {
          "base_uri": "https://localhost:8080/"
        },
        "id": "juQ_dRV5EqBr",
        "outputId": "8528f5a4-6f12-4dfb-cd05-ff6fe88503be"
      },
      "execution_count": 16,
      "outputs": [
        {
          "output_type": "execute_result",
          "data": {
            "text/plain": [
              "7/4/2014      2000\n",
              "1/2/2015      2000\n",
              "12/8/2012     1000\n",
              "2/20/2015     2000\n",
              "10/28/2013    2000\n",
              "dtype: int64"
            ]
          },
          "metadata": {},
          "execution_count": 16
        }
      ]
    },
    {
      "cell_type": "code",
      "source": [
        "start_date_deposits.head(n=7)"
      ],
      "metadata": {
        "colab": {
          "base_uri": "https://localhost:8080/"
        },
        "id": "V7GwJjw9E1Ed",
        "outputId": "1628602b-3135-4996-acb7-cfaed662fdcc"
      },
      "execution_count": 17,
      "outputs": [
        {
          "output_type": "execute_result",
          "data": {
            "text/plain": [
              "7/4/2014      2000\n",
              "1/2/2015      2000\n",
              "12/8/2012     1000\n",
              "2/20/2015     2000\n",
              "10/28/2013    2000\n",
              "4/19/2015     2000\n",
              "7/4/2016      2000\n",
              "dtype: int64"
            ]
          },
          "metadata": {},
          "execution_count": 17
        }
      ]
    }
  ],
  "metadata": {
    "colab": {
      "provenance": [],
      "authorship_tag": "ABX9TyNaAJTcqvO7B3CcbMtKE6uA",
      "include_colab_link": true
    },
    "kernelspec": {
      "display_name": "Python 3",
      "name": "python3"
    },
    "language_info": {
      "name": "python"
    }
  },
  "nbformat": 4,
  "nbformat_minor": 0
}