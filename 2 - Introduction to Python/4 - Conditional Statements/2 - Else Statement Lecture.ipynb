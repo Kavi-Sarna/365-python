{
  "nbformat": 4,
  "nbformat_minor": 0,
  "metadata": {
    "colab": {
      "provenance": [],
      "authorship_tag": "ABX9TyOVzmenquAscAV2+K6WoJUc",
      "include_colab_link": true
    },
    "kernelspec": {
      "name": "python3",
      "display_name": "Python 3"
    },
    "language_info": {
      "name": "python"
    }
  },
  "cells": [
    {
      "cell_type": "markdown",
      "metadata": {
        "id": "view-in-github",
        "colab_type": "text"
      },
      "source": [
        "<a href=\"https://colab.research.google.com/github/Kavi-Sarna/365-python/blob/main/2%20-%20Introduction%20to%20Python/4%20-%20Conditional%20Statements/2%20-%20Else%20Statement%20Lecture.ipynb\" target=\"_parent\"><img src=\"https://colab.research.google.com/assets/colab-badge.svg\" alt=\"Open In Colab\"/></a>"
      ]
    },
    {
      "cell_type": "code",
      "source": [
        "x = 1\n",
        "\n",
        "if x > 3:\n",
        "  print(\"Case 1\")\n",
        "if x <= 3:\n",
        "  print(\"Case 2\")"
      ],
      "metadata": {
        "colab": {
          "base_uri": "https://localhost:8080/"
        },
        "id": "EWYY1YhFeNre",
        "outputId": "a767f81b-9e60-45fb-a945-6e2076432dd0"
      },
      "execution_count": 1,
      "outputs": [
        {
          "output_type": "stream",
          "name": "stdout",
          "text": [
            "Case 2\n"
          ]
        }
      ]
    },
    {
      "cell_type": "code",
      "source": [
        "if x > 3:\n",
        "  print(\"Case 1\")\n",
        "else:\n",
        "  print(\"Case 2\")"
      ],
      "metadata": {
        "colab": {
          "base_uri": "https://localhost:8080/"
        },
        "id": "fpJket99eci5",
        "outputId": "00de5b9f-2eaa-4ecb-f56f-b8eec12fa852"
      },
      "execution_count": 2,
      "outputs": [
        {
          "output_type": "stream",
          "name": "stdout",
          "text": [
            "Case 2\n"
          ]
        }
      ]
    }
  ]
}