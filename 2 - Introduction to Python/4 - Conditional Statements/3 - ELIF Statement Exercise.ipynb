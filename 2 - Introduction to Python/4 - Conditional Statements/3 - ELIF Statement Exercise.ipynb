{
  "cells": [
    {
      "cell_type": "markdown",
      "metadata": {
        "id": "view-in-github",
        "colab_type": "text"
      },
      "source": [
        "<a href=\"https://colab.research.google.com/github/Kavi-Sarna/365-python/blob/main/2%20-%20Introduction%20to%20Python/4%20-%20Conditional%20Statements/3%20-%20ELIF%20Statement%20Exercise.ipynb\" target=\"_parent\"><img src=\"https://colab.research.google.com/assets/colab-badge.svg\" alt=\"Open In Colab\"/></a>"
      ]
    },
    {
      "cell_type": "markdown",
      "metadata": {
        "id": "Td0Es0MWhV5S"
      },
      "source": [
        "## Else if, for Brief - ELIF"
      ]
    },
    {
      "cell_type": "markdown",
      "metadata": {
        "id": "RotqrjIphV5W"
      },
      "source": [
        "Assign 200 to x.\n",
        "Create the following piece of code:\n",
        "If x > 200, print out \"Big\";\n",
        "If x > 100 and x <= 200, print out \"Average\";\n",
        "and If x <= 100, print out \"Small\".\n",
        "Use the If, Elif, and Else keywords in your code."
      ]
    },
    {
      "cell_type": "code",
      "execution_count": 4,
      "metadata": {
        "collapsed": true,
        "colab": {
          "base_uri": "https://localhost:8080/"
        },
        "id": "L_tEM3mLhV5X",
        "outputId": "68a0d512-1452-478e-9466-52530091ada3"
      },
      "outputs": [
        {
          "output_type": "stream",
          "name": "stdout",
          "text": [
            "Small\n"
          ]
        }
      ],
      "source": [
        "x = 100\n",
        "if x > 200:\n",
        "  print('Big')\n",
        "elif x > 100 and x <= 200:\n",
        "  print(\"Average\")\n",
        "else:\n",
        "  print(\"Small\")"
      ]
    },
    {
      "cell_type": "markdown",
      "metadata": {
        "id": "1vcegHdQhV5X"
      },
      "source": [
        "Change the initial value of x to see how your output will vary."
      ]
    },
    {
      "cell_type": "markdown",
      "metadata": {
        "id": "l0_JfpZyhV5Y"
      },
      "source": [
        "******"
      ]
    },
    {
      "cell_type": "markdown",
      "metadata": {
        "id": "ZJFa7I0ZhV5Y"
      },
      "source": [
        "Keep the first two conditions of the previous code. Add a new ELIF statement, so that, eventually, the program prints \"Small\" if x >= 0 and x <= 100, and \"Negative\" if x < 0.\n",
        "Let x carry the value of 50 and then of -50 to check if your code is correct."
      ]
    },
    {
      "cell_type": "code",
      "execution_count": 11,
      "metadata": {
        "collapsed": true,
        "colab": {
          "base_uri": "https://localhost:8080/"
        },
        "id": "ShFNCta1hV5Y",
        "outputId": "ce2f5e4e-4c14-497a-97f9-ca15cdcc0eaf"
      },
      "outputs": [
        {
          "output_type": "stream",
          "name": "stdout",
          "text": [
            "Negative\n"
          ]
        }
      ],
      "source": [
        "x = -10\n",
        "if x > 200:\n",
        "  print('Big')\n",
        "elif x > 100 and x <= 200:\n",
        "  print('Average')\n",
        "elif x >= 0 and x <= 100:\n",
        "  print('Small')\n",
        "else:\n",
        "  print('Negative')"
      ]
    }
  ],
  "metadata": {
    "anaconda-cloud": {},
    "kernelspec": {
      "display_name": "Python 3",
      "language": "python",
      "name": "python3"
    },
    "language_info": {
      "codemirror_mode": {
        "name": "ipython",
        "version": 3
      },
      "file_extension": ".py",
      "mimetype": "text/x-python",
      "name": "python",
      "nbconvert_exporter": "python",
      "pygments_lexer": "ipython3",
      "version": "3.7.6"
    },
    "colab": {
      "provenance": [],
      "include_colab_link": true
    }
  },
  "nbformat": 4,
  "nbformat_minor": 0
}