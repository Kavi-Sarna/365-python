{
  "nbformat": 4,
  "nbformat_minor": 0,
  "metadata": {
    "colab": {
      "provenance": [],
      "authorship_tag": "ABX9TyOprYMNl0l88QTQTrHpR6t/",
      "include_colab_link": true
    },
    "kernelspec": {
      "name": "python3",
      "display_name": "Python 3"
    },
    "language_info": {
      "name": "python"
    }
  },
  "cells": [
    {
      "cell_type": "markdown",
      "metadata": {
        "id": "view-in-github",
        "colab_type": "text"
      },
      "source": [
        "<a href=\"https://colab.research.google.com/github/Kavi-Sarna/365-python/blob/main/2%20-%20Introduction%20to%20Python/4%20-%20Conditional%20Statements/3%20-%20ELIF%20Statement%20Lecture.ipynb\" target=\"_parent\"><img src=\"https://colab.research.google.com/assets/colab-badge.svg\" alt=\"Open In Colab\"/></a>"
      ]
    },
    {
      "cell_type": "code",
      "source": [
        "def compare_to_five(y):\n",
        "  if y > 5:\n",
        "    return \"Greater\"\n",
        "  elif y < 5:\n",
        "    return \"Less\"\n",
        "  else:\n",
        "    return \"Equal\""
      ],
      "metadata": {
        "id": "Nw6pmkPngC5P"
      },
      "execution_count": 3,
      "outputs": []
    },
    {
      "cell_type": "code",
      "source": [
        "print(compare_to_five(10))"
      ],
      "metadata": {
        "colab": {
          "base_uri": "https://localhost:8080/"
        },
        "id": "L7UMDrBdgU-7",
        "outputId": "7600e747-a320-4b42-c0b1-f2da964c1b71"
      },
      "execution_count": 4,
      "outputs": [
        {
          "output_type": "stream",
          "name": "stdout",
          "text": [
            "Greater\n"
          ]
        }
      ]
    },
    {
      "cell_type": "code",
      "source": [
        "print(compare_to_five(2))"
      ],
      "metadata": {
        "colab": {
          "base_uri": "https://localhost:8080/"
        },
        "id": "dG7FnzXRgZN9",
        "outputId": "970cc14e-18f4-451e-fbdb-c2cc9f1c94ec"
      },
      "execution_count": 5,
      "outputs": [
        {
          "output_type": "stream",
          "name": "stdout",
          "text": [
            "Less\n"
          ]
        }
      ]
    },
    {
      "cell_type": "code",
      "source": [
        "print(compare_to_five(5))"
      ],
      "metadata": {
        "colab": {
          "base_uri": "https://localhost:8080/"
        },
        "id": "Qg8iqzfWgeag",
        "outputId": "31ebd126-8bb3-43fd-d3c5-3fe7d7361b60"
      },
      "execution_count": 6,
      "outputs": [
        {
          "output_type": "stream",
          "name": "stdout",
          "text": [
            "Equal\n"
          ]
        }
      ]
    },
    {
      "cell_type": "code",
      "source": [
        "def compare_to_five(y):\n",
        "  if y > 5:\n",
        "    return 'Greater'\n",
        "  elif y < 0:\n",
        "    return 'Negative'\n",
        "  elif y < 5:\n",
        "    return 'Less'\n",
        "  else:\n",
        "    return 'Equal'"
      ],
      "metadata": {
        "id": "xYfYv5Egghzm"
      },
      "execution_count": 7,
      "outputs": []
    },
    {
      "cell_type": "code",
      "source": [
        "print(compare_to_five(-3))"
      ],
      "metadata": {
        "colab": {
          "base_uri": "https://localhost:8080/"
        },
        "id": "whSA0wHAg9jD",
        "outputId": "5b72d3bc-c590-4120-df6f-d503fd19e6ef"
      },
      "execution_count": 8,
      "outputs": [
        {
          "output_type": "stream",
          "name": "stdout",
          "text": [
            "Negative\n"
          ]
        }
      ]
    },
    {
      "cell_type": "code",
      "source": [
        "print(compare_to_five(3))"
      ],
      "metadata": {
        "colab": {
          "base_uri": "https://localhost:8080/"
        },
        "id": "jPUTwDXrhA2z",
        "outputId": "ad04c88e-5aa1-4ce6-eb31-2249bd6274af"
      },
      "execution_count": 10,
      "outputs": [
        {
          "output_type": "stream",
          "name": "stdout",
          "text": [
            "Less\n"
          ]
        }
      ]
    },
    {
      "cell_type": "code",
      "source": [
        "print(compare_to_five(5))"
      ],
      "metadata": {
        "colab": {
          "base_uri": "https://localhost:8080/"
        },
        "id": "N2neznRehEYV",
        "outputId": "491f469c-9e1f-4e9f-88be-aa7f6de15733"
      },
      "execution_count": 11,
      "outputs": [
        {
          "output_type": "stream",
          "name": "stdout",
          "text": [
            "Equal\n"
          ]
        }
      ]
    },
    {
      "cell_type": "code",
      "source": [
        "print(compare_to_five(9))"
      ],
      "metadata": {
        "colab": {
          "base_uri": "https://localhost:8080/"
        },
        "id": "0thgqDr2hKVv",
        "outputId": "0241aaa9-aef2-4e1e-c10f-69b8d4a2b19f"
      },
      "execution_count": 12,
      "outputs": [
        {
          "output_type": "stream",
          "name": "stdout",
          "text": [
            "Greater\n"
          ]
        }
      ]
    },
    {
      "cell_type": "code",
      "source": [
        "def compare_to_five(y):\n",
        "  if y > 5:\n",
        "    return 'Greater'\n",
        "  elif y < 5:\n",
        "    return 'Less'\n",
        "  elif y < 0:\n",
        "    return 'Negative'\n",
        "  else:\n",
        "    return 'Equal'"
      ],
      "metadata": {
        "id": "pXlZ20X6hO7D"
      },
      "execution_count": 13,
      "outputs": []
    },
    {
      "cell_type": "code",
      "source": [
        "print(compare_to_five(-3))"
      ],
      "metadata": {
        "colab": {
          "base_uri": "https://localhost:8080/"
        },
        "id": "J_hiPW6QiCUY",
        "outputId": "1c5cf631-f88b-4321-9630-c25aca1d4fd0"
      },
      "execution_count": 14,
      "outputs": [
        {
          "output_type": "stream",
          "name": "stdout",
          "text": [
            "Less\n"
          ]
        }
      ]
    },
    {
      "cell_type": "code",
      "source": [
        "print(compare_to_five(3))"
      ],
      "metadata": {
        "colab": {
          "base_uri": "https://localhost:8080/"
        },
        "id": "MmUCi8PKiF7y",
        "outputId": "ba7da009-619c-481c-c391-8adf626f57af"
      },
      "execution_count": 15,
      "outputs": [
        {
          "output_type": "stream",
          "name": "stdout",
          "text": [
            "Less\n"
          ]
        }
      ]
    }
  ]
}