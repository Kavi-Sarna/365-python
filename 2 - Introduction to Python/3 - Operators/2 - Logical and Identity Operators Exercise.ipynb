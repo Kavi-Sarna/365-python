{
  "cells": [
    {
      "cell_type": "markdown",
      "metadata": {
        "id": "view-in-github",
        "colab_type": "text"
      },
      "source": [
        "<a href=\"https://colab.research.google.com/github/Kavi-Sarna/365-python/blob/main/2%20-%20Introduction%20to%20Python/3%20-%20Operators/2%20-%20Logical%20and%20Identity%20Operators%20Exercise.ipynb\" target=\"_parent\"><img src=\"https://colab.research.google.com/assets/colab-badge.svg\" alt=\"Open In Colab\"/></a>"
      ]
    },
    {
      "cell_type": "markdown",
      "metadata": {
        "id": "CuhLOYmPYbfK"
      },
      "source": [
        "## Logical and Identity Operators"
      ]
    },
    {
      "cell_type": "markdown",
      "metadata": {
        "id": "8btdn1S8YbfP"
      },
      "source": [
        "*Suggested Answers follow (usually there are multiple ways to solve a problem in Python).*"
      ]
    },
    {
      "cell_type": "markdown",
      "metadata": {
        "id": "yo9JsT-FYbfQ"
      },
      "source": [
        "Check whether the following code is True or False."
      ]
    },
    {
      "cell_type": "markdown",
      "metadata": {
        "id": "UM6XQ_8eYbfQ"
      },
      "source": [
        "False or not True and not False"
      ]
    },
    {
      "cell_type": "code",
      "execution_count": 1,
      "metadata": {
        "collapsed": true,
        "colab": {
          "base_uri": "https://localhost:8080/"
        },
        "id": "yMuTRtYJYbfR",
        "outputId": "445d0a82-fbe5-4b48-9003-d28a7a862f79"
      },
      "outputs": [
        {
          "output_type": "execute_result",
          "data": {
            "text/plain": [
              "False"
            ]
          },
          "metadata": {},
          "execution_count": 1
        }
      ],
      "source": [
        "False or not True and not False"
      ]
    },
    {
      "cell_type": "markdown",
      "metadata": {
        "id": "ZVZ_lHGtYbfR"
      },
      "source": [
        "True and not False and True or not False"
      ]
    },
    {
      "cell_type": "code",
      "execution_count": 2,
      "metadata": {
        "collapsed": true,
        "colab": {
          "base_uri": "https://localhost:8080/"
        },
        "id": "8IKnSkxpYbfS",
        "outputId": "e51d1d54-8246-4a94-e5dd-ab95b83c8bd2"
      },
      "outputs": [
        {
          "output_type": "execute_result",
          "data": {
            "text/plain": [
              "True"
            ]
          },
          "metadata": {},
          "execution_count": 2
        }
      ],
      "source": [
        "True and not False and True or not False"
      ]
    },
    {
      "cell_type": "markdown",
      "metadata": {
        "id": "KbAarMrNYbfS"
      },
      "source": [
        "True or False and False"
      ]
    },
    {
      "cell_type": "code",
      "execution_count": 3,
      "metadata": {
        "collapsed": true,
        "colab": {
          "base_uri": "https://localhost:8080/"
        },
        "id": "hvJmB1xTYbfT",
        "outputId": "2036d631-fd15-48f9-8ac4-60d5c6dcb3ca"
      },
      "outputs": [
        {
          "output_type": "execute_result",
          "data": {
            "text/plain": [
              "True"
            ]
          },
          "metadata": {},
          "execution_count": 3
        }
      ],
      "source": [
        "True or False and False"
      ]
    },
    {
      "cell_type": "markdown",
      "metadata": {
        "id": "XkiMGu3PYbfT"
      },
      "source": [
        "False and True or False"
      ]
    },
    {
      "cell_type": "code",
      "execution_count": 4,
      "metadata": {
        "collapsed": true,
        "colab": {
          "base_uri": "https://localhost:8080/"
        },
        "id": "HsHECKJYYbfU",
        "outputId": "4f8f23f0-7914-444a-c281-516e7629cdce"
      },
      "outputs": [
        {
          "output_type": "execute_result",
          "data": {
            "text/plain": [
              "False"
            ]
          },
          "metadata": {},
          "execution_count": 4
        }
      ],
      "source": [
        "False and True or False"
      ]
    },
    {
      "cell_type": "markdown",
      "metadata": {
        "id": "n0RKbmK7YbfU"
      },
      "source": [
        "Using an identity operator, verify that 10 is not the same as 12."
      ]
    },
    {
      "cell_type": "code",
      "execution_count": 5,
      "metadata": {
        "collapsed": true,
        "colab": {
          "base_uri": "https://localhost:8080/"
        },
        "id": "j6jFiFrAYbfU",
        "outputId": "023622a0-7676-4287-d209-91fd9c18749a"
      },
      "outputs": [
        {
          "output_type": "stream",
          "name": "stderr",
          "text": [
            "<>:1: SyntaxWarning: \"is not\" with a literal. Did you mean \"!=\"?\n",
            "<>:1: SyntaxWarning: \"is not\" with a literal. Did you mean \"!=\"?\n",
            "<ipython-input-5-ddff1d428647>:1: SyntaxWarning: \"is not\" with a literal. Did you mean \"!=\"?\n",
            "  10 is not 12\n"
          ]
        },
        {
          "output_type": "execute_result",
          "data": {
            "text/plain": [
              "True"
            ]
          },
          "metadata": {},
          "execution_count": 5
        }
      ],
      "source": [
        "10 is not 12"
      ]
    },
    {
      "cell_type": "markdown",
      "metadata": {
        "id": "c_bqBhvzYbfU"
      },
      "source": [
        "Using an identity operator, verify that 50 is the same as 50."
      ]
    },
    {
      "cell_type": "code",
      "execution_count": 6,
      "metadata": {
        "collapsed": true,
        "colab": {
          "base_uri": "https://localhost:8080/"
        },
        "id": "WDNpFWnnYbfV",
        "outputId": "5de8744c-fefb-4f27-8026-1f37cf8cdd53"
      },
      "outputs": [
        {
          "output_type": "stream",
          "name": "stderr",
          "text": [
            "<>:1: SyntaxWarning: \"is\" with a literal. Did you mean \"==\"?\n",
            "<>:1: SyntaxWarning: \"is\" with a literal. Did you mean \"==\"?\n",
            "<ipython-input-6-f043382cab37>:1: SyntaxWarning: \"is\" with a literal. Did you mean \"==\"?\n",
            "  50 is 50\n"
          ]
        },
        {
          "output_type": "execute_result",
          "data": {
            "text/plain": [
              "True"
            ]
          },
          "metadata": {},
          "execution_count": 6
        }
      ],
      "source": [
        "50 is 50"
      ]
    },
    {
      "cell_type": "code",
      "source": [],
      "metadata": {
        "id": "6Swa6ejDac7_"
      },
      "execution_count": null,
      "outputs": []
    }
  ],
  "metadata": {
    "anaconda-cloud": {},
    "kernelspec": {
      "display_name": "Python 3",
      "language": "python",
      "name": "python3"
    },
    "language_info": {
      "codemirror_mode": {
        "name": "ipython",
        "version": 3
      },
      "file_extension": ".py",
      "mimetype": "text/x-python",
      "name": "python",
      "nbconvert_exporter": "python",
      "pygments_lexer": "ipython3",
      "version": "3.6.4"
    },
    "colab": {
      "provenance": [],
      "include_colab_link": true
    }
  },
  "nbformat": 4,
  "nbformat_minor": 0
}