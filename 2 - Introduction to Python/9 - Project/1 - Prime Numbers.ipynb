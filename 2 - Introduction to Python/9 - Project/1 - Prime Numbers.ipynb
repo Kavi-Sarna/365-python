{
  "nbformat": 4,
  "nbformat_minor": 0,
  "metadata": {
    "colab": {
      "provenance": [],
      "authorship_tag": "ABX9TyNEdmo3uzcaNBS9cgasj77X",
      "include_colab_link": true
    },
    "kernelspec": {
      "name": "python3",
      "display_name": "Python 3"
    },
    "language_info": {
      "name": "python"
    }
  },
  "cells": [
    {
      "cell_type": "markdown",
      "metadata": {
        "id": "view-in-github",
        "colab_type": "text"
      },
      "source": [
        "<a href=\"https://colab.research.google.com/github/Kavi-Sarna/365-python/blob/main/2%20-%20Introduction%20to%20Python/9%20-%20Project/1%20-%20Prime%20Numbers.ipynb\" target=\"_parent\"><img src=\"https://colab.research.google.com/assets/colab-badge.svg\" alt=\"Open In Colab\"/></a>"
      ]
    },
    {
      "cell_type": "code",
      "source": [
        "def is_prime(n):\n",
        "  if n == 1:\n",
        "    return False\n",
        "  for i in range(2, int(n/2)+1):\n",
        "    if n % i == 0:\n",
        "      return False\n",
        "  return True"
      ],
      "metadata": {
        "id": "vn3Hx-0NWG16"
      },
      "execution_count": 47,
      "outputs": []
    },
    {
      "cell_type": "code",
      "source": [
        "is_prime(2)"
      ],
      "metadata": {
        "colab": {
          "base_uri": "https://localhost:8080/"
        },
        "id": "SuzaVi2aWeex",
        "outputId": "a654a146-3772-4476-d772-085f97665123"
      },
      "execution_count": 48,
      "outputs": [
        {
          "output_type": "execute_result",
          "data": {
            "text/plain": [
              "True"
            ]
          },
          "metadata": {},
          "execution_count": 48
        }
      ]
    },
    {
      "cell_type": "code",
      "source": [
        "count = 0\n",
        "for i in range(100, 152):\n",
        "  if is_prime(i):\n",
        "    count += 1\n",
        "    print(i, 'is a Prime')\n",
        "print(count)"
      ],
      "metadata": {
        "colab": {
          "base_uri": "https://localhost:8080/"
        },
        "id": "dCxCcSUQXco0",
        "outputId": "2ca4879d-72e5-4b19-badb-44d8b7be68a1"
      },
      "execution_count": 49,
      "outputs": [
        {
          "output_type": "stream",
          "name": "stdout",
          "text": [
            "101 is a Prime\n",
            "103 is a Prime\n",
            "107 is a Prime\n",
            "109 is a Prime\n",
            "113 is a Prime\n",
            "127 is a Prime\n",
            "131 is a Prime\n",
            "137 is a Prime\n",
            "139 is a Prime\n",
            "149 is a Prime\n",
            "151 is a Prime\n",
            "11\n"
          ]
        }
      ]
    },
    {
      "cell_type": "code",
      "source": [
        "is_prime(313)"
      ],
      "metadata": {
        "colab": {
          "base_uri": "https://localhost:8080/"
        },
        "id": "mdWrIBrcXtfX",
        "outputId": "42b86a03-e5a0-43d8-ef89-7778498cc9bc"
      },
      "execution_count": 53,
      "outputs": [
        {
          "output_type": "execute_result",
          "data": {
            "text/plain": [
              "True"
            ]
          },
          "metadata": {},
          "execution_count": 53
        }
      ]
    }
  ]
}