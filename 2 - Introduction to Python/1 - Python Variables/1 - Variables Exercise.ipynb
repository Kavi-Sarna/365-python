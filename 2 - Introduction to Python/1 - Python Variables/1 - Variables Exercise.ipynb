{
  "nbformat": 4,
  "nbformat_minor": 0,
  "metadata": {
    "colab": {
      "provenance": [],
      "authorship_tag": "ABX9TyNRv6qM7iWxfWlX2rJc4koL",
      "include_colab_link": true
    },
    "kernelspec": {
      "name": "python3",
      "display_name": "Python 3"
    },
    "language_info": {
      "name": "python"
    }
  },
  "cells": [
    {
      "cell_type": "markdown",
      "metadata": {
        "id": "view-in-github",
        "colab_type": "text"
      },
      "source": [
        "<a href=\"https://colab.research.google.com/github/Kavi-Sarna/365-python/blob/main/2%20-%20Introduction%20to%20Python/1%20-%20Python%20Variables/1%20-%20Variables%20Exercise.ipynb\" target=\"_parent\"><img src=\"https://colab.research.google.com/assets/colab-badge.svg\" alt=\"Open In Colab\"/></a>"
      ]
    },
    {
      "cell_type": "markdown",
      "metadata": {
        "id": "j0cLY7JWt9BE"
      },
      "source": [
        "## Variables"
      ]
    },
    {
      "cell_type": "markdown",
      "metadata": {
        "id": "ek8QIhYVt9BI"
      },
      "source": [
        "Create a variable with name \"x\" and a value of 10. Execute."
      ]
    },
    {
      "cell_type": "code",
      "execution_count": 1,
      "metadata": {
        "collapsed": true,
        "id": "gwC7J8J4t9BJ"
      },
      "outputs": [],
      "source": [
        "x = 10"
      ]
    },
    {
      "cell_type": "markdown",
      "metadata": {
        "id": "sZ6Hy5p7t9BJ"
      },
      "source": [
        "Tell the computer to show you the value of that variable."
      ]
    },
    {
      "cell_type": "code",
      "execution_count": 2,
      "metadata": {
        "collapsed": true,
        "id": "2iwiVSECt9BK",
        "colab": {
          "base_uri": "https://localhost:8080/"
        },
        "outputId": "3eff6413-eb8e-45c9-dd35-4479cf3636d7"
      },
      "outputs": [
        {
          "output_type": "execute_result",
          "data": {
            "text/plain": [
              "10"
            ]
          },
          "metadata": {},
          "execution_count": 2
        }
      ],
      "source": [
        "x"
      ]
    },
    {
      "cell_type": "markdown",
      "metadata": {
        "id": "b2roZUw4t9BK"
      },
      "source": [
        "Can you think of a second way to obtain the same result?"
      ]
    },
    {
      "cell_type": "code",
      "execution_count": 3,
      "metadata": {
        "collapsed": true,
        "id": "yS6yDsUWt9BK",
        "colab": {
          "base_uri": "https://localhost:8080/"
        },
        "outputId": "fd780c1d-a0a1-4bad-99c3-b003a01d09fd"
      },
      "outputs": [
        {
          "output_type": "stream",
          "name": "stdout",
          "text": [
            "10\n"
          ]
        }
      ],
      "source": [
        "print(x)"
      ]
    },
    {
      "cell_type": "markdown",
      "metadata": {
        "id": "UVW5K9qKt9BL"
      },
      "source": [
        "On the same line, create four new variables: a,b,c, and d, that are equal to 10, 20, 30, and 40, respectively."
      ]
    },
    {
      "cell_type": "code",
      "execution_count": 4,
      "metadata": {
        "collapsed": true,
        "id": "bwNwZiy5t9BM"
      },
      "outputs": [],
      "source": [
        "(a, b, c, d) = (10, 20, 30, 40)"
      ]
    },
    {
      "cell_type": "markdown",
      "metadata": {
        "id": "CTyVB6f5t9BM"
      },
      "source": [
        "Tell the computer to show you the value corresponding to the variable \"b\"."
      ]
    },
    {
      "cell_type": "code",
      "execution_count": 5,
      "metadata": {
        "collapsed": true,
        "id": "1ph468Sst9BM",
        "colab": {
          "base_uri": "https://localhost:8080/"
        },
        "outputId": "6ce242b7-2a71-42c0-9a12-dc76d8d179c0"
      },
      "outputs": [
        {
          "output_type": "execute_result",
          "data": {
            "text/plain": [
              "20"
            ]
          },
          "metadata": {},
          "execution_count": 5
        }
      ],
      "source": [
        "b"
      ]
    },
    {
      "cell_type": "markdown",
      "metadata": {
        "id": "J-wDYSl9t9BM"
      },
      "source": [
        "Do the same for \"d\"."
      ]
    },
    {
      "cell_type": "code",
      "execution_count": 6,
      "metadata": {
        "collapsed": true,
        "id": "pl-sRd3It9BN",
        "colab": {
          "base_uri": "https://localhost:8080/"
        },
        "outputId": "0152424a-bf30-464c-ce94-160b5530fecc"
      },
      "outputs": [
        {
          "output_type": "execute_result",
          "data": {
            "text/plain": [
              "40"
            ]
          },
          "metadata": {},
          "execution_count": 6
        }
      ],
      "source": [
        "d"
      ]
    },
    {
      "cell_type": "code",
      "source": [],
      "metadata": {
        "id": "BVjKlCo7ubVd"
      },
      "execution_count": null,
      "outputs": []
    }
  ]
}