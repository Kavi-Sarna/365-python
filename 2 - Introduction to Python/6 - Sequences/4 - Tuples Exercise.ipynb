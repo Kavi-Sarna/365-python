{
  "cells": [
    {
      "cell_type": "markdown",
      "metadata": {
        "id": "view-in-github",
        "colab_type": "text"
      },
      "source": [
        "<a href=\"https://colab.research.google.com/github/Kavi-Sarna/365-python/blob/main/2%20-%20Introduction%20to%20Python/6%20-%20Sequences/4%20-%20Tuples%20Exercise.ipynb\" target=\"_parent\"><img src=\"https://colab.research.google.com/assets/colab-badge.svg\" alt=\"Open In Colab\"/></a>"
      ]
    },
    {
      "cell_type": "markdown",
      "metadata": {
        "id": "XM9XbcRHJcNE"
      },
      "source": [
        "## Tuples"
      ]
    },
    {
      "cell_type": "markdown",
      "metadata": {
        "collapsed": true,
        "id": "wW_BuHeMJcNI"
      },
      "source": [
        "Create a tuple, called \"Cars\", with elements \"BMW\", \"Dodge\", and \"Ford\"."
      ]
    },
    {
      "cell_type": "code",
      "execution_count": 1,
      "metadata": {
        "collapsed": true,
        "colab": {
          "base_uri": "https://localhost:8080/"
        },
        "id": "1eSUgjKYJcNJ",
        "outputId": "8f244de7-1c96-437e-fec8-2cdf0bbde5a6"
      },
      "outputs": [
        {
          "output_type": "execute_result",
          "data": {
            "text/plain": [
              "('BMW', 'Dodge', 'Ford')"
            ]
          },
          "metadata": {},
          "execution_count": 1
        }
      ],
      "source": [
        "Cars = ('BMW', 'Dodge', 'Ford')\n",
        "Cars"
      ]
    },
    {
      "cell_type": "markdown",
      "metadata": {
        "id": "Bchy3m0YJcNK"
      },
      "source": [
        "Access the second element of this tuple."
      ]
    },
    {
      "cell_type": "code",
      "execution_count": 2,
      "metadata": {
        "collapsed": true,
        "colab": {
          "base_uri": "https://localhost:8080/",
          "height": 35
        },
        "id": "CFxnpAd0JcNK",
        "outputId": "cc8c1f6e-0893-4291-c325-b8c6aa00e70b"
      },
      "outputs": [
        {
          "output_type": "execute_result",
          "data": {
            "text/plain": [
              "'Dodge'"
            ],
            "application/vnd.google.colaboratory.intrinsic+json": {
              "type": "string"
            }
          },
          "metadata": {},
          "execution_count": 2
        }
      ],
      "source": [
        "Cars[1]"
      ]
    },
    {
      "cell_type": "markdown",
      "metadata": {
        "id": "0WTi57HSJcNL"
      },
      "source": [
        "Call a method that would allow you to extract the provided name and age separately. Then print the \"name\" and \"age\" values to see if you worked correctly."
      ]
    },
    {
      "cell_type": "code",
      "execution_count": null,
      "metadata": {
        "id": "SYIrjzT_JcNL"
      },
      "outputs": [],
      "source": [
        "name, age = 'Peter,24'"
      ]
    },
    {
      "cell_type": "code",
      "execution_count": 3,
      "metadata": {
        "collapsed": true,
        "colab": {
          "base_uri": "https://localhost:8080/"
        },
        "id": "8BbAIK-0JcNM",
        "outputId": "61feb73b-8ad4-4046-f64f-111029b86600"
      },
      "outputs": [
        {
          "output_type": "stream",
          "name": "stdout",
          "text": [
            "Peter\n",
            "24\n"
          ]
        }
      ],
      "source": [
        "name, age = 'Peter,24'.split(',')\n",
        "print(name)\n",
        "print(age)"
      ]
    },
    {
      "cell_type": "markdown",
      "metadata": {
        "id": "4W0BVKA8JcNM"
      },
      "source": [
        "Create a function that takes as arguments the two values of a rectangle and then returns the Area and the Perimeter of the rectangle.\n",
        "Call the function with arguments 2 and 10 to verify it worked correctly."
      ]
    },
    {
      "cell_type": "code",
      "execution_count": 4,
      "metadata": {
        "collapsed": true,
        "id": "uD5QIx1BJcNN"
      },
      "outputs": [],
      "source": [
        "def rect_info(l, b):\n",
        "  A = l * b\n",
        "  P = 2 * (l + b)\n",
        "  return A,P"
      ]
    },
    {
      "cell_type": "code",
      "source": [
        "rect_info(2, 10)"
      ],
      "metadata": {
        "colab": {
          "base_uri": "https://localhost:8080/"
        },
        "id": "tBhgevD0LSwh",
        "outputId": "49d2f553-3d99-4d62-b5c7-dd7401ffefb7"
      },
      "execution_count": 6,
      "outputs": [
        {
          "output_type": "execute_result",
          "data": {
            "text/plain": [
              "(20, 24)"
            ]
          },
          "metadata": {},
          "execution_count": 6
        }
      ]
    }
  ],
  "metadata": {
    "anaconda-cloud": {},
    "kernelspec": {
      "display_name": "Python 3",
      "language": "python",
      "name": "python3"
    },
    "language_info": {
      "codemirror_mode": {
        "name": "ipython",
        "version": 3
      },
      "file_extension": ".py",
      "mimetype": "text/x-python",
      "name": "python",
      "nbconvert_exporter": "python",
      "pygments_lexer": "ipython3",
      "version": "3.7.3"
    },
    "colab": {
      "provenance": [],
      "include_colab_link": true
    }
  },
  "nbformat": 4,
  "nbformat_minor": 0
}