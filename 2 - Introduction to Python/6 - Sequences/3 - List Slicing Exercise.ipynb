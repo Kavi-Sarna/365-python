{
  "cells": [
    {
      "cell_type": "markdown",
      "metadata": {
        "id": "view-in-github",
        "colab_type": "text"
      },
      "source": [
        "<a href=\"https://colab.research.google.com/github/Kavi-Sarna/365-python/blob/main/2%20-%20Introduction%20to%20Python/6%20-%20Sequences/3%20-%20List%20Slicing%20Exercise.ipynb\" target=\"_parent\"><img src=\"https://colab.research.google.com/assets/colab-badge.svg\" alt=\"Open In Colab\"/></a>"
      ]
    },
    {
      "cell_type": "markdown",
      "metadata": {
        "id": "IqizAuOh8hJP"
      },
      "source": [
        "## List Slicing"
      ]
    },
    {
      "cell_type": "code",
      "execution_count": 2,
      "metadata": {
        "id": "2AKia-Ai8hJR"
      },
      "outputs": [],
      "source": [
        "Numbers = [15, 40, 50, 100, 115, 140]"
      ]
    },
    {
      "cell_type": "markdown",
      "metadata": {
        "id": "e2yjaEcQ8hJS"
      },
      "source": [
        "Using list slicing, obtain the numbers 100 and 115."
      ]
    },
    {
      "cell_type": "code",
      "execution_count": 4,
      "metadata": {
        "collapsed": true,
        "colab": {
          "base_uri": "https://localhost:8080/"
        },
        "id": "KdZFZCf08hJS",
        "outputId": "b16ae258-0add-449c-c156-027035647f64"
      },
      "outputs": [
        {
          "output_type": "execute_result",
          "data": {
            "text/plain": [
              "[100, 115]"
            ]
          },
          "metadata": {},
          "execution_count": 4
        }
      ],
      "source": [
        "Numbers[3:5]"
      ]
    },
    {
      "cell_type": "markdown",
      "metadata": {
        "id": "qxVXNrV38hJS"
      },
      "source": [
        "Using slicing, extract the first four elements from the list."
      ]
    },
    {
      "cell_type": "code",
      "execution_count": 5,
      "metadata": {
        "collapsed": true,
        "colab": {
          "base_uri": "https://localhost:8080/"
        },
        "id": "nJ0YsM2y8hJT",
        "outputId": "e3cd295b-a7e7-46e3-c168-816e3bab3e08"
      },
      "outputs": [
        {
          "output_type": "execute_result",
          "data": {
            "text/plain": [
              "[15, 40, 50, 100]"
            ]
          },
          "metadata": {},
          "execution_count": 5
        }
      ],
      "source": [
        "Numbers[:4]"
      ]
    },
    {
      "cell_type": "markdown",
      "metadata": {
        "id": "P66_a9Mr8hJT"
      },
      "source": [
        "Using slicing, extract all the elements from the list from the 3rd position onwards."
      ]
    },
    {
      "cell_type": "code",
      "execution_count": 6,
      "metadata": {
        "collapsed": true,
        "colab": {
          "base_uri": "https://localhost:8080/"
        },
        "id": "8J_EJji78hJT",
        "outputId": "9688074c-fbab-4755-8b5f-524e68c45d98"
      },
      "outputs": [
        {
          "output_type": "execute_result",
          "data": {
            "text/plain": [
              "[50, 100, 115, 140]"
            ]
          },
          "metadata": {},
          "execution_count": 6
        }
      ],
      "source": [
        "Numbers[2:]"
      ]
    },
    {
      "cell_type": "markdown",
      "metadata": {
        "id": "jjkYCYxI8hJT"
      },
      "source": [
        "Using slicing, extract the last 4 elements from the list."
      ]
    },
    {
      "cell_type": "code",
      "execution_count": 8,
      "metadata": {
        "collapsed": true,
        "colab": {
          "base_uri": "https://localhost:8080/"
        },
        "id": "NsZ5Ydlm8hJT",
        "outputId": "6594ec0f-30ca-439a-84c6-ac780568c39a"
      },
      "outputs": [
        {
          "output_type": "execute_result",
          "data": {
            "text/plain": [
              "[50, 100, 115, 140]"
            ]
          },
          "metadata": {},
          "execution_count": 8
        }
      ],
      "source": [
        "Numbers[-4:]"
      ]
    },
    {
      "cell_type": "markdown",
      "metadata": {
        "id": "YziHu2d18hJU"
      },
      "source": [
        "Which is the position of the value 15?"
      ]
    },
    {
      "cell_type": "code",
      "execution_count": 9,
      "metadata": {
        "collapsed": true,
        "colab": {
          "base_uri": "https://localhost:8080/"
        },
        "id": "lZRw7_Fs8hJU",
        "outputId": "ed350b3b-6bf3-4d5d-a64f-b0159c0ed492"
      },
      "outputs": [
        {
          "output_type": "execute_result",
          "data": {
            "text/plain": [
              "0"
            ]
          },
          "metadata": {},
          "execution_count": 9
        }
      ],
      "source": [
        "Numbers.index(15)"
      ]
    },
    {
      "cell_type": "markdown",
      "metadata": {
        "id": "N218LxGa8hJU"
      },
      "source": [
        "Create a list, called \"Two_Numbers\". Let its elements be the values 1 and 2. Then, create a new one, named \"All_Numbers\", that will containt both the \"Numbers\" and the \"Two_Numbers\" lists."
      ]
    },
    {
      "cell_type": "code",
      "execution_count": 10,
      "metadata": {
        "collapsed": true,
        "colab": {
          "base_uri": "https://localhost:8080/"
        },
        "id": "CNQlH-Ro8hJU",
        "outputId": "d2c65c95-1907-4749-99c8-91041cea1522"
      },
      "outputs": [
        {
          "output_type": "execute_result",
          "data": {
            "text/plain": [
              "[[15, 40, 50, 100, 115, 140], [1, 2]]"
            ]
          },
          "metadata": {},
          "execution_count": 10
        }
      ],
      "source": [
        "Two_Numbers = [1, 2]\n",
        "Two_Numbers\n",
        "All_Numbers = [Numbers, Two_Numbers]\n",
        "All_Numbers"
      ]
    },
    {
      "cell_type": "markdown",
      "metadata": {
        "id": "fRoQivpU8hJU"
      },
      "source": [
        "Sort all the numbers in the \"Numbers\" list from the largest to the smallest."
      ]
    },
    {
      "cell_type": "code",
      "execution_count": 11,
      "metadata": {
        "collapsed": true,
        "id": "D1TKEw_38hJU"
      },
      "outputs": [],
      "source": [
        "Numbers.sort(reverse=True)"
      ]
    },
    {
      "cell_type": "code",
      "source": [
        "Numbers"
      ],
      "metadata": {
        "colab": {
          "base_uri": "https://localhost:8080/"
        },
        "id": "qIVKNW0SA8f8",
        "outputId": "6de9756e-110e-44f2-ff8d-583b30a22d11"
      },
      "execution_count": 12,
      "outputs": [
        {
          "output_type": "execute_result",
          "data": {
            "text/plain": [
              "[140, 115, 100, 50, 40, 15]"
            ]
          },
          "metadata": {},
          "execution_count": 12
        }
      ]
    }
  ],
  "metadata": {
    "anaconda-cloud": {},
    "kernelspec": {
      "display_name": "Python 3",
      "language": "python",
      "name": "python3"
    },
    "language_info": {
      "codemirror_mode": {
        "name": "ipython",
        "version": 3
      },
      "file_extension": ".py",
      "mimetype": "text/x-python",
      "name": "python",
      "nbconvert_exporter": "python",
      "pygments_lexer": "ipython3",
      "version": "3.6.4"
    },
    "colab": {
      "provenance": [],
      "include_colab_link": true
    }
  },
  "nbformat": 4,
  "nbformat_minor": 0
}