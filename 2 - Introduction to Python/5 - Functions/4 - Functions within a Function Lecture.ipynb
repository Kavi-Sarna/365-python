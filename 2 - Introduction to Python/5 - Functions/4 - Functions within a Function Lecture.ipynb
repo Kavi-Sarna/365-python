{
  "nbformat": 4,
  "nbformat_minor": 0,
  "metadata": {
    "colab": {
      "provenance": [],
      "authorship_tag": "ABX9TyPw9+4g9vLhlBEvjA0y/Cp2",
      "include_colab_link": true
    },
    "kernelspec": {
      "name": "python3",
      "display_name": "Python 3"
    },
    "language_info": {
      "name": "python"
    }
  },
  "cells": [
    {
      "cell_type": "markdown",
      "metadata": {
        "id": "view-in-github",
        "colab_type": "text"
      },
      "source": [
        "<a href=\"https://colab.research.google.com/github/Kavi-Sarna/365-python/blob/main/2%20-%20Introduction%20to%20Python/5%20-%20Functions/4%20-%20Functions%20within%20a%20Function%20Lecture.ipynb\" target=\"_parent\"><img src=\"https://colab.research.google.com/assets/colab-badge.svg\" alt=\"Open In Colab\"/></a>"
      ]
    },
    {
      "cell_type": "code",
      "source": [
        "def wage(w_hours):\n",
        "  return w_hours * 25"
      ],
      "metadata": {
        "id": "hrxgZwVi9XCk"
      },
      "execution_count": 40,
      "outputs": []
    },
    {
      "cell_type": "code",
      "source": [
        "def with_bonus(w_hours):\n",
        "  return wage(w_hours) + 50"
      ],
      "metadata": {
        "id": "VJ_1zw_z9jUx"
      },
      "execution_count": 41,
      "outputs": []
    },
    {
      "cell_type": "code",
      "source": [
        "wage(8), with_bonus(8)"
      ],
      "metadata": {
        "colab": {
          "base_uri": "https://localhost:8080/"
        },
        "id": "Uh2rBGu79zMx",
        "outputId": "9a11d29a-8224-474b-a295-137d1835ba6f"
      },
      "execution_count": 42,
      "outputs": [
        {
          "output_type": "execute_result",
          "data": {
            "text/plain": [
              "(200, 250)"
            ]
          },
          "metadata": {},
          "execution_count": 42
        }
      ]
    }
  ]
}