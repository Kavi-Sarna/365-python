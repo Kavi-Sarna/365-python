{
  "nbformat": 4,
  "nbformat_minor": 0,
  "metadata": {
    "colab": {
      "provenance": [],
      "authorship_tag": "ABX9TyO9KhMqizeD2zV3fAIKQ/Hk",
      "include_colab_link": true
    },
    "kernelspec": {
      "name": "python3",
      "display_name": "Python 3"
    },
    "language_info": {
      "name": "python"
    }
  },
  "cells": [
    {
      "cell_type": "markdown",
      "metadata": {
        "id": "view-in-github",
        "colab_type": "text"
      },
      "source": [
        "<a href=\"https://colab.research.google.com/github/Kavi-Sarna/365-python/blob/main/2%20-%20Introduction%20to%20Python/5%20-%20Functions/6%20-%20Functions%20with%20Multiple%20Arguments%20Lecture.ipynb\" target=\"_parent\"><img src=\"https://colab.research.google.com/assets/colab-badge.svg\" alt=\"Open In Colab\"/></a>"
      ]
    },
    {
      "cell_type": "code",
      "source": [
        "def subtract_bc(a, b, c):\n",
        "  result = a - b * c\n",
        "  print('Parameter a equals:', a)\n",
        "  print('Parameter b equals:', b)\n",
        "  print('Parameter c equals:', c)\n",
        "  return result"
      ],
      "metadata": {
        "id": "OgyqS67KB9H7"
      },
      "execution_count": 4,
      "outputs": []
    },
    {
      "cell_type": "code",
      "source": [
        "subtract_bc(10, 3, 2)"
      ],
      "metadata": {
        "colab": {
          "base_uri": "https://localhost:8080/"
        },
        "id": "8Qj-C9bxCajx",
        "outputId": "bfa9756a-05bb-4971-f5f0-8a68df530740"
      },
      "execution_count": 5,
      "outputs": [
        {
          "output_type": "stream",
          "name": "stdout",
          "text": [
            "Parameter a equals: 10\n",
            "Parameter b equals: 3\n",
            "Parameter c equals: 2\n"
          ]
        },
        {
          "output_type": "execute_result",
          "data": {
            "text/plain": [
              "4"
            ]
          },
          "metadata": {},
          "execution_count": 5
        }
      ]
    },
    {
      "cell_type": "code",
      "source": [
        "subtract_bc(b=3, a=10, c=2)"
      ],
      "metadata": {
        "colab": {
          "base_uri": "https://localhost:8080/"
        },
        "id": "YBQeWwr3CdeW",
        "outputId": "e02dae0f-aad1-4b72-a9cf-a7ff40eefff6"
      },
      "execution_count": 6,
      "outputs": [
        {
          "output_type": "stream",
          "name": "stdout",
          "text": [
            "Parameter a equals: 10\n",
            "Parameter b equals: 3\n",
            "Parameter c equals: 2\n"
          ]
        },
        {
          "output_type": "execute_result",
          "data": {
            "text/plain": [
              "4"
            ]
          },
          "metadata": {},
          "execution_count": 6
        }
      ]
    }
  ]
}