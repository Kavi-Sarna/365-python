{
  "cells": [
    {
      "cell_type": "markdown",
      "metadata": {
        "id": "view-in-github",
        "colab_type": "text"
      },
      "source": [
        "<a href=\"https://colab.research.google.com/github/Kavi-Sarna/365-python/blob/main/2%20-%20Introduction%20to%20Python/5%20-%20Functions/2%20-%20Functions%20with%20Parameters%20Exercise.ipynb\" target=\"_parent\"><img src=\"https://colab.research.google.com/assets/colab-badge.svg\" alt=\"Open In Colab\"/></a>"
      ]
    },
    {
      "cell_type": "markdown",
      "metadata": {
        "id": "k4KFz7Tp0c-b"
      },
      "source": [
        "## Creating a Function with a Parameter"
      ]
    },
    {
      "cell_type": "markdown",
      "metadata": {
        "id": "-RdVToIy0c-g"
      },
      "source": [
        "Define a function that returns a value equal to its argument multiplied by 2."
      ]
    },
    {
      "cell_type": "code",
      "execution_count": 1,
      "metadata": {
        "collapsed": true,
        "colab": {
          "base_uri": "https://localhost:8080/"
        },
        "id": "ZY8eILAK0c-h",
        "outputId": "57e7ae74-c8b9-410f-ac08-f8e6c2713cb0"
      },
      "outputs": [
        {
          "output_type": "stream",
          "name": "stdout",
          "text": [
            "4\n",
            "10\n"
          ]
        }
      ],
      "source": [
        "def multiply_by_two(a):\n",
        "  return a * 2\n",
        "\n",
        "print(multiply_by_two(2))\n",
        "print(multiply_by_two(5))"
      ]
    },
    {
      "cell_type": "markdown",
      "metadata": {
        "id": "yD3KSrsS0c-i"
      },
      "source": [
        "Define a funciton that returns a float value equal to its argument divided by 2."
      ]
    },
    {
      "cell_type": "code",
      "execution_count": 3,
      "metadata": {
        "collapsed": true,
        "colab": {
          "base_uri": "https://localhost:8080/"
        },
        "id": "qgAiqtLK0c-i",
        "outputId": "6630e3e7-cfe5-4c46-9f13-f879bedeb1a1"
      },
      "outputs": [
        {
          "output_type": "stream",
          "name": "stdout",
          "text": [
            "2.5\n",
            "6.0\n"
          ]
        }
      ],
      "source": [
        "def divide_by_two(a):\n",
        "  return a / 2.0\n",
        "\n",
        "print(divide_by_two(5))\n",
        "print(divide_by_two(12))"
      ]
    }
  ],
  "metadata": {
    "anaconda-cloud": {},
    "kernelspec": {
      "display_name": "Python 3 (ipykernel)",
      "language": "python",
      "name": "python3"
    },
    "language_info": {
      "codemirror_mode": {
        "name": "ipython",
        "version": 3
      },
      "file_extension": ".py",
      "mimetype": "text/x-python",
      "name": "python",
      "nbconvert_exporter": "python",
      "pygments_lexer": "ipython3",
      "version": "3.9.12"
    },
    "colab": {
      "provenance": [],
      "include_colab_link": true
    }
  },
  "nbformat": 4,
  "nbformat_minor": 0
}