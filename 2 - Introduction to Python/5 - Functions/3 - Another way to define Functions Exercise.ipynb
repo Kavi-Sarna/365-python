{
  "cells": [
    {
      "cell_type": "markdown",
      "metadata": {
        "id": "view-in-github",
        "colab_type": "text"
      },
      "source": [
        "<a href=\"https://colab.research.google.com/github/Kavi-Sarna/365-python/blob/main/2%20-%20Introduction%20to%20Python/5%20-%20Functions/3%20-%20Another%20way%20to%20define%20Functions%20Exercise.ipynb\" target=\"_parent\"><img src=\"https://colab.research.google.com/assets/colab-badge.svg\" alt=\"Open In Colab\"/></a>"
      ]
    },
    {
      "cell_type": "markdown",
      "metadata": {
        "id": "X7DE7gMi4KEo"
      },
      "source": [
        "## Another Way to Define a Function"
      ]
    },
    {
      "cell_type": "markdown",
      "metadata": {
        "id": "GAA7ZBdK4KEs"
      },
      "source": [
        "Define a function that states the value of the argument accompanied by the phrase \"Raised to the power of 2:\" and returns a value equal to its argument raised to the power of 2. This time, use a new variable, called \"result\", in the body of the Function.\n",
        "Call the function with some argument to verify it works properly.\n",
        "\n",
        "*Hint: Your knowledge about stating multiple elements on a line can be of great help in solving this exercise!*"
      ]
    },
    {
      "cell_type": "code",
      "execution_count": 1,
      "metadata": {
        "collapsed": true,
        "id": "0xkKmC_y4KEt"
      },
      "outputs": [],
      "source": [
        "def square(a):\n",
        "  result = a ** 2\n",
        "  print(a, 'Raised to the power of 2:', result)"
      ]
    },
    {
      "cell_type": "code",
      "source": [
        "square(2)"
      ],
      "metadata": {
        "colab": {
          "base_uri": "https://localhost:8080/"
        },
        "id": "0hUOYySO5cbB",
        "outputId": "508724be-a0dd-414d-fa23-6bd1523ca8ce"
      },
      "execution_count": 2,
      "outputs": [
        {
          "output_type": "stream",
          "name": "stdout",
          "text": [
            "2 Raised to the power of 2: 4\n"
          ]
        }
      ]
    },
    {
      "cell_type": "code",
      "source": [
        "square(5)"
      ],
      "metadata": {
        "colab": {
          "base_uri": "https://localhost:8080/"
        },
        "id": "ZecIVB0p5eMP",
        "outputId": "89f44cd9-0038-44bc-aa4e-1d17f987ba92"
      },
      "execution_count": 3,
      "outputs": [
        {
          "output_type": "stream",
          "name": "stdout",
          "text": [
            "5 Raised to the power of 2: 25\n"
          ]
        }
      ]
    }
  ],
  "metadata": {
    "anaconda-cloud": {},
    "kernelspec": {
      "display_name": "Python 3",
      "language": "python",
      "name": "python3"
    },
    "language_info": {
      "codemirror_mode": {
        "name": "ipython",
        "version": 3
      },
      "file_extension": ".py",
      "mimetype": "text/x-python",
      "name": "python",
      "nbconvert_exporter": "python",
      "pygments_lexer": "ipython3",
      "version": "3.6.4"
    },
    "colab": {
      "provenance": [],
      "include_colab_link": true
    }
  },
  "nbformat": 4,
  "nbformat_minor": 0
}