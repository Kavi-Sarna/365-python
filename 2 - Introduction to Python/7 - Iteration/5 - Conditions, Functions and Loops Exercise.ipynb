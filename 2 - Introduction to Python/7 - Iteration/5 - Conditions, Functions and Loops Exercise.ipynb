{
  "cells": [
    {
      "cell_type": "markdown",
      "metadata": {
        "id": "view-in-github",
        "colab_type": "text"
      },
      "source": [
        "<a href=\"https://colab.research.google.com/github/Kavi-Sarna/365-python/blob/main/2%20-%20Introduction%20to%20Python/7%20-%20Iteration/5%20-%20Conditions%2C%20Functions%20and%20Loops%20Exercise.ipynb\" target=\"_parent\"><img src=\"https://colab.research.google.com/assets/colab-badge.svg\" alt=\"Open In Colab\"/></a>"
      ]
    },
    {
      "cell_type": "markdown",
      "metadata": {
        "id": "V8OuShwXlAib"
      },
      "source": [
        "## All in - Conditional Statements, Functions, and Loops"
      ]
    },
    {
      "cell_type": "markdown",
      "metadata": {
        "id": "PN60YUE3lAif"
      },
      "source": [
        "You are provided with the 'nums' list. Complete the code in the cell that follows. Use a while loop to count the number of values lower than 20.\n",
        "*Hint: This exercise is similar to what we did in the video lecture. You might prefer using the x[item] structure for indicating the value of an element from the list.*"
      ]
    },
    {
      "cell_type": "code",
      "execution_count": 8,
      "metadata": {
        "collapsed": true,
        "id": "yjNyOGnrlAih"
      },
      "outputs": [],
      "source": [
        "nums = [1,12,24,31,51,70,100]"
      ]
    },
    {
      "cell_type": "code",
      "execution_count": 13,
      "metadata": {
        "collapsed": true,
        "id": "ecOBZFU_lAik"
      },
      "outputs": [],
      "source": [
        "def count(numbers):\n",
        "  total = 0\n",
        "  x = 0\n",
        "  while x < len(numbers):\n",
        "    if numbers[x] < 20:\n",
        "      total += 1\n",
        "    x += 1\n",
        "  return total"
      ]
    },
    {
      "cell_type": "code",
      "source": [
        "count(nums)"
      ],
      "metadata": {
        "id": "07hwthItmbyt",
        "colab": {
          "base_uri": "https://localhost:8080/"
        },
        "outputId": "2c61f35d-e729-47a4-f273-43e9c84c6ee2"
      },
      "execution_count": 14,
      "outputs": [
        {
          "output_type": "execute_result",
          "data": {
            "text/plain": [
              "2"
            ]
          },
          "metadata": {},
          "execution_count": 14
        }
      ]
    },
    {
      "cell_type": "code",
      "source": [
        "def count(numbers):\n",
        "  numbers = sorted(numbers)\n",
        "  total = 0\n",
        "\n",
        "  while numbers[total] < 20:\n",
        "    total += 1\n",
        "\n",
        "  return total"
      ],
      "metadata": {
        "id": "6EEjfE4pmdkv"
      },
      "execution_count": 15,
      "outputs": []
    },
    {
      "cell_type": "code",
      "source": [
        "count(nums)"
      ],
      "metadata": {
        "colab": {
          "base_uri": "https://localhost:8080/"
        },
        "id": "rA9jiPFco-Nx",
        "outputId": "b5d954c9-464e-44f0-d45a-8f0dcafa968b"
      },
      "execution_count": 16,
      "outputs": [
        {
          "output_type": "execute_result",
          "data": {
            "text/plain": [
              "2"
            ]
          },
          "metadata": {},
          "execution_count": 16
        }
      ]
    }
  ],
  "metadata": {
    "anaconda-cloud": {},
    "kernelspec": {
      "display_name": "Python 3",
      "language": "python",
      "name": "python3"
    },
    "language_info": {
      "codemirror_mode": {
        "name": "ipython",
        "version": 2
      },
      "file_extension": ".py",
      "mimetype": "text/x-python",
      "name": "python",
      "nbconvert_exporter": "python",
      "pygments_lexer": "ipython2",
      "version": "2.7.13"
    },
    "colab": {
      "provenance": [],
      "include_colab_link": true
    }
  },
  "nbformat": 4,
  "nbformat_minor": 0
}