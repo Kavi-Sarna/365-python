{
  "cells": [
    {
      "cell_type": "markdown",
      "metadata": {
        "id": "view-in-github",
        "colab_type": "text"
      },
      "source": [
        "<a href=\"https://colab.research.google.com/github/Kavi-Sarna/365-python/blob/main/2%20-%20Introduction%20to%20Python/2%20-%20Basic%20Python%20Syntax/7%20-%20Indentation%20Exercise.ipynb\" target=\"_parent\"><img src=\"https://colab.research.google.com/assets/colab-badge.svg\" alt=\"Open In Colab\"/></a>"
      ]
    },
    {
      "cell_type": "markdown",
      "metadata": {
        "id": "2tjMVoLLTbJi"
      },
      "source": [
        "## Structure Your Code with Indentation"
      ]
    },
    {
      "cell_type": "markdown",
      "metadata": {
        "id": "AwPok9OfTbJo"
      },
      "source": [
        "Use indentation properly to print the result of the function with an argument of 3."
      ]
    },
    {
      "cell_type": "code",
      "execution_count": 2,
      "metadata": {
        "colab": {
          "base_uri": "https://localhost:8080/"
        },
        "id": "JN65O3bDTbJp",
        "outputId": "3a8ef555-3f20-4e66-b4f9-dbe111b81ac5"
      },
      "outputs": [
        {
          "output_type": "stream",
          "name": "stdout",
          "text": [
            "10\n"
          ]
        }
      ],
      "source": [
        "def ten(x):\n",
        "    x = 10\n",
        "    return x\n",
        "\n",
        "print (ten(3))"
      ]
    },
    {
      "cell_type": "code",
      "execution_count": 3,
      "metadata": {
        "colab": {
          "base_uri": "https://localhost:8080/"
        },
        "id": "UcVjMjeiTbJr",
        "outputId": "688f2289-2170-4742-c093-a30f25159779"
      },
      "outputs": [
        {
          "output_type": "stream",
          "name": "stdout",
          "text": [
            "3\n"
          ]
        }
      ],
      "source": [
        "def ten(x):\n",
        "    x = 10\n",
        "    return x\n",
        "print (3)"
      ]
    },
    {
      "cell_type": "code",
      "execution_count": 4,
      "metadata": {
        "id": "kK0Q38orTbJs"
      },
      "outputs": [],
      "source": [
        "def ten(x):\n",
        "    x = 10\n",
        "    return x\n",
        "    print (ten(3))"
      ]
    },
    {
      "cell_type": "code",
      "execution_count": 5,
      "metadata": {
        "id": "1L9F7d_zTbJt"
      },
      "outputs": [],
      "source": [
        "def ten(x):\n",
        "    x = 10\n",
        "    return x\n",
        "    print (ten(3))"
      ]
    },
    {
      "cell_type": "code",
      "execution_count": 6,
      "metadata": {
        "colab": {
          "base_uri": "https://localhost:8080/"
        },
        "id": "1uFWMYXATbJu",
        "outputId": "df7d7258-61e4-4d6c-d844-1dcbbdd4fc82"
      },
      "outputs": [
        {
          "output_type": "stream",
          "name": "stdout",
          "text": [
            "10\n"
          ]
        }
      ],
      "source": [
        "def ten(x):\n",
        "    x = 10\n",
        "    return x\n",
        "\n",
        "print (ten(3))"
      ]
    },
    {
      "cell_type": "code",
      "execution_count": 7,
      "metadata": {
        "colab": {
          "base_uri": "https://localhost:8080/"
        },
        "id": "0WW3IBwzTbJv",
        "outputId": "39724255-7f56-494f-e8b7-06d0bb2a76c9"
      },
      "outputs": [
        {
          "output_type": "stream",
          "name": "stdout",
          "text": [
            "3\n"
          ]
        }
      ],
      "source": [
        "def ten(x):\n",
        "    x = 3\n",
        "    return x\n",
        "\n",
        "print (ten(3))"
      ]
    },
    {
      "cell_type": "code",
      "execution_count": 8,
      "metadata": {
        "colab": {
          "base_uri": "https://localhost:8080/"
        },
        "id": "RJFjWxz7TbJv",
        "outputId": "0eaaa20c-4d7d-4bef-d3e7-c409faefa44b"
      },
      "outputs": [
        {
          "output_type": "stream",
          "name": "stdout",
          "text": [
            "10\n"
          ]
        }
      ],
      "source": [
        "def ten(x):\n",
        "    x = 10\n",
        "    return x\n",
        "print (ten(x=3))"
      ]
    }
  ],
  "metadata": {
    "anaconda-cloud": {},
    "kernelspec": {
      "display_name": "Python 3",
      "language": "python",
      "name": "python3"
    },
    "language_info": {
      "codemirror_mode": {
        "name": "ipython",
        "version": 3
      },
      "file_extension": ".py",
      "mimetype": "text/x-python",
      "name": "python",
      "nbconvert_exporter": "python",
      "pygments_lexer": "ipython3",
      "version": "3.7.6"
    },
    "colab": {
      "provenance": [],
      "include_colab_link": true
    }
  },
  "nbformat": 4,
  "nbformat_minor": 0
}