{
  "nbformat": 4,
  "nbformat_minor": 0,
  "metadata": {
    "colab": {
      "provenance": [],
      "authorship_tag": "ABX9TyOJTykF+X05Aw9a1eMUoIQe",
      "include_colab_link": true
    },
    "kernelspec": {
      "name": "python3",
      "display_name": "Python 3"
    },
    "language_info": {
      "name": "python"
    }
  },
  "cells": [
    {
      "cell_type": "markdown",
      "metadata": {
        "id": "view-in-github",
        "colab_type": "text"
      },
      "source": [
        "<a href=\"https://colab.research.google.com/github/Kavi-Sarna/365-python/blob/main/2%20-%20Introduction%20to%20Python/2%20-%20Basic%20Python%20Syntax/7%20-%20Indentation%20Lecture.ipynb\" target=\"_parent\"><img src=\"https://colab.research.google.com/assets/colab-badge.svg\" alt=\"Open In Colab\"/></a>"
      ]
    },
    {
      "cell_type": "code",
      "execution_count": 1,
      "metadata": {
        "id": "DHuKm0daSjd5"
      },
      "outputs": [],
      "source": [
        "def five(x):\n",
        "  x = 5\n",
        "  return x"
      ]
    },
    {
      "cell_type": "code",
      "source": [
        "def five(x):\n",
        "  x = 5\n",
        "  return x\n",
        "  print(five(3))"
      ],
      "metadata": {
        "id": "aw1-ZsuiSwSG"
      },
      "execution_count": 2,
      "outputs": []
    },
    {
      "cell_type": "code",
      "source": [
        "def five(x):\n",
        "  x = 5\n",
        "  return x\n",
        "\n",
        "print(five(3))"
      ],
      "metadata": {
        "colab": {
          "base_uri": "https://localhost:8080/"
        },
        "id": "9Cfdv-A1S7xi",
        "outputId": "152e921e-0185-4627-bf46-3cf431cae63e"
      },
      "execution_count": 3,
      "outputs": [
        {
          "output_type": "stream",
          "name": "stdout",
          "text": [
            "5\n"
          ]
        }
      ]
    }
  ]
}