{
  "cells": [
    {
      "cell_type": "markdown",
      "metadata": {
        "id": "view-in-github",
        "colab_type": "text"
      },
      "source": [
        "<a href=\"https://colab.research.google.com/github/Kavi-Sarna/365-python/blob/main/3%20-%20Python%20Programmer%20Bootcamp/11%20-%20Search%20and%20Sort/3%20-%20Bubble%20Sort.ipynb\" target=\"_parent\"><img src=\"https://colab.research.google.com/assets/colab-badge.svg\" alt=\"Open In Colab\"/></a>"
      ]
    },
    {
      "cell_type": "code",
      "source": [
        "def bubble_sort_for(items):\n",
        "  for i in range(len(items)):\n",
        "    for j in range(0, len(items)-i-1):\n",
        "      if items[j] > items[j+1]:\n",
        "        items[j], items[j+1] = items[j+1], items[j]\n",
        "\n",
        "  return items"
      ],
      "metadata": {
        "id": "5cZjm1uzndjj"
      },
      "execution_count": 1,
      "outputs": []
    },
    {
      "cell_type": "code",
      "source": [
        "items = [53, 76, 25, 98, 56, 42, 69, 81]\n",
        "print(bubble_sort_for(items))"
      ],
      "metadata": {
        "colab": {
          "base_uri": "https://localhost:8080/"
        },
        "id": "J2x3fyALpO9Q",
        "outputId": "7b664790-11b1-44fe-bc7a-c4c61a20624e"
      },
      "execution_count": 2,
      "outputs": [
        {
          "output_type": "stream",
          "name": "stdout",
          "text": [
            "[25, 42, 53, 56, 69, 76, 81, 98]\n"
          ]
        }
      ]
    },
    {
      "cell_type": "code",
      "source": [],
      "metadata": {
        "id": "Z2NAwfj_pZJ-"
      },
      "execution_count": 2,
      "outputs": []
    },
    {
      "cell_type": "code",
      "source": [
        "def bubble_sort_while(items):\n",
        "  swap_again = True\n",
        "  n = len(items)\n",
        "\n",
        "  while n > 0 and swap_again == True:\n",
        "    n = n - 1\n",
        "    swap_again == False\n",
        "\n",
        "    for i in range(n):\n",
        "      if items[i] > items[i+1]:\n",
        "        items[i], items[i+1] = items[i+1], items[i]\n",
        "        swap_again = True\n",
        "\n",
        "  return items"
      ],
      "metadata": {
        "id": "aDAutIJGpe9c"
      },
      "execution_count": 3,
      "outputs": []
    },
    {
      "cell_type": "code",
      "source": [
        "items = [53, 76, 25, 98, 56, 42, 69, 81]\n",
        "print(bubble_sort_while(items))"
      ],
      "metadata": {
        "colab": {
          "base_uri": "https://localhost:8080/"
        },
        "id": "zsJSMbVVp65e",
        "outputId": "35cce6b1-6e5e-496e-de9e-8f803b221a53"
      },
      "execution_count": 4,
      "outputs": [
        {
          "output_type": "stream",
          "name": "stdout",
          "text": [
            "[25, 42, 53, 56, 69, 76, 81, 98]\n"
          ]
        }
      ]
    }
  ],
  "metadata": {
    "colab": {
      "provenance": [],
      "authorship_tag": "ABX9TyMovSZN+thBOya7Y52gvms5",
      "include_colab_link": true
    },
    "kernelspec": {
      "display_name": "Python 3",
      "name": "python3"
    },
    "language_info": {
      "name": "python"
    }
  },
  "nbformat": 4,
  "nbformat_minor": 0
}