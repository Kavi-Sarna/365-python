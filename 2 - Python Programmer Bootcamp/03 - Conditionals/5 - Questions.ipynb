{
  "cells": [
    {
      "cell_type": "markdown",
      "metadata": {
        "id": "view-in-github",
        "colab_type": "text"
      },
      "source": [
        "<a href=\"https://colab.research.google.com/github/Kavi-Sarna/365-python/blob/main/3%20-%20Python%20Programmer%20Bootcamp/3%20-%20Conditionals/5%20-%20Questions.ipynb\" target=\"_parent\"><img src=\"https://colab.research.google.com/assets/colab-badge.svg\" alt=\"Open In Colab\"/></a>"
      ]
    },
    {
      "cell_type": "markdown",
      "source": [
        "Question 1\n",
        "\n",
        "Write code that asks the user to input a number between 1 and 5 inclusive.\n",
        "\n",
        "The code will take the integer value and print out the string value.\n",
        "\n",
        "So for example if the user inputs 2 the code will print two.\n",
        "\n",
        "Reject any input that is not a number in that range"
      ],
      "metadata": {
        "id": "e5Ypp2ppjJxc"
      }
    },
    {
      "cell_type": "code",
      "source": [
        "user_input = int(input('Enter a number between 1 and 5 inclusive: '))\n",
        "\n",
        "if user_input == 1:\n",
        "  print('One')\n",
        "elif user_input == 2:\n",
        "  print('Two')\n",
        "elif user_input == 3:\n",
        "  print('Three')\n",
        "elif user_input == 4:\n",
        "  print('Four')\n",
        "elif user_input == 5:\n",
        "  print('Five')\n",
        "else:\n",
        "  print('Number is out of range')"
      ],
      "metadata": {
        "colab": {
          "base_uri": "https://localhost:8080/"
        },
        "id": "EJ4f-vofjK-C",
        "outputId": "c5e9c108-9b29-46fd-a5af-8e5a62f66bff"
      },
      "execution_count": 49,
      "outputs": [
        {
          "output_type": "stream",
          "name": "stdout",
          "text": [
            "Enter a number between 1 and 5 inclusive: 4\n",
            "Four\n"
          ]
        }
      ]
    },
    {
      "cell_type": "markdown",
      "source": [
        "Question 2\n",
        "\n",
        "Repeat the previous task but this time the user will input a string and the\n",
        "code will ouput the integer value.\n",
        "\n",
        "Convert the string to lowercase first."
      ],
      "metadata": {
        "id": "LLX9nRPykVhu"
      }
    },
    {
      "cell_type": "code",
      "source": [
        "user_input = input('Enter a number between One and Five inclusive as a string: ')\n",
        "\n",
        "user_input = user_input.lower()\n",
        "\n",
        "if user_input == 'one':\n",
        "  print(1)\n",
        "elif user_input == 'two':\n",
        "  print(2)\n",
        "elif user_input == 'three':\n",
        "  print(3)\n",
        "elif user_input == 'four':\n",
        "  print(4)\n",
        "elif user_input == 'five':\n",
        "  print(5)\n",
        "else:\n",
        "  print('Out of Range')"
      ],
      "metadata": {
        "colab": {
          "base_uri": "https://localhost:8080/"
        },
        "id": "HkuoHlnQkM6W",
        "outputId": "cbcd0dad-e853-43b1-a585-1b294470cccd"
      },
      "execution_count": 53,
      "outputs": [
        {
          "output_type": "stream",
          "name": "stdout",
          "text": [
            "Enter a number between One and Five inclusive as a string: FiVe\n",
            "5\n"
          ]
        }
      ]
    },
    {
      "cell_type": "markdown",
      "source": [
        "Question 3\n",
        "\n",
        "Create a variable containing an integer between 1 and 10 inclusive.\n",
        "\n",
        "Ask the user to guess the number.\n",
        "\n",
        "If they guess too high or too low, tell them they have not won.\n",
        "\n",
        "Tell them they win if they guess the correct number."
      ],
      "metadata": {
        "id": "J5cn5nV9lOeg"
      }
    },
    {
      "cell_type": "code",
      "source": [
        "var = 6\n",
        "\n",
        "user_input = int(input('Guess the number: '))\n",
        "\n",
        "if user_input > var:\n",
        "  print('Too high')\n",
        "elif user_input < var:\n",
        "  print('Too low')\n",
        "else:\n",
        "  print('Correct Number')"
      ],
      "metadata": {
        "colab": {
          "base_uri": "https://localhost:8080/"
        },
        "id": "62NfuzeVlAFE",
        "outputId": "e9d8d419-6d15-41b1-d284-c1f6b55bb513"
      },
      "execution_count": 58,
      "outputs": [
        {
          "output_type": "stream",
          "name": "stdout",
          "text": [
            "Guess the number: 5\n",
            "Too low\n"
          ]
        }
      ]
    },
    {
      "cell_type": "code",
      "source": [
        "secret_number = 3\n",
        "guess = input('Guess the number between 1-10: ')\n",
        "\n",
        "if guess.isdigit():\n",
        "  guess = int(guess)\n",
        "  if guess == secret_number:\n",
        "    print(\"You have guessed the correct number! You win!\")\n",
        "  elif guess < secret_number and guess >= 1:\n",
        "    print(\"You guessed too low. Sorry you lose!\")\n",
        "  elif guess > secret_number and guess <= 10:\n",
        "    print(\"You guessed too high. Sorry you lose!\")\n",
        "  else:\n",
        "    print(\"Out of Range\")\n",
        "else:\n",
        "  print(\"That's not a number!\")"
      ],
      "metadata": {
        "colab": {
          "base_uri": "https://localhost:8080/"
        },
        "id": "LwdGtsaVl8ov",
        "outputId": "52de9d57-80e5-4a7b-dedb-66c1ff26789a"
      },
      "execution_count": 63,
      "outputs": [
        {
          "output_type": "stream",
          "name": "stdout",
          "text": [
            "Guess the number between 1-10: 3\n",
            "You have guessed the correct number! You win!\n"
          ]
        }
      ]
    },
    {
      "cell_type": "markdown",
      "source": [
        "Question 4\n",
        "\n",
        "Ask the user to input their name.\n",
        "Check the length of the name.\n",
        "If it is greater than 5 characters long, write a message telling them how many characters otherwise write a message saying the length of their name is a secret"
      ],
      "metadata": {
        "id": "UpqUjCCjnRsd"
      }
    },
    {
      "cell_type": "code",
      "source": [
        "name = input('Enter your name \\n')\n",
        "length = len(name)\n",
        "\n",
        "if length > 5:\n",
        "  print(\"Your name contains\", length, \"characters.\")\n",
        "else:\n",
        "  print(\"Length of your name is a secret.\")"
      ],
      "metadata": {
        "colab": {
          "base_uri": "https://localhost:8080/"
        },
        "id": "U5T8amtWnKG-",
        "outputId": "1b3bd49a-2680-4f59-c78b-1bc990c38dde"
      },
      "execution_count": 68,
      "outputs": [
        {
          "output_type": "stream",
          "name": "stdout",
          "text": [
            "Enter your name \n",
            "Kavi\n",
            "Length of your name is a secret.\n"
          ]
        }
      ]
    },
    {
      "cell_type": "markdown",
      "source": [
        "Question 5\n",
        "\n",
        "Ask the user for two integers between 1 and 20.\n",
        "\n",
        "If they are both greater than 15 return their product.\n",
        "\n",
        "If only one is greater than 15 return their sum,\n",
        "\n",
        "if neither are greater than 15 return zero."
      ],
      "metadata": {
        "id": "UGjNYH6WoLcA"
      }
    },
    {
      "cell_type": "code",
      "source": [
        "num_1 =  int(input('Enter the first integer between 1 and 20: '))\n",
        "num_2 =  int(input('Enter the second integer between 1 and 20: '))\n",
        "\n",
        "if num_1 > 15 and num_2 > 15:\n",
        "  print(num_1 * num_2)\n",
        "elif num_1 > 15 or num_2 > 15:\n",
        "  print(num_1 + num_2)\n",
        "else:\n",
        "  print('zero')"
      ],
      "metadata": {
        "colab": {
          "base_uri": "https://localhost:8080/"
        },
        "id": "JfqhNx2-njYm",
        "outputId": "bb7f960d-efe5-483d-ef1b-0f84a40c153f"
      },
      "execution_count": 71,
      "outputs": [
        {
          "output_type": "stream",
          "name": "stdout",
          "text": [
            "Enter the first integer between 1 and 20: 12\n",
            "Enter the second integer between 1 and 20: 1\n",
            "zero\n"
          ]
        }
      ]
    },
    {
      "cell_type": "markdown",
      "source": [
        "Question 6\n",
        "\n",
        "Ask the user for two integers, then swap the contents of the variables.\n",
        "\n",
        "So if var_1 = 1 and var_2 = 2 initially, once the code has run var_1 should equal 2 and var_2 should equal 1."
      ],
      "metadata": {
        "id": "n8tOErm-pRYU"
      }
    },
    {
      "cell_type": "code",
      "source": [
        "num_1 =  int(input('Enter the first integer between 1 and 20: '))\n",
        "num_2 =  int(input('Enter the second integer between 1 and 20: '))\n",
        "\n",
        "print(\"Before swapping: \\nnum_1 =\", num_1, \"\\nnum_2 =\", num_2)\n",
        "num_1, num_2 = num_2, num_1\n",
        "\n",
        "print(\"After swapping: \\nnum_1 =\", num_1, \"\\nnum_2 =\", num_2)"
      ],
      "metadata": {
        "colab": {
          "base_uri": "https://localhost:8080/"
        },
        "id": "SZzqF6V4pFAA",
        "outputId": "d2a989a5-00b1-44c6-ac99-506ec842698d"
      },
      "execution_count": 73,
      "outputs": [
        {
          "output_type": "stream",
          "name": "stdout",
          "text": [
            "Enter the first integer between 1 and 20: 23\n",
            "Enter the second integer between 1 and 20: 12\n",
            "Before swapping: \n",
            "num_1 = 23 \n",
            "num_2 = 12\n",
            "After swapping: \n",
            "num_1 = 12 \n",
            "num_2 = 23\n"
          ]
        }
      ]
    }
  ],
  "metadata": {
    "colab": {
      "provenance": [],
      "authorship_tag": "ABX9TyP2Fkj3dBSipb0skZmBsUyg",
      "include_colab_link": true
    },
    "kernelspec": {
      "display_name": "Python 3",
      "name": "python3"
    },
    "language_info": {
      "name": "python"
    }
  },
  "nbformat": 4,
  "nbformat_minor": 0
}