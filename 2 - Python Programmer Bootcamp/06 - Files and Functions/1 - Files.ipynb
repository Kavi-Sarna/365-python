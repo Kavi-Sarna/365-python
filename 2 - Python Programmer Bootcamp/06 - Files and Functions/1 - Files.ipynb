{
  "cells": [
    {
      "cell_type": "markdown",
      "metadata": {
        "id": "view-in-github",
        "colab_type": "text"
      },
      "source": [
        "<a href=\"https://colab.research.google.com/github/Kavi-Sarna/365-python/blob/main/3%20-%20Python%20Programmer%20Bootcamp/6%20-%20Files%20and%20Functions/1%20-%20Files.ipynb\" target=\"_parent\"><img src=\"https://colab.research.google.com/assets/colab-badge.svg\" alt=\"Open In Colab\"/></a>"
      ]
    },
    {
      "cell_type": "markdown",
      "source": [
        "Files"
      ],
      "metadata": {
        "id": "u_tEpSxFd-OT"
      }
    },
    {
      "cell_type": "code",
      "source": [
        "f = open('kipling.txt', 'w')"
      ],
      "metadata": {
        "id": "gTYnb4FBkBay"
      },
      "execution_count": 2,
      "outputs": []
    },
    {
      "cell_type": "code",
      "source": [
        "print(type(f))"
      ],
      "metadata": {
        "colab": {
          "base_uri": "https://localhost:8080/"
        },
        "id": "zqagAcdTkH3P",
        "outputId": "aab5c12e-6cf4-414d-9269-22d9a2d71376"
      },
      "execution_count": 3,
      "outputs": [
        {
          "output_type": "stream",
          "name": "stdout",
          "text": [
            "<class '_io.TextIOWrapper'>\n"
          ]
        }
      ]
    },
    {
      "cell_type": "code",
      "source": [
        "f.write('If you can keep your head while all about you \\nare losing theirs and blaming it on you,\\n')\n",
        "\n",
        "f.write('If you can trust yourself when all men doubt you,\\n But make allowance for their doubting too;\\n')\n",
        "\n",
        "f.write('If you can wait and not be tired by waiting,\\n Or being lied about, don\\'t deal in lies,\\n')\n",
        "\n",
        "f.write('Or being hated, don\\'t give way to hating,\\n And yet don\\'t look too good, nor talk too wise:\\n')"
      ],
      "metadata": {
        "colab": {
          "base_uri": "https://localhost:8080/"
        },
        "id": "XjIjXbrMkNcz",
        "outputId": "3b2a8c0c-b749-47ff-dbb4-4fc646aa71ac"
      },
      "execution_count": 4,
      "outputs": [
        {
          "output_type": "execute_result",
          "data": {
            "text/plain": [
              "91"
            ]
          },
          "metadata": {},
          "execution_count": 4
        }
      ]
    },
    {
      "cell_type": "code",
      "source": [
        "f.close()"
      ],
      "metadata": {
        "id": "UPtM3Eozkrjv"
      },
      "execution_count": 5,
      "outputs": []
    },
    {
      "cell_type": "code",
      "source": [],
      "metadata": {
        "id": "x61p3DHIks8r"
      },
      "execution_count": 5,
      "outputs": []
    },
    {
      "cell_type": "code",
      "source": [
        "f = open('kipling.txt','r')"
      ],
      "metadata": {
        "id": "VNMo_Pv0k_P7"
      },
      "execution_count": 6,
      "outputs": []
    },
    {
      "cell_type": "code",
      "source": [
        "print(type(f))"
      ],
      "metadata": {
        "colab": {
          "base_uri": "https://localhost:8080/"
        },
        "id": "seH2oNw3lBbH",
        "outputId": "2ef84222-f6bc-45ed-945b-4263b4761e91"
      },
      "execution_count": 7,
      "outputs": [
        {
          "output_type": "stream",
          "name": "stdout",
          "text": [
            "<class '_io.TextIOWrapper'>\n"
          ]
        }
      ]
    },
    {
      "cell_type": "code",
      "source": [
        "print(f.read())"
      ],
      "metadata": {
        "colab": {
          "base_uri": "https://localhost:8080/"
        },
        "id": "_UTcoyyllED7",
        "outputId": "416c9fc7-daa1-4b96-8cb3-69e352061f57"
      },
      "execution_count": 8,
      "outputs": [
        {
          "output_type": "stream",
          "name": "stdout",
          "text": [
            "If you can keep your head while all about you \n",
            "are losing theirs and blaming it on you,\n",
            "If you can trust yourself when all men doubt you,\n",
            " But make allowance for their doubting too;\n",
            "If you can wait and not be tired by waiting,\n",
            " Or being lied about, don't deal in lies,\n",
            "Or being hated, don't give way to hating,\n",
            " And yet don't look too good, nor talk too wise:\n",
            "\n"
          ]
        }
      ]
    },
    {
      "cell_type": "code",
      "source": [
        "f.close()"
      ],
      "metadata": {
        "id": "xmAmMrhSlIiI"
      },
      "execution_count": 9,
      "outputs": []
    },
    {
      "cell_type": "code",
      "source": [],
      "metadata": {
        "id": "fjcTrDOklLJW"
      },
      "execution_count": 9,
      "outputs": []
    },
    {
      "cell_type": "code",
      "source": [
        "f = open('kipling.txt','r')"
      ],
      "metadata": {
        "id": "EzktrOZHlV8s"
      },
      "execution_count": 10,
      "outputs": []
    },
    {
      "cell_type": "code",
      "source": [
        "print(f.readline())"
      ],
      "metadata": {
        "colab": {
          "base_uri": "https://localhost:8080/"
        },
        "id": "8CYvJVlolX54",
        "outputId": "4c689818-9206-4a1a-d84d-436af056860e"
      },
      "execution_count": 11,
      "outputs": [
        {
          "output_type": "stream",
          "name": "stdout",
          "text": [
            "If you can keep your head while all about you \n",
            "\n"
          ]
        }
      ]
    },
    {
      "cell_type": "code",
      "source": [
        "f.close()"
      ],
      "metadata": {
        "id": "7oNxBFVWlaFr"
      },
      "execution_count": 12,
      "outputs": []
    },
    {
      "cell_type": "code",
      "source": [],
      "metadata": {
        "id": "OKEQtxULla_K"
      },
      "execution_count": 12,
      "outputs": []
    },
    {
      "cell_type": "code",
      "source": [
        "f = open('kipling.txt','r')"
      ],
      "metadata": {
        "id": "P4HyIj-LlrYy"
      },
      "execution_count": 13,
      "outputs": []
    },
    {
      "cell_type": "code",
      "source": [
        "print(f.readlines())"
      ],
      "metadata": {
        "colab": {
          "base_uri": "https://localhost:8080/"
        },
        "id": "gF0rEVYnltHq",
        "outputId": "c9ea7f38-ed4d-4282-b342-6af0350605f9"
      },
      "execution_count": 14,
      "outputs": [
        {
          "output_type": "stream",
          "name": "stdout",
          "text": [
            "['If you can keep your head while all about you \\n', 'are losing theirs and blaming it on you,\\n', 'If you can trust yourself when all men doubt you,\\n', ' But make allowance for their doubting too;\\n', 'If you can wait and not be tired by waiting,\\n', \" Or being lied about, don't deal in lies,\\n\", \"Or being hated, don't give way to hating,\\n\", \" And yet don't look too good, nor talk too wise:\\n\"]\n"
          ]
        }
      ]
    },
    {
      "cell_type": "code",
      "source": [
        "f.close()"
      ],
      "metadata": {
        "id": "b0Z6HYGwlvwY"
      },
      "execution_count": 15,
      "outputs": []
    },
    {
      "cell_type": "code",
      "source": [],
      "metadata": {
        "id": "kP4Z75VTlw9d"
      },
      "execution_count": 15,
      "outputs": []
    },
    {
      "cell_type": "code",
      "source": [
        "f = open('kipling.txt','r')"
      ],
      "metadata": {
        "id": "q1TXLehplxg5"
      },
      "execution_count": 16,
      "outputs": []
    },
    {
      "cell_type": "code",
      "source": [
        "content = f.readlines()"
      ],
      "metadata": {
        "id": "xGCOsTbMl3Ps"
      },
      "execution_count": 17,
      "outputs": []
    },
    {
      "cell_type": "code",
      "source": [
        "f.close()"
      ],
      "metadata": {
        "id": "Df1tsjiIl57q"
      },
      "execution_count": 18,
      "outputs": []
    },
    {
      "cell_type": "code",
      "source": [
        "print(type(content))"
      ],
      "metadata": {
        "colab": {
          "base_uri": "https://localhost:8080/"
        },
        "id": "QaJ0Wmbkl7nF",
        "outputId": "18e8df94-5e7c-4373-e49a-e1aae53a5135"
      },
      "execution_count": 19,
      "outputs": [
        {
          "output_type": "stream",
          "name": "stdout",
          "text": [
            "<class 'list'>\n"
          ]
        }
      ]
    },
    {
      "cell_type": "code",
      "source": [
        "print(content)"
      ],
      "metadata": {
        "colab": {
          "base_uri": "https://localhost:8080/"
        },
        "id": "TxyNnrg_l9t_",
        "outputId": "f2ac5468-9ab3-40f1-d4fa-5c42f97b6145"
      },
      "execution_count": 20,
      "outputs": [
        {
          "output_type": "stream",
          "name": "stdout",
          "text": [
            "['If you can keep your head while all about you \\n', 'are losing theirs and blaming it on you,\\n', 'If you can trust yourself when all men doubt you,\\n', ' But make allowance for their doubting too;\\n', 'If you can wait and not be tired by waiting,\\n', \" Or being lied about, don't deal in lies,\\n\", \"Or being hated, don't give way to hating,\\n\", \" And yet don't look too good, nor talk too wise:\\n\"]\n"
          ]
        }
      ]
    },
    {
      "cell_type": "code",
      "source": [],
      "metadata": {
        "id": "NVBCR1HPmCWi"
      },
      "execution_count": 20,
      "outputs": []
    },
    {
      "cell_type": "code",
      "source": [
        "f = open('kipling.txt','a')"
      ],
      "metadata": {
        "id": "YGjzC8p0mDqq"
      },
      "execution_count": 21,
      "outputs": []
    },
    {
      "cell_type": "code",
      "source": [
        "f.write('If you can dream - and not make dreams your master;\\n If you can think - and not make thoughts your aim;\\n')"
      ],
      "metadata": {
        "colab": {
          "base_uri": "https://localhost:8080/"
        },
        "id": "vC2QmLY3mLGV",
        "outputId": "397abf2c-bc86-49bf-8979-11b04e4395c6"
      },
      "execution_count": 22,
      "outputs": [
        {
          "output_type": "execute_result",
          "data": {
            "text/plain": [
              "104"
            ]
          },
          "metadata": {},
          "execution_count": 22
        }
      ]
    },
    {
      "cell_type": "code",
      "source": [
        "f.close()"
      ],
      "metadata": {
        "id": "q1We1Q2NmPJQ"
      },
      "execution_count": 23,
      "outputs": []
    },
    {
      "cell_type": "code",
      "source": [
        "f = open('kipling.txt','r')"
      ],
      "metadata": {
        "id": "khGBHdPxmP5a"
      },
      "execution_count": 24,
      "outputs": []
    },
    {
      "cell_type": "code",
      "source": [
        "print(f.read())"
      ],
      "metadata": {
        "colab": {
          "base_uri": "https://localhost:8080/"
        },
        "id": "LMy1HHfbmUeB",
        "outputId": "10cf87ae-6666-41b4-993b-eea6a8610d39"
      },
      "execution_count": 25,
      "outputs": [
        {
          "output_type": "stream",
          "name": "stdout",
          "text": [
            "If you can keep your head while all about you \n",
            "are losing theirs and blaming it on you,\n",
            "If you can trust yourself when all men doubt you,\n",
            " But make allowance for their doubting too;\n",
            "If you can wait and not be tired by waiting,\n",
            " Or being lied about, don't deal in lies,\n",
            "Or being hated, don't give way to hating,\n",
            " And yet don't look too good, nor talk too wise:\n",
            "If you can dream - and not make dreams your master;\n",
            " If you can think - and not make thoughts your aim;\n",
            "\n"
          ]
        }
      ]
    },
    {
      "cell_type": "code",
      "source": [
        "f.close()"
      ],
      "metadata": {
        "id": "hHhJxyEJmWi4"
      },
      "execution_count": 26,
      "outputs": []
    },
    {
      "cell_type": "code",
      "source": [],
      "metadata": {
        "id": "z82yInDqmYk-"
      },
      "execution_count": 26,
      "outputs": []
    },
    {
      "cell_type": "code",
      "source": [
        "with open('kipling.txt','r') as f:\n",
        "  for line in f.readlines():\n",
        "    print(line,end='')"
      ],
      "metadata": {
        "colab": {
          "base_uri": "https://localhost:8080/"
        },
        "id": "m_acjFC-mbSU",
        "outputId": "620196c3-abcf-45d5-f6df-fe513e55cc69"
      },
      "execution_count": 27,
      "outputs": [
        {
          "output_type": "stream",
          "name": "stdout",
          "text": [
            "If you can keep your head while all about you \n",
            "are losing theirs and blaming it on you,\n",
            "If you can trust yourself when all men doubt you,\n",
            " But make allowance for their doubting too;\n",
            "If you can wait and not be tired by waiting,\n",
            " Or being lied about, don't deal in lies,\n",
            "Or being hated, don't give way to hating,\n",
            " And yet don't look too good, nor talk too wise:\n",
            "If you can dream - and not make dreams your master;\n",
            " If you can think - and not make thoughts your aim;\n"
          ]
        }
      ]
    }
  ],
  "metadata": {
    "colab": {
      "provenance": [],
      "authorship_tag": "ABX9TyMWTPs6P3XfTvd37td60R7L",
      "include_colab_link": true
    },
    "kernelspec": {
      "display_name": "Python 3",
      "name": "python3"
    },
    "language_info": {
      "name": "python"
    }
  },
  "nbformat": 4,
  "nbformat_minor": 0
}