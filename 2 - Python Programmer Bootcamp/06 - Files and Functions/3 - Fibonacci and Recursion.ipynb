{
  "cells": [
    {
      "cell_type": "markdown",
      "metadata": {
        "id": "view-in-github",
        "colab_type": "text"
      },
      "source": [
        "<a href=\"https://colab.research.google.com/github/Kavi-Sarna/365-python/blob/main/3%20-%20Python%20Programmer%20Bootcamp/6%20-%20Files%20and%20Functions/3%20-%20Fibonacci%20and%20Recursion.ipynb\" target=\"_parent\"><img src=\"https://colab.research.google.com/assets/colab-badge.svg\" alt=\"Open In Colab\"/></a>"
      ]
    },
    {
      "cell_type": "markdown",
      "source": [
        "Fibonacci and Recursion"
      ],
      "metadata": {
        "id": "u_tEpSxFd-OT"
      }
    },
    {
      "cell_type": "code",
      "source": [
        "n=20\n",
        "a = 0\n",
        "b = 1\n",
        "\n",
        "for i in range(n):\n",
        "  a,b = b,a+b\n",
        "print(a)"
      ],
      "metadata": {
        "colab": {
          "base_uri": "https://localhost:8080/"
        },
        "id": "mrjqTEncriMt",
        "outputId": "82ba6719-265e-4150-9432-4eb5f20bd741"
      },
      "execution_count": 52,
      "outputs": [
        {
          "output_type": "stream",
          "name": "stdout",
          "text": [
            "6765\n"
          ]
        }
      ]
    },
    {
      "cell_type": "code",
      "source": [
        "def fib(n):\n",
        "  ''' Calculates and returns the nth fibonacci number'''\n",
        "  a = 0\n",
        "  b = 1\n",
        "  for i in range(n):\n",
        "    a,b = b,a+b\n",
        "  return a"
      ],
      "metadata": {
        "id": "f7uadY-krrEV"
      },
      "execution_count": 53,
      "outputs": []
    },
    {
      "cell_type": "code",
      "source": [
        "fib_num = fib(20)\n",
        "print(fib_num)"
      ],
      "metadata": {
        "colab": {
          "base_uri": "https://localhost:8080/"
        },
        "id": "GZkkeJ-sr705",
        "outputId": "7720d589-0773-4f8a-bb6a-d5ad06877a33"
      },
      "execution_count": 54,
      "outputs": [
        {
          "output_type": "stream",
          "name": "stdout",
          "text": [
            "6765\n"
          ]
        }
      ]
    },
    {
      "cell_type": "code",
      "source": [
        "for i in range(20):\n",
        "  print(fib(i))"
      ],
      "metadata": {
        "colab": {
          "base_uri": "https://localhost:8080/"
        },
        "id": "1A0-kHOAr-8x",
        "outputId": "6c170cdd-4e70-42ca-9e80-2e822c8eace7"
      },
      "execution_count": 55,
      "outputs": [
        {
          "output_type": "stream",
          "name": "stdout",
          "text": [
            "0\n",
            "1\n",
            "1\n",
            "2\n",
            "3\n",
            "5\n",
            "8\n",
            "13\n",
            "21\n",
            "34\n",
            "55\n",
            "89\n",
            "144\n",
            "233\n",
            "377\n",
            "610\n",
            "987\n",
            "1597\n",
            "2584\n",
            "4181\n"
          ]
        }
      ]
    },
    {
      "cell_type": "code",
      "source": [],
      "metadata": {
        "id": "X6GTXmp8sHjP"
      },
      "execution_count": 55,
      "outputs": []
    },
    {
      "cell_type": "code",
      "source": [
        "def calc_mean(first, *remainder):\n",
        "  ''' This calculates the mean of numbers. '''\n",
        "  mean = (first + sum(remainder))/ (1 + len(remainder))\n",
        "  print(type(remainder))\n",
        "  return mean"
      ],
      "metadata": {
        "id": "A1WgnXYnsgJk"
      },
      "execution_count": 56,
      "outputs": []
    },
    {
      "cell_type": "code",
      "source": [
        "print(calc_mean(23, 43, 56, 76, 45, 34, 65, 78, 975, 3456, 54))"
      ],
      "metadata": {
        "colab": {
          "base_uri": "https://localhost:8080/"
        },
        "id": "oLDEK6DqsqJR",
        "outputId": "42068362-b43b-4a9c-a70c-5a1f5c5e02a9"
      },
      "execution_count": 57,
      "outputs": [
        {
          "output_type": "stream",
          "name": "stdout",
          "text": [
            "<class 'tuple'>\n",
            "445.90909090909093\n"
          ]
        }
      ]
    },
    {
      "cell_type": "code",
      "source": [],
      "metadata": {
        "id": "6uXnIt1DsvVo"
      },
      "execution_count": 57,
      "outputs": []
    },
    {
      "cell_type": "code",
      "source": [
        "# Recursion"
      ],
      "metadata": {
        "id": "2S_SmrjptP7l"
      },
      "execution_count": 58,
      "outputs": []
    },
    {
      "cell_type": "code",
      "source": [
        "def fib_2(n):\n",
        "  if n == 0:\n",
        "    return 0\n",
        "  elif n == 1:\n",
        "    return 1\n",
        "  else:\n",
        "    return fib_2(n-1) + fib_2(n-2)"
      ],
      "metadata": {
        "id": "HA60ZIkltS5L"
      },
      "execution_count": 59,
      "outputs": []
    },
    {
      "cell_type": "code",
      "source": [
        "x = fib_2(20)\n",
        "print(x)"
      ],
      "metadata": {
        "colab": {
          "base_uri": "https://localhost:8080/"
        },
        "id": "m-d_-XLMtacg",
        "outputId": "c0aa1a7d-367d-4006-85ba-471021a9e769"
      },
      "execution_count": 60,
      "outputs": [
        {
          "output_type": "stream",
          "name": "stdout",
          "text": [
            "6765\n"
          ]
        }
      ]
    },
    {
      "cell_type": "code",
      "source": [
        "y = fib(1000)\n",
        "print(y)"
      ],
      "metadata": {
        "colab": {
          "base_uri": "https://localhost:8080/"
        },
        "id": "qRfZZbbdthDc",
        "outputId": "97c7cd9e-35b2-4eae-a8a6-9fd43cbcab99"
      },
      "execution_count": 61,
      "outputs": [
        {
          "output_type": "stream",
          "name": "stdout",
          "text": [
            "43466557686937456435688527675040625802564660517371780402481729089536555417949051890403879840079255169295922593080322634775209689623239873322471161642996440906533187938298969649928516003704476137795166849228875\n"
          ]
        }
      ]
    },
    {
      "cell_type": "code",
      "source": [
        "x = fib_2(37)\n",
        "print(x)"
      ],
      "metadata": {
        "colab": {
          "base_uri": "https://localhost:8080/"
        },
        "id": "EpKHlIjltmp6",
        "outputId": "bb43977f-ec65-4022-9dc1-14a49f3d11ae"
      },
      "execution_count": 62,
      "outputs": [
        {
          "output_type": "stream",
          "name": "stdout",
          "text": [
            "24157817\n"
          ]
        }
      ]
    },
    {
      "cell_type": "code",
      "source": [],
      "metadata": {
        "id": "SU_t668GtqDD"
      },
      "execution_count": 62,
      "outputs": []
    },
    {
      "cell_type": "code",
      "source": [
        "import timeit"
      ],
      "metadata": {
        "id": "DycCDMF9ty-t"
      },
      "execution_count": 63,
      "outputs": []
    },
    {
      "cell_type": "code",
      "source": [
        "t1 = timeit.Timer(\"fib(36)\", \"from __main__ import fib\")\n",
        "print(t1.timeit(5))\n",
        "\n",
        "t2 = timeit.Timer(\"fib_2(36)\", \"from __main__ import fib_2\")\n",
        "print(t2.timeit(5))"
      ],
      "metadata": {
        "colab": {
          "base_uri": "https://localhost:8080/"
        },
        "id": "xifSV2xTt1UL",
        "outputId": "6d76e906-2980-4009-c497-f9c8ef0e2969"
      },
      "execution_count": 68,
      "outputs": [
        {
          "output_type": "stream",
          "name": "stdout",
          "text": [
            "1.6089999917312525e-05\n",
            "20.758786826999767\n"
          ]
        }
      ]
    }
  ],
  "metadata": {
    "colab": {
      "provenance": [],
      "authorship_tag": "ABX9TyPbCOgikzZ3KTSV3lZRLEAO",
      "include_colab_link": true
    },
    "kernelspec": {
      "display_name": "Python 3",
      "name": "python3"
    },
    "language_info": {
      "name": "python"
    }
  },
  "nbformat": 4,
  "nbformat_minor": 0
}