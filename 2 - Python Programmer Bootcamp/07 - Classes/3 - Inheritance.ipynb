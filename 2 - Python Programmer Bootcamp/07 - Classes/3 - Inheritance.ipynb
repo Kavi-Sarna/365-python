{
  "cells": [
    {
      "cell_type": "markdown",
      "metadata": {
        "id": "view-in-github",
        "colab_type": "text"
      },
      "source": [
        "<a href=\"https://colab.research.google.com/github/Kavi-Sarna/365-python/blob/main/3%20-%20Python%20Programmer%20Bootcamp/7%20-%20Classes/3%20-%20Inheritance.ipynb\" target=\"_parent\"><img src=\"https://colab.research.google.com/assets/colab-badge.svg\" alt=\"Open In Colab\"/></a>"
      ]
    },
    {
      "cell_type": "markdown",
      "source": [
        "Inheritance"
      ],
      "metadata": {
        "id": "hOuKNfSANeJt"
      }
    },
    {
      "cell_type": "code",
      "source": [
        "class Patient(object):\n",
        "  ''' Medical centre Patient '''\n",
        "\n",
        "  status = 'patient'\n",
        "\n",
        "  def __init__(self, name, age):\n",
        "    self.name = name\n",
        "    self.age = age\n",
        "    self.conditions = []\n",
        "\n",
        "  def get_details(self):\n",
        "    print(f'Patient Record: {self.name}, {self.age} years' \\\n",
        "          f'\\nCurrent information: {self.conditions}')\n",
        "\n",
        "  def add_info(self, information):\n",
        "    self.conditions.append(information)"
      ],
      "metadata": {
        "id": "wIueu2VJSG8I"
      },
      "execution_count": 1,
      "outputs": []
    },
    {
      "cell_type": "code",
      "source": [
        "steve = Patient('Steven Hughes',48)\n",
        "abigail = Patient('Abigail Sandwick',32)"
      ],
      "metadata": {
        "id": "YwhnAeDtS47w"
      },
      "execution_count": 2,
      "outputs": []
    },
    {
      "cell_type": "code",
      "source": [
        "steve.add_info('Patient treated for ear infection - amoxycilin prescribed')"
      ],
      "metadata": {
        "id": "6AnLX-nES7kt"
      },
      "execution_count": 3,
      "outputs": []
    },
    {
      "cell_type": "code",
      "source": [
        "steve.get_details()"
      ],
      "metadata": {
        "colab": {
          "base_uri": "https://localhost:8080/"
        },
        "id": "K2Ri-GthTwIi",
        "outputId": "716e014c-9f86-4a9f-c885-739bf3c5a4b5"
      },
      "execution_count": 4,
      "outputs": [
        {
          "output_type": "stream",
          "name": "stdout",
          "text": [
            "Patient Record: Steven Hughes, 48 years\n",
            "Current information: ['Patient treated for ear infection - amoxycilin prescribed']\n"
          ]
        }
      ]
    },
    {
      "cell_type": "code",
      "source": [],
      "metadata": {
        "id": "g4ae3kj3UsLW"
      },
      "execution_count": 4,
      "outputs": []
    },
    {
      "cell_type": "code",
      "source": [
        "class Infant(Patient):\n",
        "  ''' Patient under 2 years '''\n",
        "\n",
        "  def __init__(self, name, age):\n",
        "    self.vaccinations = []\n",
        "    super().__init__(name, age)\n",
        "\n",
        "  def add_vac(self, vaccine):\n",
        "    self.vaccinations.append(vaccine)\n",
        "\n",
        "  def get_details(self):\n",
        "    print(f'Patient Record: {self.name}, {self.age} years\\n' \\\n",
        "          f'Patient has had {self.vaccinations} vaccines.\\n' \\\n",
        "          f'Current information: {self.conditions}.\\n' \\\n",
        "          f'{self.name} IS AN INFANT, HAVE THEY HAD ALL THEIR CHECKS?')"
      ],
      "metadata": {
        "id": "b7VO4DjoUxVi"
      },
      "execution_count": 5,
      "outputs": []
    },
    {
      "cell_type": "code",
      "source": [
        "archie = Infant('Archie Fittleworth', 0)"
      ],
      "metadata": {
        "id": "KJ4gllP2WI77"
      },
      "execution_count": 6,
      "outputs": []
    },
    {
      "cell_type": "code",
      "source": [
        "archie.add_vac('MMR')"
      ],
      "metadata": {
        "id": "gP2WDrRIWPoO"
      },
      "execution_count": 7,
      "outputs": []
    },
    {
      "cell_type": "code",
      "source": [
        "archie.get_details()"
      ],
      "metadata": {
        "colab": {
          "base_uri": "https://localhost:8080/"
        },
        "id": "sE-2peluWSfU",
        "outputId": "2652686e-b9a1-4a85-b2a0-b423c6778362"
      },
      "execution_count": 8,
      "outputs": [
        {
          "output_type": "stream",
          "name": "stdout",
          "text": [
            "Patient Record: Archie Fittleworth, 0 years\n",
            "Patient has had ['MMR'] vaccines.\n",
            "Current information: [].\n",
            "Archie Fittleworth IS AN INFANT, HAVE THEY HAD ALL THEIR CHECKS?\n"
          ]
        }
      ]
    }
  ],
  "metadata": {
    "colab": {
      "provenance": [],
      "authorship_tag": "ABX9TyMa57T515Q9FUy+xyVqP0jc",
      "include_colab_link": true
    },
    "kernelspec": {
      "display_name": "Python 3",
      "name": "python3"
    },
    "language_info": {
      "name": "python"
    }
  },
  "nbformat": 4,
  "nbformat_minor": 0
}