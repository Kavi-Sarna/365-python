{
  "cells": [
    {
      "cell_type": "markdown",
      "metadata": {
        "id": "view-in-github",
        "colab_type": "text"
      },
      "source": [
        "<a href=\"https://colab.research.google.com/github/Kavi-Sarna/365-python/blob/main/3%20-%20Python%20Programmer%20Bootcamp/12%20-%20Problems/1%20-%20Luhn's%20Credit%20Card%20Algorithm.ipynb\" target=\"_parent\"><img src=\"https://colab.research.google.com/assets/colab-badge.svg\" alt=\"Open In Colab\"/></a>"
      ]
    },
    {
      "cell_type": "code",
      "source": [
        "def validate_card(number):\n",
        "  num_list = [int(char) for char in number]\n",
        "  num_list_rev = num_list[::-1]\n",
        "\n",
        "  single = 0\n",
        "  double = 0\n",
        "\n",
        "  for i in range(len(num_list)):\n",
        "    if i % 2 == 0:\n",
        "      if 2 * num_list_rev[i] > 9:\n",
        "        double += 2 * num_list_rev[i] - 9\n",
        "      else:\n",
        "        double += 2 * num_list_rev[i]\n",
        "    else:\n",
        "      single += num_list_rev[i]\n",
        "\n",
        "  if (single + double) % 10 == 0:\n",
        "    return True\n",
        "  else:\n",
        "    return False"
      ],
      "metadata": {
        "id": "3FbCc9TtusHf"
      },
      "execution_count": 7,
      "outputs": []
    },
    {
      "cell_type": "code",
      "source": [
        "number_1 = '228347687623'\n",
        "validate_card(number_1)"
      ],
      "metadata": {
        "colab": {
          "base_uri": "https://localhost:8080/"
        },
        "id": "LFNEvb59wjud",
        "outputId": "09908c67-5315-4480-d70b-1237cdcdcc0e"
      },
      "execution_count": 8,
      "outputs": [
        {
          "output_type": "execute_result",
          "data": {
            "text/plain": [
              "True"
            ]
          },
          "metadata": {},
          "execution_count": 8
        }
      ]
    },
    {
      "cell_type": "code",
      "source": [
        "number_2 = '371449635398431'\n",
        "validate_card(number_2)"
      ],
      "metadata": {
        "colab": {
          "base_uri": "https://localhost:8080/"
        },
        "id": "XzbMzQLywnbI",
        "outputId": "b1af8283-6075-4cd9-f640-c151533b1e6d"
      },
      "execution_count": 9,
      "outputs": [
        {
          "output_type": "execute_result",
          "data": {
            "text/plain": [
              "False"
            ]
          },
          "metadata": {},
          "execution_count": 9
        }
      ]
    },
    {
      "cell_type": "code",
      "source": [
        "number_3 = '378734493671000'\n",
        "validate_card(number_3)"
      ],
      "metadata": {
        "colab": {
          "base_uri": "https://localhost:8080/"
        },
        "id": "SMzRSsF6xErk",
        "outputId": "39220015-76e1-4ae5-b907-b5cba5e6ba1c"
      },
      "execution_count": 10,
      "outputs": [
        {
          "output_type": "execute_result",
          "data": {
            "text/plain": [
              "False"
            ]
          },
          "metadata": {},
          "execution_count": 10
        }
      ]
    },
    {
      "cell_type": "code",
      "source": [
        "number_4 = '5610591081018250'\n",
        "validate_card(number_4)"
      ],
      "metadata": {
        "colab": {
          "base_uri": "https://localhost:8080/"
        },
        "id": "P4-2IzWRxG2K",
        "outputId": "749eb7be-0809-4ca6-9b40-cf374ff99aa5"
      },
      "execution_count": 11,
      "outputs": [
        {
          "output_type": "execute_result",
          "data": {
            "text/plain": [
              "False"
            ]
          },
          "metadata": {},
          "execution_count": 11
        }
      ]
    },
    {
      "cell_type": "code",
      "source": [
        "number_5 = '30569309025904'\n",
        "validate_card(number_5)"
      ],
      "metadata": {
        "colab": {
          "base_uri": "https://localhost:8080/"
        },
        "id": "G1sUQmfIxJKm",
        "outputId": "ea8609a5-e90f-4a53-b88e-8304bf2f92ee"
      },
      "execution_count": 12,
      "outputs": [
        {
          "output_type": "execute_result",
          "data": {
            "text/plain": [
              "False"
            ]
          },
          "metadata": {},
          "execution_count": 12
        }
      ]
    },
    {
      "cell_type": "code",
      "source": [
        "number_6 = '38520000023237'\n",
        "validate_card(number_6)"
      ],
      "metadata": {
        "colab": {
          "base_uri": "https://localhost:8080/"
        },
        "id": "y4gqZn2NxK43",
        "outputId": "0ccaca9c-a390-4d67-ec66-3a0007122542"
      },
      "execution_count": 13,
      "outputs": [
        {
          "output_type": "execute_result",
          "data": {
            "text/plain": [
              "False"
            ]
          },
          "metadata": {},
          "execution_count": 13
        }
      ]
    },
    {
      "cell_type": "code",
      "source": [
        "number_7 = '6011111111111117'\n",
        "validate_card(number_7)"
      ],
      "metadata": {
        "colab": {
          "base_uri": "https://localhost:8080/"
        },
        "id": "4jzddNerxNCH",
        "outputId": "1a88bec0-1b57-491c-8ff8-e29f1ef232ba"
      },
      "execution_count": 14,
      "outputs": [
        {
          "output_type": "execute_result",
          "data": {
            "text/plain": [
              "True"
            ]
          },
          "metadata": {},
          "execution_count": 14
        }
      ]
    },
    {
      "cell_type": "code",
      "source": [
        "number_8 = '6011000990139424'\n",
        "validate_card(number_8)"
      ],
      "metadata": {
        "colab": {
          "base_uri": "https://localhost:8080/"
        },
        "id": "neVLypuexPMW",
        "outputId": "fbdb0c36-9a4a-47b0-dbfb-3e74156fb1e8"
      },
      "execution_count": 15,
      "outputs": [
        {
          "output_type": "execute_result",
          "data": {
            "text/plain": [
              "False"
            ]
          },
          "metadata": {},
          "execution_count": 15
        }
      ]
    },
    {
      "cell_type": "code",
      "source": [
        "number_9 = '3530111333300000'\n",
        "validate_card(number_9)"
      ],
      "metadata": {
        "colab": {
          "base_uri": "https://localhost:8080/"
        },
        "id": "ClLlFMnDxROo",
        "outputId": "d6c933eb-dd50-4387-c770-2145ff603298"
      },
      "execution_count": 16,
      "outputs": [
        {
          "output_type": "execute_result",
          "data": {
            "text/plain": [
              "False"
            ]
          },
          "metadata": {},
          "execution_count": 16
        }
      ]
    },
    {
      "cell_type": "code",
      "source": [
        "number_10 = '3566002020360505'\n",
        "validate_card(number_10)"
      ],
      "metadata": {
        "colab": {
          "base_uri": "https://localhost:8080/"
        },
        "id": "sHKa8OxNxS_2",
        "outputId": "b26491ff-6c6f-4856-bfc5-16f7f9b9875e"
      },
      "execution_count": 17,
      "outputs": [
        {
          "output_type": "execute_result",
          "data": {
            "text/plain": [
              "False"
            ]
          },
          "metadata": {},
          "execution_count": 17
        }
      ]
    },
    {
      "cell_type": "code",
      "source": [
        "number_11 = '5555555555554444'\n",
        "validate_card(number_11)"
      ],
      "metadata": {
        "colab": {
          "base_uri": "https://localhost:8080/"
        },
        "id": "8ZaBzIyoxVOf",
        "outputId": "074334c9-0aab-4302-d54d-3bf2992ea9ad"
      },
      "execution_count": 18,
      "outputs": [
        {
          "output_type": "execute_result",
          "data": {
            "text/plain": [
              "True"
            ]
          },
          "metadata": {},
          "execution_count": 18
        }
      ]
    },
    {
      "cell_type": "code",
      "source": [
        "number_12 = '5105105105105100'\n",
        "validate_card(number_12)"
      ],
      "metadata": {
        "colab": {
          "base_uri": "https://localhost:8080/"
        },
        "id": "uuuLRIolxXQb",
        "outputId": "be950a4f-6303-4e8a-a17e-531cf171d158"
      },
      "execution_count": 19,
      "outputs": [
        {
          "output_type": "execute_result",
          "data": {
            "text/plain": [
              "False"
            ]
          },
          "metadata": {},
          "execution_count": 19
        }
      ]
    },
    {
      "cell_type": "code",
      "source": [
        "number_13 = '4111111111111111'\n",
        "validate_card(number_13)"
      ],
      "metadata": {
        "colab": {
          "base_uri": "https://localhost:8080/"
        },
        "id": "hKhfczV5xZNE",
        "outputId": "26c662b4-3aa0-4c49-97d4-9e9b4c10f4b0"
      },
      "execution_count": 20,
      "outputs": [
        {
          "output_type": "execute_result",
          "data": {
            "text/plain": [
              "False"
            ]
          },
          "metadata": {},
          "execution_count": 20
        }
      ]
    },
    {
      "cell_type": "code",
      "source": [
        "number_14 = '4012888888881881'\n",
        "validate_card(number_14)"
      ],
      "metadata": {
        "colab": {
          "base_uri": "https://localhost:8080/"
        },
        "id": "ojU5Fuf0xbTC",
        "outputId": "de4448e4-236a-4e90-81b0-15a447db3cbe"
      },
      "execution_count": 21,
      "outputs": [
        {
          "output_type": "execute_result",
          "data": {
            "text/plain": [
              "False"
            ]
          },
          "metadata": {},
          "execution_count": 21
        }
      ]
    },
    {
      "cell_type": "code",
      "source": [
        "number_15 = '4222222222222'\n",
        "validate_card(number_15)"
      ],
      "metadata": {
        "colab": {
          "base_uri": "https://localhost:8080/"
        },
        "id": "aBqqitaexdPn",
        "outputId": "3654fd6f-828c-4b8f-f659-439c94b21b9a"
      },
      "execution_count": 22,
      "outputs": [
        {
          "output_type": "execute_result",
          "data": {
            "text/plain": [
              "False"
            ]
          },
          "metadata": {},
          "execution_count": 22
        }
      ]
    }
  ],
  "metadata": {
    "colab": {
      "provenance": [],
      "authorship_tag": "ABX9TyMlH6E332f8gOTx1+4IiEdY",
      "include_colab_link": true
    },
    "kernelspec": {
      "display_name": "Python 3",
      "name": "python3"
    },
    "language_info": {
      "name": "python"
    }
  },
  "nbformat": 4,
  "nbformat_minor": 0
}