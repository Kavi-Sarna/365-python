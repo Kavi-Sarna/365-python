{
  "nbformat": 4,
  "nbformat_minor": 0,
  "metadata": {
    "colab": {
      "provenance": [],
      "authorship_tag": "ABX9TyPqlb6pzBb71BrVKE/GcZlY",
      "include_colab_link": true
    },
    "kernelspec": {
      "name": "python3",
      "display_name": "Python 3"
    },
    "language_info": {
      "name": "python"
    }
  },
  "cells": [
    {
      "cell_type": "markdown",
      "metadata": {
        "id": "view-in-github",
        "colab_type": "text"
      },
      "source": [
        "<a href=\"https://colab.research.google.com/github/Kavi-Sarna/365-python/blob/main/3%20-%20Python%20Programmer%20Bootcamp/8%20-%20Problems/1%20-%20Caesar%20Cipher.ipynb\" target=\"_parent\"><img src=\"https://colab.research.google.com/assets/colab-badge.svg\" alt=\"Open In Colab\"/></a>"
      ]
    },
    {
      "cell_type": "markdown",
      "source": [
        "# Caesar Cipher"
      ],
      "metadata": {
        "id": "DfuNvd9Uf44w"
      }
    },
    {
      "cell_type": "code",
      "source": [
        "alphabet = 'abcdefghijklmnopqrstuvwxyz'"
      ],
      "metadata": {
        "id": "fuFMGV8Df6Mf"
      },
      "execution_count": 1,
      "outputs": []
    },
    {
      "cell_type": "code",
      "source": [
        "input_text = 'hello'"
      ],
      "metadata": {
        "id": "yzxSHjFsf78s"
      },
      "execution_count": 2,
      "outputs": []
    },
    {
      "cell_type": "markdown",
      "source": [
        "## Build a very simple version"
      ],
      "metadata": {
        "id": "CrcStIIYgBS3"
      }
    },
    {
      "cell_type": "code",
      "source": [
        "output = ''\n",
        "\n",
        "for char in input_text:\n",
        "  alpha_index = alphabet.find(char)\n",
        "  output = output + alphabet[alpha_index+3]\n",
        "\n",
        "print(output)"
      ],
      "metadata": {
        "colab": {
          "base_uri": "https://localhost:8080/"
        },
        "id": "BjWwdlsyf-BC",
        "outputId": "c6ddf179-935e-410b-cde5-6a31462eeae1"
      },
      "execution_count": 3,
      "outputs": [
        {
          "output_type": "stream",
          "name": "stdout",
          "text": [
            "khoor\n"
          ]
        }
      ]
    },
    {
      "cell_type": "markdown",
      "source": [
        "## What if cipher index goes beyond end of alphabet?"
      ],
      "metadata": {
        "id": "dAVeafI2gLx5"
      }
    },
    {
      "cell_type": "code",
      "source": [
        "output = ''\n",
        "\n",
        "for char in input_text:\n",
        "  alpha_index = alphabet.find(char)\n",
        "  output = output + alphabet[alpha_index+30]\n",
        "\n",
        "print(output)"
      ],
      "metadata": {
        "colab": {
          "base_uri": "https://localhost:8080/",
          "height": 245
        },
        "id": "3QLj_SG5gJSQ",
        "outputId": "dece32a9-14dc-4057-ede1-45f1c6bf91d2"
      },
      "execution_count": 4,
      "outputs": [
        {
          "output_type": "error",
          "ename": "IndexError",
          "evalue": "ignored",
          "traceback": [
            "\u001b[0;31m---------------------------------------------------------------------------\u001b[0m",
            "\u001b[0;31mIndexError\u001b[0m                                Traceback (most recent call last)",
            "\u001b[0;32m<ipython-input-4-eb9f08f27db7>\u001b[0m in \u001b[0;36m<cell line: 3>\u001b[0;34m()\u001b[0m\n\u001b[1;32m      3\u001b[0m \u001b[0;32mfor\u001b[0m \u001b[0mchar\u001b[0m \u001b[0;32min\u001b[0m \u001b[0minput_text\u001b[0m\u001b[0;34m:\u001b[0m\u001b[0;34m\u001b[0m\u001b[0;34m\u001b[0m\u001b[0m\n\u001b[1;32m      4\u001b[0m   \u001b[0malpha_index\u001b[0m \u001b[0;34m=\u001b[0m \u001b[0malphabet\u001b[0m\u001b[0;34m.\u001b[0m\u001b[0mfind\u001b[0m\u001b[0;34m(\u001b[0m\u001b[0mchar\u001b[0m\u001b[0;34m)\u001b[0m\u001b[0;34m\u001b[0m\u001b[0;34m\u001b[0m\u001b[0m\n\u001b[0;32m----> 5\u001b[0;31m   \u001b[0moutput\u001b[0m \u001b[0;34m=\u001b[0m \u001b[0moutput\u001b[0m \u001b[0;34m+\u001b[0m \u001b[0malphabet\u001b[0m\u001b[0;34m[\u001b[0m\u001b[0malpha_index\u001b[0m\u001b[0;34m+\u001b[0m\u001b[0;36m30\u001b[0m\u001b[0;34m]\u001b[0m\u001b[0;34m\u001b[0m\u001b[0;34m\u001b[0m\u001b[0m\n\u001b[0m\u001b[1;32m      6\u001b[0m \u001b[0;34m\u001b[0m\u001b[0m\n\u001b[1;32m      7\u001b[0m \u001b[0mprint\u001b[0m\u001b[0;34m(\u001b[0m\u001b[0moutput\u001b[0m\u001b[0;34m)\u001b[0m\u001b[0;34m\u001b[0m\u001b[0;34m\u001b[0m\u001b[0m\n",
            "\u001b[0;31mIndexError\u001b[0m: string index out of range"
          ]
        }
      ]
    },
    {
      "cell_type": "markdown",
      "source": [
        "## Write a function to deal with shift"
      ],
      "metadata": {
        "id": "fylo9v7vgVL8"
      }
    },
    {
      "cell_type": "code",
      "source": [
        "def shift_amount(i):\n",
        "  '''Will determine the shift, taking into account the length of the alphabet. Takes integer - returns integer'''\n",
        "  return i%26"
      ],
      "metadata": {
        "id": "RkUMGYQogREL"
      },
      "execution_count": 5,
      "outputs": []
    },
    {
      "cell_type": "markdown",
      "source": [
        "## Now test with shift > 26"
      ],
      "metadata": {
        "id": "mkZB_U3NgcHi"
      }
    },
    {
      "cell_type": "code",
      "source": [
        "output_1 = ''\n",
        "\n",
        "for char in input_text:\n",
        "  alpha_index = alphabet.find(char)\n",
        "  output_1 = output_1 + alphabet[shift_amount(alpha_index+30)]\n",
        "\n",
        "print(output_1)"
      ],
      "metadata": {
        "colab": {
          "base_uri": "https://localhost:8080/"
        },
        "id": "rrOVrzg6gZ1C",
        "outputId": "52eb5cd3-61cb-47ba-f4b3-dfef3bb14422"
      },
      "execution_count": 6,
      "outputs": [
        {
          "output_type": "stream",
          "name": "stdout",
          "text": [
            "lipps\n"
          ]
        }
      ]
    },
    {
      "cell_type": "markdown",
      "source": [
        "## A complete function"
      ],
      "metadata": {
        "id": "19f1yNqQgm2i"
      }
    },
    {
      "cell_type": "code",
      "source": [
        "def encrypt(text,required_shift):\n",
        "  out_string = ''\n",
        "  text = text.lower()\n",
        "\n",
        "  for char in text:\n",
        "    if char not in alphabet:\n",
        "      out_string = out_string + char\n",
        "    else:\n",
        "      alpha_index = alphabet.find(char)\n",
        "      out_string = out_string + alphabet[shift_amount(alpha_index +required_shift)]\n",
        "\n",
        "  return out_string"
      ],
      "metadata": {
        "id": "DYgJ7ffggisL"
      },
      "execution_count": 7,
      "outputs": []
    },
    {
      "cell_type": "code",
      "source": [
        "new_string = 'Once upon'\n",
        "shift = encrypt(new_string, 5)"
      ],
      "metadata": {
        "id": "JOlWinLbg5iK"
      },
      "execution_count": 8,
      "outputs": []
    },
    {
      "cell_type": "code",
      "source": [],
      "metadata": {
        "id": "E46vpNmKg81T"
      },
      "execution_count": 8,
      "outputs": []
    },
    {
      "cell_type": "code",
      "source": [
        "basker = '''I confess at these words a shudder passed\n",
        "through me. There was a thrill in the doctor’s voice\n",
        "which showed that he was himself deeply moved\n",
        "by that which he told us. Holmes leaned forward\n",
        "in his excitement and his eyes had the hard, dry\n",
        "glitter which shot from them when he was keenly\n",
        "interested.'''\n",
        "\n",
        "encrypt_basker = encrypt(basker,10)\n",
        "print(encrypt_basker)"
      ],
      "metadata": {
        "colab": {
          "base_uri": "https://localhost:8080/"
        },
        "id": "qStuB5OXhEa_",
        "outputId": "52ad9725-c9cf-49ea-ca6d-cad22a501fc9"
      },
      "execution_count": 9,
      "outputs": [
        {
          "output_type": "stream",
          "name": "stdout",
          "text": [
            "s myxpocc kd droco gybnc k crennob zkccon\n",
            "drbyeqr wo. drobo gkc k drbsvv sx dro nymdyb’c fysmo\n",
            "grsmr crygon drkd ro gkc rswcovp noozvi wyfon\n",
            "li drkd grsmr ro dyvn ec. ryvwoc vokxon pybgkbn\n",
            "sx rsc ohmsdowoxd kxn rsc oioc rkn dro rkbn, nbi\n",
            "qvsddob grsmr cryd pbyw drow grox ro gkc uooxvi\n",
            "sxdobocdon.\n"
          ]
        }
      ]
    },
    {
      "cell_type": "code",
      "source": [],
      "metadata": {
        "id": "N_hJLzFmhFSy"
      },
      "execution_count": 9,
      "outputs": []
    },
    {
      "cell_type": "code",
      "source": [
        "print(encrypt(encrypt_basker,-10))"
      ],
      "metadata": {
        "colab": {
          "base_uri": "https://localhost:8080/"
        },
        "id": "_bo1ipbAhKb0",
        "outputId": "01165492-9075-42fb-c8fc-28212bd999b6"
      },
      "execution_count": 10,
      "outputs": [
        {
          "output_type": "stream",
          "name": "stdout",
          "text": [
            "i confess at these words a shudder passed\n",
            "through me. there was a thrill in the doctor’s voice\n",
            "which showed that he was himself deeply moved\n",
            "by that which he told us. holmes leaned forward\n",
            "in his excitement and his eyes had the hard, dry\n",
            "glitter which shot from them when he was keenly\n",
            "interested.\n"
          ]
        }
      ]
    },
    {
      "cell_type": "code",
      "source": [],
      "metadata": {
        "id": "lCMcrWf5hLJS"
      },
      "execution_count": 10,
      "outputs": []
    },
    {
      "cell_type": "code",
      "source": [
        "question_text = 'The cat sat on the mat'\n",
        "print(encrypt(question_text,11))"
      ],
      "metadata": {
        "colab": {
          "base_uri": "https://localhost:8080/"
        },
        "id": "i_WKDIDuhNqE",
        "outputId": "59461ad7-ce75-495d-967d-a9cb1d01efa7"
      },
      "execution_count": 11,
      "outputs": [
        {
          "output_type": "stream",
          "name": "stdout",
          "text": [
            "esp nle dle zy esp xle\n"
          ]
        }
      ]
    }
  ]
}