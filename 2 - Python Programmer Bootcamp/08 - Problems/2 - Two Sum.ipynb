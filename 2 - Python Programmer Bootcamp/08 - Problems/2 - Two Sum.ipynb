{
  "cells": [
    {
      "cell_type": "markdown",
      "metadata": {
        "id": "view-in-github",
        "colab_type": "text"
      },
      "source": [
        "<a href=\"https://colab.research.google.com/github/Kavi-Sarna/365-python/blob/main/3%20-%20Python%20Programmer%20Bootcamp/8%20-%20Problems/2%20-%20Two%20Sum.ipynb\" target=\"_parent\"><img src=\"https://colab.research.google.com/assets/colab-badge.svg\" alt=\"Open In Colab\"/></a>"
      ]
    },
    {
      "cell_type": "code",
      "source": [
        "def two_sum(l, target):\n",
        "  pairs =[]\n",
        "  for i in range(len(l)-1):\n",
        "    for j in range(i+1, len(l)):\n",
        "      if l[i] + l[j] == target:\n",
        "        pairs.append((i, j))\n",
        "\n",
        "  return pairs"
      ],
      "metadata": {
        "id": "AqNMC3YuigQ2"
      },
      "execution_count": 46,
      "outputs": []
    },
    {
      "cell_type": "code",
      "source": [
        "l = [2, 5, 3, 7, 4]\n",
        "print(two_sum(l, 10))"
      ],
      "metadata": {
        "colab": {
          "base_uri": "https://localhost:8080/"
        },
        "id": "2I2S-bzQjqpT",
        "outputId": "0e9dd08f-eaac-4b97-d7c7-bff2aaf6ca0c"
      },
      "execution_count": 47,
      "outputs": [
        {
          "output_type": "stream",
          "name": "stdout",
          "text": [
            "[(2, 3)]\n"
          ]
        }
      ]
    },
    {
      "cell_type": "code",
      "source": [
        "print(two_sum(l, 9))"
      ],
      "metadata": {
        "colab": {
          "base_uri": "https://localhost:8080/"
        },
        "id": "parQCLo5j3El",
        "outputId": "10904665-f9a9-4690-98e6-619ad0897245"
      },
      "execution_count": 48,
      "outputs": [
        {
          "output_type": "stream",
          "name": "stdout",
          "text": [
            "[(0, 3), (1, 4)]\n"
          ]
        }
      ]
    },
    {
      "cell_type": "code",
      "source": [
        "print(two_sum(l, 7))"
      ],
      "metadata": {
        "colab": {
          "base_uri": "https://localhost:8080/"
        },
        "id": "LWcobxtBkGaQ",
        "outputId": "e96d1ba5-bbd7-4d82-d3d4-915968a9a811"
      },
      "execution_count": 49,
      "outputs": [
        {
          "output_type": "stream",
          "name": "stdout",
          "text": [
            "[(0, 1), (2, 4)]\n"
          ]
        }
      ]
    },
    {
      "cell_type": "code",
      "source": [
        "print(two_sum([3, 3], 6))"
      ],
      "metadata": {
        "colab": {
          "base_uri": "https://localhost:8080/"
        },
        "id": "giI07kUckON0",
        "outputId": "52929c84-fef3-4ee2-dcb8-40c9505fb34b"
      },
      "execution_count": 51,
      "outputs": [
        {
          "output_type": "stream",
          "name": "stdout",
          "text": [
            "[(0, 1)]\n"
          ]
        }
      ]
    },
    {
      "cell_type": "code",
      "source": [],
      "metadata": {
        "id": "BHyZdiWamFIf"
      },
      "execution_count": 51,
      "outputs": []
    },
    {
      "cell_type": "code",
      "source": [
        "def two_sum(nums, target):\n",
        "  d = {}\n",
        "\n",
        "  for i in range(len(nums)):\n",
        "    if target - nums[i] in d:\n",
        "      print(d)\n",
        "      return [d[target-nums[i]],i]\n",
        "\n",
        "    d[nums[i]] = i\n",
        "\n",
        "  return -1"
      ],
      "metadata": {
        "id": "YNkwHFqNmFxI"
      },
      "execution_count": 52,
      "outputs": []
    },
    {
      "cell_type": "code",
      "source": [
        "l = [2, 5, 3, 7, 4]\n",
        "print(two_sum(l, 10))"
      ],
      "metadata": {
        "colab": {
          "base_uri": "https://localhost:8080/"
        },
        "id": "Jo4hDb3ymYYu",
        "outputId": "3642345d-9427-46a5-d033-7c62e27a7e78"
      },
      "execution_count": 53,
      "outputs": [
        {
          "output_type": "stream",
          "name": "stdout",
          "text": [
            "{2: 0, 5: 1, 3: 2}\n",
            "[2, 3]\n"
          ]
        }
      ]
    },
    {
      "cell_type": "code",
      "source": [
        "print(two_sum(l, 9))"
      ],
      "metadata": {
        "colab": {
          "base_uri": "https://localhost:8080/"
        },
        "id": "t_sJ0TDpmcHY",
        "outputId": "3cdb30a2-68c2-45aa-f22e-01e55907bf6a"
      },
      "execution_count": 54,
      "outputs": [
        {
          "output_type": "stream",
          "name": "stdout",
          "text": [
            "{2: 0, 5: 1, 3: 2}\n",
            "[0, 3]\n"
          ]
        }
      ]
    },
    {
      "cell_type": "code",
      "source": [
        "print(two_sum(l, 7))"
      ],
      "metadata": {
        "colab": {
          "base_uri": "https://localhost:8080/"
        },
        "id": "ruh4pXQ3mgaa",
        "outputId": "72a59e6e-69bf-4e3c-b5a3-afac58e1fb3d"
      },
      "execution_count": 55,
      "outputs": [
        {
          "output_type": "stream",
          "name": "stdout",
          "text": [
            "{2: 0}\n",
            "[0, 1]\n"
          ]
        }
      ]
    },
    {
      "cell_type": "code",
      "source": [
        "print(two_sum([3, 3], 6))"
      ],
      "metadata": {
        "colab": {
          "base_uri": "https://localhost:8080/"
        },
        "id": "jjndrEwcmnuA",
        "outputId": "08601d6c-95f3-4ca5-d589-bcb34fe076f9"
      },
      "execution_count": 56,
      "outputs": [
        {
          "output_type": "stream",
          "name": "stdout",
          "text": [
            "{3: 0}\n",
            "[0, 1]\n"
          ]
        }
      ]
    },
    {
      "cell_type": "code",
      "source": [
        "L = [8, 6, 11, 3]\n",
        "print(two_sum(L, 9))"
      ],
      "metadata": {
        "colab": {
          "base_uri": "https://localhost:8080/"
        },
        "id": "CgMTE5AxmrjW",
        "outputId": "1207aea6-e567-4747-b9ba-44381c4dbc23"
      },
      "execution_count": 57,
      "outputs": [
        {
          "output_type": "stream",
          "name": "stdout",
          "text": [
            "{8: 0, 6: 1, 11: 2}\n",
            "[1, 3]\n"
          ]
        }
      ]
    },
    {
      "cell_type": "code",
      "source": [
        "print(two_sum(L, 12))"
      ],
      "metadata": {
        "colab": {
          "base_uri": "https://localhost:8080/"
        },
        "id": "A3_ZU02DmyH9",
        "outputId": "99388035-ce1a-4c13-de91-0a76200b929b"
      },
      "execution_count": 59,
      "outputs": [
        {
          "output_type": "stream",
          "name": "stdout",
          "text": [
            "-1\n"
          ]
        }
      ]
    }
  ],
  "metadata": {
    "colab": {
      "provenance": [],
      "authorship_tag": "ABX9TyP2Fb8Z9z12CdMp96H0ZItM",
      "include_colab_link": true
    },
    "kernelspec": {
      "display_name": "Python 3",
      "name": "python3"
    },
    "language_info": {
      "name": "python"
    }
  },
  "nbformat": 4,
  "nbformat_minor": 0
}