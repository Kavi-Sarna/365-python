{
  "nbformat": 4,
  "nbformat_minor": 0,
  "metadata": {
    "colab": {
      "provenance": [],
      "authorship_tag": "ABX9TyPsM7ols1W/wgcgP8893pFJ",
      "include_colab_link": true
    },
    "kernelspec": {
      "name": "python3",
      "display_name": "Python 3"
    },
    "language_info": {
      "name": "python"
    }
  },
  "cells": [
    {
      "cell_type": "markdown",
      "metadata": {
        "id": "view-in-github",
        "colab_type": "text"
      },
      "source": [
        "<a href=\"https://colab.research.google.com/github/Kavi-Sarna/365-python/blob/main/2%20-%20Python%20Programmer%20Bootcamp/17%20-%20Exception%20Handling/1%20-%20Exception%20Handling.ipynb\" target=\"_parent\"><img src=\"https://colab.research.google.com/assets/colab-badge.svg\" alt=\"Open In Colab\"/></a>"
      ]
    },
    {
      "cell_type": "markdown",
      "source": [
        "## Exception Handling"
      ],
      "metadata": {
        "id": "KtYYl9QWygQ6"
      }
    },
    {
      "cell_type": "markdown",
      "source": [
        "Sometimes things go wrong, when they do Python will tell us about it with an error message.\n",
        "You have already encountered error messages.  \n",
        "**SyntaxError** is a common error that you will have seen as shown below:-  "
      ],
      "metadata": {
        "id": "sfmpaJR_ym9U"
      }
    },
    {
      "cell_type": "code",
      "source": [
        "print(Hello world)"
      ],
      "metadata": {
        "colab": {
          "base_uri": "https://localhost:8080/",
          "height": 140
        },
        "id": "ScFUHZc5yfmE",
        "outputId": "de51a3db-4f33-48cf-aabd-f75adec62bf7"
      },
      "execution_count": 1,
      "outputs": [
        {
          "output_type": "error",
          "ename": "SyntaxError",
          "evalue": "ignored",
          "traceback": [
            "\u001b[0;36m  File \u001b[0;32m\"<ipython-input-1-50b4ae29d403>\"\u001b[0;36m, line \u001b[0;32m1\u001b[0m\n\u001b[0;31m    print(Hello world)\u001b[0m\n\u001b[0m          ^\u001b[0m\n\u001b[0;31mSyntaxError\u001b[0m\u001b[0;31m:\u001b[0m invalid syntax. Perhaps you forgot a comma?\n"
          ]
        }
      ]
    },
    {
      "cell_type": "markdown",
      "source": [
        "In the cell above we have tried to use the print function incorrectly. It should be **print(\"Hello world\")**, this has triggered a **SyntaxError**.  \n",
        "Note how we are giving a lot of useful information about the error - the name of the file where it occurred, the line number and a carat ^ indicating where the interpreter tripped up. We are then told the type of error.  \n",
        "\n",
        "In Python, all errors are a type of exception, for a full list of exceptions visit https://docs.python.org/3.8/library/exceptions.html - like everything in Python, an exception is an object and all exceptions extend from the **BaseException object**. Other exceptions that you might have encountered are **ArithmeticException** of which **ZeroDivisionError** is an example. There is also **IndexError** which is a type of **LookupError**.  \n",
        "\n",
        "Suppose we were writing a block of code where we anticipated an exception could occur. We might want to mitigate the problems it could cause in advance. **Exception handling enables us to do this**."
      ],
      "metadata": {
        "id": "Z7pPEZcfy1h_"
      }
    },
    {
      "cell_type": "markdown",
      "source": [
        "## How is Exception Handling done in Python?  "
      ],
      "metadata": {
        "id": "V_ADU_7py9Ni"
      }
    },
    {
      "cell_type": "markdown",
      "source": [
        "<div class=\"alert alert-block alert-info\">\n",
        "    <b>Tip:</b> The way Python handles exceptions is a little bit like using an <b>if - else</b> statement.  \n",
        "There are several elements used to handle exceptions in Python.  \n",
        "    They consist of a <b>try block</b>, an <b>except</b> clause, and <b>else</b> statement and a <b>finally</b> clause.\n",
        "</div>"
      ],
      "metadata": {
        "id": "X-5jfUg2zCdV"
      }
    },
    {
      "cell_type": "markdown",
      "source": [
        "### Let's look at an example"
      ],
      "metadata": {
        "id": "AuCqI5zczNAN"
      }
    },
    {
      "cell_type": "code",
      "source": [
        "def division(x: float, y: float) -> float:\n",
        "  return x/y\n",
        "\n",
        "division(3.0, 2.0)"
      ],
      "metadata": {
        "colab": {
          "base_uri": "https://localhost:8080/"
        },
        "id": "-xawje7lyskR",
        "outputId": "b2e1a705-5d63-4033-85f3-8f17f95c8cb0"
      },
      "execution_count": 2,
      "outputs": [
        {
          "output_type": "execute_result",
          "data": {
            "text/plain": [
              "1.5"
            ]
          },
          "metadata": {},
          "execution_count": 2
        }
      ]
    },
    {
      "cell_type": "code",
      "source": [
        "division(3.0, 0)"
      ],
      "metadata": {
        "colab": {
          "base_uri": "https://localhost:8080/",
          "height": 279
        },
        "id": "2kSmcn53zY2R",
        "outputId": "01dbac07-cece-4cda-9088-2c43b0580cfe"
      },
      "execution_count": 3,
      "outputs": [
        {
          "output_type": "error",
          "ename": "ZeroDivisionError",
          "evalue": "ignored",
          "traceback": [
            "\u001b[0;31m---------------------------------------------------------------------------\u001b[0m",
            "\u001b[0;31mZeroDivisionError\u001b[0m                         Traceback (most recent call last)",
            "\u001b[0;32m<ipython-input-3-6ba96310472a>\u001b[0m in \u001b[0;36m<cell line: 1>\u001b[0;34m()\u001b[0m\n\u001b[0;32m----> 1\u001b[0;31m \u001b[0mdivision\u001b[0m\u001b[0;34m(\u001b[0m\u001b[0;36m3.0\u001b[0m\u001b[0;34m,\u001b[0m \u001b[0;36m0\u001b[0m\u001b[0;34m)\u001b[0m\u001b[0;34m\u001b[0m\u001b[0;34m\u001b[0m\u001b[0m\n\u001b[0m",
            "\u001b[0;32m<ipython-input-2-455a2cdfd6c0>\u001b[0m in \u001b[0;36mdivision\u001b[0;34m(x, y)\u001b[0m\n\u001b[1;32m      1\u001b[0m \u001b[0;32mdef\u001b[0m \u001b[0mdivision\u001b[0m\u001b[0;34m(\u001b[0m\u001b[0mx\u001b[0m\u001b[0;34m:\u001b[0m \u001b[0mfloat\u001b[0m\u001b[0;34m,\u001b[0m \u001b[0my\u001b[0m\u001b[0;34m:\u001b[0m \u001b[0mfloat\u001b[0m\u001b[0;34m)\u001b[0m \u001b[0;34m->\u001b[0m \u001b[0mfloat\u001b[0m\u001b[0;34m:\u001b[0m\u001b[0;34m\u001b[0m\u001b[0;34m\u001b[0m\u001b[0m\n\u001b[0;32m----> 2\u001b[0;31m   \u001b[0;32mreturn\u001b[0m \u001b[0mx\u001b[0m\u001b[0;34m/\u001b[0m\u001b[0my\u001b[0m\u001b[0;34m\u001b[0m\u001b[0;34m\u001b[0m\u001b[0m\n\u001b[0m\u001b[1;32m      3\u001b[0m \u001b[0;34m\u001b[0m\u001b[0m\n\u001b[1;32m      4\u001b[0m \u001b[0mdivision\u001b[0m\u001b[0;34m(\u001b[0m\u001b[0;36m3.0\u001b[0m\u001b[0;34m,\u001b[0m \u001b[0;36m2.0\u001b[0m\u001b[0;34m)\u001b[0m\u001b[0;34m\u001b[0m\u001b[0;34m\u001b[0m\u001b[0m\n",
            "\u001b[0;31mZeroDivisionError\u001b[0m: float division by zero"
          ]
        }
      ]
    },
    {
      "cell_type": "code",
      "source": [
        "try:\n",
        "  division(3.0, 0)\n",
        "except ZeroDivisionError:\n",
        "  print(\"Cannot divide by zero\")"
      ],
      "metadata": {
        "colab": {
          "base_uri": "https://localhost:8080/"
        },
        "id": "QEmUhVMszdtR",
        "outputId": "90cc75fa-3a2a-4e90-dac8-10b9276e7ed5"
      },
      "execution_count": 4,
      "outputs": [
        {
          "output_type": "stream",
          "name": "stdout",
          "text": [
            "Cannot divide by zero\n"
          ]
        }
      ]
    },
    {
      "cell_type": "code",
      "source": [
        "try:\n",
        "  division(3.0, 0)\n",
        "except ZeroDivisionError as err:\n",
        "  print(err)\n",
        "  print(\"Cannot divide by zero\")"
      ],
      "metadata": {
        "colab": {
          "base_uri": "https://localhost:8080/"
        },
        "id": "SNAZGmq8zq8z",
        "outputId": "8b3acffc-52af-4ce0-b883-8f9d347ac4f8"
      },
      "execution_count": 5,
      "outputs": [
        {
          "output_type": "stream",
          "name": "stdout",
          "text": [
            "float division by zero\n",
            "Cannot divide by zero\n"
          ]
        }
      ]
    },
    {
      "cell_type": "code",
      "source": [
        "try:\n",
        "  division(3.0, \"potato\")\n",
        "except ZeroDivisionError as err:\n",
        "  print(err)\n",
        "  print(\"Cannot divide by zero\")"
      ],
      "metadata": {
        "colab": {
          "base_uri": "https://localhost:8080/",
          "height": 349
        },
        "id": "QrixqgKGzzl8",
        "outputId": "d28330aa-e2a3-4b1e-c05b-469213283bcf"
      },
      "execution_count": 6,
      "outputs": [
        {
          "output_type": "error",
          "ename": "TypeError",
          "evalue": "ignored",
          "traceback": [
            "\u001b[0;31m---------------------------------------------------------------------------\u001b[0m",
            "\u001b[0;31mTypeError\u001b[0m                                 Traceback (most recent call last)",
            "\u001b[0;32m<ipython-input-6-50aa39b052b7>\u001b[0m in \u001b[0;36m<cell line: 1>\u001b[0;34m()\u001b[0m\n\u001b[1;32m      1\u001b[0m \u001b[0;32mtry\u001b[0m\u001b[0;34m:\u001b[0m\u001b[0;34m\u001b[0m\u001b[0;34m\u001b[0m\u001b[0m\n\u001b[0;32m----> 2\u001b[0;31m   \u001b[0mdivision\u001b[0m\u001b[0;34m(\u001b[0m\u001b[0;36m3.0\u001b[0m\u001b[0;34m,\u001b[0m \u001b[0;34m\"potato\"\u001b[0m\u001b[0;34m)\u001b[0m\u001b[0;34m\u001b[0m\u001b[0;34m\u001b[0m\u001b[0m\n\u001b[0m\u001b[1;32m      3\u001b[0m \u001b[0;32mexcept\u001b[0m \u001b[0mZeroDivisionError\u001b[0m \u001b[0;32mas\u001b[0m \u001b[0merr\u001b[0m\u001b[0;34m:\u001b[0m\u001b[0;34m\u001b[0m\u001b[0;34m\u001b[0m\u001b[0m\n\u001b[1;32m      4\u001b[0m   \u001b[0mprint\u001b[0m\u001b[0;34m(\u001b[0m\u001b[0merr\u001b[0m\u001b[0;34m)\u001b[0m\u001b[0;34m\u001b[0m\u001b[0;34m\u001b[0m\u001b[0m\n\u001b[1;32m      5\u001b[0m   \u001b[0mprint\u001b[0m\u001b[0;34m(\u001b[0m\u001b[0;34m\"Cannot divide by zero\"\u001b[0m\u001b[0;34m)\u001b[0m\u001b[0;34m\u001b[0m\u001b[0;34m\u001b[0m\u001b[0m\n",
            "\u001b[0;32m<ipython-input-2-455a2cdfd6c0>\u001b[0m in \u001b[0;36mdivision\u001b[0;34m(x, y)\u001b[0m\n\u001b[1;32m      1\u001b[0m \u001b[0;32mdef\u001b[0m \u001b[0mdivision\u001b[0m\u001b[0;34m(\u001b[0m\u001b[0mx\u001b[0m\u001b[0;34m:\u001b[0m \u001b[0mfloat\u001b[0m\u001b[0;34m,\u001b[0m \u001b[0my\u001b[0m\u001b[0;34m:\u001b[0m \u001b[0mfloat\u001b[0m\u001b[0;34m)\u001b[0m \u001b[0;34m->\u001b[0m \u001b[0mfloat\u001b[0m\u001b[0;34m:\u001b[0m\u001b[0;34m\u001b[0m\u001b[0;34m\u001b[0m\u001b[0m\n\u001b[0;32m----> 2\u001b[0;31m   \u001b[0;32mreturn\u001b[0m \u001b[0mx\u001b[0m\u001b[0;34m/\u001b[0m\u001b[0my\u001b[0m\u001b[0;34m\u001b[0m\u001b[0;34m\u001b[0m\u001b[0m\n\u001b[0m\u001b[1;32m      3\u001b[0m \u001b[0;34m\u001b[0m\u001b[0m\n\u001b[1;32m      4\u001b[0m \u001b[0mdivision\u001b[0m\u001b[0;34m(\u001b[0m\u001b[0;36m3.0\u001b[0m\u001b[0;34m,\u001b[0m \u001b[0;36m2.0\u001b[0m\u001b[0;34m)\u001b[0m\u001b[0;34m\u001b[0m\u001b[0;34m\u001b[0m\u001b[0m\n",
            "\u001b[0;31mTypeError\u001b[0m: unsupported operand type(s) for /: 'float' and 'str'"
          ]
        }
      ]
    },
    {
      "cell_type": "code",
      "source": [
        "try:\n",
        "  division(3.0, \"potato\")\n",
        "except ZeroDivisionError as err:\n",
        "  print(err)\n",
        "  print(\"Cannot divide by zero\")\n",
        "except TypeError as t_err:\n",
        "  print(t_err)\n",
        "  print(\"Please input a number\")"
      ],
      "metadata": {
        "colab": {
          "base_uri": "https://localhost:8080/"
        },
        "id": "07QktgNDz_vp",
        "outputId": "32e71b4c-ce63-49b5-8f08-e653eb8b9745"
      },
      "execution_count": 7,
      "outputs": [
        {
          "output_type": "stream",
          "name": "stdout",
          "text": [
            "unsupported operand type(s) for /: 'float' and 'str'\n",
            "Please input a number\n"
          ]
        }
      ]
    },
    {
      "cell_type": "markdown",
      "source": [
        "### The block stops running as soon as the the exception is encountered"
      ],
      "metadata": {
        "id": "eGkQpJDP0XSk"
      }
    },
    {
      "cell_type": "code",
      "source": [
        "def division2(x: float, y: float) -> float:\n",
        "  print(\"Let's get started\")\n",
        "  output = x / y\n",
        "  print(\"All done!\")\n",
        "  return output"
      ],
      "metadata": {
        "id": "LD-BVzTu0KE7"
      },
      "execution_count": 8,
      "outputs": []
    },
    {
      "cell_type": "code",
      "source": [
        "print(\"Entering try block\")\n",
        "try:\n",
        "  division2(3.0, \"potato\")\n",
        "except ZeroDivisionError as err:\n",
        "  print(err)\n",
        "  print(\"Cannot divide by zero\")\n",
        "except TypeError as t_err:\n",
        "  print(t_err)\n",
        "  print(\"Please input a number\")\n",
        "print(\"Program finished\")"
      ],
      "metadata": {
        "colab": {
          "base_uri": "https://localhost:8080/"
        },
        "id": "aLOQqz0p0kLN",
        "outputId": "ea36ae2e-3f11-4be0-f098-d26778c22ac2"
      },
      "execution_count": 9,
      "outputs": [
        {
          "output_type": "stream",
          "name": "stdout",
          "text": [
            "Entering try block\n",
            "Let's get started\n",
            "unsupported operand type(s) for /: 'float' and 'str'\n",
            "Please input a number\n",
            "Program finished\n"
          ]
        }
      ]
    },
    {
      "cell_type": "code",
      "source": [
        "print(\"Entering try block\")\n",
        "try:\n",
        "  division2(3.0, 2.0)\n",
        "except ZeroDivisionError as err:\n",
        "  print(err)\n",
        "  print(\"Cannot divide by zero\")\n",
        "except TypeError as t_err:\n",
        "  print(t_err)\n",
        "  print(\"Please input a number\")\n",
        "print(\"Program finished\")"
      ],
      "metadata": {
        "colab": {
          "base_uri": "https://localhost:8080/"
        },
        "id": "KIscRuvS0t6P",
        "outputId": "6fd48366-c172-480d-ebed-dc4357190db8"
      },
      "execution_count": 10,
      "outputs": [
        {
          "output_type": "stream",
          "name": "stdout",
          "text": [
            "Entering try block\n",
            "Let's get started\n",
            "All done!\n",
            "Program finished\n"
          ]
        }
      ]
    },
    {
      "cell_type": "markdown",
      "source": [
        "### Optional else block  "
      ],
      "metadata": {
        "id": "DG8vQJ6B1DvS"
      }
    },
    {
      "cell_type": "markdown",
      "source": [
        "This only executes if no errors are encountered"
      ],
      "metadata": {
        "id": "G718AkMu1GZr"
      }
    },
    {
      "cell_type": "code",
      "source": [
        "print(\"Entering try block\")\n",
        "try:\n",
        "  division2(3.0, 2.0)\n",
        "except ZeroDivisionError as err:\n",
        "  print(err)\n",
        "  print(\"Cannot divide by zero\")\n",
        "except TypeError as t_err:\n",
        "  print(t_err)\n",
        "  print(\"Please input a number\")\n",
        "else:\n",
        "  print(\"Program finished without error\")"
      ],
      "metadata": {
        "colab": {
          "base_uri": "https://localhost:8080/"
        },
        "id": "PRQjb7dc09Zj",
        "outputId": "ca92086f-bde5-48eb-f6ec-8f8e4d5b47c8"
      },
      "execution_count": 11,
      "outputs": [
        {
          "output_type": "stream",
          "name": "stdout",
          "text": [
            "Entering try block\n",
            "Let's get started\n",
            "All done!\n",
            "Program finished without error\n"
          ]
        }
      ]
    },
    {
      "cell_type": "code",
      "source": [
        "print(\"Entering try block\")\n",
        "try:\n",
        "  division2(3.0, 0)\n",
        "except ZeroDivisionError as err:\n",
        "  print(err)\n",
        "  print(\"Cannot divide by zero\")\n",
        "except TypeError as t_err:\n",
        "  print(t_err)\n",
        "  print(\"Please input a number\")\n",
        "else:\n",
        "  print(\"Program finished without error\")"
      ],
      "metadata": {
        "colab": {
          "base_uri": "https://localhost:8080/"
        },
        "id": "7z51RghF1RVS",
        "outputId": "ddd4e0c5-201e-48e9-fe7f-6a53d9205f24"
      },
      "execution_count": 12,
      "outputs": [
        {
          "output_type": "stream",
          "name": "stdout",
          "text": [
            "Entering try block\n",
            "Let's get started\n",
            "float division by zero\n",
            "Cannot divide by zero\n"
          ]
        }
      ]
    },
    {
      "cell_type": "markdown",
      "source": [
        "### Optional finally block  "
      ],
      "metadata": {
        "id": "MrEuPwnG1gcX"
      }
    },
    {
      "cell_type": "markdown",
      "source": [
        "This will execute whatever the outcome of the try block"
      ],
      "metadata": {
        "id": "7dPjqhet1jDC"
      }
    },
    {
      "cell_type": "code",
      "source": [
        "print(\"Entering try block\")\n",
        "try:\n",
        "  division2(3.0, 0) # This will cause an error\n",
        "except ZeroDivisionError as err:\n",
        "  print(err)\n",
        "  print(\"Cannot divide by zero\")\n",
        "except TypeError as t_err:\n",
        "  print(t_err)\n",
        "  print(\"Please input a number\")\n",
        "else:\n",
        "  print(\"Program finished without error\")\n",
        "finally:\n",
        "  print(\"That concludes this code block\")"
      ],
      "metadata": {
        "colab": {
          "base_uri": "https://localhost:8080/"
        },
        "id": "ywJoLBwe1dp_",
        "outputId": "6adeb609-a46a-4b8c-fa48-8cd6bfda0f29"
      },
      "execution_count": 13,
      "outputs": [
        {
          "output_type": "stream",
          "name": "stdout",
          "text": [
            "Entering try block\n",
            "Let's get started\n",
            "float division by zero\n",
            "Cannot divide by zero\n",
            "That concludes this code block\n"
          ]
        }
      ]
    },
    {
      "cell_type": "code",
      "source": [
        "print(\"Entering try block\")\n",
        "try:\n",
        "  division2(3, 2) # This will not cause an error\n",
        "except ZeroDivisionError as err:\n",
        "  print(err)\n",
        "  print(\"Cannot divide by zero\")\n",
        "except TypeError as t_err:\n",
        "  print(t_err)\n",
        "  print(\"Please input a number\")\n",
        "else:\n",
        "  print(\"Program finished without error\")\n",
        "finally:\n",
        "  print(\"That concludes this code block\")"
      ],
      "metadata": {
        "colab": {
          "base_uri": "https://localhost:8080/"
        },
        "id": "v3lNgW6s1wMC",
        "outputId": "b776fe23-f136-444d-cef0-63050f6795a1"
      },
      "execution_count": 14,
      "outputs": [
        {
          "output_type": "stream",
          "name": "stdout",
          "text": [
            "Entering try block\n",
            "Let's get started\n",
            "All done!\n",
            "Program finished without error\n",
            "That concludes this code block\n"
          ]
        }
      ]
    },
    {
      "cell_type": "markdown",
      "source": [
        "### Generic block for unknown errors"
      ],
      "metadata": {
        "id": "HbMBb4Dp2CbS"
      }
    },
    {
      "cell_type": "markdown",
      "source": [
        "As a catch all you can add a generic **except** block to catch any unexpected errors"
      ],
      "metadata": {
        "id": "WJzzpIHg2FUB"
      }
    },
    {
      "cell_type": "code",
      "source": [
        "print(\"Entering try block\")\n",
        "try:\n",
        "  division2(3, 2) # This will not cause an error\n",
        "except ZeroDivisionError as err:\n",
        "  print(err)\n",
        "  print(\"Cannot divide by zero\")\n",
        "except TypeError as t_err:\n",
        "  print(t_err)\n",
        "  print(\"Please input a number\")\n",
        "except:\n",
        "  print(\"Something unforeseen happened\")\n",
        "else:\n",
        "  print(\"Program finished without error\")\n",
        "finally:\n",
        "  print(\"That concludes this code block\")"
      ],
      "metadata": {
        "colab": {
          "base_uri": "https://localhost:8080/"
        },
        "id": "-TnX-svu1_th",
        "outputId": "346de7c5-79e0-4f7c-e715-c190b450b963"
      },
      "execution_count": 15,
      "outputs": [
        {
          "output_type": "stream",
          "name": "stdout",
          "text": [
            "Entering try block\n",
            "Let's get started\n",
            "All done!\n",
            "Program finished without error\n",
            "That concludes this code block\n"
          ]
        }
      ]
    },
    {
      "cell_type": "markdown",
      "source": [
        "### When to use try block\n",
        "\n",
        "Example below taken from __[Python Documentation](https://docs.python.org/3/tutorial/errors.html)__"
      ],
      "metadata": {
        "id": "qAriLrEZ2XVN"
      }
    },
    {
      "cell_type": "code",
      "source": [
        "while True:\n",
        "  try:\n",
        "    x = int(input(\"Please enter a number: \"))\n",
        "    break\n",
        "  except ValueError:\n",
        "    print(\"Oops!  That was not a valid number.  Try again...\")"
      ],
      "metadata": {
        "colab": {
          "base_uri": "https://localhost:8080/"
        },
        "id": "OsUZgYr82Sn8",
        "outputId": "83ac46f8-3d74-472e-8196-76c1e1e599f0"
      },
      "execution_count": 17,
      "outputs": [
        {
          "name": "stdout",
          "output_type": "stream",
          "text": [
            "Please enter a number: s\n",
            "Oops!  That was not a valid number.  Try again...\n",
            "Please enter a number: 4\n"
          ]
        }
      ]
    },
    {
      "cell_type": "markdown",
      "source": [
        "## Raising Exceptions\n",
        "\n",
        "There are times when you might want to raise your own exception. This can be done using the **raise** keyword.  \n",
        "\n",
        "Imagine you were asking for user input where the requirement was an integer. You can **raise** an exception if the input is the wrong type, as shown in the code example below."
      ],
      "metadata": {
        "id": "34xXpnLf2uLv"
      }
    },
    {
      "cell_type": "code",
      "source": [
        "try:\n",
        "  x = \"My name\"\n",
        "  if not type(x) is int:\n",
        "    raise TypeError(\"Only integers are allowed\")\n",
        "except TypeError as e:\n",
        "  print(e)\n",
        "else:\n",
        "  print(\"Valid Input\")"
      ],
      "metadata": {
        "colab": {
          "base_uri": "https://localhost:8080/"
        },
        "id": "UqY2LNpN2kQA",
        "outputId": "71db495f-b8e8-465e-d74c-9c674c643c54"
      },
      "execution_count": 18,
      "outputs": [
        {
          "output_type": "stream",
          "name": "stdout",
          "text": [
            "Only integers are allowed\n"
          ]
        }
      ]
    }
  ]
}