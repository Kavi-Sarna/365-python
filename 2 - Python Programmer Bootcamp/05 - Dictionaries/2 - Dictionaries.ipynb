{
  "cells": [
    {
      "cell_type": "markdown",
      "metadata": {
        "id": "view-in-github",
        "colab_type": "text"
      },
      "source": [
        "<a href=\"https://colab.research.google.com/github/Kavi-Sarna/365-python/blob/main/3%20-%20Python%20Programmer%20Bootcamp/5%20-%20Dictionaries/2%20-%20Dictionaries.ipynb\" target=\"_parent\"><img src=\"https://colab.research.google.com/assets/colab-badge.svg\" alt=\"Open In Colab\"/></a>"
      ]
    },
    {
      "cell_type": "markdown",
      "source": [
        "Dictionaries"
      ],
      "metadata": {
        "id": "u_tEpSxFd-OT"
      }
    },
    {
      "cell_type": "code",
      "source": [
        "capitals = {\n",
        "    'France':'Paris',\n",
        "    'Spain':'Madrid',\n",
        "    'United Kingdom':'London',\n",
        "    'India':'New Delhi',\n",
        "    'United States':'Washington DC',\n",
        "    'Italy':'Rome',\n",
        "    'Denmark':'Copenhagen',\n",
        "    'Germany':'Berlin',\n",
        "    'Greece':'Athens',\n",
        "    'Bulgaria':'Sofia',\n",
        "    'Ireland':'Dublin',\n",
        "    'Mexico':'Mexico City'\n",
        "  }"
      ],
      "metadata": {
        "id": "6g6mLEtTejJn"
      },
      "execution_count": 17,
      "outputs": []
    },
    {
      "cell_type": "code",
      "source": [
        "capitals['Germany']"
      ],
      "metadata": {
        "colab": {
          "base_uri": "https://localhost:8080/",
          "height": 35
        },
        "id": "kXD4DnO_e_Vd",
        "outputId": "5cad5c0b-dcaa-48b2-884e-83d5cc9010ba"
      },
      "execution_count": 18,
      "outputs": [
        {
          "output_type": "execute_result",
          "data": {
            "text/plain": [
              "'Berlin'"
            ],
            "application/vnd.google.colaboratory.intrinsic+json": {
              "type": "string"
            }
          },
          "metadata": {},
          "execution_count": 18
        }
      ]
    },
    {
      "cell_type": "code",
      "source": [
        "capitals.get('Germany')"
      ],
      "metadata": {
        "colab": {
          "base_uri": "https://localhost:8080/",
          "height": 35
        },
        "id": "VdwVkFmjfIJL",
        "outputId": "43536bdf-809a-4bc0-9081-9a0e20570072"
      },
      "execution_count": 19,
      "outputs": [
        {
          "output_type": "execute_result",
          "data": {
            "text/plain": [
              "'Berlin'"
            ],
            "application/vnd.google.colaboratory.intrinsic+json": {
              "type": "string"
            }
          },
          "metadata": {},
          "execution_count": 19
        }
      ]
    },
    {
      "cell_type": "code",
      "source": [
        "capitals['South Korea'] = 'Seoul'"
      ],
      "metadata": {
        "id": "Jddb7zeufRX9"
      },
      "execution_count": 20,
      "outputs": []
    },
    {
      "cell_type": "code",
      "source": [
        "capitals"
      ],
      "metadata": {
        "colab": {
          "base_uri": "https://localhost:8080/"
        },
        "id": "8tzYu7uzfXMF",
        "outputId": "348ff346-55b1-40c0-afdc-e351991ace12"
      },
      "execution_count": 21,
      "outputs": [
        {
          "output_type": "execute_result",
          "data": {
            "text/plain": [
              "{'France': 'Paris',\n",
              " 'Spain': 'Madrid',\n",
              " 'United Kingdom': 'London',\n",
              " 'India': 'New Delhi',\n",
              " 'United States': 'Washington DC',\n",
              " 'Italy': 'Rome',\n",
              " 'Denmark': 'Copenhagen',\n",
              " 'Germany': 'Berlin',\n",
              " 'Greece': 'Athens',\n",
              " 'Bulgaria': 'Sofia',\n",
              " 'Ireland': 'Dublin',\n",
              " 'Mexico': 'Mexico City',\n",
              " 'South Korea': 'Seoul'}"
            ]
          },
          "metadata": {},
          "execution_count": 21
        }
      ]
    },
    {
      "cell_type": "code",
      "source": [
        "capitals.items()"
      ],
      "metadata": {
        "colab": {
          "base_uri": "https://localhost:8080/"
        },
        "id": "mFDzNRDpfX8n",
        "outputId": "5dd8301c-cf89-4f4c-d786-44d7feb5d302"
      },
      "execution_count": 22,
      "outputs": [
        {
          "output_type": "execute_result",
          "data": {
            "text/plain": [
              "dict_items([('France', 'Paris'), ('Spain', 'Madrid'), ('United Kingdom', 'London'), ('India', 'New Delhi'), ('United States', 'Washington DC'), ('Italy', 'Rome'), ('Denmark', 'Copenhagen'), ('Germany', 'Berlin'), ('Greece', 'Athens'), ('Bulgaria', 'Sofia'), ('Ireland', 'Dublin'), ('Mexico', 'Mexico City'), ('South Korea', 'Seoul')])"
            ]
          },
          "metadata": {},
          "execution_count": 22
        }
      ]
    },
    {
      "cell_type": "code",
      "source": [
        "for country in capitals:\n",
        "  print(country)"
      ],
      "metadata": {
        "colab": {
          "base_uri": "https://localhost:8080/"
        },
        "id": "rIJ9DQ93fijH",
        "outputId": "e2674e98-ced0-456b-bc28-2cb2e8219a19"
      },
      "execution_count": 23,
      "outputs": [
        {
          "output_type": "stream",
          "name": "stdout",
          "text": [
            "France\n",
            "Spain\n",
            "United Kingdom\n",
            "India\n",
            "United States\n",
            "Italy\n",
            "Denmark\n",
            "Germany\n",
            "Greece\n",
            "Bulgaria\n",
            "Ireland\n",
            "Mexico\n",
            "South Korea\n"
          ]
        }
      ]
    },
    {
      "cell_type": "code",
      "source": [
        "for country, city in capitals.items():\n",
        "  print(f'The capital of {country} is {city}')"
      ],
      "metadata": {
        "colab": {
          "base_uri": "https://localhost:8080/"
        },
        "id": "n61IIQA4fsXC",
        "outputId": "0b16d0c5-4ecc-4561-de66-d462cf9c6959"
      },
      "execution_count": 24,
      "outputs": [
        {
          "output_type": "stream",
          "name": "stdout",
          "text": [
            "The capital of France is Paris\n",
            "The capital of Spain is Madrid\n",
            "The capital of United Kingdom is London\n",
            "The capital of India is New Delhi\n",
            "The capital of United States is Washington DC\n",
            "The capital of Italy is Rome\n",
            "The capital of Denmark is Copenhagen\n",
            "The capital of Germany is Berlin\n",
            "The capital of Greece is Athens\n",
            "The capital of Bulgaria is Sofia\n",
            "The capital of Ireland is Dublin\n",
            "The capital of Mexico is Mexico City\n",
            "The capital of South Korea is Seoul\n"
          ]
        }
      ]
    },
    {
      "cell_type": "code",
      "source": [
        "capitals.keys()"
      ],
      "metadata": {
        "colab": {
          "base_uri": "https://localhost:8080/"
        },
        "id": "pzYVBNwJf4tf",
        "outputId": "0b7043a8-5534-4934-8402-3d782af3f71d"
      },
      "execution_count": 25,
      "outputs": [
        {
          "output_type": "execute_result",
          "data": {
            "text/plain": [
              "dict_keys(['France', 'Spain', 'United Kingdom', 'India', 'United States', 'Italy', 'Denmark', 'Germany', 'Greece', 'Bulgaria', 'Ireland', 'Mexico', 'South Korea'])"
            ]
          },
          "metadata": {},
          "execution_count": 25
        }
      ]
    },
    {
      "cell_type": "code",
      "source": [
        "capitals.values()"
      ],
      "metadata": {
        "colab": {
          "base_uri": "https://localhost:8080/"
        },
        "id": "Pu6Ab8dMf_cz",
        "outputId": "e7feb8ad-c32f-48dc-adf7-706bc5453885"
      },
      "execution_count": 26,
      "outputs": [
        {
          "output_type": "execute_result",
          "data": {
            "text/plain": [
              "dict_values(['Paris', 'Madrid', 'London', 'New Delhi', 'Washington DC', 'Rome', 'Copenhagen', 'Berlin', 'Athens', 'Sofia', 'Dublin', 'Mexico City', 'Seoul'])"
            ]
          },
          "metadata": {},
          "execution_count": 26
        }
      ]
    },
    {
      "cell_type": "code",
      "source": [
        "if 'France' in capitals:\n",
        "  print('It contains France')"
      ],
      "metadata": {
        "colab": {
          "base_uri": "https://localhost:8080/"
        },
        "id": "f5bSqHo1gA77",
        "outputId": "f0b48187-8211-4fd5-82f7-fc82c797176e"
      },
      "execution_count": 27,
      "outputs": [
        {
          "output_type": "stream",
          "name": "stdout",
          "text": [
            "It contains France\n"
          ]
        }
      ]
    },
    {
      "cell_type": "code",
      "source": [
        "if 'New Delhi' in capitals:\n",
        "  print('It contains New Delhi')"
      ],
      "metadata": {
        "id": "qZv3-ryhgMet"
      },
      "execution_count": 28,
      "outputs": []
    },
    {
      "cell_type": "code",
      "source": [],
      "metadata": {
        "id": "nWvxBJ9Jgcsd"
      },
      "execution_count": 28,
      "outputs": []
    },
    {
      "cell_type": "code",
      "source": [
        "L = [1, 2, 3, 4, 5]\n",
        "print(5 in L)\n",
        "print(7 in L)"
      ],
      "metadata": {
        "colab": {
          "base_uri": "https://localhost:8080/"
        },
        "id": "gyjs-FlEgkvh",
        "outputId": "8c1a30a8-b789-47c4-e1a1-1f2b7dc0c15a"
      },
      "execution_count": 32,
      "outputs": [
        {
          "output_type": "stream",
          "name": "stdout",
          "text": [
            "True\n",
            "False\n"
          ]
        }
      ]
    },
    {
      "cell_type": "code",
      "source": [],
      "metadata": {
        "id": "6KC1pXCwgp1F"
      },
      "execution_count": 32,
      "outputs": []
    },
    {
      "cell_type": "code",
      "source": [],
      "metadata": {
        "id": "fLW9BgQmg6Df"
      },
      "execution_count": 32,
      "outputs": []
    },
    {
      "cell_type": "code",
      "source": [
        "sherlock = '''\n",
        "Mr. Sherlock Holmes, who was usually very late in the mornings, save upon those not infrequent occasions when he was up all night, was seated at the breakfast table. I stood upon the hearth-rug and picked up the stick which our visitor had left behind him the night before. It was a fine, thick piece of wood, bulbous-headed, of the sort which is known as a “Penang lawyer.” Just under the head was a broad silver band nearly an inch across. “To James Mortimer, M.R.C.S., from his friends of the C.C.H.,” was engraved upon it, with the date “1884.” It was just such a stick as the old-fashioned family practitioner used to carry—dignified, solid, and reassuring.\n",
        "\n",
        "“Well, Watson, what do you make of it?”\n",
        "\n",
        "Holmes was sitting with his back to me, and I had given him no sign of my occupation.\n",
        "\n",
        "“How did you know what I was doing? I believe you have eyes in the back of your head.”\n",
        "\n",
        "“I have, at least, a well-polished, silver-plated coffee-pot in front of me,” said he. “But, tell me, Watson, what do you make of our visitor’s stick? Since we have been so unfortunate as to miss him and have no notion of his errand, this accidental souvenir becomes of importance. Let me hear you reconstruct the man by an examination of it.”\n",
        "\n",
        "“I think,” said I, following as far as I could the methods of my companion, “that Dr. Mortimer is a successful, elderly medical man, well-esteemed since those who know him give him this mark of their appreciation.”\n",
        "\n",
        "“Good!” said Holmes. “Excellent!”\n",
        "\n",
        "“I think also that the probability is in favour of his being a country practitioner who does a great deal of his visiting on foot.”\n",
        "\n",
        "“Why so?”\n",
        "\n",
        "“Because this stick, though originally a very handsome one has been so knocked about that I can hardly imagine a town practitioner carrying it. The thick-iron ferrule is worn down, so it is evident that he has done a great amount of walking with it.”\n",
        "\n",
        "“Perfectly sound!” said Holmes.\n",
        "\n",
        "“And then again, there is the ‘friends of the C.C.H.’ I should guess that to be the Something Hunt, the local hunt to whose members he has possibly given some surgical assistance, and which has made him a small presentation in return.”\n",
        "\n",
        "“Really, Watson, you excel yourself,” said Holmes, pushing back his chair and lighting a cigarette. “I am bound to say that in all the accounts which you have been so good as to give of my own small achievements you have habitually underrated your own abilities. It may be that you are not yourself luminous, but you are a conductor of light. Some people without possessing genius have a remarkable power of stimulating it. I confess, my dear fellow, that I am very much in your debt.”\n",
        "\n",
        "He had never said as much before, and I must admit that his words gave me keen pleasure, for I had often been piqued by his indifference to my admiration and to the attempts which I had made to give publicity to his methods. I was proud, too, to think that I had so far mastered his system as to apply it in a way which earned his approval. He now took the stick from my hands and examined it for a few minutes with his naked eyes. Then with an expression of interest he laid down his cigarette, and carrying the cane to the window, he looked over it again with a convex lens.\n",
        "'''"
      ],
      "metadata": {
        "id": "v_6v0jizg6O2"
      },
      "execution_count": 33,
      "outputs": []
    },
    {
      "cell_type": "code",
      "source": [
        "letter_count = {}\n",
        "for letter in sherlock:\n",
        "  letter_count[letter.lower()] = letter_count.get(letter, 0) + 1\n",
        "\n",
        "print(letter_count)"
      ],
      "metadata": {
        "colab": {
          "base_uri": "https://localhost:8080/"
        },
        "id": "RXDBk8RJg7b2",
        "outputId": "edbefcad-3c01-49b4-f9df-1c26baec46af"
      },
      "execution_count": 34,
      "outputs": [
        {
          "output_type": "stream",
          "name": "stdout",
          "text": [
            "{'\\n': 28, 'm': 48, 'r': 37, '.': 39, ' ': 569, 's': 37, 'h': 13, 'e': 142, 'l': 58, 'o': 199, 'c': 27, 'k': 30, ',': 46, 'w': 20, 'a': 91, 'u': 77, 'y': 51, 'v': 32, 't': 11, 'i': 23, 'n': 160, 'g': 30, 'p': 18, 'f': 56, 'q': 2, 'd': 56, 'b': 19, '-': 8, '“': 18, '”': 18, 'j': 2, '1': 1, '8': 2, '4': 1, '—': 1, '?': 4, '’': 2, 'x': 6, '!': 3, '‘': 1}\n"
          ]
        }
      ]
    },
    {
      "cell_type": "code",
      "source": [],
      "metadata": {
        "id": "t20LIVj9hPOc"
      },
      "execution_count": 34,
      "outputs": []
    },
    {
      "cell_type": "code",
      "source": [
        "import matplotlib.pyplot as plt"
      ],
      "metadata": {
        "id": "XFQnEBHehUqY"
      },
      "execution_count": 35,
      "outputs": []
    },
    {
      "cell_type": "code",
      "source": [
        "x, y = zip(*letter_count.items())"
      ],
      "metadata": {
        "id": "IjDR5adWhbXa"
      },
      "execution_count": 39,
      "outputs": []
    },
    {
      "cell_type": "code",
      "source": [
        "x"
      ],
      "metadata": {
        "colab": {
          "base_uri": "https://localhost:8080/"
        },
        "id": "VRno_omAiACY",
        "outputId": "fe97b77b-aa21-470c-f0b9-0f370c301d2f"
      },
      "execution_count": 40,
      "outputs": [
        {
          "output_type": "execute_result",
          "data": {
            "text/plain": [
              "('\\n',\n",
              " 'm',\n",
              " 'r',\n",
              " '.',\n",
              " ' ',\n",
              " 's',\n",
              " 'h',\n",
              " 'e',\n",
              " 'l',\n",
              " 'o',\n",
              " 'c',\n",
              " 'k',\n",
              " ',',\n",
              " 'w',\n",
              " 'a',\n",
              " 'u',\n",
              " 'y',\n",
              " 'v',\n",
              " 't',\n",
              " 'i',\n",
              " 'n',\n",
              " 'g',\n",
              " 'p',\n",
              " 'f',\n",
              " 'q',\n",
              " 'd',\n",
              " 'b',\n",
              " '-',\n",
              " '“',\n",
              " '”',\n",
              " 'j',\n",
              " '1',\n",
              " '8',\n",
              " '4',\n",
              " '—',\n",
              " '?',\n",
              " '’',\n",
              " 'x',\n",
              " '!',\n",
              " '‘')"
            ]
          },
          "metadata": {},
          "execution_count": 40
        }
      ]
    },
    {
      "cell_type": "code",
      "source": [
        "plt.bar(x, y)\n",
        "plt.show()"
      ],
      "metadata": {
        "colab": {
          "base_uri": "https://localhost:8080/",
          "height": 430
        },
        "id": "Bdu9nC9nhkFk",
        "outputId": "673bd130-14df-411f-80a9-b96e3abf7cb6"
      },
      "execution_count": 37,
      "outputs": [
        {
          "output_type": "display_data",
          "data": {
            "text/plain": [
              "<Figure size 640x480 with 1 Axes>"
            ],
            "image/png": "[encoded data removed]"
          },
          "metadata": {}
        }
      ]
    },
    {
      "cell_type": "code",
      "source": [
        "letter_count_clean = {}"
      ],
      "metadata": {
        "id": "AGoMhXBNhoyC"
      },
      "execution_count": 38,
      "outputs": []
    },
    {
      "cell_type": "code",
      "source": [
        "for k, v in letter_count.items():\n",
        "  if k.isalpha():\n",
        "    letter_count_clean[k] = v\n",
        "\n",
        "print(letter_count_clean)"
      ],
      "metadata": {
        "colab": {
          "base_uri": "https://localhost:8080/"
        },
        "id": "dkAh6t9Thy-L",
        "outputId": "93cb5d68-4197-4928-a65f-dc9e48e0e6f6"
      },
      "execution_count": 41,
      "outputs": [
        {
          "output_type": "stream",
          "name": "stdout",
          "text": [
            "{'m': 48, 'r': 37, 's': 37, 'h': 13, 'e': 142, 'l': 58, 'o': 199, 'c': 27, 'k': 30, 'w': 20, 'a': 91, 'u': 77, 'y': 51, 'v': 32, 't': 11, 'i': 23, 'n': 160, 'g': 30, 'p': 18, 'f': 56, 'q': 2, 'd': 56, 'b': 19, 'j': 2, 'x': 6}\n"
          ]
        }
      ]
    },
    {
      "cell_type": "code",
      "source": [],
      "metadata": {
        "id": "YTj21c_aiO2g"
      },
      "execution_count": 41,
      "outputs": []
    },
    {
      "cell_type": "code",
      "source": [
        "x, y = zip(*letter_count_clean.items())"
      ],
      "metadata": {
        "id": "OkFG_Vn_iR21"
      },
      "execution_count": 42,
      "outputs": []
    },
    {
      "cell_type": "code",
      "source": [
        "plt.bar(x, y)\n",
        "plt.show()"
      ],
      "metadata": {
        "colab": {
          "base_uri": "https://localhost:8080/",
          "height": 430
        },
        "id": "74B2hsNWiWGZ",
        "outputId": "87366b6f-496b-474c-fde0-f92fe53a40db"
      },
      "execution_count": 43,
      "outputs": [
        {
          "output_type": "display_data",
          "data": {
            "text/plain": [
              "<Figure size 640x480 with 1 Axes>"
            ],
            "image/png": "[encoded data removed]"
          },
          "metadata": {}
        }
      ]
    }
  ],
  "metadata": {
    "colab": {
      "provenance": [],
      "authorship_tag": "ABX9TyPtkCzFshH6b85DlMQyjtzY",
      "include_colab_link": true
    },
    "kernelspec": {
      "display_name": "Python 3",
      "name": "python3"
    },
    "language_info": {
      "name": "python"
    }
  },
  "nbformat": 4,
  "nbformat_minor": 0
}