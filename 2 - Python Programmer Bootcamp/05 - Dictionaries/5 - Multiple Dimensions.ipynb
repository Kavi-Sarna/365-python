{
  "nbformat": 4,
  "nbformat_minor": 0,
  "metadata": {
    "colab": {
      "provenance": [],
      "authorship_tag": "ABX9TyM2cVaqsrBvEHj0BR0Gyt5A",
      "include_colab_link": true
    },
    "kernelspec": {
      "name": "python3",
      "display_name": "Python 3"
    },
    "language_info": {
      "name": "python"
    }
  },
  "cells": [
    {
      "cell_type": "markdown",
      "metadata": {
        "id": "view-in-github",
        "colab_type": "text"
      },
      "source": [
        "<a href=\"https://colab.research.google.com/github/Kavi-Sarna/365-python/blob/main/3%20-%20Python%20Programmer%20Bootcamp/5%20-%20Dictionaries/5%20-%20Multiple%20Dimensions.ipynb\" target=\"_parent\"><img src=\"https://colab.research.google.com/assets/colab-badge.svg\" alt=\"Open In Colab\"/></a>"
      ]
    },
    {
      "cell_type": "markdown",
      "source": [
        "Multiple Dimensions"
      ],
      "metadata": {
        "id": "CBlb5ABQ-kjd"
      }
    },
    {
      "cell_type": "code",
      "source": [
        "my_list = [[1, 2, 3], [4, 5, 6], [7, 8, 9]]\n",
        "print(my_list)"
      ],
      "metadata": {
        "colab": {
          "base_uri": "https://localhost:8080/"
        },
        "id": "Os0tAjTm73OU",
        "outputId": "82c7c5d8-1708-4d85-b1f9-c0a113042e0f"
      },
      "execution_count": null,
      "outputs": [
        {
          "output_type": "stream",
          "name": "stdout",
          "text": [
            "[[1, 2, 3], [4, 5, 6], [7, 8, 9]]\n"
          ]
        }
      ]
    },
    {
      "cell_type": "code",
      "source": [
        "print(my_list[0])"
      ],
      "metadata": {
        "colab": {
          "base_uri": "https://localhost:8080/"
        },
        "id": "bmckBeWj8Pan",
        "outputId": "f580a125-29c9-4c50-f5b1-10442b7f982b"
      },
      "execution_count": null,
      "outputs": [
        {
          "output_type": "stream",
          "name": "stdout",
          "text": [
            "[1, 2, 3]\n"
          ]
        }
      ]
    },
    {
      "cell_type": "code",
      "source": [
        "print(my_list[1])"
      ],
      "metadata": {
        "colab": {
          "base_uri": "https://localhost:8080/"
        },
        "id": "JFT-iBZa8T0x",
        "outputId": "1b73bf0c-8639-4f48-b64c-50efd4d624da"
      },
      "execution_count": null,
      "outputs": [
        {
          "output_type": "stream",
          "name": "stdout",
          "text": [
            "[4, 5, 6]\n"
          ]
        }
      ]
    },
    {
      "cell_type": "code",
      "source": [
        "print(my_list[2])"
      ],
      "metadata": {
        "colab": {
          "base_uri": "https://localhost:8080/"
        },
        "id": "2a_rSGhX8Vxc",
        "outputId": "9292cb07-faef-4deb-a90d-a101a2c4bf2b"
      },
      "execution_count": null,
      "outputs": [
        {
          "output_type": "stream",
          "name": "stdout",
          "text": [
            "[7, 8, 9]\n"
          ]
        }
      ]
    },
    {
      "cell_type": "code",
      "source": [
        "print(my_list[1][1])"
      ],
      "metadata": {
        "colab": {
          "base_uri": "https://localhost:8080/"
        },
        "id": "a9rSSFrO8XlE",
        "outputId": "c0dea5ea-6762-4332-f7e5-8b2e5b82ab10"
      },
      "execution_count": null,
      "outputs": [
        {
          "output_type": "stream",
          "name": "stdout",
          "text": [
            "5\n"
          ]
        }
      ]
    },
    {
      "cell_type": "code",
      "source": [
        "countries = {\n",
        "    'France': { 'Capital': 'Paris', 'Language': 'French' },\n",
        "    'Spain': { 'Capital': 'Madrid', 'Language': 'Spanish' },\n",
        "    'United Kingdom': { 'Capital': 'London', 'Language': 'English' },\n",
        "    'United States': { 'Capital': 'Washington DC', 'Language': 'English' },\n",
        "    'Italy': { 'Capital': 'Rome', 'Language': 'Italian' }\n",
        "  }\n",
        "print(countries)"
      ],
      "metadata": {
        "colab": {
          "base_uri": "https://localhost:8080/"
        },
        "id": "-GERBUdx8cBj",
        "outputId": "9579bc06-b468-4da5-99b4-e19c33f61f6b"
      },
      "execution_count": null,
      "outputs": [
        {
          "output_type": "stream",
          "name": "stdout",
          "text": [
            "{'France': {'Capital': 'Paris', 'Language': 'French'}, 'Spain': {'Capital': 'Madrid', 'Language': 'Spanish'}, 'United Kingdom': {'Capital': 'London', 'Language': 'English'}, 'United States': {'Capital': 'Washington DC', 'Language': 'English'}, 'Italy': {'Capital': 'Rome', 'Language': 'Italian'}}\n"
          ]
        }
      ]
    },
    {
      "cell_type": "code",
      "source": [
        "print(countries['France'])"
      ],
      "metadata": {
        "colab": {
          "base_uri": "https://localhost:8080/"
        },
        "id": "c0tWj8iR83jf",
        "outputId": "10cebc7a-987e-455b-c7c6-5188f5e2c6c1"
      },
      "execution_count": null,
      "outputs": [
        {
          "output_type": "stream",
          "name": "stdout",
          "text": [
            "{'Capital': 'Paris', 'Language': 'French'}\n"
          ]
        }
      ]
    },
    {
      "cell_type": "code",
      "source": [
        "for key, value in countries.items():\n",
        "  print(key, value)"
      ],
      "metadata": {
        "colab": {
          "base_uri": "https://localhost:8080/"
        },
        "id": "GPbecV4l890Q",
        "outputId": "a0898b6e-6df2-4159-c84f-088f7150730c"
      },
      "execution_count": null,
      "outputs": [
        {
          "output_type": "stream",
          "name": "stdout",
          "text": [
            "France {'Capital': 'Paris', 'Language': 'French'}\n",
            "Spain {'Capital': 'Madrid', 'Language': 'Spanish'}\n",
            "United Kingdom {'Capital': 'London', 'Language': 'English'}\n",
            "United States {'Capital': 'Washington DC', 'Language': 'English'}\n",
            "Italy {'Capital': 'Rome', 'Language': 'Italian'}\n"
          ]
        }
      ]
    },
    {
      "cell_type": "code",
      "source": [
        "for key, value in countries.items():\n",
        "  print(f'{value[\"Capital\"]} is the capital of {key}, and they speak {value[\"Language\"]}')"
      ],
      "metadata": {
        "colab": {
          "base_uri": "https://localhost:8080/"
        },
        "id": "8gag7Q-x9GSJ",
        "outputId": "97aa799c-cfe9-48a3-f30b-7916d8973f21"
      },
      "execution_count": null,
      "outputs": [
        {
          "output_type": "stream",
          "name": "stdout",
          "text": [
            "Paris is the capital of France, and they speak French\n",
            "Madrid is the capital of Spain, and they speak Spanish\n",
            "London is the capital of United Kingdom, and they speak English\n",
            "Washington DC is the capital of United States, and they speak English\n",
            "Rome is the capital of Italy, and they speak Italian\n"
          ]
        }
      ]
    }
  ]
}