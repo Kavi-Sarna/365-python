{
  "cells": [
    {
      "cell_type": "markdown",
      "metadata": {
        "id": "view-in-github",
        "colab_type": "text"
      },
      "source": [
        "<a href=\"https://colab.research.google.com/github/Kavi-Sarna/365-python/blob/main/3%20-%20Python%20Programmer%20Bootcamp/5%20-%20Dictionaries/7%20-%20Questions.ipynb\" target=\"_parent\"><img src=\"https://colab.research.google.com/assets/colab-badge.svg\" alt=\"Open In Colab\"/></a>"
      ]
    },
    {
      "cell_type": "markdown",
      "source": [
        "Question 1\n",
        "\n",
        "Can you remember how to check if a key exists in a dictionary?\n",
        "\n",
        "Using the capitals dictionary below write some code to ask the user to input\n",
        "a country, then check to see if that country is in the dictionary and if it is\n",
        "print the capital.\n",
        "\n",
        "If not tell the user it's not there."
      ],
      "metadata": {
        "id": "u_tEpSxFd-OT"
      }
    },
    {
      "cell_type": "code",
      "source": [
        "capitals = {\n",
        "    'France':'Paris',\n",
        "    'Spain':'Madrid',\n",
        "    'United Kingdom':'London',\n",
        "    'India':'New Delhi',\n",
        "    'United States':'Washington DC',\n",
        "    'Italy':'Rome',\n",
        "    'Denmark':'Copenhagen',\n",
        "    'Germany':'Berlin',\n",
        "    'Greece':'Athens',\n",
        "    'Bulgaria':'Sofia',\n",
        "    'Ireland':'Dublin',\n",
        "    'Mexico':'Mexico City'\n",
        "  }\n",
        "print(capitals)"
      ],
      "metadata": {
        "colab": {
          "base_uri": "https://localhost:8080/"
        },
        "id": "kAUCW-dqBWbd",
        "outputId": "6cbd7f66-9623-42a4-db05-beb9e6a54ed1"
      },
      "execution_count": 91,
      "outputs": [
        {
          "output_type": "stream",
          "name": "stdout",
          "text": [
            "{'France': 'Paris', 'Spain': 'Madrid', 'United Kingdom': 'London', 'India': 'New Delhi', 'United States': 'Washington DC', 'Italy': 'Rome', 'Denmark': 'Copenhagen', 'Germany': 'Berlin', 'Greece': 'Athens', 'Bulgaria': 'Sofia', 'Ireland': 'Dublin', 'Mexico': 'Mexico City'}\n"
          ]
        }
      ]
    },
    {
      "cell_type": "code",
      "source": [
        "user_input = input('Enter a country to check for it\\'s capital: ')\n",
        "\n",
        "if user_input in capitals:\n",
        "  print(f'{capitals[user_input]} is the capital of {user_input}')\n",
        "else:\n",
        "  print(f'Capital for {user_input} not found')"
      ],
      "metadata": {
        "colab": {
          "base_uri": "https://localhost:8080/"
        },
        "id": "2NClJHYbBnxU",
        "outputId": "ac17e372-8401-4a62-c954-b1aaa7ef4ba4"
      },
      "execution_count": 98,
      "outputs": [
        {
          "output_type": "stream",
          "name": "stdout",
          "text": [
            "Enter a country to check for it's capital: United States\n",
            "Washington DC is the capital of United States\n"
          ]
        }
      ]
    },
    {
      "cell_type": "markdown",
      "source": [
        "Question 2\n",
        "\n",
        "Write python code that will create a dictionary containing key, value pairs\n",
        "that represent the first 12 values of the Fibonacci sequence i.e {1:0,2:1,3:1,4:2,5:3,6:5,7:8 etc}    "
      ],
      "metadata": {
        "id": "hiOq4JySC_nr"
      }
    },
    {
      "cell_type": "code",
      "source": [
        "a = 0\n",
        "b = 1\n",
        "fib = {}\n",
        "for i in range(1, 13):\n",
        "  fib[i] = a\n",
        "  a, b = b, a+b\n",
        "\n",
        "print(fib)"
      ],
      "metadata": {
        "colab": {
          "base_uri": "https://localhost:8080/"
        },
        "id": "m6J4Kgj3CK2u",
        "outputId": "e18eacbc-a4da-415a-a615-60ff535abcbe"
      },
      "execution_count": 99,
      "outputs": [
        {
          "output_type": "stream",
          "name": "stdout",
          "text": [
            "{1: 0, 2: 1, 3: 1, 4: 2, 5: 3, 6: 5, 7: 8, 8: 13, 9: 21, 10: 34, 11: 55, 12: 89}\n"
          ]
        }
      ]
    },
    {
      "cell_type": "markdown",
      "source": [
        "Question 3\n",
        "\n",
        "Create a dictionary to represent the open, high, low, close share price data for 4 imaginary companies.\n",
        "\n",
        "'Python DS', 'PythonSoft', 'Pythazon' and 'Pybook'\n",
        "\n",
        "the 4 sets of data are\n",
        "\n",
        "[12.87, 13.23, 11.42, 13.10],\n",
        "\n",
        "[23.54, 25.76, 21.87, 22.33],\n",
        "\n",
        "[98.99, 102.34, 97.21, 100.065],\n",
        "\n",
        "[203.63, 207.54, 202.43, 205.24]"
      ],
      "metadata": {
        "id": "cTzZAuyoD02R"
      }
    },
    {
      "cell_type": "code",
      "source": [
        "companies = ['Python DS', 'PythonSoft', 'Pythazon', 'Pybook']\n",
        "keys = ['Open', 'High', 'Low', 'Close']\n",
        "prices = [ [12.87, 13.23, 11.42, 13.10], [23.54, 25.76, 21.87, 22.33], [98.99, 102.34, 97.21, 100.065], [203.63, 207.54, 202.43, 205.24] ]\n",
        "d = {}\n",
        "\n",
        "for i in range(len(companies)):\n",
        "  d[companies[i]] = dict(zip(keys, prices[i]))\n",
        "\n",
        "d"
      ],
      "metadata": {
        "colab": {
          "base_uri": "https://localhost:8080/"
        },
        "id": "M27IgoxdDnkF",
        "outputId": "4df5ac20-00f8-4c69-cb01-e8e3051d205f"
      },
      "execution_count": 102,
      "outputs": [
        {
          "output_type": "execute_result",
          "data": {
            "text/plain": [
              "{'Python DS': {'Open': 12.87, 'High': 13.23, 'Low': 11.42, 'Close': 13.1},\n",
              " 'PythonSoft': {'Open': 23.54, 'High': 25.76, 'Low': 21.87, 'Close': 22.33},\n",
              " 'Pythazon': {'Open': 98.99, 'High': 102.34, 'Low': 97.21, 'Close': 100.065},\n",
              " 'Pybook': {'Open': 203.63, 'High': 207.54, 'Low': 202.43, 'Close': 205.24}}"
            ]
          },
          "metadata": {},
          "execution_count": 102
        }
      ]
    },
    {
      "cell_type": "markdown",
      "source": [
        "Question 4\n",
        "\n",
        "Create a dictoinary containing as keys the letters from A-Z, the values should\n",
        "be random numbers created from the random module.\n",
        "\n",
        "Can you draw a bar graph of the results?"
      ],
      "metadata": {
        "id": "gQHGMKIIFaJa"
      }
    },
    {
      "cell_type": "code",
      "source": [
        "import random\n",
        "import matplotlib.pyplot as plt"
      ],
      "metadata": {
        "id": "IMUiQ438FqbU"
      },
      "execution_count": 104,
      "outputs": []
    },
    {
      "cell_type": "code",
      "source": [
        "keys = 'ABCDEFGHIJKLMNOPQRSTUVWXYZ'\n",
        "d = {}\n",
        "\n",
        "for letter in keys:\n",
        "  d[letter] = random.randint(1, 100)\n",
        "\n",
        "print(d)"
      ],
      "metadata": {
        "colab": {
          "base_uri": "https://localhost:8080/"
        },
        "id": "bYcurwddFPFu",
        "outputId": "ccb6f2ac-250b-4036-8497-6c9b4dd965d0"
      },
      "execution_count": 105,
      "outputs": [
        {
          "output_type": "stream",
          "name": "stdout",
          "text": [
            "{'A': 29, 'B': 95, 'C': 48, 'D': 59, 'E': 18, 'F': 27, 'G': 98, 'H': 62, 'I': 70, 'J': 63, 'K': 80, 'L': 54, 'M': 3, 'N': 78, 'O': 78, 'P': 26, 'Q': 10, 'R': 35, 'S': 32, 'T': 9, 'U': 4, 'V': 26, 'W': 37, 'X': 8, 'Y': 49, 'Z': 44}\n"
          ]
        }
      ]
    },
    {
      "cell_type": "code",
      "source": [
        "x, y = zip(*d.items())\n",
        "\n",
        "plt.bar(x, y)\n",
        "plt.show()"
      ],
      "metadata": {
        "colab": {
          "base_uri": "https://localhost:8080/",
          "height": 430
        },
        "id": "y2Vpo3B6GVwb",
        "outputId": "77fb9a39-66cb-43d1-bc5d-549369049e27"
      },
      "execution_count": 106,
      "outputs": [
        {
          "output_type": "display_data",
          "data": {
            "text/plain": [
              "<Figure size 640x480 with 1 Axes>"
            ],
            "image/png": "[encoded data removed]"
          },
          "metadata": {}
        }
      ]
    },
    {
      "cell_type": "markdown",
      "source": [
        "Question 5\n",
        "\n",
        "Create a dictionary containing 4 suits of 13 cards\n",
        "\n",
        "['Ace','2','3','4','5','6','7','8','9','10','Jack','Queen','King']"
      ],
      "metadata": {
        "id": "SAPFyIbPGlQp"
      }
    },
    {
      "cell_type": "code",
      "source": [
        "suits = ['Club', 'Spades', 'Diamonds', 'Hearts']\n",
        "cards = ['Ace', '2', '3', '4', '5', '6', '7', '8', '9', '10', 'Jack', 'Queen', 'King']\n",
        "deck = {}\n",
        "\n",
        "for suit in suits:\n",
        "  deck[suit] = cards\n",
        "\n",
        "print(deck)"
      ],
      "metadata": {
        "colab": {
          "base_uri": "https://localhost:8080/"
        },
        "id": "69UNYaNuGecK",
        "outputId": "8774d1e0-81a9-40d2-9fff-1cc041cbca80"
      },
      "execution_count": 111,
      "outputs": [
        {
          "output_type": "stream",
          "name": "stdout",
          "text": [
            "{'Club': ['Ace', '2', '3', '4', '5', '6', '7', '8', '9', '10', 'Jack', 'Queen', 'King'], 'Spades': ['Ace', '2', '3', '4', '5', '6', '7', '8', '9', '10', 'Jack', 'Queen', 'King'], 'Diamonds': ['Ace', '2', '3', '4', '5', '6', '7', '8', '9', '10', 'Jack', 'Queen', 'King'], 'Hearts': ['Ace', '2', '3', '4', '5', '6', '7', '8', '9', '10', 'Jack', 'Queen', 'King']}\n"
          ]
        }
      ]
    }
  ],
  "metadata": {
    "colab": {
      "provenance": [],
      "authorship_tag": "ABX9TyMx5LYHmuYUUkD7neNKIDgx",
      "include_colab_link": true
    },
    "kernelspec": {
      "display_name": "Python 3",
      "name": "python3"
    },
    "language_info": {
      "name": "python"
    }
  },
  "nbformat": 4,
  "nbformat_minor": 0
}