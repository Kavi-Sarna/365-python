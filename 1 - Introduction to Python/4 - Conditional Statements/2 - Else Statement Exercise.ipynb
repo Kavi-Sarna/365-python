{
  "cells": [
    {
      "cell_type": "markdown",
      "metadata": {
        "id": "view-in-github",
        "colab_type": "text"
      },
      "source": [
        "<a href=\"https://colab.research.google.com/github/Kavi-Sarna/365-python/blob/main/2%20-%20Introduction%20to%20Python/4%20-%20Conditional%20Statements/2%20-%20Else%20Statement%20Exercise.ipynb\" target=\"_parent\"><img src=\"https://colab.research.google.com/assets/colab-badge.svg\" alt=\"Open In Colab\"/></a>"
      ]
    },
    {
      "cell_type": "markdown",
      "metadata": {
        "id": "LD0d8HCYfevF"
      },
      "source": [
        "## Add an ELSE Statement"
      ]
    },
    {
      "cell_type": "markdown",
      "metadata": {
        "id": "KgaSFLxhfevL"
      },
      "source": [
        "Let x represent the number of orders received during a certain day.\n",
        "Assign 102 to x. Create a program that prints \"A busy day\" if x is greater than 100, and \"A calm day\" otherwise. Change x to 97 to verify your code works properly."
      ]
    },
    {
      "cell_type": "code",
      "execution_count": 2,
      "metadata": {
        "collapsed": true,
        "colab": {
          "base_uri": "https://localhost:8080/"
        },
        "id": "mFJrYPSsfevM",
        "outputId": "0c807004-5d52-46ef-8961-8481100c792a"
      },
      "outputs": [
        {
          "output_type": "stream",
          "name": "stdout",
          "text": [
            "A calm day\n"
          ]
        }
      ],
      "source": [
        "x = 97\n",
        "\n",
        "if x > 100:\n",
        "  print('A busy day')\n",
        "else:\n",
        "  print('A calm day')"
      ]
    }
  ],
  "metadata": {
    "anaconda-cloud": {},
    "kernelspec": {
      "display_name": "Python 3",
      "language": "python",
      "name": "python3"
    },
    "language_info": {
      "codemirror_mode": {
        "name": "ipython",
        "version": 3
      },
      "file_extension": ".py",
      "mimetype": "text/x-python",
      "name": "python",
      "nbconvert_exporter": "python",
      "pygments_lexer": "ipython3",
      "version": "3.6.4"
    },
    "colab": {
      "provenance": [],
      "include_colab_link": true
    }
  },
  "nbformat": 4,
  "nbformat_minor": 0
}