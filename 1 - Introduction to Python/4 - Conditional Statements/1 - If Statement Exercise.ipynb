{
  "cells": [
    {
      "cell_type": "markdown",
      "metadata": {
        "id": "view-in-github",
        "colab_type": "text"
      },
      "source": [
        "<a href=\"https://colab.research.google.com/github/Kavi-Sarna/365-python/blob/main/2%20-%20Introduction%20to%20Python/4%20-%20Conditional%20Statements/1%20-%20If%20Statement%20Exercise.ipynb\" target=\"_parent\"><img src=\"https://colab.research.google.com/assets/colab-badge.svg\" alt=\"Open In Colab\"/></a>"
      ]
    },
    {
      "cell_type": "markdown",
      "metadata": {
        "id": "EC4-XCqfbMZ7"
      },
      "source": [
        "## Introduction to the IF statement"
      ]
    },
    {
      "cell_type": "markdown",
      "metadata": {
        "id": "gE5jK4P-bMaA"
      },
      "source": [
        "Create a two-line code that prints \"The condition has been satisfied\" if 5 is greater than 2."
      ]
    },
    {
      "cell_type": "code",
      "execution_count": 1,
      "metadata": {
        "collapsed": true,
        "colab": {
          "base_uri": "https://localhost:8080/"
        },
        "id": "X2cKjjIhbMaB",
        "outputId": "c0432117-be91-4098-9604-f518d3e7fb4f"
      },
      "outputs": [
        {
          "output_type": "stream",
          "name": "stdout",
          "text": [
            "The condition has been satisfied\n"
          ]
        }
      ],
      "source": [
        "if 5 > 2:\n",
        "  print('The condition has been satisfied')"
      ]
    },
    {
      "cell_type": "markdown",
      "metadata": {
        "id": "LUXq22IPbMaC"
      },
      "source": [
        "Assign 10 to the variable x and 25 to the variable y. In the same cell, create 2 conditional statements. Let the first one print \"Both conditions are correct\" if x is greater then 3 and y is greater than 13. Let the second one print \"At least one of the conditions is false\" if x is less than or equal to 3 and y is less than or equal to 13.\n",
        "Change the values assigned to x and y and re-run the cell to verify your code still works."
      ]
    },
    {
      "cell_type": "code",
      "execution_count": 6,
      "metadata": {
        "collapsed": true,
        "colab": {
          "base_uri": "https://localhost:8080/"
        },
        "id": "ZNxd7xQ5bMaD",
        "outputId": "7d9081ec-f42d-4f17-e773-e445599d5ff9"
      },
      "outputs": [
        {
          "output_type": "stream",
          "name": "stdout",
          "text": [
            "Both conditions are correct\n"
          ]
        }
      ],
      "source": [
        "x = 10\n",
        "y = 25\n",
        "if x > 3 and y > 13:\n",
        "  print('Both conditions are correct')\n",
        "if x <= 3 or y <= 13:\n",
        "  print('At least one of the conditions is false')"
      ]
    }
  ],
  "metadata": {
    "anaconda-cloud": {},
    "kernelspec": {
      "display_name": "Python 3",
      "language": "python",
      "name": "python3"
    },
    "language_info": {
      "codemirror_mode": {
        "name": "ipython",
        "version": 3
      },
      "file_extension": ".py",
      "mimetype": "text/x-python",
      "name": "python",
      "nbconvert_exporter": "python",
      "pygments_lexer": "ipython3",
      "version": "3.6.4"
    },
    "colab": {
      "provenance": [],
      "include_colab_link": true
    }
  },
  "nbformat": 4,
  "nbformat_minor": 0
}