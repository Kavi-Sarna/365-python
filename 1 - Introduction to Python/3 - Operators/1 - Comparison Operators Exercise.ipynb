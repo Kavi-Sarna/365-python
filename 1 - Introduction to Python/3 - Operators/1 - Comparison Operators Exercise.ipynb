{
  "cells": [
    {
      "cell_type": "markdown",
      "metadata": {
        "id": "view-in-github",
        "colab_type": "text"
      },
      "source": [
        "<a href=\"https://colab.research.google.com/github/Kavi-Sarna/365-python/blob/main/2%20-%20Introduction%20to%20Python/3%20-%20Operators/1%20-%20Comparison%20Operators%20Exercise.ipynb\" target=\"_parent\"><img src=\"https://colab.research.google.com/assets/colab-badge.svg\" alt=\"Open In Colab\"/></a>"
      ]
    },
    {
      "cell_type": "markdown",
      "metadata": {
        "id": "OxCFTOBFVehZ"
      },
      "source": [
        "## Comparison Operators"
      ]
    },
    {
      "cell_type": "markdown",
      "metadata": {
        "id": "dqJquaetVehf"
      },
      "source": [
        "Verify that 25 is smaller than 30."
      ]
    },
    {
      "cell_type": "code",
      "execution_count": 1,
      "metadata": {
        "collapsed": true,
        "colab": {
          "base_uri": "https://localhost:8080/"
        },
        "id": "olKjn57eVehf",
        "outputId": "00c9b5e9-4b64-4409-a2bb-b44a90fae8f7"
      },
      "outputs": [
        {
          "output_type": "execute_result",
          "data": {
            "text/plain": [
              "True"
            ]
          },
          "metadata": {},
          "execution_count": 1
        }
      ],
      "source": [
        "25 < 30"
      ]
    },
    {
      "cell_type": "markdown",
      "metadata": {
        "id": "dPJBaOahVehg"
      },
      "source": [
        "Verify that 5 multiplied by 3 is less than or equal to 5 to the power of 3."
      ]
    },
    {
      "cell_type": "code",
      "execution_count": 2,
      "metadata": {
        "collapsed": true,
        "colab": {
          "base_uri": "https://localhost:8080/"
        },
        "id": "qSlRrVhOVehg",
        "outputId": "1909772d-bd62-4818-c9c0-38bd64f298cb"
      },
      "outputs": [
        {
          "output_type": "execute_result",
          "data": {
            "text/plain": [
              "True"
            ]
          },
          "metadata": {},
          "execution_count": 2
        }
      ],
      "source": [
        "5 * 3 <= 5 ** 3"
      ]
    },
    {
      "cell_type": "markdown",
      "metadata": {
        "id": "R6t44g8DVehh"
      },
      "source": [
        "Verify that 100 is equal to 10 square."
      ]
    },
    {
      "cell_type": "code",
      "execution_count": 3,
      "metadata": {
        "collapsed": true,
        "colab": {
          "base_uri": "https://localhost:8080/"
        },
        "id": "47rq1abBVehh",
        "outputId": "8b6074e7-8332-4424-fe83-e6c796d5c983"
      },
      "outputs": [
        {
          "output_type": "execute_result",
          "data": {
            "text/plain": [
              "True"
            ]
          },
          "metadata": {},
          "execution_count": 3
        }
      ],
      "source": [
        "100 == 10 ** 2"
      ]
    },
    {
      "cell_type": "markdown",
      "metadata": {
        "id": "QpoBjIkkVehi"
      },
      "source": [
        "Verify that 53 is not equal to 46."
      ]
    },
    {
      "cell_type": "code",
      "execution_count": 4,
      "metadata": {
        "collapsed": true,
        "colab": {
          "base_uri": "https://localhost:8080/"
        },
        "id": "6YX_KjpcVehi",
        "outputId": "5049e7d0-b161-4571-9b79-e64b8ca9c6ab"
      },
      "outputs": [
        {
          "output_type": "execute_result",
          "data": {
            "text/plain": [
              "True"
            ]
          },
          "metadata": {},
          "execution_count": 4
        }
      ],
      "source": [
        "53 != 46"
      ]
    }
  ],
  "metadata": {
    "anaconda-cloud": {},
    "kernelspec": {
      "display_name": "Python 3",
      "language": "python",
      "name": "python3"
    },
    "language_info": {
      "codemirror_mode": {
        "name": "ipython",
        "version": 3
      },
      "file_extension": ".py",
      "mimetype": "text/x-python",
      "name": "python",
      "nbconvert_exporter": "python",
      "pygments_lexer": "ipython3",
      "version": "3.6.4"
    },
    "colab": {
      "provenance": [],
      "include_colab_link": true
    }
  },
  "nbformat": 4,
  "nbformat_minor": 0
}