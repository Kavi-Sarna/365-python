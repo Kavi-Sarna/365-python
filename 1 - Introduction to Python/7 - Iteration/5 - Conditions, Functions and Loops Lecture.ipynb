{
  "nbformat": 4,
  "nbformat_minor": 0,
  "metadata": {
    "colab": {
      "provenance": [],
      "authorship_tag": "ABX9TyMTxOgoG3BehxbSpADz01I+",
      "include_colab_link": true
    },
    "kernelspec": {
      "name": "python3",
      "display_name": "Python 3"
    },
    "language_info": {
      "name": "python"
    }
  },
  "cells": [
    {
      "cell_type": "markdown",
      "metadata": {
        "id": "view-in-github",
        "colab_type": "text"
      },
      "source": [
        "<a href=\"https://colab.research.google.com/github/Kavi-Sarna/365-python/blob/main/2%20-%20Introduction%20to%20Python/7%20-%20Iteration/5%20-%20Conditions%2C%20Functions%20and%20Loops%20Lecture.ipynb\" target=\"_parent\"><img src=\"https://colab.research.google.com/assets/colab-badge.svg\" alt=\"Open In Colab\"/></a>"
      ]
    },
    {
      "cell_type": "code",
      "source": [
        "def count(numbers):\n",
        "  total = 0\n",
        "  for x in numbers:\n",
        "    if x < 20:\n",
        "      total += 1\n",
        "  return total"
      ],
      "metadata": {
        "id": "NK5W8bCGlD_s"
      },
      "execution_count": 1,
      "outputs": []
    },
    {
      "cell_type": "code",
      "source": [
        "list_1 = [1, 3, 7, 15, 23, 43, 56, 98]"
      ],
      "metadata": {
        "id": "1XgSBLCJpNeF"
      },
      "execution_count": 2,
      "outputs": []
    },
    {
      "cell_type": "code",
      "source": [
        "count(list_1)"
      ],
      "metadata": {
        "colab": {
          "base_uri": "https://localhost:8080/"
        },
        "id": "SywADWejpTWm",
        "outputId": "5198196e-d7bd-4baf-caa0-390fdcd41891"
      },
      "execution_count": 4,
      "outputs": [
        {
          "output_type": "execute_result",
          "data": {
            "text/plain": [
              "4"
            ]
          },
          "metadata": {},
          "execution_count": 4
        }
      ]
    },
    {
      "cell_type": "code",
      "source": [
        "list_2 = [1, 3, 7, 15, 23, 43, 56, 98, 17]"
      ],
      "metadata": {
        "id": "2dJOwauipYwl"
      },
      "execution_count": 5,
      "outputs": []
    },
    {
      "cell_type": "code",
      "source": [
        "count(list_2)"
      ],
      "metadata": {
        "colab": {
          "base_uri": "https://localhost:8080/"
        },
        "id": "O7HFkP7LpgDK",
        "outputId": "d544d626-5d04-41b5-c386-749bccf0922b"
      },
      "execution_count": 6,
      "outputs": [
        {
          "output_type": "execute_result",
          "data": {
            "text/plain": [
              "5"
            ]
          },
          "metadata": {},
          "execution_count": 6
        }
      ]
    }
  ]
}