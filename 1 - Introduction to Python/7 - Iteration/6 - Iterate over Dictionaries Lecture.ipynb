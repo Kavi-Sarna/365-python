{
  "nbformat": 4,
  "nbformat_minor": 0,
  "metadata": {
    "colab": {
      "provenance": [],
      "authorship_tag": "ABX9TyMCEncMnYJpH9JSkxK2+uMJ",
      "include_colab_link": true
    },
    "kernelspec": {
      "name": "python3",
      "display_name": "Python 3"
    },
    "language_info": {
      "name": "python"
    }
  },
  "cells": [
    {
      "cell_type": "markdown",
      "metadata": {
        "id": "view-in-github",
        "colab_type": "text"
      },
      "source": [
        "<a href=\"https://colab.research.google.com/github/Kavi-Sarna/365-python/blob/main/2%20-%20Introduction%20to%20Python/7%20-%20Iteration/6%20-%20Iterate%20over%20Dictionaries%20Lecture.ipynb\" target=\"_parent\"><img src=\"https://colab.research.google.com/assets/colab-badge.svg\" alt=\"Open In Colab\"/></a>"
      ]
    },
    {
      "cell_type": "code",
      "source": [
        "prices = {\n",
        "    'box_of_spaghetti': 4,\n",
        "    'lasagna': 5,\n",
        "    'hamburger': 2\n",
        "}\n",
        "\n",
        "quantity = {\n",
        "    'box_of_spaghetti': 6,\n",
        "    'lasagna': 10,\n",
        "    'hamburger': 0\n",
        "}"
      ],
      "metadata": {
        "id": "rLOTX8hPqEvz"
      },
      "execution_count": 7,
      "outputs": []
    },
    {
      "cell_type": "code",
      "source": [
        "money_spent = 0\n",
        "\n",
        "for i in prices:\n",
        "  money_spent += (prices[i] * quantity[i])\n",
        "\n",
        "print(money_spent)"
      ],
      "metadata": {
        "colab": {
          "base_uri": "https://localhost:8080/"
        },
        "id": "MpdVVOPjqeeS",
        "outputId": "9e7ed1de-8e03-45c4-fa08-0bea676a1848"
      },
      "execution_count": 8,
      "outputs": [
        {
          "output_type": "stream",
          "name": "stdout",
          "text": [
            "74\n"
          ]
        }
      ]
    },
    {
      "cell_type": "code",
      "source": [
        "money_spent = 0\n",
        "\n",
        "for i in quantity:\n",
        "  money_spent += prices[i] * quantity[i]\n",
        "\n",
        "print(money_spent)"
      ],
      "metadata": {
        "colab": {
          "base_uri": "https://localhost:8080/"
        },
        "id": "_FpyfuZrtXPG",
        "outputId": "1924771f-9106-49a0-bd74-8c5d1c17f109"
      },
      "execution_count": 9,
      "outputs": [
        {
          "output_type": "stream",
          "name": "stdout",
          "text": [
            "74\n"
          ]
        }
      ]
    }
  ]
}