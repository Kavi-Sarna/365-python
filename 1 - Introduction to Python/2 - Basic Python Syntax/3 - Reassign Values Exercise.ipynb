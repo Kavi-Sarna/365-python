{
  "cells": [
    {
      "cell_type": "markdown",
      "metadata": {
        "id": "view-in-github",
        "colab_type": "text"
      },
      "source": [
        "<a href=\"https://colab.research.google.com/github/Kavi-Sarna/365-python/blob/main/2%20-%20Introduction%20to%20Python/2%20-%20Basic%20Python%20Syntax/3%20-%20Reassign%20Values%20Exercise.ipynb\" target=\"_parent\"><img src=\"https://colab.research.google.com/assets/colab-badge.svg\" alt=\"Open In Colab\"/></a>"
      ]
    },
    {
      "cell_type": "markdown",
      "metadata": {
        "id": "J3Saasql2WLd"
      },
      "source": [
        "## Reassign Values"
      ]
    },
    {
      "cell_type": "markdown",
      "metadata": {
        "id": "8NsbIZrH2WLh"
      },
      "source": [
        "Assign the value of 14 to a variable p."
      ]
    },
    {
      "cell_type": "code",
      "execution_count": 1,
      "metadata": {
        "collapsed": true,
        "id": "ZuT3nukT2WLi"
      },
      "outputs": [],
      "source": [
        "p = 14"
      ]
    },
    {
      "cell_type": "markdown",
      "metadata": {
        "id": "JOpbnZhS2WLi"
      },
      "source": [
        "Calculate p + 10."
      ]
    },
    {
      "cell_type": "code",
      "execution_count": 2,
      "metadata": {
        "collapsed": true,
        "colab": {
          "base_uri": "https://localhost:8080/"
        },
        "id": "IotB2hnc2WLj",
        "outputId": "5d94b9ab-350e-4749-8ede-081b9eae0ae2"
      },
      "outputs": [
        {
          "output_type": "execute_result",
          "data": {
            "text/plain": [
              "24"
            ]
          },
          "metadata": {},
          "execution_count": 2
        }
      ],
      "source": [
        "p + 10"
      ]
    },
    {
      "cell_type": "markdown",
      "metadata": {
        "id": "8z6HkK6P2WLj"
      },
      "source": [
        "Now, assign 30 to the variable p."
      ]
    },
    {
      "cell_type": "code",
      "execution_count": 3,
      "metadata": {
        "collapsed": true,
        "id": "NJxP7ado2WLj"
      },
      "outputs": [],
      "source": [
        "p = 30"
      ]
    },
    {
      "cell_type": "markdown",
      "metadata": {
        "id": "IK5k9H-q2WLk"
      },
      "source": [
        "Calculate p + 10."
      ]
    },
    {
      "cell_type": "code",
      "execution_count": 5,
      "metadata": {
        "collapsed": true,
        "colab": {
          "base_uri": "https://localhost:8080/"
        },
        "id": "ZAW6hFVp2WLk",
        "outputId": "984ffde4-1896-4648-b887-addc8a758364"
      },
      "outputs": [
        {
          "output_type": "execute_result",
          "data": {
            "text/plain": [
              "40"
            ]
          },
          "metadata": {},
          "execution_count": 5
        }
      ],
      "source": [
        "p + 10"
      ]
    },
    {
      "cell_type": "markdown",
      "metadata": {
        "id": "h3BWsKmz2WLk"
      },
      "source": [
        "Observe how the value of p is always the last one you have assigned."
      ]
    }
  ],
  "metadata": {
    "anaconda-cloud": {},
    "kernelspec": {
      "display_name": "Python 3",
      "language": "python",
      "name": "python3"
    },
    "language_info": {
      "codemirror_mode": {
        "name": "ipython",
        "version": 3
      },
      "file_extension": ".py",
      "mimetype": "text/x-python",
      "name": "python",
      "nbconvert_exporter": "python",
      "pygments_lexer": "ipython3",
      "version": "3.6.4"
    },
    "colab": {
      "provenance": [],
      "include_colab_link": true
    }
  },
  "nbformat": 4,
  "nbformat_minor": 0
}