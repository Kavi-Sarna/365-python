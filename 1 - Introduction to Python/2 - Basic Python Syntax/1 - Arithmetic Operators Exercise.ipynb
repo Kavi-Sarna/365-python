{
  "cells": [
    {
      "cell_type": "markdown",
      "metadata": {
        "id": "view-in-github",
        "colab_type": "text"
      },
      "source": [
        "<a href=\"https://colab.research.google.com/github/Kavi-Sarna/365-python/blob/main/2%20-%20Introduction%20to%20Python/2%20-%20Basic%20Python%20Syntax/1%20-%20Arithmetic%20Operators%20Exercise.ipynb\" target=\"_parent\"><img src=\"https://colab.research.google.com/assets/colab-badge.svg\" alt=\"Open In Colab\"/></a>"
      ]
    },
    {
      "cell_type": "markdown",
      "metadata": {
        "id": "YPYjnpZ0zcuI"
      },
      "source": [
        "## Arithmetic operators"
      ]
    },
    {
      "cell_type": "markdown",
      "metadata": {
        "id": "B_LOFtBOzcuQ"
      },
      "source": [
        "Combine 15 and 23."
      ]
    },
    {
      "cell_type": "code",
      "execution_count": 1,
      "metadata": {
        "collapsed": true,
        "colab": {
          "base_uri": "https://localhost:8080/"
        },
        "id": "uagg-rSozcuR",
        "outputId": "262888c9-0cd8-4146-ff74-46bfdefee3b0"
      },
      "outputs": [
        {
          "output_type": "execute_result",
          "data": {
            "text/plain": [
              "38"
            ]
          },
          "metadata": {},
          "execution_count": 1
        }
      ],
      "source": [
        "15 + 23"
      ]
    },
    {
      "cell_type": "markdown",
      "metadata": {
        "id": "R52HSadNzcuS"
      },
      "source": [
        "Subtract 50 from 26."
      ]
    },
    {
      "cell_type": "code",
      "execution_count": 2,
      "metadata": {
        "collapsed": true,
        "colab": {
          "base_uri": "https://localhost:8080/"
        },
        "id": "v6FqjRDAzcuT",
        "outputId": "d751fddf-3bdd-49e9-95ed-fe2850f313ea"
      },
      "outputs": [
        {
          "output_type": "execute_result",
          "data": {
            "text/plain": [
              "-24"
            ]
          },
          "metadata": {},
          "execution_count": 2
        }
      ],
      "source": [
        "26 - 50"
      ]
    },
    {
      "cell_type": "markdown",
      "metadata": {
        "id": "VtZYQCr0zcuT"
      },
      "source": [
        "Divide 20 by 4."
      ]
    },
    {
      "cell_type": "code",
      "execution_count": 3,
      "metadata": {
        "collapsed": true,
        "colab": {
          "base_uri": "https://localhost:8080/"
        },
        "id": "0UkX22qUzcuU",
        "outputId": "691ec731-e91b-4bd1-a62b-813cbe52156d"
      },
      "outputs": [
        {
          "output_type": "execute_result",
          "data": {
            "text/plain": [
              "5.0"
            ]
          },
          "metadata": {},
          "execution_count": 3
        }
      ],
      "source": [
        "20 / 4"
      ]
    },
    {
      "cell_type": "markdown",
      "metadata": {
        "id": "aAbZjE4jzcuV"
      },
      "source": [
        "Divide 22 by 4."
      ]
    },
    {
      "cell_type": "code",
      "execution_count": 4,
      "metadata": {
        "collapsed": true,
        "colab": {
          "base_uri": "https://localhost:8080/"
        },
        "id": "DFm-orglzcuV",
        "outputId": "6fd20ae1-bd9c-4d8b-caf1-d7da5dce67c3"
      },
      "outputs": [
        {
          "output_type": "execute_result",
          "data": {
            "text/plain": [
              "5.5"
            ]
          },
          "metadata": {},
          "execution_count": 4
        }
      ],
      "source": [
        "22 / 4"
      ]
    },
    {
      "cell_type": "markdown",
      "metadata": {
        "id": "wxD2hx7yzcuW"
      },
      "source": [
        "Obtain the remainder of the division of 22 by 4."
      ]
    },
    {
      "cell_type": "code",
      "execution_count": 5,
      "metadata": {
        "collapsed": true,
        "colab": {
          "base_uri": "https://localhost:8080/"
        },
        "id": "jjkApcebzcuW",
        "outputId": "de297e5a-76a8-4c7a-d3aa-679b9cd39e81"
      },
      "outputs": [
        {
          "output_type": "execute_result",
          "data": {
            "text/plain": [
              "2"
            ]
          },
          "metadata": {},
          "execution_count": 5
        }
      ],
      "source": [
        "22 % 4"
      ]
    },
    {
      "cell_type": "markdown",
      "metadata": {
        "id": "BqDkMVdyzcuW"
      },
      "source": [
        "Divide the float 22 by 4."
      ]
    },
    {
      "cell_type": "code",
      "execution_count": 6,
      "metadata": {
        "collapsed": true,
        "colab": {
          "base_uri": "https://localhost:8080/"
        },
        "id": "fv8GvvxzzcuX",
        "outputId": "beeed4c4-9420-4574-e2a5-b8d8e10eca5f"
      },
      "outputs": [
        {
          "output_type": "execute_result",
          "data": {
            "text/plain": [
              "5.5"
            ]
          },
          "metadata": {},
          "execution_count": 6
        }
      ],
      "source": [
        "22.0 / 4"
      ]
    },
    {
      "cell_type": "code",
      "execution_count": 7,
      "metadata": {
        "collapsed": true,
        "colab": {
          "base_uri": "https://localhost:8080/"
        },
        "id": "DkKhNlikzcuX",
        "outputId": "db34b950-c6bd-4566-aa2c-8bdb7011d658"
      },
      "outputs": [
        {
          "output_type": "execute_result",
          "data": {
            "text/plain": [
              "5.5"
            ]
          },
          "metadata": {},
          "execution_count": 7
        }
      ],
      "source": [
        "float(22) / 4"
      ]
    },
    {
      "cell_type": "markdown",
      "metadata": {
        "id": "yrS_9sb7zcuX"
      },
      "source": [
        "Multiply 6 by 8."
      ]
    },
    {
      "cell_type": "code",
      "execution_count": 8,
      "metadata": {
        "collapsed": true,
        "colab": {
          "base_uri": "https://localhost:8080/"
        },
        "id": "s8XRsybPzcuX",
        "outputId": "040ae210-7a69-4ef5-9093-d1512dc97c63"
      },
      "outputs": [
        {
          "output_type": "execute_result",
          "data": {
            "text/plain": [
              "48"
            ]
          },
          "metadata": {},
          "execution_count": 8
        }
      ],
      "source": [
        "6 * 8"
      ]
    },
    {
      "cell_type": "markdown",
      "metadata": {
        "id": "ay6JhDY8zcuX"
      },
      "source": [
        "Raise 15 to the power of 2."
      ]
    },
    {
      "cell_type": "code",
      "execution_count": 9,
      "metadata": {
        "collapsed": true,
        "colab": {
          "base_uri": "https://localhost:8080/"
        },
        "id": "P6S-8H6YzcuY",
        "outputId": "52117405-a491-4a0b-9b65-cf85580efc30"
      },
      "outputs": [
        {
          "output_type": "execute_result",
          "data": {
            "text/plain": [
              "225"
            ]
          },
          "metadata": {},
          "execution_count": 9
        }
      ],
      "source": [
        "15 ** 2"
      ]
    }
  ],
  "metadata": {
    "anaconda-cloud": {},
    "kernelspec": {
      "display_name": "Python 3",
      "language": "python",
      "name": "python3"
    },
    "language_info": {
      "codemirror_mode": {
        "name": "ipython",
        "version": 3
      },
      "file_extension": ".py",
      "mimetype": "text/x-python",
      "name": "python",
      "nbconvert_exporter": "python",
      "pygments_lexer": "ipython3",
      "version": "3.6.4"
    },
    "colab": {
      "provenance": [],
      "include_colab_link": true
    }
  },
  "nbformat": 4,
  "nbformat_minor": 0
}