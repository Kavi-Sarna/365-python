{
  "cells": [
    {
      "cell_type": "markdown",
      "metadata": {
        "id": "view-in-github",
        "colab_type": "text"
      },
      "source": [
        "<a href=\"https://colab.research.google.com/github/Kavi-Sarna/365-python/blob/main/2%20-%20Introduction%20to%20Python/1%20-%20Python%20Variables/3%20-%20Strings%20Exercise.ipynb\" target=\"_parent\"><img src=\"https://colab.research.google.com/assets/colab-badge.svg\" alt=\"Open In Colab\"/></a>"
      ]
    },
    {
      "cell_type": "markdown",
      "metadata": {
        "id": "gsGdWVqKwO3v"
      },
      "source": [
        "## Strings"
      ]
    },
    {
      "cell_type": "markdown",
      "metadata": {
        "id": "nRg6PIdwwO31"
      },
      "source": [
        "Assign the value of 100 to the variable \"m\"."
      ]
    },
    {
      "cell_type": "code",
      "execution_count": 1,
      "metadata": {
        "id": "aUs07OOewO32"
      },
      "outputs": [],
      "source": [
        "m = 100"
      ]
    },
    {
      "cell_type": "markdown",
      "metadata": {
        "id": "HL0uvBFWwO33"
      },
      "source": [
        "With the help of the variable \"m\", write one line of code where the output after executuion would be *100 days*.\n",
        "\n",
        "*Hint:* *You could provide four answers to this question!*"
      ]
    },
    {
      "cell_type": "code",
      "execution_count": 2,
      "metadata": {
        "colab": {
          "base_uri": "https://localhost:8080/",
          "height": 35
        },
        "id": "ZzDbMUiuwO34",
        "outputId": "9e852791-ba59-4141-f692-8b3008265e0f"
      },
      "outputs": [
        {
          "output_type": "execute_result",
          "data": {
            "text/plain": [
              "'100 days'"
            ],
            "application/vnd.google.colaboratory.intrinsic+json": {
              "type": "string"
            }
          },
          "metadata": {},
          "execution_count": 2
        }
      ],
      "source": [
        "str(m) + ' days'"
      ]
    },
    {
      "cell_type": "code",
      "execution_count": 3,
      "metadata": {
        "colab": {
          "base_uri": "https://localhost:8080/"
        },
        "id": "JnZYmHsVwO35",
        "outputId": "b75ea30d-c9f5-46da-8fe1-98e5c9277df5"
      },
      "outputs": [
        {
          "output_type": "stream",
          "name": "stdout",
          "text": [
            "100 days\n"
          ]
        }
      ],
      "source": [
        "print(str(m) + ' days')"
      ]
    },
    {
      "cell_type": "code",
      "execution_count": 5,
      "metadata": {
        "colab": {
          "base_uri": "https://localhost:8080/"
        },
        "id": "a2HAzB1uwO35",
        "outputId": "88be844c-86de-4518-e348-79889791ec4a"
      },
      "outputs": [
        {
          "output_type": "stream",
          "name": "stdout",
          "text": [
            "100 days\n"
          ]
        }
      ],
      "source": [
        "print(m, 'days')"
      ]
    },
    {
      "cell_type": "markdown",
      "metadata": {
        "id": "5dr3I7ktwO36"
      },
      "source": [
        "Produce an output equal to *It's cool, isn't it?*"
      ]
    },
    {
      "cell_type": "code",
      "execution_count": 6,
      "metadata": {
        "colab": {
          "base_uri": "https://localhost:8080/"
        },
        "id": "oAPv7mLvwO36",
        "outputId": "fea87b49-b3e8-4ad7-a597-e321ce7ac28e"
      },
      "outputs": [
        {
          "output_type": "stream",
          "name": "stdout",
          "text": [
            "It's cool, isn't it?\n"
          ]
        }
      ],
      "source": [
        "print('It\\'s cool, isn\\'t it?')"
      ]
    },
    {
      "cell_type": "markdown",
      "metadata": {
        "id": "oXdShYY6wO37"
      },
      "source": [
        "Fix the string below."
      ]
    },
    {
      "cell_type": "code",
      "execution_count": 7,
      "metadata": {
        "colab": {
          "base_uri": "https://localhost:8080/",
          "height": 35
        },
        "id": "k9Yx6J0YwO38",
        "outputId": "1f79b764-a840-4edb-e662-f50079e0e87e"
      },
      "outputs": [
        {
          "output_type": "execute_result",
          "data": {
            "text/plain": [
              "\"Don't be shy\""
            ],
            "application/vnd.google.colaboratory.intrinsic+json": {
              "type": "string"
            }
          },
          "metadata": {},
          "execution_count": 7
        }
      ],
      "source": [
        "'Don\\'t be shy'"
      ]
    },
    {
      "cell_type": "markdown",
      "metadata": {
        "id": "p0KCfY2PwO3-"
      },
      "source": [
        "Produce an output equal to *Click \"OK\"*."
      ]
    },
    {
      "cell_type": "code",
      "execution_count": 9,
      "metadata": {
        "colab": {
          "base_uri": "https://localhost:8080/"
        },
        "id": "vinpywjSwO3_",
        "outputId": "af2d8255-8ebd-462d-aca9-1b2c9af8009a"
      },
      "outputs": [
        {
          "output_type": "stream",
          "name": "stdout",
          "text": [
            "Click \"OK\"\n"
          ]
        }
      ],
      "source": [
        "print('Click \"OK\"')"
      ]
    },
    {
      "cell_type": "markdown",
      "metadata": {
        "id": "gchdQgAmwO3_"
      },
      "source": [
        "Include a plus sign in your line of code to produce *'Big Houses'*."
      ]
    },
    {
      "cell_type": "code",
      "execution_count": 12,
      "metadata": {
        "colab": {
          "base_uri": "https://localhost:8080/",
          "height": 35
        },
        "id": "22gP2_eTwO3_",
        "outputId": "10053426-317d-4a33-9d75-c14d15a8c3f9"
      },
      "outputs": [
        {
          "output_type": "execute_result",
          "data": {
            "text/plain": [
              "'Big Houses'"
            ],
            "application/vnd.google.colaboratory.intrinsic+json": {
              "type": "string"
            }
          },
          "metadata": {},
          "execution_count": 12
        }
      ],
      "source": [
        "'Big ' + 'Houses'"
      ]
    },
    {
      "cell_type": "markdown",
      "metadata": {
        "id": "wJcCNQR8wO3_"
      },
      "source": [
        "Include a trailing comma in your line of code to produce *Big Houses*."
      ]
    },
    {
      "cell_type": "code",
      "execution_count": 11,
      "metadata": {
        "colab": {
          "base_uri": "https://localhost:8080/"
        },
        "id": "TLaGn-O6wO4A",
        "outputId": "9be1fc12-27e8-4937-ee22-6b6ad00ac0d8"
      },
      "outputs": [
        {
          "output_type": "stream",
          "name": "stdout",
          "text": [
            "Big Houses\n"
          ]
        }
      ],
      "source": [
        "print ('Big', 'Houses')"
      ]
    }
  ],
  "metadata": {
    "anaconda-cloud": {},
    "kernelspec": {
      "display_name": "Python 3 (ipykernel)",
      "language": "python",
      "name": "python3"
    },
    "language_info": {
      "codemirror_mode": {
        "name": "ipython",
        "version": 3
      },
      "file_extension": ".py",
      "mimetype": "text/x-python",
      "name": "python",
      "nbconvert_exporter": "python",
      "pygments_lexer": "ipython3",
      "version": "3.9.7"
    },
    "colab": {
      "provenance": [],
      "include_colab_link": true
    }
  },
  "nbformat": 4,
  "nbformat_minor": 0
}