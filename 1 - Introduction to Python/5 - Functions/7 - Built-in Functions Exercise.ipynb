{
  "cells": [
    {
      "cell_type": "markdown",
      "metadata": {
        "id": "view-in-github",
        "colab_type": "text"
      },
      "source": [
        "<a href=\"https://colab.research.google.com/github/Kavi-Sarna/365-python/blob/main/2%20-%20Introduction%20to%20Python/5%20-%20Functions/7%20-%20Built-in%20Functions%20Exercise.ipynb\" target=\"_parent\"><img src=\"https://colab.research.google.com/assets/colab-badge.svg\" alt=\"Open In Colab\"/></a>"
      ]
    },
    {
      "cell_type": "markdown",
      "metadata": {
        "id": "Vm6bvSA1C_bB"
      },
      "source": [
        "## Notable Built-In Functions in Python"
      ]
    },
    {
      "cell_type": "markdown",
      "metadata": {
        "id": "xDUDvE_hC_bG"
      },
      "source": [
        "*Suggested Answers follow (usually there are multiple ways to solve a problem in Python).*"
      ]
    },
    {
      "cell_type": "markdown",
      "metadata": {
        "id": "I9tXlrDvC_bG"
      },
      "source": [
        "Obtain the maximum number among the values 25, 65, 890, and 15."
      ]
    },
    {
      "cell_type": "code",
      "execution_count": 1,
      "metadata": {
        "colab": {
          "base_uri": "https://localhost:8080/"
        },
        "id": "REpa2ImUC_bH",
        "outputId": "97b1fc6d-843f-4513-ab3b-48cac89bf945"
      },
      "outputs": [
        {
          "output_type": "execute_result",
          "data": {
            "text/plain": [
              "890"
            ]
          },
          "metadata": {},
          "execution_count": 1
        }
      ],
      "source": [
        "max(25, 65, 890, 15)"
      ]
    },
    {
      "cell_type": "markdown",
      "metadata": {
        "id": "mz--KL3HC_bI"
      },
      "source": [
        "Obtain the minimum number among the values 25, 65, 890, and 15."
      ]
    },
    {
      "cell_type": "code",
      "execution_count": 2,
      "metadata": {
        "colab": {
          "base_uri": "https://localhost:8080/"
        },
        "id": "qNumGf3hC_bI",
        "outputId": "38d0eb5a-a878-4fb3-d0e3-4ee9d9b6e4c1"
      },
      "outputs": [
        {
          "output_type": "execute_result",
          "data": {
            "text/plain": [
              "15"
            ]
          },
          "metadata": {},
          "execution_count": 2
        }
      ],
      "source": [
        "min(25, 65, 890, 15)"
      ]
    },
    {
      "cell_type": "markdown",
      "metadata": {
        "id": "eEIi90oTC_bJ"
      },
      "source": [
        "Find the absolute value of -100"
      ]
    },
    {
      "cell_type": "code",
      "execution_count": 3,
      "metadata": {
        "colab": {
          "base_uri": "https://localhost:8080/"
        },
        "id": "m74DhRrWC_bJ",
        "outputId": "c2973629-cf58-4c62-83ff-3be3b1360b18"
      },
      "outputs": [
        {
          "output_type": "execute_result",
          "data": {
            "text/plain": [
              "100"
            ]
          },
          "metadata": {},
          "execution_count": 3
        }
      ],
      "source": [
        "abs(-100)"
      ]
    },
    {
      "cell_type": "markdown",
      "metadata": {
        "id": "mQ2rzhjMC_bK"
      },
      "source": [
        "Round the value of 55.5. Did you obtain 56.0?"
      ]
    },
    {
      "cell_type": "code",
      "execution_count": 4,
      "metadata": {
        "colab": {
          "base_uri": "https://localhost:8080/"
        },
        "id": "0HI45KyFC_bK",
        "outputId": "5282a2a5-8f43-4686-ff92-f37129572f31"
      },
      "outputs": [
        {
          "output_type": "execute_result",
          "data": {
            "text/plain": [
              "56"
            ]
          },
          "metadata": {},
          "execution_count": 4
        }
      ],
      "source": [
        "round(55.5)"
      ]
    },
    {
      "cell_type": "markdown",
      "metadata": {
        "id": "13A6c0AHC_bL"
      },
      "source": [
        "Round 35.56789 to the third digit."
      ]
    },
    {
      "cell_type": "code",
      "execution_count": 1,
      "metadata": {
        "colab": {
          "base_uri": "https://localhost:8080/"
        },
        "id": "qoTmUp_OC_bL",
        "outputId": "ed8d357d-a2e5-4a16-a096-26164f6d8c2f"
      },
      "outputs": [
        {
          "output_type": "execute_result",
          "data": {
            "text/plain": [
              "35.568"
            ]
          },
          "metadata": {},
          "execution_count": 1
        }
      ],
      "source": [
        "round(35.56789, 3)"
      ]
    },
    {
      "cell_type": "markdown",
      "metadata": {
        "id": "BnHHbMQWC_bL"
      },
      "source": [
        "Find the sum of all elements in the provided list, called \"Numbers\"."
      ]
    },
    {
      "cell_type": "code",
      "execution_count": 3,
      "metadata": {
        "id": "UGemB568C_bM"
      },
      "outputs": [],
      "source": [
        "Numbers = [1, 5, 64, 24.5]"
      ]
    },
    {
      "cell_type": "code",
      "execution_count": 4,
      "metadata": {
        "colab": {
          "base_uri": "https://localhost:8080/"
        },
        "id": "dwtlpbn1C_bN",
        "outputId": "c92d4f5c-de78-4631-9791-2142a8296be4"
      },
      "outputs": [
        {
          "output_type": "execute_result",
          "data": {
            "text/plain": [
              "94.5"
            ]
          },
          "metadata": {},
          "execution_count": 4
        }
      ],
      "source": [
        "sum(Numbers)"
      ]
    },
    {
      "cell_type": "markdown",
      "metadata": {
        "id": "Kqhlvf9WC_bN"
      },
      "source": [
        "Use a built-in function to raise 10 to the power of 3."
      ]
    },
    {
      "cell_type": "code",
      "execution_count": 5,
      "metadata": {
        "colab": {
          "base_uri": "https://localhost:8080/"
        },
        "id": "mIeXGu2DC_bN",
        "outputId": "511f4715-d162-4d62-cbb4-42846b92f4a7"
      },
      "outputs": [
        {
          "output_type": "execute_result",
          "data": {
            "text/plain": [
              "1000"
            ]
          },
          "metadata": {},
          "execution_count": 5
        }
      ],
      "source": [
        "pow(10, 3)"
      ]
    },
    {
      "cell_type": "markdown",
      "metadata": {
        "id": "jceroajzC_bN"
      },
      "source": [
        "How many characters are there in the word \"Elephant\"?"
      ]
    },
    {
      "cell_type": "code",
      "execution_count": 6,
      "metadata": {
        "colab": {
          "base_uri": "https://localhost:8080/"
        },
        "id": "EXCUzTllC_bN",
        "outputId": "d3395e95-4c3a-49d8-8898-382043769530"
      },
      "outputs": [
        {
          "output_type": "execute_result",
          "data": {
            "text/plain": [
              "8"
            ]
          },
          "metadata": {},
          "execution_count": 6
        }
      ],
      "source": [
        "len(\"Elephant\")"
      ]
    },
    {
      "cell_type": "markdown",
      "metadata": {
        "id": "JbQtKPmpC_bN"
      },
      "source": [
        "Create a function, called \"distance_from_zero\", that returns the absolute value of a provided single argument and prints a statement \"Not Possible\" if the argument provided is not a number.\n",
        "Call the funtion with the values of -10 and \"cat\" to verify it works correctly."
      ]
    },
    {
      "cell_type": "code",
      "execution_count": 8,
      "metadata": {
        "id": "M1mch_KbC_bO"
      },
      "outputs": [],
      "source": [
        "def distance_from_zero(a):\n",
        "  if type(a) == int or type(a) == float:\n",
        "    return abs(a)\n",
        "  else:\n",
        "    print('Not Possible')"
      ]
    },
    {
      "cell_type": "code",
      "execution_count": 9,
      "metadata": {
        "colab": {
          "base_uri": "https://localhost:8080/"
        },
        "id": "yEJAJyqhC_bO",
        "outputId": "0f0f64da-62e0-480c-fed9-40430bed11ec"
      },
      "outputs": [
        {
          "output_type": "execute_result",
          "data": {
            "text/plain": [
              "10"
            ]
          },
          "metadata": {},
          "execution_count": 9
        }
      ],
      "source": [
        "distance_from_zero(-10)"
      ]
    },
    {
      "cell_type": "code",
      "execution_count": 10,
      "metadata": {
        "colab": {
          "base_uri": "https://localhost:8080/"
        },
        "id": "6teJ_FL2C_bO",
        "outputId": "99ab6a60-1d84-4737-ae26-8b24dc71e822"
      },
      "outputs": [
        {
          "output_type": "stream",
          "name": "stdout",
          "text": [
            "Not Possible\n"
          ]
        }
      ],
      "source": [
        "distance_from_zero('cat')"
      ]
    }
  ],
  "metadata": {
    "anaconda-cloud": {},
    "kernelspec": {
      "display_name": "Python 3",
      "language": "python",
      "name": "python3"
    },
    "language_info": {
      "codemirror_mode": {
        "name": "ipython",
        "version": 3
      },
      "file_extension": ".py",
      "mimetype": "text/x-python",
      "name": "python",
      "nbconvert_exporter": "python",
      "pygments_lexer": "ipython3",
      "version": "3.8.5"
    },
    "colab": {
      "provenance": [],
      "include_colab_link": true
    }
  },
  "nbformat": 4,
  "nbformat_minor": 0
}