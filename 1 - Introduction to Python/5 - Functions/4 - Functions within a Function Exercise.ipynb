{
  "cells": [
    {
      "cell_type": "markdown",
      "metadata": {
        "id": "view-in-github",
        "colab_type": "text"
      },
      "source": [
        "<a href=\"https://colab.research.google.com/github/Kavi-Sarna/365-python/blob/main/2%20-%20Introduction%20to%20Python/5%20-%20Functions/4%20-%20Functions%20within%20a%20Function%20Exercise.ipynb\" target=\"_parent\"><img src=\"https://colab.research.google.com/assets/colab-badge.svg\" alt=\"Open In Colab\"/></a>"
      ]
    },
    {
      "cell_type": "markdown",
      "metadata": {
        "id": "peQfgj859T_D"
      },
      "source": [
        "## Using a Function in Another Function"
      ]
    },
    {
      "cell_type": "markdown",
      "metadata": {
        "id": "9dxDmwVq9T_K"
      },
      "source": [
        "Define a function that adds 5 to the parameter. Then, define another function that will multiply the newly obtained number by 3.\n",
        "Verify your code was correct by calling the second function with an argument of 5.\n",
        "Was your output equal to 30?"
      ]
    },
    {
      "cell_type": "code",
      "execution_count": 3,
      "metadata": {
        "collapsed": true,
        "id": "XttDH2CM9T_K"
      },
      "outputs": [],
      "source": [
        "def add_five(a):\n",
        "  return a + 5"
      ]
    },
    {
      "cell_type": "code",
      "source": [
        "def multiply_by_three(a):\n",
        "  return add_five(a) * 3"
      ],
      "metadata": {
        "id": "2pZ6h_Sl-S4o"
      },
      "execution_count": 4,
      "outputs": []
    },
    {
      "cell_type": "code",
      "source": [
        "multiply_by_three(5)"
      ],
      "metadata": {
        "colab": {
          "base_uri": "https://localhost:8080/"
        },
        "id": "ZJRexTlG-f2k",
        "outputId": "4c90942a-1536-45ae-a2ba-f3ad319fc6db"
      },
      "execution_count": 5,
      "outputs": [
        {
          "output_type": "execute_result",
          "data": {
            "text/plain": [
              "30"
            ]
          },
          "metadata": {},
          "execution_count": 5
        }
      ]
    }
  ],
  "metadata": {
    "anaconda-cloud": {},
    "kernelspec": {
      "display_name": "Python 3",
      "language": "python",
      "name": "python3"
    },
    "language_info": {
      "codemirror_mode": {
        "name": "ipython",
        "version": 3
      },
      "file_extension": ".py",
      "mimetype": "text/x-python",
      "name": "python",
      "nbconvert_exporter": "python",
      "pygments_lexer": "ipython3",
      "version": "3.6.4"
    },
    "colab": {
      "provenance": [],
      "include_colab_link": true
    }
  },
  "nbformat": 4,
  "nbformat_minor": 0
}