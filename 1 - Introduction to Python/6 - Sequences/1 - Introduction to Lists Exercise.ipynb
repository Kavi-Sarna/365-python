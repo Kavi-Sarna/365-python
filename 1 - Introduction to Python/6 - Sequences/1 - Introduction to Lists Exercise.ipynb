{
  "cells": [
    {
      "cell_type": "markdown",
      "metadata": {
        "id": "view-in-github",
        "colab_type": "text"
      },
      "source": [
        "<a href=\"https://colab.research.google.com/github/Kavi-Sarna/365-python/blob/main/2%20-%20Introduction%20to%20Python/6%20-%20Sequences/1%20-%20Introduction%20to%20Lists%20Exercise.ipynb\" target=\"_parent\"><img src=\"https://colab.research.google.com/assets/colab-badge.svg\" alt=\"Open In Colab\"/></a>"
      ]
    },
    {
      "cell_type": "markdown",
      "metadata": {
        "id": "IB_NP9DBQ9ag"
      },
      "source": [
        "## Lists"
      ]
    },
    {
      "cell_type": "markdown",
      "metadata": {
        "id": "4wXu8TyYQ9am"
      },
      "source": [
        "Create a list, called \"Numbers\". Let it contain the numbers 10, 25, 40, and 50."
      ]
    },
    {
      "cell_type": "code",
      "execution_count": 1,
      "metadata": {
        "collapsed": true,
        "colab": {
          "base_uri": "https://localhost:8080/"
        },
        "id": "ptf6coOuQ9an",
        "outputId": "a19f9094-b4a2-4aac-c92e-9c8e7e7dda4b"
      },
      "outputs": [
        {
          "output_type": "execute_result",
          "data": {
            "text/plain": [
              "[10, 25, 40, 50]"
            ]
          },
          "metadata": {},
          "execution_count": 1
        }
      ],
      "source": [
        "Numbers = [10, 25, 40, 50]\n",
        "Numbers"
      ]
    },
    {
      "cell_type": "markdown",
      "metadata": {
        "id": "pDLMtQ4RQ9an"
      },
      "source": [
        "Print the element at index 2 from the list."
      ]
    },
    {
      "cell_type": "code",
      "execution_count": 2,
      "metadata": {
        "collapsed": true,
        "colab": {
          "base_uri": "https://localhost:8080/"
        },
        "id": "s7pjeju2Q9ao",
        "outputId": "1a313e24-9da5-415b-d971-bc028d93079b"
      },
      "outputs": [
        {
          "output_type": "execute_result",
          "data": {
            "text/plain": [
              "40"
            ]
          },
          "metadata": {},
          "execution_count": 2
        }
      ],
      "source": [
        "Numbers[2]"
      ]
    },
    {
      "cell_type": "markdown",
      "metadata": {
        "id": "bWjd6swGQ9ao"
      },
      "source": [
        "Print the 0th element."
      ]
    },
    {
      "cell_type": "code",
      "execution_count": 3,
      "metadata": {
        "collapsed": true,
        "colab": {
          "base_uri": "https://localhost:8080/"
        },
        "id": "tjfIGHtCQ9ao",
        "outputId": "40af4a97-e266-477f-94c4-ea5781f5adad"
      },
      "outputs": [
        {
          "output_type": "execute_result",
          "data": {
            "text/plain": [
              "10"
            ]
          },
          "metadata": {},
          "execution_count": 3
        }
      ],
      "source": [
        "Numbers[0]"
      ]
    },
    {
      "cell_type": "markdown",
      "metadata": {
        "id": "RK-7FkRLQ9ap"
      },
      "source": [
        "Print the third-to-last element using a minus sign in the brackets."
      ]
    },
    {
      "cell_type": "code",
      "execution_count": 4,
      "metadata": {
        "collapsed": true,
        "colab": {
          "base_uri": "https://localhost:8080/"
        },
        "id": "zMLBVHzAQ9ar",
        "outputId": "15c8c185-6511-4084-f825-56b022735622"
      },
      "outputs": [
        {
          "output_type": "execute_result",
          "data": {
            "text/plain": [
              "25"
            ]
          },
          "metadata": {},
          "execution_count": 4
        }
      ],
      "source": [
        "Numbers[-3]"
      ]
    },
    {
      "cell_type": "markdown",
      "metadata": {
        "id": "3b7l2zSMQ9ar"
      },
      "source": [
        "Substitute the number 10 with the number 15."
      ]
    },
    {
      "cell_type": "code",
      "execution_count": 5,
      "metadata": {
        "collapsed": true,
        "colab": {
          "base_uri": "https://localhost:8080/"
        },
        "id": "FKnGTEFHQ9ar",
        "outputId": "2a92df41-c32f-43b7-b9ee-37cc4cf319c5"
      },
      "outputs": [
        {
          "output_type": "execute_result",
          "data": {
            "text/plain": [
              "[15, 25, 40, 50]"
            ]
          },
          "metadata": {},
          "execution_count": 5
        }
      ],
      "source": [
        "Numbers[0] = 15\n",
        "Numbers"
      ]
    },
    {
      "cell_type": "markdown",
      "metadata": {
        "id": "yuQrGkq4Q9ar"
      },
      "source": [
        "Delete the number 25 from the Numbers list."
      ]
    },
    {
      "cell_type": "code",
      "execution_count": 6,
      "metadata": {
        "collapsed": true,
        "colab": {
          "base_uri": "https://localhost:8080/"
        },
        "id": "C-63Iqq4Q9as",
        "outputId": "c633e30d-582d-4765-8f72-cd404ab290e1"
      },
      "outputs": [
        {
          "output_type": "execute_result",
          "data": {
            "text/plain": [
              "[15, 40, 50]"
            ]
          },
          "metadata": {},
          "execution_count": 6
        }
      ],
      "source": [
        "del Numbers[1]\n",
        "Numbers"
      ]
    }
  ],
  "metadata": {
    "anaconda-cloud": {},
    "kernelspec": {
      "display_name": "Python 3",
      "language": "python",
      "name": "python3"
    },
    "language_info": {
      "codemirror_mode": {
        "name": "ipython",
        "version": 3
      },
      "file_extension": ".py",
      "mimetype": "text/x-python",
      "name": "python",
      "nbconvert_exporter": "python",
      "pygments_lexer": "ipython3",
      "version": "3.7.3"
    },
    "colab": {
      "provenance": [],
      "include_colab_link": true
    }
  },
  "nbformat": 4,
  "nbformat_minor": 0
}