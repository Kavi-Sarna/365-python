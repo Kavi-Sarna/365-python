{
  "cells": [
    {
      "cell_type": "markdown",
      "metadata": {
        "id": "view-in-github",
        "colab_type": "text"
      },
      "source": [
        "<a href=\"https://colab.research.google.com/github/Kavi-Sarna/365-python/blob/main/2%20-%20Introduction%20to%20Python/6%20-%20Sequences/2%20-%20Using%20Methods%20Exercise.ipynb\" target=\"_parent\"><img src=\"https://colab.research.google.com/assets/colab-badge.svg\" alt=\"Open In Colab\"/></a>"
      ]
    },
    {
      "cell_type": "markdown",
      "metadata": {
        "id": "bvGwCDT8qIL6"
      },
      "source": [
        "## Help Yourself with Methods"
      ]
    },
    {
      "cell_type": "markdown",
      "metadata": {
        "id": "OhyWeV0rqIL-"
      },
      "source": [
        "Append the number 100 to the Numbers list."
      ]
    },
    {
      "cell_type": "code",
      "execution_count": 2,
      "metadata": {
        "collapsed": true,
        "id": "XuVxlIphqIL_"
      },
      "outputs": [],
      "source": [
        "Numbers = [15, 40, 50]"
      ]
    },
    {
      "cell_type": "code",
      "execution_count": 3,
      "metadata": {
        "collapsed": true,
        "colab": {
          "base_uri": "https://localhost:8080/"
        },
        "id": "y5eZ2PvDqIMB",
        "outputId": "b9f04bf1-1288-4e4c-b1c1-3cbbb17f2fd9"
      },
      "outputs": [
        {
          "output_type": "execute_result",
          "data": {
            "text/plain": [
              "[15, 40, 50, 100]"
            ]
          },
          "metadata": {},
          "execution_count": 3
        }
      ],
      "source": [
        "Numbers.append(100)\n",
        "Numbers"
      ]
    },
    {
      "cell_type": "markdown",
      "metadata": {
        "id": "qhscBSIMqIMC"
      },
      "source": [
        "With the help of the \"extend method\", add the numbers 115 an 140 to the list."
      ]
    },
    {
      "cell_type": "code",
      "execution_count": 4,
      "metadata": {
        "collapsed": true,
        "colab": {
          "base_uri": "https://localhost:8080/"
        },
        "id": "oniuoD7ZqIMD",
        "outputId": "9d0416aa-f6e5-451a-d891-49d0525b01e7"
      },
      "outputs": [
        {
          "output_type": "execute_result",
          "data": {
            "text/plain": [
              "[15, 40, 50, 100, 115, 140]"
            ]
          },
          "metadata": {},
          "execution_count": 4
        }
      ],
      "source": [
        "Numbers.extend([115, 140])\n",
        "Numbers"
      ]
    },
    {
      "cell_type": "markdown",
      "metadata": {
        "id": "-giH2-vRqIMD"
      },
      "source": [
        "Print a statement, saying \"The fourth element of the Numbers list is:\" and then designate the value of the fourth element. Use a trailing comma."
      ]
    },
    {
      "cell_type": "code",
      "execution_count": 5,
      "metadata": {
        "collapsed": true,
        "colab": {
          "base_uri": "https://localhost:8080/"
        },
        "id": "nj6V1laaqIME",
        "outputId": "537ce4b8-4a28-4f8f-8f4c-97a2736bae26"
      },
      "outputs": [
        {
          "output_type": "stream",
          "name": "stdout",
          "text": [
            "The fourth element of the Numbers list is:  100\n"
          ]
        }
      ],
      "source": [
        "print('The fourth element of the Numbers list is: ', Numbers[3])"
      ]
    },
    {
      "cell_type": "markdown",
      "metadata": {
        "id": "Oj6Af8H9qIME"
      },
      "source": [
        "How many elements are there in the Numbers list?"
      ]
    },
    {
      "cell_type": "code",
      "execution_count": 6,
      "metadata": {
        "collapsed": true,
        "colab": {
          "base_uri": "https://localhost:8080/"
        },
        "id": "5Eal4PoHqIMF",
        "outputId": "5315f39c-1950-4b16-8cbc-e420b8d330a1"
      },
      "outputs": [
        {
          "output_type": "execute_result",
          "data": {
            "text/plain": [
              "6"
            ]
          },
          "metadata": {},
          "execution_count": 6
        }
      ],
      "source": [
        "len(Numbers)"
      ]
    }
  ],
  "metadata": {
    "anaconda-cloud": {},
    "kernelspec": {
      "display_name": "Python 3",
      "language": "python",
      "name": "python3"
    },
    "language_info": {
      "codemirror_mode": {
        "name": "ipython",
        "version": 3
      },
      "file_extension": ".py",
      "mimetype": "text/x-python",
      "name": "python",
      "nbconvert_exporter": "python",
      "pygments_lexer": "ipython3",
      "version": "3.6.4"
    },
    "colab": {
      "provenance": [],
      "include_colab_link": true
    }
  },
  "nbformat": 4,
  "nbformat_minor": 0
}