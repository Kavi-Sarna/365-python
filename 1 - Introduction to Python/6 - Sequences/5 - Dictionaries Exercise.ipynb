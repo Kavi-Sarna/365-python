{
  "cells": [
    {
      "cell_type": "markdown",
      "metadata": {
        "id": "view-in-github",
        "colab_type": "text"
      },
      "source": [
        "<a href=\"https://colab.research.google.com/github/Kavi-Sarna/365-python/blob/main/2%20-%20Introduction%20to%20Python/6%20-%20Sequences/5%20-%20Dictionaries%20Exercise.ipynb\" target=\"_parent\"><img src=\"https://colab.research.google.com/assets/colab-badge.svg\" alt=\"Open In Colab\"/></a>"
      ]
    },
    {
      "cell_type": "markdown",
      "metadata": {
        "id": "920YcjgGMJP1"
      },
      "source": [
        "## Dictionaries"
      ]
    },
    {
      "cell_type": "markdown",
      "metadata": {
        "id": "2TXyiLr_MJP5"
      },
      "source": [
        "*Suggested Answers follow (usually there are multiple ways to solve a problem in Python).*"
      ]
    },
    {
      "cell_type": "markdown",
      "metadata": {
        "id": "dCoyhm5yMJP6"
      },
      "source": [
        "This is the menu of a close-by restaurant:"
      ]
    },
    {
      "cell_type": "code",
      "execution_count": 6,
      "metadata": {
        "id": "r8xhbJ9IMJP7"
      },
      "outputs": [],
      "source": [
        "Menu = {'meal_1':'Spaghetti', 'meal_2':'Fries', 'meal_3':'Hamburger', 'meal_4':'Lasagna'}"
      ]
    },
    {
      "cell_type": "markdown",
      "metadata": {
        "id": "b85qX6J3MJP9"
      },
      "source": [
        "What is the second meal in the list?"
      ]
    },
    {
      "cell_type": "code",
      "execution_count": 7,
      "metadata": {
        "collapsed": true,
        "colab": {
          "base_uri": "https://localhost:8080/",
          "height": 35
        },
        "id": "G8a5l6ZdMJP9",
        "outputId": "64dbf591-2db7-49dc-8ee5-9d581e94937d"
      },
      "outputs": [
        {
          "output_type": "execute_result",
          "data": {
            "text/plain": [
              "'Fries'"
            ],
            "application/vnd.google.colaboratory.intrinsic+json": {
              "type": "string"
            }
          },
          "metadata": {},
          "execution_count": 7
        }
      ],
      "source": [
        "Menu['meal_2']"
      ]
    },
    {
      "cell_type": "markdown",
      "metadata": {
        "id": "O13rzBDRMJP9"
      },
      "source": [
        "Add a new meal - \"Soup\"."
      ]
    },
    {
      "cell_type": "code",
      "execution_count": 8,
      "metadata": {
        "collapsed": true,
        "colab": {
          "base_uri": "https://localhost:8080/"
        },
        "id": "aV4YjdenMJP-",
        "outputId": "ed012890-fd6d-4f38-8f7d-030cf4e6da05"
      },
      "outputs": [
        {
          "output_type": "execute_result",
          "data": {
            "text/plain": [
              "{'meal_1': 'Spaghetti',\n",
              " 'meal_2': 'Fries',\n",
              " 'meal_3': 'Hamburger',\n",
              " 'meal_4': 'Lasagna',\n",
              " 'meal_5': 'Soup'}"
            ]
          },
          "metadata": {},
          "execution_count": 8
        }
      ],
      "source": [
        "Menu['meal_5'] = 'Soup'\n",
        "Menu"
      ]
    },
    {
      "cell_type": "markdown",
      "metadata": {
        "id": "kVd6YhCgMJP-"
      },
      "source": [
        "Replace the Hamburger with a Cheeseburger."
      ]
    },
    {
      "cell_type": "code",
      "execution_count": 9,
      "metadata": {
        "collapsed": true,
        "colab": {
          "base_uri": "https://localhost:8080/"
        },
        "id": "b8ITzWvMMJP-",
        "outputId": "960fb595-7f29-443f-ac3b-4367ca5998ab"
      },
      "outputs": [
        {
          "output_type": "execute_result",
          "data": {
            "text/plain": [
              "{'meal_1': 'Spaghetti',\n",
              " 'meal_2': 'Fries',\n",
              " 'meal_3': 'Cheeseburger',\n",
              " 'meal_4': 'Lasagna',\n",
              " 'meal_5': 'Soup'}"
            ]
          },
          "metadata": {},
          "execution_count": 9
        }
      ],
      "source": [
        "Menu['meal_3'] = 'Cheeseburger'\n",
        "Menu"
      ]
    },
    {
      "cell_type": "markdown",
      "metadata": {
        "id": "h0hOnAR5MJP_"
      },
      "source": [
        "Attach the Desserts list in the form of a sixth meal."
      ]
    },
    {
      "cell_type": "code",
      "execution_count": 10,
      "metadata": {
        "id": "pQWYyN7WMJP_"
      },
      "outputs": [],
      "source": [
        "Dessert = ['Pancakes', 'Ice-cream', 'Tiramisu']"
      ]
    },
    {
      "cell_type": "code",
      "execution_count": 11,
      "metadata": {
        "collapsed": true,
        "colab": {
          "base_uri": "https://localhost:8080/"
        },
        "id": "P2-LsxdeMJQA",
        "outputId": "cda5c7ce-1eeb-44aa-9f7e-aee4cf6610da"
      },
      "outputs": [
        {
          "output_type": "execute_result",
          "data": {
            "text/plain": [
              "{'meal_1': 'Spaghetti',\n",
              " 'meal_2': 'Fries',\n",
              " 'meal_3': 'Cheeseburger',\n",
              " 'meal_4': 'Lasagna',\n",
              " 'meal_5': 'Soup',\n",
              " 'meal_6': ['Pancakes', 'Ice-cream', 'Tiramisu']}"
            ]
          },
          "metadata": {},
          "execution_count": 11
        }
      ],
      "source": [
        "Menu['meal_6'] = Dessert\n",
        "Menu"
      ]
    },
    {
      "cell_type": "markdown",
      "metadata": {
        "id": "fDXMANYuMJQA"
      },
      "source": [
        "Create a new dictionary that contains the first five meals as keys and assign the following five values as prices (in dollars):\n",
        "10, 5, 8, 12, 5.\n",
        "Start by *Price_list = {}*."
      ]
    },
    {
      "cell_type": "code",
      "execution_count": 12,
      "metadata": {
        "collapsed": true,
        "colab": {
          "base_uri": "https://localhost:8080/"
        },
        "id": "eXj1KhFjMJQB",
        "outputId": "064762c7-5be9-4ab5-ee01-b1b76a88143c"
      },
      "outputs": [
        {
          "output_type": "execute_result",
          "data": {
            "text/plain": [
              "{'Spaghetti': 10, 'Fries': 5, 'Cheeseburger': 8, 'Lasagna': 12, 'Soup': 5}"
            ]
          },
          "metadata": {},
          "execution_count": 12
        }
      ],
      "source": [
        "Price_list = {}\n",
        "Price_list[Menu['meal_1']] = 10\n",
        "Price_list[Menu['meal_2']] = 5\n",
        "Price_list[Menu['meal_3']] = 8\n",
        "Price_list[Menu['meal_4']] = 12\n",
        "Price_list[Menu['meal_5']] = 5\n",
        "Price_list"
      ]
    },
    {
      "cell_type": "markdown",
      "metadata": {
        "id": "nsPQmumvMJQB"
      },
      "source": [
        "Use the *.get()* method to check the price of the Spaghetti."
      ]
    },
    {
      "cell_type": "code",
      "execution_count": 13,
      "metadata": {
        "collapsed": true,
        "colab": {
          "base_uri": "https://localhost:8080/"
        },
        "id": "gv5JgSQpMJQB",
        "outputId": "c0a47bc1-c5d2-436d-ca42-795110887f29"
      },
      "outputs": [
        {
          "output_type": "execute_result",
          "data": {
            "text/plain": [
              "10"
            ]
          },
          "metadata": {},
          "execution_count": 13
        }
      ],
      "source": [
        "Price_list.get('Spaghetti')"
      ]
    }
  ],
  "metadata": {
    "anaconda-cloud": {},
    "kernelspec": {
      "display_name": "Python 3",
      "language": "python",
      "name": "python3"
    },
    "language_info": {
      "codemirror_mode": {
        "name": "ipython",
        "version": 3
      },
      "file_extension": ".py",
      "mimetype": "text/x-python",
      "name": "python",
      "nbconvert_exporter": "python",
      "pygments_lexer": "ipython3",
      "version": "3.7.0"
    },
    "colab": {
      "provenance": [],
      "include_colab_link": true
    }
  },
  "nbformat": 4,
  "nbformat_minor": 0
}